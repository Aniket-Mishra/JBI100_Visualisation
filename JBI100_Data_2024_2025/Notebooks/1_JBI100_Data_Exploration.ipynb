{
 "cells": [
  {
   "cell_type": "markdown",
   "metadata": {},
   "source": [
    "# JBI100 Visualization\n",
    "\n",
    "### Academic year 2024-2025\n",
    "\n",
    "## Incidents and Accidents\n",
    "\n",
    "Data sources:\n",
    "\n",
    "- Australian Shark Incidents (https://github.com/cjabradshaw/AustralianSharkIncidentDatabase)\n",
    "- Railroad Incidents (https://data.transportation.gov/Railroads/Railroad-Equipment-Accident-Incident-Source-Data-F/aqxq-n5hy/about_data)\n",
    "- Work-related Injury and Illness (https://www.osha.gov/Establishment-Specific-Injury-and-Illness-Data)\n",
    "\n",
    "Data dictionaries and additional info can be found in the respective data folders.\n",
    "Note: you only need to select one dataset for your project.\n"
   ]
  },
  {
   "cell_type": "markdown",
   "metadata": {},
   "source": [
    "# Using the initial imports as base\n"
   ]
  },
  {
   "cell_type": "code",
   "execution_count": null,
   "metadata": {},
   "outputs": [],
   "source": [
    "# Import libraries\n",
    "import pandas as pd\n",
    "import plotly.express as px\n",
    "import matplotlib.pyplot as plt\n",
    "import numpy as np\n",
    "from PIL import Image\n",
    "import os\n",
    "\n",
    "# Do not truncate tables\n",
    "# pd.set_option(\"display.max_columns\", None)\n",
    "\n",
    "# If you receive a 'ModuleNotFoundError' please install the according library.\n",
    "# This can be done from within the Jupyter environment with the command\n",
    "#'!python3 -m pip install lib' where lib is the according library name."
   ]
  },
  {
   "cell_type": "code",
   "execution_count": null,
   "metadata": {},
   "outputs": [],
   "source": [
    "%matplotlib inline"
   ]
  },
  {
   "cell_type": "code",
   "execution_count": null,
   "metadata": {},
   "outputs": [],
   "source": [
    "import plotly.io as pio\n",
    "\n",
    "pio.renderers.default = \"browser\""
   ]
  },
  {
   "cell_type": "code",
   "execution_count": null,
   "metadata": {},
   "outputs": [],
   "source": [
    "# Australian Shark Incidents Data\n",
    "# df_shark = pd.read_excel(\n",
    "#     \"../Australian Shark Incidents/Australian Shark-Incident Database Public Version.xlsx\",\n",
    "#     index_col=0,\n",
    "# )\n",
    "\n",
    "# # Railroad Incidents\n",
    "# df_railroad = pd.read_csv('../Railroad Incidents/Railroad_Equipment_Accident_Incident_Source_Data__Form_54__20241026.csv', delimiter=',', low_memory=False)\n",
    "\n",
    "# # Work-related Injury and Illness\n",
    "df = pd.read_csv(\n",
    "    \"../Work-related Injury and Illness/ITA Case Detail Data 2023 through 8-31-2023.csv\",\n",
    "    delimiter=\",\",\n",
    "    low_memory=False,\n",
    ")"
   ]
  },
  {
   "cell_type": "markdown",
   "metadata": {},
   "source": [
    "## Explore Shark Data\n"
   ]
  },
  {
   "cell_type": "code",
   "execution_count": null,
   "metadata": {},
   "outputs": [],
   "source": [
    "df.shape"
   ]
  },
  {
   "cell_type": "code",
   "execution_count": null,
   "metadata": {},
   "outputs": [],
   "source": [
    "df.sample(5)"
   ]
  },
  {
   "cell_type": "code",
   "execution_count": null,
   "metadata": {},
   "outputs": [],
   "source": [
    "df[\"date_of_incident\"].isna().sum()"
   ]
  },
  {
   "cell_type": "code",
   "execution_count": null,
   "metadata": {},
   "outputs": [],
   "source": [
    "df.describe().T"
   ]
  },
  {
   "cell_type": "code",
   "execution_count": null,
   "metadata": {},
   "outputs": [],
   "source": [
    "df.info(memory_usage=\"deep\")"
   ]
  },
  {
   "cell_type": "code",
   "execution_count": null,
   "metadata": {},
   "outputs": [],
   "source": [
    "fig = px.histogram(\n",
    "    df, x=\"incident_outcome\", color=\"type_of_incident\", width=1000, height=800\n",
    ")\n",
    "fig.show()"
   ]
  },
  {
   "cell_type": "code",
   "execution_count": null,
   "metadata": {},
   "outputs": [],
   "source": [
    "df[\"date_of_incident\"] = pd.to_datetime(df[\"date_of_incident\"], errors=\"coerce\")"
   ]
  },
  {
   "cell_type": "code",
   "execution_count": null,
   "metadata": {},
   "outputs": [],
   "source": [
    "fig1 = px.bar(\n",
    "    df,\n",
    "    x=\"incident_outcome\",\n",
    "    title=\"Distribution of Incident Outcomes\",\n",
    "    labels={\"incident_outcome\": \"Incident Outcome\"},\n",
    ")\n",
    "fig1.show()"
   ]
  },
  {
   "cell_type": "code",
   "execution_count": null,
   "metadata": {},
   "outputs": [],
   "source": [
    "fig2 = px.line(\n",
    "    df,\n",
    "    x=\"date_of_incident\",\n",
    "    y=df.groupby(\"date_of_incident\")[\"case_number\"].transform(\"count\"),\n",
    "    title=\"Incidents Over Time\",\n",
    "    labels={\"x\": \"Date of Incident\", \"y\": \"Number of Incidents\"},\n",
    ")\n",
    "fig2.show()"
   ]
  },
  {
   "cell_type": "code",
   "execution_count": null,
   "metadata": {},
   "outputs": [],
   "source": [
    "df[\"incident_count\"] = df.groupby(\"total_hours_worked\")[\"case_number\"].transform(\n",
    "    \"count\"\n",
    ")\n",
    "fig3 = px.scatter(\n",
    "    df,\n",
    "    x=\"total_hours_worked\",\n",
    "    y=\"incident_count\",\n",
    "    title=\"Total Hours Worked vs Number of Incidents\",\n",
    "    labels={\n",
    "        \"total_hours_worked\": \"Total Hours Worked\",\n",
    "        \"incident_count\": \"Number of Incidents\",\n",
    "    },\n",
    ")\n",
    "fig3.show()"
   ]
  },
  {
   "cell_type": "code",
   "execution_count": null,
   "metadata": {},
   "outputs": [],
   "source": [
    "fig4 = px.bar(\n",
    "    df,\n",
    "    x=\"soc_description\",\n",
    "    title=\"Distribution of Job Roles Involved in Incidents\",\n",
    "    labels={\"soc_description\": \"Job Role\", \"count\": \"Count of Incidents\"},\n",
    ")\n",
    "fig4.show()"
   ]
  },
  {
   "cell_type": "code",
   "execution_count": null,
   "metadata": {},
   "outputs": [],
   "source": [
    "fig5 = px.box(\n",
    "    df,\n",
    "    x=\"soc_description\",\n",
    "    y=\"soc_probability\",\n",
    "    title=\"Probability of SOC Review by Job Role\",\n",
    "    labels={\"soc_description\": \"Job Role\", \"soc_probability\": \"SOC Probability\"},\n",
    ")\n",
    "fig5.show()"
   ]
  },
  {
   "cell_type": "code",
   "execution_count": null,
   "metadata": {},
   "outputs": [],
   "source": [
    "df[\"incident_count_est\"] = df.groupby(\"establishment_name\")[\"case_number\"].transform(\n",
    "    \"count\"\n",
    ")\n",
    "fig6 = px.bar(\n",
    "    df,\n",
    "    x=\"establishment_name\",\n",
    "    y=\"incident_count_est\",\n",
    "    title=\"Number of Incidents per Establishment\",\n",
    "    labels={\n",
    "        \"establishment_name\": \"Establishment Name\",\n",
    "        \"incident_count_est\": \"Number of Incidents\",\n",
    "    },\n",
    ")\n",
    "fig6.show()"
   ]
  },
  {
   "cell_type": "code",
   "execution_count": null,
   "metadata": {},
   "outputs": [],
   "source": [
    "fig7 = px.pie(\n",
    "    df,\n",
    "    values=\"case_number\",\n",
    "    names=\"industry_description\",\n",
    "    title=\"Incident Counts by Industry\",\n",
    "    labels={\"industry_description\": \"Industry\", \"case_number\": \"Number of Incidents\"},\n",
    ")\n",
    "fig7.show()"
   ]
  },
  {
   "cell_type": "code",
   "execution_count": null,
   "metadata": {},
   "outputs": [],
   "source": [
    "fig8 = px.histogram(\n",
    "    df,\n",
    "    x=\"time_of_incident\",\n",
    "    title=\"Time of Incident Analysis\",\n",
    "    labels={\"time_of_incident\": \"Time of Incident\", \"count\": \"Number of Incidents\"},\n",
    ")\n",
    "fig8.show()"
   ]
  },
  {
   "cell_type": "code",
   "execution_count": null,
   "metadata": {},
   "outputs": [],
   "source": [
    "df[\"incident_count_role\"] = df.groupby(\"annual_average_employees\")[\n",
    "    \"case_number\"\n",
    "].transform(\"count\")\n",
    "fig9 = px.scatter(\n",
    "    df,\n",
    "    x=\"annual_average_employees\",\n",
    "    y=\"incident_count_role\",\n",
    "    size=\"total_hours_worked\",\n",
    "    title=\"Annual Average Employees vs Incident Count\",\n",
    "    labels={\n",
    "        \"annual_average_employees\": \"Annual Avg Employees\",\n",
    "        \"incident_count_role\": \"Number of Incidents\",\n",
    "    },\n",
    ")\n",
    "fig9.show()"
   ]
  },
  {
   "cell_type": "code",
   "execution_count": null,
   "metadata": {},
   "outputs": [],
   "source": [
    "fig10 = px.bar(\n",
    "    df,\n",
    "    x=\"soc_description\",\n",
    "    y=\"case_number\",\n",
    "    color=\"incident_outcome\",\n",
    "    barmode=\"stack\",\n",
    "    title=\"Incident Outcome Breakdown by Job Role\",\n",
    "    labels={\n",
    "        \"soc_description\": \"Job Role\",\n",
    "        \"case_number\": \"Number of Incidents\",\n",
    "        \"incident_outcome\": \"Outcome\",\n",
    "    },\n",
    ")\n",
    "fig10.show()"
   ]
  },
  {
   "cell_type": "code",
   "execution_count": null,
   "metadata": {},
   "outputs": [],
   "source": []
  },
  {
   "cell_type": "code",
   "execution_count": null,
   "metadata": {},
   "outputs": [],
   "source": []
  },
  {
   "cell_type": "code",
   "execution_count": null,
   "metadata": {},
   "outputs": [],
   "source": []
  },
  {
   "cell_type": "code",
   "execution_count": null,
   "metadata": {},
   "outputs": [],
   "source": []
  },
  {
   "cell_type": "markdown",
   "metadata": {},
   "source": [
    "# End here\n"
   ]
  },
  {
   "cell_type": "code",
   "execution_count": null,
   "metadata": {},
   "outputs": [],
   "source": [
    "# fig = px.scatter(df_work, x=\"Incident.year\", y=\"Victim.age\", width=1000, height=800)\n",
    "# fig.show()"
   ]
  },
  {
   "cell_type": "markdown",
   "metadata": {},
   "source": [
    "## Explore Railroad Incident data\n"
   ]
  },
  {
   "cell_type": "code",
   "execution_count": null,
   "metadata": {},
   "outputs": [],
   "source": [
    "# df_railroad.sample(5)"
   ]
  },
  {
   "cell_type": "code",
   "execution_count": null,
   "metadata": {},
   "outputs": [],
   "source": [
    "# df_railroad.describe()"
   ]
  },
  {
   "cell_type": "code",
   "execution_count": null,
   "metadata": {},
   "outputs": [],
   "source": [
    "# # Years are missing the centuries, so add them\n",
    "# df_railroad['corrected_year'] = np.where(df_railroad['YEAR'] > 24.0, 1900+df_railroad['YEAR'], 2000+df_railroad['YEAR'])\n",
    "\n",
    "# fig = px.histogram(df_railroad, x=\"corrected_year\",\n",
    "#                  width=1000, height=800)\n",
    "# fig.show()"
   ]
  },
  {
   "cell_type": "markdown",
   "metadata": {},
   "source": [
    "## Explore Work-related Injury and Illness data\n"
   ]
  },
  {
   "cell_type": "code",
   "execution_count": null,
   "metadata": {},
   "outputs": [],
   "source": [
    "# df_work.sample(5)"
   ]
  },
  {
   "cell_type": "code",
   "execution_count": null,
   "metadata": {},
   "outputs": [],
   "source": [
    "# df_work.describe()"
   ]
  },
  {
   "cell_type": "code",
   "execution_count": null,
   "metadata": {},
   "outputs": [],
   "source": [
    "# fig = px.histogram(df_work, x=\"incident_outcome\",\n",
    "#                  color=\"type_of_incident\",\n",
    "#                  width=1000, height=800)\n",
    "# fig.show()"
   ]
  }
 ],
 "metadata": {
  "kernelspec": {
   "display_name": "tue_pyenv_311",
   "language": "python",
   "name": "python3"
  },
  "language_info": {
   "codemirror_mode": {
    "name": "ipython",
    "version": 3
   },
   "file_extension": ".py",
   "mimetype": "text/x-python",
   "name": "python",
   "nbconvert_exporter": "python",
   "pygments_lexer": "ipython3",
   "version": "3.11.9"
  }
 },
 "nbformat": 4,
 "nbformat_minor": 4
}
