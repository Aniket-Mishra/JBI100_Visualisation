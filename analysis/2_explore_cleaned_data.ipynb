{
 "cells": [
  {
   "cell_type": "code",
   "execution_count": 1,
   "metadata": {},
   "outputs": [],
   "source": [
    "import numpy as np\n",
    "import pandas as pd\n",
    "import matplotlib.pyplot as plt\n",
    "import plotly.express as px\n",
    "import plotly.graph_objects as go\n",
    "\n",
    "from plotly.subplots import make_subplots\n",
    "import re"
   ]
  },
  {
   "cell_type": "code",
   "execution_count": 2,
   "metadata": {},
   "outputs": [],
   "source": [
    "pd.set_option(\"display.max_columns\", None)\n",
    "pd.set_option(\"display.width\", None)\n",
    "pd.set_option(\"display.max_colwidth\", None)"
   ]
  },
  {
   "cell_type": "code",
   "execution_count": 3,
   "metadata": {},
   "outputs": [
    {
     "data": {
      "text/html": [
       "<div>\n",
       "<style scoped>\n",
       "    .dataframe tbody tr th:only-of-type {\n",
       "        vertical-align: middle;\n",
       "    }\n",
       "\n",
       "    .dataframe tbody tr th {\n",
       "        vertical-align: top;\n",
       "    }\n",
       "\n",
       "    .dataframe thead th {\n",
       "        text-align: right;\n",
       "    }\n",
       "</style>\n",
       "<table border=\"1\" class=\"dataframe\">\n",
       "  <thead>\n",
       "    <tr style=\"text-align: right;\">\n",
       "      <th></th>\n",
       "      <th>incident_month</th>\n",
       "      <th>incident_year</th>\n",
       "      <th>injury_severity</th>\n",
       "      <th>latitude</th>\n",
       "      <th>longitude</th>\n",
       "      <th>month_year</th>\n",
       "      <th>shark_behaviour_generic</th>\n",
       "      <th>shark_behaviour_specific</th>\n",
       "      <th>site_category_cleaned</th>\n",
       "      <th>state_names</th>\n",
       "      <th>victim_injury</th>\n",
       "      <th>location</th>\n",
       "      <th>provoked_unprovoked</th>\n",
       "      <th>victim_gender</th>\n",
       "      <th>victim_activity</th>\n",
       "      <th>shark_common_name</th>\n",
       "      <th>shark_scientific_name</th>\n",
       "      <th>no_sharks</th>\n",
       "      <th>reference</th>\n",
       "      <th>injury_location</th>\n",
       "      <th>data_source</th>\n",
       "      <th>shark_identification_method</th>\n",
       "      <th>shark_behaviour</th>\n",
       "      <th>victim_age</th>\n",
       "    </tr>\n",
       "  </thead>\n",
       "  <tbody>\n",
       "    <tr>\n",
       "      <th>0</th>\n",
       "      <td>1</td>\n",
       "      <td>1791</td>\n",
       "      <td>major_lacerations</td>\n",
       "      <td>-33.86666666666667</td>\n",
       "      <td>151.2</td>\n",
       "      <td>1791-01-01</td>\n",
       "      <td>unknown</td>\n",
       "      <td>unknown</td>\n",
       "      <td>coastal</td>\n",
       "      <td>New South Wales</td>\n",
       "      <td>fatal</td>\n",
       "      <td>near sydney</td>\n",
       "      <td>unprovoked</td>\n",
       "      <td>female</td>\n",
       "      <td>swimming</td>\n",
       "      <td>white shark</td>\n",
       "      <td>Carcharodon carcharias</td>\n",
       "      <td>NaN</td>\n",
       "      <td>shark&amp;survl, whitley 1958, book ref 1793</td>\n",
       "      <td>torso</td>\n",
       "      <td>book</td>\n",
       "      <td>bite analysis, shark behaviour, geographical location</td>\n",
       "      <td>unknown</td>\n",
       "      <td>NaN</td>\n",
       "    </tr>\n",
       "    <tr>\n",
       "      <th>1</th>\n",
       "      <td>3</td>\n",
       "      <td>1803</td>\n",
       "      <td>NaN</td>\n",
       "      <td>-25.833333333333332</td>\n",
       "      <td>113.88333333333334</td>\n",
       "      <td>1803-03-01</td>\n",
       "      <td>swam_at_victim</td>\n",
       "      <td>swam_at_victim</td>\n",
       "      <td>coastal</td>\n",
       "      <td>Western Australia</td>\n",
       "      <td>injured</td>\n",
       "      <td>hamelin bay, faure island</td>\n",
       "      <td>unprovoked</td>\n",
       "      <td>male</td>\n",
       "      <td>swimming</td>\n",
       "      <td>tiger shark</td>\n",
       "      <td>Galeocerdo cuvier</td>\n",
       "      <td>1.0</td>\n",
       "      <td>balgridge,green,taylor,whitley 1940</td>\n",
       "      <td>unknown</td>\n",
       "      <td>book</td>\n",
       "      <td>bite analysis, shark behaviour, geographical location</td>\n",
       "      <td>swam at victim</td>\n",
       "      <td>NaN</td>\n",
       "    </tr>\n",
       "  </tbody>\n",
       "</table>\n",
       "</div>"
      ],
      "text/plain": [
       "   incident_month  incident_year    injury_severity             latitude  \\\n",
       "0               1           1791  major_lacerations   -33.86666666666667   \n",
       "1               3           1803                NaN  -25.833333333333332   \n",
       "\n",
       "            longitude  month_year shark_behaviour_generic  \\\n",
       "0               151.2  1791-01-01                 unknown   \n",
       "1  113.88333333333334  1803-03-01          swam_at_victim   \n",
       "\n",
       "  shark_behaviour_specific site_category_cleaned        state_names  \\\n",
       "0                  unknown               coastal    New South Wales   \n",
       "1           swam_at_victim               coastal  Western Australia   \n",
       "\n",
       "  victim_injury                   location provoked_unprovoked victim_gender  \\\n",
       "0         fatal                near sydney          unprovoked        female   \n",
       "1       injured  hamelin bay, faure island          unprovoked          male   \n",
       "\n",
       "  victim_activity shark_common_name    shark_scientific_name  no_sharks  \\\n",
       "0        swimming       white shark  Carcharodon carcharias         NaN   \n",
       "1        swimming       tiger shark       Galeocerdo cuvier         1.0   \n",
       "\n",
       "                                  reference injury_location data_source  \\\n",
       "0  shark&survl, whitley 1958, book ref 1793           torso        book   \n",
       "1       balgridge,green,taylor,whitley 1940         unknown        book   \n",
       "\n",
       "                             shark_identification_method shark_behaviour  \\\n",
       "0  bite analysis, shark behaviour, geographical location         unknown   \n",
       "1  bite analysis, shark behaviour, geographical location  swam at victim   \n",
       "\n",
       "   victim_age  \n",
       "0         NaN  \n",
       "1         NaN  "
      ]
     },
     "execution_count": 3,
     "metadata": {},
     "output_type": "execute_result"
    }
   ],
   "source": [
    "df = pd.read_csv(\n",
    "    \"/Users/paniket/TU_Eindhoven/2_Study/Q2_JBI100_Visualisation_4/4_Code/JBI100_Visualisation/data/filtered_cleaned_shark_data.csv\"\n",
    ")\n",
    "df.head(2)"
   ]
  },
  {
   "cell_type": "code",
   "execution_count": 4,
   "metadata": {},
   "outputs": [],
   "source": [
    "# df[\"victim_injury\"].unique()"
   ]
  },
  {
   "cell_type": "code",
   "execution_count": 5,
   "metadata": {},
   "outputs": [],
   "source": [
    "# df.loc[df[\"victim_injury\"]==\"uninjured\"]"
   ]
  },
  {
   "cell_type": "code",
   "execution_count": 6,
   "metadata": {},
   "outputs": [],
   "source": [
    "shark_data = df.copy()"
   ]
  },
  {
   "cell_type": "code",
   "execution_count": 7,
   "metadata": {},
   "outputs": [],
   "source": [
    "# df.columns"
   ]
  },
  {
   "cell_type": "code",
   "execution_count": 8,
   "metadata": {},
   "outputs": [],
   "source": [
    "# df"
   ]
  },
  {
   "cell_type": "code",
   "execution_count": 9,
   "metadata": {},
   "outputs": [],
   "source": [
    "# shark_attacks_over_time = (\n",
    "#     shark_data.groupby(\"incident_year\").size().reset_index(name=\"attack_count\")\n",
    "# )\n",
    "\n",
    "# fig = go.Figure()\n",
    "\n",
    "# fig.add_trace(\n",
    "#     go.Scatter(\n",
    "#         x=shark_attacks_over_time[\"incident_year\"],\n",
    "#         y=shark_attacks_over_time[\"attack_count\"],\n",
    "#         mode=\"lines\",\n",
    "#         line=dict(color=\"#00796b\", width=2),\n",
    "#         name=\"Shark Attacks\",\n",
    "#     )\n",
    "# )\n",
    "\n",
    "# fig.update_layout(\n",
    "#     title=\"Shark Attacks Over Time (Years)\",\n",
    "#     xaxis_title=\"Year\",\n",
    "#     yaxis_title=\"Number of Attacks\",\n",
    "#     font=dict(color=\"#00796b\", size=12),\n",
    "#     plot_bgcolor=\"rgba(0,0,0,0)\",\n",
    "#     paper_bgcolor=\"rgba(0,0,0,0)\",\n",
    "#     xaxis=dict(showgrid=False),\n",
    "#     yaxis=dict(showgrid=False),\n",
    "# )\n",
    "\n",
    "# # Show the graph\n",
    "# fig.show()"
   ]
  },
  {
   "cell_type": "code",
   "execution_count": 10,
   "metadata": {},
   "outputs": [],
   "source": [
    "# shark_attacks_by_injury = (\n",
    "#     shark_data.groupby([\"incident_year\", \"victim_injury\"]).size().reset_index(name=\"attack_count\")\n",
    "# )\n",
    "\n",
    "# # Initialize a new figure for multiple lines\n",
    "# fig = go.Figure()\n",
    "\n",
    "# # Define colors for each injury type\n",
    "# injury_colors = {\n",
    "#     \"fatal\": \"#8d6e63\",\n",
    "#     \"injured\": \"#5c6bc0\",\n",
    "#     \"uninjured\": \"#26a69a\",\n",
    "#     \"unknown\": \"#455a64\",\n",
    "# }\n",
    "\n",
    "# # Add a line for each victim_injury type\n",
    "# for injury_type, color in injury_colors.items():\n",
    "#     filtered_data = shark_attacks_by_injury[shark_attacks_by_injury[\"victim_injury\"] == injury_type]\n",
    "#     fig.add_trace(\n",
    "#         go.Scatter(\n",
    "#             x=filtered_data[\"incident_year\"],\n",
    "#             y=filtered_data[\"attack_count\"],\n",
    "#             mode=\"lines\",\n",
    "#             line=dict(color=color, width=2),\n",
    "#             name=injury_type.capitalize(),\n",
    "#         )\n",
    "#     )\n",
    "\n",
    "# # Update layout for aesthetics\n",
    "# fig.update_layout(\n",
    "#     title=\"Shark Attacks Over Time by Type of Injury\",\n",
    "#     xaxis_title=\"Year\",\n",
    "#     yaxis_title=\"Number of Attacks\",\n",
    "#     font=dict(color=\"#00796b\", size=12),\n",
    "#     plot_bgcolor=\"rgba(0,0,0,0)\",\n",
    "#     paper_bgcolor=\"rgba(0,0,0,0)\",\n",
    "#     xaxis=dict(showgrid=False),\n",
    "#     yaxis=dict(showgrid=False),\n",
    "#     legend_title=\"Type of Injury\",\n",
    "# )\n",
    "\n",
    "# # Show the graph\n",
    "# fig.show()"
   ]
  },
  {
   "cell_type": "code",
   "execution_count": 11,
   "metadata": {},
   "outputs": [
    {
     "data": {
      "application/vnd.plotly.v1+json": {
       "config": {
        "plotlyServerURL": "https://plot.ly"
       },
       "data": [
        {
         "marker": {
          "color": "#ab47bc"
         },
         "name": "Fatal",
         "type": "bar",
         "x": [
          "January",
          "February",
          "March",
          "April",
          "May",
          "June",
          "July",
          "August",
          "September",
          "October",
          "November",
          "December"
         ],
         "xaxis": "x",
         "y": [
          49,
          25,
          21,
          17,
          10,
          13,
          12,
          13,
          15,
          13,
          28,
          39
         ],
         "yaxis": "y"
        },
        {
         "marker": {
          "color": "#7e57c2"
         },
         "name": "Injured",
         "type": "bar",
         "x": [
          "January",
          "February",
          "March",
          "April",
          "May",
          "June",
          "July",
          "August",
          "September",
          "October",
          "November",
          "December"
         ],
         "xaxis": "x2",
         "y": [
          140,
          84,
          79,
          57,
          32,
          28,
          29,
          25,
          32,
          64,
          79,
          99
         ],
         "yaxis": "y2"
        },
        {
         "marker": {
          "color": "#26a69a"
         },
         "name": "Uninjured",
         "type": "bar",
         "x": [
          "January",
          "February",
          "March",
          "April",
          "May",
          "June",
          "July",
          "August",
          "September",
          "October",
          "November",
          "December"
         ],
         "xaxis": "x3",
         "y": [
          39,
          38,
          22,
          17,
          9,
          17,
          15,
          9,
          14,
          16,
          11,
          22
         ],
         "yaxis": "y3"
        },
        {
         "marker": {
          "color": "#8d6e63"
         },
         "name": "Unknown",
         "type": "bar",
         "x": [
          "January",
          "February",
          "March",
          "April",
          "May",
          "June",
          "July",
          "August",
          "September",
          "October",
          "November",
          "December"
         ],
         "xaxis": "x4",
         "y": [
          0,
          0,
          0,
          1,
          0,
          0,
          0,
          0,
          0,
          0,
          0,
          0
         ],
         "yaxis": "y4"
        }
       ],
       "layout": {
        "annotations": [
         {
          "font": {
           "size": 16
          },
          "showarrow": false,
          "text": "Fatal Incidents",
          "x": 0.225,
          "xanchor": "center",
          "xref": "paper",
          "y": 1,
          "yanchor": "bottom",
          "yref": "paper"
         },
         {
          "font": {
           "size": 16
          },
          "showarrow": false,
          "text": "Injured Incidents",
          "x": 0.775,
          "xanchor": "center",
          "xref": "paper",
          "y": 1,
          "yanchor": "bottom",
          "yref": "paper"
         },
         {
          "font": {
           "size": 16
          },
          "showarrow": false,
          "text": "Uninjured Incidents",
          "x": 0.225,
          "xanchor": "center",
          "xref": "paper",
          "y": 0.375,
          "yanchor": "bottom",
          "yref": "paper"
         },
         {
          "font": {
           "size": 16
          },
          "showarrow": false,
          "text": "Unknown Incidents",
          "x": 0.775,
          "xanchor": "center",
          "xref": "paper",
          "y": 0.375,
          "yanchor": "bottom",
          "yref": "paper"
         }
        ],
        "font": {
         "color": "#00796b",
         "size": 14
        },
        "height": 900,
        "paper_bgcolor": "rgba(0,0,0,0)",
        "plot_bgcolor": "rgba(0,0,0,0)",
        "showlegend": false,
        "template": {
         "data": {
          "bar": [
           {
            "error_x": {
             "color": "#2a3f5f"
            },
            "error_y": {
             "color": "#2a3f5f"
            },
            "marker": {
             "line": {
              "color": "#E5ECF6",
              "width": 0.5
             },
             "pattern": {
              "fillmode": "overlay",
              "size": 10,
              "solidity": 0.2
             }
            },
            "type": "bar"
           }
          ],
          "barpolar": [
           {
            "marker": {
             "line": {
              "color": "#E5ECF6",
              "width": 0.5
             },
             "pattern": {
              "fillmode": "overlay",
              "size": 10,
              "solidity": 0.2
             }
            },
            "type": "barpolar"
           }
          ],
          "carpet": [
           {
            "aaxis": {
             "endlinecolor": "#2a3f5f",
             "gridcolor": "white",
             "linecolor": "white",
             "minorgridcolor": "white",
             "startlinecolor": "#2a3f5f"
            },
            "baxis": {
             "endlinecolor": "#2a3f5f",
             "gridcolor": "white",
             "linecolor": "white",
             "minorgridcolor": "white",
             "startlinecolor": "#2a3f5f"
            },
            "type": "carpet"
           }
          ],
          "choropleth": [
           {
            "colorbar": {
             "outlinewidth": 0,
             "ticks": ""
            },
            "type": "choropleth"
           }
          ],
          "contour": [
           {
            "colorbar": {
             "outlinewidth": 0,
             "ticks": ""
            },
            "colorscale": [
             [
              0,
              "#0d0887"
             ],
             [
              0.1111111111111111,
              "#46039f"
             ],
             [
              0.2222222222222222,
              "#7201a8"
             ],
             [
              0.3333333333333333,
              "#9c179e"
             ],
             [
              0.4444444444444444,
              "#bd3786"
             ],
             [
              0.5555555555555556,
              "#d8576b"
             ],
             [
              0.6666666666666666,
              "#ed7953"
             ],
             [
              0.7777777777777778,
              "#fb9f3a"
             ],
             [
              0.8888888888888888,
              "#fdca26"
             ],
             [
              1,
              "#f0f921"
             ]
            ],
            "type": "contour"
           }
          ],
          "contourcarpet": [
           {
            "colorbar": {
             "outlinewidth": 0,
             "ticks": ""
            },
            "type": "contourcarpet"
           }
          ],
          "heatmap": [
           {
            "colorbar": {
             "outlinewidth": 0,
             "ticks": ""
            },
            "colorscale": [
             [
              0,
              "#0d0887"
             ],
             [
              0.1111111111111111,
              "#46039f"
             ],
             [
              0.2222222222222222,
              "#7201a8"
             ],
             [
              0.3333333333333333,
              "#9c179e"
             ],
             [
              0.4444444444444444,
              "#bd3786"
             ],
             [
              0.5555555555555556,
              "#d8576b"
             ],
             [
              0.6666666666666666,
              "#ed7953"
             ],
             [
              0.7777777777777778,
              "#fb9f3a"
             ],
             [
              0.8888888888888888,
              "#fdca26"
             ],
             [
              1,
              "#f0f921"
             ]
            ],
            "type": "heatmap"
           }
          ],
          "heatmapgl": [
           {
            "colorbar": {
             "outlinewidth": 0,
             "ticks": ""
            },
            "colorscale": [
             [
              0,
              "#0d0887"
             ],
             [
              0.1111111111111111,
              "#46039f"
             ],
             [
              0.2222222222222222,
              "#7201a8"
             ],
             [
              0.3333333333333333,
              "#9c179e"
             ],
             [
              0.4444444444444444,
              "#bd3786"
             ],
             [
              0.5555555555555556,
              "#d8576b"
             ],
             [
              0.6666666666666666,
              "#ed7953"
             ],
             [
              0.7777777777777778,
              "#fb9f3a"
             ],
             [
              0.8888888888888888,
              "#fdca26"
             ],
             [
              1,
              "#f0f921"
             ]
            ],
            "type": "heatmapgl"
           }
          ],
          "histogram": [
           {
            "marker": {
             "pattern": {
              "fillmode": "overlay",
              "size": 10,
              "solidity": 0.2
             }
            },
            "type": "histogram"
           }
          ],
          "histogram2d": [
           {
            "colorbar": {
             "outlinewidth": 0,
             "ticks": ""
            },
            "colorscale": [
             [
              0,
              "#0d0887"
             ],
             [
              0.1111111111111111,
              "#46039f"
             ],
             [
              0.2222222222222222,
              "#7201a8"
             ],
             [
              0.3333333333333333,
              "#9c179e"
             ],
             [
              0.4444444444444444,
              "#bd3786"
             ],
             [
              0.5555555555555556,
              "#d8576b"
             ],
             [
              0.6666666666666666,
              "#ed7953"
             ],
             [
              0.7777777777777778,
              "#fb9f3a"
             ],
             [
              0.8888888888888888,
              "#fdca26"
             ],
             [
              1,
              "#f0f921"
             ]
            ],
            "type": "histogram2d"
           }
          ],
          "histogram2dcontour": [
           {
            "colorbar": {
             "outlinewidth": 0,
             "ticks": ""
            },
            "colorscale": [
             [
              0,
              "#0d0887"
             ],
             [
              0.1111111111111111,
              "#46039f"
             ],
             [
              0.2222222222222222,
              "#7201a8"
             ],
             [
              0.3333333333333333,
              "#9c179e"
             ],
             [
              0.4444444444444444,
              "#bd3786"
             ],
             [
              0.5555555555555556,
              "#d8576b"
             ],
             [
              0.6666666666666666,
              "#ed7953"
             ],
             [
              0.7777777777777778,
              "#fb9f3a"
             ],
             [
              0.8888888888888888,
              "#fdca26"
             ],
             [
              1,
              "#f0f921"
             ]
            ],
            "type": "histogram2dcontour"
           }
          ],
          "mesh3d": [
           {
            "colorbar": {
             "outlinewidth": 0,
             "ticks": ""
            },
            "type": "mesh3d"
           }
          ],
          "parcoords": [
           {
            "line": {
             "colorbar": {
              "outlinewidth": 0,
              "ticks": ""
             }
            },
            "type": "parcoords"
           }
          ],
          "pie": [
           {
            "automargin": true,
            "type": "pie"
           }
          ],
          "scatter": [
           {
            "fillpattern": {
             "fillmode": "overlay",
             "size": 10,
             "solidity": 0.2
            },
            "type": "scatter"
           }
          ],
          "scatter3d": [
           {
            "line": {
             "colorbar": {
              "outlinewidth": 0,
              "ticks": ""
             }
            },
            "marker": {
             "colorbar": {
              "outlinewidth": 0,
              "ticks": ""
             }
            },
            "type": "scatter3d"
           }
          ],
          "scattercarpet": [
           {
            "marker": {
             "colorbar": {
              "outlinewidth": 0,
              "ticks": ""
             }
            },
            "type": "scattercarpet"
           }
          ],
          "scattergeo": [
           {
            "marker": {
             "colorbar": {
              "outlinewidth": 0,
              "ticks": ""
             }
            },
            "type": "scattergeo"
           }
          ],
          "scattergl": [
           {
            "marker": {
             "colorbar": {
              "outlinewidth": 0,
              "ticks": ""
             }
            },
            "type": "scattergl"
           }
          ],
          "scattermapbox": [
           {
            "marker": {
             "colorbar": {
              "outlinewidth": 0,
              "ticks": ""
             }
            },
            "type": "scattermapbox"
           }
          ],
          "scatterpolar": [
           {
            "marker": {
             "colorbar": {
              "outlinewidth": 0,
              "ticks": ""
             }
            },
            "type": "scatterpolar"
           }
          ],
          "scatterpolargl": [
           {
            "marker": {
             "colorbar": {
              "outlinewidth": 0,
              "ticks": ""
             }
            },
            "type": "scatterpolargl"
           }
          ],
          "scatterternary": [
           {
            "marker": {
             "colorbar": {
              "outlinewidth": 0,
              "ticks": ""
             }
            },
            "type": "scatterternary"
           }
          ],
          "surface": [
           {
            "colorbar": {
             "outlinewidth": 0,
             "ticks": ""
            },
            "colorscale": [
             [
              0,
              "#0d0887"
             ],
             [
              0.1111111111111111,
              "#46039f"
             ],
             [
              0.2222222222222222,
              "#7201a8"
             ],
             [
              0.3333333333333333,
              "#9c179e"
             ],
             [
              0.4444444444444444,
              "#bd3786"
             ],
             [
              0.5555555555555556,
              "#d8576b"
             ],
             [
              0.6666666666666666,
              "#ed7953"
             ],
             [
              0.7777777777777778,
              "#fb9f3a"
             ],
             [
              0.8888888888888888,
              "#fdca26"
             ],
             [
              1,
              "#f0f921"
             ]
            ],
            "type": "surface"
           }
          ],
          "table": [
           {
            "cells": {
             "fill": {
              "color": "#EBF0F8"
             },
             "line": {
              "color": "white"
             }
            },
            "header": {
             "fill": {
              "color": "#C8D4E3"
             },
             "line": {
              "color": "white"
             }
            },
            "type": "table"
           }
          ]
         },
         "layout": {
          "annotationdefaults": {
           "arrowcolor": "#2a3f5f",
           "arrowhead": 0,
           "arrowwidth": 1
          },
          "autotypenumbers": "strict",
          "coloraxis": {
           "colorbar": {
            "outlinewidth": 0,
            "ticks": ""
           }
          },
          "colorscale": {
           "diverging": [
            [
             0,
             "#8e0152"
            ],
            [
             0.1,
             "#c51b7d"
            ],
            [
             0.2,
             "#de77ae"
            ],
            [
             0.3,
             "#f1b6da"
            ],
            [
             0.4,
             "#fde0ef"
            ],
            [
             0.5,
             "#f7f7f7"
            ],
            [
             0.6,
             "#e6f5d0"
            ],
            [
             0.7,
             "#b8e186"
            ],
            [
             0.8,
             "#7fbc41"
            ],
            [
             0.9,
             "#4d9221"
            ],
            [
             1,
             "#276419"
            ]
           ],
           "sequential": [
            [
             0,
             "#0d0887"
            ],
            [
             0.1111111111111111,
             "#46039f"
            ],
            [
             0.2222222222222222,
             "#7201a8"
            ],
            [
             0.3333333333333333,
             "#9c179e"
            ],
            [
             0.4444444444444444,
             "#bd3786"
            ],
            [
             0.5555555555555556,
             "#d8576b"
            ],
            [
             0.6666666666666666,
             "#ed7953"
            ],
            [
             0.7777777777777778,
             "#fb9f3a"
            ],
            [
             0.8888888888888888,
             "#fdca26"
            ],
            [
             1,
             "#f0f921"
            ]
           ],
           "sequentialminus": [
            [
             0,
             "#0d0887"
            ],
            [
             0.1111111111111111,
             "#46039f"
            ],
            [
             0.2222222222222222,
             "#7201a8"
            ],
            [
             0.3333333333333333,
             "#9c179e"
            ],
            [
             0.4444444444444444,
             "#bd3786"
            ],
            [
             0.5555555555555556,
             "#d8576b"
            ],
            [
             0.6666666666666666,
             "#ed7953"
            ],
            [
             0.7777777777777778,
             "#fb9f3a"
            ],
            [
             0.8888888888888888,
             "#fdca26"
            ],
            [
             1,
             "#f0f921"
            ]
           ]
          },
          "colorway": [
           "#636efa",
           "#EF553B",
           "#00cc96",
           "#ab63fa",
           "#FFA15A",
           "#19d3f3",
           "#FF6692",
           "#B6E880",
           "#FF97FF",
           "#FECB52"
          ],
          "font": {
           "color": "#2a3f5f"
          },
          "geo": {
           "bgcolor": "white",
           "lakecolor": "white",
           "landcolor": "#E5ECF6",
           "showlakes": true,
           "showland": true,
           "subunitcolor": "white"
          },
          "hoverlabel": {
           "align": "left"
          },
          "hovermode": "closest",
          "mapbox": {
           "style": "light"
          },
          "paper_bgcolor": "white",
          "plot_bgcolor": "#E5ECF6",
          "polar": {
           "angularaxis": {
            "gridcolor": "white",
            "linecolor": "white",
            "ticks": ""
           },
           "bgcolor": "#E5ECF6",
           "radialaxis": {
            "gridcolor": "white",
            "linecolor": "white",
            "ticks": ""
           }
          },
          "scene": {
           "xaxis": {
            "backgroundcolor": "#E5ECF6",
            "gridcolor": "white",
            "gridwidth": 2,
            "linecolor": "white",
            "showbackground": true,
            "ticks": "",
            "zerolinecolor": "white"
           },
           "yaxis": {
            "backgroundcolor": "#E5ECF6",
            "gridcolor": "white",
            "gridwidth": 2,
            "linecolor": "white",
            "showbackground": true,
            "ticks": "",
            "zerolinecolor": "white"
           },
           "zaxis": {
            "backgroundcolor": "#E5ECF6",
            "gridcolor": "white",
            "gridwidth": 2,
            "linecolor": "white",
            "showbackground": true,
            "ticks": "",
            "zerolinecolor": "white"
           }
          },
          "shapedefaults": {
           "line": {
            "color": "#2a3f5f"
           }
          },
          "ternary": {
           "aaxis": {
            "gridcolor": "white",
            "linecolor": "white",
            "ticks": ""
           },
           "baxis": {
            "gridcolor": "white",
            "linecolor": "white",
            "ticks": ""
           },
           "bgcolor": "#E5ECF6",
           "caxis": {
            "gridcolor": "white",
            "linecolor": "white",
            "ticks": ""
           }
          },
          "title": {
           "x": 0.05
          },
          "xaxis": {
           "automargin": true,
           "gridcolor": "white",
           "linecolor": "white",
           "ticks": "",
           "title": {
            "standoff": 15
           },
           "zerolinecolor": "white",
           "zerolinewidth": 2
          },
          "yaxis": {
           "automargin": true,
           "gridcolor": "white",
           "linecolor": "white",
           "ticks": "",
           "title": {
            "standoff": 15
           },
           "zerolinecolor": "white",
           "zerolinewidth": 2
          }
         }
        },
        "title": {
         "text": "Shark Incidents Per Month by Injury Type"
        },
        "width": 1000,
        "xaxis": {
         "anchor": "y",
         "domain": [
          0,
          0.45
         ],
         "tickangle": -45,
         "title": {
          "text": "Month"
         }
        },
        "xaxis2": {
         "anchor": "y2",
         "domain": [
          0.55,
          1
         ],
         "tickangle": -45,
         "title": {
          "text": "Month"
         }
        },
        "xaxis3": {
         "anchor": "y3",
         "domain": [
          0,
          0.45
         ],
         "tickangle": -45,
         "title": {
          "text": "Month"
         }
        },
        "xaxis4": {
         "anchor": "y4",
         "domain": [
          0.55,
          1
         ],
         "tickangle": -45,
         "title": {
          "text": "Month"
         }
        },
        "yaxis": {
         "anchor": "x",
         "domain": [
          0.625,
          1
         ],
         "title": {
          "text": "Number of Incidents"
         }
        },
        "yaxis2": {
         "anchor": "x2",
         "domain": [
          0.625,
          1
         ]
        },
        "yaxis3": {
         "anchor": "x3",
         "domain": [
          0,
          0.375
         ],
         "title": {
          "text": "Number of Incidents"
         }
        },
        "yaxis4": {
         "anchor": "x4",
         "domain": [
          0,
          0.375
         ]
        }
       }
      }
     },
     "metadata": {},
     "output_type": "display_data"
    }
   ],
   "source": [
    "incidents_per_month = (\n",
    "    shark_data.groupby([\"incident_month\", \"victim_injury\"])\n",
    "    .size()\n",
    "    .reset_index(name=\"count\")\n",
    ")\n",
    "\n",
    "months = list(range(1, 13))  # 1 to 12 for all months\n",
    "month_names = [\n",
    "    \"January\",\n",
    "    \"February\",\n",
    "    \"March\",\n",
    "    \"April\",\n",
    "    \"May\",\n",
    "    \"June\",\n",
    "    \"July\",\n",
    "    \"August\",\n",
    "    \"September\",\n",
    "    \"October\",\n",
    "    \"November\",\n",
    "    \"December\",\n",
    "]\n",
    "\n",
    "incidents_per_month[\"month_name\"] = incidents_per_month[\"incident_month\"].map(\n",
    "    dict(zip(months, month_names))\n",
    ")\n",
    "\n",
    "injury_types = [\"fatal\", \"injured\", \"uninjured\", \"unknown\"]\n",
    "color_map = {\n",
    "    \"fatal\": \"#ab47bc\",\n",
    "    \"injured\": \"#7e57c2\",\n",
    "    \"uninjured\": \"#26a69a\",\n",
    "    \"unknown\": \"#8d6e63\",\n",
    "}\n",
    "\n",
    "fig = make_subplots(\n",
    "    rows=2,\n",
    "    cols=2,\n",
    "    subplot_titles=[\n",
    "        \"Fatal Incidents\",\n",
    "        \"Injured Incidents\",\n",
    "        \"Uninjured Incidents\",\n",
    "        \"Unknown Incidents\",\n",
    "    ],\n",
    "    horizontal_spacing=0.1,\n",
    "    vertical_spacing=0.25,\n",
    ")\n",
    "\n",
    "subplot_positions = {\n",
    "    \"fatal\": (1, 1),\n",
    "    \"injured\": (1, 2),\n",
    "    \"uninjured\": (2, 1),\n",
    "    \"unknown\": (2, 2),\n",
    "}\n",
    "\n",
    "for injury_type in injury_types:\n",
    "    filtered_data = incidents_per_month[\n",
    "        incidents_per_month[\"victim_injury\"] == injury_type\n",
    "    ]\n",
    "    filtered_data = (\n",
    "        filtered_data.set_index(\"month_name\")\n",
    "        .reindex(month_names, fill_value=0)\n",
    "        .reset_index()\n",
    "    )\n",
    "\n",
    "    row, col = subplot_positions[injury_type]\n",
    "    fig.add_trace(\n",
    "        go.Bar(\n",
    "            x=filtered_data[\"month_name\"],\n",
    "            y=filtered_data[\"count\"],\n",
    "            name=injury_type.capitalize(),\n",
    "            marker_color=color_map[injury_type],\n",
    "        ),\n",
    "        row=row,\n",
    "        col=col,\n",
    "    )\n",
    "\n",
    "fig.update_layout(\n",
    "    title=\"Shark Incidents Per Month by Injury Type\",\n",
    "    font=dict(color=\"#00796b\", size=14),\n",
    "    plot_bgcolor=\"rgba(0,0,0,0)\",\n",
    "    paper_bgcolor=\"rgba(0,0,0,0)\",\n",
    "    showlegend=False,\n",
    "    height=900,\n",
    "    width=1000,\n",
    ")\n",
    "\n",
    "fig.update_xaxes(title_text=\"Month\", tickangle=-45, row=1, col=1)\n",
    "fig.update_xaxes(title_text=\"Month\", tickangle=-45, row=1, col=2)\n",
    "\n",
    "fig.update_xaxes(title_text=\"Month\", tickangle=-45, row=2, col=1)\n",
    "fig.update_xaxes(title_text=\"Month\", tickangle=-45, row=2, col=2)\n",
    "\n",
    "fig.update_yaxes(title_text=\"Number of Incidents\", row=1, col=1)\n",
    "fig.update_yaxes(title_text=\"Number of Incidents\", row=2, col=1)\n",
    "\n",
    "# fig.update_xaxes(showgrid=False)\n",
    "# fig.update_yaxes(showgrid=False)\n",
    "\n",
    "# Show the graph\n",
    "fig.show()"
   ]
  },
  {
   "cell_type": "code",
   "execution_count": 12,
   "metadata": {},
   "outputs": [
    {
     "data": {
      "application/vnd.plotly.v1+json": {
       "config": {
        "plotlyServerURL": "https://plot.ly"
       },
       "data": [
        {
         "marker": {
          "color": "#ab47bc"
         },
         "name": "Fatal",
         "type": "bar",
         "x": [
          "January",
          "February",
          "March",
          "April",
          "May",
          "June",
          "July",
          "August",
          "September",
          "October",
          "November",
          "December"
         ],
         "xaxis": "x",
         "y": [
          49,
          25,
          21,
          17,
          10,
          13,
          12,
          13,
          15,
          13,
          28,
          39
         ],
         "yaxis": "y"
        },
        {
         "marker": {
          "color": "#7e57c2"
         },
         "name": "Injured",
         "type": "bar",
         "x": [
          "January",
          "February",
          "March",
          "April",
          "May",
          "June",
          "July",
          "August",
          "September",
          "October",
          "November",
          "December"
         ],
         "xaxis": "x2",
         "y": [
          140,
          84,
          79,
          57,
          32,
          28,
          29,
          25,
          32,
          64,
          79,
          99
         ],
         "yaxis": "y2"
        },
        {
         "marker": {
          "color": "#26a69a"
         },
         "name": "Uninjured",
         "type": "bar",
         "x": [
          "January",
          "February",
          "March",
          "April",
          "May",
          "June",
          "July",
          "August",
          "September",
          "October",
          "November",
          "December"
         ],
         "xaxis": "x3",
         "y": [
          39,
          38,
          22,
          17,
          9,
          17,
          15,
          9,
          14,
          16,
          11,
          22
         ],
         "yaxis": "y3"
        },
        {
         "marker": {
          "color": "#8d6e63"
         },
         "name": "Unknown",
         "type": "bar",
         "x": [
          "January",
          "February",
          "March",
          "April",
          "May",
          "June",
          "July",
          "August",
          "September",
          "October",
          "November",
          "December"
         ],
         "xaxis": "x4",
         "y": [
          0,
          0,
          0,
          1,
          0,
          0,
          0,
          0,
          0,
          0,
          0,
          0
         ],
         "yaxis": "y4"
        }
       ],
       "layout": {
        "annotations": [
         {
          "font": {
           "size": 16
          },
          "showarrow": false,
          "text": "Fatal Incidents",
          "x": 0.225,
          "xanchor": "center",
          "xref": "paper",
          "y": 1,
          "yanchor": "bottom",
          "yref": "paper"
         },
         {
          "font": {
           "size": 16
          },
          "showarrow": false,
          "text": "Injured Incidents",
          "x": 0.775,
          "xanchor": "center",
          "xref": "paper",
          "y": 1,
          "yanchor": "bottom",
          "yref": "paper"
         },
         {
          "font": {
           "size": 16
          },
          "showarrow": false,
          "text": "Uninjured Incidents",
          "x": 0.225,
          "xanchor": "center",
          "xref": "paper",
          "y": 0.375,
          "yanchor": "bottom",
          "yref": "paper"
         },
         {
          "font": {
           "size": 16
          },
          "showarrow": false,
          "text": "Unknown Incidents",
          "x": 0.775,
          "xanchor": "center",
          "xref": "paper",
          "y": 0.375,
          "yanchor": "bottom",
          "yref": "paper"
         }
        ],
        "font": {
         "color": "#00796b",
         "size": 14
        },
        "height": 900,
        "paper_bgcolor": "rgba(0,0,0,0)",
        "plot_bgcolor": "rgba(0,0,0,0)",
        "showlegend": false,
        "template": {
         "data": {
          "bar": [
           {
            "error_x": {
             "color": "#2a3f5f"
            },
            "error_y": {
             "color": "#2a3f5f"
            },
            "marker": {
             "line": {
              "color": "#E5ECF6",
              "width": 0.5
             },
             "pattern": {
              "fillmode": "overlay",
              "size": 10,
              "solidity": 0.2
             }
            },
            "type": "bar"
           }
          ],
          "barpolar": [
           {
            "marker": {
             "line": {
              "color": "#E5ECF6",
              "width": 0.5
             },
             "pattern": {
              "fillmode": "overlay",
              "size": 10,
              "solidity": 0.2
             }
            },
            "type": "barpolar"
           }
          ],
          "carpet": [
           {
            "aaxis": {
             "endlinecolor": "#2a3f5f",
             "gridcolor": "white",
             "linecolor": "white",
             "minorgridcolor": "white",
             "startlinecolor": "#2a3f5f"
            },
            "baxis": {
             "endlinecolor": "#2a3f5f",
             "gridcolor": "white",
             "linecolor": "white",
             "minorgridcolor": "white",
             "startlinecolor": "#2a3f5f"
            },
            "type": "carpet"
           }
          ],
          "choropleth": [
           {
            "colorbar": {
             "outlinewidth": 0,
             "ticks": ""
            },
            "type": "choropleth"
           }
          ],
          "contour": [
           {
            "colorbar": {
             "outlinewidth": 0,
             "ticks": ""
            },
            "colorscale": [
             [
              0,
              "#0d0887"
             ],
             [
              0.1111111111111111,
              "#46039f"
             ],
             [
              0.2222222222222222,
              "#7201a8"
             ],
             [
              0.3333333333333333,
              "#9c179e"
             ],
             [
              0.4444444444444444,
              "#bd3786"
             ],
             [
              0.5555555555555556,
              "#d8576b"
             ],
             [
              0.6666666666666666,
              "#ed7953"
             ],
             [
              0.7777777777777778,
              "#fb9f3a"
             ],
             [
              0.8888888888888888,
              "#fdca26"
             ],
             [
              1,
              "#f0f921"
             ]
            ],
            "type": "contour"
           }
          ],
          "contourcarpet": [
           {
            "colorbar": {
             "outlinewidth": 0,
             "ticks": ""
            },
            "type": "contourcarpet"
           }
          ],
          "heatmap": [
           {
            "colorbar": {
             "outlinewidth": 0,
             "ticks": ""
            },
            "colorscale": [
             [
              0,
              "#0d0887"
             ],
             [
              0.1111111111111111,
              "#46039f"
             ],
             [
              0.2222222222222222,
              "#7201a8"
             ],
             [
              0.3333333333333333,
              "#9c179e"
             ],
             [
              0.4444444444444444,
              "#bd3786"
             ],
             [
              0.5555555555555556,
              "#d8576b"
             ],
             [
              0.6666666666666666,
              "#ed7953"
             ],
             [
              0.7777777777777778,
              "#fb9f3a"
             ],
             [
              0.8888888888888888,
              "#fdca26"
             ],
             [
              1,
              "#f0f921"
             ]
            ],
            "type": "heatmap"
           }
          ],
          "heatmapgl": [
           {
            "colorbar": {
             "outlinewidth": 0,
             "ticks": ""
            },
            "colorscale": [
             [
              0,
              "#0d0887"
             ],
             [
              0.1111111111111111,
              "#46039f"
             ],
             [
              0.2222222222222222,
              "#7201a8"
             ],
             [
              0.3333333333333333,
              "#9c179e"
             ],
             [
              0.4444444444444444,
              "#bd3786"
             ],
             [
              0.5555555555555556,
              "#d8576b"
             ],
             [
              0.6666666666666666,
              "#ed7953"
             ],
             [
              0.7777777777777778,
              "#fb9f3a"
             ],
             [
              0.8888888888888888,
              "#fdca26"
             ],
             [
              1,
              "#f0f921"
             ]
            ],
            "type": "heatmapgl"
           }
          ],
          "histogram": [
           {
            "marker": {
             "pattern": {
              "fillmode": "overlay",
              "size": 10,
              "solidity": 0.2
             }
            },
            "type": "histogram"
           }
          ],
          "histogram2d": [
           {
            "colorbar": {
             "outlinewidth": 0,
             "ticks": ""
            },
            "colorscale": [
             [
              0,
              "#0d0887"
             ],
             [
              0.1111111111111111,
              "#46039f"
             ],
             [
              0.2222222222222222,
              "#7201a8"
             ],
             [
              0.3333333333333333,
              "#9c179e"
             ],
             [
              0.4444444444444444,
              "#bd3786"
             ],
             [
              0.5555555555555556,
              "#d8576b"
             ],
             [
              0.6666666666666666,
              "#ed7953"
             ],
             [
              0.7777777777777778,
              "#fb9f3a"
             ],
             [
              0.8888888888888888,
              "#fdca26"
             ],
             [
              1,
              "#f0f921"
             ]
            ],
            "type": "histogram2d"
           }
          ],
          "histogram2dcontour": [
           {
            "colorbar": {
             "outlinewidth": 0,
             "ticks": ""
            },
            "colorscale": [
             [
              0,
              "#0d0887"
             ],
             [
              0.1111111111111111,
              "#46039f"
             ],
             [
              0.2222222222222222,
              "#7201a8"
             ],
             [
              0.3333333333333333,
              "#9c179e"
             ],
             [
              0.4444444444444444,
              "#bd3786"
             ],
             [
              0.5555555555555556,
              "#d8576b"
             ],
             [
              0.6666666666666666,
              "#ed7953"
             ],
             [
              0.7777777777777778,
              "#fb9f3a"
             ],
             [
              0.8888888888888888,
              "#fdca26"
             ],
             [
              1,
              "#f0f921"
             ]
            ],
            "type": "histogram2dcontour"
           }
          ],
          "mesh3d": [
           {
            "colorbar": {
             "outlinewidth": 0,
             "ticks": ""
            },
            "type": "mesh3d"
           }
          ],
          "parcoords": [
           {
            "line": {
             "colorbar": {
              "outlinewidth": 0,
              "ticks": ""
             }
            },
            "type": "parcoords"
           }
          ],
          "pie": [
           {
            "automargin": true,
            "type": "pie"
           }
          ],
          "scatter": [
           {
            "fillpattern": {
             "fillmode": "overlay",
             "size": 10,
             "solidity": 0.2
            },
            "type": "scatter"
           }
          ],
          "scatter3d": [
           {
            "line": {
             "colorbar": {
              "outlinewidth": 0,
              "ticks": ""
             }
            },
            "marker": {
             "colorbar": {
              "outlinewidth": 0,
              "ticks": ""
             }
            },
            "type": "scatter3d"
           }
          ],
          "scattercarpet": [
           {
            "marker": {
             "colorbar": {
              "outlinewidth": 0,
              "ticks": ""
             }
            },
            "type": "scattercarpet"
           }
          ],
          "scattergeo": [
           {
            "marker": {
             "colorbar": {
              "outlinewidth": 0,
              "ticks": ""
             }
            },
            "type": "scattergeo"
           }
          ],
          "scattergl": [
           {
            "marker": {
             "colorbar": {
              "outlinewidth": 0,
              "ticks": ""
             }
            },
            "type": "scattergl"
           }
          ],
          "scattermapbox": [
           {
            "marker": {
             "colorbar": {
              "outlinewidth": 0,
              "ticks": ""
             }
            },
            "type": "scattermapbox"
           }
          ],
          "scatterpolar": [
           {
            "marker": {
             "colorbar": {
              "outlinewidth": 0,
              "ticks": ""
             }
            },
            "type": "scatterpolar"
           }
          ],
          "scatterpolargl": [
           {
            "marker": {
             "colorbar": {
              "outlinewidth": 0,
              "ticks": ""
             }
            },
            "type": "scatterpolargl"
           }
          ],
          "scatterternary": [
           {
            "marker": {
             "colorbar": {
              "outlinewidth": 0,
              "ticks": ""
             }
            },
            "type": "scatterternary"
           }
          ],
          "surface": [
           {
            "colorbar": {
             "outlinewidth": 0,
             "ticks": ""
            },
            "colorscale": [
             [
              0,
              "#0d0887"
             ],
             [
              0.1111111111111111,
              "#46039f"
             ],
             [
              0.2222222222222222,
              "#7201a8"
             ],
             [
              0.3333333333333333,
              "#9c179e"
             ],
             [
              0.4444444444444444,
              "#bd3786"
             ],
             [
              0.5555555555555556,
              "#d8576b"
             ],
             [
              0.6666666666666666,
              "#ed7953"
             ],
             [
              0.7777777777777778,
              "#fb9f3a"
             ],
             [
              0.8888888888888888,
              "#fdca26"
             ],
             [
              1,
              "#f0f921"
             ]
            ],
            "type": "surface"
           }
          ],
          "table": [
           {
            "cells": {
             "fill": {
              "color": "#EBF0F8"
             },
             "line": {
              "color": "white"
             }
            },
            "header": {
             "fill": {
              "color": "#C8D4E3"
             },
             "line": {
              "color": "white"
             }
            },
            "type": "table"
           }
          ]
         },
         "layout": {
          "annotationdefaults": {
           "arrowcolor": "#2a3f5f",
           "arrowhead": 0,
           "arrowwidth": 1
          },
          "autotypenumbers": "strict",
          "coloraxis": {
           "colorbar": {
            "outlinewidth": 0,
            "ticks": ""
           }
          },
          "colorscale": {
           "diverging": [
            [
             0,
             "#8e0152"
            ],
            [
             0.1,
             "#c51b7d"
            ],
            [
             0.2,
             "#de77ae"
            ],
            [
             0.3,
             "#f1b6da"
            ],
            [
             0.4,
             "#fde0ef"
            ],
            [
             0.5,
             "#f7f7f7"
            ],
            [
             0.6,
             "#e6f5d0"
            ],
            [
             0.7,
             "#b8e186"
            ],
            [
             0.8,
             "#7fbc41"
            ],
            [
             0.9,
             "#4d9221"
            ],
            [
             1,
             "#276419"
            ]
           ],
           "sequential": [
            [
             0,
             "#0d0887"
            ],
            [
             0.1111111111111111,
             "#46039f"
            ],
            [
             0.2222222222222222,
             "#7201a8"
            ],
            [
             0.3333333333333333,
             "#9c179e"
            ],
            [
             0.4444444444444444,
             "#bd3786"
            ],
            [
             0.5555555555555556,
             "#d8576b"
            ],
            [
             0.6666666666666666,
             "#ed7953"
            ],
            [
             0.7777777777777778,
             "#fb9f3a"
            ],
            [
             0.8888888888888888,
             "#fdca26"
            ],
            [
             1,
             "#f0f921"
            ]
           ],
           "sequentialminus": [
            [
             0,
             "#0d0887"
            ],
            [
             0.1111111111111111,
             "#46039f"
            ],
            [
             0.2222222222222222,
             "#7201a8"
            ],
            [
             0.3333333333333333,
             "#9c179e"
            ],
            [
             0.4444444444444444,
             "#bd3786"
            ],
            [
             0.5555555555555556,
             "#d8576b"
            ],
            [
             0.6666666666666666,
             "#ed7953"
            ],
            [
             0.7777777777777778,
             "#fb9f3a"
            ],
            [
             0.8888888888888888,
             "#fdca26"
            ],
            [
             1,
             "#f0f921"
            ]
           ]
          },
          "colorway": [
           "#636efa",
           "#EF553B",
           "#00cc96",
           "#ab63fa",
           "#FFA15A",
           "#19d3f3",
           "#FF6692",
           "#B6E880",
           "#FF97FF",
           "#FECB52"
          ],
          "font": {
           "color": "#2a3f5f"
          },
          "geo": {
           "bgcolor": "white",
           "lakecolor": "white",
           "landcolor": "#E5ECF6",
           "showlakes": true,
           "showland": true,
           "subunitcolor": "white"
          },
          "hoverlabel": {
           "align": "left"
          },
          "hovermode": "closest",
          "mapbox": {
           "style": "light"
          },
          "paper_bgcolor": "white",
          "plot_bgcolor": "#E5ECF6",
          "polar": {
           "angularaxis": {
            "gridcolor": "white",
            "linecolor": "white",
            "ticks": ""
           },
           "bgcolor": "#E5ECF6",
           "radialaxis": {
            "gridcolor": "white",
            "linecolor": "white",
            "ticks": ""
           }
          },
          "scene": {
           "xaxis": {
            "backgroundcolor": "#E5ECF6",
            "gridcolor": "white",
            "gridwidth": 2,
            "linecolor": "white",
            "showbackground": true,
            "ticks": "",
            "zerolinecolor": "white"
           },
           "yaxis": {
            "backgroundcolor": "#E5ECF6",
            "gridcolor": "white",
            "gridwidth": 2,
            "linecolor": "white",
            "showbackground": true,
            "ticks": "",
            "zerolinecolor": "white"
           },
           "zaxis": {
            "backgroundcolor": "#E5ECF6",
            "gridcolor": "white",
            "gridwidth": 2,
            "linecolor": "white",
            "showbackground": true,
            "ticks": "",
            "zerolinecolor": "white"
           }
          },
          "shapedefaults": {
           "line": {
            "color": "#2a3f5f"
           }
          },
          "ternary": {
           "aaxis": {
            "gridcolor": "white",
            "linecolor": "white",
            "ticks": ""
           },
           "baxis": {
            "gridcolor": "white",
            "linecolor": "white",
            "ticks": ""
           },
           "bgcolor": "#E5ECF6",
           "caxis": {
            "gridcolor": "white",
            "linecolor": "white",
            "ticks": ""
           }
          },
          "title": {
           "x": 0.05
          },
          "xaxis": {
           "automargin": true,
           "gridcolor": "white",
           "linecolor": "white",
           "ticks": "",
           "title": {
            "standoff": 15
           },
           "zerolinecolor": "white",
           "zerolinewidth": 2
          },
          "yaxis": {
           "automargin": true,
           "gridcolor": "white",
           "linecolor": "white",
           "ticks": "",
           "title": {
            "standoff": 15
           },
           "zerolinecolor": "white",
           "zerolinewidth": 2
          }
         }
        },
        "title": {
         "text": "Shark Incidents Per Month by Injury Type"
        },
        "width": 1000,
        "xaxis": {
         "anchor": "y",
         "domain": [
          0,
          0.45
         ],
         "showgrid": false,
         "tickangle": -45,
         "title": {
          "text": "Month"
         }
        },
        "xaxis2": {
         "anchor": "y2",
         "domain": [
          0.55,
          1
         ],
         "showgrid": false,
         "tickangle": -45,
         "title": {
          "text": "Month"
         }
        },
        "xaxis3": {
         "anchor": "y3",
         "domain": [
          0,
          0.45
         ],
         "showgrid": false,
         "tickangle": -45,
         "title": {
          "text": "Month"
         }
        },
        "xaxis4": {
         "anchor": "y4",
         "domain": [
          0.55,
          1
         ],
         "showgrid": false,
         "tickangle": -45,
         "title": {
          "text": "Month"
         }
        },
        "yaxis": {
         "anchor": "x",
         "domain": [
          0.625,
          1
         ],
         "range": [
          0,
          150
         ],
         "showgrid": false,
         "title": {
          "text": "Number of Incidents"
         }
        },
        "yaxis2": {
         "anchor": "x2",
         "domain": [
          0.625,
          1
         ],
         "range": [
          0,
          150
         ],
         "showgrid": false
        },
        "yaxis3": {
         "anchor": "x3",
         "domain": [
          0,
          0.375
         ],
         "range": [
          0,
          150
         ],
         "showgrid": false,
         "title": {
          "text": "Number of Incidents"
         }
        },
        "yaxis4": {
         "anchor": "x4",
         "domain": [
          0,
          0.375
         ],
         "range": [
          0,
          150
         ],
         "showgrid": false
        }
       }
      }
     },
     "metadata": {},
     "output_type": "display_data"
    }
   ],
   "source": [
    "# Prepare the data: Group by incident month and victim injury\n",
    "incidents_per_month = (\n",
    "    shark_data.groupby([\"incident_month\", \"victim_injury\"])\n",
    "    .size()\n",
    "    .reset_index(name=\"count\")\n",
    ")\n",
    "\n",
    "# Ensure all months are present\n",
    "months = list(range(1, 13))  # 1 to 12 for all months\n",
    "month_names = [\n",
    "    \"January\",\n",
    "    \"February\",\n",
    "    \"March\",\n",
    "    \"April\",\n",
    "    \"May\",\n",
    "    \"June\",\n",
    "    \"July\",\n",
    "    \"August\",\n",
    "    \"September\",\n",
    "    \"October\",\n",
    "    \"November\",\n",
    "    \"December\",\n",
    "]\n",
    "\n",
    "# Map month numbers to month names\n",
    "incidents_per_month[\"month_name\"] = incidents_per_month[\"incident_month\"].map(\n",
    "    dict(zip(months, month_names))\n",
    ")\n",
    "\n",
    "# Injury types and their corresponding colors\n",
    "injury_types = [\"fatal\", \"injured\", \"uninjured\", \"unknown\"]\n",
    "color_map = {\n",
    "    \"fatal\": \"#ab47bc\",\n",
    "    \"injured\": \"#7e57c2\",\n",
    "    \"uninjured\": \"#26a69a\",\n",
    "    \"unknown\": \"#8d6e63\",\n",
    "}\n",
    "\n",
    "# Create a subplot figure with 2 rows and 2 columns, increasing vertical spacing\n",
    "fig = make_subplots(\n",
    "    rows=2,\n",
    "    cols=2,\n",
    "    subplot_titles=[\n",
    "        \"Fatal Incidents\",\n",
    "        \"Injured Incidents\",\n",
    "        \"Uninjured Incidents\",\n",
    "        \"Unknown Incidents\",\n",
    "    ],\n",
    "    horizontal_spacing=0.1,\n",
    "    vertical_spacing=0.25,  # Increased vertical spacing\n",
    ")\n",
    "\n",
    "# Map each injury type to a specific subplot\n",
    "subplot_positions = {\n",
    "    \"fatal\": (1, 1),\n",
    "    \"injured\": (1, 2),\n",
    "    \"uninjured\": (2, 1),\n",
    "    \"unknown\": (2, 2),\n",
    "}\n",
    "\n",
    "for injury_type in injury_types:\n",
    "    # Ensure all months are accounted for\n",
    "    filtered_data = incidents_per_month[\n",
    "        incidents_per_month[\"victim_injury\"] == injury_type\n",
    "    ]\n",
    "    filtered_data = (\n",
    "        filtered_data.set_index(\"month_name\")\n",
    "        .reindex(month_names, fill_value=0)\n",
    "        .reset_index()\n",
    "    )\n",
    "\n",
    "    row, col = subplot_positions[injury_type]\n",
    "    fig.add_trace(\n",
    "        go.Bar(\n",
    "            x=filtered_data[\"month_name\"],\n",
    "            y=filtered_data[\"count\"],\n",
    "            name=injury_type.capitalize(),\n",
    "            marker_color=color_map[injury_type],\n",
    "        ),\n",
    "        row=row,\n",
    "        col=col,\n",
    "    )\n",
    "\n",
    "# Update layout for aesthetics and size\n",
    "fig.update_layout(\n",
    "    title=\"Shark Incidents Per Month by Injury Type\",\n",
    "    font=dict(color=\"#00796b\", size=14),\n",
    "    plot_bgcolor=\"rgba(0,0,0,0)\",  # Transparent background\n",
    "    paper_bgcolor=\"rgba(0,0,0,0)\",\n",
    "    showlegend=False,\n",
    "    height=900,  # Increased height\n",
    "    width=1000,  # Width remains the same\n",
    ")\n",
    "\n",
    "# Remove gridlines from all subplots and ensure consistent y-axis range\n",
    "fig.update_xaxes(showgrid=False)\n",
    "fig.update_yaxes(\n",
    "    showgrid=False, range=[0, 150]\n",
    ")  # Set y-axis range from 0 to 150\n",
    "\n",
    "# Update x-axis titles\n",
    "fig.update_xaxes(title_text=\"Month\", tickangle=-45, row=1, col=1)\n",
    "fig.update_xaxes(title_text=\"Month\", tickangle=-45, row=1, col=2)\n",
    "fig.update_xaxes(title_text=\"Month\", tickangle=-45, row=2, col=1)\n",
    "fig.update_xaxes(title_text=\"Month\", tickangle=-45, row=2, col=2)\n",
    "\n",
    "# Update y-axis titles\n",
    "fig.update_yaxes(title_text=\"Number of Incidents\", row=1, col=1)\n",
    "fig.update_yaxes(title_text=\"Number of Incidents\", row=2, col=1)\n",
    "\n",
    "# Show the graph\n",
    "fig.show()"
   ]
  },
  {
   "cell_type": "code",
   "execution_count": 13,
   "metadata": {},
   "outputs": [
    {
     "data": {
      "application/vnd.plotly.v1+json": {
       "config": {
        "plotlyServerURL": "https://plot.ly"
       },
       "data": [
        {
         "alignmentgroup": "True",
         "hovertemplate": "Injury Type=fatal<br>Month=%{x}<br>Number of Incidents=%{y}<extra></extra>",
         "legendgroup": "fatal",
         "marker": {
          "color": "#ab47bc",
          "pattern": {
           "shape": ""
          }
         },
         "name": "fatal",
         "offsetgroup": "fatal",
         "orientation": "v",
         "showlegend": true,
         "textposition": "auto",
         "type": "bar",
         "x": [
          "April",
          "August",
          "December",
          "February",
          "January",
          "July",
          "June",
          "March",
          "May",
          "November",
          "October",
          "September"
         ],
         "xaxis": "x",
         "y": [
          17,
          13,
          39,
          25,
          49,
          12,
          13,
          21,
          10,
          28,
          13,
          15
         ],
         "yaxis": "y"
        },
        {
         "alignmentgroup": "True",
         "hovertemplate": "Injury Type=injured<br>Month=%{x}<br>Number of Incidents=%{y}<extra></extra>",
         "legendgroup": "injured",
         "marker": {
          "color": "#7e57c2",
          "pattern": {
           "shape": ""
          }
         },
         "name": "injured",
         "offsetgroup": "injured",
         "orientation": "v",
         "showlegend": true,
         "textposition": "auto",
         "type": "bar",
         "x": [
          "April",
          "August",
          "December",
          "February",
          "January",
          "July",
          "June",
          "March",
          "May",
          "November",
          "October",
          "September"
         ],
         "xaxis": "x",
         "y": [
          57,
          25,
          99,
          84,
          140,
          29,
          28,
          79,
          32,
          79,
          64,
          32
         ],
         "yaxis": "y"
        },
        {
         "alignmentgroup": "True",
         "hovertemplate": "Injury Type=uninjured<br>Month=%{x}<br>Number of Incidents=%{y}<extra></extra>",
         "legendgroup": "uninjured",
         "marker": {
          "color": "#26a69a",
          "pattern": {
           "shape": ""
          }
         },
         "name": "uninjured",
         "offsetgroup": "uninjured",
         "orientation": "v",
         "showlegend": true,
         "textposition": "auto",
         "type": "bar",
         "x": [
          "April",
          "August",
          "December",
          "February",
          "January",
          "July",
          "June",
          "March",
          "May",
          "November",
          "October",
          "September"
         ],
         "xaxis": "x",
         "y": [
          17,
          9,
          22,
          38,
          39,
          15,
          17,
          22,
          9,
          11,
          16,
          14
         ],
         "yaxis": "y"
        },
        {
         "alignmentgroup": "True",
         "hovertemplate": "Injury Type=unknown<br>Month=%{x}<br>Number of Incidents=%{y}<extra></extra>",
         "legendgroup": "unknown",
         "marker": {
          "color": "#8d6e63",
          "pattern": {
           "shape": ""
          }
         },
         "name": "unknown",
         "offsetgroup": "unknown",
         "orientation": "v",
         "showlegend": true,
         "textposition": "auto",
         "type": "bar",
         "x": [
          "April"
         ],
         "xaxis": "x",
         "y": [
          1
         ],
         "yaxis": "y"
        }
       ],
       "layout": {
        "barmode": "group",
        "font": {
         "color": "#00796b",
         "size": 14
        },
        "height": 700,
        "legend": {
         "title": {
          "text": "Injury Type"
         },
         "tracegroupgap": 0
        },
        "paper_bgcolor": "rgba(0,0,0,0)",
        "plot_bgcolor": "rgba(0,0,0,0)",
        "template": {
         "data": {
          "bar": [
           {
            "error_x": {
             "color": "#2a3f5f"
            },
            "error_y": {
             "color": "#2a3f5f"
            },
            "marker": {
             "line": {
              "color": "#E5ECF6",
              "width": 0.5
             },
             "pattern": {
              "fillmode": "overlay",
              "size": 10,
              "solidity": 0.2
             }
            },
            "type": "bar"
           }
          ],
          "barpolar": [
           {
            "marker": {
             "line": {
              "color": "#E5ECF6",
              "width": 0.5
             },
             "pattern": {
              "fillmode": "overlay",
              "size": 10,
              "solidity": 0.2
             }
            },
            "type": "barpolar"
           }
          ],
          "carpet": [
           {
            "aaxis": {
             "endlinecolor": "#2a3f5f",
             "gridcolor": "white",
             "linecolor": "white",
             "minorgridcolor": "white",
             "startlinecolor": "#2a3f5f"
            },
            "baxis": {
             "endlinecolor": "#2a3f5f",
             "gridcolor": "white",
             "linecolor": "white",
             "minorgridcolor": "white",
             "startlinecolor": "#2a3f5f"
            },
            "type": "carpet"
           }
          ],
          "choropleth": [
           {
            "colorbar": {
             "outlinewidth": 0,
             "ticks": ""
            },
            "type": "choropleth"
           }
          ],
          "contour": [
           {
            "colorbar": {
             "outlinewidth": 0,
             "ticks": ""
            },
            "colorscale": [
             [
              0,
              "#0d0887"
             ],
             [
              0.1111111111111111,
              "#46039f"
             ],
             [
              0.2222222222222222,
              "#7201a8"
             ],
             [
              0.3333333333333333,
              "#9c179e"
             ],
             [
              0.4444444444444444,
              "#bd3786"
             ],
             [
              0.5555555555555556,
              "#d8576b"
             ],
             [
              0.6666666666666666,
              "#ed7953"
             ],
             [
              0.7777777777777778,
              "#fb9f3a"
             ],
             [
              0.8888888888888888,
              "#fdca26"
             ],
             [
              1,
              "#f0f921"
             ]
            ],
            "type": "contour"
           }
          ],
          "contourcarpet": [
           {
            "colorbar": {
             "outlinewidth": 0,
             "ticks": ""
            },
            "type": "contourcarpet"
           }
          ],
          "heatmap": [
           {
            "colorbar": {
             "outlinewidth": 0,
             "ticks": ""
            },
            "colorscale": [
             [
              0,
              "#0d0887"
             ],
             [
              0.1111111111111111,
              "#46039f"
             ],
             [
              0.2222222222222222,
              "#7201a8"
             ],
             [
              0.3333333333333333,
              "#9c179e"
             ],
             [
              0.4444444444444444,
              "#bd3786"
             ],
             [
              0.5555555555555556,
              "#d8576b"
             ],
             [
              0.6666666666666666,
              "#ed7953"
             ],
             [
              0.7777777777777778,
              "#fb9f3a"
             ],
             [
              0.8888888888888888,
              "#fdca26"
             ],
             [
              1,
              "#f0f921"
             ]
            ],
            "type": "heatmap"
           }
          ],
          "heatmapgl": [
           {
            "colorbar": {
             "outlinewidth": 0,
             "ticks": ""
            },
            "colorscale": [
             [
              0,
              "#0d0887"
             ],
             [
              0.1111111111111111,
              "#46039f"
             ],
             [
              0.2222222222222222,
              "#7201a8"
             ],
             [
              0.3333333333333333,
              "#9c179e"
             ],
             [
              0.4444444444444444,
              "#bd3786"
             ],
             [
              0.5555555555555556,
              "#d8576b"
             ],
             [
              0.6666666666666666,
              "#ed7953"
             ],
             [
              0.7777777777777778,
              "#fb9f3a"
             ],
             [
              0.8888888888888888,
              "#fdca26"
             ],
             [
              1,
              "#f0f921"
             ]
            ],
            "type": "heatmapgl"
           }
          ],
          "histogram": [
           {
            "marker": {
             "pattern": {
              "fillmode": "overlay",
              "size": 10,
              "solidity": 0.2
             }
            },
            "type": "histogram"
           }
          ],
          "histogram2d": [
           {
            "colorbar": {
             "outlinewidth": 0,
             "ticks": ""
            },
            "colorscale": [
             [
              0,
              "#0d0887"
             ],
             [
              0.1111111111111111,
              "#46039f"
             ],
             [
              0.2222222222222222,
              "#7201a8"
             ],
             [
              0.3333333333333333,
              "#9c179e"
             ],
             [
              0.4444444444444444,
              "#bd3786"
             ],
             [
              0.5555555555555556,
              "#d8576b"
             ],
             [
              0.6666666666666666,
              "#ed7953"
             ],
             [
              0.7777777777777778,
              "#fb9f3a"
             ],
             [
              0.8888888888888888,
              "#fdca26"
             ],
             [
              1,
              "#f0f921"
             ]
            ],
            "type": "histogram2d"
           }
          ],
          "histogram2dcontour": [
           {
            "colorbar": {
             "outlinewidth": 0,
             "ticks": ""
            },
            "colorscale": [
             [
              0,
              "#0d0887"
             ],
             [
              0.1111111111111111,
              "#46039f"
             ],
             [
              0.2222222222222222,
              "#7201a8"
             ],
             [
              0.3333333333333333,
              "#9c179e"
             ],
             [
              0.4444444444444444,
              "#bd3786"
             ],
             [
              0.5555555555555556,
              "#d8576b"
             ],
             [
              0.6666666666666666,
              "#ed7953"
             ],
             [
              0.7777777777777778,
              "#fb9f3a"
             ],
             [
              0.8888888888888888,
              "#fdca26"
             ],
             [
              1,
              "#f0f921"
             ]
            ],
            "type": "histogram2dcontour"
           }
          ],
          "mesh3d": [
           {
            "colorbar": {
             "outlinewidth": 0,
             "ticks": ""
            },
            "type": "mesh3d"
           }
          ],
          "parcoords": [
           {
            "line": {
             "colorbar": {
              "outlinewidth": 0,
              "ticks": ""
             }
            },
            "type": "parcoords"
           }
          ],
          "pie": [
           {
            "automargin": true,
            "type": "pie"
           }
          ],
          "scatter": [
           {
            "fillpattern": {
             "fillmode": "overlay",
             "size": 10,
             "solidity": 0.2
            },
            "type": "scatter"
           }
          ],
          "scatter3d": [
           {
            "line": {
             "colorbar": {
              "outlinewidth": 0,
              "ticks": ""
             }
            },
            "marker": {
             "colorbar": {
              "outlinewidth": 0,
              "ticks": ""
             }
            },
            "type": "scatter3d"
           }
          ],
          "scattercarpet": [
           {
            "marker": {
             "colorbar": {
              "outlinewidth": 0,
              "ticks": ""
             }
            },
            "type": "scattercarpet"
           }
          ],
          "scattergeo": [
           {
            "marker": {
             "colorbar": {
              "outlinewidth": 0,
              "ticks": ""
             }
            },
            "type": "scattergeo"
           }
          ],
          "scattergl": [
           {
            "marker": {
             "colorbar": {
              "outlinewidth": 0,
              "ticks": ""
             }
            },
            "type": "scattergl"
           }
          ],
          "scattermapbox": [
           {
            "marker": {
             "colorbar": {
              "outlinewidth": 0,
              "ticks": ""
             }
            },
            "type": "scattermapbox"
           }
          ],
          "scatterpolar": [
           {
            "marker": {
             "colorbar": {
              "outlinewidth": 0,
              "ticks": ""
             }
            },
            "type": "scatterpolar"
           }
          ],
          "scatterpolargl": [
           {
            "marker": {
             "colorbar": {
              "outlinewidth": 0,
              "ticks": ""
             }
            },
            "type": "scatterpolargl"
           }
          ],
          "scatterternary": [
           {
            "marker": {
             "colorbar": {
              "outlinewidth": 0,
              "ticks": ""
             }
            },
            "type": "scatterternary"
           }
          ],
          "surface": [
           {
            "colorbar": {
             "outlinewidth": 0,
             "ticks": ""
            },
            "colorscale": [
             [
              0,
              "#0d0887"
             ],
             [
              0.1111111111111111,
              "#46039f"
             ],
             [
              0.2222222222222222,
              "#7201a8"
             ],
             [
              0.3333333333333333,
              "#9c179e"
             ],
             [
              0.4444444444444444,
              "#bd3786"
             ],
             [
              0.5555555555555556,
              "#d8576b"
             ],
             [
              0.6666666666666666,
              "#ed7953"
             ],
             [
              0.7777777777777778,
              "#fb9f3a"
             ],
             [
              0.8888888888888888,
              "#fdca26"
             ],
             [
              1,
              "#f0f921"
             ]
            ],
            "type": "surface"
           }
          ],
          "table": [
           {
            "cells": {
             "fill": {
              "color": "#EBF0F8"
             },
             "line": {
              "color": "white"
             }
            },
            "header": {
             "fill": {
              "color": "#C8D4E3"
             },
             "line": {
              "color": "white"
             }
            },
            "type": "table"
           }
          ]
         },
         "layout": {
          "annotationdefaults": {
           "arrowcolor": "#2a3f5f",
           "arrowhead": 0,
           "arrowwidth": 1
          },
          "autotypenumbers": "strict",
          "coloraxis": {
           "colorbar": {
            "outlinewidth": 0,
            "ticks": ""
           }
          },
          "colorscale": {
           "diverging": [
            [
             0,
             "#8e0152"
            ],
            [
             0.1,
             "#c51b7d"
            ],
            [
             0.2,
             "#de77ae"
            ],
            [
             0.3,
             "#f1b6da"
            ],
            [
             0.4,
             "#fde0ef"
            ],
            [
             0.5,
             "#f7f7f7"
            ],
            [
             0.6,
             "#e6f5d0"
            ],
            [
             0.7,
             "#b8e186"
            ],
            [
             0.8,
             "#7fbc41"
            ],
            [
             0.9,
             "#4d9221"
            ],
            [
             1,
             "#276419"
            ]
           ],
           "sequential": [
            [
             0,
             "#0d0887"
            ],
            [
             0.1111111111111111,
             "#46039f"
            ],
            [
             0.2222222222222222,
             "#7201a8"
            ],
            [
             0.3333333333333333,
             "#9c179e"
            ],
            [
             0.4444444444444444,
             "#bd3786"
            ],
            [
             0.5555555555555556,
             "#d8576b"
            ],
            [
             0.6666666666666666,
             "#ed7953"
            ],
            [
             0.7777777777777778,
             "#fb9f3a"
            ],
            [
             0.8888888888888888,
             "#fdca26"
            ],
            [
             1,
             "#f0f921"
            ]
           ],
           "sequentialminus": [
            [
             0,
             "#0d0887"
            ],
            [
             0.1111111111111111,
             "#46039f"
            ],
            [
             0.2222222222222222,
             "#7201a8"
            ],
            [
             0.3333333333333333,
             "#9c179e"
            ],
            [
             0.4444444444444444,
             "#bd3786"
            ],
            [
             0.5555555555555556,
             "#d8576b"
            ],
            [
             0.6666666666666666,
             "#ed7953"
            ],
            [
             0.7777777777777778,
             "#fb9f3a"
            ],
            [
             0.8888888888888888,
             "#fdca26"
            ],
            [
             1,
             "#f0f921"
            ]
           ]
          },
          "colorway": [
           "#636efa",
           "#EF553B",
           "#00cc96",
           "#ab63fa",
           "#FFA15A",
           "#19d3f3",
           "#FF6692",
           "#B6E880",
           "#FF97FF",
           "#FECB52"
          ],
          "font": {
           "color": "#2a3f5f"
          },
          "geo": {
           "bgcolor": "white",
           "lakecolor": "white",
           "landcolor": "#E5ECF6",
           "showlakes": true,
           "showland": true,
           "subunitcolor": "white"
          },
          "hoverlabel": {
           "align": "left"
          },
          "hovermode": "closest",
          "mapbox": {
           "style": "light"
          },
          "paper_bgcolor": "white",
          "plot_bgcolor": "#E5ECF6",
          "polar": {
           "angularaxis": {
            "gridcolor": "white",
            "linecolor": "white",
            "ticks": ""
           },
           "bgcolor": "#E5ECF6",
           "radialaxis": {
            "gridcolor": "white",
            "linecolor": "white",
            "ticks": ""
           }
          },
          "scene": {
           "xaxis": {
            "backgroundcolor": "#E5ECF6",
            "gridcolor": "white",
            "gridwidth": 2,
            "linecolor": "white",
            "showbackground": true,
            "ticks": "",
            "zerolinecolor": "white"
           },
           "yaxis": {
            "backgroundcolor": "#E5ECF6",
            "gridcolor": "white",
            "gridwidth": 2,
            "linecolor": "white",
            "showbackground": true,
            "ticks": "",
            "zerolinecolor": "white"
           },
           "zaxis": {
            "backgroundcolor": "#E5ECF6",
            "gridcolor": "white",
            "gridwidth": 2,
            "linecolor": "white",
            "showbackground": true,
            "ticks": "",
            "zerolinecolor": "white"
           }
          },
          "shapedefaults": {
           "line": {
            "color": "#2a3f5f"
           }
          },
          "ternary": {
           "aaxis": {
            "gridcolor": "white",
            "linecolor": "white",
            "ticks": ""
           },
           "baxis": {
            "gridcolor": "white",
            "linecolor": "white",
            "ticks": ""
           },
           "bgcolor": "#E5ECF6",
           "caxis": {
            "gridcolor": "white",
            "linecolor": "white",
            "ticks": ""
           }
          },
          "title": {
           "x": 0.05
          },
          "xaxis": {
           "automargin": true,
           "gridcolor": "white",
           "linecolor": "white",
           "ticks": "",
           "title": {
            "standoff": 15
           },
           "zerolinecolor": "white",
           "zerolinewidth": 2
          },
          "yaxis": {
           "automargin": true,
           "gridcolor": "white",
           "linecolor": "white",
           "ticks": "",
           "title": {
            "standoff": 15
           },
           "zerolinecolor": "white",
           "zerolinewidth": 2
          }
         }
        },
        "title": {
         "text": "Shark Incidents Per Month by Injury Type"
        },
        "width": 1050,
        "xaxis": {
         "anchor": "y",
         "categoryarray": [
          "January",
          "February",
          "March",
          "April",
          "May",
          "June",
          "July",
          "August",
          "September",
          "October",
          "November",
          "December"
         ],
         "categoryorder": "array",
         "domain": [
          0,
          1
         ],
         "title": {
          "text": "Month"
         }
        },
        "yaxis": {
         "anchor": "x",
         "domain": [
          0,
          1
         ],
         "title": {
          "text": "Number of Incidents"
         }
        }
       }
      }
     },
     "metadata": {},
     "output_type": "display_data"
    }
   ],
   "source": [
    "monthly_injury_data = (\n",
    "    incidents_per_month.groupby([\"month_name\", \"victim_injury\"])[\"count\"]\n",
    "    .sum()\n",
    "    .reset_index()\n",
    ")\n",
    "\n",
    "fig = px.bar(\n",
    "    monthly_injury_data,\n",
    "    x=\"month_name\",\n",
    "    y=\"count\",\n",
    "    color=\"victim_injury\",\n",
    "    barmode=\"group\",  # Grouped bar mode\n",
    "    color_discrete_map={\n",
    "        \"fatal\": \"#ab47bc\",\n",
    "        \"injured\": \"#7e57c2\",\n",
    "        \"uninjured\": \"#26a69a\",\n",
    "        \"unknown\": \"#8d6e63\",\n",
    "    },\n",
    "    title=\"Shark Incidents Per Month by Injury Type\",\n",
    "    labels={\n",
    "        \"month_name\": \"Month\",\n",
    "        \"count\": \"Number of Incidents\",\n",
    "        \"victim_injury\": \"Injury Type\",\n",
    "    },\n",
    "    category_orders={\"month_name\": month_names},\n",
    ")\n",
    "\n",
    "fig.update_layout(\n",
    "    font=dict(color=\"#00796b\", size=14),\n",
    "    plot_bgcolor=\"rgba(0,0,0,0)\",  # Transparent background\n",
    "    paper_bgcolor=\"rgba(0,0,0,0)\",\n",
    "    xaxis_title=\"Month\",\n",
    "    yaxis_title=\"Number of Incidents\",\n",
    "    legend_title=\"Injury Type\",\n",
    "    height=700,\n",
    "    width=1050,\n",
    ")\n",
    "\n",
    "fig.show()"
   ]
  },
  {
   "cell_type": "code",
   "execution_count": 14,
   "metadata": {},
   "outputs": [
    {
     "data": {
      "text/html": [
       "<div>\n",
       "<style scoped>\n",
       "    .dataframe tbody tr th:only-of-type {\n",
       "        vertical-align: middle;\n",
       "    }\n",
       "\n",
       "    .dataframe tbody tr th {\n",
       "        vertical-align: top;\n",
       "    }\n",
       "\n",
       "    .dataframe thead th {\n",
       "        text-align: right;\n",
       "    }\n",
       "</style>\n",
       "<table border=\"1\" class=\"dataframe\">\n",
       "  <thead>\n",
       "    <tr style=\"text-align: right;\">\n",
       "      <th></th>\n",
       "      <th>incident_month</th>\n",
       "      <th>incident_year</th>\n",
       "      <th>injury_severity</th>\n",
       "      <th>latitude</th>\n",
       "      <th>longitude</th>\n",
       "      <th>month_year</th>\n",
       "      <th>shark_behaviour_generic</th>\n",
       "      <th>shark_behaviour_specific</th>\n",
       "      <th>site_category_cleaned</th>\n",
       "      <th>state_names</th>\n",
       "      <th>victim_injury</th>\n",
       "      <th>location</th>\n",
       "      <th>provoked_unprovoked</th>\n",
       "      <th>victim_gender</th>\n",
       "      <th>victim_activity</th>\n",
       "      <th>shark_common_name</th>\n",
       "      <th>shark_scientific_name</th>\n",
       "      <th>no_sharks</th>\n",
       "      <th>reference</th>\n",
       "      <th>injury_location</th>\n",
       "      <th>data_source</th>\n",
       "      <th>shark_identification_method</th>\n",
       "      <th>shark_behaviour</th>\n",
       "      <th>victim_age</th>\n",
       "    </tr>\n",
       "  </thead>\n",
       "  <tbody>\n",
       "    <tr>\n",
       "      <th>492</th>\n",
       "      <td>4</td>\n",
       "      <td>1959</td>\n",
       "      <td>NaN</td>\n",
       "      <td>-33.95</td>\n",
       "      <td>151.250.</td>\n",
       "      <td>1959-04-01</td>\n",
       "      <td>unknown</td>\n",
       "      <td>unknown</td>\n",
       "      <td>coastal</td>\n",
       "      <td>New South Wales</td>\n",
       "      <td>unknown</td>\n",
       "      <td>maroubra beach, sydney</td>\n",
       "      <td>unknown</td>\n",
       "      <td>unknown</td>\n",
       "      <td>unknown</td>\n",
       "      <td>unknown</td>\n",
       "      <td>NaN</td>\n",
       "      <td>NaN</td>\n",
       "      <td>NaN</td>\n",
       "      <td>unknown</td>\n",
       "      <td>unknown</td>\n",
       "      <td>unknown</td>\n",
       "      <td>unknown</td>\n",
       "      <td>NaN</td>\n",
       "    </tr>\n",
       "  </tbody>\n",
       "</table>\n",
       "</div>"
      ],
      "text/plain": [
       "     incident_month  incident_year injury_severity latitude longitude  \\\n",
       "492               4           1959             NaN   -33.95  151.250.   \n",
       "\n",
       "     month_year shark_behaviour_generic shark_behaviour_specific  \\\n",
       "492  1959-04-01                 unknown                  unknown   \n",
       "\n",
       "    site_category_cleaned      state_names victim_injury  \\\n",
       "492               coastal  New South Wales       unknown   \n",
       "\n",
       "                   location provoked_unprovoked victim_gender victim_activity  \\\n",
       "492  maroubra beach, sydney             unknown       unknown         unknown   \n",
       "\n",
       "    shark_common_name shark_scientific_name  no_sharks reference  \\\n",
       "492           unknown                   NaN        NaN       NaN   \n",
       "\n",
       "    injury_location data_source shark_identification_method shark_behaviour  \\\n",
       "492         unknown     unknown                     unknown         unknown   \n",
       "\n",
       "     victim_age  \n",
       "492         NaN  "
      ]
     },
     "execution_count": 14,
     "metadata": {},
     "output_type": "execute_result"
    }
   ],
   "source": [
    "df.loc[df[\"victim_injury\"] == \"unknown\"]"
   ]
  },
  {
   "cell_type": "markdown",
   "metadata": {},
   "source": [
    "# Dangerous sharks\n"
   ]
  },
  {
   "cell_type": "code",
   "execution_count": 15,
   "metadata": {},
   "outputs": [
    {
     "data": {
      "application/vnd.plotly.v1+json": {
       "config": {
        "plotlyServerURL": "https://plot.ly"
       },
       "data": [
        {
         "alignmentgroup": "True",
         "hovertemplate": "%{text}",
         "legendgroup": "white shark",
         "marker": {
          "color": "#ab47bc",
          "pattern": {
           "shape": ""
          }
         },
         "name": "white shark",
         "offsetgroup": "white shark",
         "orientation": "v",
         "showlegend": true,
         "text": [
          "white shark: 371 incidents"
         ],
         "textposition": "none",
         "type": "bar",
         "x": [
          "white shark"
         ],
         "xaxis": "x",
         "y": [
          371
         ],
         "yaxis": "y"
        },
        {
         "alignmentgroup": "True",
         "hovertemplate": "%{text}",
         "legendgroup": "tiger shark",
         "marker": {
          "color": "#7e57c2",
          "pattern": {
           "shape": ""
          }
         },
         "name": "tiger shark",
         "offsetgroup": "tiger shark",
         "orientation": "v",
         "showlegend": true,
         "text": [
          "tiger shark: 230 incidents"
         ],
         "textposition": "none",
         "type": "bar",
         "x": [
          "tiger shark"
         ],
         "xaxis": "x",
         "y": [
          230
         ],
         "yaxis": "y"
        },
        {
         "alignmentgroup": "True",
         "hovertemplate": "%{text}",
         "legendgroup": "wobbegong",
         "marker": {
          "color": "#2e7d32",
          "pattern": {
           "shape": ""
          }
         },
         "name": "wobbegong",
         "offsetgroup": "wobbegong",
         "orientation": "v",
         "showlegend": true,
         "text": [
          "wobbegong: 203 incidents"
         ],
         "textposition": "none",
         "type": "bar",
         "x": [
          "wobbegong"
         ],
         "xaxis": "x",
         "y": [
          203
         ],
         "yaxis": "y"
        },
        {
         "alignmentgroup": "True",
         "hovertemplate": "%{text}",
         "legendgroup": "bull shark",
         "marker": {
          "color": "#455a64",
          "pattern": {
           "shape": ""
          }
         },
         "name": "bull shark",
         "offsetgroup": "bull shark",
         "orientation": "v",
         "showlegend": true,
         "text": [
          "bull shark: 202 incidents"
         ],
         "textposition": "none",
         "type": "bar",
         "x": [
          "bull shark"
         ],
         "xaxis": "x",
         "y": [
          202
         ],
         "yaxis": "y"
        },
        {
         "alignmentgroup": "True",
         "hovertemplate": "%{text}",
         "legendgroup": "whaler shark",
         "marker": {
          "color": "#795548",
          "pattern": {
           "shape": ""
          }
         },
         "name": "whaler shark",
         "offsetgroup": "whaler shark",
         "orientation": "v",
         "showlegend": true,
         "text": [
          "whaler shark: 76 incidents"
         ],
         "textposition": "none",
         "type": "bar",
         "x": [
          "whaler shark"
         ],
         "xaxis": "x",
         "y": [
          76
         ],
         "yaxis": "y"
        },
        {
         "alignmentgroup": "True",
         "hovertemplate": "%{text}",
         "legendgroup": "shark_not_known",
         "marker": {
          "color": "#303f9f",
          "pattern": {
           "shape": ""
          }
         },
         "name": "shark_not_known",
         "offsetgroup": "shark_not_known",
         "orientation": "v",
         "showlegend": true,
         "text": [
          "shark_not_known: 57 incidents"
         ],
         "textposition": "none",
         "type": "bar",
         "x": [
          "shark_not_known"
         ],
         "xaxis": "x",
         "y": [
          57
         ],
         "yaxis": "y"
        },
        {
         "alignmentgroup": "True",
         "hovertemplate": "%{text}",
         "legendgroup": "bronze whaler shark",
         "marker": {
          "color": "#5e35b1",
          "pattern": {
           "shape": ""
          }
         },
         "name": "bronze whaler shark",
         "offsetgroup": "bronze whaler shark",
         "orientation": "v",
         "showlegend": true,
         "text": [
          "bronze whaler shark: 29 incidents"
         ],
         "textposition": "none",
         "type": "bar",
         "x": [
          "bronze whaler shark"
         ],
         "xaxis": "x",
         "y": [
          29
         ],
         "yaxis": "y"
        },
        {
         "alignmentgroup": "True",
         "hovertemplate": "%{text}",
         "legendgroup": "others: 18 types",
         "marker": {
          "color": "#4e342e",
          "pattern": {
           "shape": ""
          }
         },
         "name": "others: 18 types",
         "offsetgroup": "others: 18 types",
         "orientation": "v",
         "showlegend": true,
         "text": [
          "grey nurse shark: 9 incidents<br>grey reef shark: 8 incidents<br>whitetip reef shark: 7 incidents<br>unknown: 7 incidents<br>lemon shark: 6 incidents<br>dusky shark: 5 incidents<br>hammerhead shark : 5 incidents<br>blacktip reef shark: 4 incidents<br>galapagos shark: 3 incidents<br>shortfin mako shark: 2 incidents<br>broadnose sevengill shark: 2 incidents<br>blind shark: 1 incidents<br>port jackson shark: 1 incidents<br>school shark: 1 incidents<br>silvertip shark: 1 incidents<br>sevengill shark: 1 incidents<br>dogfish: 1 incidents<br>seven gill shark : 1 incidents"
         ],
         "textposition": "none",
         "type": "bar",
         "x": [
          "others: 18 types"
         ],
         "xaxis": "x",
         "y": [
          65
         ],
         "yaxis": "y"
        }
       ],
       "layout": {
        "barmode": "relative",
        "font": {
         "color": "#00796b",
         "size": 14
        },
        "legend": {
         "title": {
          "text": "Shark Type"
         },
         "tracegroupgap": 0
        },
        "paper_bgcolor": "rgba(0,0,0,0)",
        "plot_bgcolor": "rgba(0,0,0,0)",
        "showlegend": false,
        "template": {
         "data": {
          "bar": [
           {
            "error_x": {
             "color": "#2a3f5f"
            },
            "error_y": {
             "color": "#2a3f5f"
            },
            "marker": {
             "line": {
              "color": "#E5ECF6",
              "width": 0.5
             },
             "pattern": {
              "fillmode": "overlay",
              "size": 10,
              "solidity": 0.2
             }
            },
            "type": "bar"
           }
          ],
          "barpolar": [
           {
            "marker": {
             "line": {
              "color": "#E5ECF6",
              "width": 0.5
             },
             "pattern": {
              "fillmode": "overlay",
              "size": 10,
              "solidity": 0.2
             }
            },
            "type": "barpolar"
           }
          ],
          "carpet": [
           {
            "aaxis": {
             "endlinecolor": "#2a3f5f",
             "gridcolor": "white",
             "linecolor": "white",
             "minorgridcolor": "white",
             "startlinecolor": "#2a3f5f"
            },
            "baxis": {
             "endlinecolor": "#2a3f5f",
             "gridcolor": "white",
             "linecolor": "white",
             "minorgridcolor": "white",
             "startlinecolor": "#2a3f5f"
            },
            "type": "carpet"
           }
          ],
          "choropleth": [
           {
            "colorbar": {
             "outlinewidth": 0,
             "ticks": ""
            },
            "type": "choropleth"
           }
          ],
          "contour": [
           {
            "colorbar": {
             "outlinewidth": 0,
             "ticks": ""
            },
            "colorscale": [
             [
              0,
              "#0d0887"
             ],
             [
              0.1111111111111111,
              "#46039f"
             ],
             [
              0.2222222222222222,
              "#7201a8"
             ],
             [
              0.3333333333333333,
              "#9c179e"
             ],
             [
              0.4444444444444444,
              "#bd3786"
             ],
             [
              0.5555555555555556,
              "#d8576b"
             ],
             [
              0.6666666666666666,
              "#ed7953"
             ],
             [
              0.7777777777777778,
              "#fb9f3a"
             ],
             [
              0.8888888888888888,
              "#fdca26"
             ],
             [
              1,
              "#f0f921"
             ]
            ],
            "type": "contour"
           }
          ],
          "contourcarpet": [
           {
            "colorbar": {
             "outlinewidth": 0,
             "ticks": ""
            },
            "type": "contourcarpet"
           }
          ],
          "heatmap": [
           {
            "colorbar": {
             "outlinewidth": 0,
             "ticks": ""
            },
            "colorscale": [
             [
              0,
              "#0d0887"
             ],
             [
              0.1111111111111111,
              "#46039f"
             ],
             [
              0.2222222222222222,
              "#7201a8"
             ],
             [
              0.3333333333333333,
              "#9c179e"
             ],
             [
              0.4444444444444444,
              "#bd3786"
             ],
             [
              0.5555555555555556,
              "#d8576b"
             ],
             [
              0.6666666666666666,
              "#ed7953"
             ],
             [
              0.7777777777777778,
              "#fb9f3a"
             ],
             [
              0.8888888888888888,
              "#fdca26"
             ],
             [
              1,
              "#f0f921"
             ]
            ],
            "type": "heatmap"
           }
          ],
          "heatmapgl": [
           {
            "colorbar": {
             "outlinewidth": 0,
             "ticks": ""
            },
            "colorscale": [
             [
              0,
              "#0d0887"
             ],
             [
              0.1111111111111111,
              "#46039f"
             ],
             [
              0.2222222222222222,
              "#7201a8"
             ],
             [
              0.3333333333333333,
              "#9c179e"
             ],
             [
              0.4444444444444444,
              "#bd3786"
             ],
             [
              0.5555555555555556,
              "#d8576b"
             ],
             [
              0.6666666666666666,
              "#ed7953"
             ],
             [
              0.7777777777777778,
              "#fb9f3a"
             ],
             [
              0.8888888888888888,
              "#fdca26"
             ],
             [
              1,
              "#f0f921"
             ]
            ],
            "type": "heatmapgl"
           }
          ],
          "histogram": [
           {
            "marker": {
             "pattern": {
              "fillmode": "overlay",
              "size": 10,
              "solidity": 0.2
             }
            },
            "type": "histogram"
           }
          ],
          "histogram2d": [
           {
            "colorbar": {
             "outlinewidth": 0,
             "ticks": ""
            },
            "colorscale": [
             [
              0,
              "#0d0887"
             ],
             [
              0.1111111111111111,
              "#46039f"
             ],
             [
              0.2222222222222222,
              "#7201a8"
             ],
             [
              0.3333333333333333,
              "#9c179e"
             ],
             [
              0.4444444444444444,
              "#bd3786"
             ],
             [
              0.5555555555555556,
              "#d8576b"
             ],
             [
              0.6666666666666666,
              "#ed7953"
             ],
             [
              0.7777777777777778,
              "#fb9f3a"
             ],
             [
              0.8888888888888888,
              "#fdca26"
             ],
             [
              1,
              "#f0f921"
             ]
            ],
            "type": "histogram2d"
           }
          ],
          "histogram2dcontour": [
           {
            "colorbar": {
             "outlinewidth": 0,
             "ticks": ""
            },
            "colorscale": [
             [
              0,
              "#0d0887"
             ],
             [
              0.1111111111111111,
              "#46039f"
             ],
             [
              0.2222222222222222,
              "#7201a8"
             ],
             [
              0.3333333333333333,
              "#9c179e"
             ],
             [
              0.4444444444444444,
              "#bd3786"
             ],
             [
              0.5555555555555556,
              "#d8576b"
             ],
             [
              0.6666666666666666,
              "#ed7953"
             ],
             [
              0.7777777777777778,
              "#fb9f3a"
             ],
             [
              0.8888888888888888,
              "#fdca26"
             ],
             [
              1,
              "#f0f921"
             ]
            ],
            "type": "histogram2dcontour"
           }
          ],
          "mesh3d": [
           {
            "colorbar": {
             "outlinewidth": 0,
             "ticks": ""
            },
            "type": "mesh3d"
           }
          ],
          "parcoords": [
           {
            "line": {
             "colorbar": {
              "outlinewidth": 0,
              "ticks": ""
             }
            },
            "type": "parcoords"
           }
          ],
          "pie": [
           {
            "automargin": true,
            "type": "pie"
           }
          ],
          "scatter": [
           {
            "fillpattern": {
             "fillmode": "overlay",
             "size": 10,
             "solidity": 0.2
            },
            "type": "scatter"
           }
          ],
          "scatter3d": [
           {
            "line": {
             "colorbar": {
              "outlinewidth": 0,
              "ticks": ""
             }
            },
            "marker": {
             "colorbar": {
              "outlinewidth": 0,
              "ticks": ""
             }
            },
            "type": "scatter3d"
           }
          ],
          "scattercarpet": [
           {
            "marker": {
             "colorbar": {
              "outlinewidth": 0,
              "ticks": ""
             }
            },
            "type": "scattercarpet"
           }
          ],
          "scattergeo": [
           {
            "marker": {
             "colorbar": {
              "outlinewidth": 0,
              "ticks": ""
             }
            },
            "type": "scattergeo"
           }
          ],
          "scattergl": [
           {
            "marker": {
             "colorbar": {
              "outlinewidth": 0,
              "ticks": ""
             }
            },
            "type": "scattergl"
           }
          ],
          "scattermapbox": [
           {
            "marker": {
             "colorbar": {
              "outlinewidth": 0,
              "ticks": ""
             }
            },
            "type": "scattermapbox"
           }
          ],
          "scatterpolar": [
           {
            "marker": {
             "colorbar": {
              "outlinewidth": 0,
              "ticks": ""
             }
            },
            "type": "scatterpolar"
           }
          ],
          "scatterpolargl": [
           {
            "marker": {
             "colorbar": {
              "outlinewidth": 0,
              "ticks": ""
             }
            },
            "type": "scatterpolargl"
           }
          ],
          "scatterternary": [
           {
            "marker": {
             "colorbar": {
              "outlinewidth": 0,
              "ticks": ""
             }
            },
            "type": "scatterternary"
           }
          ],
          "surface": [
           {
            "colorbar": {
             "outlinewidth": 0,
             "ticks": ""
            },
            "colorscale": [
             [
              0,
              "#0d0887"
             ],
             [
              0.1111111111111111,
              "#46039f"
             ],
             [
              0.2222222222222222,
              "#7201a8"
             ],
             [
              0.3333333333333333,
              "#9c179e"
             ],
             [
              0.4444444444444444,
              "#bd3786"
             ],
             [
              0.5555555555555556,
              "#d8576b"
             ],
             [
              0.6666666666666666,
              "#ed7953"
             ],
             [
              0.7777777777777778,
              "#fb9f3a"
             ],
             [
              0.8888888888888888,
              "#fdca26"
             ],
             [
              1,
              "#f0f921"
             ]
            ],
            "type": "surface"
           }
          ],
          "table": [
           {
            "cells": {
             "fill": {
              "color": "#EBF0F8"
             },
             "line": {
              "color": "white"
             }
            },
            "header": {
             "fill": {
              "color": "#C8D4E3"
             },
             "line": {
              "color": "white"
             }
            },
            "type": "table"
           }
          ]
         },
         "layout": {
          "annotationdefaults": {
           "arrowcolor": "#2a3f5f",
           "arrowhead": 0,
           "arrowwidth": 1
          },
          "autotypenumbers": "strict",
          "coloraxis": {
           "colorbar": {
            "outlinewidth": 0,
            "ticks": ""
           }
          },
          "colorscale": {
           "diverging": [
            [
             0,
             "#8e0152"
            ],
            [
             0.1,
             "#c51b7d"
            ],
            [
             0.2,
             "#de77ae"
            ],
            [
             0.3,
             "#f1b6da"
            ],
            [
             0.4,
             "#fde0ef"
            ],
            [
             0.5,
             "#f7f7f7"
            ],
            [
             0.6,
             "#e6f5d0"
            ],
            [
             0.7,
             "#b8e186"
            ],
            [
             0.8,
             "#7fbc41"
            ],
            [
             0.9,
             "#4d9221"
            ],
            [
             1,
             "#276419"
            ]
           ],
           "sequential": [
            [
             0,
             "#0d0887"
            ],
            [
             0.1111111111111111,
             "#46039f"
            ],
            [
             0.2222222222222222,
             "#7201a8"
            ],
            [
             0.3333333333333333,
             "#9c179e"
            ],
            [
             0.4444444444444444,
             "#bd3786"
            ],
            [
             0.5555555555555556,
             "#d8576b"
            ],
            [
             0.6666666666666666,
             "#ed7953"
            ],
            [
             0.7777777777777778,
             "#fb9f3a"
            ],
            [
             0.8888888888888888,
             "#fdca26"
            ],
            [
             1,
             "#f0f921"
            ]
           ],
           "sequentialminus": [
            [
             0,
             "#0d0887"
            ],
            [
             0.1111111111111111,
             "#46039f"
            ],
            [
             0.2222222222222222,
             "#7201a8"
            ],
            [
             0.3333333333333333,
             "#9c179e"
            ],
            [
             0.4444444444444444,
             "#bd3786"
            ],
            [
             0.5555555555555556,
             "#d8576b"
            ],
            [
             0.6666666666666666,
             "#ed7953"
            ],
            [
             0.7777777777777778,
             "#fb9f3a"
            ],
            [
             0.8888888888888888,
             "#fdca26"
            ],
            [
             1,
             "#f0f921"
            ]
           ]
          },
          "colorway": [
           "#636efa",
           "#EF553B",
           "#00cc96",
           "#ab63fa",
           "#FFA15A",
           "#19d3f3",
           "#FF6692",
           "#B6E880",
           "#FF97FF",
           "#FECB52"
          ],
          "font": {
           "color": "#2a3f5f"
          },
          "geo": {
           "bgcolor": "white",
           "lakecolor": "white",
           "landcolor": "#E5ECF6",
           "showlakes": true,
           "showland": true,
           "subunitcolor": "white"
          },
          "hoverlabel": {
           "align": "left"
          },
          "hovermode": "closest",
          "mapbox": {
           "style": "light"
          },
          "paper_bgcolor": "white",
          "plot_bgcolor": "#E5ECF6",
          "polar": {
           "angularaxis": {
            "gridcolor": "white",
            "linecolor": "white",
            "ticks": ""
           },
           "bgcolor": "#E5ECF6",
           "radialaxis": {
            "gridcolor": "white",
            "linecolor": "white",
            "ticks": ""
           }
          },
          "scene": {
           "xaxis": {
            "backgroundcolor": "#E5ECF6",
            "gridcolor": "white",
            "gridwidth": 2,
            "linecolor": "white",
            "showbackground": true,
            "ticks": "",
            "zerolinecolor": "white"
           },
           "yaxis": {
            "backgroundcolor": "#E5ECF6",
            "gridcolor": "white",
            "gridwidth": 2,
            "linecolor": "white",
            "showbackground": true,
            "ticks": "",
            "zerolinecolor": "white"
           },
           "zaxis": {
            "backgroundcolor": "#E5ECF6",
            "gridcolor": "white",
            "gridwidth": 2,
            "linecolor": "white",
            "showbackground": true,
            "ticks": "",
            "zerolinecolor": "white"
           }
          },
          "shapedefaults": {
           "line": {
            "color": "#2a3f5f"
           }
          },
          "ternary": {
           "aaxis": {
            "gridcolor": "white",
            "linecolor": "white",
            "ticks": ""
           },
           "baxis": {
            "gridcolor": "white",
            "linecolor": "white",
            "ticks": ""
           },
           "bgcolor": "#E5ECF6",
           "caxis": {
            "gridcolor": "white",
            "linecolor": "white",
            "ticks": ""
           }
          },
          "title": {
           "x": 0.05
          },
          "xaxis": {
           "automargin": true,
           "gridcolor": "white",
           "linecolor": "white",
           "ticks": "",
           "title": {
            "standoff": 15
           },
           "zerolinecolor": "white",
           "zerolinewidth": 2
          },
          "yaxis": {
           "automargin": true,
           "gridcolor": "white",
           "linecolor": "white",
           "ticks": "",
           "title": {
            "standoff": 15
           },
           "zerolinecolor": "white",
           "zerolinewidth": 2
          }
         }
        },
        "title": {
         "text": "Most Dangerous Sharks"
        },
        "xaxis": {
         "anchor": "y",
         "categoryarray": [
          "white shark",
          "tiger shark",
          "wobbegong",
          "bull shark",
          "whaler shark",
          "shark_not_known",
          "bronze whaler shark",
          "others: 18 types"
         ],
         "categoryorder": "array",
         "domain": [
          0,
          1
         ],
         "title": {
          "text": "Shark Type"
         }
        },
        "yaxis": {
         "anchor": "x",
         "domain": [
          0,
          1
         ],
         "title": {
          "text": "Number of Incidents"
         }
        }
       }
      }
     },
     "metadata": {},
     "output_type": "display_data"
    }
   ],
   "source": [
    "shark_counts = shark_data[\"shark_common_name\"].value_counts().reset_index()\n",
    "shark_counts.columns = [\"shark_common_name\", \"count\"]\n",
    "\n",
    "\n",
    "top_5_sharks = shark_counts.head(7)\n",
    "others = shark_counts.iloc[7:]\n",
    "num_others = others[\"shark_common_name\"].nunique()\n",
    "others_count = others[\"count\"].sum()\n",
    "others_row = pd.DataFrame(\n",
    "    [\n",
    "        {\n",
    "            \"shark_common_name\": f\"others: {num_others} types\",\n",
    "            \"count\": others_count,\n",
    "        }\n",
    "    ]\n",
    ")\n",
    "top_5_sharks = pd.concat([top_5_sharks, others_row], ignore_index=True)\n",
    "\n",
    "others_text = \"<br>\".join(\n",
    "    [\n",
    "        f\"{row['shark_common_name']}: {row['count']} incidents\"\n",
    "        for _, row in others.iterrows()\n",
    "    ]\n",
    ")\n",
    "\n",
    "\n",
    "top_5_sharks.loc[\n",
    "    top_5_sharks[\"shark_common_name\"] == f\"others: {num_others} types\",\n",
    "    \"hover_text\",\n",
    "] = others_text\n",
    "\n",
    "top_5_sharks[\"hover_text\"] = top_5_sharks[\"hover_text\"].fillna(\n",
    "    top_5_sharks[\"shark_common_name\"]\n",
    "    + \": \"\n",
    "    + top_5_sharks[\"count\"].astype(str)\n",
    "    + \" incidents\"\n",
    ")\n",
    "\n",
    "colors = [\n",
    "    \"#ab47bc\",\n",
    "    \"#7e57c2\",\n",
    "    \"#2e7d32\",\n",
    "    \"#455a64\",\n",
    "    \"#795548\",\n",
    "    \"#303f9f\",\n",
    "    \"#5e35b1\",\n",
    "    \"#4e342e\",\n",
    "]\n",
    "\n",
    "fig = px.bar(\n",
    "    top_5_sharks,\n",
    "    x=\"shark_common_name\",\n",
    "    y=\"count\",\n",
    "    title=\"Most Dangerous Sharks\",\n",
    "    labels={\"shark_common_name\": \"Shark Type\", \"count\": \"Number of Incidents\"},\n",
    "    color=\"shark_common_name\",\n",
    "    color_discrete_sequence=colors,\n",
    "    text=\"hover_text\",\n",
    ")\n",
    "\n",
    "fig.update_traces(\n",
    "    hovertemplate=\"%{text}\",\n",
    "    textposition=\"none\",\n",
    ")\n",
    "\n",
    "fig.update_layout(\n",
    "    font=dict(color=\"#00796b\", size=14),\n",
    "    plot_bgcolor=\"rgba(0,0,0,0)\",\n",
    "    paper_bgcolor=\"rgba(0,0,0,0)\",\n",
    "    xaxis_title=\"Shark Type\",\n",
    "    yaxis_title=\"Number of Incidents\",\n",
    "    showlegend=False,\n",
    ")\n",
    "\n",
    "fig.show()"
   ]
  },
  {
   "cell_type": "code",
   "execution_count": 16,
   "metadata": {},
   "outputs": [],
   "source": [
    "shark_victim_injury_counts = (\n",
    "    shark_data.groupby([\"shark_common_name\", \"victim_injury\"])\n",
    "    .size()\n",
    "    .reset_index(name=\"count\")\n",
    ")\n",
    "shark_victim_injury_counts[\"total_sum\"] = 0\n",
    "unique_sharks = shark_victim_injury_counts[\"shark_common_name\"].unique()\n",
    "for shark in unique_sharks:\n",
    "    dfx = shark_victim_injury_counts.loc[\n",
    "        shark_victim_injury_counts[\"shark_common_name\"] == shark\n",
    "    ]\n",
    "    sum_incident = dfx[\"count\"].sum()\n",
    "    shark_victim_injury_counts.loc[\n",
    "        shark_victim_injury_counts[\"shark_common_name\"] == shark, \"total_sum\"\n",
    "    ] = sum_incident\n",
    "shark_victim_injury_counts = shark_victim_injury_counts.sort_values(\n",
    "    \"total_sum\", ascending=False\n",
    ")\n",
    "\n",
    "shark_victim_injury_counts_top = shark_victim_injury_counts.loc[\n",
    "    shark_victim_injury_counts[\"shark_common_name\"].isin(\n",
    "        shark_victim_injury_counts[\"shark_common_name\"].unique()[:7]\n",
    "    )\n",
    "]\n",
    "shark_victim_injury_counts_others = shark_victim_injury_counts.loc[\n",
    "    ~shark_victim_injury_counts[\"shark_common_name\"].isin(\n",
    "        shark_victim_injury_counts[\"shark_common_name\"].unique()[:7]\n",
    "    )\n",
    "]\n",
    "\n",
    "# # hover stuff like in the previous graph, idk why i am doing this to myself.\n",
    "# ye idc\n",
    "# others_detailed_text = \"<br>\".join(\n",
    "#     [\n",
    "#         f\"{row['shark_common_name']}: {row['count']} incidents\"\n",
    "#         for _, row in shark_victim_injury_counts_others.iterrows()\n",
    "#     ]\n",
    "# )\n",
    "# shark_victim_injury_counts_others.loc[\n",
    "#     shark_victim_injury_counts_others[\"shark_common_name\"].str.contains(\n",
    "#         \"others\"\n",
    "#     ),\n",
    "#     \"hover_text\",\n",
    "# ] = others_detailed_text\n",
    "\n",
    "# shark_victim_injury_counts_top[\"hover_text\"] = np.nan\n",
    "# shark_victim_injury_counts_top[\"hover_text\"] = shark_victim_injury_counts_top[\n",
    "#     \"hover_text\"\n",
    "# ].fillna(\n",
    "#     shark_victim_injury_counts_top[\"shark_common_name\"]\n",
    "#     + \": \"\n",
    "#     + shark_victim_injury_counts_top[\"count\"].astype(str)\n",
    "#     + \" incidents\"\n",
    "# )\n",
    "\n",
    "\n",
    "others_fatal_count = shark_victim_injury_counts_others.loc[\n",
    "    shark_victim_injury_counts_others[\"victim_injury\"] == \"fatal\"\n",
    "][\"count\"].sum()\n",
    "others_injured_count = shark_victim_injury_counts_others.loc[\n",
    "    shark_victim_injury_counts_others[\"victim_injury\"] == \"injured\"\n",
    "][\"count\"].sum()\n",
    "others_uninjured_count = shark_victim_injury_counts_others.loc[\n",
    "    shark_victim_injury_counts_others[\"victim_injury\"] == \"uninjured\"\n",
    "][\"count\"].sum()\n",
    "others_unknown_count = shark_victim_injury_counts_others.loc[\n",
    "    shark_victim_injury_counts_others[\"victim_injury\"] == \"unknown\"\n",
    "][\"count\"].sum()\n",
    "total_sum = shark_victim_injury_counts_others[\"count\"].sum()\n",
    "\n",
    "\n",
    "# others_fatal_hover = shark_victim_injury_counts_others.loc[\n",
    "#     shark_victim_injury_counts_others[\"victim_injury\"] == \"fatal\"\n",
    "# ][\"hover_text\"].values\n",
    "# others_injured_hover = shark_victim_injury_counts_others.loc[\n",
    "#     shark_victim_injury_counts_others[\"victim_injury\"] == \"injured\"\n",
    "# ][\"hover_text\"].values\n",
    "# others_uninjured_hover = shark_victim_injury_counts_others.loc[\n",
    "#     shark_victim_injury_counts_others[\"victim_injury\"] == \"uninjured\"\n",
    "# ][\"hover_text\"].values\n",
    "# others_unknown_hover = shark_victim_injury_counts_others.loc[\n",
    "#     shark_victim_injury_counts_others[\"victim_injury\"] == \"unknown\"\n",
    "# ][\"hover_text\"].values\n",
    "\n",
    "num_others = shark_victim_injury_counts_others[\"shark_common_name\"].nunique()\n",
    "\n",
    "\n",
    "shark_victim_injury_counts_others = pd.DataFrame(\n",
    "    {\n",
    "        \"shark_common_name\": [\n",
    "            f\"others: {num_others} types\",\n",
    "            f\"others: {num_others} types\",\n",
    "            f\"others: {num_others} types\",\n",
    "        ],\n",
    "        \"victim_injury\": [\"injured\", \"uninjured\", \"unknown\"],\n",
    "        \"count\": [\n",
    "            others_injured_count,\n",
    "            others_uninjured_count,\n",
    "            others_unknown_count,\n",
    "        ],\n",
    "        \"total_sum\": [total_sum, total_sum, total_sum],\n",
    "        # \"hover_text\": [others_injured_hover, others_uninjured_hover, others_unknown_hover],\n",
    "    }\n",
    ")\n",
    "shark_victim_injury_counts = pd.concat(\n",
    "    [shark_victim_injury_counts_top, shark_victim_injury_counts_others]\n",
    ").reset_index(drop=True)\n",
    "# shark_victim_injury_counts"
   ]
  },
  {
   "cell_type": "code",
   "execution_count": 17,
   "metadata": {},
   "outputs": [
    {
     "data": {
      "application/vnd.plotly.v1+json": {
       "config": {
        "plotlyServerURL": "https://plot.ly"
       },
       "data": [
        {
         "alignmentgroup": "True",
         "hovertemplate": "Type of Injury=uninjured<br>Shark Type=%{x}<br>Number of Incidents=%{y}<extra></extra>",
         "legendgroup": "uninjured",
         "marker": {
          "color": "#ab47bc",
          "pattern": {
           "shape": ""
          }
         },
         "name": "uninjured",
         "offsetgroup": "uninjured",
         "orientation": "v",
         "showlegend": true,
         "textposition": "none",
         "type": "bar",
         "x": [
          "white shark",
          "tiger shark",
          "wobbegong",
          "bull shark",
          "whaler shark",
          "shark_not_known",
          "bronze whaler shark",
          "others: 18 types"
         ],
         "xaxis": "x",
         "y": [
          106,
          28,
          10,
          28,
          21,
          11,
          13,
          12
         ],
         "yaxis": "y"
        },
        {
         "alignmentgroup": "True",
         "hovertemplate": "Type of Injury=fatal<br>Shark Type=%{x}<br>Number of Incidents=%{y}<extra></extra>",
         "legendgroup": "fatal",
         "marker": {
          "color": "#7e57c2",
          "pattern": {
           "shape": ""
          }
         },
         "name": "fatal",
         "offsetgroup": "fatal",
         "orientation": "v",
         "showlegend": true,
         "textposition": "none",
         "type": "bar",
         "x": [
          "white shark",
          "tiger shark",
          "bull shark",
          "whaler shark",
          "shark_not_known"
         ],
         "xaxis": "x",
         "y": [
          94,
          86,
          64,
          6,
          5
         ],
         "yaxis": "y"
        },
        {
         "alignmentgroup": "True",
         "hovertemplate": "Type of Injury=injured<br>Shark Type=%{x}<br>Number of Incidents=%{y}<extra></extra>",
         "legendgroup": "injured",
         "marker": {
          "color": "#2e7d32",
          "pattern": {
           "shape": ""
          }
         },
         "name": "injured",
         "offsetgroup": "injured",
         "orientation": "v",
         "showlegend": true,
         "textposition": "none",
         "type": "bar",
         "x": [
          "white shark",
          "tiger shark",
          "wobbegong",
          "bull shark",
          "whaler shark",
          "shark_not_known",
          "bronze whaler shark",
          "others: 18 types"
         ],
         "xaxis": "x",
         "y": [
          171,
          116,
          193,
          110,
          49,
          41,
          16,
          52
         ],
         "yaxis": "y"
        },
        {
         "alignmentgroup": "True",
         "hovertemplate": "Type of Injury=unknown<br>Shark Type=%{x}<br>Number of Incidents=%{y}<extra></extra>",
         "legendgroup": "unknown",
         "marker": {
          "color": "#455a64",
          "pattern": {
           "shape": ""
          }
         },
         "name": "unknown",
         "offsetgroup": "unknown",
         "orientation": "v",
         "showlegend": true,
         "textposition": "none",
         "type": "bar",
         "x": [
          "others: 18 types"
         ],
         "xaxis": "x",
         "y": [
          1
         ],
         "yaxis": "y"
        }
       ],
       "layout": {
        "annotations": [
         {
          "font": {
           "color": "#00796b",
           "size": 12
          },
          "showarrow": false,
          "text": "Total: 29",
          "x": "bronze whaler shark",
          "xanchor": "center",
          "y": -5,
          "yanchor": "top"
         },
         {
          "font": {
           "color": "#00796b",
           "size": 12
          },
          "showarrow": false,
          "text": "Total: 202",
          "x": "bull shark",
          "xanchor": "center",
          "y": -5,
          "yanchor": "top"
         },
         {
          "font": {
           "color": "#00796b",
           "size": 12
          },
          "showarrow": false,
          "text": "Total: 65",
          "x": "others: 18 types",
          "xanchor": "center",
          "y": -5,
          "yanchor": "top"
         },
         {
          "font": {
           "color": "#00796b",
           "size": 12
          },
          "showarrow": false,
          "text": "Total: 57",
          "x": "shark_not_known",
          "xanchor": "center",
          "y": -5,
          "yanchor": "top"
         },
         {
          "font": {
           "color": "#00796b",
           "size": 12
          },
          "showarrow": false,
          "text": "Total: 230",
          "x": "tiger shark",
          "xanchor": "center",
          "y": -5,
          "yanchor": "top"
         },
         {
          "font": {
           "color": "#00796b",
           "size": 12
          },
          "showarrow": false,
          "text": "Total: 76",
          "x": "whaler shark",
          "xanchor": "center",
          "y": -5,
          "yanchor": "top"
         },
         {
          "font": {
           "color": "#00796b",
           "size": 12
          },
          "showarrow": false,
          "text": "Total: 371",
          "x": "white shark",
          "xanchor": "center",
          "y": -5,
          "yanchor": "top"
         },
         {
          "font": {
           "color": "#00796b",
           "size": 12
          },
          "showarrow": false,
          "text": "Total: 203",
          "x": "wobbegong",
          "xanchor": "center",
          "y": -5,
          "yanchor": "top"
         }
        ],
        "barmode": "group",
        "font": {
         "color": "#00796b",
         "size": 14
        },
        "height": 750,
        "legend": {
         "title": {
          "text": "Type of Injury"
         },
         "tracegroupgap": 0
        },
        "paper_bgcolor": "rgba(0,0,0,0)",
        "plot_bgcolor": "rgba(0,0,0,0)",
        "showlegend": true,
        "template": {
         "data": {
          "bar": [
           {
            "error_x": {
             "color": "#2a3f5f"
            },
            "error_y": {
             "color": "#2a3f5f"
            },
            "marker": {
             "line": {
              "color": "#E5ECF6",
              "width": 0.5
             },
             "pattern": {
              "fillmode": "overlay",
              "size": 10,
              "solidity": 0.2
             }
            },
            "type": "bar"
           }
          ],
          "barpolar": [
           {
            "marker": {
             "line": {
              "color": "#E5ECF6",
              "width": 0.5
             },
             "pattern": {
              "fillmode": "overlay",
              "size": 10,
              "solidity": 0.2
             }
            },
            "type": "barpolar"
           }
          ],
          "carpet": [
           {
            "aaxis": {
             "endlinecolor": "#2a3f5f",
             "gridcolor": "white",
             "linecolor": "white",
             "minorgridcolor": "white",
             "startlinecolor": "#2a3f5f"
            },
            "baxis": {
             "endlinecolor": "#2a3f5f",
             "gridcolor": "white",
             "linecolor": "white",
             "minorgridcolor": "white",
             "startlinecolor": "#2a3f5f"
            },
            "type": "carpet"
           }
          ],
          "choropleth": [
           {
            "colorbar": {
             "outlinewidth": 0,
             "ticks": ""
            },
            "type": "choropleth"
           }
          ],
          "contour": [
           {
            "colorbar": {
             "outlinewidth": 0,
             "ticks": ""
            },
            "colorscale": [
             [
              0,
              "#0d0887"
             ],
             [
              0.1111111111111111,
              "#46039f"
             ],
             [
              0.2222222222222222,
              "#7201a8"
             ],
             [
              0.3333333333333333,
              "#9c179e"
             ],
             [
              0.4444444444444444,
              "#bd3786"
             ],
             [
              0.5555555555555556,
              "#d8576b"
             ],
             [
              0.6666666666666666,
              "#ed7953"
             ],
             [
              0.7777777777777778,
              "#fb9f3a"
             ],
             [
              0.8888888888888888,
              "#fdca26"
             ],
             [
              1,
              "#f0f921"
             ]
            ],
            "type": "contour"
           }
          ],
          "contourcarpet": [
           {
            "colorbar": {
             "outlinewidth": 0,
             "ticks": ""
            },
            "type": "contourcarpet"
           }
          ],
          "heatmap": [
           {
            "colorbar": {
             "outlinewidth": 0,
             "ticks": ""
            },
            "colorscale": [
             [
              0,
              "#0d0887"
             ],
             [
              0.1111111111111111,
              "#46039f"
             ],
             [
              0.2222222222222222,
              "#7201a8"
             ],
             [
              0.3333333333333333,
              "#9c179e"
             ],
             [
              0.4444444444444444,
              "#bd3786"
             ],
             [
              0.5555555555555556,
              "#d8576b"
             ],
             [
              0.6666666666666666,
              "#ed7953"
             ],
             [
              0.7777777777777778,
              "#fb9f3a"
             ],
             [
              0.8888888888888888,
              "#fdca26"
             ],
             [
              1,
              "#f0f921"
             ]
            ],
            "type": "heatmap"
           }
          ],
          "heatmapgl": [
           {
            "colorbar": {
             "outlinewidth": 0,
             "ticks": ""
            },
            "colorscale": [
             [
              0,
              "#0d0887"
             ],
             [
              0.1111111111111111,
              "#46039f"
             ],
             [
              0.2222222222222222,
              "#7201a8"
             ],
             [
              0.3333333333333333,
              "#9c179e"
             ],
             [
              0.4444444444444444,
              "#bd3786"
             ],
             [
              0.5555555555555556,
              "#d8576b"
             ],
             [
              0.6666666666666666,
              "#ed7953"
             ],
             [
              0.7777777777777778,
              "#fb9f3a"
             ],
             [
              0.8888888888888888,
              "#fdca26"
             ],
             [
              1,
              "#f0f921"
             ]
            ],
            "type": "heatmapgl"
           }
          ],
          "histogram": [
           {
            "marker": {
             "pattern": {
              "fillmode": "overlay",
              "size": 10,
              "solidity": 0.2
             }
            },
            "type": "histogram"
           }
          ],
          "histogram2d": [
           {
            "colorbar": {
             "outlinewidth": 0,
             "ticks": ""
            },
            "colorscale": [
             [
              0,
              "#0d0887"
             ],
             [
              0.1111111111111111,
              "#46039f"
             ],
             [
              0.2222222222222222,
              "#7201a8"
             ],
             [
              0.3333333333333333,
              "#9c179e"
             ],
             [
              0.4444444444444444,
              "#bd3786"
             ],
             [
              0.5555555555555556,
              "#d8576b"
             ],
             [
              0.6666666666666666,
              "#ed7953"
             ],
             [
              0.7777777777777778,
              "#fb9f3a"
             ],
             [
              0.8888888888888888,
              "#fdca26"
             ],
             [
              1,
              "#f0f921"
             ]
            ],
            "type": "histogram2d"
           }
          ],
          "histogram2dcontour": [
           {
            "colorbar": {
             "outlinewidth": 0,
             "ticks": ""
            },
            "colorscale": [
             [
              0,
              "#0d0887"
             ],
             [
              0.1111111111111111,
              "#46039f"
             ],
             [
              0.2222222222222222,
              "#7201a8"
             ],
             [
              0.3333333333333333,
              "#9c179e"
             ],
             [
              0.4444444444444444,
              "#bd3786"
             ],
             [
              0.5555555555555556,
              "#d8576b"
             ],
             [
              0.6666666666666666,
              "#ed7953"
             ],
             [
              0.7777777777777778,
              "#fb9f3a"
             ],
             [
              0.8888888888888888,
              "#fdca26"
             ],
             [
              1,
              "#f0f921"
             ]
            ],
            "type": "histogram2dcontour"
           }
          ],
          "mesh3d": [
           {
            "colorbar": {
             "outlinewidth": 0,
             "ticks": ""
            },
            "type": "mesh3d"
           }
          ],
          "parcoords": [
           {
            "line": {
             "colorbar": {
              "outlinewidth": 0,
              "ticks": ""
             }
            },
            "type": "parcoords"
           }
          ],
          "pie": [
           {
            "automargin": true,
            "type": "pie"
           }
          ],
          "scatter": [
           {
            "fillpattern": {
             "fillmode": "overlay",
             "size": 10,
             "solidity": 0.2
            },
            "type": "scatter"
           }
          ],
          "scatter3d": [
           {
            "line": {
             "colorbar": {
              "outlinewidth": 0,
              "ticks": ""
             }
            },
            "marker": {
             "colorbar": {
              "outlinewidth": 0,
              "ticks": ""
             }
            },
            "type": "scatter3d"
           }
          ],
          "scattercarpet": [
           {
            "marker": {
             "colorbar": {
              "outlinewidth": 0,
              "ticks": ""
             }
            },
            "type": "scattercarpet"
           }
          ],
          "scattergeo": [
           {
            "marker": {
             "colorbar": {
              "outlinewidth": 0,
              "ticks": ""
             }
            },
            "type": "scattergeo"
           }
          ],
          "scattergl": [
           {
            "marker": {
             "colorbar": {
              "outlinewidth": 0,
              "ticks": ""
             }
            },
            "type": "scattergl"
           }
          ],
          "scattermapbox": [
           {
            "marker": {
             "colorbar": {
              "outlinewidth": 0,
              "ticks": ""
             }
            },
            "type": "scattermapbox"
           }
          ],
          "scatterpolar": [
           {
            "marker": {
             "colorbar": {
              "outlinewidth": 0,
              "ticks": ""
             }
            },
            "type": "scatterpolar"
           }
          ],
          "scatterpolargl": [
           {
            "marker": {
             "colorbar": {
              "outlinewidth": 0,
              "ticks": ""
             }
            },
            "type": "scatterpolargl"
           }
          ],
          "scatterternary": [
           {
            "marker": {
             "colorbar": {
              "outlinewidth": 0,
              "ticks": ""
             }
            },
            "type": "scatterternary"
           }
          ],
          "surface": [
           {
            "colorbar": {
             "outlinewidth": 0,
             "ticks": ""
            },
            "colorscale": [
             [
              0,
              "#0d0887"
             ],
             [
              0.1111111111111111,
              "#46039f"
             ],
             [
              0.2222222222222222,
              "#7201a8"
             ],
             [
              0.3333333333333333,
              "#9c179e"
             ],
             [
              0.4444444444444444,
              "#bd3786"
             ],
             [
              0.5555555555555556,
              "#d8576b"
             ],
             [
              0.6666666666666666,
              "#ed7953"
             ],
             [
              0.7777777777777778,
              "#fb9f3a"
             ],
             [
              0.8888888888888888,
              "#fdca26"
             ],
             [
              1,
              "#f0f921"
             ]
            ],
            "type": "surface"
           }
          ],
          "table": [
           {
            "cells": {
             "fill": {
              "color": "#EBF0F8"
             },
             "line": {
              "color": "white"
             }
            },
            "header": {
             "fill": {
              "color": "#C8D4E3"
             },
             "line": {
              "color": "white"
             }
            },
            "type": "table"
           }
          ]
         },
         "layout": {
          "annotationdefaults": {
           "arrowcolor": "#2a3f5f",
           "arrowhead": 0,
           "arrowwidth": 1
          },
          "autotypenumbers": "strict",
          "coloraxis": {
           "colorbar": {
            "outlinewidth": 0,
            "ticks": ""
           }
          },
          "colorscale": {
           "diverging": [
            [
             0,
             "#8e0152"
            ],
            [
             0.1,
             "#c51b7d"
            ],
            [
             0.2,
             "#de77ae"
            ],
            [
             0.3,
             "#f1b6da"
            ],
            [
             0.4,
             "#fde0ef"
            ],
            [
             0.5,
             "#f7f7f7"
            ],
            [
             0.6,
             "#e6f5d0"
            ],
            [
             0.7,
             "#b8e186"
            ],
            [
             0.8,
             "#7fbc41"
            ],
            [
             0.9,
             "#4d9221"
            ],
            [
             1,
             "#276419"
            ]
           ],
           "sequential": [
            [
             0,
             "#0d0887"
            ],
            [
             0.1111111111111111,
             "#46039f"
            ],
            [
             0.2222222222222222,
             "#7201a8"
            ],
            [
             0.3333333333333333,
             "#9c179e"
            ],
            [
             0.4444444444444444,
             "#bd3786"
            ],
            [
             0.5555555555555556,
             "#d8576b"
            ],
            [
             0.6666666666666666,
             "#ed7953"
            ],
            [
             0.7777777777777778,
             "#fb9f3a"
            ],
            [
             0.8888888888888888,
             "#fdca26"
            ],
            [
             1,
             "#f0f921"
            ]
           ],
           "sequentialminus": [
            [
             0,
             "#0d0887"
            ],
            [
             0.1111111111111111,
             "#46039f"
            ],
            [
             0.2222222222222222,
             "#7201a8"
            ],
            [
             0.3333333333333333,
             "#9c179e"
            ],
            [
             0.4444444444444444,
             "#bd3786"
            ],
            [
             0.5555555555555556,
             "#d8576b"
            ],
            [
             0.6666666666666666,
             "#ed7953"
            ],
            [
             0.7777777777777778,
             "#fb9f3a"
            ],
            [
             0.8888888888888888,
             "#fdca26"
            ],
            [
             1,
             "#f0f921"
            ]
           ]
          },
          "colorway": [
           "#636efa",
           "#EF553B",
           "#00cc96",
           "#ab63fa",
           "#FFA15A",
           "#19d3f3",
           "#FF6692",
           "#B6E880",
           "#FF97FF",
           "#FECB52"
          ],
          "font": {
           "color": "#2a3f5f"
          },
          "geo": {
           "bgcolor": "white",
           "lakecolor": "white",
           "landcolor": "#E5ECF6",
           "showlakes": true,
           "showland": true,
           "subunitcolor": "white"
          },
          "hoverlabel": {
           "align": "left"
          },
          "hovermode": "closest",
          "mapbox": {
           "style": "light"
          },
          "paper_bgcolor": "white",
          "plot_bgcolor": "#E5ECF6",
          "polar": {
           "angularaxis": {
            "gridcolor": "white",
            "linecolor": "white",
            "ticks": ""
           },
           "bgcolor": "#E5ECF6",
           "radialaxis": {
            "gridcolor": "white",
            "linecolor": "white",
            "ticks": ""
           }
          },
          "scene": {
           "xaxis": {
            "backgroundcolor": "#E5ECF6",
            "gridcolor": "white",
            "gridwidth": 2,
            "linecolor": "white",
            "showbackground": true,
            "ticks": "",
            "zerolinecolor": "white"
           },
           "yaxis": {
            "backgroundcolor": "#E5ECF6",
            "gridcolor": "white",
            "gridwidth": 2,
            "linecolor": "white",
            "showbackground": true,
            "ticks": "",
            "zerolinecolor": "white"
           },
           "zaxis": {
            "backgroundcolor": "#E5ECF6",
            "gridcolor": "white",
            "gridwidth": 2,
            "linecolor": "white",
            "showbackground": true,
            "ticks": "",
            "zerolinecolor": "white"
           }
          },
          "shapedefaults": {
           "line": {
            "color": "#2a3f5f"
           }
          },
          "ternary": {
           "aaxis": {
            "gridcolor": "white",
            "linecolor": "white",
            "ticks": ""
           },
           "baxis": {
            "gridcolor": "white",
            "linecolor": "white",
            "ticks": ""
           },
           "bgcolor": "#E5ECF6",
           "caxis": {
            "gridcolor": "white",
            "linecolor": "white",
            "ticks": ""
           }
          },
          "title": {
           "x": 0.05
          },
          "xaxis": {
           "automargin": true,
           "gridcolor": "white",
           "linecolor": "white",
           "ticks": "",
           "title": {
            "standoff": 15
           },
           "zerolinecolor": "white",
           "zerolinewidth": 2
          },
          "yaxis": {
           "automargin": true,
           "gridcolor": "white",
           "linecolor": "white",
           "ticks": "",
           "title": {
            "standoff": 15
           },
           "zerolinecolor": "white",
           "zerolinewidth": 2
          }
         }
        },
        "title": {
         "text": "Shark Incidents by Type of Injury"
        },
        "width": 1000,
        "xaxis": {
         "anchor": "y",
         "domain": [
          0,
          1
         ],
         "title": {
          "text": "Shark Type"
         }
        },
        "yaxis": {
         "anchor": "x",
         "domain": [
          0,
          1
         ],
         "title": {
          "text": "Number of Incidents"
         }
        }
       }
      }
     },
     "metadata": {},
     "output_type": "display_data"
    }
   ],
   "source": [
    "shark_victim_injury_counts[\"total_sum_text\"] = shark_victim_injury_counts[\n",
    "    \"total_sum\"\n",
    "].astype(str)\n",
    "\n",
    "fig = px.bar(\n",
    "    shark_victim_injury_counts,\n",
    "    x=\"shark_common_name\",\n",
    "    y=\"count\",\n",
    "    color=\"victim_injury\",\n",
    "    title=\"Shark Incidents by Type of Injury\",\n",
    "    labels={\n",
    "        \"shark_common_name\": \"Shark Type\",\n",
    "        \"count\": \"Number of Incidents\",\n",
    "        \"victim_injury\": \"Type of Injury\",\n",
    "    },\n",
    "    barmode=\"group\",\n",
    "    color_discrete_sequence=colors,\n",
    "    # text=\"hover_text\", # Commented out hover text stuff\n",
    ")\n",
    "\n",
    "fig.update_traces(textposition=\"none\")\n",
    "fig.update_layout(\n",
    "    font=dict(color=\"#00796b\", size=14),\n",
    "    plot_bgcolor=\"rgba(0,0,0,0)\",\n",
    "    paper_bgcolor=\"rgba(0,0,0,0)\",\n",
    "    xaxis_title=\"Shark Type\",\n",
    "    yaxis_title=\"Number of Incidents\",\n",
    "    showlegend=True,\n",
    "    height=750,\n",
    "    width=1000,\n",
    ")\n",
    "\n",
    "annotations = []\n",
    "for index, row in (\n",
    "    shark_victim_injury_counts.groupby(\"shark_common_name\").first().iterrows()\n",
    "):\n",
    "    annotations.append(\n",
    "        dict(\n",
    "            x=row.name,\n",
    "            y=-5,\n",
    "            text=f\"Total: {row['total_sum']}\",\n",
    "            showarrow=False,\n",
    "            font=dict(color=\"#00796b\", size=12),\n",
    "            xanchor=\"center\",\n",
    "            yanchor=\"top\",\n",
    "        )\n",
    "    )\n",
    "\n",
    "fig.update_layout(annotations=annotations)\n",
    "\n",
    "fig.show()"
   ]
  },
  {
   "cell_type": "code",
   "execution_count": 18,
   "metadata": {},
   "outputs": [],
   "source": [
    "# df[\"victim_activity\"].unique()"
   ]
  },
  {
   "cell_type": "code",
   "execution_count": 19,
   "metadata": {},
   "outputs": [
    {
     "data": {
      "text/html": [
       "<div>\n",
       "<style scoped>\n",
       "    .dataframe tbody tr th:only-of-type {\n",
       "        vertical-align: middle;\n",
       "    }\n",
       "\n",
       "    .dataframe tbody tr th {\n",
       "        vertical-align: top;\n",
       "    }\n",
       "\n",
       "    .dataframe thead th {\n",
       "        text-align: right;\n",
       "    }\n",
       "</style>\n",
       "<table border=\"1\" class=\"dataframe\">\n",
       "  <thead>\n",
       "    <tr style=\"text-align: right;\">\n",
       "      <th></th>\n",
       "      <th>incident_month</th>\n",
       "      <th>victim_activity</th>\n",
       "      <th>provoked_unprovoked</th>\n",
       "      <th>count</th>\n",
       "      <th>total_count</th>\n",
       "    </tr>\n",
       "  </thead>\n",
       "  <tbody>\n",
       "    <tr>\n",
       "      <th>0</th>\n",
       "      <td>1</td>\n",
       "      <td>boarding</td>\n",
       "      <td>provoked</td>\n",
       "      <td>4</td>\n",
       "      <td>36</td>\n",
       "    </tr>\n",
       "    <tr>\n",
       "      <th>1</th>\n",
       "      <td>1</td>\n",
       "      <td>boarding</td>\n",
       "      <td>unprovoked</td>\n",
       "      <td>32</td>\n",
       "      <td>36</td>\n",
       "    </tr>\n",
       "    <tr>\n",
       "      <th>2</th>\n",
       "      <td>1</td>\n",
       "      <td>diving</td>\n",
       "      <td>provoked</td>\n",
       "      <td>8</td>\n",
       "      <td>11</td>\n",
       "    </tr>\n",
       "    <tr>\n",
       "      <th>3</th>\n",
       "      <td>1</td>\n",
       "      <td>diving</td>\n",
       "      <td>unprovoked</td>\n",
       "      <td>3</td>\n",
       "      <td>11</td>\n",
       "    </tr>\n",
       "    <tr>\n",
       "      <th>4</th>\n",
       "      <td>1</td>\n",
       "      <td>fishing</td>\n",
       "      <td>provoked</td>\n",
       "      <td>7</td>\n",
       "      <td>7</td>\n",
       "    </tr>\n",
       "    <tr>\n",
       "      <th>...</th>\n",
       "      <td>...</td>\n",
       "      <td>...</td>\n",
       "      <td>...</td>\n",
       "      <td>...</td>\n",
       "      <td>...</td>\n",
       "    </tr>\n",
       "    <tr>\n",
       "      <th>170</th>\n",
       "      <td>12</td>\n",
       "      <td>unknown</td>\n",
       "      <td>unknown</td>\n",
       "      <td>1</td>\n",
       "      <td>4</td>\n",
       "    </tr>\n",
       "    <tr>\n",
       "      <th>171</th>\n",
       "      <td>12</td>\n",
       "      <td>unknown</td>\n",
       "      <td>unprovoked</td>\n",
       "      <td>2</td>\n",
       "      <td>4</td>\n",
       "    </tr>\n",
       "    <tr>\n",
       "      <th>172</th>\n",
       "      <td>12</td>\n",
       "      <td>unmotorised boating</td>\n",
       "      <td>provoked</td>\n",
       "      <td>1</td>\n",
       "      <td>2</td>\n",
       "    </tr>\n",
       "    <tr>\n",
       "      <th>173</th>\n",
       "      <td>12</td>\n",
       "      <td>unmotorised boating</td>\n",
       "      <td>unprovoked</td>\n",
       "      <td>1</td>\n",
       "      <td>2</td>\n",
       "    </tr>\n",
       "    <tr>\n",
       "      <th>174</th>\n",
       "      <td>12</td>\n",
       "      <td>wing foiler</td>\n",
       "      <td>unprovoked</td>\n",
       "      <td>1</td>\n",
       "      <td>1</td>\n",
       "    </tr>\n",
       "  </tbody>\n",
       "</table>\n",
       "<p>175 rows × 5 columns</p>\n",
       "</div>"
      ],
      "text/plain": [
       "     incident_month      victim_activity provoked_unprovoked  count  \\\n",
       "0                 1             boarding            provoked      4   \n",
       "1                 1             boarding          unprovoked     32   \n",
       "2                 1               diving            provoked      8   \n",
       "3                 1               diving          unprovoked      3   \n",
       "4                 1              fishing            provoked      7   \n",
       "..              ...                  ...                 ...    ...   \n",
       "170              12              unknown             unknown      1   \n",
       "171              12              unknown          unprovoked      2   \n",
       "172              12  unmotorised boating            provoked      1   \n",
       "173              12  unmotorised boating          unprovoked      1   \n",
       "174              12          wing foiler          unprovoked      1   \n",
       "\n",
       "     total_count  \n",
       "0             36  \n",
       "1             36  \n",
       "2             11  \n",
       "3             11  \n",
       "4              7  \n",
       "..           ...  \n",
       "170            4  \n",
       "171            4  \n",
       "172            2  \n",
       "173            2  \n",
       "174            1  \n",
       "\n",
       "[175 rows x 5 columns]"
      ]
     },
     "execution_count": 19,
     "metadata": {},
     "output_type": "execute_result"
    }
   ],
   "source": [
    "shark_monthly_activity = (\n",
    "    shark_data.groupby(\n",
    "        [\"incident_month\", \"victim_activity\", \"provoked_unprovoked\"]\n",
    "    )\n",
    "    .size()\n",
    "    .reset_index(name=\"count\")\n",
    ")\n",
    "\n",
    "# Add a \"total_count\" column which is the sum of \"count\" for each victim_activity\n",
    "shark_monthly_activity[\"total_count\"] = shark_monthly_activity.groupby(\n",
    "    [\"incident_month\", \"victim_activity\"]\n",
    ")[\"count\"].transform(\"sum\")\n",
    "shark_monthly_activity"
   ]
  },
  {
   "cell_type": "code",
   "execution_count": 20,
   "metadata": {},
   "outputs": [
    {
     "data": {
      "text/html": [
       "<div>\n",
       "<style scoped>\n",
       "    .dataframe tbody tr th:only-of-type {\n",
       "        vertical-align: middle;\n",
       "    }\n",
       "\n",
       "    .dataframe tbody tr th {\n",
       "        vertical-align: top;\n",
       "    }\n",
       "\n",
       "    .dataframe thead th {\n",
       "        text-align: right;\n",
       "    }\n",
       "</style>\n",
       "<table border=\"1\" class=\"dataframe\">\n",
       "  <thead>\n",
       "    <tr style=\"text-align: right;\">\n",
       "      <th></th>\n",
       "      <th>victim_activity</th>\n",
       "      <th>provoked_unprovoked</th>\n",
       "      <th>shark_common_name</th>\n",
       "      <th>count</th>\n",
       "      <th>total_count</th>\n",
       "    </tr>\n",
       "  </thead>\n",
       "  <tbody>\n",
       "    <tr>\n",
       "      <th>4</th>\n",
       "      <td>boarding</td>\n",
       "      <td>provoked</td>\n",
       "      <td>white shark</td>\n",
       "      <td>3</td>\n",
       "      <td>180</td>\n",
       "    </tr>\n",
       "    <tr>\n",
       "      <th>15</th>\n",
       "      <td>boarding</td>\n",
       "      <td>unprovoked</td>\n",
       "      <td>white shark</td>\n",
       "      <td>177</td>\n",
       "      <td>180</td>\n",
       "    </tr>\n",
       "    <tr>\n",
       "      <th>115</th>\n",
       "      <td>swimming</td>\n",
       "      <td>unprovoked</td>\n",
       "      <td>bull shark</td>\n",
       "      <td>135</td>\n",
       "      <td>140</td>\n",
       "    </tr>\n",
       "    <tr>\n",
       "      <th>102</th>\n",
       "      <td>swimming</td>\n",
       "      <td>provoked</td>\n",
       "      <td>bull shark</td>\n",
       "      <td>5</td>\n",
       "      <td>140</td>\n",
       "    </tr>\n",
       "    <tr>\n",
       "      <th>122</th>\n",
       "      <td>swimming</td>\n",
       "      <td>unprovoked</td>\n",
       "      <td>tiger shark</td>\n",
       "      <td>94</td>\n",
       "      <td>98</td>\n",
       "    </tr>\n",
       "    <tr>\n",
       "      <th>...</th>\n",
       "      <td>...</td>\n",
       "      <td>...</td>\n",
       "      <td>...</td>\n",
       "      <td>...</td>\n",
       "      <td>...</td>\n",
       "    </tr>\n",
       "    <tr>\n",
       "      <th>80</th>\n",
       "      <td>spearfishing</td>\n",
       "      <td>provoked</td>\n",
       "      <td>blacktip reef shark</td>\n",
       "      <td>1</td>\n",
       "      <td>1</td>\n",
       "    </tr>\n",
       "    <tr>\n",
       "      <th>78</th>\n",
       "      <td>snorkelling</td>\n",
       "      <td>unprovoked</td>\n",
       "      <td>whitetip reef shark</td>\n",
       "      <td>1</td>\n",
       "      <td>1</td>\n",
       "    </tr>\n",
       "    <tr>\n",
       "      <th>75</th>\n",
       "      <td>snorkelling</td>\n",
       "      <td>unprovoked</td>\n",
       "      <td>unknown</td>\n",
       "      <td>1</td>\n",
       "      <td>1</td>\n",
       "    </tr>\n",
       "    <tr>\n",
       "      <th>71</th>\n",
       "      <td>snorkelling</td>\n",
       "      <td>unprovoked</td>\n",
       "      <td>dusky shark</td>\n",
       "      <td>1</td>\n",
       "      <td>1</td>\n",
       "    </tr>\n",
       "    <tr>\n",
       "      <th>148</th>\n",
       "      <td>wing foiler</td>\n",
       "      <td>unprovoked</td>\n",
       "      <td>bronze whaler shark</td>\n",
       "      <td>1</td>\n",
       "      <td>1</td>\n",
       "    </tr>\n",
       "  </tbody>\n",
       "</table>\n",
       "<p>149 rows × 5 columns</p>\n",
       "</div>"
      ],
      "text/plain": [
       "    victim_activity provoked_unprovoked    shark_common_name  count  \\\n",
       "4          boarding            provoked          white shark      3   \n",
       "15         boarding          unprovoked          white shark    177   \n",
       "115        swimming          unprovoked           bull shark    135   \n",
       "102        swimming            provoked           bull shark      5   \n",
       "122        swimming          unprovoked          tiger shark     94   \n",
       "..              ...                 ...                  ...    ...   \n",
       "80     spearfishing            provoked  blacktip reef shark      1   \n",
       "78      snorkelling          unprovoked  whitetip reef shark      1   \n",
       "75      snorkelling          unprovoked              unknown      1   \n",
       "71      snorkelling          unprovoked          dusky shark      1   \n",
       "148     wing foiler          unprovoked  bronze whaler shark      1   \n",
       "\n",
       "     total_count  \n",
       "4            180  \n",
       "15           180  \n",
       "115          140  \n",
       "102          140  \n",
       "122           98  \n",
       "..           ...  \n",
       "80             1  \n",
       "78             1  \n",
       "75             1  \n",
       "71             1  \n",
       "148            1  \n",
       "\n",
       "[149 rows x 5 columns]"
      ]
     },
     "execution_count": 20,
     "metadata": {},
     "output_type": "execute_result"
    }
   ],
   "source": [
    "shark_activity = (\n",
    "    shark_data.groupby(\n",
    "        [\"victim_activity\", \"provoked_unprovoked\", \"shark_common_name\"]\n",
    "    )\n",
    "    .size()\n",
    "    .reset_index(name=\"count\")\n",
    ")\n",
    "shark_activity[\"total_count\"] = shark_activity.groupby(\n",
    "    [\"victim_activity\", \"shark_common_name\"]\n",
    ")[\"count\"].transform(\"sum\")\n",
    "shark_activity.sort_values([\"total_count\"], ascending=False)"
   ]
  },
  {
   "cell_type": "code",
   "execution_count": 21,
   "metadata": {},
   "outputs": [
    {
     "data": {
      "text/html": [
       "<div>\n",
       "<style scoped>\n",
       "    .dataframe tbody tr th:only-of-type {\n",
       "        vertical-align: middle;\n",
       "    }\n",
       "\n",
       "    .dataframe tbody tr th {\n",
       "        vertical-align: top;\n",
       "    }\n",
       "\n",
       "    .dataframe thead th {\n",
       "        text-align: right;\n",
       "    }\n",
       "</style>\n",
       "<table border=\"1\" class=\"dataframe\">\n",
       "  <thead>\n",
       "    <tr style=\"text-align: right;\">\n",
       "      <th></th>\n",
       "      <th>provoked_unprovoked</th>\n",
       "      <th>shark_common_name</th>\n",
       "      <th>count</th>\n",
       "      <th>total_count</th>\n",
       "    </tr>\n",
       "  </thead>\n",
       "  <tbody>\n",
       "    <tr>\n",
       "      <th>43</th>\n",
       "      <td>unprovoked</td>\n",
       "      <td>white shark</td>\n",
       "      <td>307</td>\n",
       "      <td>371</td>\n",
       "    </tr>\n",
       "    <tr>\n",
       "      <th>27</th>\n",
       "      <td>unknown</td>\n",
       "      <td>white shark</td>\n",
       "      <td>1</td>\n",
       "      <td>371</td>\n",
       "    </tr>\n",
       "    <tr>\n",
       "      <th>21</th>\n",
       "      <td>provoked</td>\n",
       "      <td>white shark</td>\n",
       "      <td>63</td>\n",
       "      <td>371</td>\n",
       "    </tr>\n",
       "    <tr>\n",
       "      <th>18</th>\n",
       "      <td>provoked</td>\n",
       "      <td>tiger shark</td>\n",
       "      <td>104</td>\n",
       "      <td>230</td>\n",
       "    </tr>\n",
       "    <tr>\n",
       "      <th>40</th>\n",
       "      <td>unprovoked</td>\n",
       "      <td>tiger shark</td>\n",
       "      <td>126</td>\n",
       "      <td>230</td>\n",
       "    </tr>\n",
       "    <tr>\n",
       "      <th>23</th>\n",
       "      <td>provoked</td>\n",
       "      <td>wobbegong</td>\n",
       "      <td>100</td>\n",
       "      <td>203</td>\n",
       "    </tr>\n",
       "    <tr>\n",
       "      <th>28</th>\n",
       "      <td>unknown</td>\n",
       "      <td>wobbegong</td>\n",
       "      <td>1</td>\n",
       "      <td>203</td>\n",
       "    </tr>\n",
       "    <tr>\n",
       "      <th>45</th>\n",
       "      <td>unprovoked</td>\n",
       "      <td>wobbegong</td>\n",
       "      <td>102</td>\n",
       "      <td>203</td>\n",
       "    </tr>\n",
       "    <tr>\n",
       "      <th>4</th>\n",
       "      <td>provoked</td>\n",
       "      <td>bull shark</td>\n",
       "      <td>31</td>\n",
       "      <td>202</td>\n",
       "    </tr>\n",
       "    <tr>\n",
       "      <th>32</th>\n",
       "      <td>unprovoked</td>\n",
       "      <td>bull shark</td>\n",
       "      <td>171</td>\n",
       "      <td>202</td>\n",
       "    </tr>\n",
       "    <tr>\n",
       "      <th>20</th>\n",
       "      <td>provoked</td>\n",
       "      <td>whaler shark</td>\n",
       "      <td>30</td>\n",
       "      <td>76</td>\n",
       "    </tr>\n",
       "    <tr>\n",
       "      <th>42</th>\n",
       "      <td>unprovoked</td>\n",
       "      <td>whaler shark</td>\n",
       "      <td>46</td>\n",
       "      <td>76</td>\n",
       "    </tr>\n",
       "    <tr>\n",
       "      <th>25</th>\n",
       "      <td>unknown</td>\n",
       "      <td>shark_not_known</td>\n",
       "      <td>3</td>\n",
       "      <td>57</td>\n",
       "    </tr>\n",
       "    <tr>\n",
       "      <th>38</th>\n",
       "      <td>unprovoked</td>\n",
       "      <td>shark_not_known</td>\n",
       "      <td>42</td>\n",
       "      <td>57</td>\n",
       "    </tr>\n",
       "    <tr>\n",
       "      <th>15</th>\n",
       "      <td>provoked</td>\n",
       "      <td>shark_not_known</td>\n",
       "      <td>12</td>\n",
       "      <td>57</td>\n",
       "    </tr>\n",
       "    <tr>\n",
       "      <th>3</th>\n",
       "      <td>provoked</td>\n",
       "      <td>bronze whaler shark</td>\n",
       "      <td>23</td>\n",
       "      <td>29</td>\n",
       "    </tr>\n",
       "    <tr>\n",
       "      <th>31</th>\n",
       "      <td>unprovoked</td>\n",
       "      <td>bronze whaler shark</td>\n",
       "      <td>6</td>\n",
       "      <td>29</td>\n",
       "    </tr>\n",
       "    <tr>\n",
       "      <th>34</th>\n",
       "      <td>unprovoked</td>\n",
       "      <td>grey nurse shark</td>\n",
       "      <td>4</td>\n",
       "      <td>9</td>\n",
       "    </tr>\n",
       "    <tr>\n",
       "      <th>8</th>\n",
       "      <td>provoked</td>\n",
       "      <td>grey nurse shark</td>\n",
       "      <td>5</td>\n",
       "      <td>9</td>\n",
       "    </tr>\n",
       "    <tr>\n",
       "      <th>35</th>\n",
       "      <td>unprovoked</td>\n",
       "      <td>grey reef shark</td>\n",
       "      <td>3</td>\n",
       "      <td>8</td>\n",
       "    </tr>\n",
       "    <tr>\n",
       "      <th>9</th>\n",
       "      <td>provoked</td>\n",
       "      <td>grey reef shark</td>\n",
       "      <td>5</td>\n",
       "      <td>8</td>\n",
       "    </tr>\n",
       "    <tr>\n",
       "      <th>41</th>\n",
       "      <td>unprovoked</td>\n",
       "      <td>unknown</td>\n",
       "      <td>5</td>\n",
       "      <td>7</td>\n",
       "    </tr>\n",
       "    <tr>\n",
       "      <th>19</th>\n",
       "      <td>provoked</td>\n",
       "      <td>unknown</td>\n",
       "      <td>1</td>\n",
       "      <td>7</td>\n",
       "    </tr>\n",
       "    <tr>\n",
       "      <th>44</th>\n",
       "      <td>unprovoked</td>\n",
       "      <td>whitetip reef shark</td>\n",
       "      <td>1</td>\n",
       "      <td>7</td>\n",
       "    </tr>\n",
       "    <tr>\n",
       "      <th>22</th>\n",
       "      <td>provoked</td>\n",
       "      <td>whitetip reef shark</td>\n",
       "      <td>6</td>\n",
       "      <td>7</td>\n",
       "    </tr>\n",
       "    <tr>\n",
       "      <th>26</th>\n",
       "      <td>unknown</td>\n",
       "      <td>unknown</td>\n",
       "      <td>1</td>\n",
       "      <td>7</td>\n",
       "    </tr>\n",
       "    <tr>\n",
       "      <th>36</th>\n",
       "      <td>unprovoked</td>\n",
       "      <td>lemon shark</td>\n",
       "      <td>2</td>\n",
       "      <td>6</td>\n",
       "    </tr>\n",
       "    <tr>\n",
       "      <th>24</th>\n",
       "      <td>unknown</td>\n",
       "      <td>lemon shark</td>\n",
       "      <td>1</td>\n",
       "      <td>6</td>\n",
       "    </tr>\n",
       "    <tr>\n",
       "      <th>11</th>\n",
       "      <td>provoked</td>\n",
       "      <td>lemon shark</td>\n",
       "      <td>3</td>\n",
       "      <td>6</td>\n",
       "    </tr>\n",
       "    <tr>\n",
       "      <th>6</th>\n",
       "      <td>provoked</td>\n",
       "      <td>dusky shark</td>\n",
       "      <td>2</td>\n",
       "      <td>5</td>\n",
       "    </tr>\n",
       "    <tr>\n",
       "      <th>10</th>\n",
       "      <td>provoked</td>\n",
       "      <td>hammerhead shark</td>\n",
       "      <td>5</td>\n",
       "      <td>5</td>\n",
       "    </tr>\n",
       "    <tr>\n",
       "      <th>33</th>\n",
       "      <td>unprovoked</td>\n",
       "      <td>dusky shark</td>\n",
       "      <td>3</td>\n",
       "      <td>5</td>\n",
       "    </tr>\n",
       "    <tr>\n",
       "      <th>0</th>\n",
       "      <td>provoked</td>\n",
       "      <td>blacktip reef shark</td>\n",
       "      <td>1</td>\n",
       "      <td>4</td>\n",
       "    </tr>\n",
       "    <tr>\n",
       "      <th>29</th>\n",
       "      <td>unprovoked</td>\n",
       "      <td>blacktip reef shark</td>\n",
       "      <td>3</td>\n",
       "      <td>4</td>\n",
       "    </tr>\n",
       "    <tr>\n",
       "      <th>7</th>\n",
       "      <td>provoked</td>\n",
       "      <td>galapagos shark</td>\n",
       "      <td>3</td>\n",
       "      <td>3</td>\n",
       "    </tr>\n",
       "    <tr>\n",
       "      <th>30</th>\n",
       "      <td>unprovoked</td>\n",
       "      <td>broadnose sevengill shark</td>\n",
       "      <td>1</td>\n",
       "      <td>2</td>\n",
       "    </tr>\n",
       "    <tr>\n",
       "      <th>39</th>\n",
       "      <td>unprovoked</td>\n",
       "      <td>shortfin mako shark</td>\n",
       "      <td>1</td>\n",
       "      <td>2</td>\n",
       "    </tr>\n",
       "    <tr>\n",
       "      <th>16</th>\n",
       "      <td>provoked</td>\n",
       "      <td>shortfin mako shark</td>\n",
       "      <td>1</td>\n",
       "      <td>2</td>\n",
       "    </tr>\n",
       "    <tr>\n",
       "      <th>2</th>\n",
       "      <td>provoked</td>\n",
       "      <td>broadnose sevengill shark</td>\n",
       "      <td>1</td>\n",
       "      <td>2</td>\n",
       "    </tr>\n",
       "    <tr>\n",
       "      <th>1</th>\n",
       "      <td>provoked</td>\n",
       "      <td>blind shark</td>\n",
       "      <td>1</td>\n",
       "      <td>1</td>\n",
       "    </tr>\n",
       "    <tr>\n",
       "      <th>37</th>\n",
       "      <td>unprovoked</td>\n",
       "      <td>school shark</td>\n",
       "      <td>1</td>\n",
       "      <td>1</td>\n",
       "    </tr>\n",
       "    <tr>\n",
       "      <th>17</th>\n",
       "      <td>provoked</td>\n",
       "      <td>silvertip shark</td>\n",
       "      <td>1</td>\n",
       "      <td>1</td>\n",
       "    </tr>\n",
       "    <tr>\n",
       "      <th>14</th>\n",
       "      <td>provoked</td>\n",
       "      <td>sevengill shark</td>\n",
       "      <td>1</td>\n",
       "      <td>1</td>\n",
       "    </tr>\n",
       "    <tr>\n",
       "      <th>13</th>\n",
       "      <td>provoked</td>\n",
       "      <td>seven gill shark</td>\n",
       "      <td>1</td>\n",
       "      <td>1</td>\n",
       "    </tr>\n",
       "    <tr>\n",
       "      <th>12</th>\n",
       "      <td>provoked</td>\n",
       "      <td>port jackson shark</td>\n",
       "      <td>1</td>\n",
       "      <td>1</td>\n",
       "    </tr>\n",
       "    <tr>\n",
       "      <th>5</th>\n",
       "      <td>provoked</td>\n",
       "      <td>dogfish</td>\n",
       "      <td>1</td>\n",
       "      <td>1</td>\n",
       "    </tr>\n",
       "  </tbody>\n",
       "</table>\n",
       "</div>"
      ],
      "text/plain": [
       "   provoked_unprovoked          shark_common_name  count  total_count\n",
       "43          unprovoked                white shark    307          371\n",
       "27             unknown                white shark      1          371\n",
       "21            provoked                white shark     63          371\n",
       "18            provoked                tiger shark    104          230\n",
       "40          unprovoked                tiger shark    126          230\n",
       "23            provoked                  wobbegong    100          203\n",
       "28             unknown                  wobbegong      1          203\n",
       "45          unprovoked                  wobbegong    102          203\n",
       "4             provoked                 bull shark     31          202\n",
       "32          unprovoked                 bull shark    171          202\n",
       "20            provoked               whaler shark     30           76\n",
       "42          unprovoked               whaler shark     46           76\n",
       "25             unknown            shark_not_known      3           57\n",
       "38          unprovoked            shark_not_known     42           57\n",
       "15            provoked            shark_not_known     12           57\n",
       "3             provoked        bronze whaler shark     23           29\n",
       "31          unprovoked        bronze whaler shark      6           29\n",
       "34          unprovoked           grey nurse shark      4            9\n",
       "8             provoked           grey nurse shark      5            9\n",
       "35          unprovoked            grey reef shark      3            8\n",
       "9             provoked            grey reef shark      5            8\n",
       "41          unprovoked                    unknown      5            7\n",
       "19            provoked                    unknown      1            7\n",
       "44          unprovoked        whitetip reef shark      1            7\n",
       "22            provoked        whitetip reef shark      6            7\n",
       "26             unknown                    unknown      1            7\n",
       "36          unprovoked                lemon shark      2            6\n",
       "24             unknown                lemon shark      1            6\n",
       "11            provoked                lemon shark      3            6\n",
       "6             provoked                dusky shark      2            5\n",
       "10            provoked          hammerhead shark       5            5\n",
       "33          unprovoked                dusky shark      3            5\n",
       "0             provoked        blacktip reef shark      1            4\n",
       "29          unprovoked        blacktip reef shark      3            4\n",
       "7             provoked            galapagos shark      3            3\n",
       "30          unprovoked  broadnose sevengill shark      1            2\n",
       "39          unprovoked        shortfin mako shark      1            2\n",
       "16            provoked        shortfin mako shark      1            2\n",
       "2             provoked  broadnose sevengill shark      1            2\n",
       "1             provoked                blind shark      1            1\n",
       "37          unprovoked               school shark      1            1\n",
       "17            provoked            silvertip shark      1            1\n",
       "14            provoked            sevengill shark      1            1\n",
       "13            provoked          seven gill shark       1            1\n",
       "12            provoked         port jackson shark      1            1\n",
       "5             provoked                    dogfish      1            1"
      ]
     },
     "execution_count": 21,
     "metadata": {},
     "output_type": "execute_result"
    }
   ],
   "source": [
    "shark_activity = (\n",
    "    shark_data.groupby([\"provoked_unprovoked\", \"shark_common_name\"])\n",
    "    .size()\n",
    "    .reset_index(name=\"count\")\n",
    ")\n",
    "shark_activity[\"total_count\"] = shark_activity.groupby([\"shark_common_name\"])[\n",
    "    \"count\"\n",
    "].transform(\"sum\")\n",
    "shark_activity.sort_values([\"total_count\"], ascending=False)"
   ]
  },
  {
   "cell_type": "code",
   "execution_count": 22,
   "metadata": {},
   "outputs": [
    {
     "data": {
      "text/html": [
       "<div>\n",
       "<style scoped>\n",
       "    .dataframe tbody tr th:only-of-type {\n",
       "        vertical-align: middle;\n",
       "    }\n",
       "\n",
       "    .dataframe tbody tr th {\n",
       "        vertical-align: top;\n",
       "    }\n",
       "\n",
       "    .dataframe thead th {\n",
       "        text-align: right;\n",
       "    }\n",
       "</style>\n",
       "<table border=\"1\" class=\"dataframe\">\n",
       "  <thead>\n",
       "    <tr style=\"text-align: right;\">\n",
       "      <th></th>\n",
       "      <th>incident_month</th>\n",
       "      <th>incident_year</th>\n",
       "      <th>injury_severity</th>\n",
       "      <th>latitude</th>\n",
       "      <th>longitude</th>\n",
       "      <th>month_year</th>\n",
       "      <th>shark_behaviour_generic</th>\n",
       "      <th>shark_behaviour_specific</th>\n",
       "      <th>site_category_cleaned</th>\n",
       "      <th>state_names</th>\n",
       "      <th>victim_injury</th>\n",
       "      <th>location</th>\n",
       "      <th>provoked_unprovoked</th>\n",
       "      <th>victim_gender</th>\n",
       "      <th>victim_activity</th>\n",
       "      <th>shark_common_name</th>\n",
       "      <th>shark_scientific_name</th>\n",
       "      <th>no_sharks</th>\n",
       "      <th>reference</th>\n",
       "      <th>injury_location</th>\n",
       "      <th>data_source</th>\n",
       "      <th>shark_identification_method</th>\n",
       "      <th>shark_behaviour</th>\n",
       "      <th>victim_age</th>\n",
       "    </tr>\n",
       "  </thead>\n",
       "  <tbody>\n",
       "    <tr>\n",
       "      <th>0</th>\n",
       "      <td>1</td>\n",
       "      <td>1791</td>\n",
       "      <td>major_lacerations</td>\n",
       "      <td>-33.86666666666667</td>\n",
       "      <td>151.2</td>\n",
       "      <td>1791-01-01</td>\n",
       "      <td>unknown</td>\n",
       "      <td>unknown</td>\n",
       "      <td>coastal</td>\n",
       "      <td>New South Wales</td>\n",
       "      <td>fatal</td>\n",
       "      <td>near sydney</td>\n",
       "      <td>unprovoked</td>\n",
       "      <td>female</td>\n",
       "      <td>swimming</td>\n",
       "      <td>white shark</td>\n",
       "      <td>Carcharodon carcharias</td>\n",
       "      <td>NaN</td>\n",
       "      <td>shark&amp;survl, whitley 1958, book ref 1793</td>\n",
       "      <td>torso</td>\n",
       "      <td>book</td>\n",
       "      <td>bite analysis, shark behaviour, geographical location</td>\n",
       "      <td>unknown</td>\n",
       "      <td>NaN</td>\n",
       "    </tr>\n",
       "    <tr>\n",
       "      <th>1</th>\n",
       "      <td>3</td>\n",
       "      <td>1803</td>\n",
       "      <td>NaN</td>\n",
       "      <td>-25.833333333333332</td>\n",
       "      <td>113.88333333333334</td>\n",
       "      <td>1803-03-01</td>\n",
       "      <td>swam_at_victim</td>\n",
       "      <td>swam_at_victim</td>\n",
       "      <td>coastal</td>\n",
       "      <td>Western Australia</td>\n",
       "      <td>injured</td>\n",
       "      <td>hamelin bay, faure island</td>\n",
       "      <td>unprovoked</td>\n",
       "      <td>male</td>\n",
       "      <td>swimming</td>\n",
       "      <td>tiger shark</td>\n",
       "      <td>Galeocerdo cuvier</td>\n",
       "      <td>1.0</td>\n",
       "      <td>balgridge,green,taylor,whitley 1940</td>\n",
       "      <td>unknown</td>\n",
       "      <td>book</td>\n",
       "      <td>bite analysis, shark behaviour, geographical location</td>\n",
       "      <td>swam at victim</td>\n",
       "      <td>NaN</td>\n",
       "    </tr>\n",
       "    <tr>\n",
       "      <th>2</th>\n",
       "      <td>1</td>\n",
       "      <td>1807</td>\n",
       "      <td>minor_lacerations</td>\n",
       "      <td>-33.86666666666667</td>\n",
       "      <td>151.2</td>\n",
       "      <td>1807-01-01</td>\n",
       "      <td>bit_victim_on_wrist</td>\n",
       "      <td>bit_victim_on_wrist</td>\n",
       "      <td>estuary_harbour</td>\n",
       "      <td>New South Wales</td>\n",
       "      <td>injured</td>\n",
       "      <td>cockle bay, sydney harbour</td>\n",
       "      <td>unprovoked</td>\n",
       "      <td>male</td>\n",
       "      <td>swimming</td>\n",
       "      <td>bull shark</td>\n",
       "      <td>Carcharhinus leucas</td>\n",
       "      <td>1.0</td>\n",
       "      <td>sydney gazette 18.1.1807</td>\n",
       "      <td>arm, hand</td>\n",
       "      <td>media outlet</td>\n",
       "      <td>bite analysis, shark behaviour</td>\n",
       "      <td>bit victim on wrist</td>\n",
       "      <td>NaN</td>\n",
       "    </tr>\n",
       "    <tr>\n",
       "      <th>3</th>\n",
       "      <td>1</td>\n",
       "      <td>1820</td>\n",
       "      <td>major_lacerations</td>\n",
       "      <td>-42.8</td>\n",
       "      <td>147.53333333333333</td>\n",
       "      <td>1820-01-01</td>\n",
       "      <td>bit_leg</td>\n",
       "      <td>bit_leg</td>\n",
       "      <td>coastal</td>\n",
       "      <td>Tasmania</td>\n",
       "      <td>fatal</td>\n",
       "      <td>sweetwater point, pitt water</td>\n",
       "      <td>provoked</td>\n",
       "      <td>male</td>\n",
       "      <td>swimming</td>\n",
       "      <td>shark_not_known</td>\n",
       "      <td>shark_not_known</td>\n",
       "      <td>1.0</td>\n",
       "      <td>shark&amp;survl, c. black researcher</td>\n",
       "      <td>leg</td>\n",
       "      <td>witness account</td>\n",
       "      <td>unknown</td>\n",
       "      <td>bit victim on leg</td>\n",
       "      <td>NaN</td>\n",
       "    </tr>\n",
       "    <tr>\n",
       "      <th>4</th>\n",
       "      <td>1</td>\n",
       "      <td>1825</td>\n",
       "      <td>minor_lacerations</td>\n",
       "      <td>-33.85</td>\n",
       "      <td>151.21666666666667</td>\n",
       "      <td>1825-01-01</td>\n",
       "      <td>bit_leg</td>\n",
       "      <td>bit_leg</td>\n",
       "      <td>estuary_harbour</td>\n",
       "      <td>New South Wales</td>\n",
       "      <td>injured</td>\n",
       "      <td>kirribili point, sydney harbour</td>\n",
       "      <td>unprovoked</td>\n",
       "      <td>male</td>\n",
       "      <td>swimming</td>\n",
       "      <td>bull shark</td>\n",
       "      <td>Carcharhinus leucas</td>\n",
       "      <td>1.0</td>\n",
       "      <td>maitland daily mercury 13.11.1899</td>\n",
       "      <td>leg</td>\n",
       "      <td>media outlet</td>\n",
       "      <td>bite analysis, shark behaviour, geographical location</td>\n",
       "      <td>bit legs</td>\n",
       "      <td>15.0</td>\n",
       "    </tr>\n",
       "    <tr>\n",
       "      <th>...</th>\n",
       "      <td>...</td>\n",
       "      <td>...</td>\n",
       "      <td>...</td>\n",
       "      <td>...</td>\n",
       "      <td>...</td>\n",
       "      <td>...</td>\n",
       "      <td>...</td>\n",
       "      <td>...</td>\n",
       "      <td>...</td>\n",
       "      <td>...</td>\n",
       "      <td>...</td>\n",
       "      <td>...</td>\n",
       "      <td>...</td>\n",
       "      <td>...</td>\n",
       "      <td>...</td>\n",
       "      <td>...</td>\n",
       "      <td>...</td>\n",
       "      <td>...</td>\n",
       "      <td>...</td>\n",
       "      <td>...</td>\n",
       "      <td>...</td>\n",
       "      <td>...</td>\n",
       "      <td>...</td>\n",
       "      <td>...</td>\n",
       "    </tr>\n",
       "    <tr>\n",
       "      <th>1228</th>\n",
       "      <td>12</td>\n",
       "      <td>2023</td>\n",
       "      <td>fatality</td>\n",
       "      <td>-34.679356</td>\n",
       "      <td>137.684906.</td>\n",
       "      <td>2023-12-01</td>\n",
       "      <td>unknown</td>\n",
       "      <td>unknown</td>\n",
       "      <td>coastal</td>\n",
       "      <td>South Australia</td>\n",
       "      <td>fatal</td>\n",
       "      <td>ethel beach, yorke penninsula</td>\n",
       "      <td>unprovoked</td>\n",
       "      <td>male</td>\n",
       "      <td>surfing</td>\n",
       "      <td>white shark</td>\n",
       "      <td>Carcharodon carcharias</td>\n",
       "      <td>1.0</td>\n",
       "      <td>NaN</td>\n",
       "      <td>fatal</td>\n",
       "      <td>unknown</td>\n",
       "      <td>unknown</td>\n",
       "      <td>unknown</td>\n",
       "      <td>15.0</td>\n",
       "    </tr>\n",
       "    <tr>\n",
       "      <th>1229</th>\n",
       "      <td>1</td>\n",
       "      <td>2024</td>\n",
       "      <td>lacerations</td>\n",
       "      <td>-34.3333</td>\n",
       "      <td>135.7500.</td>\n",
       "      <td>2024-01-01</td>\n",
       "      <td>unknown</td>\n",
       "      <td>unknown</td>\n",
       "      <td>coastal</td>\n",
       "      <td>South Australia</td>\n",
       "      <td>injured</td>\n",
       "      <td>eyre penninsula</td>\n",
       "      <td>unprovoked</td>\n",
       "      <td>male</td>\n",
       "      <td>surfing</td>\n",
       "      <td>shark_not_known</td>\n",
       "      <td>shark_not_known</td>\n",
       "      <td>1.0</td>\n",
       "      <td>NaN</td>\n",
       "      <td>leg</td>\n",
       "      <td>unknown</td>\n",
       "      <td>unknown</td>\n",
       "      <td>unknown</td>\n",
       "      <td>64.0</td>\n",
       "    </tr>\n",
       "    <tr>\n",
       "      <th>1230</th>\n",
       "      <td>1</td>\n",
       "      <td>2024</td>\n",
       "      <td>NaN</td>\n",
       "      <td>-32.333</td>\n",
       "      <td>152.533</td>\n",
       "      <td>2024-01-01</td>\n",
       "      <td>unknown</td>\n",
       "      <td>unknown</td>\n",
       "      <td>estuary_harbour</td>\n",
       "      <td>New South Wales</td>\n",
       "      <td>injured</td>\n",
       "      <td>elizabeth bay</td>\n",
       "      <td>unprovoked</td>\n",
       "      <td>unknown</td>\n",
       "      <td>unknown</td>\n",
       "      <td>bull shark</td>\n",
       "      <td>Carcharhinus leucas</td>\n",
       "      <td>1.0</td>\n",
       "      <td>NaN</td>\n",
       "      <td>unknown</td>\n",
       "      <td>unknown</td>\n",
       "      <td>unknown</td>\n",
       "      <td>unknown</td>\n",
       "      <td>NaN</td>\n",
       "    </tr>\n",
       "    <tr>\n",
       "      <th>1231</th>\n",
       "      <td>2</td>\n",
       "      <td>2024</td>\n",
       "      <td>NaN</td>\n",
       "      <td>-30.30591</td>\n",
       "      <td>115.03825</td>\n",
       "      <td>2024-02-01</td>\n",
       "      <td>unknown</td>\n",
       "      <td>unknown</td>\n",
       "      <td>coastal</td>\n",
       "      <td>Western Australia</td>\n",
       "      <td>injured</td>\n",
       "      <td>jurien bay</td>\n",
       "      <td>unprovoked</td>\n",
       "      <td>unknown</td>\n",
       "      <td>unknown</td>\n",
       "      <td>tiger shark</td>\n",
       "      <td>Galeocerdo cuvier</td>\n",
       "      <td>1.0</td>\n",
       "      <td>NaN</td>\n",
       "      <td>unknown</td>\n",
       "      <td>unknown</td>\n",
       "      <td>unknown</td>\n",
       "      <td>unknown</td>\n",
       "      <td>NaN</td>\n",
       "    </tr>\n",
       "    <tr>\n",
       "      <th>1232</th>\n",
       "      <td>3</td>\n",
       "      <td>2024</td>\n",
       "      <td>NaN</td>\n",
       "      <td>-24.8333</td>\n",
       "      <td>152.4167</td>\n",
       "      <td>2024-03-01</td>\n",
       "      <td>unknown</td>\n",
       "      <td>unknown</td>\n",
       "      <td>coastal</td>\n",
       "      <td>Queensland</td>\n",
       "      <td>injured</td>\n",
       "      <td>baragara beach, bundaberg</td>\n",
       "      <td>unprovoked</td>\n",
       "      <td>unknown</td>\n",
       "      <td>unknown</td>\n",
       "      <td>shark_not_known</td>\n",
       "      <td>shark_not_known</td>\n",
       "      <td>1.0</td>\n",
       "      <td>NaN</td>\n",
       "      <td>unknown</td>\n",
       "      <td>unknown</td>\n",
       "      <td>unknown</td>\n",
       "      <td>unknown</td>\n",
       "      <td>NaN</td>\n",
       "    </tr>\n",
       "  </tbody>\n",
       "</table>\n",
       "<p>1233 rows × 24 columns</p>\n",
       "</div>"
      ],
      "text/plain": [
       "      incident_month  incident_year    injury_severity             latitude  \\\n",
       "0                  1           1791  major_lacerations   -33.86666666666667   \n",
       "1                  3           1803                NaN  -25.833333333333332   \n",
       "2                  1           1807  minor_lacerations   -33.86666666666667   \n",
       "3                  1           1820  major_lacerations                -42.8   \n",
       "4                  1           1825  minor_lacerations               -33.85   \n",
       "...              ...            ...                ...                  ...   \n",
       "1228              12           2023           fatality           -34.679356   \n",
       "1229               1           2024        lacerations             -34.3333   \n",
       "1230               1           2024                NaN              -32.333   \n",
       "1231               2           2024                NaN            -30.30591   \n",
       "1232               3           2024                NaN             -24.8333   \n",
       "\n",
       "               longitude  month_year shark_behaviour_generic  \\\n",
       "0                  151.2  1791-01-01                 unknown   \n",
       "1     113.88333333333334  1803-03-01          swam_at_victim   \n",
       "2                  151.2  1807-01-01     bit_victim_on_wrist   \n",
       "3     147.53333333333333  1820-01-01                 bit_leg   \n",
       "4     151.21666666666667  1825-01-01                 bit_leg   \n",
       "...                  ...         ...                     ...   \n",
       "1228         137.684906.  2023-12-01                 unknown   \n",
       "1229           135.7500.  2024-01-01                 unknown   \n",
       "1230             152.533  2024-01-01                 unknown   \n",
       "1231           115.03825  2024-02-01                 unknown   \n",
       "1232            152.4167  2024-03-01                 unknown   \n",
       "\n",
       "     shark_behaviour_specific site_category_cleaned        state_names  \\\n",
       "0                     unknown               coastal    New South Wales   \n",
       "1              swam_at_victim               coastal  Western Australia   \n",
       "2         bit_victim_on_wrist       estuary_harbour    New South Wales   \n",
       "3                     bit_leg               coastal           Tasmania   \n",
       "4                     bit_leg       estuary_harbour    New South Wales   \n",
       "...                       ...                   ...                ...   \n",
       "1228                  unknown               coastal    South Australia   \n",
       "1229                  unknown               coastal    South Australia   \n",
       "1230                  unknown       estuary_harbour    New South Wales   \n",
       "1231                  unknown               coastal  Western Australia   \n",
       "1232                  unknown               coastal         Queensland   \n",
       "\n",
       "     victim_injury                         location provoked_unprovoked  \\\n",
       "0            fatal                      near sydney          unprovoked   \n",
       "1          injured        hamelin bay, faure island          unprovoked   \n",
       "2          injured       cockle bay, sydney harbour          unprovoked   \n",
       "3            fatal     sweetwater point, pitt water            provoked   \n",
       "4          injured  kirribili point, sydney harbour          unprovoked   \n",
       "...            ...                              ...                 ...   \n",
       "1228         fatal    ethel beach, yorke penninsula          unprovoked   \n",
       "1229       injured                  eyre penninsula          unprovoked   \n",
       "1230       injured                    elizabeth bay          unprovoked   \n",
       "1231       injured                       jurien bay          unprovoked   \n",
       "1232       injured        baragara beach, bundaberg          unprovoked   \n",
       "\n",
       "     victim_gender victim_activity shark_common_name    shark_scientific_name  \\\n",
       "0           female        swimming       white shark  Carcharodon carcharias    \n",
       "1             male        swimming       tiger shark       Galeocerdo cuvier    \n",
       "2             male        swimming        bull shark      Carcharhinus leucas   \n",
       "3             male        swimming   shark_not_known          shark_not_known   \n",
       "4             male        swimming        bull shark      Carcharhinus leucas   \n",
       "...            ...             ...               ...                      ...   \n",
       "1228          male         surfing       white shark   Carcharodon carcharias   \n",
       "1229          male         surfing   shark_not_known          shark_not_known   \n",
       "1230       unknown         unknown        bull shark      Carcharhinus leucas   \n",
       "1231       unknown         unknown       tiger shark       Galeocerdo cuvier    \n",
       "1232       unknown         unknown   shark_not_known          shark_not_known   \n",
       "\n",
       "      no_sharks                                 reference injury_location  \\\n",
       "0           NaN  shark&survl, whitley 1958, book ref 1793           torso   \n",
       "1           1.0       balgridge,green,taylor,whitley 1940         unknown   \n",
       "2           1.0                  sydney gazette 18.1.1807       arm, hand   \n",
       "3           1.0          shark&survl, c. black researcher             leg   \n",
       "4           1.0         maitland daily mercury 13.11.1899             leg   \n",
       "...         ...                                       ...             ...   \n",
       "1228        1.0                                       NaN           fatal   \n",
       "1229        1.0                                       NaN             leg   \n",
       "1230        1.0                                       NaN         unknown   \n",
       "1231        1.0                                       NaN         unknown   \n",
       "1232        1.0                                       NaN         unknown   \n",
       "\n",
       "          data_source                            shark_identification_method  \\\n",
       "0                book  bite analysis, shark behaviour, geographical location   \n",
       "1                book  bite analysis, shark behaviour, geographical location   \n",
       "2        media outlet                         bite analysis, shark behaviour   \n",
       "3     witness account                                                unknown   \n",
       "4        media outlet  bite analysis, shark behaviour, geographical location   \n",
       "...               ...                                                    ...   \n",
       "1228          unknown                                                unknown   \n",
       "1229          unknown                                                unknown   \n",
       "1230          unknown                                                unknown   \n",
       "1231          unknown                                                unknown   \n",
       "1232          unknown                                                unknown   \n",
       "\n",
       "          shark_behaviour  victim_age  \n",
       "0                 unknown         NaN  \n",
       "1          swam at victim         NaN  \n",
       "2     bit victim on wrist         NaN  \n",
       "3       bit victim on leg         NaN  \n",
       "4                bit legs        15.0  \n",
       "...                   ...         ...  \n",
       "1228              unknown        15.0  \n",
       "1229              unknown        64.0  \n",
       "1230              unknown         NaN  \n",
       "1231              unknown         NaN  \n",
       "1232              unknown         NaN  \n",
       "\n",
       "[1233 rows x 24 columns]"
      ]
     },
     "execution_count": 22,
     "metadata": {},
     "output_type": "execute_result"
    }
   ],
   "source": [
    "shark_data"
   ]
  },
  {
   "cell_type": "code",
   "execution_count": null,
   "metadata": {},
   "outputs": [],
   "source": []
  }
 ],
 "metadata": {
  "kernelspec": {
   "display_name": "tue_uvenv_311",
   "language": "python",
   "name": "python3"
  },
  "language_info": {
   "codemirror_mode": {
    "name": "ipython",
    "version": 3
   },
   "file_extension": ".py",
   "mimetype": "text/x-python",
   "name": "python",
   "nbconvert_exporter": "python",
   "pygments_lexer": "ipython3",
   "version": "3.11.11"
  }
 },
 "nbformat": 4,
 "nbformat_minor": 2
}
