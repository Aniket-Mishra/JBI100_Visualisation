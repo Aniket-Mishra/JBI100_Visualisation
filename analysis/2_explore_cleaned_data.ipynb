{
 "cells": [
  {
   "cell_type": "code",
   "execution_count": 1,
   "metadata": {},
   "outputs": [],
   "source": [
    "import numpy as np\n",
    "import pandas as pd\n",
    "import matplotlib.pyplot as plt\n",
    "import plotly.express as px\n",
    "import plotly.graph_objects as go\n",
    "\n",
    "from plotly.subplots import make_subplots\n",
    "import re"
   ]
  },
  {
   "cell_type": "code",
   "execution_count": 2,
   "metadata": {},
   "outputs": [],
   "source": [
    "pd.set_option(\"display.max_columns\", None)\n",
    "pd.set_option(\"display.width\", None)\n",
    "pd.set_option(\"display.max_colwidth\", None)"
   ]
  },
  {
   "cell_type": "code",
   "execution_count": 3,
   "metadata": {},
   "outputs": [
    {
     "data": {
      "text/html": [
       "<div>\n",
       "<style scoped>\n",
       "    .dataframe tbody tr th:only-of-type {\n",
       "        vertical-align: middle;\n",
       "    }\n",
       "\n",
       "    .dataframe tbody tr th {\n",
       "        vertical-align: top;\n",
       "    }\n",
       "\n",
       "    .dataframe thead th {\n",
       "        text-align: right;\n",
       "    }\n",
       "</style>\n",
       "<table border=\"1\" class=\"dataframe\">\n",
       "  <thead>\n",
       "    <tr style=\"text-align: right;\">\n",
       "      <th></th>\n",
       "      <th>incident_month</th>\n",
       "      <th>incident_year</th>\n",
       "      <th>injury_severity</th>\n",
       "      <th>latitude</th>\n",
       "      <th>longitude</th>\n",
       "      <th>month_year</th>\n",
       "      <th>shark_behaviour_generic</th>\n",
       "      <th>shark_behaviour_specific</th>\n",
       "      <th>site_category_cleaned</th>\n",
       "      <th>state_names</th>\n",
       "      <th>victim_injury</th>\n",
       "      <th>location</th>\n",
       "      <th>provoked_unprovoked</th>\n",
       "      <th>victim_gender</th>\n",
       "      <th>victim_activity</th>\n",
       "      <th>shark_common_name</th>\n",
       "      <th>shark_scientific_name</th>\n",
       "      <th>no_sharks</th>\n",
       "      <th>reference</th>\n",
       "      <th>injury_location</th>\n",
       "      <th>data_source</th>\n",
       "      <th>shark_identification_method</th>\n",
       "      <th>shark_behaviour</th>\n",
       "      <th>victim_age</th>\n",
       "    </tr>\n",
       "  </thead>\n",
       "  <tbody>\n",
       "    <tr>\n",
       "      <th>0</th>\n",
       "      <td>1</td>\n",
       "      <td>1791</td>\n",
       "      <td>major_lacerations</td>\n",
       "      <td>-33.86666666666667</td>\n",
       "      <td>151.2</td>\n",
       "      <td>1791-01-01</td>\n",
       "      <td>unknown</td>\n",
       "      <td>unknown</td>\n",
       "      <td>coastal</td>\n",
       "      <td>New South Wales</td>\n",
       "      <td>fatal</td>\n",
       "      <td>near sydney</td>\n",
       "      <td>unprovoked</td>\n",
       "      <td>female</td>\n",
       "      <td>swimming</td>\n",
       "      <td>white shark</td>\n",
       "      <td>Carcharodon carcharias</td>\n",
       "      <td>NaN</td>\n",
       "      <td>shark&amp;survl, whitley 1958, book ref 1793</td>\n",
       "      <td>torso</td>\n",
       "      <td>book</td>\n",
       "      <td>bite analysis, shark behaviour, geographical location</td>\n",
       "      <td>unknown</td>\n",
       "      <td>NaN</td>\n",
       "    </tr>\n",
       "    <tr>\n",
       "      <th>1</th>\n",
       "      <td>3</td>\n",
       "      <td>1803</td>\n",
       "      <td>NaN</td>\n",
       "      <td>-25.833333333333332</td>\n",
       "      <td>113.88333333333334</td>\n",
       "      <td>1803-03-01</td>\n",
       "      <td>swam_at_victim</td>\n",
       "      <td>swam_at_victim</td>\n",
       "      <td>coastal</td>\n",
       "      <td>Western Australia</td>\n",
       "      <td>injured</td>\n",
       "      <td>hamelin bay, faure island</td>\n",
       "      <td>unprovoked</td>\n",
       "      <td>male</td>\n",
       "      <td>swimming</td>\n",
       "      <td>tiger shark</td>\n",
       "      <td>Galeocerdo cuvier</td>\n",
       "      <td>1.0</td>\n",
       "      <td>balgridge,green,taylor,whitley 1940</td>\n",
       "      <td>unknown</td>\n",
       "      <td>book</td>\n",
       "      <td>bite analysis, shark behaviour, geographical location</td>\n",
       "      <td>swam at victim</td>\n",
       "      <td>NaN</td>\n",
       "    </tr>\n",
       "  </tbody>\n",
       "</table>\n",
       "</div>"
      ],
      "text/plain": [
       "   incident_month  incident_year    injury_severity             latitude  \\\n",
       "0               1           1791  major_lacerations   -33.86666666666667   \n",
       "1               3           1803                NaN  -25.833333333333332   \n",
       "\n",
       "            longitude  month_year shark_behaviour_generic  \\\n",
       "0               151.2  1791-01-01                 unknown   \n",
       "1  113.88333333333334  1803-03-01          swam_at_victim   \n",
       "\n",
       "  shark_behaviour_specific site_category_cleaned        state_names  \\\n",
       "0                  unknown               coastal    New South Wales   \n",
       "1           swam_at_victim               coastal  Western Australia   \n",
       "\n",
       "  victim_injury                   location provoked_unprovoked victim_gender  \\\n",
       "0         fatal                near sydney          unprovoked        female   \n",
       "1       injured  hamelin bay, faure island          unprovoked          male   \n",
       "\n",
       "  victim_activity shark_common_name    shark_scientific_name  no_sharks  \\\n",
       "0        swimming       white shark  Carcharodon carcharias         NaN   \n",
       "1        swimming       tiger shark       Galeocerdo cuvier         1.0   \n",
       "\n",
       "                                  reference injury_location data_source  \\\n",
       "0  shark&survl, whitley 1958, book ref 1793           torso        book   \n",
       "1       balgridge,green,taylor,whitley 1940         unknown        book   \n",
       "\n",
       "                             shark_identification_method shark_behaviour  \\\n",
       "0  bite analysis, shark behaviour, geographical location         unknown   \n",
       "1  bite analysis, shark behaviour, geographical location  swam at victim   \n",
       "\n",
       "   victim_age  \n",
       "0         NaN  \n",
       "1         NaN  "
      ]
     },
     "execution_count": 3,
     "metadata": {},
     "output_type": "execute_result"
    }
   ],
   "source": [
    "df = pd.read_csv(\n",
    "    \"/Users/paniket/TU_Eindhoven/2_Study/Q2_JBI100_Visualisation_4/4_Code/JBI100_Visualisation/data/filtered_cleaned_shark_data.csv\"\n",
    ")\n",
    "df.head(2)"
   ]
  },
  {
   "cell_type": "code",
   "execution_count": 4,
   "metadata": {},
   "outputs": [
    {
     "data": {
      "text/plain": [
       "np.int64(361)"
      ]
     },
     "execution_count": 4,
     "metadata": {},
     "output_type": "execute_result"
    }
   ],
   "source": [
    "df[\"injury_severity\"].isna().sum()"
   ]
  },
  {
   "cell_type": "code",
   "execution_count": 5,
   "metadata": {},
   "outputs": [
    {
     "data": {
      "text/plain": [
       "np.int64(0)"
      ]
     },
     "execution_count": 5,
     "metadata": {},
     "output_type": "execute_result"
    }
   ],
   "source": [
    "df[\"site_category_cleaned\"].isna().sum()\n"
   ]
  },
  {
   "cell_type": "code",
   "execution_count": 4,
   "metadata": {},
   "outputs": [
    {
     "data": {
      "text/plain": [
       "site_category_cleaned\n",
       "coastal              812\n",
       "island_open_ocean    186\n",
       "estuary_harbour      112\n",
       "river                 93\n",
       "ocean_pelagic         29\n",
       "other_fish_farm        1\n",
       "Name: count, dtype: int64"
      ]
     },
     "execution_count": 4,
     "metadata": {},
     "output_type": "execute_result"
    }
   ],
   "source": [
    "df[\"site_category_cleaned\"].value_counts()"
   ]
  },
  {
   "cell_type": "code",
   "execution_count": 5,
   "metadata": {},
   "outputs": [
    {
     "data": {
      "text/plain": [
       "site_category_cleaned\n",
       "ocean_pelagic      29\n",
       "other_fish_farm     1\n",
       "Name: count, dtype: int64"
      ]
     },
     "execution_count": 5,
     "metadata": {},
     "output_type": "execute_result"
    }
   ],
   "source": [
    "df.loc[\n",
    "    ~(\n",
    "        df[\"site_category_cleaned\"].isin(\n",
    "            [\"coastal\", \"island_open_ocean\", \"estuary_harbour\", \"river\"]\n",
    "        )\n",
    "    ),\n",
    "    \"site_category_cleaned\",\n",
    "].value_counts()"
   ]
  },
  {
   "cell_type": "code",
   "execution_count": 6,
   "metadata": {},
   "outputs": [
    {
     "data": {
      "text/plain": [
       "site_category_cleaned\n",
       "coastal              812\n",
       "island_open_ocean    186\n",
       "estuary_harbour      112\n",
       "river                 93\n",
       "ocean_pelagic         29\n",
       "other_fish_farm        1\n",
       "Name: count, dtype: int64"
      ]
     },
     "execution_count": 6,
     "metadata": {},
     "output_type": "execute_result"
    }
   ],
   "source": [
    "df[\"site_category_cleaned\"].value_counts()"
   ]
  },
  {
   "cell_type": "code",
   "execution_count": 7,
   "metadata": {},
   "outputs": [],
   "source": [
    "df.loc[\n",
    "    ~(\n",
    "        df[\"site_category_cleaned\"].isin(\n",
    "            [\"coastal\", \"island_open_ocean\", \"estuary_harbour\", \"river\"]\n",
    "        )\n",
    "    ),\n",
    "    \"site_category_cleaned\",\n",
    "] = \"Others\""
   ]
  },
  {
   "cell_type": "code",
   "execution_count": 8,
   "metadata": {},
   "outputs": [
    {
     "data": {
      "text/plain": [
       "site_category_cleaned\n",
       "coastal              812\n",
       "island_open_ocean    186\n",
       "estuary_harbour      112\n",
       "river                 93\n",
       "Others                30\n",
       "Name: count, dtype: int64"
      ]
     },
     "execution_count": 8,
     "metadata": {},
     "output_type": "execute_result"
    }
   ],
   "source": [
    "df[\"site_category_cleaned\"].value_counts()"
   ]
  },
  {
   "cell_type": "code",
   "execution_count": 9,
   "metadata": {},
   "outputs": [
    {
     "data": {
      "text/plain": [
       "injury_severity\n",
       "major_lacerations    397\n",
       "minor_lacerations    332\n",
       "other_teeth_marks     89\n",
       "abrasion              35\n",
       "surface_wound         10\n",
       "fatality               4\n",
       "punctures              3\n",
       "lacerations            2\n",
       "Name: count, dtype: int64"
      ]
     },
     "execution_count": 9,
     "metadata": {},
     "output_type": "execute_result"
    }
   ],
   "source": [
    "df[\"injury_severity\"].value_counts()"
   ]
  },
  {
   "cell_type": "code",
   "execution_count": null,
   "metadata": {},
   "outputs": [],
   "source": []
  },
  {
   "cell_type": "code",
   "execution_count": 11,
   "metadata": {},
   "outputs": [
    {
     "data": {
      "text/plain": [
       "(143, 24)"
      ]
     },
     "execution_count": 11,
     "metadata": {},
     "output_type": "execute_result"
    }
   ],
   "source": [
    "df.loc[\n",
    "    ~(\n",
    "        df[\"injury_severity\"].isin(\n",
    "            [\n",
    "                \"major_lacerations\",\n",
    "                \"minor_lacerations\",\n",
    "                np.nan\n",
    "            ]\n",
    "        )\n",
    "    )].shape"
   ]
  },
  {
   "cell_type": "code",
   "execution_count": 13,
   "metadata": {},
   "outputs": [
    {
     "data": {
      "text/plain": [
       "510"
      ]
     },
     "execution_count": 13,
     "metadata": {},
     "output_type": "execute_result"
    }
   ],
   "source": [
    "89+89+332"
   ]
  },
  {
   "cell_type": "code",
   "execution_count": 10,
   "metadata": {},
   "outputs": [],
   "source": [
    "df.loc[\n",
    "    ~(\n",
    "        df[\"injury_severity\"].isin(\n",
    "            [\n",
    "                \"major_lacerations\",\n",
    "                \"minor_lacerations\",\n",
    "            ]\n",
    "        )\n",
    "    ),\n",
    "    \"injury_severity\",\n",
    "] = \"Others\""
   ]
  },
  {
   "cell_type": "code",
   "execution_count": 11,
   "metadata": {},
   "outputs": [
    {
     "data": {
      "text/plain": [
       "injury_severity\n",
       "Others               504\n",
       "major_lacerations    397\n",
       "minor_lacerations    332\n",
       "Name: count, dtype: int64"
      ]
     },
     "execution_count": 11,
     "metadata": {},
     "output_type": "execute_result"
    }
   ],
   "source": [
    "df[\"injury_severity\"].value_counts()"
   ]
  },
  {
   "cell_type": "code",
   "execution_count": 21,
   "metadata": {},
   "outputs": [
    {
     "data": {
      "text/plain": [
       "injury_severity\n",
       "other_teeth_marks    89\n",
       "abrasion             35\n",
       "surface_wound        10\n",
       "fatality              4\n",
       "punctures             3\n",
       "lacerations           2\n",
       "Name: count, dtype: int64"
      ]
     },
     "execution_count": 21,
     "metadata": {},
     "output_type": "execute_result"
    }
   ],
   "source": [
    "df.loc[\n",
    "    ~(\n",
    "        df[\"injury_severity\"].isin(\n",
    "            [\n",
    "                \"major_lacerations\",\n",
    "                \"minor_lacerations\",\n",
    "            ]\n",
    "        )\n",
    "    ),\n",
    "][\"injury_severity\"].value_counts()"
   ]
  },
  {
   "cell_type": "code",
   "execution_count": null,
   "metadata": {},
   "outputs": [],
   "source": [
    "df.loc[\n",
    "    ~(\n",
    "        df[\"site_category_cleaned\"].isin(\n",
    "            [\"coastal\", \"island_open_ocean\", \"estuary_harbour\", \"river\"]\n",
    "        )\n",
    "    ),\n",
    "    \"site_category_cleaned\",\n",
    "] = \"Others\"\n",
    "df[\"site_category_cleaned\"] = df[\"site_category_cleaned\"].apply(\n",
    "    lambda x: x.replace(\"_\", \" \").title()\n",
    ")\n",
    "\n",
    "df.loc[\n",
    "    ~(\n",
    "        df[\"injury_severity\"].isin(\n",
    "            [\n",
    "                \"major_lacerations\",\n",
    "                \"minor_lacerations\",\n",
    "            ]\n",
    "        )\n",
    "    ),\n",
    "    \"injury_severity\",\n",
    "] = \"Others\"\n",
    "df[\"injury_severity\"] = df[\"injury_severity\"].apply(\n",
    "    lambda x: x.replace(\"_\", \" \").title()\n",
    ")"
   ]
  },
  {
   "cell_type": "code",
   "execution_count": 10,
   "metadata": {},
   "outputs": [
    {
     "data": {
      "text/plain": [
       "178"
      ]
     },
     "execution_count": 10,
     "metadata": {},
     "output_type": "execute_result"
    }
   ],
   "source": [
    "35 + 10 + 9 + 35 + 89"
   ]
  },
  {
   "cell_type": "code",
   "execution_count": 4,
   "metadata": {},
   "outputs": [],
   "source": [
    "# df[\"victim_injury\"].unique()"
   ]
  },
  {
   "cell_type": "code",
   "execution_count": 5,
   "metadata": {},
   "outputs": [],
   "source": [
    "# df.loc[df[\"victim_injury\"]==\"uninjured\"]"
   ]
  },
  {
   "cell_type": "code",
   "execution_count": 6,
   "metadata": {},
   "outputs": [],
   "source": [
    "shark_data = df.copy()"
   ]
  },
  {
   "cell_type": "code",
   "execution_count": 7,
   "metadata": {},
   "outputs": [],
   "source": [
    "# df.columns"
   ]
  },
  {
   "cell_type": "code",
   "execution_count": 8,
   "metadata": {},
   "outputs": [],
   "source": [
    "# df"
   ]
  },
  {
   "cell_type": "code",
   "execution_count": 9,
   "metadata": {},
   "outputs": [],
   "source": [
    "# shark_attacks_over_time = (\n",
    "#     shark_data.groupby(\"incident_year\").size().reset_index(name=\"attack_count\")\n",
    "# )\n",
    "\n",
    "# fig = go.Figure()\n",
    "\n",
    "# fig.add_trace(\n",
    "#     go.Scatter(\n",
    "#         x=shark_attacks_over_time[\"incident_year\"],\n",
    "#         y=shark_attacks_over_time[\"attack_count\"],\n",
    "#         mode=\"lines\",\n",
    "#         line=dict(color=\"#00796b\", width=2),\n",
    "#         name=\"Shark Attacks\",\n",
    "#     )\n",
    "# )\n",
    "\n",
    "# fig.update_layout(\n",
    "#     title=\"Shark Attacks Over Time (Years)\",\n",
    "#     xaxis_title=\"Year\",\n",
    "#     yaxis_title=\"Number of Attacks\",\n",
    "#     font=dict(color=\"#00796b\", size=12),\n",
    "#     plot_bgcolor=\"rgba(0,0,0,0)\",\n",
    "#     paper_bgcolor=\"rgba(0,0,0,0)\",\n",
    "#     xaxis=dict(showgrid=False),\n",
    "#     yaxis=dict(showgrid=False),\n",
    "# )\n",
    "\n",
    "# # Show the graph\n",
    "# fig.show()"
   ]
  },
  {
   "cell_type": "code",
   "execution_count": 10,
   "metadata": {},
   "outputs": [],
   "source": [
    "# shark_attacks_by_injury = (\n",
    "#     shark_data.groupby([\"incident_year\", \"victim_injury\"]).size().reset_index(name=\"attack_count\")\n",
    "# )\n",
    "\n",
    "# # Initialize a new figure for multiple lines\n",
    "# fig = go.Figure()\n",
    "\n",
    "# # Define colors for each injury type\n",
    "# injury_colors = {\n",
    "#     \"fatal\": \"#8d6e63\",\n",
    "#     \"injured\": \"#5c6bc0\",\n",
    "#     \"uninjured\": \"#26a69a\",\n",
    "#     \"unknown\": \"#455a64\",\n",
    "# }\n",
    "\n",
    "# # Add a line for each victim_injury type\n",
    "# for injury_type, color in injury_colors.items():\n",
    "#     filtered_data = shark_attacks_by_injury[shark_attacks_by_injury[\"victim_injury\"] == injury_type]\n",
    "#     fig.add_trace(\n",
    "#         go.Scatter(\n",
    "#             x=filtered_data[\"incident_year\"],\n",
    "#             y=filtered_data[\"attack_count\"],\n",
    "#             mode=\"lines\",\n",
    "#             line=dict(color=color, width=2),\n",
    "#             name=injury_type.capitalize(),\n",
    "#         )\n",
    "#     )\n",
    "\n",
    "# # Update layout for aesthetics\n",
    "# fig.update_layout(\n",
    "#     title=\"Shark Attacks Over Time by Type of Injury\",\n",
    "#     xaxis_title=\"Year\",\n",
    "#     yaxis_title=\"Number of Attacks\",\n",
    "#     font=dict(color=\"#00796b\", size=12),\n",
    "#     plot_bgcolor=\"rgba(0,0,0,0)\",\n",
    "#     paper_bgcolor=\"rgba(0,0,0,0)\",\n",
    "#     xaxis=dict(showgrid=False),\n",
    "#     yaxis=dict(showgrid=False),\n",
    "#     legend_title=\"Type of Injury\",\n",
    "# )\n",
    "\n",
    "# # Show the graph\n",
    "# fig.show()"
   ]
  },
  {
   "cell_type": "code",
   "execution_count": null,
   "metadata": {},
   "outputs": [],
   "source": [
    "incidents_per_month = (\n",
    "    shark_data.groupby([\"incident_month\", \"victim_injury\"])\n",
    "    .size()\n",
    "    .reset_index(name=\"count\")\n",
    ")\n",
    "\n",
    "months = list(range(1, 13))  # 1 to 12 for all months\n",
    "month_names = [\n",
    "    \"January\",\n",
    "    \"February\",\n",
    "    \"March\",\n",
    "    \"April\",\n",
    "    \"May\",\n",
    "    \"June\",\n",
    "    \"July\",\n",
    "    \"August\",\n",
    "    \"September\",\n",
    "    \"October\",\n",
    "    \"November\",\n",
    "    \"December\",\n",
    "]\n",
    "\n",
    "incidents_per_month[\"month_name\"] = incidents_per_month[\"incident_month\"].map(\n",
    "    dict(zip(months, month_names))\n",
    ")\n",
    "\n",
    "injury_types = [\"fatal\", \"injured\", \"uninjured\", \"unknown\"]\n",
    "color_map = {\n",
    "    \"fatal\": \"#ab47bc\",\n",
    "    \"injured\": \"#7e57c2\",\n",
    "    \"uninjured\": \"#26a69a\",\n",
    "    \"unknown\": \"#8d6e63\",\n",
    "}\n",
    "\n",
    "fig = make_subplots(\n",
    "    rows=2,\n",
    "    cols=2,\n",
    "    subplot_titles=[\n",
    "        \"Fatal Incidents\",\n",
    "        \"Injured Incidents\",\n",
    "        \"Uninjured Incidents\",\n",
    "        \"Unknown Incidents\",\n",
    "    ],\n",
    "    horizontal_spacing=0.1,\n",
    "    vertical_spacing=0.25,\n",
    ")\n",
    "\n",
    "subplot_positions = {\n",
    "    \"fatal\": (1, 1),\n",
    "    \"injured\": (1, 2),\n",
    "    \"uninjured\": (2, 1),\n",
    "    \"unknown\": (2, 2),\n",
    "}\n",
    "\n",
    "for injury_type in injury_types:\n",
    "    filtered_data = incidents_per_month[\n",
    "        incidents_per_month[\"victim_injury\"] == injury_type\n",
    "    ]\n",
    "    filtered_data = (\n",
    "        filtered_data.set_index(\"month_name\")\n",
    "        .reindex(month_names, fill_value=0)\n",
    "        .reset_index()\n",
    "    )\n",
    "\n",
    "    row, col = subplot_positions[injury_type]\n",
    "    fig.add_trace(\n",
    "        go.Bar(\n",
    "            x=filtered_data[\"month_name\"],\n",
    "            y=filtered_data[\"count\"],\n",
    "            name=injury_type.capitalize(),\n",
    "            marker_color=color_map[injury_type],\n",
    "        ),\n",
    "        row=row,\n",
    "        col=col,\n",
    "    )\n",
    "\n",
    "fig.update_layout(\n",
    "    title=\"Shark Incidents Per Month by Injury Type\",\n",
    "    font=dict(color=\"#00796b\", size=14),\n",
    "    plot_bgcolor=\"rgba(0,0,0,0)\",\n",
    "    paper_bgcolor=\"rgba(0,0,0,0)\",\n",
    "    showlegend=False,\n",
    "    height=900,\n",
    "    width=1000,\n",
    ")\n",
    "\n",
    "fig.update_xaxes(title_text=\"Month\", tickangle=-45, row=1, col=1)\n",
    "fig.update_xaxes(title_text=\"Month\", tickangle=-45, row=1, col=2)\n",
    "\n",
    "fig.update_xaxes(title_text=\"Month\", tickangle=-45, row=2, col=1)\n",
    "fig.update_xaxes(title_text=\"Month\", tickangle=-45, row=2, col=2)\n",
    "\n",
    "fig.update_yaxes(title_text=\"Number of Incidents\", row=1, col=1)\n",
    "fig.update_yaxes(title_text=\"Number of Incidents\", row=2, col=1)\n",
    "\n",
    "# fig.update_xaxes(showgrid=False)\n",
    "# fig.update_yaxes(showgrid=False)\n",
    "\n",
    "# Show the graph\n",
    "fig.show()"
   ]
  },
  {
   "cell_type": "code",
   "execution_count": null,
   "metadata": {},
   "outputs": [],
   "source": [
    "# Prepare the data: Group by incident month and victim injury\n",
    "incidents_per_month = (\n",
    "    shark_data.groupby([\"incident_month\", \"victim_injury\"])\n",
    "    .size()\n",
    "    .reset_index(name=\"count\")\n",
    ")\n",
    "\n",
    "# Ensure all months are present\n",
    "months = list(range(1, 13))  # 1 to 12 for all months\n",
    "month_names = [\n",
    "    \"January\",\n",
    "    \"February\",\n",
    "    \"March\",\n",
    "    \"April\",\n",
    "    \"May\",\n",
    "    \"June\",\n",
    "    \"July\",\n",
    "    \"August\",\n",
    "    \"September\",\n",
    "    \"October\",\n",
    "    \"November\",\n",
    "    \"December\",\n",
    "]\n",
    "\n",
    "# Map month numbers to month names\n",
    "incidents_per_month[\"month_name\"] = incidents_per_month[\"incident_month\"].map(\n",
    "    dict(zip(months, month_names))\n",
    ")\n",
    "\n",
    "# Injury types and their corresponding colors\n",
    "injury_types = [\"fatal\", \"injured\", \"uninjured\", \"unknown\"]\n",
    "color_map = {\n",
    "    \"fatal\": \"#ab47bc\",\n",
    "    \"injured\": \"#7e57c2\",\n",
    "    \"uninjured\": \"#26a69a\",\n",
    "    \"unknown\": \"#8d6e63\",\n",
    "}\n",
    "\n",
    "# Create a subplot figure with 2 rows and 2 columns, increasing vertical spacing\n",
    "fig = make_subplots(\n",
    "    rows=2,\n",
    "    cols=2,\n",
    "    subplot_titles=[\n",
    "        \"Fatal Incidents\",\n",
    "        \"Injured Incidents\",\n",
    "        \"Uninjured Incidents\",\n",
    "        \"Unknown Incidents\",\n",
    "    ],\n",
    "    horizontal_spacing=0.1,\n",
    "    vertical_spacing=0.25,  # Increased vertical spacing\n",
    ")\n",
    "\n",
    "# Map each injury type to a specific subplot\n",
    "subplot_positions = {\n",
    "    \"fatal\": (1, 1),\n",
    "    \"injured\": (1, 2),\n",
    "    \"uninjured\": (2, 1),\n",
    "    \"unknown\": (2, 2),\n",
    "}\n",
    "\n",
    "for injury_type in injury_types:\n",
    "    # Ensure all months are accounted for\n",
    "    filtered_data = incidents_per_month[\n",
    "        incidents_per_month[\"victim_injury\"] == injury_type\n",
    "    ]\n",
    "    filtered_data = (\n",
    "        filtered_data.set_index(\"month_name\")\n",
    "        .reindex(month_names, fill_value=0)\n",
    "        .reset_index()\n",
    "    )\n",
    "\n",
    "    row, col = subplot_positions[injury_type]\n",
    "    fig.add_trace(\n",
    "        go.Bar(\n",
    "            x=filtered_data[\"month_name\"],\n",
    "            y=filtered_data[\"count\"],\n",
    "            name=injury_type.capitalize(),\n",
    "            marker_color=color_map[injury_type],\n",
    "        ),\n",
    "        row=row,\n",
    "        col=col,\n",
    "    )\n",
    "\n",
    "# Update layout for aesthetics and size\n",
    "fig.update_layout(\n",
    "    title=\"Shark Incidents Per Month by Injury Type\",\n",
    "    font=dict(color=\"#00796b\", size=14),\n",
    "    plot_bgcolor=\"rgba(0,0,0,0)\",  # Transparent background\n",
    "    paper_bgcolor=\"rgba(0,0,0,0)\",\n",
    "    showlegend=False,\n",
    "    height=900,  # Increased height\n",
    "    width=1000,  # Width remains the same\n",
    ")\n",
    "\n",
    "# Remove gridlines from all subplots and ensure consistent y-axis range\n",
    "fig.update_xaxes(showgrid=False)\n",
    "fig.update_yaxes(\n",
    "    showgrid=False, range=[0, 150]\n",
    ")  # Set y-axis range from 0 to 150\n",
    "\n",
    "# Update x-axis titles\n",
    "fig.update_xaxes(title_text=\"Month\", tickangle=-45, row=1, col=1)\n",
    "fig.update_xaxes(title_text=\"Month\", tickangle=-45, row=1, col=2)\n",
    "fig.update_xaxes(title_text=\"Month\", tickangle=-45, row=2, col=1)\n",
    "fig.update_xaxes(title_text=\"Month\", tickangle=-45, row=2, col=2)\n",
    "\n",
    "# Update y-axis titles\n",
    "fig.update_yaxes(title_text=\"Number of Incidents\", row=1, col=1)\n",
    "fig.update_yaxes(title_text=\"Number of Incidents\", row=2, col=1)\n",
    "\n",
    "# Show the graph\n",
    "fig.show()"
   ]
  },
  {
   "cell_type": "code",
   "execution_count": null,
   "metadata": {},
   "outputs": [],
   "source": [
    "monthly_injury_data = (\n",
    "    incidents_per_month.groupby([\"month_name\", \"victim_injury\"])[\"count\"]\n",
    "    .sum()\n",
    "    .reset_index()\n",
    ")\n",
    "\n",
    "fig = px.bar(\n",
    "    monthly_injury_data,\n",
    "    x=\"month_name\",\n",
    "    y=\"count\",\n",
    "    color=\"victim_injury\",\n",
    "    barmode=\"group\",  # Grouped bar mode\n",
    "    color_discrete_map={\n",
    "        \"fatal\": \"#ab47bc\",\n",
    "        \"injured\": \"#7e57c2\",\n",
    "        \"uninjured\": \"#26a69a\",\n",
    "        \"unknown\": \"#8d6e63\",\n",
    "    },\n",
    "    title=\"Shark Incidents Per Month by Injury Type\",\n",
    "    labels={\n",
    "        \"month_name\": \"Month\",\n",
    "        \"count\": \"Number of Incidents\",\n",
    "        \"victim_injury\": \"Injury Type\",\n",
    "    },\n",
    "    category_orders={\"month_name\": month_names},\n",
    ")\n",
    "\n",
    "fig.update_layout(\n",
    "    font=dict(color=\"#00796b\", size=14),\n",
    "    plot_bgcolor=\"rgba(0,0,0,0)\",  # Transparent background\n",
    "    paper_bgcolor=\"rgba(0,0,0,0)\",\n",
    "    xaxis_title=\"Month\",\n",
    "    yaxis_title=\"Number of Incidents\",\n",
    "    legend_title=\"Injury Type\",\n",
    "    height=700,\n",
    "    width=1050,\n",
    ")\n",
    "\n",
    "fig.show()"
   ]
  },
  {
   "cell_type": "code",
   "execution_count": null,
   "metadata": {},
   "outputs": [],
   "source": [
    "df.loc[df[\"victim_injury\"] == \"unknown\"]"
   ]
  },
  {
   "cell_type": "markdown",
   "metadata": {},
   "source": [
    "# Dangerous sharks\n"
   ]
  },
  {
   "cell_type": "code",
   "execution_count": null,
   "metadata": {},
   "outputs": [],
   "source": [
    "shark_counts = shark_data[\"shark_common_name\"].value_counts().reset_index()\n",
    "shark_counts.columns = [\"shark_common_name\", \"count\"]\n",
    "\n",
    "\n",
    "top_5_sharks = shark_counts.head(7)\n",
    "others = shark_counts.iloc[7:]\n",
    "num_others = others[\"shark_common_name\"].nunique()\n",
    "others_count = others[\"count\"].sum()\n",
    "others_row = pd.DataFrame(\n",
    "    [\n",
    "        {\n",
    "            \"shark_common_name\": f\"others: {num_others} types\",\n",
    "            \"count\": others_count,\n",
    "        }\n",
    "    ]\n",
    ")\n",
    "top_5_sharks = pd.concat([top_5_sharks, others_row], ignore_index=True)\n",
    "\n",
    "others_text = \"<br>\".join(\n",
    "    [\n",
    "        f\"{row['shark_common_name']}: {row['count']} incidents\"\n",
    "        for _, row in others.iterrows()\n",
    "    ]\n",
    ")\n",
    "\n",
    "\n",
    "top_5_sharks.loc[\n",
    "    top_5_sharks[\"shark_common_name\"] == f\"others: {num_others} types\",\n",
    "    \"hover_text\",\n",
    "] = others_text\n",
    "\n",
    "top_5_sharks[\"hover_text\"] = top_5_sharks[\"hover_text\"].fillna(\n",
    "    top_5_sharks[\"shark_common_name\"]\n",
    "    + \": \"\n",
    "    + top_5_sharks[\"count\"].astype(str)\n",
    "    + \" incidents\"\n",
    ")\n",
    "\n",
    "colors = [\n",
    "    \"#ab47bc\",\n",
    "    \"#7e57c2\",\n",
    "    \"#2e7d32\",\n",
    "    \"#455a64\",\n",
    "    \"#795548\",\n",
    "    \"#303f9f\",\n",
    "    \"#5e35b1\",\n",
    "    \"#4e342e\",\n",
    "]\n",
    "\n",
    "fig = px.bar(\n",
    "    top_5_sharks,\n",
    "    x=\"shark_common_name\",\n",
    "    y=\"count\",\n",
    "    title=\"Most Dangerous Sharks\",\n",
    "    labels={\"shark_common_name\": \"Shark Type\", \"count\": \"Number of Incidents\"},\n",
    "    color=\"shark_common_name\",\n",
    "    color_discrete_sequence=colors,\n",
    "    text=\"hover_text\",\n",
    ")\n",
    "\n",
    "fig.update_traces(\n",
    "    hovertemplate=\"%{text}\",\n",
    "    textposition=\"none\",\n",
    ")\n",
    "\n",
    "fig.update_layout(\n",
    "    font=dict(color=\"#00796b\", size=14),\n",
    "    plot_bgcolor=\"rgba(0,0,0,0)\",\n",
    "    paper_bgcolor=\"rgba(0,0,0,0)\",\n",
    "    xaxis_title=\"Shark Type\",\n",
    "    yaxis_title=\"Number of Incidents\",\n",
    "    showlegend=False,\n",
    ")\n",
    "\n",
    "fig.show()"
   ]
  },
  {
   "cell_type": "code",
   "execution_count": 16,
   "metadata": {},
   "outputs": [],
   "source": [
    "shark_victim_injury_counts = (\n",
    "    shark_data.groupby([\"shark_common_name\", \"victim_injury\"])\n",
    "    .size()\n",
    "    .reset_index(name=\"count\")\n",
    ")\n",
    "shark_victim_injury_counts[\"total_sum\"] = 0\n",
    "unique_sharks = shark_victim_injury_counts[\"shark_common_name\"].unique()\n",
    "for shark in unique_sharks:\n",
    "    dfx = shark_victim_injury_counts.loc[\n",
    "        shark_victim_injury_counts[\"shark_common_name\"] == shark\n",
    "    ]\n",
    "    sum_incident = dfx[\"count\"].sum()\n",
    "    shark_victim_injury_counts.loc[\n",
    "        shark_victim_injury_counts[\"shark_common_name\"] == shark, \"total_sum\"\n",
    "    ] = sum_incident\n",
    "shark_victim_injury_counts = shark_victim_injury_counts.sort_values(\n",
    "    \"total_sum\", ascending=False\n",
    ")\n",
    "\n",
    "shark_victim_injury_counts_top = shark_victim_injury_counts.loc[\n",
    "    shark_victim_injury_counts[\"shark_common_name\"].isin(\n",
    "        shark_victim_injury_counts[\"shark_common_name\"].unique()[:7]\n",
    "    )\n",
    "]\n",
    "shark_victim_injury_counts_others = shark_victim_injury_counts.loc[\n",
    "    ~shark_victim_injury_counts[\"shark_common_name\"].isin(\n",
    "        shark_victim_injury_counts[\"shark_common_name\"].unique()[:7]\n",
    "    )\n",
    "]\n",
    "\n",
    "# # hover stuff like in the previous graph, idk why i am doing this to myself.\n",
    "# ye idc\n",
    "# others_detailed_text = \"<br>\".join(\n",
    "#     [\n",
    "#         f\"{row['shark_common_name']}: {row['count']} incidents\"\n",
    "#         for _, row in shark_victim_injury_counts_others.iterrows()\n",
    "#     ]\n",
    "# )\n",
    "# shark_victim_injury_counts_others.loc[\n",
    "#     shark_victim_injury_counts_others[\"shark_common_name\"].str.contains(\n",
    "#         \"others\"\n",
    "#     ),\n",
    "#     \"hover_text\",\n",
    "# ] = others_detailed_text\n",
    "\n",
    "# shark_victim_injury_counts_top[\"hover_text\"] = np.nan\n",
    "# shark_victim_injury_counts_top[\"hover_text\"] = shark_victim_injury_counts_top[\n",
    "#     \"hover_text\"\n",
    "# ].fillna(\n",
    "#     shark_victim_injury_counts_top[\"shark_common_name\"]\n",
    "#     + \": \"\n",
    "#     + shark_victim_injury_counts_top[\"count\"].astype(str)\n",
    "#     + \" incidents\"\n",
    "# )\n",
    "\n",
    "\n",
    "others_fatal_count = shark_victim_injury_counts_others.loc[\n",
    "    shark_victim_injury_counts_others[\"victim_injury\"] == \"fatal\"\n",
    "][\"count\"].sum()\n",
    "others_injured_count = shark_victim_injury_counts_others.loc[\n",
    "    shark_victim_injury_counts_others[\"victim_injury\"] == \"injured\"\n",
    "][\"count\"].sum()\n",
    "others_uninjured_count = shark_victim_injury_counts_others.loc[\n",
    "    shark_victim_injury_counts_others[\"victim_injury\"] == \"uninjured\"\n",
    "][\"count\"].sum()\n",
    "others_unknown_count = shark_victim_injury_counts_others.loc[\n",
    "    shark_victim_injury_counts_others[\"victim_injury\"] == \"unknown\"\n",
    "][\"count\"].sum()\n",
    "total_sum = shark_victim_injury_counts_others[\"count\"].sum()\n",
    "\n",
    "\n",
    "# others_fatal_hover = shark_victim_injury_counts_others.loc[\n",
    "#     shark_victim_injury_counts_others[\"victim_injury\"] == \"fatal\"\n",
    "# ][\"hover_text\"].values\n",
    "# others_injured_hover = shark_victim_injury_counts_others.loc[\n",
    "#     shark_victim_injury_counts_others[\"victim_injury\"] == \"injured\"\n",
    "# ][\"hover_text\"].values\n",
    "# others_uninjured_hover = shark_victim_injury_counts_others.loc[\n",
    "#     shark_victim_injury_counts_others[\"victim_injury\"] == \"uninjured\"\n",
    "# ][\"hover_text\"].values\n",
    "# others_unknown_hover = shark_victim_injury_counts_others.loc[\n",
    "#     shark_victim_injury_counts_others[\"victim_injury\"] == \"unknown\"\n",
    "# ][\"hover_text\"].values\n",
    "\n",
    "num_others = shark_victim_injury_counts_others[\"shark_common_name\"].nunique()\n",
    "\n",
    "\n",
    "shark_victim_injury_counts_others = pd.DataFrame(\n",
    "    {\n",
    "        \"shark_common_name\": [\n",
    "            f\"others: {num_others} types\",\n",
    "            f\"others: {num_others} types\",\n",
    "            f\"others: {num_others} types\",\n",
    "        ],\n",
    "        \"victim_injury\": [\"injured\", \"uninjured\", \"unknown\"],\n",
    "        \"count\": [\n",
    "            others_injured_count,\n",
    "            others_uninjured_count,\n",
    "            others_unknown_count,\n",
    "        ],\n",
    "        \"total_sum\": [total_sum, total_sum, total_sum],\n",
    "        # \"hover_text\": [others_injured_hover, others_uninjured_hover, others_unknown_hover],\n",
    "    }\n",
    ")\n",
    "shark_victim_injury_counts = pd.concat(\n",
    "    [shark_victim_injury_counts_top, shark_victim_injury_counts_others]\n",
    ").reset_index(drop=True)\n",
    "# shark_victim_injury_counts"
   ]
  },
  {
   "cell_type": "code",
   "execution_count": null,
   "metadata": {},
   "outputs": [],
   "source": [
    "shark_victim_injury_counts[\"total_sum_text\"] = shark_victim_injury_counts[\n",
    "    \"total_sum\"\n",
    "].astype(str)\n",
    "\n",
    "fig = px.bar(\n",
    "    shark_victim_injury_counts,\n",
    "    x=\"shark_common_name\",\n",
    "    y=\"count\",\n",
    "    color=\"victim_injury\",\n",
    "    title=\"Shark Incidents by Type of Injury\",\n",
    "    labels={\n",
    "        \"shark_common_name\": \"Shark Type\",\n",
    "        \"count\": \"Number of Incidents\",\n",
    "        \"victim_injury\": \"Type of Injury\",\n",
    "    },\n",
    "    barmode=\"group\",\n",
    "    color_discrete_sequence=colors,\n",
    "    # text=\"hover_text\", # Commented out hover text stuff\n",
    ")\n",
    "\n",
    "fig.update_traces(textposition=\"none\")\n",
    "fig.update_layout(\n",
    "    font=dict(color=\"#00796b\", size=14),\n",
    "    plot_bgcolor=\"rgba(0,0,0,0)\",\n",
    "    paper_bgcolor=\"rgba(0,0,0,0)\",\n",
    "    xaxis_title=\"Shark Type\",\n",
    "    yaxis_title=\"Number of Incidents\",\n",
    "    showlegend=True,\n",
    "    height=750,\n",
    "    width=1000,\n",
    ")\n",
    "\n",
    "annotations = []\n",
    "for index, row in (\n",
    "    shark_victim_injury_counts.groupby(\"shark_common_name\").first().iterrows()\n",
    "):\n",
    "    annotations.append(\n",
    "        dict(\n",
    "            x=row.name,\n",
    "            y=-5,\n",
    "            text=f\"Total: {row['total_sum']}\",\n",
    "            showarrow=False,\n",
    "            font=dict(color=\"#00796b\", size=12),\n",
    "            xanchor=\"center\",\n",
    "            yanchor=\"top\",\n",
    "        )\n",
    "    )\n",
    "\n",
    "fig.update_layout(annotations=annotations)\n",
    "\n",
    "fig.show()"
   ]
  },
  {
   "cell_type": "code",
   "execution_count": 18,
   "metadata": {},
   "outputs": [],
   "source": [
    "# df[\"victim_activity\"].unique()"
   ]
  },
  {
   "cell_type": "code",
   "execution_count": null,
   "metadata": {},
   "outputs": [],
   "source": [
    "shark_monthly_activity = (\n",
    "    shark_data.groupby(\n",
    "        [\"incident_month\", \"victim_activity\", \"provoked_unprovoked\"]\n",
    "    )\n",
    "    .size()\n",
    "    .reset_index(name=\"count\")\n",
    ")\n",
    "\n",
    "# Add a \"total_count\" column which is the sum of \"count\" for each victim_activity\n",
    "shark_monthly_activity[\"total_count\"] = shark_monthly_activity.groupby(\n",
    "    [\"incident_month\", \"victim_activity\"]\n",
    ")[\"count\"].transform(\"sum\")\n",
    "shark_monthly_activity"
   ]
  },
  {
   "cell_type": "code",
   "execution_count": null,
   "metadata": {},
   "outputs": [],
   "source": [
    "shark_activity = (\n",
    "    shark_data.groupby(\n",
    "        [\"victim_activity\", \"provoked_unprovoked\", \"shark_common_name\"]\n",
    "    )\n",
    "    .size()\n",
    "    .reset_index(name=\"count\")\n",
    ")\n",
    "shark_activity[\"total_count\"] = shark_activity.groupby(\n",
    "    [\"victim_activity\", \"shark_common_name\"]\n",
    ")[\"count\"].transform(\"sum\")\n",
    "shark_activity.sort_values([\"total_count\"], ascending=False)"
   ]
  },
  {
   "cell_type": "code",
   "execution_count": null,
   "metadata": {},
   "outputs": [],
   "source": [
    "shark_activity = (\n",
    "    shark_data.groupby([\"provoked_unprovoked\", \"shark_common_name\"])\n",
    "    .size()\n",
    "    .reset_index(name=\"count\")\n",
    ")\n",
    "shark_activity[\"total_count\"] = shark_activity.groupby([\"shark_common_name\"])[\n",
    "    \"count\"\n",
    "].transform(\"sum\")\n",
    "shark_activity.sort_values([\"total_count\"], ascending=False)"
   ]
  },
  {
   "cell_type": "code",
   "execution_count": null,
   "metadata": {},
   "outputs": [],
   "source": [
    "shark_data"
   ]
  },
  {
   "cell_type": "code",
   "execution_count": null,
   "metadata": {},
   "outputs": [],
   "source": []
  }
 ],
 "metadata": {
  "kernelspec": {
   "display_name": "tue_uvenv_311",
   "language": "python",
   "name": "python3"
  },
  "language_info": {
   "codemirror_mode": {
    "name": "ipython",
    "version": 3
   },
   "file_extension": ".py",
   "mimetype": "text/x-python",
   "name": "python",
   "nbconvert_exporter": "python",
   "pygments_lexer": "ipython3",
   "version": "3.11.11"
  }
 },
 "nbformat": 4,
 "nbformat_minor": 2
}
