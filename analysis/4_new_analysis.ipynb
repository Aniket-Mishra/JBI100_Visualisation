{
 "cells": [
  {
   "cell_type": "code",
   "execution_count": 1,
   "metadata": {},
   "outputs": [],
   "source": [
    "import numpy as np\n",
    "import pandas as pd\n",
    "import matplotlib.pyplot as plt\n",
    "import plotly.express as px\n",
    "import plotly.graph_objects as go\n",
    "\n",
    "from plotly.subplots import make_subplots\n",
    "import re"
   ]
  },
  {
   "cell_type": "code",
   "execution_count": 2,
   "metadata": {},
   "outputs": [],
   "source": [
    "df = pd.read_csv(\"/Users/paniket/TU_Eindhoven/2_Study/Q2_JBI100_Visualisation_4/4_Code/JBI100_Visualisation/data/new_cleaned_updated_data.csv\"\n",
    ")"
   ]
  },
  {
   "cell_type": "code",
   "execution_count": 3,
   "metadata": {},
   "outputs": [
    {
     "data": {
      "application/vnd.plotly.v1+json": {
       "config": {
        "plotlyServerURL": "https://plot.ly"
       },
       "data": [
        {
         "geo": "geo",
         "hovertemplate": "<b>%{hovertext}</b><br><br>Shark Behavior=unknown<br>latitude=%{lat}<br>longitude=%{lon}<extra></extra>",
         "hovertext": [
          "unknown",
          "unknown",
          "unknown",
          "unknown",
          "unknown",
          "unknown",
          "unknown",
          "unknown",
          "unknown",
          "unknown",
          "unknown",
          "unknown",
          "unknown",
          "unknown",
          "unknown",
          "unknown",
          "unknown",
          "unknown",
          "unknown",
          "unknown",
          "unknown",
          "unknown",
          "unknown",
          "unknown",
          "unknown",
          "unknown",
          "unknown",
          "unknown",
          "unknown",
          "unknown",
          "unknown",
          "unknown",
          "unknown",
          "unknown",
          "unknown",
          "unknown",
          "unknown",
          "unknown",
          "unknown",
          "unknown",
          "unknown",
          "unknown",
          "unknown",
          "unknown",
          "unknown",
          "unknown",
          "unknown",
          "unknown",
          "unknown",
          "unknown",
          "unknown",
          "unknown",
          "unknown",
          "unknown",
          "unknown",
          "unknown",
          "unknown",
          "unknown",
          "unknown",
          "unknown",
          "unknown",
          "unknown",
          "unknown",
          "unknown",
          "unknown",
          "unknown",
          "unknown",
          "unknown",
          "unknown",
          "unknown",
          "unknown",
          "unknown",
          "unknown",
          "unknown",
          "unknown",
          "unknown",
          "unknown",
          "unknown",
          "unknown",
          "unknown",
          "unknown",
          "unknown",
          "unknown",
          "unknown",
          "unknown",
          "unknown",
          "unknown",
          "unknown",
          "unknown",
          "unknown",
          "unknown",
          "unknown",
          "unknown",
          "unknown",
          "unknown",
          "unknown",
          "unknown",
          "unknown",
          "unknown",
          "unknown",
          "unknown",
          "unknown",
          "unknown",
          "unknown",
          "unknown",
          "unknown",
          "unknown",
          "unknown",
          "unknown",
          "unknown",
          "unknown",
          "unknown",
          "unknown",
          "unknown",
          "unknown",
          "unknown",
          "unknown",
          "unknown",
          "unknown",
          "unknown",
          "unknown",
          "unknown",
          "unknown",
          "unknown",
          "unknown",
          "unknown",
          "unknown",
          "unknown",
          "unknown",
          "unknown",
          "unknown",
          "unknown",
          "unknown",
          "unknown",
          "unknown",
          "unknown",
          "unknown",
          "unknown",
          "unknown",
          "unknown",
          "unknown",
          "unknown",
          "unknown",
          "unknown",
          "unknown",
          "unknown",
          "unknown",
          "unknown",
          "unknown",
          "unknown",
          "unknown",
          "unknown",
          "unknown",
          "unknown",
          "unknown",
          "unknown",
          "unknown",
          "unknown",
          "unknown",
          "unknown",
          "unknown",
          "unknown",
          "unknown",
          "unknown",
          "unknown",
          "unknown",
          "unknown",
          "unknown",
          "unknown",
          "unknown",
          "unknown",
          "unknown",
          "unknown",
          "unknown",
          "unknown",
          "unknown",
          "unknown",
          "unknown",
          "unknown",
          "unknown",
          "unknown",
          "unknown",
          "unknown",
          "unknown",
          "unknown",
          "unknown",
          "unknown",
          "unknown",
          "unknown",
          "unknown",
          "unknown",
          "unknown",
          "unknown",
          "unknown",
          "unknown",
          "unknown",
          "unknown",
          "unknown",
          "unknown",
          "unknown",
          "unknown",
          "unknown",
          "unknown",
          "unknown",
          "unknown",
          "unknown",
          "unknown",
          "unknown",
          "unknown",
          "unknown",
          "unknown",
          "unknown",
          "unknown",
          "unknown",
          "unknown",
          "unknown",
          "unknown",
          "unknown",
          "unknown",
          "unknown",
          "unknown",
          "unknown",
          "unknown",
          "unknown",
          "unknown",
          "unknown",
          "unknown",
          "unknown",
          "unknown",
          "unknown",
          "unknown",
          "unknown",
          "unknown",
          "unknown",
          "unknown",
          "unknown",
          "unknown",
          "unknown",
          "unknown",
          "unknown",
          "unknown",
          "unknown",
          "unknown",
          "unknown",
          "unknown",
          "unknown",
          "unknown",
          "unknown",
          "unknown",
          "unknown",
          "unknown",
          "unknown",
          "unknown",
          "unknown"
         ],
         "lat": [
          "-33.86666666666667",
          "-34.95",
          "-33.85",
          "-27.25",
          "-33.36666666666667",
          "-29.416666666666668",
          "-35.53333333333333",
          "-35.56666666666667",
          "-37.86666666666667",
          "-37.86666666666667",
          "-37.833333333333336",
          "-9.633333333333333",
          "-17.983333333333334",
          "-17.983333333333334",
          "-25.533333333333335",
          "-19.85",
          "-13.933333333333334",
          "-9.95",
          "-10.55",
          "-33.483333333333334",
          "-33.31666666666667",
          "-19.233333333333334",
          "-18.7",
          "-10.566666666666666",
          "-20",
          "-20",
          "-34.666666666666664",
          "-10.566666666666666",
          "-18.716666666666665",
          "-10.566666666666666",
          "-10.566666666666666",
          "-17.983333333333334",
          "-9.516666666666667",
          "-14.15",
          "-10.583333333333334",
          "-19.516666666666666",
          "-9.416666666666666",
          "-10.116666666666667",
          "-10.566666666666666",
          "-19.45",
          "-10.116666666666667",
          "-19.45",
          "-10.566666666666666",
          "-10.566666666666666",
          "-9.95",
          "-10.25",
          "-10.583333333333334",
          "-10.566666666666666",
          "-17.533333333333335",
          "-16.916666666666668",
          "-9.4",
          "-10.566666666666666",
          "-14.15",
          "-10.566666666666666",
          "-34.3",
          "-9.4",
          "-9.4",
          "-33.78333333333333",
          "-27.433333333333334",
          "-12.166666666666666",
          "-9.95",
          "-10.583333333333334",
          "-19.45",
          "-10.566666666666666",
          "-11.4",
          "-32.85",
          "-33.78333333333333",
          "-12.45",
          "-16.55",
          "-37.96666666666667",
          "-16.9",
          "-35.06666666666667",
          "-10.583333333333334",
          "-16.383333333333333",
          "-32.71666666666667",
          "-28",
          "-27.433333333333334",
          "-38.266666666666666",
          "-32.11666666666667",
          "-38.46666666666667",
          "-32.516666666666666",
          "-33.916666666666664",
          "-31.95",
          "-27.466666666666665",
          "-35",
          "-33.516666666666666",
          "-17.683333333333334",
          "-33.63333333333333",
          "-16.55",
          "-28.083333333333332",
          "-26.683333333333334",
          "-26.8",
          "-26.666666666666668",
          "-16.75",
          "-28.633333333333333",
          "-28.166666666666668",
          "-21.133333333333333",
          "-23.13333333",
          "-10.666666666666666",
          "-33.81666666666667",
          "-14.666666666666666",
          "-38.46666666666667",
          "-34.916666666666664",
          "-34.916666666666664",
          "-23.116666666666667",
          "-23.833333333333332",
          "-33.88333333333333",
          "-33.983333333333334",
          "-35.03333333333333",
          "-34.88333333333333",
          "-19.25",
          "-28.05",
          "-33.86666666666667",
          "-16.216666666666665",
          "-30.883333333333333",
          "-27.4",
          "-33.916666666666664",
          "-20.366666666666667",
          "-16.55",
          "-18.716666666666665",
          "-32",
          "-31.983333333333334",
          "-33.55",
          "-31.183333333333334",
          "-31.666666666666668",
          "-32.717",
          "-28.8377",
          "-38.06115",
          "-27.335",
          "-21.157416666666666",
          "-10.654066666666667",
          "-33.3146",
          "-29.59387",
          "-33.8585",
          "-20.61367",
          "-35.448",
          "-32.798333",
          "-16.4683",
          "-14.668",
          "-32.5361",
          "-34.67",
          "-33.993",
          "-38.37",
          "-33.8416",
          "-30.296",
          "-20.25",
          "-20.25",
          "-13.97",
          "-32.7667",
          "-20.25",
          "-26.791",
          "-34.830278",
          "-12.1825",
          "-30.643181",
          "-33.425018",
          "-31.989",
          "-30.452",
          "-13.8611",
          "-28.6337",
          "-28.7999",
          "-11.9667",
          "-33.8005",
          " -28.45602 ",
          "-34.6817",
          "-20.3441",
          "-24.8312",
          "-34.6038",
          "-33.9222",
          "-30.3119",
          "-23.2951",
          "-34.5343",
          "-31.19",
          "-23.2951",
          "-21.932778",
          "-34.6817",
          "-38.3669",
          "-22.6799",
          "-33.49762",
          "-34.33834",
          "-34.33834",
          "-33.5427",
          "-25.2398",
          "-29.853",
          "-31.4333",
          "-28.164",
          "-28.33362",
          "-18.25",
          "-34.8611",
          "-17.9319",
          "-13.7333",
          "-31.4295",
          "-35.9295",
          "-33.0833",
          "-32.0117",
          "-38.0522",
          "-31.034",
          "-34.0557",
          "-34.2763",
          "-36.8875",
          "-23.325",
          "-33.6397",
          "-20.6564",
          "-17.5804",
          "-32.1521",
          "-23.1423",
          "-31.1295",
          "-20.6517",
          "-30.1575",
          "-30.286024",
          "-20.2665",
          "-30.20418",
          "-32.0569",
          "-38.2676",
          "-38.2676",
          "-16.90621",
          "-35.1011",
          "-35.6288",
          "-33.69999",
          "-35.0031",
          "-30.883",
          "-27.2333",
          "-33.84848 ",
          "-33.8006",
          "-32",
          "-33.9516",
          "-42.1451",
          "-22.1325",
          "-35.0627",
          "-30.2962",
          "-33.4566",
          "-38.338",
          "-20.3124",
          "-35.8139",
          "-35.0316",
          "-31.1897014",
          "-31.9417",
          "-28.93019",
          "-21.933",
          "-33.6397",
          "-33.55622",
          "-35.8333",
          "-33.99029",
          "-31.4312703",
          "-21.60092",
          "-35.15",
          "-37.824429",
          "-14.06549",
          "-30.81556",
          "-31.9694",
          "-34.679356",
          "-34.3333",
          "-32.333",
          "-30.30591",
          "-24.8333"
         ],
         "legendgroup": "unknown",
         "lon": [
          "151.2",
          "138.5",
          "151.21666666666667",
          "153.25",
          "115.28333333333333",
          "153.33333333333334",
          "138.68333333333334",
          "138.6",
          "144.86666666666667",
          "144.96666666666667",
          "144.93333333333334",
          "142.68333333333334",
          "122.23333333333333",
          "122.23333333333333",
          "152.7",
          "145.4",
          "143.73333333333332",
          "142.18333333333334",
          "142.38333333333333",
          "151.3",
          "115.63333333333334",
          "146.8",
          "147.76666666666668",
          "142.21666666666667",
          "119.35",
          "119.35",
          "150.85",
          "142.21666666666667",
          "146.56666666666666",
          "142.21666666666667",
          "142.21666666666667",
          "122.23333333333333",
          "141.56666666666666",
          "144.5",
          "142.21666666666667",
          "148.83333333333334",
          "142.53333333333333",
          "142.13333333333333",
          "142.21666666666667",
          "146.6",
          "142.13333333333333",
          "146.6",
          "142.21666666666667",
          "142.21666666666667",
          "142.18333333333334",
          "142.1",
          "142.21666666666667",
          "142.21666666666667",
          "146.01666666666668",
          "145.76666666666668",
          "142.66666666666666",
          "142.21666666666667",
          "144.5",
          "142.21666666666667",
          "150.93333333333334",
          "142.66666666666666",
          "142.66666666666666",
          "151.28333333333333",
          "153.08333333333334",
          "143.38333333333333",
          "142.18333333333334",
          "142.21666666666667",
          "146.6",
          "142.16666666666666",
          "130.4",
          "151.83333333333334",
          "151.28333333333333",
          "130.78333333333333",
          "139.4",
          "144.7",
          "145.85",
          "117.05",
          "142.21666666666667",
          "122.91666666666667",
          "152.16666666666666",
          "153.41666666666666",
          "153.16666666666666",
          "145.01666666666668",
          "115.65",
          "145.01666666666668",
          "115.68333333333334",
          "151.25",
          "115.85",
          "153.23333333333332",
          "136.16666666666666",
          "151.31666666666666",
          "139.36666666666667",
          "115.35",
          "139.4",
          "153.45",
          "153.13333333333333",
          "153.11666666666667",
          "153.11666666666667",
          "145.96666666666667",
          "153.61666666666667",
          "153.53333333333333",
          "149.18333333333334",
          "113.7666667",
          "142.18333333333334",
          "151.3",
          "145.45",
          "144.88333333333333",
          "138.58333333333334",
          "138.58333333333334",
          "150.73333333333332",
          "151.25",
          "120.68333333333334",
          "114.98333333333333",
          "150.71666666666667",
          "137.45",
          "146.81666666666666",
          "153.41666666666666",
          "135.16666666666666",
          "145.88333333333333",
          "153.08333333333334",
          "153.43333333333334",
          "122.58333333333333",
          "116.86666666666666",
          "139.4",
          "146.56666666666666",
          "115.45",
          "115.75",
          "151.31666666666666",
          "152.96666666666667",
          "115.66666666666667",
          "152.1049",
          "153.6044",
          "144.04745",
          "153.235",
          "114.02188333333334",
          "142.50723333333335",
          "115.635",
          "153.3322",
          "114.9843",
          "117.1863",
          "138.318",
          "152.079167",
          "123.5353",
          "145.4638",
          "115.7424",
          "150.84",
          "151.1753",
          "144.28",
          "115.0221",
          "153.11",
          "148.9333",
          "148.9333",
          "136.5933",
          "152.0833",
          "148.9333",
          "153.139",
          "150.7561",
          "136.7819",
          "153.008839",
          "151.342224",
          "115.7526",
          "152.8979",
          "136.8116",
          "153.6003",
          "153.58",
          "143.2333",
          "151.2979",
          "153.54457",
          "150.8511",
          "148.1893",
          "152.4592",
          "150.8676",
          "121.9032",
          "153.1427",
          "151.7079",
          "150.8746",
          "152.98",
          "151.7079",
          "114.117778",
          "150.8511",
          "144.2847",
          "113.698",
          "151.420378",
          "150.91347",
          "150.91347",
          "115.0392",
          "153.1325",
          "153.2715",
          "152.9",
          "153.5476",
          "153.569698",
          "146.666944",
          "121.8919",
          "122.2081",
          "143.8667",
          "152.9193",
          "137.5966",
          "151.5833",
          "115.7866",
          "140.7018",
          "115.3356",
          "151.1551",
          "115.052",
          "149.9059",
          "113.791",
          "115.0263",
          "116.7081",
          "122.1571",
          "152.5053",
          "113.7723",
          "153.0011",
          "115.5785",
          "153.1502",
          "153.1364",
          "148.8819",
          "153.14904",
          "115.74389",
          "144.5067",
          "144.5067",
          "145.86623",
          "150.6892",
          "150.323",
          "151.2999",
          "117.86595",
          "153.083",
          "153.266663",
          "121.91836",
          "151.2982",
          "152.7512",
          "151.2603",
          "148.2805",
          "113.8769",
          "117.9432",
          "153.1139",
          "151.4383",
          "141.6041",
          "118.6094",
          "150.2258",
          "152.9774722",
          "138.5179",
          "115.9097",
          "114.7289",
          "114.128",
          "115.0263",
          "134.85406",
          "150.1667",
          "114.99136",
          "152.9081313",
          "114.5091",
          "138.4667",
          "140.783783",
          "144.26335",
          "115.19234",
          "152.5863946",
          "137.684906.",
          "135.7500.",
          "152.533",
          "115.03825",
          "152.4167"
         ],
         "marker": {
          "color": "#636efa",
          "symbol": "circle"
         },
         "mode": "markers",
         "name": "unknown",
         "showlegend": true,
         "type": "scattergeo"
        },
        {
         "geo": "geo",
         "hovertemplate": "<b>%{hovertext}</b><br><br>Shark Behavior=approached_victim<br>latitude=%{lat}<br>longitude=%{lon}<extra></extra>",
         "hovertext": [
          "approached_victim",
          "approached_victim",
          "approached_victim",
          "approached_victim",
          "approached_victim",
          "approached_victim",
          "approached_victim",
          "approached_victim",
          "approached_victim",
          "approached_victim",
          "approached_victim",
          "approached_victim",
          "approached_victim",
          "approached_victim",
          "approached_victim",
          "approached_victim",
          "approached_victim",
          "approached_victim",
          "approached_victim",
          "approached_victim",
          "approached_victim",
          "approached_victim",
          "approached_victim",
          "approached_victim",
          "approached_victim",
          "approached_victim",
          "approached_victim",
          "approached_victim",
          "approached_victim",
          "approached_victim",
          "approached_victim",
          "approached_victim",
          "approached_victim",
          "approached_victim",
          "approached_victim",
          "approached_victim",
          "approached_victim",
          "approached_victim",
          "approached_victim",
          "approached_victim",
          "approached_victim",
          "approached_victim",
          "approached_victim",
          "approached_victim",
          "approached_victim",
          "approached_victim",
          "approached_victim",
          "approached_victim",
          "approached_victim",
          "approached_victim",
          "approached_victim",
          "approached_victim",
          "approached_victim",
          "approached_victim",
          "approached_victim",
          "approached_victim",
          "approached_victim",
          "approached_victim",
          "approached_victim",
          "approached_victim",
          "approached_victim",
          "approached_victim",
          "approached_victim",
          "approached_victim",
          "approached_victim",
          "approached_victim",
          "approached_victim",
          "approached_victim",
          "approached_victim",
          "approached_victim",
          "approached_victim",
          "approached_victim",
          "approached_victim",
          "approached_victim"
         ],
         "lat": [
          "-25.833333333333332",
          "-33.85",
          "-37.85",
          "-33.85",
          "-31.066666666666666",
          "-33.8",
          "-33.8",
          "-38.333333333333336",
          "-27.433333333333334",
          "-27.433333333333334",
          "-34.666666666666664",
          "-32.93333333333333",
          "-28.166666666666668",
          "-28.133333333333333",
          "-33.483333333333334",
          "-33.88333333333333",
          "-23.383333333333333",
          "-29.416666666666668",
          "-33.85",
          "-33.88333333333333",
          "-16.816666666666666",
          "-34.53333333333333",
          "-38.38333333333333",
          "-33.93333333333333",
          "-33.93333333333333",
          "-33.45",
          "-17.716666666666665",
          "-37.96666666666667",
          "-33.05",
          "-39.85",
          "-27.233333333333334",
          "-33.78333333333333",
          "-35",
          "-18.683333333333334",
          "-35.31666666666667",
          "-43.233333333333334",
          "-43.13333333333333",
          "-31.85",
          "-23.9",
          "-23.116666666666667",
          "-28.033333333333335",
          "-16.216666666666665",
          "-33.516666666666666",
          "-27.983333333333334",
          "-40.93333333333333",
          "-23.366666666666667",
          "-38.516666666666666",
          "-24.833333333333332",
          "-38.28333333333333",
          "-18.666666666666668",
          "-31.883333333333333",
          "-33.93333333333333",
          "-33.18333333333333",
          "-33.63333333333333",
          "-31.966666666666665",
          "-33.96666666666667",
          "-34.56666666666667",
          "-31.916666666666668",
          "-32.85",
          "-27.183333333333334",
          "-16.483333333333334",
          "-38.38333333333333",
          "-32",
          "-32",
          "-37.03333333333333",
          "-23.024116666666668",
          "-34.6215",
          "-28.3037",
          "-12.451833333333333",
          "-33.8416",
          "-31.9908",
          "-34.33834",
          "-33.44815 ",
          "-32.79734"
         ],
         "legendgroup": "approached_victim",
         "lon": [
          "113.88333333333334",
          "151.21666666666667",
          "144.9",
          "151.2",
          "152.63333333333333",
          "151.28333333333333",
          "151.28333333333333",
          "144.31666666666666",
          "153.08333333333334",
          "153.16666666666666",
          "150.85",
          "151.75",
          "153.53333333333333",
          "153.46666666666667",
          "151.3",
          "151.26666666666668",
          "150.51666666666668",
          "152.33333333333334",
          "151.25",
          "151.26666666666668",
          "145.76666666666668",
          "150.86666666666667",
          "145.15",
          "151.25",
          "151.25",
          "151.43333333333334",
          "146.4",
          "145",
          "151.63333333333333",
          "143.83333333333334",
          "153.1",
          "151.28333333333333",
          "136.16666666666666",
          "147.1",
          "136.1",
          "147.78333333333333",
          "148",
          "115.75",
          "152.38333333333333",
          "150.73333333333332",
          "153.4",
          "145.88333333333333",
          "151.36666666666667",
          "153.33333333333334",
          "146.98333333333332",
          "150.5",
          "145.08333333333334",
          "113.13333333333334",
          "144.45",
          "146.5",
          "115.75",
          "151.25",
          "134.65",
          "115",
          "115.75",
          "114.98333333333333",
          "150.86666666666667",
          "115.75",
          "151.83333333333334",
          "153.4",
          "145.45",
          "142.48333333333332",
          "115.45",
          "115.55",
          "139.73333333333332",
          "113.1294",
          "150.8568",
          "153.5742",
          "143.34441666666666",
          "115.0221",
          "115.5215",
          "150.91347",
          "151.44666",
          "134.198273"
         ],
         "marker": {
          "color": "#EF553B",
          "symbol": "circle"
         },
         "mode": "markers",
         "name": "approached_victim",
         "showlegend": true,
         "type": "scattergeo"
        },
        {
         "geo": "geo",
         "hovertemplate": "<b>%{hovertext}</b><br><br>Shark Behavior=direct_attack<br>latitude=%{lat}<br>longitude=%{lon}<extra></extra>",
         "hovertext": [
          "direct_attack",
          "direct_attack",
          "direct_attack",
          "direct_attack",
          "direct_attack",
          "direct_attack",
          "direct_attack",
          "direct_attack",
          "direct_attack",
          "direct_attack",
          "direct_attack",
          "direct_attack",
          "direct_attack",
          "direct_attack",
          "direct_attack",
          "direct_attack",
          "direct_attack",
          "direct_attack",
          "direct_attack",
          "direct_attack",
          "direct_attack",
          "direct_attack",
          "direct_attack",
          "direct_attack",
          "direct_attack",
          "direct_attack",
          "direct_attack",
          "direct_attack",
          "direct_attack",
          "direct_attack",
          "direct_attack",
          "direct_attack",
          "direct_attack",
          "direct_attack",
          "direct_attack",
          "direct_attack",
          "direct_attack",
          "direct_attack",
          "direct_attack",
          "direct_attack",
          "direct_attack",
          "direct_attack",
          "direct_attack",
          "direct_attack",
          "direct_attack",
          "direct_attack",
          "direct_attack",
          "direct_attack",
          "direct_attack",
          "direct_attack",
          "direct_attack",
          "direct_attack",
          "direct_attack",
          "direct_attack",
          "direct_attack",
          "direct_attack",
          "direct_attack",
          "direct_attack",
          "direct_attack",
          "direct_attack",
          "direct_attack",
          "direct_attack",
          "direct_attack",
          "direct_attack",
          "direct_attack",
          "direct_attack",
          "direct_attack",
          "direct_attack",
          "direct_attack",
          "direct_attack",
          "direct_attack",
          "direct_attack",
          "direct_attack",
          "direct_attack",
          "direct_attack",
          "direct_attack",
          "direct_attack",
          "direct_attack",
          "direct_attack",
          "direct_attack",
          "direct_attack",
          "direct_attack",
          "direct_attack",
          "direct_attack",
          "direct_attack",
          "direct_attack",
          "direct_attack",
          "direct_attack",
          "direct_attack",
          "direct_attack",
          "direct_attack",
          "direct_attack",
          "direct_attack",
          "direct_attack",
          "direct_attack",
          "direct_attack",
          "direct_attack",
          "direct_attack",
          "direct_attack",
          "direct_attack",
          "direct_attack",
          "direct_attack",
          "direct_attack",
          "direct_attack",
          "direct_attack",
          "direct_attack",
          "direct_attack",
          "direct_attack",
          "direct_attack",
          "direct_attack",
          "direct_attack",
          "direct_attack",
          "direct_attack",
          "direct_attack",
          "direct_attack",
          "direct_attack",
          "direct_attack",
          "direct_attack",
          "direct_attack",
          "direct_attack",
          "direct_attack",
          "direct_attack",
          "direct_attack",
          "direct_attack",
          "direct_attack",
          "direct_attack",
          "direct_attack",
          "direct_attack",
          "direct_attack",
          "direct_attack",
          "direct_attack",
          "direct_attack",
          "direct_attack",
          "direct_attack",
          "direct_attack",
          "direct_attack",
          "direct_attack",
          "direct_attack",
          "direct_attack",
          "direct_attack",
          "direct_attack",
          "direct_attack",
          "direct_attack",
          "direct_attack",
          "direct_attack",
          "direct_attack",
          "direct_attack",
          "direct_attack",
          "direct_attack",
          "direct_attack",
          "direct_attack",
          "direct_attack",
          "direct_attack",
          "direct_attack",
          "direct_attack",
          "direct_attack",
          "direct_attack",
          "direct_attack",
          "direct_attack",
          "direct_attack",
          "direct_attack",
          "direct_attack",
          "direct_attack",
          "direct_attack",
          "direct_attack",
          "direct_attack",
          "direct_attack",
          "direct_attack",
          "direct_attack",
          "direct_attack",
          "direct_attack",
          "direct_attack",
          "direct_attack",
          "direct_attack",
          "direct_attack",
          "direct_attack",
          "direct_attack",
          "direct_attack",
          "direct_attack",
          "direct_attack",
          "direct_attack",
          "direct_attack",
          "direct_attack",
          "direct_attack",
          "direct_attack",
          "direct_attack",
          "direct_attack",
          "direct_attack",
          "direct_attack",
          "direct_attack",
          "direct_attack",
          "direct_attack",
          "direct_attack",
          "direct_attack",
          "direct_attack",
          "direct_attack",
          "direct_attack",
          "direct_attack",
          "direct_attack",
          "direct_attack",
          "direct_attack",
          "direct_attack",
          "direct_attack",
          "direct_attack",
          "direct_attack",
          "direct_attack",
          "direct_attack",
          "direct_attack",
          "direct_attack",
          "direct_attack",
          "direct_attack",
          "direct_attack",
          "direct_attack",
          "direct_attack",
          "direct_attack",
          "direct_attack",
          "direct_attack",
          "direct_attack",
          "direct_attack",
          "direct_attack",
          "direct_attack",
          "direct_attack",
          "direct_attack",
          "direct_attack",
          "direct_attack",
          "direct_attack",
          "direct_attack",
          "direct_attack",
          "direct_attack",
          "direct_attack",
          "direct_attack",
          "direct_attack",
          "direct_attack",
          "direct_attack",
          "direct_attack",
          "direct_attack",
          "direct_attack",
          "direct_attack",
          "direct_attack",
          "direct_attack",
          "direct_attack",
          "direct_attack",
          "direct_attack",
          "direct_attack",
          "direct_attack",
          "direct_attack",
          "direct_attack",
          "direct_attack",
          "direct_attack",
          "direct_attack",
          "direct_attack",
          "direct_attack",
          "direct_attack",
          "direct_attack",
          "direct_attack",
          "direct_attack",
          "direct_attack",
          "direct_attack",
          "direct_attack",
          "direct_attack",
          "direct_attack",
          "direct_attack",
          "direct_attack",
          "direct_attack",
          "direct_attack",
          "direct_attack",
          "direct_attack",
          "direct_attack",
          "direct_attack",
          "direct_attack",
          "direct_attack",
          "direct_attack",
          "direct_attack",
          "direct_attack",
          "direct_attack",
          "direct_attack",
          "direct_attack",
          "direct_attack",
          "direct_attack",
          "direct_attack",
          "direct_attack",
          "direct_attack",
          "direct_attack",
          "direct_attack",
          "direct_attack",
          "direct_attack",
          "direct_attack",
          "direct_attack",
          "direct_attack",
          "direct_attack",
          "direct_attack",
          "direct_attack",
          "direct_attack",
          "direct_attack",
          "direct_attack",
          "direct_attack",
          "direct_attack",
          "direct_attack",
          "direct_attack",
          "direct_attack",
          "direct_attack",
          "direct_attack",
          "direct_attack",
          "direct_attack",
          "direct_attack",
          "direct_attack",
          "direct_attack",
          "direct_attack",
          "direct_attack",
          "direct_attack",
          "direct_attack",
          "direct_attack",
          "direct_attack",
          "direct_attack",
          "direct_attack",
          "direct_attack",
          "direct_attack",
          "direct_attack",
          "direct_attack",
          "direct_attack",
          "direct_attack",
          "direct_attack",
          "direct_attack",
          "direct_attack",
          "direct_attack",
          "direct_attack",
          "direct_attack",
          "direct_attack",
          "direct_attack",
          "direct_attack",
          "direct_attack",
          "direct_attack",
          "direct_attack",
          "direct_attack",
          "direct_attack",
          "direct_attack",
          "direct_attack",
          "direct_attack",
          "direct_attack",
          "direct_attack",
          "direct_attack",
          "direct_attack",
          "direct_attack",
          "direct_attack",
          "direct_attack",
          "direct_attack",
          "direct_attack",
          "direct_attack",
          "direct_attack",
          "direct_attack",
          "direct_attack",
          "direct_attack",
          "direct_attack",
          "direct_attack",
          "direct_attack",
          "direct_attack",
          "direct_attack",
          "direct_attack",
          "direct_attack",
          "direct_attack",
          "direct_attack",
          "direct_attack",
          "direct_attack",
          "direct_attack",
          "direct_attack",
          "direct_attack",
          "direct_attack",
          "direct_attack",
          "direct_attack",
          "direct_attack",
          "direct_attack",
          "direct_attack",
          "direct_attack",
          "direct_attack",
          "direct_attack",
          "direct_attack",
          "direct_attack",
          "direct_attack",
          "direct_attack",
          "direct_attack",
          "direct_attack",
          "direct_attack",
          "direct_attack",
          "direct_attack",
          "direct_attack",
          "direct_attack",
          "direct_attack",
          "direct_attack",
          "direct_attack",
          "direct_attack",
          "direct_attack",
          "direct_attack",
          "direct_attack",
          "direct_attack",
          "direct_attack",
          "direct_attack",
          "direct_attack",
          "direct_attack",
          "direct_attack",
          "direct_attack",
          "direct_attack",
          "direct_attack",
          "direct_attack",
          "direct_attack",
          "direct_attack",
          "direct_attack",
          "direct_attack",
          "direct_attack",
          "direct_attack",
          "direct_attack",
          "direct_attack",
          "direct_attack",
          "direct_attack",
          "direct_attack",
          "direct_attack",
          "direct_attack",
          "direct_attack",
          "direct_attack",
          "direct_attack",
          "direct_attack",
          "direct_attack",
          "direct_attack",
          "direct_attack",
          "direct_attack",
          "direct_attack",
          "direct_attack",
          "direct_attack",
          "direct_attack",
          "direct_attack",
          "direct_attack",
          "direct_attack",
          "direct_attack",
          "direct_attack",
          "direct_attack",
          "direct_attack",
          "direct_attack",
          "direct_attack",
          "direct_attack",
          "direct_attack",
          "direct_attack",
          "direct_attack",
          "direct_attack",
          "direct_attack",
          "direct_attack",
          "direct_attack",
          "direct_attack",
          "direct_attack",
          "direct_attack",
          "direct_attack",
          "direct_attack",
          "direct_attack",
          "direct_attack",
          "direct_attack",
          "direct_attack",
          "direct_attack",
          "direct_attack",
          "direct_attack",
          "direct_attack",
          "direct_attack",
          "direct_attack",
          "direct_attack",
          "direct_attack",
          "direct_attack",
          "direct_attack",
          "direct_attack",
          "direct_attack",
          "direct_attack",
          "direct_attack",
          "direct_attack",
          "direct_attack",
          "direct_attack",
          "direct_attack",
          "direct_attack",
          "direct_attack",
          "direct_attack",
          "direct_attack",
          "direct_attack",
          "direct_attack",
          "direct_attack",
          "direct_attack",
          "direct_attack",
          "direct_attack",
          "direct_attack",
          "direct_attack",
          "direct_attack",
          "direct_attack",
          "direct_attack",
          "direct_attack",
          "direct_attack",
          "direct_attack",
          "direct_attack",
          "direct_attack",
          "direct_attack",
          "direct_attack",
          "direct_attack",
          "direct_attack",
          "direct_attack",
          "direct_attack",
          "direct_attack",
          "direct_attack",
          "direct_attack",
          "direct_attack",
          "direct_attack",
          "direct_attack",
          "direct_attack",
          "direct_attack",
          "direct_attack",
          "direct_attack",
          "direct_attack",
          "direct_attack",
          "direct_attack",
          "direct_attack",
          "direct_attack",
          "direct_attack",
          "direct_attack",
          "direct_attack",
          "direct_attack",
          "direct_attack",
          "direct_attack",
          "direct_attack",
          "direct_attack",
          "direct_attack",
          "direct_attack",
          "direct_attack",
          "direct_attack",
          "direct_attack",
          "direct_attack",
          "direct_attack",
          "direct_attack",
          "direct_attack",
          "direct_attack",
          "direct_attack",
          "direct_attack",
          "direct_attack",
          "direct_attack",
          "direct_attack",
          "direct_attack",
          "direct_attack",
          "direct_attack",
          "direct_attack",
          "direct_attack",
          "direct_attack",
          "direct_attack",
          "direct_attack",
          "direct_attack",
          "direct_attack",
          "direct_attack",
          "direct_attack",
          "direct_attack",
          "direct_attack",
          "direct_attack",
          "direct_attack",
          "direct_attack",
          "direct_attack",
          "direct_attack",
          "direct_attack",
          "direct_attack",
          "direct_attack",
          "direct_attack",
          "direct_attack",
          "direct_attack",
          "direct_attack",
          "direct_attack",
          "direct_attack",
          "direct_attack",
          "direct_attack",
          "direct_attack",
          "direct_attack",
          "direct_attack",
          "direct_attack",
          "direct_attack",
          "direct_attack",
          "direct_attack",
          "direct_attack",
          "direct_attack",
          "direct_attack",
          "direct_attack",
          "direct_attack",
          "direct_attack",
          "direct_attack",
          "direct_attack",
          "direct_attack",
          "direct_attack",
          "direct_attack",
          "direct_attack",
          "direct_attack",
          "direct_attack",
          "direct_attack",
          "direct_attack",
          "direct_attack",
          "direct_attack",
          "direct_attack",
          "direct_attack",
          "direct_attack",
          "direct_attack",
          "direct_attack",
          "direct_attack",
          "direct_attack",
          "direct_attack",
          "direct_attack",
          "direct_attack",
          "direct_attack",
          "direct_attack",
          "direct_attack",
          "direct_attack",
          "direct_attack",
          "direct_attack",
          "direct_attack",
          "direct_attack",
          "direct_attack",
          "direct_attack",
          "direct_attack",
          "direct_attack",
          "direct_attack",
          "direct_attack",
          "direct_attack",
          "direct_attack",
          "direct_attack",
          "direct_attack",
          "direct_attack",
          "direct_attack",
          "direct_attack",
          "direct_attack",
          "direct_attack",
          "direct_attack",
          "direct_attack",
          "direct_attack",
          "direct_attack",
          "direct_attack",
          "direct_attack",
          "direct_attack",
          "direct_attack",
          "direct_attack",
          "direct_attack",
          "direct_attack",
          "direct_attack",
          "direct_attack",
          "direct_attack",
          "direct_attack",
          "direct_attack",
          "direct_attack",
          "direct_attack",
          "direct_attack",
          "direct_attack",
          "direct_attack",
          "direct_attack",
          "direct_attack",
          "direct_attack",
          "direct_attack",
          "direct_attack",
          "direct_attack",
          "direct_attack",
          "direct_attack",
          "direct_attack",
          "direct_attack",
          "direct_attack",
          "direct_attack",
          "direct_attack",
          "direct_attack",
          "direct_attack",
          "direct_attack",
          "direct_attack",
          "direct_attack",
          "direct_attack",
          "direct_attack",
          "direct_attack",
          "direct_attack",
          "direct_attack",
          "direct_attack",
          "direct_attack",
          "direct_attack",
          "direct_attack",
          "direct_attack",
          "direct_attack",
          "direct_attack",
          "direct_attack",
          "direct_attack",
          "direct_attack",
          "direct_attack",
          "direct_attack",
          "direct_attack",
          "direct_attack",
          "direct_attack",
          "direct_attack",
          "direct_attack",
          "direct_attack",
          "direct_attack",
          "direct_attack",
          "direct_attack",
          "direct_attack",
          "direct_attack",
          "direct_attack",
          "direct_attack",
          "direct_attack",
          "direct_attack",
          "direct_attack",
          "direct_attack",
          "direct_attack",
          "direct_attack",
          "direct_attack",
          "direct_attack",
          "direct_attack",
          "direct_attack",
          "direct_attack",
          "direct_attack",
          "direct_attack",
          "direct_attack",
          "direct_attack",
          "direct_attack",
          "direct_attack",
          "direct_attack",
          "direct_attack",
          "direct_attack",
          "direct_attack",
          "direct_attack",
          "direct_attack",
          "direct_attack",
          "direct_attack",
          "direct_attack",
          "direct_attack",
          "direct_attack",
          "direct_attack",
          "direct_attack",
          "direct_attack",
          "direct_attack",
          "direct_attack",
          "direct_attack",
          "direct_attack",
          "direct_attack",
          "direct_attack",
          "direct_attack",
          "direct_attack",
          "direct_attack",
          "direct_attack",
          "direct_attack",
          "direct_attack",
          "direct_attack",
          "direct_attack",
          "direct_attack",
          "direct_attack",
          "direct_attack",
          "direct_attack",
          "direct_attack",
          "direct_attack",
          "direct_attack",
          "direct_attack",
          "direct_attack",
          "direct_attack",
          "direct_attack",
          "direct_attack",
          "direct_attack",
          "direct_attack",
          "direct_attack",
          "direct_attack",
          "direct_attack",
          "direct_attack",
          "direct_attack",
          "direct_attack",
          "direct_attack",
          "direct_attack",
          "direct_attack",
          "direct_attack",
          "direct_attack",
          "direct_attack",
          "direct_attack",
          "direct_attack",
          "direct_attack",
          "direct_attack",
          "direct_attack",
          "direct_attack",
          "direct_attack",
          "direct_attack",
          "direct_attack",
          "direct_attack",
          "direct_attack",
          "direct_attack",
          "direct_attack",
          "direct_attack",
          "direct_attack",
          "direct_attack",
          "direct_attack",
          "direct_attack",
          "direct_attack",
          "direct_attack",
          "direct_attack",
          "direct_attack",
          "direct_attack",
          "direct_attack",
          "direct_attack",
          "direct_attack",
          "direct_attack",
          "direct_attack",
          "direct_attack",
          "direct_attack",
          "direct_attack",
          "direct_attack",
          "direct_attack",
          "direct_attack",
          "direct_attack",
          "direct_attack",
          "direct_attack",
          "direct_attack",
          "direct_attack",
          "direct_attack",
          "direct_attack",
          "direct_attack",
          "direct_attack",
          "direct_attack",
          "direct_attack",
          "direct_attack",
          "direct_attack",
          "direct_attack",
          "direct_attack",
          "direct_attack",
          "direct_attack",
          "direct_attack",
          "direct_attack",
          "direct_attack",
          "direct_attack",
          "direct_attack",
          "direct_attack",
          "direct_attack",
          "direct_attack",
          "direct_attack",
          "direct_attack",
          "direct_attack",
          "direct_attack",
          "direct_attack",
          "direct_attack",
          "direct_attack",
          "direct_attack",
          "direct_attack",
          "direct_attack",
          "direct_attack",
          "direct_attack"
         ],
         "lat": [
          "-33.86666666666667",
          "-42.8",
          "-33.85",
          "-43.28333333333333",
          "-33.86666666666667",
          "-33.833333333333336",
          "-25.483333333333334",
          "-25.483333333333334",
          "-30.933333333333334",
          "-38.983333333333334",
          "-33.833333333333336",
          "-27.433333333333334",
          "-38.333333333333336",
          "-33.81666666666667",
          "-27.283333333333335",
          "-33.85",
          "-25.5",
          "-10.566666666666666",
          "-33.86666666666667",
          "-38.13333333333333",
          "-37.85",
          "-27.516666666666666",
          "-27.366666666666667",
          "-31.883333333333333",
          "-27.583333333333332",
          "-37.9",
          "-26.8",
          "-23.083333333333332",
          "-27.466666666666665",
          "-34.13333333333333",
          "-27.466666666666665",
          "-27.083333333333332",
          "-25.8",
          "-34.833333333333336",
          "-33.86666666666667",
          "-25.5",
          "-33",
          "-29.416666666666668",
          "-10.25",
          "-29.4",
          "-29.4",
          "-20.7",
          "-10.25",
          "-37.85",
          "-32.766666666666666",
          "-38.38333333333333",
          "-38.1",
          "-33.86666666666667",
          "-34.733333333333334",
          "-38.38333333333333",
          "-25.8",
          "-33.85",
          "-33.86666666666667",
          "-29.4",
          "-16.9",
          "-33.083333333333336",
          "-27.516666666666666",
          "-27.466666666666665",
          "-25.25",
          "-20",
          "-33.86666666666667",
          "-24.833333333333332",
          "-33.083333333333336",
          "-33.85",
          "-15.883333333333333",
          "-33.85",
          "-33.86666666666667",
          "-33.18333333333333",
          "-33.81666666666667",
          "-33.31666666666667",
          "-23.383333333333333",
          "-33.81666666666667",
          "-33.85",
          "-38.333333333333336",
          "-42.733333333333334",
          "-36.71666666666667",
          "-10.116666666666667",
          "-23.366666666666667",
          "-27.45",
          "-28.766666666666666",
          "-9.816666666666666",
          "-32.916666666666664",
          "-27.466666666666665",
          "-33.93333333333333",
          "-24.9",
          "-20.783333333333335",
          "-35.13333333333333",
          "-10.566666666666666",
          "-33.85",
          "-33.86666666666667",
          "-33.85",
          "-31.066666666666666",
          "-32.71666666666667",
          "-27.466666666666665",
          "-33.78333333333333",
          "-27.55",
          "-33.85",
          "-11.6",
          "-19.25",
          "-33.78333333333333",
          "-11.6",
          "-27.466666666666665",
          "-16.85",
          "-10.566666666666666",
          "-10.566666666666666",
          "-27.466666666666665",
          "-27.483333333333334",
          "-33.81666666666667",
          "-36.63333333333333",
          "-27.7",
          "-27.416666666666668",
          "-28.8",
          "-10.2",
          "-33.983333333333334",
          "-14.666666666666666",
          "-9.95",
          "-35.7",
          "-19.25",
          "-28.85",
          "-32.93333333333333",
          "-33.78333333333333",
          "-32.9",
          "-33.31666666666667",
          "-34.36666666666667",
          "-21.166666666666668",
          "-20.383333333333333",
          "-10.566666666666666",
          "-15.483333333333333",
          "-33.833333333333336",
          "-33.81666666666667",
          "-19.45",
          "-37.583333333333336",
          "-33.916666666666664",
          "-27.316666666666666",
          "-10.566666666666666",
          "-29.4",
          "-10.2",
          "-27.316666666666666",
          "-35.05",
          "-27.316666666666666",
          "-33.833333333333336",
          "-35.233333333333334",
          "-29.433333333333334",
          "-37.95",
          "-19.166666666666668",
          "-31.983333333333334",
          "-33.833333333333336",
          "-27.266666666666666",
          "-33.78333333333333",
          "-27.316666666666666",
          "-41.05",
          "-33.766666666666666",
          "-19.233333333333334",
          "-20",
          "-20",
          "-33.78333333333333",
          "-23.116666666666667",
          "-27.233333333333334",
          "-20.3",
          "-32.666666666666664",
          "-32.916666666666664",
          "-28.15",
          "-28.15",
          "-26.416666666666668",
          "-19.25",
          "-16.7",
          "-32.916666666666664",
          "-33.833333333333336",
          "-19.45",
          "-27.083333333333332",
          "-30.916666666666668",
          "-32.9",
          "-33.333333333333336",
          "-19.25",
          "-20.9",
          "-32.2",
          "-35.016666666666666",
          "-31.983333333333334",
          "-14.5",
          "-28.8",
          "-18.233333333333334",
          "-16.9",
          "-27.433333333333334",
          "-27.433333333333334",
          "-23.383333333333333",
          "-32.85",
          "-19.45",
          "-33.916666666666664",
          "-25.533333333333335",
          "-31.966666666666665",
          "-19.233333333333334",
          "-16.85",
          "-28.816666666666666",
          "-34.35",
          "-28.316666666666666",
          "-33.8",
          "-33.31666666666667",
          "-33.9",
          "-37.833333333333336",
          "-33.916666666666664",
          "-32.916666666666664",
          "-31.983333333333334",
          "-34.9",
          "-29.45",
          "-34.05",
          "-27.466666666666665",
          "-32.93333333333333",
          "-10.566666666666666",
          "-17.216666666666665",
          "-19.8",
          "-27.516666666666666",
          "-33.88333333333333",
          "-32.93333333333333",
          "-10.583333333333334",
          "-19.133333333333333",
          "-34.416666666666664",
          "-33.88333333333333",
          "-35.03333333333333",
          "-33.93333333333333",
          "-33.88333333333333",
          "-34.416666666666664",
          "-34.416666666666664",
          "-21",
          "-26.983333333333334",
          "-10.05",
          "-33.71666666666667",
          "-33.85",
          "-10.15",
          "-37.9",
          "-28.766666666666666",
          "-33.8",
          "-23.116666666666667",
          "-19.45",
          "-27.6",
          "-23.833333333333332",
          "-34.36666666666667",
          "-33",
          "-11.933333333333334",
          "-19.25",
          "-14.15",
          "-20.966666666666665",
          "-17.966666666666665",
          "-10.566666666666666",
          "-29.1",
          "-33.983333333333334",
          "-33.78333333333333",
          "-20",
          "-10.6",
          "-33.75",
          "-28.15",
          "-33.78333333333333",
          "-18.233333333333334",
          "-9.966666666666667",
          "-11.666666666666666",
          "-33.95",
          "-33.93333333333333",
          "-33.483333333333334",
          "-33.93333333333333",
          "-21.166666666666668",
          "-14.666666666666666",
          "-33.7",
          "-17.533333333333335",
          "-20.666666666666668",
          "-34.9",
          "-12.783333333333333",
          "-16.7",
          "-20.816666666666666",
          "-10.6",
          "-20.816666666666666",
          "-31.983333333333334",
          "-33.95",
          "-32.9",
          "-32.93333333333333",
          "-30.916666666666668",
          "-9.95",
          "-28.633333333333333",
          "-28.166666666666668",
          "-28.166666666666668",
          "-18.533333333333335",
          "-18.133333333333333",
          "-33.85",
          "-34.03333333333333",
          "-12.033333333333333",
          "-27.433333333333334",
          "-27.35",
          "-9.95",
          "-16.716666666666665",
          "-12.616666666666667",
          "-21.166666666666668",
          "-10.566666666666666",
          "-27.483333333333334",
          "-28",
          "-33.95",
          "-33.95",
          "-34.733333333333334",
          "-21.4",
          "-10.566666666666666",
          "-10.116666666666667",
          "-26.466666666666665",
          "-24.883333333333333",
          "-33.766666666666666",
          "-17.7",
          "-20.083333333333332",
          "-16.783333333333335",
          "-33.766666666666666",
          "-12.466666666666667",
          "-32.166666666666664",
          "-33.95",
          "-16.716666666666665",
          "-19.25",
          "-33.983333333333334",
          "-31.933333333333334",
          "-16.783333333333335",
          "-16.716666666666665",
          "-33.05",
          "-10.566666666666666",
          "-34.96666666666667",
          "-31.333333333333332",
          "-31.333333333333332",
          "-31.7",
          "-31.983333333333334",
          "-32.85",
          "-9.633333333333333",
          "-26.8",
          "-29.1",
          "-32.93333333333333",
          "-16.716666666666665",
          "-17.966666666666665",
          "-40.11666666666667",
          "-16.816666666666666",
          "-34",
          "-28.1",
          "-23.116666666666667",
          "-28.1",
          "-33.88333333333333",
          "-33.63333333333333",
          "-23.383333333333333",
          "-19.233333333333334",
          "-32.93333333333333",
          "-29.1",
          "-19.25",
          "-38.016666666666666",
          "-33.86666666666667",
          "-34.56666666666667",
          "-33.71666666666667",
          "-33.733333333333334",
          "-38.05",
          "-10.233333333333333",
          "-33.333333333333336",
          "-16.916666666666668",
          "-9.583333333333334",
          "-33.81666666666667",
          "-33.78333333333333",
          "-33.416666666666664",
          "-17.933333333333334",
          "-21.116666666666667",
          "-38.43333333333333",
          "-38.333333333333336",
          "-28",
          "-28.633333333333333",
          "-32.93333333333333",
          "-10.566666666666666",
          "-32.68333333333333",
          "-10.583333333333334",
          "-28.533333333333335",
          "-35.2",
          "-9.75",
          "-38.21666666666667",
          "-31.95",
          "-26.666666666666668",
          "-43.15",
          "-34.3",
          "-10.583333333333334",
          "-28.016666666666666",
          "-38.45",
          "-37.983333333333334",
          "-33.766666666666666",
          "-38.166666666666664",
          "-30.866666666666667",
          "-32.6",
          "-21.133333333333333",
          "-34.21666666666667",
          "-27.366666666666667",
          "-30.633333333333333",
          "-34.96666666666667",
          "-38.38333333333333",
          "-35.28333333333333",
          "-26.366666666666667",
          "-21.066666666666666",
          "-21.066666666666666",
          "-10.383333333333333",
          "-28.783333333333335",
          "-28.15",
          "-33.733333333333334",
          "-35.4",
          "-33.78333333333333",
          "-34.3",
          "-33.63333333333333",
          "-35.28333333333333",
          "-31.95",
          "-34.21666666666667",
          "-38.416666666666664",
          "-37.833333333333336",
          "-16.916666666666668",
          "-31.983333333333334",
          "-34.28333333333333",
          "-35.03333333333333",
          "-31.983333333333334",
          "-23.433333333333334",
          "-41.86666666666667",
          "-30.883333333333333",
          "-34.416666666666664",
          "-30.25",
          "-35.6",
          "-35",
          "-34.666666666666664",
          "-31.95",
          "-41.15",
          "-33.85",
          "-23.483333333333334",
          "-38.81666666666667",
          "-43.233333333333334",
          "-35.35",
          "-17.1",
          "-18.516666666666666",
          "-27.416666666666668",
          "-32.766666666666666",
          "-27.733333333333334",
          "-34.68333333333333",
          "-38.93333333333333",
          "-32.083333333333336",
          "-38.4",
          "-26.65",
          "-43.35",
          "-33.78333333333333",
          "-32.983333333333334",
          "-28.233333333333334",
          "-27.25",
          "-27.25",
          "-32.083333333333336",
          "-31.766666666666666",
          "-43.166666666666664",
          "-28.633333333333333",
          "-32.43333333333333",
          "-38.416666666666664",
          "-27.416666666666668",
          "-32.083333333333336",
          "-16.916666666666668",
          "-31",
          "-28.633333333333333",
          "-32",
          "-32.016666666666666",
          "-43.516666666666666",
          "-43.56666666666667",
          "-18.9",
          "-18.683333333333334",
          "-31.833333333333332",
          "-14.116666666666667",
          "-28.683333333333334",
          "-21.05",
          "-38.333333333333336",
          "-34.46666666666667",
          "-13.916666666666666",
          "-29.916666666666668",
          "-12.366666666666667",
          "-33.81666666666667",
          "-13.916666666666666",
          "-32.166666666666664",
          "-33.88333333333333",
          "-32.16666667",
          "-14.166666666666666",
          "-14.666666666666666",
          "-33.266666666666666",
          "-38.5",
          "-33.86666666666667",
          "-38.5",
          "-32",
          "-28.883333333333333",
          "-17.966666666666665",
          "-10.116666666666667",
          "-35.63333333333333",
          "-28.783333333333335",
          "-41.43333333333333",
          "-14.166666666666666",
          "-38.53333333333333",
          "-16.383333333333333",
          "-12.283333333333333",
          "-28.15",
          "-28.183333333333334",
          "-19.166666666666668",
          "-16.216666666666665",
          "-25.9",
          "-28.033333333333335",
          "-35.516666666666666",
          "-28",
          "-38.266666666666666",
          "-34.56666666666667",
          "-35.28333333333333",
          "-32.516666666666666",
          "-24.866666666666667",
          "-38.28333333333333",
          "-34.25",
          "-27.083333333333332",
          "-20.05",
          "-34.21666666666667",
          "-40.93333333333333",
          "-28.633333333333333",
          "-17.966666666666665",
          "-27.533333333333335",
          "-27.983333333333334",
          "-37.31666666666667",
          "-27.933333333333334",
          "-38.46666666666667",
          "-35.53333333333333",
          "-32.083333333333336",
          "-37.05",
          "-25",
          "-29.533333333333335",
          "-23.166666666666668",
          "-27.85",
          "-35.05",
          "-33.86666666666667",
          "-31.516666666666666",
          "-23.433333333333334",
          "-33.666666666666664",
          "-33.666666666666664",
          "-32",
          "-38.416666666666664",
          "-26.5",
          "-20.25",
          "-28.15",
          "-38.516666666666666",
          "-20.266666666666666",
          "-27.983333333333334",
          "-26.65",
          "-31.983333333333334",
          "-35.13333333333333",
          "-29.1",
          "-20.116666666666667",
          "-34.21666666666667",
          "-35.5",
          "-35.31666666666667",
          "-26.5",
          "-35.5",
          "-33.95",
          "-27.383333333333333",
          "-32.21666666666667",
          "-32.083333333333336",
          "-31.816666666666666",
          "-27.966666666666665",
          "-31.95",
          "-33.483333333333334",
          "-33.86666666666667",
          "-33.86666666666667",
          "-31.983333333333334",
          "-33.61666666666667",
          "-32.083333333333336",
          "-18.666666666666668",
          "-31.983333333333334",
          "-34.63333333333333",
          "-31.983333333333334",
          "-23.433333333333334",
          "-26.383333333333333",
          "-30.883333333333333",
          "-29.6",
          "-33.96666666666667",
          "-30.633333333333333",
          "-33.9",
          "-33.233333333333334",
          "-27.283333333333335",
          "-16.916666666666668",
          "-28.816666666666666",
          "-29.433333333333334",
          "-34.25",
          "-33.3",
          "-32.733333333333334",
          "-26.366666666666667",
          "-33.86666666666667",
          "-32.3842203682647",
          "-32.93333333333333",
          "-16.666666666666668",
          "-33.78333333333333",
          "-33.916666666666664",
          "-35.516666666666666",
          "-28.1",
          "-29.416666666666668",
          "-32.53333333333333",
          "-12.183333333333334",
          "-30.283333333333335",
          "-32.43333333333333",
          "-33.63333333333333",
          "-33.96666666666667",
          "-38.266666666666666",
          "-33.983333333333334",
          "-30.566666666666666",
          "-30.633333333333333",
          "-33.13333333333333",
          "-38.36666666666667",
          "-33.1",
          "-31.85",
          "-31.85",
          "-30.25",
          "-32.2",
          "-33.96666666666667",
          "-31.983333333333334",
          "-33.85",
          "-28.633333333333333",
          "-16.4",
          "-32.016666666666666",
          "-34.9",
          "-37.983333333333334",
          "-27.55",
          "-28.716666666666665",
          "-12.116666666666667",
          "-33.9",
          "-19.35",
          "-34.96666666666667",
          "-30.3",
          "-31.883333333333333",
          "-35.083333333333336",
          "-34.833333333333336",
          "-31.933333333333334",
          "-26.8",
          "-32.916666666666664",
          "-26.683333333333334",
          "-33.9",
          "-38.36666666666667",
          "-32.38333333333333",
          "-37.5",
          "-28.833333333333332",
          "-28.533333333333335",
          "-24.716666666666665",
          "-23.133333333333333",
          "-31.183333333333334",
          "-33.78333333333333",
          "-21.95",
          "-12.15",
          "-16.916666666666668",
          "-28.633333333333333",
          "-28.633333333333333",
          "-33.9495",
          "-27.933333333333334",
          "-32.68333333333333",
          "-41",
          "-28.183333333333334",
          "-31.983333333333334",
          "-38.833333333333336",
          "-28.15",
          "-28.866666666666667",
          "-33.63333333333333",
          "-35.016666666666666",
          "-28.633333333333333",
          "-32.43333333333333",
          "-32.35",
          "-34.53333333333333",
          "-13.916666666666666",
          "-28.183333333333334",
          "-41.233333333333334",
          "-35.76",
          "-33.85",
          "-33.88333333333333",
          "-33.63333333333333",
          "-35.85",
          "-33.93333333333333",
          "-32.5",
          "-31.983333333333334",
          "-32.733333333333334",
          "-34.666666666666664",
          "-28.633333333333333",
          "-12.15",
          "-38.333333333333336",
          "-28.783333333333335",
          "-35.5",
          "-23.433333333333334",
          "-33.45",
          "-26.067",
          "-29.1",
          "-32.166666666666664",
          "-10.566666666666666",
          "-20.35",
          "-33.666666666666664",
          "-31.3",
          "-35.03333333333333",
          "-31.183333333333334",
          "-33.85",
          "-29.4",
          "-30.833333333333332",
          "-30.066666666666666",
          "-32.18333333333333",
          "-34.71666666666667",
          "-21.95",
          "-32.733333333333334",
          "-31.8464",
          "-24.483333333333334",
          "-32.45",
          "-33.53333333333333",
          "-37.88333333333333",
          "-26.466666666666665",
          "-33.93333333333333",
          "-29.483333333333334",
          "-33.45",
          "-33",
          "-23.133333333333333",
          "-31.983333333333334",
          "-32.6",
          "-28.05",
          "-33.46666666666667",
          "-35.18333333",
          "-32.21666666666667",
          "-33",
          "-38.61666666666667",
          "-31.783333333333335",
          "-32.766666666666666",
          "-30.833333333333332",
          "-24.383333333333333",
          "-31.766666666666666",
          "-31.733333333333334",
          "-33.75",
          "-20.35",
          "-26.366666666666667",
          "-28.8",
          "-29.466666666666665",
          "-32.4",
          "-28.633333333333333",
          "-35.06666666666667",
          "-38.46666666666667",
          "-33.71666666666667",
          "-21.95",
          "-33.95",
          "-30.266666666666666",
          "-33.85",
          "-28.1",
          "-31.45",
          "-35.13333333333333",
          "-31.466666666666665",
          "-36.71666666666667",
          "-23.133333333333333",
          "-27.983333333333334",
          "-35.6308708317242",
          "-34.833333333333336",
          "-35.5",
          "-35.5",
          "-23.783333333333335",
          "-28.633333333333333",
          "-31.416666666666668",
          "-33.45",
          "-31.983333333333334",
          "-33.833333333333336",
          "-30.2",
          "-35.733333333333334",
          "-33.75",
          "-35.1338",
          "-34.88003124",
          "-16.2",
          "-28.633333333333333",
          "-32.68333333333333",
          "-27.633333333333333",
          "-35.333333333333336",
          "-28.883333333333333",
          "-28.85",
          "-32.95",
          "-31.516666666666666",
          "-31.516666666666666",
          "-35.8",
          "-34.86666666666667",
          "-32.016666666666666",
          "-35.016666666666666",
          "-31.983333333333334",
          "-28.633333333333333",
          "-35.65",
          "-28.1",
          "-42.63333333333333",
          "-29.1",
          "-28.783333333333335",
          "-29.433333333333334",
          "-38.25",
          "-28.866666666666667",
          "-31.466666666666665",
          "-18.833333333333332",
          "-33.05",
          "-32.06666666666667",
          "-17.216666666666665",
          "-34.88003124",
          "-32.6",
          "-28.866666666666667",
          "-26.8",
          "-23.433333333333334",
          "-23.15",
          "-34",
          "-23.566666666666666",
          "-34.03333333333333",
          "-34.65",
          "-28.633333333333333",
          "-32.583333333333336",
          "-28.866666666666667",
          "-28.833333333333332",
          "-33.08945",
          "-20.233333333333334",
          "-32.30595",
          "-31.145316666666666",
          "-9.863916666666666",
          "-36.88666666666667",
          "-21.96676666666667",
          "-18.249483333333334",
          "-23.2411667",
          "-34.60465",
          "-27.052066666666665",
          "-32.7667",
          "-33.83250092",
          "-38.5367",
          "-34.425072",
          "-33.8416",
          "-31.7789",
          "-33.5638",
          "-34.2256",
          "-33.8416",
          "-28.84",
          "-33.37",
          "-28.8632",
          "-32.6036",
          "-18.156",
          "-32.7501",
          "-24.7293",
          "-26.7994",
          "-32.4436",
          "-14.6787",
          "-28.2778",
          "-16.9337",
          "-40.7667",
          "-32.7876 ",
          "-32.7876 ",
          "-33.950",
          "-33.790172",
          "-29.9453",
          "-33.6463583"
         ],
         "legendgroup": "direct_attack",
         "lon": [
          "151.2",
          "147.53333333333333",
          "151.21666666666667",
          "147.33333333333334",
          "151.18333333333334",
          "151.26666666666668",
          "152.98333333333332",
          "152.98333333333332",
          "153.01666666666668",
          "146.45",
          "151.16666666666666",
          "153.08333333333334",
          "141.6",
          "151.2",
          "153.21666666666667",
          "151.21666666666667",
          "152.71666666666667",
          "142.2",
          "151.2",
          "144.41666666666666",
          "144.9",
          "153.26666666666668",
          "153.15",
          "151.46666666666667",
          "153.31666666666666",
          "144.98333333333332",
          "153.13333333333333",
          "150.73333333333332",
          "153",
          "137.45",
          "153.01666666666668",
          "153.4",
          "153.01666666666668",
          "138.46666666666667",
          "151.2",
          "152.71666666666667",
          "151.71666666666667",
          "153.33333333333334",
          "142.11666666666667",
          "153.33333333333334",
          "153.33333333333334",
          "117.25",
          "142.11666666666667",
          "144.95",
          "151.7",
          "142.48333333333332",
          "144.65",
          "151.2",
          "138.03333333333333",
          "142.5",
          "153.05",
          "151.15",
          "151.2",
          "153.33333333333334",
          "145.98333333333332",
          "151.5",
          "152.9",
          "153.03333333333333",
          "152.85",
          "148.8",
          "151.23333333333332",
          "152.11666666666667",
          "151.65",
          "151.2",
          "122",
          "151.15",
          "151.2",
          "137.98333333333332",
          "151.05",
          "115.63333333333334",
          "150.63333333333333",
          "151.08333333333334",
          "151.15",
          "144.61666666666667",
          "147.23333333333332",
          "149.98333333333332",
          "142.13333333333333",
          "150.5",
          "153.21666666666667",
          "114.6",
          "142.7",
          "151.78333333333333",
          "153",
          "151.25",
          "152.23333333333332",
          "115.53333333333333",
          "150.75",
          "142.21666666666667",
          "151.15",
          "151.18333333333334",
          "121.88333333333334",
          "152.83333333333334",
          "152.11666666666667",
          "153.21666666666667",
          "151.21666666666667",
          "153.18333333333334",
          "151.15",
          "130.95",
          "146.81666666666666",
          "151.23333333333332",
          "130.95",
          "153",
          "145.75",
          "142.21666666666667",
          "142.21666666666667",
          "153",
          "153",
          "151.15",
          "150",
          "153.28333333333333",
          "153.11666666666667",
          "153.26666666666668",
          "142.15",
          "151.06666666666666",
          "145.45",
          "142.16666666666666",
          "150.18333333333334",
          "146.81666666666666",
          "113.9",
          "151.75",
          "151.23333333333332",
          "151.76666666666668",
          "115.61666666666666",
          "115.11666666666666",
          "149.23333333333332",
          "116.86666666666666",
          "142.21666666666667",
          "145.4",
          "151.16666666666666",
          "151.15",
          "146.6",
          "140.33333333333334",
          "151.25",
          "153.05",
          "142.21666666666667",
          "153.33333333333334",
          "142.15",
          "153.05",
          "138.45",
          "153.05",
          "151.06666666666666",
          "136.96666666666667",
          "153.18333333333334",
          "145",
          "146.83333333333334",
          "115.73333333333333",
          "151.23333333333332",
          "153.21666666666667",
          "151.28333333333333",
          "153.06666666666666",
          "145.75",
          "151.28333333333333",
          "146.81666666666666",
          "119.36666666666666",
          "119.33333333333333",
          "151.21666666666667",
          "150.75",
          "153.21666666666667",
          "118.58333333333333",
          "152.15",
          "151.78333333333333",
          "153.51666666666668",
          "153.1",
          "150.06666666666666",
          "146.81666666666666",
          "146.05",
          "151.78333333333333",
          "151.23333333333332",
          "146.6",
          "153.45",
          "153.01666666666668",
          "151.75",
          "151.5",
          "146.81666666666666",
          "151.71666666666667",
          "152.55",
          "117.33333333333333",
          "115.73333333333333",
          "144.91666666666666",
          "153.26666666666668",
          "146.65",
          "146.23333333333332",
          "153.15",
          "153.15",
          "150.55",
          "151.83333333333334",
          "146.6",
          "151.25",
          "152.7",
          "115.76666666666667",
          "146.81666666666666",
          "146.15",
          "114.61666666666666",
          "150.91666666666666",
          "153.4",
          "151.01666666666668",
          "115.63333333333334",
          "151.26666666666668",
          "144.93333333333334",
          "151.25",
          "151.78333333333333",
          "115.75",
          "137",
          "153.18333333333334",
          "151.08333333333334",
          "153.03333333333333",
          "151.75",
          "142.21666666666667",
          "145.96666666666667",
          "149.05",
          "152.98333333333332",
          "151.26666666666668",
          "151.75",
          "142.21666666666667",
          "146.83333333333334",
          "137.91666666666666",
          "151.26666666666668",
          "150.71666666666667",
          "151.25",
          "151.26666666666668",
          "137.91666666666666",
          "137.91666666666666",
          "149.88333333333333",
          "153.06666666666666",
          "143.06666666666666",
          "151.3",
          "151.18333333333334",
          "142.18333333333334",
          "144.98333333333332",
          "114.6",
          "151.23333333333332",
          "150.73333333333332",
          "146.6",
          "152.76666666666668",
          "151.21666666666667",
          "150.91666666666666",
          "151.71666666666667",
          "132.61666666666667",
          "146.81666666666666",
          "144.5",
          "149.75",
          "122.16666666666667",
          "142.21666666666667",
          "153.43333333333334",
          "151.06666666666666",
          "151.28333333333333",
          "148.45",
          "142.61666666666667",
          "151.3",
          "153.48333333333332",
          "151.28333333333333",
          "146.31666666666666",
          "143.26666666666668",
          "132.51666666666668",
          "151.96666666666667",
          "150.96666666666667",
          "151.3",
          "151.25",
          "149.23333333333332",
          "145.45",
          "151.3",
          "146.01666666666668",
          "117.18333333333334",
          "137",
          "143.6",
          "146.05",
          "149.48333333333332",
          "142.21666666666667",
          "149.48333333333332",
          "115.53333333333333",
          "151.15",
          "151.75",
          "151.75",
          "153.08333333333334",
          "142.18333333333334",
          "153.61666666666667",
          "153.51666666666668",
          "153.51666666666668",
          "146.23333333333332",
          "146.25",
          "151.25",
          "151.15",
          "134.2",
          "153.16666666666666",
          "153.11666666666667",
          "142.16666666666666",
          "154.68333333333334",
          "143.45",
          "149.23333333333332",
          "142.21666666666667",
          "153.01666666666668",
          "153.41666666666666",
          "151.15",
          "151.15",
          "150.83333333333334",
          "150.53333333333333",
          "142.21666666666667",
          "142.13333333333333",
          "110.26666666666667",
          "113.65",
          "151.21666666666667",
          "146.51666666666668",
          "148.88333333333333",
          "145.7",
          "151.21666666666667",
          "130.83333333333334",
          "152.51666666666668",
          "151.25",
          "145.66666666666666",
          "146.81666666666666",
          "151.08333333333334",
          "115.75",
          "145.7",
          "145.63333333333333",
          "151.63333333333333",
          "142.21666666666667",
          "138.5",
          "152.83333333333334",
          "152.83333333333334",
          "152.75",
          "115.53333333333333",
          "151.83333333333334",
          "142.68333333333334",
          "153.13333333333333",
          "153.43333333333334",
          "151.75",
          "145.63333333333333",
          "122.16666666666667",
          "148.93333333333334",
          "145.76666666666668",
          "151.2",
          "153.1",
          "150.73333333333332",
          "153.46666666666667",
          "151.26666666666668",
          "151.31666666666666",
          "150.55",
          "146.8",
          "151.75",
          "153.43333333333334",
          "146.81666666666666",
          "140.56666666666666",
          "151.2",
          "150.86666666666667",
          "151.3",
          "151.3",
          "140.7",
          "142.48333333333332",
          "151.5",
          "145.99445",
          "143.76666666666668",
          "151.25",
          "151.21666666666667",
          "151.45",
          "145.93333333333334",
          "149.15",
          "145.23333333333332",
          "144.7",
          "153.41666666666666",
          "153.61666666666667",
          "151.75",
          "142.21666666666667",
          "152.18333333333334",
          "142.21666666666667",
          "153.55",
          "150.55",
          "143.4",
          "145.01666666666668",
          "115.85",
          "153.11666666666667",
          "147.85",
          "150.91666666666666",
          "142.21666666666667",
          "153.43333333333334",
          "144.08333333333334",
          "145.01666666666668",
          "151.2",
          "145.06666666666666",
          "153.03333333333333",
          "152.31666666666666",
          "149.2",
          "115.01666666666667",
          "153.15",
          "153.18333333333334",
          "138.5",
          "142.48333333333332",
          "138.43333333333334",
          "153.08333333333334",
          "149.21666666666667",
          "149.21666666666667",
          "142.28333333333333",
          "153.58333333333334",
          "153.53333333333333",
          "151.31666666666666",
          "138.31666666666666",
          "151.23333333333332",
          "150.93333333333334",
          "115",
          "138.43333333333334",
          "115.85",
          "115.01666666666667",
          "142",
          "144.93333333333334",
          "145.76666666666668",
          "115.53333333333333",
          "150.93333333333334",
          "150.71666666666667",
          "115.53333333333333",
          "151.9",
          "148.3",
          "153.05",
          "150.88333333333333",
          "115.01666666666667",
          "138.08333333333334",
          "150.81666666666666",
          "150.85",
          "115.85",
          "148.35",
          "121.88333333333334",
          "151.2",
          "148.08333333333334",
          "148",
          "150.46666666666667",
          "146.4",
          "146.35",
          "153.53333333333333",
          "134.2",
          "153.68333333333334",
          "135.35",
          "146.23333333333332",
          "132.96666666666667",
          "144.18333333333334",
          "153.08333333333334",
          "147.35",
          "151.28333333333333",
          "137.78333333333333",
          "153.56666666666666",
          "153.25",
          "153.25",
          "132.96666666666667",
          "115.71666666666667",
          "147.98333333333332",
          "153.61666666666667",
          "152.51666666666668",
          "145.05",
          "153.53333333333333",
          "132.96666666666667",
          "145.76666666666668",
          "115.3",
          "153.61666666666667",
          "115.51666666666667",
          "115.73333333333333",
          "146.9",
          "146.88333333333333",
          "147.73333333333332",
          "147.1",
          "115.75",
          "129.53333333333333",
          "153.61666666666667",
          "149.18333333333334",
          "144.3",
          "136.01666666666668",
          "146.61666666666667",
          "153.38333333333333",
          "130.83333333333334",
          "151.3",
          "146.61666666666667",
          "152.51666666666668",
          "121.81666666666666",
          "115.65",
          "132.18333333333334",
          "145.45",
          "151.56666666666666",
          "145.26666666666668",
          "151.2",
          "145.26666666666668",
          "115.51666666666667",
          "153.55",
          "122.23333333333333",
          "142.13333333333333",
          "138.48333333333332",
          "153.58333333333334",
          "148.26666666666668",
          "132.18333333333334",
          "145.46666666666667",
          "122.91666666666667",
          "136.81666666666666",
          "153.53333333333333",
          "153.55",
          "148.38333333333333",
          "145.88333333333333",
          "153.08333333333334",
          "153.4",
          "138.76666666666668",
          "153.41666666666666",
          "144.65",
          "150.86666666666667",
          "138.43333333333334",
          "115.7",
          "152.35",
          "144.6",
          "135.16666666666666",
          "153.4",
          "148.88333333333333",
          "138.01666666666668",
          "146.98333333333332",
          "153.61666666666667",
          "122.23333333333333",
          "153.83333333333334",
          "153.41666666666666",
          "139.83333333333334",
          "153.41666666666666",
          "144.88333333333333",
          "138.66666666666666",
          "132.96666666666667",
          "149.9",
          "152.83333333333334",
          "153.33333333333334",
          "150.95",
          "153.4",
          "117.68333333333334",
          "151.2",
          "159.05",
          "151.9",
          "151.3",
          "151.3",
          "115.51666666666667",
          "144.18333333333334",
          "153",
          "148.96666666666667",
          "153.53333333333333",
          "145.08333333333334",
          "148.9",
          "153.33333333333334",
          "153.1",
          "115.75",
          "117.95",
          "153.43333333333334",
          "148.91666666666666",
          "115.01666666666667",
          "138.7",
          "136.1",
          "153",
          "138.7",
          "151.15",
          "153.43333333333334",
          "152.6",
          "132.98333333333332",
          "115.73333333333333",
          "153.41666666666666",
          "115.06666666666666",
          "151.41666666666666",
          "151.2",
          "151.2",
          "115.75",
          "134.81666666666666",
          "132.96666666666667",
          "146.5",
          "115.75",
          "150.38333333333333",
          "115.75",
          "151.9",
          "153.08333333333334",
          "153.05",
          "153.33333333333334",
          "114.98333333333333",
          "153.01666666666668",
          "151.26666666666668",
          "151.53333333333333",
          "153.41666666666666",
          "149.25",
          "153.53333333333333",
          "153.35",
          "115.01666666666667",
          "115.68333333333334",
          "152.18333333333334",
          "153.08333333333334",
          "151.2",
          "133.925580207921",
          "151.75",
          "145.93333333333334",
          "151.28333333333333",
          "151.25",
          "138.76666666666668",
          "153.1",
          "153.35",
          "115.71666666666667",
          "136.76666666666668",
          "153.13333333333333",
          "152.51666666666668",
          "114.98333333333333",
          "114.98333333333333",
          "144.53333333333333",
          "114.98333333333333",
          "152.98333333333332",
          "153.01666666666668",
          "115.68333333333334",
          "144.75",
          "151.65",
          "115.75",
          "115.75",
          "115.01666666666667",
          "152.55",
          "114.98333333333333",
          "115.53333333333333",
          "114.98333333333333",
          "153.61666666666667",
          "145.76666666666668",
          "152.53333333333333",
          "137",
          "145.01666666666668",
          "152.81666666666666",
          "113.78333333333333",
          "136.8",
          "151.26666666666668",
          "147.36666666666667",
          "138.5",
          "153.13333333333333",
          "115.75",
          "137.53333333333333",
          "135.68333333333334",
          "115.75",
          "153.13333333333333",
          "151.78333333333333",
          "153.13333333333333",
          "151.26666666666668",
          "144.26666666666668",
          "152.51666666666668",
          "149.96666666666667",
          "153.6",
          "153.55",
          "152.26666666666668",
          "113.76666666666667",
          "152.96666666666667",
          "151.28333333333333",
          "114.11666666666666",
          "96.81666666666666",
          "145.76666666666668",
          "153.61666666666667",
          "153.6",
          "151.2437",
          "153.41666666666666",
          "152.18333333333334",
          "147.13333333333333",
          "153.56666666666666",
          "115.53333333333333",
          "146.16666666666666",
          "153.53333333333333",
          "153.56666666666666",
          "115",
          "117.91666666666667",
          "153.61666666666667",
          "152.51666666666668",
          "115.71666666666667",
          "150.86666666666667",
          "146.61666666666667",
          "153.55",
          "148.3",
          "150.2053",
          "151.21666666666667",
          "151.26666666666668",
          "151.31666666666666",
          "150.16666666666666",
          "151.25",
          "115.7",
          "115.53333333333333",
          "152.18333333333334",
          "150.85",
          "153.61666666666667",
          "96.81666666666666",
          "141.6",
          "153.58333333333334",
          "138.23333333333332",
          "151.9",
          "151.43333333333334",
          "113.567",
          "153.43333333333334",
          "152.5",
          "142.21666666666667",
          "148.93333333333334",
          "151.3",
          "152.96666666666667",
          "116.83333333333333",
          "152.96666666666667",
          "114.96666666666667",
          "153.33333333333334",
          "115.26666666666667",
          "153.2",
          "115.68333333333334",
          "135.15",
          "114.11666666666666",
          "152.18333333333334",
          "152.7489",
          "113.4",
          "152.53333333333333",
          "115.03333333333333",
          "144.98333333333332",
          "153.08333333333334",
          "151.25",
          "153.35",
          "151.43333333333334",
          "151.71666666666667",
          "113.76666666666667",
          "152.56666666666666",
          "152.31666666666666",
          "153.43333333333334",
          "115.51666666666667",
          "136.85",
          "152.6",
          "151.7",
          "142.98333333333332",
          "115.71666666666667",
          "134.2",
          "115.26666666666667",
          "113.38333333333334",
          "115.71666666666667",
          "152.78333333333333",
          "151.3",
          "116.81666666666666",
          "153.08333333333334",
          "114.6",
          "153.35",
          "115.73333333333333",
          "153.6",
          "150.78333333333333",
          "145.01666666666668",
          "151.3",
          "114.11666666666666",
          "123.91666666666667",
          "153.13333333333333",
          "114.96666666666667",
          "153.46666666666667",
          "152.91666666666666",
          "137.7",
          "152.91666666666666",
          "149.98333333333332",
          "113.75",
          "153.41666666666666",
          "138.46666666666667",
          "150.75",
          "138.71666666666667",
          "138.71666666666667",
          "113.5",
          "153.6",
          "152.91666666666666",
          "151.43333333333334",
          "152.56666666666666",
          "121.91666666666667",
          "159.15",
          "150.2",
          "151.3",
          "150.686",
          "118.404958",
          "145.75",
          "153.61666666666667",
          "152.03333333333333",
          "153.45",
          "150.46666666666667",
          "153.56666666666666",
          "153.58333333333334",
          "151.75",
          "159.05",
          "159.05",
          "150.21666666666667",
          "135.76666666666668",
          "152.53333333333333",
          "117.33333333333333",
          "115.53333333333333",
          "153.6",
          "150.28333333333333",
          "153.465",
          "147.98333333333332",
          "153.43333333333334",
          "153.58333333333334",
          "153.36666666666667",
          "141.78333333333333",
          "153.58333333333334",
          "152.91666666666666",
          "147.63333333333333",
          "152.53333333333333",
          "152.53333333333333",
          "146.08333333333334",
          "118.404958",
          "115.61666666666666",
          "153.58333333333334",
          "153.13333333333333",
          "151.9",
          "150.9",
          "151.65",
          "151.31666666666666",
          "151.15",
          "150.85",
          "153.6",
          "115.63333333333334",
          "153.58333333333334",
          "153.6",
          "151.05876666666666",
          "148.95",
          "152.52275",
          "115.1265",
          "144.79081666666667",
          "149.91318333333334",
          "149.48438333333334",
          "146.18393333333333",
          "113.1294",
          "150.86778333333334",
          "153.05745",
          "152.1127",
          "121.9968696",
          "143.9715",
          "150.893143",
          "115.0221",
          "115.7326",
          "115.0629",
          "115.0609",
          "115.0221",
          "153.601",
          "151.4859",
          "153.5944",
          "115.6304",
          "147.48",
          "152.1459",
          "152.101",
          "153.0611",
          "152.5279",
          "145.4483",
          "153.5774",
          "145.9943",
          "145.3",
          "152.08002",
          "153.08002",
          "151.267",
          "151.288598",
          "114.9824",
          "115.0339741"
         ],
         "marker": {
          "color": "#00cc96",
          "symbol": "circle"
         },
         "mode": "markers",
         "name": "direct_attack",
         "showlegend": true,
         "type": "scattergeo"
        },
        {
         "geo": "geo",
         "hovertemplate": "<b>%{hovertext}</b><br><br>Shark Behavior=contact_made<br>latitude=%{lat}<br>longitude=%{lon}<extra></extra>",
         "hovertext": [
          "contact_made",
          "contact_made",
          "contact_made",
          "contact_made",
          "contact_made",
          "contact_made",
          "contact_made",
          "contact_made",
          "contact_made",
          "contact_made",
          "contact_made",
          "contact_made",
          "contact_made",
          "contact_made",
          "contact_made",
          "contact_made",
          "contact_made",
          "contact_made",
          "contact_made",
          "contact_made",
          "contact_made",
          "contact_made",
          "contact_made",
          "contact_made",
          "contact_made",
          "contact_made",
          "contact_made",
          "contact_made",
          "contact_made",
          "contact_made",
          "contact_made",
          "contact_made",
          "contact_made",
          "contact_made",
          "contact_made",
          "contact_made",
          "contact_made",
          "contact_made",
          "contact_made",
          "contact_made",
          "contact_made",
          "contact_made",
          "contact_made",
          "contact_made",
          "contact_made",
          "contact_made",
          "contact_made",
          "contact_made",
          "contact_made",
          "contact_made",
          "contact_made",
          "contact_made",
          "contact_made",
          "contact_made",
          "contact_made",
          "contact_made",
          "contact_made",
          "contact_made",
          "contact_made",
          "contact_made",
          "contact_made",
          "contact_made"
         ],
         "lat": [
          "-33.85",
          "-33.86666666666667",
          "-33.916666666666664",
          "-34.96666666666667",
          "-33.833333333333336",
          "-31.966666666666665",
          "-12.45",
          "-33.983333333333334",
          "-33.666666666666664",
          "-33.65",
          "-33.36666666666667",
          "-28.116666666666667",
          "-32.13333333333333",
          "-33.733333333333334",
          "-35.53333333333333",
          "-12.15",
          "-28.033333333333335",
          "-28.166666666666668",
          "-33.85",
          "-33.55",
          "-38.416666666666664",
          "-33.86666666666667",
          "-30.566666666666666",
          "-34.03333333333333",
          "-30.283333333333335",
          "-33.333333333333336",
          "-38.46666666666667",
          "-33.38333333333333",
          "-38.46666666666667",
          "-33.88333333333333",
          "-28.633333333333333",
          "-33.733333333333334",
          "-31.45",
          "-29.766666666666666",
          "-32.38333333333333",
          "-24.8",
          "-38.28333333333333",
          "-29.416666666666668",
          "-28.7",
          "-28.166666666666668",
          "-26.75",
          "-43.516666666666666",
          "-30.866666666666667",
          "-38.36666666666667",
          "-33.63333333333333",
          "-32.6",
          "-28.833333333333332",
          "-42.63333333333333",
          "-40.916666666666664",
          "-28.252766666666666",
          "-28.2646",
          "-33.116566666666664",
          "-32.567",
          "-33.0775",
          "-33.465",
          "-32.7876",
          "-33.9825",
          "-33.6702  ",
          "-43.6523",
          "-31.7247",
          "-17.9319",
          "-31.97889"
         ],
         "legendgroup": "contact_made",
         "lon": [
          "151.15",
          "151.2",
          "151.25",
          "138.5",
          "151.06666666666666",
          "115.85",
          "130.83333333333334",
          "151.06666666666666",
          "151.3",
          "151.31666666666666",
          "151.43333333333334",
          "153.46666666666667",
          "115.73333333333333",
          "151.3",
          "138.61666666666667",
          "96.81666666666666",
          "153.4",
          "153.53333333333333",
          "151.23333333333332",
          "151.26666666666668",
          "145.06666666666666",
          "151.2",
          "152.98333333333332",
          "151.15",
          "153.13333333333333",
          "115.63333333333334",
          "145.01666666666668",
          "151.48333333333332",
          "145.01666666666668",
          "151.26666666666668",
          "153.61666666666667",
          "151.31666666666666",
          "152.91666666666666",
          "153.28333333333333",
          "152.51666666666668",
          "152.45",
          "144.43333333333334",
          "153.36666666666667",
          "153.6",
          "153.55",
          "153.13333333333333",
          "146.23333333333332",
          "153.03333333333333",
          "144.26666666666668",
          "134.86666666666667",
          "115.61666666666666",
          "153.6",
          "147.98333333333332",
          "144.61666666666667",
          "153.59218333333334",
          "153.5777",
          "114.1649",
          "115.65",
          "151.0725",
          "151.435",
          "152.08002",
          "114.9922",
          "114.9951",
          "146.277",
          "115.7249",
          "122.2081",
          "115.8247"
         ],
         "marker": {
          "color": "#ab63fa",
          "symbol": "circle"
         },
         "mode": "markers",
         "name": "contact_made",
         "showlegend": true,
         "type": "scattergeo"
        },
        {
         "geo": "geo",
         "hovertemplate": "<b>%{hovertext}</b><br><br>Shark Behavior=unseen<br>latitude=%{lat}<br>longitude=%{lon}<extra></extra>",
         "hovertext": [
          "unseen"
         ],
         "lat": [
          "-33.8640"
         ],
         "legendgroup": "unseen",
         "lon": [
          "114.9864"
         ],
         "marker": {
          "color": "#FFA15A",
          "symbol": "circle"
         },
         "mode": "markers",
         "name": "unseen",
         "showlegend": true,
         "type": "scattergeo"
        }
       ],
       "layout": {
        "geo": {
         "center": {},
         "domain": {
          "x": [
           0,
           1
          ],
          "y": [
           0,
           1
          ]
         },
         "projection": {
          "type": "natural earth"
         }
        },
        "legend": {
         "title": {
          "text": "Shark Behavior"
         },
         "tracegroupgap": 0
        },
        "template": {
         "data": {
          "bar": [
           {
            "error_x": {
             "color": "#2a3f5f"
            },
            "error_y": {
             "color": "#2a3f5f"
            },
            "marker": {
             "line": {
              "color": "#E5ECF6",
              "width": 0.5
             },
             "pattern": {
              "fillmode": "overlay",
              "size": 10,
              "solidity": 0.2
             }
            },
            "type": "bar"
           }
          ],
          "barpolar": [
           {
            "marker": {
             "line": {
              "color": "#E5ECF6",
              "width": 0.5
             },
             "pattern": {
              "fillmode": "overlay",
              "size": 10,
              "solidity": 0.2
             }
            },
            "type": "barpolar"
           }
          ],
          "carpet": [
           {
            "aaxis": {
             "endlinecolor": "#2a3f5f",
             "gridcolor": "white",
             "linecolor": "white",
             "minorgridcolor": "white",
             "startlinecolor": "#2a3f5f"
            },
            "baxis": {
             "endlinecolor": "#2a3f5f",
             "gridcolor": "white",
             "linecolor": "white",
             "minorgridcolor": "white",
             "startlinecolor": "#2a3f5f"
            },
            "type": "carpet"
           }
          ],
          "choropleth": [
           {
            "colorbar": {
             "outlinewidth": 0,
             "ticks": ""
            },
            "type": "choropleth"
           }
          ],
          "contour": [
           {
            "colorbar": {
             "outlinewidth": 0,
             "ticks": ""
            },
            "colorscale": [
             [
              0,
              "#0d0887"
             ],
             [
              0.1111111111111111,
              "#46039f"
             ],
             [
              0.2222222222222222,
              "#7201a8"
             ],
             [
              0.3333333333333333,
              "#9c179e"
             ],
             [
              0.4444444444444444,
              "#bd3786"
             ],
             [
              0.5555555555555556,
              "#d8576b"
             ],
             [
              0.6666666666666666,
              "#ed7953"
             ],
             [
              0.7777777777777778,
              "#fb9f3a"
             ],
             [
              0.8888888888888888,
              "#fdca26"
             ],
             [
              1,
              "#f0f921"
             ]
            ],
            "type": "contour"
           }
          ],
          "contourcarpet": [
           {
            "colorbar": {
             "outlinewidth": 0,
             "ticks": ""
            },
            "type": "contourcarpet"
           }
          ],
          "heatmap": [
           {
            "colorbar": {
             "outlinewidth": 0,
             "ticks": ""
            },
            "colorscale": [
             [
              0,
              "#0d0887"
             ],
             [
              0.1111111111111111,
              "#46039f"
             ],
             [
              0.2222222222222222,
              "#7201a8"
             ],
             [
              0.3333333333333333,
              "#9c179e"
             ],
             [
              0.4444444444444444,
              "#bd3786"
             ],
             [
              0.5555555555555556,
              "#d8576b"
             ],
             [
              0.6666666666666666,
              "#ed7953"
             ],
             [
              0.7777777777777778,
              "#fb9f3a"
             ],
             [
              0.8888888888888888,
              "#fdca26"
             ],
             [
              1,
              "#f0f921"
             ]
            ],
            "type": "heatmap"
           }
          ],
          "heatmapgl": [
           {
            "colorbar": {
             "outlinewidth": 0,
             "ticks": ""
            },
            "colorscale": [
             [
              0,
              "#0d0887"
             ],
             [
              0.1111111111111111,
              "#46039f"
             ],
             [
              0.2222222222222222,
              "#7201a8"
             ],
             [
              0.3333333333333333,
              "#9c179e"
             ],
             [
              0.4444444444444444,
              "#bd3786"
             ],
             [
              0.5555555555555556,
              "#d8576b"
             ],
             [
              0.6666666666666666,
              "#ed7953"
             ],
             [
              0.7777777777777778,
              "#fb9f3a"
             ],
             [
              0.8888888888888888,
              "#fdca26"
             ],
             [
              1,
              "#f0f921"
             ]
            ],
            "type": "heatmapgl"
           }
          ],
          "histogram": [
           {
            "marker": {
             "pattern": {
              "fillmode": "overlay",
              "size": 10,
              "solidity": 0.2
             }
            },
            "type": "histogram"
           }
          ],
          "histogram2d": [
           {
            "colorbar": {
             "outlinewidth": 0,
             "ticks": ""
            },
            "colorscale": [
             [
              0,
              "#0d0887"
             ],
             [
              0.1111111111111111,
              "#46039f"
             ],
             [
              0.2222222222222222,
              "#7201a8"
             ],
             [
              0.3333333333333333,
              "#9c179e"
             ],
             [
              0.4444444444444444,
              "#bd3786"
             ],
             [
              0.5555555555555556,
              "#d8576b"
             ],
             [
              0.6666666666666666,
              "#ed7953"
             ],
             [
              0.7777777777777778,
              "#fb9f3a"
             ],
             [
              0.8888888888888888,
              "#fdca26"
             ],
             [
              1,
              "#f0f921"
             ]
            ],
            "type": "histogram2d"
           }
          ],
          "histogram2dcontour": [
           {
            "colorbar": {
             "outlinewidth": 0,
             "ticks": ""
            },
            "colorscale": [
             [
              0,
              "#0d0887"
             ],
             [
              0.1111111111111111,
              "#46039f"
             ],
             [
              0.2222222222222222,
              "#7201a8"
             ],
             [
              0.3333333333333333,
              "#9c179e"
             ],
             [
              0.4444444444444444,
              "#bd3786"
             ],
             [
              0.5555555555555556,
              "#d8576b"
             ],
             [
              0.6666666666666666,
              "#ed7953"
             ],
             [
              0.7777777777777778,
              "#fb9f3a"
             ],
             [
              0.8888888888888888,
              "#fdca26"
             ],
             [
              1,
              "#f0f921"
             ]
            ],
            "type": "histogram2dcontour"
           }
          ],
          "mesh3d": [
           {
            "colorbar": {
             "outlinewidth": 0,
             "ticks": ""
            },
            "type": "mesh3d"
           }
          ],
          "parcoords": [
           {
            "line": {
             "colorbar": {
              "outlinewidth": 0,
              "ticks": ""
             }
            },
            "type": "parcoords"
           }
          ],
          "pie": [
           {
            "automargin": true,
            "type": "pie"
           }
          ],
          "scatter": [
           {
            "fillpattern": {
             "fillmode": "overlay",
             "size": 10,
             "solidity": 0.2
            },
            "type": "scatter"
           }
          ],
          "scatter3d": [
           {
            "line": {
             "colorbar": {
              "outlinewidth": 0,
              "ticks": ""
             }
            },
            "marker": {
             "colorbar": {
              "outlinewidth": 0,
              "ticks": ""
             }
            },
            "type": "scatter3d"
           }
          ],
          "scattercarpet": [
           {
            "marker": {
             "colorbar": {
              "outlinewidth": 0,
              "ticks": ""
             }
            },
            "type": "scattercarpet"
           }
          ],
          "scattergeo": [
           {
            "marker": {
             "colorbar": {
              "outlinewidth": 0,
              "ticks": ""
             }
            },
            "type": "scattergeo"
           }
          ],
          "scattergl": [
           {
            "marker": {
             "colorbar": {
              "outlinewidth": 0,
              "ticks": ""
             }
            },
            "type": "scattergl"
           }
          ],
          "scattermapbox": [
           {
            "marker": {
             "colorbar": {
              "outlinewidth": 0,
              "ticks": ""
             }
            },
            "type": "scattermapbox"
           }
          ],
          "scatterpolar": [
           {
            "marker": {
             "colorbar": {
              "outlinewidth": 0,
              "ticks": ""
             }
            },
            "type": "scatterpolar"
           }
          ],
          "scatterpolargl": [
           {
            "marker": {
             "colorbar": {
              "outlinewidth": 0,
              "ticks": ""
             }
            },
            "type": "scatterpolargl"
           }
          ],
          "scatterternary": [
           {
            "marker": {
             "colorbar": {
              "outlinewidth": 0,
              "ticks": ""
             }
            },
            "type": "scatterternary"
           }
          ],
          "surface": [
           {
            "colorbar": {
             "outlinewidth": 0,
             "ticks": ""
            },
            "colorscale": [
             [
              0,
              "#0d0887"
             ],
             [
              0.1111111111111111,
              "#46039f"
             ],
             [
              0.2222222222222222,
              "#7201a8"
             ],
             [
              0.3333333333333333,
              "#9c179e"
             ],
             [
              0.4444444444444444,
              "#bd3786"
             ],
             [
              0.5555555555555556,
              "#d8576b"
             ],
             [
              0.6666666666666666,
              "#ed7953"
             ],
             [
              0.7777777777777778,
              "#fb9f3a"
             ],
             [
              0.8888888888888888,
              "#fdca26"
             ],
             [
              1,
              "#f0f921"
             ]
            ],
            "type": "surface"
           }
          ],
          "table": [
           {
            "cells": {
             "fill": {
              "color": "#EBF0F8"
             },
             "line": {
              "color": "white"
             }
            },
            "header": {
             "fill": {
              "color": "#C8D4E3"
             },
             "line": {
              "color": "white"
             }
            },
            "type": "table"
           }
          ]
         },
         "layout": {
          "annotationdefaults": {
           "arrowcolor": "#2a3f5f",
           "arrowhead": 0,
           "arrowwidth": 1
          },
          "autotypenumbers": "strict",
          "coloraxis": {
           "colorbar": {
            "outlinewidth": 0,
            "ticks": ""
           }
          },
          "colorscale": {
           "diverging": [
            [
             0,
             "#8e0152"
            ],
            [
             0.1,
             "#c51b7d"
            ],
            [
             0.2,
             "#de77ae"
            ],
            [
             0.3,
             "#f1b6da"
            ],
            [
             0.4,
             "#fde0ef"
            ],
            [
             0.5,
             "#f7f7f7"
            ],
            [
             0.6,
             "#e6f5d0"
            ],
            [
             0.7,
             "#b8e186"
            ],
            [
             0.8,
             "#7fbc41"
            ],
            [
             0.9,
             "#4d9221"
            ],
            [
             1,
             "#276419"
            ]
           ],
           "sequential": [
            [
             0,
             "#0d0887"
            ],
            [
             0.1111111111111111,
             "#46039f"
            ],
            [
             0.2222222222222222,
             "#7201a8"
            ],
            [
             0.3333333333333333,
             "#9c179e"
            ],
            [
             0.4444444444444444,
             "#bd3786"
            ],
            [
             0.5555555555555556,
             "#d8576b"
            ],
            [
             0.6666666666666666,
             "#ed7953"
            ],
            [
             0.7777777777777778,
             "#fb9f3a"
            ],
            [
             0.8888888888888888,
             "#fdca26"
            ],
            [
             1,
             "#f0f921"
            ]
           ],
           "sequentialminus": [
            [
             0,
             "#0d0887"
            ],
            [
             0.1111111111111111,
             "#46039f"
            ],
            [
             0.2222222222222222,
             "#7201a8"
            ],
            [
             0.3333333333333333,
             "#9c179e"
            ],
            [
             0.4444444444444444,
             "#bd3786"
            ],
            [
             0.5555555555555556,
             "#d8576b"
            ],
            [
             0.6666666666666666,
             "#ed7953"
            ],
            [
             0.7777777777777778,
             "#fb9f3a"
            ],
            [
             0.8888888888888888,
             "#fdca26"
            ],
            [
             1,
             "#f0f921"
            ]
           ]
          },
          "colorway": [
           "#636efa",
           "#EF553B",
           "#00cc96",
           "#ab63fa",
           "#FFA15A",
           "#19d3f3",
           "#FF6692",
           "#B6E880",
           "#FF97FF",
           "#FECB52"
          ],
          "font": {
           "color": "#2a3f5f"
          },
          "geo": {
           "bgcolor": "white",
           "lakecolor": "white",
           "landcolor": "#E5ECF6",
           "showlakes": true,
           "showland": true,
           "subunitcolor": "white"
          },
          "hoverlabel": {
           "align": "left"
          },
          "hovermode": "closest",
          "mapbox": {
           "style": "light"
          },
          "paper_bgcolor": "white",
          "plot_bgcolor": "#E5ECF6",
          "polar": {
           "angularaxis": {
            "gridcolor": "white",
            "linecolor": "white",
            "ticks": ""
           },
           "bgcolor": "#E5ECF6",
           "radialaxis": {
            "gridcolor": "white",
            "linecolor": "white",
            "ticks": ""
           }
          },
          "scene": {
           "xaxis": {
            "backgroundcolor": "#E5ECF6",
            "gridcolor": "white",
            "gridwidth": 2,
            "linecolor": "white",
            "showbackground": true,
            "ticks": "",
            "zerolinecolor": "white"
           },
           "yaxis": {
            "backgroundcolor": "#E5ECF6",
            "gridcolor": "white",
            "gridwidth": 2,
            "linecolor": "white",
            "showbackground": true,
            "ticks": "",
            "zerolinecolor": "white"
           },
           "zaxis": {
            "backgroundcolor": "#E5ECF6",
            "gridcolor": "white",
            "gridwidth": 2,
            "linecolor": "white",
            "showbackground": true,
            "ticks": "",
            "zerolinecolor": "white"
           }
          },
          "shapedefaults": {
           "line": {
            "color": "#2a3f5f"
           }
          },
          "ternary": {
           "aaxis": {
            "gridcolor": "white",
            "linecolor": "white",
            "ticks": ""
           },
           "baxis": {
            "gridcolor": "white",
            "linecolor": "white",
            "ticks": ""
           },
           "bgcolor": "#E5ECF6",
           "caxis": {
            "gridcolor": "white",
            "linecolor": "white",
            "ticks": ""
           }
          },
          "title": {
           "x": 0.05
          },
          "xaxis": {
           "automargin": true,
           "gridcolor": "white",
           "linecolor": "white",
           "ticks": "",
           "title": {
            "standoff": 15
           },
           "zerolinecolor": "white",
           "zerolinewidth": 2
          },
          "yaxis": {
           "automargin": true,
           "gridcolor": "white",
           "linecolor": "white",
           "ticks": "",
           "title": {
            "standoff": 15
           },
           "zerolinecolor": "white",
           "zerolinewidth": 2
          }
         }
        },
        "title": {
         "text": "Geographical Trends and Shark Behavior"
        }
       }
      }
     },
     "metadata": {},
     "output_type": "display_data"
    }
   ],
   "source": [
    "geo_data = df[['latitude', 'longitude', 'shark_behaviour_generic']].dropna()\n",
    "\n",
    "# Create a scatter map for shark behavior trends geographically\n",
    "geo_fig = px.scatter_geo(\n",
    "    geo_data,\n",
    "    lat='latitude',\n",
    "    lon='longitude',\n",
    "    color='shark_behaviour_generic',\n",
    "    title='Geographical Trends and Shark Behavior',\n",
    "    labels={'shark_behaviour_generic': 'Shark Behavior'},\n",
    "    hover_name='shark_behaviour_generic',\n",
    "    projection='natural earth',\n",
    ")\n",
    "\n",
    "# Display the map\n",
    "geo_fig.show()"
   ]
  },
  {
   "cell_type": "code",
   "execution_count": 4,
   "metadata": {},
   "outputs": [
    {
     "data": {
      "application/vnd.plotly.v1+json": {
       "config": {
        "plotlyServerURL": "https://plot.ly"
       },
       "data": [
        {
         "alignmentgroup": "True",
         "hovertemplate": "Injury Severity=Maj.Lacerations<br>Location Category=Coastal<br>Shark Behavior=%{x}<br>count=%{y}<extra></extra>",
         "legendgroup": "Maj.Lacerations",
         "marker": {
          "color": "#636efa",
          "pattern": {
           "shape": ""
          }
         },
         "name": "Maj.Lacerations",
         "offsetgroup": "Maj.Lacerations",
         "orientation": "v",
         "showlegend": true,
         "textposition": "auto",
         "type": "bar",
         "x": [
          "unknown",
          "direct_attack",
          "direct_attack",
          "direct_attack",
          "unknown",
          "direct_attack",
          "direct_attack",
          "unknown",
          "direct_attack",
          "unknown",
          "direct_attack",
          "direct_attack",
          "unknown",
          "direct_attack",
          "direct_attack",
          "direct_attack",
          "direct_attack",
          "direct_attack",
          "direct_attack",
          "direct_attack",
          "direct_attack",
          "direct_attack",
          "direct_attack",
          "direct_attack",
          "direct_attack",
          "direct_attack",
          "direct_attack",
          "direct_attack",
          "direct_attack",
          "direct_attack",
          "direct_attack",
          "direct_attack",
          "direct_attack",
          "direct_attack",
          "direct_attack",
          "direct_attack",
          "direct_attack",
          "direct_attack",
          "direct_attack",
          "direct_attack",
          "direct_attack",
          "direct_attack",
          "contact_made",
          "direct_attack",
          "direct_attack",
          "unknown",
          "unknown",
          "unknown",
          "direct_attack",
          "unknown",
          "direct_attack",
          "direct_attack",
          "direct_attack",
          "direct_attack",
          "direct_attack",
          "direct_attack",
          "direct_attack",
          "direct_attack",
          "direct_attack",
          "direct_attack",
          "direct_attack",
          "direct_attack",
          "direct_attack",
          "direct_attack",
          "direct_attack",
          "unknown",
          "unknown",
          "direct_attack",
          "direct_attack",
          "direct_attack",
          "unknown",
          "direct_attack",
          "direct_attack",
          "direct_attack",
          "direct_attack",
          "direct_attack",
          "direct_attack",
          "unknown",
          "direct_attack",
          "direct_attack",
          "direct_attack",
          "direct_attack",
          "direct_attack",
          "direct_attack",
          "unknown",
          "direct_attack",
          "direct_attack",
          "direct_attack",
          "direct_attack",
          "direct_attack",
          "direct_attack",
          "direct_attack",
          "direct_attack",
          "direct_attack",
          "direct_attack",
          "direct_attack",
          "direct_attack",
          "unknown",
          "direct_attack",
          "direct_attack",
          "direct_attack",
          "direct_attack",
          "direct_attack",
          "direct_attack",
          "direct_attack",
          "direct_attack",
          "direct_attack",
          "unknown",
          "direct_attack",
          "direct_attack",
          "unknown",
          "direct_attack",
          "direct_attack",
          "direct_attack",
          "direct_attack",
          "direct_attack",
          "direct_attack",
          "direct_attack",
          "direct_attack",
          "contact_made",
          "direct_attack",
          "direct_attack",
          "unknown",
          "direct_attack",
          "direct_attack",
          "direct_attack",
          "direct_attack",
          "direct_attack",
          "direct_attack",
          "direct_attack",
          "direct_attack",
          "direct_attack",
          "unknown",
          "direct_attack",
          "unknown",
          "direct_attack",
          "direct_attack",
          "unknown",
          "direct_attack",
          "direct_attack",
          "contact_made",
          "direct_attack",
          "direct_attack",
          "direct_attack",
          "unknown",
          "direct_attack",
          "unknown",
          "direct_attack",
          "direct_attack",
          "direct_attack",
          "direct_attack",
          "direct_attack",
          "direct_attack",
          "direct_attack",
          "approached_victim",
          "unknown",
          "direct_attack",
          "direct_attack",
          "direct_attack",
          "direct_attack",
          "direct_attack",
          "direct_attack",
          "direct_attack",
          "direct_attack",
          "direct_attack",
          "direct_attack",
          "direct_attack",
          "direct_attack",
          "direct_attack",
          "direct_attack",
          "direct_attack",
          "unknown",
          "direct_attack",
          "direct_attack",
          "direct_attack",
          "direct_attack",
          "direct_attack",
          "direct_attack",
          "direct_attack",
          "direct_attack",
          "direct_attack",
          "direct_attack",
          "direct_attack",
          "direct_attack",
          "direct_attack",
          "direct_attack",
          "direct_attack",
          "direct_attack",
          "direct_attack",
          "direct_attack",
          "direct_attack",
          "direct_attack",
          "direct_attack",
          "direct_attack",
          "direct_attack",
          "direct_attack",
          "direct_attack",
          "direct_attack",
          "direct_attack",
          "direct_attack",
          "direct_attack",
          "unknown",
          "unknown",
          "unknown",
          "unknown",
          "unknown",
          "unknown",
          "unknown",
          "unknown",
          "unknown",
          "direct_attack",
          "unknown",
          "unknown",
          "unknown",
          "unknown",
          "unknown",
          "unknown",
          "unknown",
          "unknown",
          "unknown",
          "unknown",
          "unknown",
          "unknown"
         ],
         "xaxis": "x",
         "y": [
          1,
          1,
          1,
          1,
          1,
          1,
          1,
          1,
          1,
          1,
          1,
          1,
          1,
          1,
          1,
          1,
          1,
          1,
          1,
          1,
          1,
          1,
          1,
          1,
          1,
          1,
          1,
          1,
          1,
          1,
          1,
          1,
          1,
          1,
          1,
          1,
          1,
          1,
          1,
          1,
          1,
          1,
          1,
          1,
          1,
          1,
          1,
          1,
          1,
          1,
          1,
          1,
          1,
          1,
          1,
          1,
          1,
          1,
          1,
          1,
          1,
          1,
          1,
          1,
          1,
          1,
          1,
          1,
          1,
          1,
          1,
          1,
          1,
          1,
          1,
          1,
          1,
          1,
          1,
          1,
          1,
          1,
          1,
          1,
          1,
          1,
          1,
          1,
          1,
          1,
          1,
          1,
          1,
          1,
          1,
          1,
          1,
          1,
          1,
          1,
          1,
          1,
          1,
          1,
          1,
          1,
          1,
          1,
          1,
          1,
          1,
          1,
          1,
          1,
          1,
          1,
          1,
          1,
          1,
          1,
          1,
          1,
          1,
          1,
          1,
          1,
          1,
          1,
          1,
          1,
          1,
          1,
          1,
          1,
          1,
          1,
          1,
          1,
          1,
          1,
          1,
          1,
          1,
          1,
          1,
          1,
          1,
          1,
          1,
          1,
          1,
          1,
          1,
          1,
          1,
          1,
          1,
          1,
          1,
          1,
          1,
          1,
          1,
          1,
          1,
          1,
          1,
          1,
          1,
          1,
          1,
          1,
          1,
          1,
          1,
          1,
          1,
          1,
          1,
          1,
          1,
          1,
          1,
          1,
          1,
          1,
          1,
          1,
          1,
          1,
          1,
          1,
          1,
          1,
          1,
          1,
          1,
          1,
          1,
          1,
          1,
          1,
          1,
          1,
          1,
          1,
          1,
          1,
          1,
          1,
          1,
          1,
          1,
          1,
          1,
          1,
          1,
          1,
          1,
          1,
          1,
          1,
          1
         ],
         "yaxis": "y"
        },
        {
         "alignmentgroup": "True",
         "hovertemplate": "Injury Severity=Maj.Lacerations<br>Location Category=Estuary Harbour<br>Shark Behavior=%{x}<br>count=%{y}<extra></extra>",
         "legendgroup": "Maj.Lacerations",
         "marker": {
          "color": "#636efa",
          "pattern": {
           "shape": ""
          }
         },
         "name": "Maj.Lacerations",
         "offsetgroup": "Maj.Lacerations",
         "orientation": "v",
         "showlegend": false,
         "textposition": "auto",
         "type": "bar",
         "x": [
          "unknown",
          "direct_attack",
          "direct_attack",
          "direct_attack",
          "direct_attack",
          "direct_attack",
          "direct_attack",
          "direct_attack",
          "direct_attack",
          "direct_attack",
          "direct_attack",
          "direct_attack",
          "direct_attack",
          "direct_attack",
          "direct_attack",
          "direct_attack",
          "direct_attack",
          "direct_attack",
          "direct_attack",
          "direct_attack",
          "direct_attack",
          "direct_attack",
          "direct_attack",
          "direct_attack",
          "direct_attack",
          "direct_attack",
          "direct_attack",
          "direct_attack",
          "direct_attack",
          "direct_attack",
          "direct_attack",
          "direct_attack",
          "unknown",
          "unknown",
          "direct_attack",
          "direct_attack",
          "direct_attack",
          "unknown",
          "direct_attack",
          "direct_attack",
          "direct_attack",
          "direct_attack",
          "direct_attack",
          "direct_attack",
          "direct_attack",
          "direct_attack",
          "direct_attack",
          "direct_attack",
          "direct_attack",
          "direct_attack",
          "unknown",
          "direct_attack",
          "direct_attack"
         ],
         "xaxis": "x2",
         "y": [
          1,
          1,
          1,
          1,
          1,
          1,
          1,
          1,
          1,
          1,
          1,
          1,
          1,
          1,
          1,
          1,
          1,
          1,
          1,
          1,
          1,
          1,
          1,
          1,
          1,
          1,
          1,
          1,
          1,
          1,
          1,
          1,
          1,
          1,
          1,
          1,
          1,
          1,
          1,
          1,
          1,
          1,
          1,
          1,
          1,
          1,
          1,
          1,
          1,
          1,
          1,
          1,
          1
         ],
         "yaxis": "y2"
        },
        {
         "alignmentgroup": "True",
         "hovertemplate": "Injury Severity=Maj.Lacerations<br>Location Category=Island Open Ocean<br>Shark Behavior=%{x}<br>count=%{y}<extra></extra>",
         "legendgroup": "Maj.Lacerations",
         "marker": {
          "color": "#636efa",
          "pattern": {
           "shape": ""
          }
         },
         "name": "Maj.Lacerations",
         "offsetgroup": "Maj.Lacerations",
         "orientation": "v",
         "showlegend": false,
         "textposition": "auto",
         "type": "bar",
         "x": [
          "direct_attack",
          "direct_attack",
          "direct_attack",
          "direct_attack",
          "unknown",
          "unknown",
          "direct_attack",
          "direct_attack",
          "direct_attack",
          "direct_attack",
          "direct_attack",
          "direct_attack",
          "direct_attack",
          "direct_attack",
          "direct_attack",
          "unknown",
          "unknown",
          "unknown",
          "unknown",
          "direct_attack",
          "unknown",
          "unknown",
          "direct_attack",
          "unknown",
          "unknown",
          "unknown",
          "direct_attack",
          "unknown",
          "unknown",
          "unknown",
          "direct_attack",
          "direct_attack",
          "direct_attack",
          "direct_attack",
          "direct_attack",
          "unknown",
          "direct_attack",
          "direct_attack",
          "direct_attack",
          "direct_attack",
          "direct_attack",
          "direct_attack",
          "direct_attack",
          "direct_attack",
          "direct_attack",
          "unknown",
          "direct_attack",
          "direct_attack",
          "direct_attack",
          "direct_attack",
          "unknown",
          "direct_attack",
          "direct_attack",
          "direct_attack",
          "direct_attack",
          "direct_attack",
          "direct_attack",
          "direct_attack",
          "unknown",
          "unknown",
          "unknown",
          "unknown",
          "unknown",
          "direct_attack",
          "unknown",
          "direct_attack",
          "direct_attack",
          "direct_attack",
          "direct_attack",
          "direct_attack",
          "unknown",
          "direct_attack",
          "direct_attack",
          "unknown",
          "unknown",
          "unknown",
          "unknown"
         ],
         "xaxis": "x3",
         "y": [
          1,
          1,
          1,
          1,
          1,
          1,
          1,
          1,
          1,
          1,
          1,
          1,
          1,
          1,
          1,
          1,
          1,
          1,
          1,
          1,
          1,
          1,
          1,
          1,
          1,
          1,
          1,
          1,
          1,
          1,
          1,
          1,
          1,
          1,
          1,
          1,
          1,
          1,
          1,
          1,
          1,
          1,
          1,
          1,
          1,
          1,
          1,
          1,
          1,
          1,
          1,
          1,
          1,
          1,
          1,
          1,
          1,
          1,
          1,
          1,
          1,
          1,
          1,
          1,
          1,
          1,
          1,
          1,
          1,
          1,
          1,
          1,
          1,
          1,
          1,
          1,
          1
         ],
         "yaxis": "y3"
        },
        {
         "alignmentgroup": "True",
         "hovertemplate": "Injury Severity=Maj.Lacerations<br>Location Category=River<br>Shark Behavior=%{x}<br>count=%{y}<extra></extra>",
         "legendgroup": "Maj.Lacerations",
         "marker": {
          "color": "#636efa",
          "pattern": {
           "shape": ""
          }
         },
         "name": "Maj.Lacerations",
         "offsetgroup": "Maj.Lacerations",
         "orientation": "v",
         "showlegend": false,
         "textposition": "auto",
         "type": "bar",
         "x": [
          "direct_attack",
          "direct_attack",
          "direct_attack",
          "direct_attack",
          "direct_attack",
          "direct_attack",
          "direct_attack",
          "direct_attack",
          "direct_attack",
          "direct_attack",
          "direct_attack",
          "direct_attack",
          "direct_attack",
          "direct_attack",
          "direct_attack",
          "direct_attack",
          "direct_attack",
          "direct_attack",
          "direct_attack",
          "direct_attack",
          "direct_attack",
          "direct_attack",
          "direct_attack",
          "direct_attack",
          "direct_attack",
          "direct_attack",
          "direct_attack",
          "direct_attack",
          "direct_attack",
          "direct_attack",
          "direct_attack",
          "unknown",
          "direct_attack",
          "direct_attack",
          "unknown"
         ],
         "xaxis": "x4",
         "y": [
          1,
          1,
          1,
          1,
          1,
          1,
          1,
          1,
          1,
          1,
          1,
          1,
          1,
          1,
          1,
          1,
          1,
          1,
          1,
          1,
          1,
          1,
          1,
          1,
          1,
          1,
          1,
          1,
          1,
          1,
          1,
          1,
          1,
          1,
          1
         ],
         "yaxis": "y4"
        },
        {
         "alignmentgroup": "True",
         "hovertemplate": "Injury Severity=Maj.Lacerations<br>Location Category=Others<br>Shark Behavior=%{x}<br>count=%{y}<extra></extra>",
         "legendgroup": "Maj.Lacerations",
         "marker": {
          "color": "#636efa",
          "pattern": {
           "shape": ""
          }
         },
         "name": "Maj.Lacerations",
         "offsetgroup": "Maj.Lacerations",
         "orientation": "v",
         "showlegend": false,
         "textposition": "auto",
         "type": "bar",
         "x": [
          "direct_attack",
          "direct_attack",
          "direct_attack",
          "direct_attack",
          "direct_attack",
          "direct_attack",
          "direct_attack",
          "unknown",
          "unknown"
         ],
         "xaxis": "x5",
         "y": [
          1,
          1,
          1,
          1,
          1,
          1,
          1,
          1,
          1
         ],
         "yaxis": "y5"
        },
        {
         "alignmentgroup": "True",
         "hovertemplate": "Injury Severity=Unknown<br>Location Category=Coastal<br>Shark Behavior=%{x}<br>count=%{y}<extra></extra>",
         "legendgroup": "Unknown",
         "marker": {
          "color": "#EF553B",
          "pattern": {
           "shape": ""
          }
         },
         "name": "Unknown",
         "offsetgroup": "Unknown",
         "orientation": "v",
         "showlegend": true,
         "textposition": "auto",
         "type": "bar",
         "x": [
          "approached_victim",
          "unknown",
          "direct_attack",
          "direct_attack",
          "direct_attack",
          "unknown",
          "unknown",
          "direct_attack",
          "direct_attack",
          "direct_attack",
          "direct_attack",
          "unknown",
          "approached_victim",
          "unknown",
          "unknown",
          "direct_attack",
          "direct_attack",
          "direct_attack",
          "direct_attack",
          "direct_attack",
          "approached_victim",
          "direct_attack",
          "direct_attack",
          "direct_attack",
          "unknown",
          "direct_attack",
          "direct_attack",
          "unknown",
          "direct_attack",
          "direct_attack",
          "direct_attack",
          "approached_victim",
          "direct_attack",
          "unknown",
          "contact_made",
          "direct_attack",
          "direct_attack",
          "approached_victim",
          "direct_attack",
          "contact_made",
          "direct_attack",
          "direct_attack",
          "approached_victim",
          "direct_attack",
          "unknown",
          "direct_attack",
          "unknown",
          "direct_attack",
          "approached_victim",
          "contact_made",
          "contact_made",
          "direct_attack",
          "contact_made",
          "approached_victim",
          "direct_attack",
          "approached_victim",
          "contact_made",
          "direct_attack",
          "unknown",
          "direct_attack",
          "direct_attack",
          "direct_attack",
          "approached_victim",
          "direct_attack",
          "unknown",
          "contact_made",
          "direct_attack",
          "direct_attack",
          "direct_attack",
          "direct_attack",
          "unknown",
          "unknown",
          "direct_attack",
          "direct_attack",
          "direct_attack",
          "direct_attack",
          "direct_attack",
          "direct_attack",
          "unknown",
          "direct_attack",
          "direct_attack",
          "direct_attack",
          "direct_attack",
          "approached_victim",
          "direct_attack",
          "approached_victim",
          "direct_attack",
          "direct_attack",
          "unknown",
          "approached_victim",
          "unknown",
          "direct_attack",
          "direct_attack",
          "direct_attack",
          "direct_attack",
          "direct_attack",
          "direct_attack",
          "direct_attack",
          "approached_victim",
          "direct_attack",
          "approached_victim",
          "contact_made",
          "approached_victim",
          "approached_victim",
          "contact_made",
          "direct_attack",
          "approached_victim",
          "direct_attack",
          "direct_attack",
          "direct_attack",
          "approached_victim",
          "direct_attack",
          "direct_attack",
          "direct_attack",
          "approached_victim",
          "direct_attack",
          "contact_made",
          "approached_victim",
          "unknown",
          "direct_attack",
          "approached_victim",
          "direct_attack",
          "contact_made",
          "direct_attack",
          "direct_attack",
          "contact_made",
          "direct_attack",
          "direct_attack",
          "unknown",
          "direct_attack",
          "contact_made",
          "direct_attack",
          "unknown",
          "direct_attack",
          "direct_attack",
          "direct_attack",
          "approached_victim",
          "contact_made",
          "direct_attack",
          "direct_attack",
          "contact_made",
          "contact_made",
          "contact_made",
          "contact_made",
          "direct_attack",
          "direct_attack",
          "direct_attack",
          "direct_attack",
          "direct_attack",
          "direct_attack",
          "contact_made",
          "contact_made",
          "direct_attack",
          "unknown",
          "direct_attack",
          "contact_made",
          "unknown",
          "direct_attack",
          "direct_attack",
          "direct_attack",
          "direct_attack",
          "direct_attack",
          "direct_attack",
          "direct_attack",
          "direct_attack",
          "approached_victim",
          "direct_attack",
          "contact_made",
          "direct_attack",
          "contact_made",
          "direct_attack",
          "direct_attack",
          "direct_attack",
          "contact_made",
          "unknown",
          "direct_attack",
          "contact_made",
          "approached_victim",
          "contact_made",
          "unknown",
          "unknown",
          "approached_victim",
          "unknown",
          "contact_made",
          "unknown",
          "contact_made",
          "direct_attack",
          "contact_made",
          "unknown",
          "unknown",
          "unknown",
          "unknown",
          "contact_made",
          "unknown",
          "direct_attack",
          "contact_made",
          "approached_victim",
          "direct_attack",
          "unknown",
          "unknown",
          "unknown",
          "contact_made",
          "unknown",
          "unknown",
          "direct_attack",
          "unknown",
          "unknown",
          "unknown",
          "direct_attack",
          "unknown",
          "unknown",
          "unknown",
          "unknown",
          "approached_victim",
          "unknown",
          "unknown",
          "approached_victim",
          "unknown",
          "unknown",
          "direct_attack",
          "unknown",
          "unknown",
          "contact_made",
          "unknown",
          "unknown",
          "unknown",
          "unknown",
          "unknown",
          "unknown",
          "unknown",
          "unknown",
          "unknown",
          "unknown",
          "unknown",
          "unknown",
          "unknown",
          "unknown",
          "unknown",
          "unknown",
          "direct_attack",
          "unknown",
          "unknown",
          "unknown",
          "unknown",
          "unknown",
          "unknown"
         ],
         "xaxis": "x",
         "y": [
          1,
          1,
          1,
          1,
          1,
          1,
          1,
          1,
          1,
          1,
          1,
          1,
          1,
          1,
          1,
          1,
          1,
          1,
          1,
          1,
          1,
          1,
          1,
          1,
          1,
          1,
          1,
          1,
          1,
          1,
          1,
          1,
          1,
          1,
          1,
          1,
          1,
          1,
          1,
          1,
          1,
          1,
          1,
          1,
          1,
          1,
          1,
          1,
          1,
          1,
          1,
          1,
          1,
          1,
          1,
          1,
          1,
          1,
          1,
          1,
          1,
          1,
          1,
          1,
          1,
          1,
          1,
          1,
          1,
          1,
          1,
          1,
          1,
          1,
          1,
          1,
          1,
          1,
          1,
          1,
          1,
          1,
          1,
          1,
          1,
          1,
          1,
          1,
          1,
          1,
          1,
          1,
          1,
          1,
          1,
          1,
          1,
          1,
          1,
          1,
          1,
          1,
          1,
          1,
          1,
          1,
          1,
          1,
          1,
          1,
          1,
          1,
          1,
          1,
          1,
          1,
          1,
          1,
          1,
          1,
          1,
          1,
          1,
          1,
          1,
          1,
          1,
          1,
          1,
          1,
          1,
          1,
          1,
          1,
          1,
          1,
          1,
          1,
          1,
          1,
          1,
          1,
          1,
          1,
          1,
          1,
          1,
          1,
          1,
          1,
          1,
          1,
          1,
          1,
          1,
          1,
          1,
          1,
          1,
          1,
          1,
          1,
          1,
          1,
          1,
          1,
          1,
          1,
          1,
          1,
          1,
          1,
          1,
          1,
          1,
          1,
          1,
          1,
          1,
          1,
          1,
          1,
          1,
          1,
          1,
          1,
          1,
          1,
          1,
          1,
          1,
          1,
          1,
          1,
          1,
          1,
          1,
          1,
          1,
          1,
          1,
          1,
          1,
          1,
          1,
          1,
          1,
          1,
          1,
          1,
          1,
          1,
          1,
          1,
          1,
          1,
          1,
          1,
          1,
          1,
          1,
          1,
          1,
          1,
          1,
          1,
          1,
          1,
          1,
          1,
          1,
          1,
          1,
          1,
          1,
          1,
          1,
          1,
          1,
          1,
          1,
          1,
          1,
          1,
          1,
          1
         ],
         "yaxis": "y"
        },
        {
         "alignmentgroup": "True",
         "hovertemplate": "Injury Severity=Unknown<br>Location Category=Estuary Harbour<br>Shark Behavior=%{x}<br>count=%{y}<extra></extra>",
         "legendgroup": "Unknown",
         "marker": {
          "color": "#EF553B",
          "pattern": {
           "shape": ""
          }
         },
         "name": "Unknown",
         "offsetgroup": "Unknown",
         "orientation": "v",
         "showlegend": false,
         "textposition": "auto",
         "type": "bar",
         "x": [
          "approached_victim",
          "approached_victim",
          "direct_attack",
          "direct_attack",
          "approached_victim",
          "unknown",
          "approached_victim",
          "direct_attack",
          "unknown",
          "contact_made",
          "direct_attack",
          "direct_attack",
          "unknown",
          "approached_victim",
          "direct_attack",
          "approached_victim",
          "direct_attack",
          "contact_made",
          "direct_attack",
          "direct_attack",
          "contact_made",
          "contact_made",
          "unknown",
          "unknown",
          "unknown",
          "contact_made",
          "contact_made",
          "unknown"
         ],
         "xaxis": "x2",
         "y": [
          1,
          1,
          1,
          1,
          1,
          1,
          1,
          1,
          1,
          1,
          1,
          1,
          1,
          1,
          1,
          1,
          1,
          1,
          1,
          1,
          1,
          1,
          1,
          1,
          1,
          1,
          1,
          1
         ],
         "yaxis": "y2"
        },
        {
         "alignmentgroup": "True",
         "hovertemplate": "Injury Severity=Unknown<br>Location Category=Island Open Ocean<br>Shark Behavior=%{x}<br>count=%{y}<extra></extra>",
         "legendgroup": "Unknown",
         "marker": {
          "color": "#EF553B",
          "pattern": {
           "shape": ""
          }
         },
         "name": "Unknown",
         "offsetgroup": "Unknown",
         "orientation": "v",
         "showlegend": false,
         "textposition": "auto",
         "type": "bar",
         "x": [
          "direct_attack",
          "unknown",
          "direct_attack",
          "direct_attack",
          "unknown",
          "unknown",
          "unknown",
          "unknown",
          "unknown",
          "unknown",
          "unknown",
          "unknown",
          "direct_attack",
          "unknown",
          "unknown",
          "unknown",
          "direct_attack",
          "direct_attack",
          "unknown",
          "direct_attack",
          "approached_victim",
          "direct_attack",
          "direct_attack",
          "approached_victim",
          "unknown",
          "contact_made",
          "direct_attack",
          "approached_victim",
          "direct_attack",
          "approached_victim",
          "direct_attack",
          "approached_victim",
          "approached_victim",
          "direct_attack",
          "approached_victim",
          "direct_attack",
          "direct_attack",
          "direct_attack",
          "approached_victim",
          "direct_attack",
          "contact_made",
          "direct_attack",
          "direct_attack",
          "unknown",
          "contact_made",
          "unknown",
          "unknown",
          "approached_victim",
          "unknown",
          "unknown",
          "unknown",
          "unknown"
         ],
         "xaxis": "x3",
         "y": [
          1,
          1,
          1,
          1,
          1,
          1,
          1,
          1,
          1,
          1,
          1,
          1,
          1,
          1,
          1,
          1,
          1,
          1,
          1,
          1,
          1,
          1,
          1,
          1,
          1,
          1,
          1,
          1,
          1,
          1,
          1,
          1,
          1,
          1,
          1,
          1,
          1,
          1,
          1,
          1,
          1,
          1,
          1,
          1,
          1,
          1,
          1,
          1,
          1,
          1,
          1,
          1
         ],
         "yaxis": "y3"
        },
        {
         "alignmentgroup": "True",
         "hovertemplate": "Injury Severity=Unknown<br>Location Category=River<br>Shark Behavior=%{x}<br>count=%{y}<extra></extra>",
         "legendgroup": "Unknown",
         "marker": {
          "color": "#EF553B",
          "pattern": {
           "shape": ""
          }
         },
         "name": "Unknown",
         "offsetgroup": "Unknown",
         "orientation": "v",
         "showlegend": false,
         "textposition": "auto",
         "type": "bar",
         "x": [
          "direct_attack",
          "direct_attack",
          "direct_attack",
          "contact_made",
          "direct_attack",
          "direct_attack",
          "direct_attack",
          "contact_made",
          "unknown",
          "approached_victim",
          "approached_victim",
          "contact_made",
          "direct_attack",
          "direct_attack",
          "direct_attack",
          "approached_victim",
          "unknown"
         ],
         "xaxis": "x4",
         "y": [
          1,
          1,
          1,
          1,
          1,
          1,
          1,
          1,
          1,
          1,
          1,
          1,
          1,
          1,
          1,
          1,
          1
         ],
         "yaxis": "y4"
        },
        {
         "alignmentgroup": "True",
         "hovertemplate": "Injury Severity=Unknown<br>Location Category=Others<br>Shark Behavior=%{x}<br>count=%{y}<extra></extra>",
         "legendgroup": "Unknown",
         "marker": {
          "color": "#EF553B",
          "pattern": {
           "shape": ""
          }
         },
         "name": "Unknown",
         "offsetgroup": "Unknown",
         "orientation": "v",
         "showlegend": false,
         "textposition": "auto",
         "type": "bar",
         "x": [
          "unknown",
          "direct_attack",
          "unknown",
          "direct_attack",
          "direct_attack",
          "approached_victim",
          "direct_attack",
          "approached_victim",
          "approached_victim",
          "unknown",
          "unknown"
         ],
         "xaxis": "x5",
         "y": [
          1,
          1,
          1,
          1,
          1,
          1,
          1,
          1,
          1,
          1,
          1
         ],
         "yaxis": "y5"
        },
        {
         "alignmentgroup": "True",
         "hovertemplate": "Injury Severity=Min.Lacerations<br>Location Category=Coastal<br>Shark Behavior=%{x}<br>count=%{y}<extra></extra>",
         "legendgroup": "Min.Lacerations",
         "marker": {
          "color": "#00cc96",
          "pattern": {
           "shape": ""
          }
         },
         "name": "Min.Lacerations",
         "offsetgroup": "Min.Lacerations",
         "orientation": "v",
         "showlegend": true,
         "textposition": "auto",
         "type": "bar",
         "x": [
          "direct_attack",
          "direct_attack",
          "direct_attack",
          "direct_attack",
          "direct_attack",
          "direct_attack",
          "direct_attack",
          "approached_victim",
          "direct_attack",
          "direct_attack",
          "direct_attack",
          "direct_attack",
          "direct_attack",
          "direct_attack",
          "direct_attack",
          "direct_attack",
          "direct_attack",
          "direct_attack",
          "direct_attack",
          "direct_attack",
          "direct_attack",
          "direct_attack",
          "unknown",
          "direct_attack",
          "direct_attack",
          "direct_attack",
          "direct_attack",
          "direct_attack",
          "direct_attack",
          "direct_attack",
          "unknown",
          "direct_attack",
          "direct_attack",
          "direct_attack",
          "direct_attack",
          "direct_attack",
          "direct_attack",
          "direct_attack",
          "direct_attack",
          "direct_attack",
          "direct_attack",
          "direct_attack",
          "unknown",
          "direct_attack",
          "direct_attack",
          "direct_attack",
          "direct_attack",
          "direct_attack",
          "approached_victim",
          "direct_attack",
          "direct_attack",
          "direct_attack",
          "direct_attack",
          "unknown",
          "direct_attack",
          "direct_attack",
          "direct_attack",
          "direct_attack",
          "direct_attack",
          "direct_attack",
          "direct_attack",
          "direct_attack",
          "direct_attack",
          "direct_attack",
          "direct_attack",
          "direct_attack",
          "direct_attack",
          "unknown",
          "direct_attack",
          "direct_attack",
          "direct_attack",
          "direct_attack",
          "direct_attack",
          "direct_attack",
          "direct_attack",
          "direct_attack",
          "direct_attack",
          "direct_attack",
          "unknown",
          "unknown",
          "direct_attack",
          "direct_attack",
          "direct_attack",
          "direct_attack",
          "direct_attack",
          "direct_attack",
          "direct_attack",
          "direct_attack",
          "direct_attack",
          "unknown",
          "direct_attack",
          "direct_attack",
          "direct_attack",
          "direct_attack",
          "direct_attack",
          "direct_attack",
          "direct_attack",
          "direct_attack",
          "direct_attack",
          "direct_attack",
          "direct_attack",
          "direct_attack",
          "direct_attack",
          "direct_attack",
          "unknown",
          "direct_attack",
          "direct_attack",
          "unknown",
          "direct_attack",
          "direct_attack",
          "direct_attack",
          "direct_attack",
          "direct_attack",
          "unknown",
          "direct_attack",
          "direct_attack",
          "direct_attack",
          "direct_attack",
          "direct_attack",
          "direct_attack",
          "direct_attack",
          "direct_attack",
          "contact_made",
          "approached_victim",
          "direct_attack",
          "direct_attack",
          "direct_attack",
          "direct_attack",
          "direct_attack",
          "contact_made",
          "direct_attack",
          "direct_attack",
          "direct_attack",
          "direct_attack",
          "direct_attack",
          "direct_attack",
          "direct_attack",
          "direct_attack",
          "direct_attack",
          "direct_attack",
          "direct_attack",
          "direct_attack",
          "direct_attack",
          "direct_attack",
          "direct_attack",
          "contact_made",
          "direct_attack",
          "direct_attack",
          "direct_attack",
          "direct_attack",
          "direct_attack",
          "direct_attack",
          "direct_attack",
          "direct_attack",
          "direct_attack",
          "direct_attack",
          "direct_attack",
          "direct_attack",
          "direct_attack",
          "direct_attack",
          "direct_attack",
          "direct_attack",
          "direct_attack",
          "direct_attack",
          "direct_attack",
          "direct_attack",
          "direct_attack",
          "direct_attack",
          "direct_attack",
          "direct_attack",
          "direct_attack",
          "direct_attack",
          "direct_attack",
          "direct_attack",
          "direct_attack",
          "direct_attack",
          "direct_attack",
          "direct_attack",
          "direct_attack",
          "direct_attack",
          "direct_attack",
          "approached_victim",
          "direct_attack",
          "direct_attack",
          "unknown",
          "direct_attack",
          "direct_attack",
          "direct_attack",
          "unknown",
          "direct_attack",
          "direct_attack",
          "direct_attack",
          "direct_attack",
          "direct_attack",
          "direct_attack",
          "unknown",
          "contact_made",
          "direct_attack",
          "unknown",
          "direct_attack",
          "direct_attack",
          "unknown",
          "direct_attack",
          "unknown",
          "direct_attack",
          "unknown",
          "direct_attack",
          "unknown",
          "unknown",
          "direct_attack",
          "direct_attack",
          "direct_attack",
          "unknown",
          "unknown",
          "unknown",
          "unknown",
          "direct_attack",
          "direct_attack",
          "direct_attack",
          "unknown",
          "unseen",
          "unknown",
          "unknown",
          "direct_attack",
          "unknown",
          "unknown",
          "unknown",
          "unknown",
          "unknown",
          "unknown",
          "unknown",
          "unknown",
          "unknown",
          "unknown",
          "unknown",
          "unknown"
         ],
         "xaxis": "x",
         "y": [
          1,
          1,
          1,
          1,
          1,
          1,
          1,
          1,
          1,
          1,
          1,
          1,
          1,
          1,
          1,
          1,
          1,
          1,
          1,
          1,
          1,
          1,
          1,
          1,
          1,
          1,
          1,
          1,
          1,
          1,
          1,
          1,
          1,
          1,
          1,
          1,
          1,
          1,
          1,
          1,
          1,
          1,
          1,
          1,
          1,
          1,
          1,
          1,
          1,
          1,
          1,
          1,
          1,
          1,
          1,
          1,
          1,
          1,
          1,
          1,
          1,
          1,
          1,
          1,
          1,
          1,
          1,
          1,
          1,
          1,
          1,
          1,
          1,
          1,
          1,
          1,
          1,
          1,
          1,
          1,
          1,
          1,
          1,
          1,
          1,
          1,
          1,
          1,
          1,
          1,
          1,
          1,
          1,
          1,
          1,
          1,
          1,
          1,
          1,
          1,
          1,
          1,
          1,
          1,
          1,
          1,
          1,
          1,
          1,
          1,
          1,
          1,
          1,
          1,
          1,
          1,
          1,
          1,
          1,
          1,
          1,
          1,
          1,
          1,
          1,
          1,
          1,
          1,
          1,
          1,
          1,
          1,
          1,
          1,
          1,
          1,
          1,
          1,
          1,
          1,
          1,
          1,
          1,
          1,
          1,
          1,
          1,
          1,
          1,
          1,
          1,
          1,
          1,
          1,
          1,
          1,
          1,
          1,
          1,
          1,
          1,
          1,
          1,
          1,
          1,
          1,
          1,
          1,
          1,
          1,
          1,
          1,
          1,
          1,
          1,
          1,
          1,
          1,
          1,
          1,
          1,
          1,
          1,
          1,
          1,
          1,
          1,
          1,
          1,
          1,
          1,
          1,
          1,
          1,
          1,
          1,
          1,
          1,
          1,
          1,
          1,
          1,
          1,
          1,
          1,
          1,
          1,
          1,
          1,
          1,
          1,
          1,
          1,
          1,
          1,
          1,
          1,
          1,
          1,
          1,
          1,
          1,
          1,
          1,
          1,
          1,
          1,
          1,
          1,
          1,
          1,
          1,
          1,
          1,
          1,
          1
         ],
         "yaxis": "y"
        },
        {
         "alignmentgroup": "True",
         "hovertemplate": "Injury Severity=Min.Lacerations<br>Location Category=Estuary Harbour<br>Shark Behavior=%{x}<br>count=%{y}<extra></extra>",
         "legendgroup": "Min.Lacerations",
         "marker": {
          "color": "#00cc96",
          "pattern": {
           "shape": ""
          }
         },
         "name": "Min.Lacerations",
         "offsetgroup": "Min.Lacerations",
         "orientation": "v",
         "showlegend": false,
         "textposition": "auto",
         "type": "bar",
         "x": [
          "direct_attack",
          "direct_attack",
          "direct_attack",
          "direct_attack",
          "direct_attack",
          "direct_attack",
          "direct_attack",
          "direct_attack",
          "direct_attack",
          "direct_attack",
          "direct_attack",
          "direct_attack",
          "direct_attack",
          "direct_attack",
          "direct_attack",
          "direct_attack",
          "direct_attack",
          "direct_attack",
          "direct_attack",
          "contact_made",
          "direct_attack",
          "direct_attack",
          "unknown"
         ],
         "xaxis": "x2",
         "y": [
          1,
          1,
          1,
          1,
          1,
          1,
          1,
          1,
          1,
          1,
          1,
          1,
          1,
          1,
          1,
          1,
          1,
          1,
          1,
          1,
          1,
          1,
          1
         ],
         "yaxis": "y2"
        },
        {
         "alignmentgroup": "True",
         "hovertemplate": "Injury Severity=Min.Lacerations<br>Location Category=Island Open Ocean<br>Shark Behavior=%{x}<br>count=%{y}<extra></extra>",
         "legendgroup": "Min.Lacerations",
         "marker": {
          "color": "#00cc96",
          "pattern": {
           "shape": ""
          }
         },
         "name": "Min.Lacerations",
         "offsetgroup": "Min.Lacerations",
         "orientation": "v",
         "showlegend": false,
         "textposition": "auto",
         "type": "bar",
         "x": [
          "direct_attack",
          "direct_attack",
          "direct_attack",
          "direct_attack",
          "unknown",
          "direct_attack",
          "direct_attack",
          "unknown",
          "direct_attack",
          "direct_attack",
          "direct_attack",
          "direct_attack",
          "direct_attack",
          "approached_victim",
          "direct_attack",
          "unknown",
          "approached_victim",
          "approached_victim",
          "unknown",
          "direct_attack",
          "direct_attack",
          "direct_attack",
          "direct_attack",
          "unknown",
          "direct_attack",
          "direct_attack",
          "direct_attack",
          "direct_attack",
          "direct_attack",
          "direct_attack",
          "direct_attack",
          "unknown",
          "unknown",
          "unknown"
         ],
         "xaxis": "x3",
         "y": [
          1,
          1,
          1,
          1,
          1,
          1,
          1,
          1,
          1,
          1,
          1,
          1,
          1,
          1,
          1,
          1,
          1,
          1,
          1,
          1,
          1,
          1,
          1,
          1,
          1,
          1,
          1,
          1,
          1,
          1,
          1,
          1,
          1,
          1
         ],
         "yaxis": "y3"
        },
        {
         "alignmentgroup": "True",
         "hovertemplate": "Injury Severity=Min.Lacerations<br>Location Category=River<br>Shark Behavior=%{x}<br>count=%{y}<extra></extra>",
         "legendgroup": "Min.Lacerations",
         "marker": {
          "color": "#00cc96",
          "pattern": {
           "shape": ""
          }
         },
         "name": "Min.Lacerations",
         "offsetgroup": "Min.Lacerations",
         "orientation": "v",
         "showlegend": false,
         "textposition": "auto",
         "type": "bar",
         "x": [
          "direct_attack",
          "direct_attack",
          "direct_attack",
          "direct_attack",
          "direct_attack",
          "direct_attack",
          "direct_attack",
          "direct_attack",
          "direct_attack",
          "direct_attack",
          "direct_attack",
          "direct_attack",
          "direct_attack",
          "direct_attack",
          "direct_attack",
          "direct_attack",
          "direct_attack",
          "direct_attack",
          "unknown",
          "direct_attack",
          "direct_attack",
          "direct_attack",
          "unknown",
          "direct_attack",
          "unknown",
          "approached_victim",
          "direct_attack",
          "contact_made",
          "direct_attack",
          "direct_attack",
          "direct_attack"
         ],
         "xaxis": "x4",
         "y": [
          1,
          1,
          1,
          1,
          1,
          1,
          1,
          1,
          1,
          1,
          1,
          1,
          1,
          1,
          1,
          1,
          1,
          1,
          1,
          1,
          1,
          1,
          1,
          1,
          1,
          1,
          1,
          1,
          1,
          1,
          1
         ],
         "yaxis": "y4"
        },
        {
         "alignmentgroup": "True",
         "hovertemplate": "Injury Severity=Min.Lacerations<br>Location Category=Others<br>Shark Behavior=%{x}<br>count=%{y}<extra></extra>",
         "legendgroup": "Min.Lacerations",
         "marker": {
          "color": "#00cc96",
          "pattern": {
           "shape": ""
          }
         },
         "name": "Min.Lacerations",
         "offsetgroup": "Min.Lacerations",
         "orientation": "v",
         "showlegend": false,
         "textposition": "auto",
         "type": "bar",
         "x": [
          "direct_attack",
          "direct_attack",
          "direct_attack",
          "direct_attack",
          "contact_made",
          "direct_attack",
          "direct_attack",
          "unknown"
         ],
         "xaxis": "x5",
         "y": [
          1,
          1,
          1,
          1,
          1,
          1,
          1,
          1
         ],
         "yaxis": "y5"
        },
        {
         "alignmentgroup": "True",
         "hovertemplate": "Injury Severity=Others<br>Location Category=Coastal<br>Shark Behavior=%{x}<br>count=%{y}<extra></extra>",
         "legendgroup": "Others",
         "marker": {
          "color": "#ab63fa",
          "pattern": {
           "shape": ""
          }
         },
         "name": "Others",
         "offsetgroup": "Others",
         "orientation": "v",
         "showlegend": true,
         "textposition": "auto",
         "type": "bar",
         "x": [
          "direct_attack",
          "approached_victim",
          "direct_attack",
          "approached_victim",
          "direct_attack",
          "direct_attack",
          "direct_attack",
          "direct_attack",
          "direct_attack",
          "direct_attack",
          "approached_victim",
          "unknown",
          "approached_victim",
          "direct_attack",
          "approached_victim",
          "contact_made",
          "direct_attack",
          "direct_attack",
          "direct_attack",
          "direct_attack",
          "approached_victim",
          "unknown",
          "direct_attack",
          "direct_attack",
          "direct_attack",
          "unknown",
          "direct_attack",
          "unknown",
          "direct_attack",
          "direct_attack",
          "direct_attack",
          "direct_attack",
          "unknown",
          "unknown",
          "direct_attack",
          "direct_attack",
          "direct_attack",
          "direct_attack",
          "direct_attack",
          "direct_attack",
          "direct_attack",
          "direct_attack",
          "direct_attack",
          "direct_attack",
          "direct_attack",
          "direct_attack",
          "direct_attack",
          "direct_attack",
          "direct_attack",
          "direct_attack",
          "direct_attack",
          "direct_attack",
          "direct_attack",
          "direct_attack",
          "direct_attack",
          "direct_attack",
          "direct_attack",
          "direct_attack",
          "direct_attack",
          "direct_attack",
          "direct_attack",
          "approached_victim",
          "direct_attack",
          "direct_attack",
          "direct_attack",
          "direct_attack",
          "direct_attack",
          "direct_attack",
          "direct_attack",
          "direct_attack",
          "direct_attack",
          "direct_attack",
          "direct_attack",
          "direct_attack",
          "direct_attack",
          "direct_attack",
          "direct_attack",
          "direct_attack",
          "direct_attack",
          "direct_attack",
          "direct_attack",
          "direct_attack",
          "direct_attack",
          "direct_attack",
          "direct_attack",
          "contact_made",
          "direct_attack",
          "contact_made",
          "direct_attack",
          "direct_attack",
          "direct_attack",
          "direct_attack",
          "direct_attack",
          "direct_attack",
          "contact_made",
          "direct_attack",
          "direct_attack",
          "unknown",
          "approached_victim",
          "unknown",
          "unknown",
          "unknown"
         ],
         "xaxis": "x",
         "y": [
          1,
          1,
          1,
          1,
          1,
          1,
          1,
          1,
          1,
          1,
          1,
          1,
          1,
          1,
          1,
          1,
          1,
          1,
          1,
          1,
          1,
          1,
          1,
          1,
          1,
          1,
          1,
          1,
          1,
          1,
          1,
          1,
          1,
          1,
          1,
          1,
          1,
          1,
          1,
          1,
          1,
          1,
          1,
          1,
          1,
          1,
          1,
          1,
          1,
          1,
          1,
          1,
          1,
          1,
          1,
          1,
          1,
          1,
          1,
          1,
          1,
          1,
          1,
          1,
          1,
          1,
          1,
          1,
          1,
          1,
          1,
          1,
          1,
          1,
          1,
          1,
          1,
          1,
          1,
          1,
          1,
          1,
          1,
          1,
          1,
          1,
          1,
          1,
          1,
          1,
          1,
          1,
          1,
          1,
          1,
          1,
          1,
          1,
          1,
          1,
          1,
          1
         ],
         "yaxis": "y"
        },
        {
         "alignmentgroup": "True",
         "hovertemplate": "Injury Severity=Others<br>Location Category=Estuary Harbour<br>Shark Behavior=%{x}<br>count=%{y}<extra></extra>",
         "legendgroup": "Others",
         "marker": {
          "color": "#ab63fa",
          "pattern": {
           "shape": ""
          }
         },
         "name": "Others",
         "offsetgroup": "Others",
         "orientation": "v",
         "showlegend": false,
         "textposition": "auto",
         "type": "bar",
         "x": [
          "approached_victim",
          "approached_victim",
          "approached_victim",
          "direct_attack",
          "direct_attack",
          "contact_made",
          "direct_attack",
          "direct_attack"
         ],
         "xaxis": "x2",
         "y": [
          1,
          1,
          1,
          1,
          1,
          1,
          1,
          1
         ],
         "yaxis": "y2"
        },
        {
         "alignmentgroup": "True",
         "hovertemplate": "Injury Severity=Others<br>Location Category=Island Open Ocean<br>Shark Behavior=%{x}<br>count=%{y}<extra></extra>",
         "legendgroup": "Others",
         "marker": {
          "color": "#ab63fa",
          "pattern": {
           "shape": ""
          }
         },
         "name": "Others",
         "offsetgroup": "Others",
         "orientation": "v",
         "showlegend": false,
         "textposition": "auto",
         "type": "bar",
         "x": [
          "approached_victim",
          "direct_attack",
          "unknown",
          "direct_attack",
          "approached_victim",
          "direct_attack",
          "direct_attack",
          "direct_attack",
          "direct_attack",
          "direct_attack",
          "direct_attack",
          "direct_attack",
          "direct_attack",
          "direct_attack",
          "direct_attack",
          "direct_attack",
          "direct_attack",
          "direct_attack",
          "direct_attack",
          "direct_attack",
          "direct_attack"
         ],
         "xaxis": "x3",
         "y": [
          1,
          1,
          1,
          1,
          1,
          1,
          1,
          1,
          1,
          1,
          1,
          1,
          1,
          1,
          1,
          1,
          1,
          1,
          1,
          1,
          1
         ],
         "yaxis": "y3"
        },
        {
         "alignmentgroup": "True",
         "hovertemplate": "Injury Severity=Others<br>Location Category=River<br>Shark Behavior=%{x}<br>count=%{y}<extra></extra>",
         "legendgroup": "Others",
         "marker": {
          "color": "#ab63fa",
          "pattern": {
           "shape": ""
          }
         },
         "name": "Others",
         "offsetgroup": "Others",
         "orientation": "v",
         "showlegend": false,
         "textposition": "auto",
         "type": "bar",
         "x": [
          "direct_attack",
          "direct_attack",
          "direct_attack",
          "direct_attack",
          "contact_made",
          "approached_victim",
          "contact_made",
          "direct_attack",
          "direct_attack",
          "unknown"
         ],
         "xaxis": "x4",
         "y": [
          1,
          1,
          1,
          1,
          1,
          1,
          1,
          1,
          1,
          1
         ],
         "yaxis": "y4"
        },
        {
         "alignmentgroup": "True",
         "hovertemplate": "Injury Severity=Others<br>Location Category=Others<br>Shark Behavior=%{x}<br>count=%{y}<extra></extra>",
         "legendgroup": "Others",
         "marker": {
          "color": "#ab63fa",
          "pattern": {
           "shape": ""
          }
         },
         "name": "Others",
         "offsetgroup": "Others",
         "orientation": "v",
         "showlegend": false,
         "textposition": "auto",
         "type": "bar",
         "x": [
          "direct_attack",
          "approached_victim"
         ],
         "xaxis": "x5",
         "y": [
          1,
          1
         ],
         "yaxis": "y5"
        }
       ],
       "layout": {
        "annotations": [
         {
          "font": {},
          "showarrow": false,
          "text": "Location Category=Coastal",
          "x": 0.09200000000000001,
          "xanchor": "center",
          "xref": "paper",
          "y": 1,
          "yanchor": "bottom",
          "yref": "paper"
         },
         {
          "font": {},
          "showarrow": false,
          "text": "Location Category=Estuary Harbour",
          "x": 0.29600000000000004,
          "xanchor": "center",
          "xref": "paper",
          "y": 1,
          "yanchor": "bottom",
          "yref": "paper"
         },
         {
          "font": {},
          "showarrow": false,
          "text": "Location Category=Island Open Ocean",
          "x": 0.5,
          "xanchor": "center",
          "xref": "paper",
          "y": 1,
          "yanchor": "bottom",
          "yref": "paper"
         },
         {
          "font": {},
          "showarrow": false,
          "text": "Location Category=River",
          "x": 0.7040000000000002,
          "xanchor": "center",
          "xref": "paper",
          "y": 1,
          "yanchor": "bottom",
          "yref": "paper"
         },
         {
          "font": {},
          "showarrow": false,
          "text": "Location Category=Others",
          "x": 0.908,
          "xanchor": "center",
          "xref": "paper",
          "y": 1,
          "yanchor": "bottom",
          "yref": "paper"
         }
        ],
        "barmode": "group",
        "legend": {
         "title": {
          "text": "Injury Severity"
         },
         "tracegroupgap": 0
        },
        "template": {
         "data": {
          "bar": [
           {
            "error_x": {
             "color": "#2a3f5f"
            },
            "error_y": {
             "color": "#2a3f5f"
            },
            "marker": {
             "line": {
              "color": "#E5ECF6",
              "width": 0.5
             },
             "pattern": {
              "fillmode": "overlay",
              "size": 10,
              "solidity": 0.2
             }
            },
            "type": "bar"
           }
          ],
          "barpolar": [
           {
            "marker": {
             "line": {
              "color": "#E5ECF6",
              "width": 0.5
             },
             "pattern": {
              "fillmode": "overlay",
              "size": 10,
              "solidity": 0.2
             }
            },
            "type": "barpolar"
           }
          ],
          "carpet": [
           {
            "aaxis": {
             "endlinecolor": "#2a3f5f",
             "gridcolor": "white",
             "linecolor": "white",
             "minorgridcolor": "white",
             "startlinecolor": "#2a3f5f"
            },
            "baxis": {
             "endlinecolor": "#2a3f5f",
             "gridcolor": "white",
             "linecolor": "white",
             "minorgridcolor": "white",
             "startlinecolor": "#2a3f5f"
            },
            "type": "carpet"
           }
          ],
          "choropleth": [
           {
            "colorbar": {
             "outlinewidth": 0,
             "ticks": ""
            },
            "type": "choropleth"
           }
          ],
          "contour": [
           {
            "colorbar": {
             "outlinewidth": 0,
             "ticks": ""
            },
            "colorscale": [
             [
              0,
              "#0d0887"
             ],
             [
              0.1111111111111111,
              "#46039f"
             ],
             [
              0.2222222222222222,
              "#7201a8"
             ],
             [
              0.3333333333333333,
              "#9c179e"
             ],
             [
              0.4444444444444444,
              "#bd3786"
             ],
             [
              0.5555555555555556,
              "#d8576b"
             ],
             [
              0.6666666666666666,
              "#ed7953"
             ],
             [
              0.7777777777777778,
              "#fb9f3a"
             ],
             [
              0.8888888888888888,
              "#fdca26"
             ],
             [
              1,
              "#f0f921"
             ]
            ],
            "type": "contour"
           }
          ],
          "contourcarpet": [
           {
            "colorbar": {
             "outlinewidth": 0,
             "ticks": ""
            },
            "type": "contourcarpet"
           }
          ],
          "heatmap": [
           {
            "colorbar": {
             "outlinewidth": 0,
             "ticks": ""
            },
            "colorscale": [
             [
              0,
              "#0d0887"
             ],
             [
              0.1111111111111111,
              "#46039f"
             ],
             [
              0.2222222222222222,
              "#7201a8"
             ],
             [
              0.3333333333333333,
              "#9c179e"
             ],
             [
              0.4444444444444444,
              "#bd3786"
             ],
             [
              0.5555555555555556,
              "#d8576b"
             ],
             [
              0.6666666666666666,
              "#ed7953"
             ],
             [
              0.7777777777777778,
              "#fb9f3a"
             ],
             [
              0.8888888888888888,
              "#fdca26"
             ],
             [
              1,
              "#f0f921"
             ]
            ],
            "type": "heatmap"
           }
          ],
          "heatmapgl": [
           {
            "colorbar": {
             "outlinewidth": 0,
             "ticks": ""
            },
            "colorscale": [
             [
              0,
              "#0d0887"
             ],
             [
              0.1111111111111111,
              "#46039f"
             ],
             [
              0.2222222222222222,
              "#7201a8"
             ],
             [
              0.3333333333333333,
              "#9c179e"
             ],
             [
              0.4444444444444444,
              "#bd3786"
             ],
             [
              0.5555555555555556,
              "#d8576b"
             ],
             [
              0.6666666666666666,
              "#ed7953"
             ],
             [
              0.7777777777777778,
              "#fb9f3a"
             ],
             [
              0.8888888888888888,
              "#fdca26"
             ],
             [
              1,
              "#f0f921"
             ]
            ],
            "type": "heatmapgl"
           }
          ],
          "histogram": [
           {
            "marker": {
             "pattern": {
              "fillmode": "overlay",
              "size": 10,
              "solidity": 0.2
             }
            },
            "type": "histogram"
           }
          ],
          "histogram2d": [
           {
            "colorbar": {
             "outlinewidth": 0,
             "ticks": ""
            },
            "colorscale": [
             [
              0,
              "#0d0887"
             ],
             [
              0.1111111111111111,
              "#46039f"
             ],
             [
              0.2222222222222222,
              "#7201a8"
             ],
             [
              0.3333333333333333,
              "#9c179e"
             ],
             [
              0.4444444444444444,
              "#bd3786"
             ],
             [
              0.5555555555555556,
              "#d8576b"
             ],
             [
              0.6666666666666666,
              "#ed7953"
             ],
             [
              0.7777777777777778,
              "#fb9f3a"
             ],
             [
              0.8888888888888888,
              "#fdca26"
             ],
             [
              1,
              "#f0f921"
             ]
            ],
            "type": "histogram2d"
           }
          ],
          "histogram2dcontour": [
           {
            "colorbar": {
             "outlinewidth": 0,
             "ticks": ""
            },
            "colorscale": [
             [
              0,
              "#0d0887"
             ],
             [
              0.1111111111111111,
              "#46039f"
             ],
             [
              0.2222222222222222,
              "#7201a8"
             ],
             [
              0.3333333333333333,
              "#9c179e"
             ],
             [
              0.4444444444444444,
              "#bd3786"
             ],
             [
              0.5555555555555556,
              "#d8576b"
             ],
             [
              0.6666666666666666,
              "#ed7953"
             ],
             [
              0.7777777777777778,
              "#fb9f3a"
             ],
             [
              0.8888888888888888,
              "#fdca26"
             ],
             [
              1,
              "#f0f921"
             ]
            ],
            "type": "histogram2dcontour"
           }
          ],
          "mesh3d": [
           {
            "colorbar": {
             "outlinewidth": 0,
             "ticks": ""
            },
            "type": "mesh3d"
           }
          ],
          "parcoords": [
           {
            "line": {
             "colorbar": {
              "outlinewidth": 0,
              "ticks": ""
             }
            },
            "type": "parcoords"
           }
          ],
          "pie": [
           {
            "automargin": true,
            "type": "pie"
           }
          ],
          "scatter": [
           {
            "fillpattern": {
             "fillmode": "overlay",
             "size": 10,
             "solidity": 0.2
            },
            "type": "scatter"
           }
          ],
          "scatter3d": [
           {
            "line": {
             "colorbar": {
              "outlinewidth": 0,
              "ticks": ""
             }
            },
            "marker": {
             "colorbar": {
              "outlinewidth": 0,
              "ticks": ""
             }
            },
            "type": "scatter3d"
           }
          ],
          "scattercarpet": [
           {
            "marker": {
             "colorbar": {
              "outlinewidth": 0,
              "ticks": ""
             }
            },
            "type": "scattercarpet"
           }
          ],
          "scattergeo": [
           {
            "marker": {
             "colorbar": {
              "outlinewidth": 0,
              "ticks": ""
             }
            },
            "type": "scattergeo"
           }
          ],
          "scattergl": [
           {
            "marker": {
             "colorbar": {
              "outlinewidth": 0,
              "ticks": ""
             }
            },
            "type": "scattergl"
           }
          ],
          "scattermapbox": [
           {
            "marker": {
             "colorbar": {
              "outlinewidth": 0,
              "ticks": ""
             }
            },
            "type": "scattermapbox"
           }
          ],
          "scatterpolar": [
           {
            "marker": {
             "colorbar": {
              "outlinewidth": 0,
              "ticks": ""
             }
            },
            "type": "scatterpolar"
           }
          ],
          "scatterpolargl": [
           {
            "marker": {
             "colorbar": {
              "outlinewidth": 0,
              "ticks": ""
             }
            },
            "type": "scatterpolargl"
           }
          ],
          "scatterternary": [
           {
            "marker": {
             "colorbar": {
              "outlinewidth": 0,
              "ticks": ""
             }
            },
            "type": "scatterternary"
           }
          ],
          "surface": [
           {
            "colorbar": {
             "outlinewidth": 0,
             "ticks": ""
            },
            "colorscale": [
             [
              0,
              "#0d0887"
             ],
             [
              0.1111111111111111,
              "#46039f"
             ],
             [
              0.2222222222222222,
              "#7201a8"
             ],
             [
              0.3333333333333333,
              "#9c179e"
             ],
             [
              0.4444444444444444,
              "#bd3786"
             ],
             [
              0.5555555555555556,
              "#d8576b"
             ],
             [
              0.6666666666666666,
              "#ed7953"
             ],
             [
              0.7777777777777778,
              "#fb9f3a"
             ],
             [
              0.8888888888888888,
              "#fdca26"
             ],
             [
              1,
              "#f0f921"
             ]
            ],
            "type": "surface"
           }
          ],
          "table": [
           {
            "cells": {
             "fill": {
              "color": "#EBF0F8"
             },
             "line": {
              "color": "white"
             }
            },
            "header": {
             "fill": {
              "color": "#C8D4E3"
             },
             "line": {
              "color": "white"
             }
            },
            "type": "table"
           }
          ]
         },
         "layout": {
          "annotationdefaults": {
           "arrowcolor": "#2a3f5f",
           "arrowhead": 0,
           "arrowwidth": 1
          },
          "autotypenumbers": "strict",
          "coloraxis": {
           "colorbar": {
            "outlinewidth": 0,
            "ticks": ""
           }
          },
          "colorscale": {
           "diverging": [
            [
             0,
             "#8e0152"
            ],
            [
             0.1,
             "#c51b7d"
            ],
            [
             0.2,
             "#de77ae"
            ],
            [
             0.3,
             "#f1b6da"
            ],
            [
             0.4,
             "#fde0ef"
            ],
            [
             0.5,
             "#f7f7f7"
            ],
            [
             0.6,
             "#e6f5d0"
            ],
            [
             0.7,
             "#b8e186"
            ],
            [
             0.8,
             "#7fbc41"
            ],
            [
             0.9,
             "#4d9221"
            ],
            [
             1,
             "#276419"
            ]
           ],
           "sequential": [
            [
             0,
             "#0d0887"
            ],
            [
             0.1111111111111111,
             "#46039f"
            ],
            [
             0.2222222222222222,
             "#7201a8"
            ],
            [
             0.3333333333333333,
             "#9c179e"
            ],
            [
             0.4444444444444444,
             "#bd3786"
            ],
            [
             0.5555555555555556,
             "#d8576b"
            ],
            [
             0.6666666666666666,
             "#ed7953"
            ],
            [
             0.7777777777777778,
             "#fb9f3a"
            ],
            [
             0.8888888888888888,
             "#fdca26"
            ],
            [
             1,
             "#f0f921"
            ]
           ],
           "sequentialminus": [
            [
             0,
             "#0d0887"
            ],
            [
             0.1111111111111111,
             "#46039f"
            ],
            [
             0.2222222222222222,
             "#7201a8"
            ],
            [
             0.3333333333333333,
             "#9c179e"
            ],
            [
             0.4444444444444444,
             "#bd3786"
            ],
            [
             0.5555555555555556,
             "#d8576b"
            ],
            [
             0.6666666666666666,
             "#ed7953"
            ],
            [
             0.7777777777777778,
             "#fb9f3a"
            ],
            [
             0.8888888888888888,
             "#fdca26"
            ],
            [
             1,
             "#f0f921"
            ]
           ]
          },
          "colorway": [
           "#636efa",
           "#EF553B",
           "#00cc96",
           "#ab63fa",
           "#FFA15A",
           "#19d3f3",
           "#FF6692",
           "#B6E880",
           "#FF97FF",
           "#FECB52"
          ],
          "font": {
           "color": "#2a3f5f"
          },
          "geo": {
           "bgcolor": "white",
           "lakecolor": "white",
           "landcolor": "#E5ECF6",
           "showlakes": true,
           "showland": true,
           "subunitcolor": "white"
          },
          "hoverlabel": {
           "align": "left"
          },
          "hovermode": "closest",
          "mapbox": {
           "style": "light"
          },
          "paper_bgcolor": "white",
          "plot_bgcolor": "#E5ECF6",
          "polar": {
           "angularaxis": {
            "gridcolor": "white",
            "linecolor": "white",
            "ticks": ""
           },
           "bgcolor": "#E5ECF6",
           "radialaxis": {
            "gridcolor": "white",
            "linecolor": "white",
            "ticks": ""
           }
          },
          "scene": {
           "xaxis": {
            "backgroundcolor": "#E5ECF6",
            "gridcolor": "white",
            "gridwidth": 2,
            "linecolor": "white",
            "showbackground": true,
            "ticks": "",
            "zerolinecolor": "white"
           },
           "yaxis": {
            "backgroundcolor": "#E5ECF6",
            "gridcolor": "white",
            "gridwidth": 2,
            "linecolor": "white",
            "showbackground": true,
            "ticks": "",
            "zerolinecolor": "white"
           },
           "zaxis": {
            "backgroundcolor": "#E5ECF6",
            "gridcolor": "white",
            "gridwidth": 2,
            "linecolor": "white",
            "showbackground": true,
            "ticks": "",
            "zerolinecolor": "white"
           }
          },
          "shapedefaults": {
           "line": {
            "color": "#2a3f5f"
           }
          },
          "ternary": {
           "aaxis": {
            "gridcolor": "white",
            "linecolor": "white",
            "ticks": ""
           },
           "baxis": {
            "gridcolor": "white",
            "linecolor": "white",
            "ticks": ""
           },
           "bgcolor": "#E5ECF6",
           "caxis": {
            "gridcolor": "white",
            "linecolor": "white",
            "ticks": ""
           }
          },
          "title": {
           "x": 0.05
          },
          "xaxis": {
           "automargin": true,
           "gridcolor": "white",
           "linecolor": "white",
           "ticks": "",
           "title": {
            "standoff": 15
           },
           "zerolinecolor": "white",
           "zerolinewidth": 2
          },
          "yaxis": {
           "automargin": true,
           "gridcolor": "white",
           "linecolor": "white",
           "ticks": "",
           "title": {
            "standoff": 15
           },
           "zerolinecolor": "white",
           "zerolinewidth": 2
          }
         }
        },
        "title": {
         "text": "Effect of Shark Behavior and Location on Injury Severity"
        },
        "xaxis": {
         "anchor": "y",
         "domain": [
          0,
          0.18400000000000002
         ],
         "title": {
          "text": "Shark Behavior"
         }
        },
        "xaxis2": {
         "anchor": "y2",
         "domain": [
          0.20400000000000001,
          0.388
         ],
         "matches": "x",
         "title": {
          "text": "Shark Behavior"
         }
        },
        "xaxis3": {
         "anchor": "y3",
         "domain": [
          0.40800000000000003,
          0.5920000000000001
         ],
         "matches": "x",
         "title": {
          "text": "Shark Behavior"
         }
        },
        "xaxis4": {
         "anchor": "y4",
         "domain": [
          0.6120000000000001,
          0.7960000000000002
         ],
         "matches": "x",
         "title": {
          "text": "Shark Behavior"
         }
        },
        "xaxis5": {
         "anchor": "y5",
         "domain": [
          0.8160000000000001,
          1
         ],
         "matches": "x",
         "title": {
          "text": "Shark Behavior"
         }
        },
        "yaxis": {
         "anchor": "x",
         "domain": [
          0,
          1
         ],
         "title": {
          "text": "count"
         }
        },
        "yaxis2": {
         "anchor": "x2",
         "domain": [
          0,
          1
         ],
         "matches": "y",
         "showticklabels": false
        },
        "yaxis3": {
         "anchor": "x3",
         "domain": [
          0,
          1
         ],
         "matches": "y",
         "showticklabels": false
        },
        "yaxis4": {
         "anchor": "x4",
         "domain": [
          0,
          1
         ],
         "matches": "y",
         "showticklabels": false
        },
        "yaxis5": {
         "anchor": "x5",
         "domain": [
          0,
          1
         ],
         "matches": "y",
         "showticklabels": false
        }
       }
      }
     },
     "metadata": {},
     "output_type": "display_data"
    }
   ],
   "source": [
    "# Effect of Shark Behavior and Location on Injury Severity\n",
    "behavior_severity_data = df[['shark_behaviour_generic', 'site_category_cleaned', 'injury_severity']].dropna()\n",
    "\n",
    "# Create a grouped bar chart for behavior, location, and injury severity\n",
    "severity_fig = px.bar(\n",
    "    behavior_severity_data,\n",
    "    x='shark_behaviour_generic',\n",
    "    color='injury_severity',\n",
    "    facet_col='site_category_cleaned',\n",
    "    title='Effect of Shark Behavior and Location on Injury Severity',\n",
    "    labels={\n",
    "        'shark_behaviour_generic': 'Shark Behavior',\n",
    "        'injury_severity': 'Injury Severity',\n",
    "        'site_category_cleaned': 'Location Category'\n",
    "    },\n",
    "    barmode='group',\n",
    ")\n",
    "\n",
    "# Display the bar chart\n",
    "severity_fig.show()\n"
   ]
  },
  {
   "cell_type": "code",
   "execution_count": 5,
   "metadata": {},
   "outputs": [
    {
     "data": {
      "application/vnd.plotly.v1+json": {
       "config": {
        "plotlyServerURL": "https://plot.ly"
       },
       "data": [
        {
         "customdata": [
          [
           "injured"
          ],
          [
           "injured"
          ],
          [
           "injured"
          ],
          [
           "injured"
          ],
          [
           "injured"
          ],
          [
           "injured"
          ],
          [
           "injured"
          ],
          [
           "injured"
          ],
          [
           "injured"
          ],
          [
           "injured"
          ],
          [
           "injured"
          ],
          [
           "injured"
          ],
          [
           "injured"
          ],
          [
           "injured"
          ],
          [
           "injured"
          ],
          [
           "injured"
          ],
          [
           "injured"
          ],
          [
           "injured"
          ],
          [
           "injured"
          ],
          [
           "injured"
          ],
          [
           "injured"
          ],
          [
           "injured"
          ],
          [
           "injured"
          ],
          [
           "injured"
          ],
          [
           "injured"
          ],
          [
           "injured"
          ],
          [
           "injured"
          ],
          [
           "injured"
          ],
          [
           "injured"
          ],
          [
           "injured"
          ],
          [
           "injured"
          ],
          [
           "injured"
          ],
          [
           "injured"
          ],
          [
           "injured"
          ],
          [
           "injured"
          ],
          [
           "injured"
          ],
          [
           "injured"
          ],
          [
           "injured"
          ],
          [
           "injured"
          ],
          [
           "injured"
          ],
          [
           "injured"
          ],
          [
           "injured"
          ],
          [
           "injured"
          ],
          [
           "injured"
          ],
          [
           "injured"
          ],
          [
           "injured"
          ],
          [
           "injured"
          ],
          [
           "injured"
          ],
          [
           "injured"
          ],
          [
           "injured"
          ],
          [
           "injured"
          ],
          [
           "injured"
          ],
          [
           "injured"
          ],
          [
           "injured"
          ],
          [
           "injured"
          ],
          [
           "injured"
          ],
          [
           "injured"
          ],
          [
           "injured"
          ],
          [
           "injured"
          ],
          [
           "injured"
          ],
          [
           "injured"
          ],
          [
           "injured"
          ],
          [
           "injured"
          ],
          [
           "injured"
          ],
          [
           "injured"
          ],
          [
           "injured"
          ],
          [
           "injured"
          ],
          [
           "injured"
          ],
          [
           "injured"
          ],
          [
           "injured"
          ],
          [
           "injured"
          ],
          [
           "injured"
          ],
          [
           "injured"
          ],
          [
           "injured"
          ],
          [
           "injured"
          ],
          [
           "injured"
          ],
          [
           "injured"
          ],
          [
           "injured"
          ],
          [
           "injured"
          ],
          [
           "injured"
          ],
          [
           "injured"
          ],
          [
           "injured"
          ],
          [
           "injured"
          ],
          [
           "injured"
          ],
          [
           "injured"
          ],
          [
           "injured"
          ],
          [
           "injured"
          ],
          [
           "injured"
          ],
          [
           "injured"
          ],
          [
           "injured"
          ],
          [
           "injured"
          ],
          [
           "injured"
          ],
          [
           "injured"
          ],
          [
           "injured"
          ],
          [
           "injured"
          ],
          [
           "injured"
          ],
          [
           "injured"
          ],
          [
           "injured"
          ],
          [
           "injured"
          ],
          [
           "injured"
          ],
          [
           "injured"
          ],
          [
           "injured"
          ],
          [
           "injured"
          ],
          [
           "injured"
          ],
          [
           "injured"
          ],
          [
           "injured"
          ],
          [
           "injured"
          ],
          [
           "injured"
          ],
          [
           "injured"
          ],
          [
           "injured"
          ],
          [
           "injured"
          ],
          [
           "injured"
          ],
          [
           "injured"
          ],
          [
           "injured"
          ],
          [
           "injured"
          ],
          [
           "injured"
          ],
          [
           "injured"
          ],
          [
           "injured"
          ],
          [
           "injured"
          ],
          [
           "injured"
          ],
          [
           "injured"
          ],
          [
           "injured"
          ],
          [
           "injured"
          ],
          [
           "injured"
          ],
          [
           "injured"
          ],
          [
           "injured"
          ],
          [
           "injured"
          ],
          [
           "injured"
          ],
          [
           "injured"
          ],
          [
           "injured"
          ],
          [
           "injured"
          ],
          [
           "injured"
          ],
          [
           "injured"
          ],
          [
           "injured"
          ],
          [
           "injured"
          ],
          [
           "injured"
          ],
          [
           "injured"
          ],
          [
           "injured"
          ],
          [
           "injured"
          ],
          [
           "injured"
          ],
          [
           "injured"
          ],
          [
           "injured"
          ],
          [
           "injured"
          ],
          [
           "injured"
          ],
          [
           "injured"
          ],
          [
           "injured"
          ],
          [
           "injured"
          ],
          [
           "injured"
          ],
          [
           "injured"
          ],
          [
           "injured"
          ],
          [
           "injured"
          ],
          [
           "injured"
          ],
          [
           "injured"
          ],
          [
           "injured"
          ],
          [
           "injured"
          ],
          [
           "injured"
          ],
          [
           "injured"
          ],
          [
           "injured"
          ],
          [
           "injured"
          ],
          [
           "injured"
          ],
          [
           "injured"
          ],
          [
           "injured"
          ],
          [
           "injured"
          ],
          [
           "injured"
          ],
          [
           "injured"
          ],
          [
           "injured"
          ],
          [
           "injured"
          ],
          [
           "injured"
          ],
          [
           "injured"
          ],
          [
           "injured"
          ],
          [
           "injured"
          ],
          [
           "injured"
          ],
          [
           "injured"
          ],
          [
           "injured"
          ],
          [
           "injured"
          ],
          [
           "injured"
          ],
          [
           "injured"
          ],
          [
           "injured"
          ],
          [
           "injured"
          ],
          [
           "injured"
          ],
          [
           "injured"
          ],
          [
           "injured"
          ],
          [
           "injured"
          ],
          [
           "injured"
          ],
          [
           "injured"
          ],
          [
           "injured"
          ],
          [
           "injured"
          ],
          [
           "injured"
          ],
          [
           "injured"
          ],
          [
           "injured"
          ],
          [
           "injured"
          ],
          [
           "injured"
          ],
          [
           "injured"
          ],
          [
           "injured"
          ],
          [
           "injured"
          ],
          [
           "injured"
          ],
          [
           "injured"
          ],
          [
           "injured"
          ],
          [
           "injured"
          ],
          [
           "injured"
          ],
          [
           "injured"
          ],
          [
           "injured"
          ],
          [
           "injured"
          ],
          [
           "injured"
          ],
          [
           "injured"
          ],
          [
           "injured"
          ],
          [
           "injured"
          ],
          [
           "injured"
          ],
          [
           "injured"
          ],
          [
           "injured"
          ],
          [
           "injured"
          ],
          [
           "injured"
          ],
          [
           "injured"
          ],
          [
           "injured"
          ],
          [
           "injured"
          ],
          [
           "injured"
          ],
          [
           "injured"
          ],
          [
           "injured"
          ],
          [
           "injured"
          ],
          [
           "injured"
          ],
          [
           "injured"
          ],
          [
           "injured"
          ],
          [
           "injured"
          ],
          [
           "injured"
          ],
          [
           "injured"
          ],
          [
           "injured"
          ],
          [
           "injured"
          ],
          [
           "injured"
          ],
          [
           "injured"
          ],
          [
           "injured"
          ],
          [
           "injured"
          ],
          [
           "injured"
          ],
          [
           "injured"
          ],
          [
           "injured"
          ],
          [
           "injured"
          ],
          [
           "injured"
          ],
          [
           "injured"
          ],
          [
           "injured"
          ],
          [
           "injured"
          ],
          [
           "injured"
          ],
          [
           "injured"
          ],
          [
           "injured"
          ],
          [
           "injured"
          ],
          [
           "injured"
          ],
          [
           "injured"
          ],
          [
           "injured"
          ],
          [
           "injured"
          ],
          [
           "injured"
          ],
          [
           "injured"
          ],
          [
           "injured"
          ],
          [
           "injured"
          ],
          [
           "injured"
          ],
          [
           "injured"
          ],
          [
           "injured"
          ],
          [
           "injured"
          ],
          [
           "injured"
          ],
          [
           "injured"
          ],
          [
           "injured"
          ],
          [
           "injured"
          ],
          [
           "injured"
          ],
          [
           "injured"
          ],
          [
           "injured"
          ],
          [
           "injured"
          ],
          [
           "injured"
          ],
          [
           "injured"
          ],
          [
           "injured"
          ],
          [
           "injured"
          ],
          [
           "injured"
          ],
          [
           "injured"
          ],
          [
           "injured"
          ],
          [
           "injured"
          ],
          [
           "injured"
          ],
          [
           "injured"
          ],
          [
           "injured"
          ],
          [
           "injured"
          ],
          [
           "injured"
          ],
          [
           "injured"
          ],
          [
           "injured"
          ],
          [
           "injured"
          ],
          [
           "injured"
          ],
          [
           "injured"
          ],
          [
           "injured"
          ],
          [
           "injured"
          ],
          [
           "injured"
          ],
          [
           "injured"
          ],
          [
           "injured"
          ],
          [
           "injured"
          ],
          [
           "injured"
          ],
          [
           "injured"
          ],
          [
           "injured"
          ],
          [
           "injured"
          ],
          [
           "injured"
          ],
          [
           "injured"
          ],
          [
           "injured"
          ],
          [
           "injured"
          ],
          [
           "injured"
          ],
          [
           "injured"
          ],
          [
           "injured"
          ],
          [
           "injured"
          ],
          [
           "injured"
          ],
          [
           "injured"
          ],
          [
           "injured"
          ],
          [
           "injured"
          ],
          [
           "injured"
          ],
          [
           "injured"
          ],
          [
           "injured"
          ],
          [
           "injured"
          ],
          [
           "injured"
          ],
          [
           "injured"
          ],
          [
           "injured"
          ],
          [
           "injured"
          ],
          [
           "injured"
          ],
          [
           "injured"
          ],
          [
           "injured"
          ],
          [
           "injured"
          ],
          [
           "injured"
          ],
          [
           "injured"
          ],
          [
           "injured"
          ],
          [
           "injured"
          ],
          [
           "injured"
          ],
          [
           "injured"
          ],
          [
           "injured"
          ],
          [
           "injured"
          ],
          [
           "injured"
          ],
          [
           "injured"
          ],
          [
           "injured"
          ],
          [
           "injured"
          ],
          [
           "injured"
          ],
          [
           "injured"
          ],
          [
           "injured"
          ],
          [
           "injured"
          ],
          [
           "injured"
          ],
          [
           "injured"
          ],
          [
           "injured"
          ],
          [
           "injured"
          ],
          [
           "injured"
          ],
          [
           "injured"
          ],
          [
           "injured"
          ],
          [
           "injured"
          ],
          [
           "injured"
          ],
          [
           "injured"
          ],
          [
           "injured"
          ],
          [
           "injured"
          ],
          [
           "injured"
          ],
          [
           "injured"
          ],
          [
           "injured"
          ],
          [
           "injured"
          ],
          [
           "injured"
          ],
          [
           "injured"
          ],
          [
           "injured"
          ],
          [
           "injured"
          ],
          [
           "injured"
          ],
          [
           "injured"
          ],
          [
           "injured"
          ],
          [
           "injured"
          ],
          [
           "injured"
          ],
          [
           "injured"
          ],
          [
           "injured"
          ],
          [
           "injured"
          ],
          [
           "injured"
          ],
          [
           "injured"
          ],
          [
           "injured"
          ],
          [
           "injured"
          ],
          [
           "injured"
          ],
          [
           "injured"
          ],
          [
           "injured"
          ],
          [
           "injured"
          ],
          [
           "injured"
          ],
          [
           "injured"
          ],
          [
           "injured"
          ],
          [
           "injured"
          ],
          [
           "injured"
          ],
          [
           "injured"
          ],
          [
           "injured"
          ],
          [
           "injured"
          ],
          [
           "injured"
          ],
          [
           "injured"
          ],
          [
           "injured"
          ],
          [
           "injured"
          ],
          [
           "injured"
          ],
          [
           "injured"
          ],
          [
           "injured"
          ],
          [
           "injured"
          ],
          [
           "injured"
          ],
          [
           "injured"
          ],
          [
           "injured"
          ],
          [
           "injured"
          ],
          [
           "injured"
          ],
          [
           "injured"
          ],
          [
           "injured"
          ],
          [
           "injured"
          ],
          [
           "injured"
          ],
          [
           "injured"
          ],
          [
           "injured"
          ],
          [
           "injured"
          ],
          [
           "injured"
          ],
          [
           "injured"
          ],
          [
           "injured"
          ],
          [
           "injured"
          ],
          [
           "injured"
          ],
          [
           "injured"
          ],
          [
           "injured"
          ],
          [
           "injured"
          ],
          [
           "injured"
          ],
          [
           "injured"
          ],
          [
           "injured"
          ],
          [
           "injured"
          ],
          [
           "injured"
          ],
          [
           "injured"
          ],
          [
           "injured"
          ],
          [
           "injured"
          ],
          [
           "injured"
          ],
          [
           "injured"
          ],
          [
           "injured"
          ],
          [
           "injured"
          ],
          [
           "injured"
          ],
          [
           "injured"
          ],
          [
           "injured"
          ],
          [
           "injured"
          ],
          [
           "injured"
          ],
          [
           "injured"
          ],
          [
           "injured"
          ],
          [
           "injured"
          ],
          [
           "injured"
          ],
          [
           "injured"
          ],
          [
           "injured"
          ],
          [
           "injured"
          ],
          [
           "injured"
          ],
          [
           "injured"
          ],
          [
           "injured"
          ],
          [
           "injured"
          ],
          [
           "injured"
          ],
          [
           "injured"
          ],
          [
           "injured"
          ],
          [
           "injured"
          ],
          [
           "injured"
          ],
          [
           "injured"
          ],
          [
           "injured"
          ],
          [
           "injured"
          ],
          [
           "injured"
          ],
          [
           "injured"
          ],
          [
           "injured"
          ],
          [
           "injured"
          ],
          [
           "injured"
          ],
          [
           "injured"
          ],
          [
           "injured"
          ],
          [
           "injured"
          ],
          [
           "injured"
          ],
          [
           "injured"
          ],
          [
           "injured"
          ],
          [
           "injured"
          ],
          [
           "injured"
          ],
          [
           "injured"
          ],
          [
           "injured"
          ],
          [
           "injured"
          ],
          [
           "injured"
          ],
          [
           "injured"
          ],
          [
           "injured"
          ],
          [
           "injured"
          ],
          [
           "injured"
          ],
          [
           "injured"
          ],
          [
           "injured"
          ],
          [
           "injured"
          ],
          [
           "injured"
          ],
          [
           "injured"
          ],
          [
           "injured"
          ],
          [
           "injured"
          ],
          [
           "injured"
          ],
          [
           "injured"
          ],
          [
           "injured"
          ],
          [
           "injured"
          ],
          [
           "injured"
          ],
          [
           "injured"
          ],
          [
           "injured"
          ],
          [
           "injured"
          ],
          [
           "injured"
          ],
          [
           "injured"
          ],
          [
           "injured"
          ],
          [
           "injured"
          ],
          [
           "injured"
          ],
          [
           "injured"
          ],
          [
           "injured"
          ],
          [
           "injured"
          ],
          [
           "injured"
          ],
          [
           "injured"
          ],
          [
           "injured"
          ],
          [
           "injured"
          ],
          [
           "injured"
          ],
          [
           "injured"
          ],
          [
           "injured"
          ],
          [
           "injured"
          ],
          [
           "injured"
          ],
          [
           "injured"
          ],
          [
           "injured"
          ],
          [
           "injured"
          ],
          [
           "injured"
          ],
          [
           "injured"
          ],
          [
           "injured"
          ],
          [
           "injured"
          ],
          [
           "injured"
          ],
          [
           "injured"
          ],
          [
           "injured"
          ],
          [
           "injured"
          ],
          [
           "injured"
          ],
          [
           "injured"
          ],
          [
           "injured"
          ],
          [
           "injured"
          ],
          [
           "injured"
          ],
          [
           "injured"
          ],
          [
           "injured"
          ],
          [
           "injured"
          ],
          [
           "injured"
          ],
          [
           "injured"
          ],
          [
           "injured"
          ],
          [
           "injured"
          ],
          [
           "injured"
          ],
          [
           "injured"
          ],
          [
           "injured"
          ],
          [
           "injured"
          ],
          [
           "injured"
          ],
          [
           "injured"
          ],
          [
           "injured"
          ],
          [
           "injured"
          ],
          [
           "injured"
          ],
          [
           "injured"
          ],
          [
           "injured"
          ],
          [
           "injured"
          ],
          [
           "injured"
          ],
          [
           "injured"
          ],
          [
           "injured"
          ],
          [
           "injured"
          ],
          [
           "injured"
          ],
          [
           "injured"
          ],
          [
           "injured"
          ],
          [
           "injured"
          ],
          [
           "injured"
          ],
          [
           "injured"
          ],
          [
           "injured"
          ],
          [
           "injured"
          ],
          [
           "injured"
          ],
          [
           "injured"
          ],
          [
           "injured"
          ],
          [
           "injured"
          ],
          [
           "injured"
          ],
          [
           "injured"
          ],
          [
           "injured"
          ],
          [
           "injured"
          ],
          [
           "injured"
          ],
          [
           "injured"
          ],
          [
           "injured"
          ],
          [
           "injured"
          ],
          [
           "injured"
          ],
          [
           "injured"
          ],
          [
           "injured"
          ],
          [
           "injured"
          ],
          [
           "injured"
          ],
          [
           "injured"
          ],
          [
           "injured"
          ],
          [
           "injured"
          ],
          [
           "injured"
          ],
          [
           "injured"
          ],
          [
           "injured"
          ],
          [
           "injured"
          ],
          [
           "injured"
          ],
          [
           "injured"
          ],
          [
           "injured"
          ],
          [
           "injured"
          ],
          [
           "injured"
          ],
          [
           "injured"
          ],
          [
           "injured"
          ],
          [
           "injured"
          ],
          [
           "injured"
          ],
          [
           "injured"
          ],
          [
           "injured"
          ],
          [
           "injured"
          ],
          [
           "injured"
          ],
          [
           "injured"
          ],
          [
           "injured"
          ],
          [
           "injured"
          ],
          [
           "injured"
          ],
          [
           "injured"
          ],
          [
           "injured"
          ],
          [
           "injured"
          ],
          [
           "injured"
          ],
          [
           "injured"
          ],
          [
           "injured"
          ],
          [
           "injured"
          ],
          [
           "injured"
          ],
          [
           "injured"
          ],
          [
           "injured"
          ],
          [
           "injured"
          ],
          [
           "injured"
          ],
          [
           "injured"
          ],
          [
           "injured"
          ],
          [
           "injured"
          ],
          [
           "injured"
          ],
          [
           "injured"
          ],
          [
           "injured"
          ],
          [
           "injured"
          ],
          [
           "injured"
          ],
          [
           "injured"
          ],
          [
           "injured"
          ],
          [
           "injured"
          ],
          [
           "injured"
          ],
          [
           "injured"
          ],
          [
           "injured"
          ],
          [
           "injured"
          ],
          [
           "injured"
          ],
          [
           "injured"
          ],
          [
           "injured"
          ],
          [
           "injured"
          ],
          [
           "injured"
          ],
          [
           "injured"
          ],
          [
           "injured"
          ],
          [
           "injured"
          ],
          [
           "injured"
          ],
          [
           "injured"
          ],
          [
           "injured"
          ],
          [
           "injured"
          ],
          [
           "injured"
          ],
          [
           "injured"
          ],
          [
           "injured"
          ],
          [
           "injured"
          ],
          [
           "injured"
          ],
          [
           "injured"
          ],
          [
           "injured"
          ],
          [
           "injured"
          ],
          [
           "injured"
          ],
          [
           "injured"
          ],
          [
           "injured"
          ],
          [
           "injured"
          ],
          [
           "injured"
          ],
          [
           "injured"
          ],
          [
           "injured"
          ],
          [
           "injured"
          ],
          [
           "injured"
          ],
          [
           "injured"
          ],
          [
           "injured"
          ],
          [
           "injured"
          ],
          [
           "injured"
          ],
          [
           "injured"
          ],
          [
           "injured"
          ],
          [
           "injured"
          ],
          [
           "injured"
          ],
          [
           "injured"
          ],
          [
           "injured"
          ],
          [
           "injured"
          ],
          [
           "injured"
          ],
          [
           "injured"
          ],
          [
           "injured"
          ],
          [
           "injured"
          ],
          [
           "injured"
          ],
          [
           "injured"
          ],
          [
           "injured"
          ],
          [
           "injured"
          ],
          [
           "injured"
          ],
          [
           "injured"
          ],
          [
           "injured"
          ],
          [
           "injured"
          ],
          [
           "injured"
          ],
          [
           "injured"
          ],
          [
           "injured"
          ],
          [
           "injured"
          ],
          [
           "injured"
          ],
          [
           "injured"
          ],
          [
           "injured"
          ],
          [
           "injured"
          ],
          [
           "injured"
          ],
          [
           "injured"
          ],
          [
           "injured"
          ],
          [
           "injured"
          ],
          [
           "injured"
          ],
          [
           "injured"
          ],
          [
           "injured"
          ],
          [
           "injured"
          ],
          [
           "injured"
          ],
          [
           "injured"
          ],
          [
           "injured"
          ],
          [
           "injured"
          ],
          [
           "injured"
          ],
          [
           "injured"
          ],
          [
           "injured"
          ],
          [
           "injured"
          ],
          [
           "injured"
          ],
          [
           "injured"
          ],
          [
           "injured"
          ],
          [
           "injured"
          ],
          [
           "injured"
          ],
          [
           "injured"
          ],
          [
           "injured"
          ],
          [
           "injured"
          ]
         ],
         "hovertemplate": "Victim Injury=%{customdata[0]}<br>Shark Behavior=%{x}<br>Number of Sharks=%{y}<extra></extra>",
         "legendgroup": "injured",
         "marker": {
          "color": "#636efa",
          "symbol": "circle"
         },
         "mode": "markers",
         "name": "injured",
         "showlegend": true,
         "type": "scattergl",
         "x": [
          "approached_victim",
          "direct_attack",
          "direct_attack",
          "direct_attack",
          "direct_attack",
          "direct_attack",
          "direct_attack",
          "unknown",
          "direct_attack",
          "direct_attack",
          "direct_attack",
          "unknown",
          "direct_attack",
          "approached_victim",
          "direct_attack",
          "direct_attack",
          "direct_attack",
          "direct_attack",
          "direct_attack",
          "direct_attack",
          "direct_attack",
          "direct_attack",
          "direct_attack",
          "direct_attack",
          "direct_attack",
          "direct_attack",
          "direct_attack",
          "unknown",
          "direct_attack",
          "direct_attack",
          "direct_attack",
          "direct_attack",
          "direct_attack",
          "unknown",
          "direct_attack",
          "direct_attack",
          "direct_attack",
          "direct_attack",
          "direct_attack",
          "direct_attack",
          "direct_attack",
          "direct_attack",
          "direct_attack",
          "direct_attack",
          "direct_attack",
          "direct_attack",
          "direct_attack",
          "approached_victim",
          "direct_attack",
          "direct_attack",
          "approached_victim",
          "direct_attack",
          "direct_attack",
          "direct_attack",
          "direct_attack",
          "unknown",
          "direct_attack",
          "direct_attack",
          "direct_attack",
          "direct_attack",
          "direct_attack",
          "direct_attack",
          "direct_attack",
          "direct_attack",
          "direct_attack",
          "approached_victim",
          "direct_attack",
          "direct_attack",
          "direct_attack",
          "direct_attack",
          "direct_attack",
          "direct_attack",
          "direct_attack",
          "direct_attack",
          "direct_attack",
          "direct_attack",
          "direct_attack",
          "direct_attack",
          "direct_attack",
          "direct_attack",
          "direct_attack",
          "direct_attack",
          "direct_attack",
          "direct_attack",
          "direct_attack",
          "direct_attack",
          "direct_attack",
          "direct_attack",
          "direct_attack",
          "direct_attack",
          "direct_attack",
          "direct_attack",
          "direct_attack",
          "direct_attack",
          "direct_attack",
          "direct_attack",
          "direct_attack",
          "direct_attack",
          "direct_attack",
          "direct_attack",
          "direct_attack",
          "direct_attack",
          "direct_attack",
          "direct_attack",
          "direct_attack",
          "direct_attack",
          "direct_attack",
          "direct_attack",
          "direct_attack",
          "direct_attack",
          "direct_attack",
          "direct_attack",
          "direct_attack",
          "unknown",
          "direct_attack",
          "direct_attack",
          "direct_attack",
          "direct_attack",
          "direct_attack",
          "direct_attack",
          "direct_attack",
          "direct_attack",
          "direct_attack",
          "direct_attack",
          "direct_attack",
          "direct_attack",
          "direct_attack",
          "direct_attack",
          "unknown",
          "direct_attack",
          "direct_attack",
          "direct_attack",
          "direct_attack",
          "direct_attack",
          "unknown",
          "direct_attack",
          "direct_attack",
          "direct_attack",
          "contact_made",
          "direct_attack",
          "direct_attack",
          "unknown",
          "unknown",
          "direct_attack",
          "direct_attack",
          "direct_attack",
          "direct_attack",
          "direct_attack",
          "direct_attack",
          "approached_victim",
          "unknown",
          "direct_attack",
          "direct_attack",
          "direct_attack",
          "direct_attack",
          "direct_attack",
          "direct_attack",
          "approached_victim",
          "unknown",
          "direct_attack",
          "direct_attack",
          "direct_attack",
          "direct_attack",
          "direct_attack",
          "direct_attack",
          "direct_attack",
          "direct_attack",
          "direct_attack",
          "direct_attack",
          "direct_attack",
          "direct_attack",
          "approached_victim",
          "direct_attack",
          "direct_attack",
          "direct_attack",
          "direct_attack",
          "direct_attack",
          "direct_attack",
          "direct_attack",
          "direct_attack",
          "direct_attack",
          "contact_made",
          "direct_attack",
          "direct_attack",
          "direct_attack",
          "direct_attack",
          "direct_attack",
          "direct_attack",
          "direct_attack",
          "direct_attack",
          "direct_attack",
          "direct_attack",
          "direct_attack",
          "direct_attack",
          "direct_attack",
          "direct_attack",
          "direct_attack",
          "direct_attack",
          "direct_attack",
          "direct_attack",
          "unknown",
          "direct_attack",
          "direct_attack",
          "direct_attack",
          "direct_attack",
          "direct_attack",
          "direct_attack",
          "direct_attack",
          "approached_victim",
          "direct_attack",
          "unknown",
          "direct_attack",
          "approached_victim",
          "direct_attack",
          "direct_attack",
          "direct_attack",
          "unknown",
          "approached_victim",
          "direct_attack",
          "direct_attack",
          "direct_attack",
          "direct_attack",
          "direct_attack",
          "approached_victim",
          "contact_made",
          "direct_attack",
          "direct_attack",
          "approached_victim",
          "direct_attack",
          "direct_attack",
          "approached_victim",
          "direct_attack",
          "unknown",
          "direct_attack",
          "direct_attack",
          "direct_attack",
          "direct_attack",
          "direct_attack",
          "direct_attack",
          "direct_attack",
          "unknown",
          "direct_attack",
          "direct_attack",
          "approached_victim",
          "direct_attack",
          "direct_attack",
          "direct_attack",
          "direct_attack",
          "direct_attack",
          "direct_attack",
          "direct_attack",
          "direct_attack",
          "approached_victim",
          "direct_attack",
          "direct_attack",
          "unknown",
          "direct_attack",
          "direct_attack",
          "direct_attack",
          "direct_attack",
          "direct_attack",
          "direct_attack",
          "direct_attack",
          "direct_attack",
          "direct_attack",
          "direct_attack",
          "direct_attack",
          "contact_made",
          "direct_attack",
          "direct_attack",
          "direct_attack",
          "direct_attack",
          "direct_attack",
          "unknown",
          "direct_attack",
          "direct_attack",
          "direct_attack",
          "direct_attack",
          "unknown",
          "direct_attack",
          "direct_attack",
          "direct_attack",
          "direct_attack",
          "direct_attack",
          "unknown",
          "direct_attack",
          "direct_attack",
          "direct_attack",
          "unknown",
          "direct_attack",
          "direct_attack",
          "unknown",
          "unknown",
          "direct_attack",
          "direct_attack",
          "unknown",
          "direct_attack",
          "direct_attack",
          "direct_attack",
          "direct_attack",
          "unknown",
          "direct_attack",
          "unknown",
          "direct_attack",
          "direct_attack",
          "direct_attack",
          "direct_attack",
          "direct_attack",
          "direct_attack",
          "direct_attack",
          "direct_attack",
          "approached_victim",
          "unknown",
          "direct_attack",
          "direct_attack",
          "approached_victim",
          "direct_attack",
          "direct_attack",
          "direct_attack",
          "unknown",
          "unknown",
          "direct_attack",
          "direct_attack",
          "direct_attack",
          "direct_attack",
          "direct_attack",
          "direct_attack",
          "unknown",
          "direct_attack",
          "direct_attack",
          "direct_attack",
          "direct_attack",
          "direct_attack",
          "direct_attack",
          "direct_attack",
          "approached_victim",
          "direct_attack",
          "direct_attack",
          "approached_victim",
          "direct_attack",
          "direct_attack",
          "direct_attack",
          "direct_attack",
          "direct_attack",
          "unknown",
          "contact_made",
          "direct_attack",
          "direct_attack",
          "contact_made",
          "direct_attack",
          "direct_attack",
          "direct_attack",
          "direct_attack",
          "direct_attack",
          "direct_attack",
          "direct_attack",
          "direct_attack",
          "direct_attack",
          "direct_attack",
          "direct_attack",
          "direct_attack",
          "direct_attack",
          "direct_attack",
          "direct_attack",
          "contact_made",
          "direct_attack",
          "direct_attack",
          "direct_attack",
          "direct_attack",
          "direct_attack",
          "direct_attack",
          "direct_attack",
          "direct_attack",
          "direct_attack",
          "direct_attack",
          "direct_attack",
          "direct_attack",
          "direct_attack",
          "direct_attack",
          "direct_attack",
          "direct_attack",
          "direct_attack",
          "unknown",
          "direct_attack",
          "direct_attack",
          "direct_attack",
          "direct_attack",
          "unknown",
          "direct_attack",
          "direct_attack",
          "direct_attack",
          "contact_made",
          "direct_attack",
          "direct_attack",
          "direct_attack",
          "direct_attack",
          "direct_attack",
          "direct_attack",
          "direct_attack",
          "direct_attack",
          "direct_attack",
          "unknown",
          "direct_attack",
          "direct_attack",
          "direct_attack",
          "direct_attack",
          "direct_attack",
          "direct_attack",
          "direct_attack",
          "direct_attack",
          "direct_attack",
          "direct_attack",
          "direct_attack",
          "direct_attack",
          "direct_attack",
          "direct_attack",
          "direct_attack",
          "direct_attack",
          "direct_attack",
          "direct_attack",
          "direct_attack",
          "direct_attack",
          "direct_attack",
          "approached_victim",
          "direct_attack",
          "direct_attack",
          "direct_attack",
          "direct_attack",
          "direct_attack",
          "direct_attack",
          "direct_attack",
          "direct_attack",
          "direct_attack",
          "direct_attack",
          "direct_attack",
          "contact_made",
          "direct_attack",
          "direct_attack",
          "approached_victim",
          "direct_attack",
          "direct_attack",
          "direct_attack",
          "direct_attack",
          "direct_attack",
          "direct_attack",
          "direct_attack",
          "contact_made",
          "approached_victim",
          "direct_attack",
          "direct_attack",
          "direct_attack",
          "direct_attack",
          "unknown",
          "direct_attack",
          "direct_attack",
          "direct_attack",
          "direct_attack",
          "direct_attack",
          "unknown",
          "direct_attack",
          "direct_attack",
          "direct_attack",
          "direct_attack",
          "direct_attack",
          "direct_attack",
          "direct_attack",
          "direct_attack",
          "direct_attack",
          "direct_attack",
          "direct_attack",
          "direct_attack",
          "direct_attack",
          "direct_attack",
          "direct_attack",
          "direct_attack",
          "direct_attack",
          "direct_attack",
          "direct_attack",
          "direct_attack",
          "direct_attack",
          "direct_attack",
          "direct_attack",
          "direct_attack",
          "direct_attack",
          "direct_attack",
          "direct_attack",
          "direct_attack",
          "direct_attack",
          "direct_attack",
          "direct_attack",
          "direct_attack",
          "direct_attack",
          "direct_attack",
          "contact_made",
          "direct_attack",
          "direct_attack",
          "direct_attack",
          "direct_attack",
          "direct_attack",
          "direct_attack",
          "direct_attack",
          "direct_attack",
          "direct_attack",
          "direct_attack",
          "direct_attack",
          "direct_attack",
          "direct_attack",
          "direct_attack",
          "direct_attack",
          "direct_attack",
          "contact_made",
          "direct_attack",
          "direct_attack",
          "direct_attack",
          "direct_attack",
          "direct_attack",
          "direct_attack",
          "direct_attack",
          "direct_attack",
          "direct_attack",
          "direct_attack",
          "contact_made",
          "direct_attack",
          "direct_attack",
          "direct_attack",
          "contact_made",
          "direct_attack",
          "direct_attack",
          "direct_attack",
          "direct_attack",
          "direct_attack",
          "direct_attack",
          "direct_attack",
          "direct_attack",
          "direct_attack",
          "direct_attack",
          "direct_attack",
          "direct_attack",
          "direct_attack",
          "direct_attack",
          "direct_attack",
          "direct_attack",
          "direct_attack",
          "direct_attack",
          "direct_attack",
          "direct_attack",
          "direct_attack",
          "direct_attack",
          "direct_attack",
          "direct_attack",
          "direct_attack",
          "direct_attack",
          "contact_made",
          "direct_attack",
          "direct_attack",
          "direct_attack",
          "direct_attack",
          "direct_attack",
          "direct_attack",
          "direct_attack",
          "direct_attack",
          "direct_attack",
          "direct_attack",
          "direct_attack",
          "direct_attack",
          "direct_attack",
          "direct_attack",
          "direct_attack",
          "direct_attack",
          "direct_attack",
          "direct_attack",
          "direct_attack",
          "direct_attack",
          "direct_attack",
          "direct_attack",
          "direct_attack",
          "direct_attack",
          "direct_attack",
          "direct_attack",
          "direct_attack",
          "direct_attack",
          "approached_victim",
          "direct_attack",
          "direct_attack",
          "approached_victim",
          "direct_attack",
          "unknown",
          "direct_attack",
          "direct_attack",
          "direct_attack",
          "direct_attack",
          "direct_attack",
          "direct_attack",
          "direct_attack",
          "direct_attack",
          "direct_attack",
          "unknown",
          "unknown",
          "contact_made",
          "unknown",
          "direct_attack",
          "unknown",
          "unknown",
          "direct_attack",
          "unknown",
          "unknown",
          "direct_attack",
          "unknown",
          "unknown",
          "unknown",
          "unknown",
          "unknown",
          "unknown",
          "direct_attack",
          "direct_attack",
          "unknown",
          "unknown",
          "direct_attack",
          "unknown",
          "unknown",
          "unknown",
          "unknown",
          "direct_attack",
          "direct_attack",
          "direct_attack",
          "unknown",
          "unknown",
          "unknown",
          "direct_attack",
          "unknown",
          "unknown",
          "unknown",
          "direct_attack",
          "unknown",
          "unknown",
          "unknown",
          "unknown",
          "direct_attack",
          "direct_attack",
          "unknown",
          "direct_attack",
          "direct_attack",
          "unknown",
          "unknown",
          "contact_made",
          "unknown",
          "unknown",
          "unseen",
          "unknown",
          "unknown",
          "unknown",
          "unknown",
          "unknown",
          "unknown",
          "unknown",
          "direct_attack",
          "unknown",
          "unknown",
          "unknown",
          "unknown",
          "unknown",
          "unknown",
          "unknown",
          "unknown",
          "unknown",
          "unknown",
          "unknown",
          "unknown",
          "unknown",
          "unknown",
          "unknown",
          "unknown",
          "unknown",
          "unknown",
          "unknown",
          "unknown",
          "unknown",
          "unknown",
          "unknown",
          "unknown",
          "unknown",
          "unknown",
          "unknown",
          "unknown",
          "unknown",
          "unknown",
          "unknown",
          "unknown",
          "unknown",
          "unknown",
          "unknown"
         ],
         "xaxis": "x",
         "y": [
          1,
          1,
          1,
          1,
          1,
          1,
          1,
          1,
          1,
          1,
          1,
          1,
          1,
          1,
          1,
          1,
          1,
          1,
          1,
          1,
          1,
          1,
          1,
          1,
          1,
          1,
          1,
          1,
          1,
          1,
          1,
          1,
          1,
          1,
          1,
          1,
          1,
          1,
          1,
          1,
          1,
          1,
          1,
          1,
          1,
          1,
          1,
          1,
          1,
          1,
          1,
          1,
          1,
          1,
          1,
          1,
          1,
          1,
          1,
          1,
          1,
          1,
          1,
          1,
          1,
          1,
          1,
          1,
          1,
          1,
          1,
          1,
          1,
          1,
          1,
          1,
          1,
          1,
          1,
          1,
          1,
          1,
          1,
          1,
          1,
          1,
          1,
          1,
          1,
          1,
          1,
          1,
          1,
          1,
          1,
          1,
          1,
          1,
          1,
          1,
          1,
          1,
          1,
          1,
          1,
          1,
          1,
          1,
          1,
          1,
          1,
          1,
          1,
          1,
          1,
          1,
          1,
          1,
          1,
          1,
          1,
          1,
          1,
          1,
          1,
          1,
          1,
          1,
          1,
          1,
          1,
          1,
          1,
          1,
          1,
          1,
          1,
          1,
          1,
          1,
          1,
          1,
          1,
          1,
          1,
          1,
          1,
          1,
          1,
          1,
          1,
          1,
          1,
          1,
          2,
          1,
          1,
          1,
          1,
          1,
          1,
          1,
          1,
          1,
          1,
          1,
          1,
          1,
          1,
          1,
          1,
          1,
          1,
          1,
          1,
          1,
          1,
          1,
          1,
          1,
          1,
          1,
          1,
          1,
          1,
          1,
          1,
          1,
          1,
          1,
          1,
          1,
          1,
          1,
          1,
          1,
          1,
          1,
          1,
          1,
          1,
          1,
          1,
          1,
          1,
          1,
          1,
          1,
          1,
          2,
          1,
          1,
          1,
          1,
          1,
          1,
          1,
          1,
          1,
          1,
          1,
          1,
          1,
          1,
          1,
          1,
          1,
          1,
          1,
          1,
          1,
          1,
          1,
          1,
          1,
          1,
          1,
          1,
          1,
          1,
          1,
          1,
          1,
          1,
          1,
          1,
          1,
          1,
          1,
          1,
          1,
          1,
          1,
          1,
          1,
          1,
          1,
          1,
          1,
          1,
          1,
          1,
          1,
          1,
          1,
          1,
          1,
          1,
          1,
          1,
          1,
          1,
          1,
          1,
          1,
          1,
          1,
          1,
          1,
          1,
          1,
          1,
          1,
          1,
          1,
          1,
          1,
          1,
          1,
          3,
          1,
          1,
          1,
          1,
          1,
          1,
          1,
          1,
          1,
          1,
          1,
          1,
          1,
          1,
          1,
          1,
          1,
          1,
          1,
          1,
          1,
          1,
          1,
          1,
          1,
          1,
          1,
          1,
          1,
          1,
          1,
          1,
          1,
          1,
          1,
          1,
          1,
          1,
          1,
          1,
          1,
          1,
          1,
          1,
          1,
          1,
          1,
          1,
          1,
          1,
          1,
          1,
          1,
          1,
          1,
          1,
          1,
          1,
          1,
          1,
          1,
          1,
          1,
          1,
          1,
          1,
          1,
          1,
          1,
          1,
          1,
          1,
          1,
          1,
          1,
          1,
          1,
          1,
          1,
          1,
          1,
          1,
          1,
          1,
          1,
          1,
          1,
          1,
          1,
          1,
          1,
          1,
          1,
          1,
          1,
          1,
          1,
          1,
          1,
          1,
          1,
          1,
          1,
          1,
          1,
          1,
          1,
          1,
          1,
          1,
          1,
          1,
          1,
          1,
          1,
          1,
          1,
          1,
          1,
          1,
          1,
          1,
          1,
          1,
          1,
          1,
          1,
          1,
          1,
          1,
          1,
          1,
          1,
          1,
          1,
          1,
          1,
          1,
          1,
          1,
          1,
          1,
          1,
          1,
          1,
          1,
          1,
          1,
          1,
          1,
          1,
          1,
          2,
          1,
          1,
          1,
          1,
          2,
          1,
          1,
          1,
          1,
          1,
          1,
          1,
          1,
          1,
          1,
          1,
          1,
          1,
          1,
          1,
          1,
          1,
          1,
          1,
          1,
          1,
          1,
          1,
          1,
          1,
          1,
          1,
          10,
          1,
          1,
          1,
          1,
          1,
          1,
          1,
          1,
          1,
          1,
          1,
          1,
          1,
          1,
          1,
          1,
          1,
          1,
          1,
          1,
          1,
          1,
          1,
          1,
          1,
          1,
          1,
          1,
          1,
          1,
          1,
          1,
          1,
          1,
          1,
          1,
          1,
          1,
          1,
          1,
          1,
          1,
          1,
          1,
          1,
          1,
          1,
          1,
          1,
          1,
          1,
          1,
          1,
          1,
          1,
          1,
          1,
          1,
          1,
          1,
          1,
          1,
          1,
          1,
          1,
          1,
          1,
          1,
          1,
          1,
          1,
          1,
          1,
          1,
          1,
          1,
          1,
          1,
          1,
          1,
          1,
          1,
          1,
          1,
          1,
          1,
          1,
          1,
          1,
          1,
          1,
          1,
          1,
          1,
          1,
          1,
          1,
          1,
          1,
          1,
          1,
          1,
          1,
          1,
          1,
          1,
          1,
          1,
          1,
          1,
          1,
          1,
          1,
          1,
          1,
          1,
          1,
          1,
          1,
          1,
          1,
          1,
          1,
          1,
          1,
          1,
          1,
          1,
          1,
          1,
          1,
          1,
          1,
          1,
          1,
          1,
          1,
          1,
          1,
          1,
          1,
          1,
          1,
          1,
          1,
          1,
          1,
          1,
          1,
          1,
          2,
          1,
          1,
          1,
          1,
          1,
          1,
          1,
          1,
          1,
          1,
          1,
          1,
          1,
          1,
          1,
          1,
          1,
          1,
          1,
          1,
          1,
          1,
          1,
          1,
          1,
          1,
          1,
          1,
          1,
          1,
          1,
          1,
          1,
          1,
          1,
          1,
          1,
          1,
          1,
          1,
          1,
          1,
          1,
          1,
          1,
          1,
          1,
          1,
          1,
          1,
          1,
          1,
          1,
          1,
          1,
          1,
          1,
          1,
          1,
          1,
          1,
          1,
          1,
          1
         ],
         "yaxis": "y"
        },
        {
         "customdata": [
          [
           "fatal"
          ],
          [
           "fatal"
          ],
          [
           "fatal"
          ],
          [
           "fatal"
          ],
          [
           "fatal"
          ],
          [
           "fatal"
          ],
          [
           "fatal"
          ],
          [
           "fatal"
          ],
          [
           "fatal"
          ],
          [
           "fatal"
          ],
          [
           "fatal"
          ],
          [
           "fatal"
          ],
          [
           "fatal"
          ],
          [
           "fatal"
          ],
          [
           "fatal"
          ],
          [
           "fatal"
          ],
          [
           "fatal"
          ],
          [
           "fatal"
          ],
          [
           "fatal"
          ],
          [
           "fatal"
          ],
          [
           "fatal"
          ],
          [
           "fatal"
          ],
          [
           "fatal"
          ],
          [
           "fatal"
          ],
          [
           "fatal"
          ],
          [
           "fatal"
          ],
          [
           "fatal"
          ],
          [
           "fatal"
          ],
          [
           "fatal"
          ],
          [
           "fatal"
          ],
          [
           "fatal"
          ],
          [
           "fatal"
          ],
          [
           "fatal"
          ],
          [
           "fatal"
          ],
          [
           "fatal"
          ],
          [
           "fatal"
          ],
          [
           "fatal"
          ],
          [
           "fatal"
          ],
          [
           "fatal"
          ],
          [
           "fatal"
          ],
          [
           "fatal"
          ],
          [
           "fatal"
          ],
          [
           "fatal"
          ],
          [
           "fatal"
          ],
          [
           "fatal"
          ],
          [
           "fatal"
          ],
          [
           "fatal"
          ],
          [
           "fatal"
          ],
          [
           "fatal"
          ],
          [
           "fatal"
          ],
          [
           "fatal"
          ],
          [
           "fatal"
          ],
          [
           "fatal"
          ],
          [
           "fatal"
          ],
          [
           "fatal"
          ],
          [
           "fatal"
          ],
          [
           "fatal"
          ],
          [
           "fatal"
          ],
          [
           "fatal"
          ],
          [
           "fatal"
          ],
          [
           "fatal"
          ],
          [
           "fatal"
          ],
          [
           "fatal"
          ],
          [
           "fatal"
          ],
          [
           "fatal"
          ],
          [
           "fatal"
          ],
          [
           "fatal"
          ],
          [
           "fatal"
          ],
          [
           "fatal"
          ],
          [
           "fatal"
          ],
          [
           "fatal"
          ],
          [
           "fatal"
          ],
          [
           "fatal"
          ],
          [
           "fatal"
          ],
          [
           "fatal"
          ],
          [
           "fatal"
          ],
          [
           "fatal"
          ],
          [
           "fatal"
          ],
          [
           "fatal"
          ],
          [
           "fatal"
          ],
          [
           "fatal"
          ],
          [
           "fatal"
          ],
          [
           "fatal"
          ],
          [
           "fatal"
          ],
          [
           "fatal"
          ],
          [
           "fatal"
          ],
          [
           "fatal"
          ],
          [
           "fatal"
          ],
          [
           "fatal"
          ],
          [
           "fatal"
          ],
          [
           "fatal"
          ],
          [
           "fatal"
          ],
          [
           "fatal"
          ],
          [
           "fatal"
          ],
          [
           "fatal"
          ],
          [
           "fatal"
          ],
          [
           "fatal"
          ],
          [
           "fatal"
          ],
          [
           "fatal"
          ],
          [
           "fatal"
          ],
          [
           "fatal"
          ],
          [
           "fatal"
          ],
          [
           "fatal"
          ],
          [
           "fatal"
          ],
          [
           "fatal"
          ],
          [
           "fatal"
          ],
          [
           "fatal"
          ],
          [
           "fatal"
          ],
          [
           "fatal"
          ],
          [
           "fatal"
          ],
          [
           "fatal"
          ],
          [
           "fatal"
          ],
          [
           "fatal"
          ],
          [
           "fatal"
          ],
          [
           "fatal"
          ],
          [
           "fatal"
          ],
          [
           "fatal"
          ],
          [
           "fatal"
          ],
          [
           "fatal"
          ],
          [
           "fatal"
          ],
          [
           "fatal"
          ],
          [
           "fatal"
          ],
          [
           "fatal"
          ],
          [
           "fatal"
          ],
          [
           "fatal"
          ],
          [
           "fatal"
          ],
          [
           "fatal"
          ],
          [
           "fatal"
          ],
          [
           "fatal"
          ],
          [
           "fatal"
          ],
          [
           "fatal"
          ],
          [
           "fatal"
          ],
          [
           "fatal"
          ],
          [
           "fatal"
          ],
          [
           "fatal"
          ],
          [
           "fatal"
          ],
          [
           "fatal"
          ],
          [
           "fatal"
          ],
          [
           "fatal"
          ],
          [
           "fatal"
          ],
          [
           "fatal"
          ],
          [
           "fatal"
          ],
          [
           "fatal"
          ],
          [
           "fatal"
          ],
          [
           "fatal"
          ],
          [
           "fatal"
          ],
          [
           "fatal"
          ],
          [
           "fatal"
          ],
          [
           "fatal"
          ],
          [
           "fatal"
          ],
          [
           "fatal"
          ],
          [
           "fatal"
          ],
          [
           "fatal"
          ],
          [
           "fatal"
          ],
          [
           "fatal"
          ],
          [
           "fatal"
          ],
          [
           "fatal"
          ],
          [
           "fatal"
          ],
          [
           "fatal"
          ],
          [
           "fatal"
          ],
          [
           "fatal"
          ],
          [
           "fatal"
          ],
          [
           "fatal"
          ],
          [
           "fatal"
          ],
          [
           "fatal"
          ],
          [
           "fatal"
          ],
          [
           "fatal"
          ],
          [
           "fatal"
          ],
          [
           "fatal"
          ],
          [
           "fatal"
          ],
          [
           "fatal"
          ],
          [
           "fatal"
          ],
          [
           "fatal"
          ],
          [
           "fatal"
          ],
          [
           "fatal"
          ],
          [
           "fatal"
          ],
          [
           "fatal"
          ],
          [
           "fatal"
          ],
          [
           "fatal"
          ],
          [
           "fatal"
          ],
          [
           "fatal"
          ],
          [
           "fatal"
          ],
          [
           "fatal"
          ],
          [
           "fatal"
          ],
          [
           "fatal"
          ],
          [
           "fatal"
          ],
          [
           "fatal"
          ],
          [
           "fatal"
          ],
          [
           "fatal"
          ],
          [
           "fatal"
          ],
          [
           "fatal"
          ],
          [
           "fatal"
          ],
          [
           "fatal"
          ],
          [
           "fatal"
          ],
          [
           "fatal"
          ],
          [
           "fatal"
          ],
          [
           "fatal"
          ],
          [
           "fatal"
          ],
          [
           "fatal"
          ],
          [
           "fatal"
          ],
          [
           "fatal"
          ],
          [
           "fatal"
          ],
          [
           "fatal"
          ],
          [
           "fatal"
          ],
          [
           "fatal"
          ],
          [
           "fatal"
          ],
          [
           "fatal"
          ],
          [
           "fatal"
          ],
          [
           "fatal"
          ],
          [
           "fatal"
          ],
          [
           "fatal"
          ],
          [
           "fatal"
          ],
          [
           "fatal"
          ],
          [
           "fatal"
          ],
          [
           "fatal"
          ],
          [
           "fatal"
          ],
          [
           "fatal"
          ],
          [
           "fatal"
          ],
          [
           "fatal"
          ],
          [
           "fatal"
          ],
          [
           "fatal"
          ],
          [
           "fatal"
          ],
          [
           "fatal"
          ],
          [
           "fatal"
          ],
          [
           "fatal"
          ],
          [
           "fatal"
          ],
          [
           "fatal"
          ]
         ],
         "hovertemplate": "Victim Injury=%{customdata[0]}<br>Shark Behavior=%{x}<br>Number of Sharks=%{y}<extra></extra>",
         "legendgroup": "fatal",
         "marker": {
          "color": "#EF553B",
          "symbol": "circle"
         },
         "mode": "markers",
         "name": "fatal",
         "showlegend": true,
         "type": "scattergl",
         "x": [
          "direct_attack",
          "direct_attack",
          "direct_attack",
          "direct_attack",
          "direct_attack",
          "unknown",
          "direct_attack",
          "unknown",
          "direct_attack",
          "direct_attack",
          "direct_attack",
          "direct_attack",
          "direct_attack",
          "direct_attack",
          "direct_attack",
          "direct_attack",
          "direct_attack",
          "direct_attack",
          "direct_attack",
          "direct_attack",
          "unknown",
          "direct_attack",
          "direct_attack",
          "direct_attack",
          "direct_attack",
          "direct_attack",
          "direct_attack",
          "unknown",
          "direct_attack",
          "direct_attack",
          "direct_attack",
          "direct_attack",
          "direct_attack",
          "direct_attack",
          "direct_attack",
          "unknown",
          "direct_attack",
          "direct_attack",
          "direct_attack",
          "direct_attack",
          "direct_attack",
          "direct_attack",
          "direct_attack",
          "direct_attack",
          "direct_attack",
          "direct_attack",
          "direct_attack",
          "direct_attack",
          "direct_attack",
          "direct_attack",
          "direct_attack",
          "direct_attack",
          "direct_attack",
          "direct_attack",
          "direct_attack",
          "direct_attack",
          "direct_attack",
          "direct_attack",
          "unknown",
          "direct_attack",
          "direct_attack",
          "direct_attack",
          "direct_attack",
          "direct_attack",
          "direct_attack",
          "direct_attack",
          "direct_attack",
          "direct_attack",
          "direct_attack",
          "direct_attack",
          "direct_attack",
          "direct_attack",
          "contact_made",
          "direct_attack",
          "direct_attack",
          "direct_attack",
          "direct_attack",
          "direct_attack",
          "direct_attack",
          "direct_attack",
          "direct_attack",
          "direct_attack",
          "unknown",
          "direct_attack",
          "direct_attack",
          "direct_attack",
          "direct_attack",
          "direct_attack",
          "direct_attack",
          "direct_attack",
          "direct_attack",
          "direct_attack",
          "direct_attack",
          "direct_attack",
          "direct_attack",
          "direct_attack",
          "direct_attack",
          "direct_attack",
          "direct_attack",
          "direct_attack",
          "direct_attack",
          "direct_attack",
          "direct_attack",
          "unknown",
          "direct_attack",
          "unknown",
          "direct_attack",
          "direct_attack",
          "direct_attack",
          "direct_attack",
          "direct_attack",
          "direct_attack",
          "direct_attack",
          "direct_attack",
          "unknown",
          "direct_attack",
          "direct_attack",
          "direct_attack",
          "direct_attack",
          "direct_attack",
          "direct_attack",
          "direct_attack",
          "direct_attack",
          "direct_attack",
          "direct_attack",
          "direct_attack",
          "direct_attack",
          "direct_attack",
          "direct_attack",
          "direct_attack",
          "direct_attack",
          "direct_attack",
          "direct_attack",
          "direct_attack",
          "direct_attack",
          "direct_attack",
          "direct_attack",
          "direct_attack",
          "direct_attack",
          "direct_attack",
          "unknown",
          "direct_attack",
          "unknown",
          "direct_attack",
          "direct_attack",
          "direct_attack",
          "direct_attack",
          "direct_attack",
          "direct_attack",
          "direct_attack",
          "direct_attack",
          "direct_attack",
          "direct_attack",
          "direct_attack",
          "direct_attack",
          "direct_attack",
          "direct_attack",
          "direct_attack",
          "direct_attack",
          "unknown",
          "direct_attack",
          "unknown",
          "direct_attack",
          "approached_victim",
          "direct_attack",
          "direct_attack",
          "unknown",
          "unknown",
          "approached_victim",
          "unknown",
          "direct_attack",
          "direct_attack",
          "direct_attack",
          "direct_attack",
          "direct_attack",
          "direct_attack",
          "unknown",
          "direct_attack",
          "unknown",
          "direct_attack",
          "direct_attack",
          "direct_attack",
          "direct_attack",
          "unknown",
          "direct_attack",
          "direct_attack",
          "unknown",
          "direct_attack",
          "direct_attack",
          "direct_attack",
          "unknown",
          "direct_attack",
          "direct_attack",
          "direct_attack",
          "direct_attack",
          "direct_attack",
          "unknown",
          "unknown",
          "direct_attack",
          "direct_attack",
          "direct_attack",
          "direct_attack",
          "direct_attack",
          "direct_attack",
          "direct_attack",
          "direct_attack",
          "direct_attack",
          "direct_attack",
          "direct_attack",
          "direct_attack",
          "unknown",
          "direct_attack",
          "unknown",
          "unknown",
          "direct_attack",
          "unknown",
          "unknown",
          "unknown",
          "unknown",
          "unknown",
          "unknown",
          "unknown",
          "unknown",
          "unknown",
          "unknown",
          "approached_victim",
          "unknown"
         ],
         "xaxis": "x",
         "y": [
          1,
          1,
          1,
          1,
          1,
          1,
          1,
          1,
          1,
          1,
          1,
          1,
          1,
          1,
          1,
          1,
          2,
          1,
          1,
          1,
          1,
          1,
          1,
          1,
          1,
          1,
          1,
          1,
          1,
          1,
          2,
          1,
          1,
          1,
          1,
          1,
          1,
          4,
          3,
          1,
          1,
          1,
          1,
          1,
          1,
          1,
          1,
          1,
          1,
          1,
          1,
          1,
          1,
          1,
          1,
          1,
          1,
          1,
          1,
          1,
          1,
          1,
          1,
          1,
          1,
          1,
          1,
          1,
          1,
          1,
          1,
          4,
          1,
          1,
          1,
          1,
          1,
          3,
          1,
          1,
          1,
          1,
          1,
          1,
          1,
          1,
          1,
          1,
          1,
          1,
          1,
          1,
          1,
          1,
          1,
          1,
          1,
          3,
          1,
          1,
          1,
          1,
          1,
          1,
          1,
          1,
          1,
          1,
          1,
          1,
          1,
          1,
          1,
          1,
          1,
          1,
          1,
          1,
          1,
          1,
          1,
          1,
          1,
          1,
          1,
          1,
          1,
          1,
          1,
          1,
          1,
          1,
          1,
          1,
          1,
          1,
          1,
          1,
          1,
          1,
          1,
          1,
          1,
          1,
          1,
          1,
          1,
          1,
          1,
          1,
          1,
          1,
          1,
          1,
          1,
          1,
          1,
          1,
          1,
          1,
          1,
          1,
          1,
          1,
          1,
          1,
          1,
          1,
          3,
          2,
          1,
          1,
          1,
          1,
          1,
          1,
          1,
          1,
          1,
          1,
          1,
          1,
          1,
          1,
          1,
          2,
          1,
          1,
          1,
          1,
          1,
          1,
          1,
          1,
          2,
          1,
          1,
          1,
          1,
          1,
          1,
          1,
          1,
          1,
          1,
          1,
          1,
          1,
          1,
          1,
          1,
          1,
          1,
          1,
          1,
          1,
          1,
          1,
          1,
          1,
          1,
          1,
          1,
          1,
          1,
          1,
          1
         ],
         "yaxis": "y"
        },
        {
         "customdata": [
          [
           "uninjured"
          ],
          [
           "uninjured"
          ],
          [
           "uninjured"
          ],
          [
           "uninjured"
          ],
          [
           "uninjured"
          ],
          [
           "uninjured"
          ],
          [
           "uninjured"
          ],
          [
           "uninjured"
          ],
          [
           "uninjured"
          ],
          [
           "uninjured"
          ],
          [
           "uninjured"
          ],
          [
           "uninjured"
          ],
          [
           "uninjured"
          ],
          [
           "uninjured"
          ],
          [
           "uninjured"
          ],
          [
           "uninjured"
          ],
          [
           "uninjured"
          ],
          [
           "uninjured"
          ],
          [
           "uninjured"
          ],
          [
           "uninjured"
          ],
          [
           "uninjured"
          ],
          [
           "uninjured"
          ],
          [
           "uninjured"
          ],
          [
           "uninjured"
          ],
          [
           "uninjured"
          ],
          [
           "uninjured"
          ],
          [
           "uninjured"
          ],
          [
           "uninjured"
          ],
          [
           "uninjured"
          ],
          [
           "uninjured"
          ],
          [
           "uninjured"
          ],
          [
           "uninjured"
          ],
          [
           "uninjured"
          ],
          [
           "uninjured"
          ],
          [
           "uninjured"
          ],
          [
           "uninjured"
          ],
          [
           "uninjured"
          ],
          [
           "uninjured"
          ],
          [
           "uninjured"
          ],
          [
           "uninjured"
          ],
          [
           "uninjured"
          ],
          [
           "uninjured"
          ],
          [
           "uninjured"
          ],
          [
           "uninjured"
          ],
          [
           "uninjured"
          ],
          [
           "uninjured"
          ],
          [
           "uninjured"
          ],
          [
           "uninjured"
          ],
          [
           "uninjured"
          ],
          [
           "uninjured"
          ],
          [
           "uninjured"
          ],
          [
           "uninjured"
          ],
          [
           "uninjured"
          ],
          [
           "uninjured"
          ],
          [
           "uninjured"
          ],
          [
           "uninjured"
          ],
          [
           "uninjured"
          ],
          [
           "uninjured"
          ],
          [
           "uninjured"
          ],
          [
           "uninjured"
          ],
          [
           "uninjured"
          ],
          [
           "uninjured"
          ],
          [
           "uninjured"
          ],
          [
           "uninjured"
          ],
          [
           "uninjured"
          ],
          [
           "uninjured"
          ],
          [
           "uninjured"
          ],
          [
           "uninjured"
          ],
          [
           "uninjured"
          ],
          [
           "uninjured"
          ],
          [
           "uninjured"
          ],
          [
           "uninjured"
          ],
          [
           "uninjured"
          ],
          [
           "uninjured"
          ],
          [
           "uninjured"
          ],
          [
           "uninjured"
          ],
          [
           "uninjured"
          ],
          [
           "uninjured"
          ],
          [
           "uninjured"
          ],
          [
           "uninjured"
          ],
          [
           "uninjured"
          ],
          [
           "uninjured"
          ],
          [
           "uninjured"
          ],
          [
           "uninjured"
          ],
          [
           "uninjured"
          ],
          [
           "uninjured"
          ],
          [
           "uninjured"
          ],
          [
           "uninjured"
          ],
          [
           "uninjured"
          ],
          [
           "uninjured"
          ],
          [
           "uninjured"
          ],
          [
           "uninjured"
          ],
          [
           "uninjured"
          ],
          [
           "uninjured"
          ],
          [
           "uninjured"
          ],
          [
           "uninjured"
          ],
          [
           "uninjured"
          ],
          [
           "uninjured"
          ],
          [
           "uninjured"
          ],
          [
           "uninjured"
          ],
          [
           "uninjured"
          ],
          [
           "uninjured"
          ],
          [
           "uninjured"
          ],
          [
           "uninjured"
          ],
          [
           "uninjured"
          ],
          [
           "uninjured"
          ],
          [
           "uninjured"
          ],
          [
           "uninjured"
          ],
          [
           "uninjured"
          ],
          [
           "uninjured"
          ],
          [
           "uninjured"
          ],
          [
           "uninjured"
          ],
          [
           "uninjured"
          ],
          [
           "uninjured"
          ],
          [
           "uninjured"
          ],
          [
           "uninjured"
          ],
          [
           "uninjured"
          ],
          [
           "uninjured"
          ],
          [
           "uninjured"
          ],
          [
           "uninjured"
          ],
          [
           "uninjured"
          ],
          [
           "uninjured"
          ],
          [
           "uninjured"
          ],
          [
           "uninjured"
          ],
          [
           "uninjured"
          ],
          [
           "uninjured"
          ],
          [
           "uninjured"
          ],
          [
           "uninjured"
          ],
          [
           "uninjured"
          ],
          [
           "uninjured"
          ],
          [
           "uninjured"
          ],
          [
           "uninjured"
          ],
          [
           "uninjured"
          ],
          [
           "uninjured"
          ],
          [
           "uninjured"
          ],
          [
           "uninjured"
          ],
          [
           "uninjured"
          ],
          [
           "uninjured"
          ],
          [
           "uninjured"
          ],
          [
           "uninjured"
          ],
          [
           "uninjured"
          ],
          [
           "uninjured"
          ],
          [
           "uninjured"
          ],
          [
           "uninjured"
          ],
          [
           "uninjured"
          ],
          [
           "uninjured"
          ],
          [
           "uninjured"
          ],
          [
           "uninjured"
          ],
          [
           "uninjured"
          ],
          [
           "uninjured"
          ],
          [
           "uninjured"
          ],
          [
           "uninjured"
          ],
          [
           "uninjured"
          ],
          [
           "uninjured"
          ],
          [
           "uninjured"
          ],
          [
           "uninjured"
          ],
          [
           "uninjured"
          ],
          [
           "uninjured"
          ],
          [
           "uninjured"
          ],
          [
           "uninjured"
          ],
          [
           "uninjured"
          ],
          [
           "uninjured"
          ],
          [
           "uninjured"
          ],
          [
           "uninjured"
          ],
          [
           "uninjured"
          ],
          [
           "uninjured"
          ],
          [
           "uninjured"
          ],
          [
           "uninjured"
          ],
          [
           "uninjured"
          ],
          [
           "uninjured"
          ],
          [
           "uninjured"
          ],
          [
           "uninjured"
          ],
          [
           "uninjured"
          ],
          [
           "uninjured"
          ],
          [
           "uninjured"
          ],
          [
           "uninjured"
          ],
          [
           "uninjured"
          ],
          [
           "uninjured"
          ],
          [
           "uninjured"
          ],
          [
           "uninjured"
          ],
          [
           "uninjured"
          ],
          [
           "uninjured"
          ],
          [
           "uninjured"
          ],
          [
           "uninjured"
          ],
          [
           "uninjured"
          ],
          [
           "uninjured"
          ],
          [
           "uninjured"
          ],
          [
           "uninjured"
          ],
          [
           "uninjured"
          ],
          [
           "uninjured"
          ],
          [
           "uninjured"
          ],
          [
           "uninjured"
          ],
          [
           "uninjured"
          ],
          [
           "uninjured"
          ],
          [
           "uninjured"
          ],
          [
           "uninjured"
          ],
          [
           "uninjured"
          ],
          [
           "uninjured"
          ],
          [
           "uninjured"
          ],
          [
           "uninjured"
          ],
          [
           "uninjured"
          ],
          [
           "uninjured"
          ],
          [
           "uninjured"
          ],
          [
           "uninjured"
          ],
          [
           "uninjured"
          ],
          [
           "uninjured"
          ],
          [
           "uninjured"
          ],
          [
           "uninjured"
          ],
          [
           "uninjured"
          ],
          [
           "uninjured"
          ],
          [
           "uninjured"
          ],
          [
           "uninjured"
          ],
          [
           "uninjured"
          ],
          [
           "uninjured"
          ],
          [
           "uninjured"
          ],
          [
           "uninjured"
          ],
          [
           "uninjured"
          ],
          [
           "uninjured"
          ],
          [
           "uninjured"
          ],
          [
           "uninjured"
          ]
         ],
         "hovertemplate": "Victim Injury=%{customdata[0]}<br>Shark Behavior=%{x}<br>Number of Sharks=%{y}<extra></extra>",
         "legendgroup": "uninjured",
         "marker": {
          "color": "#00cc96",
          "symbol": "circle"
         },
         "mode": "markers",
         "name": "uninjured",
         "showlegend": true,
         "type": "scattergl",
         "x": [
          "approached_victim",
          "direct_attack",
          "approached_victim",
          "approached_victim",
          "approached_victim",
          "direct_attack",
          "unknown",
          "direct_attack",
          "direct_attack",
          "direct_attack",
          "direct_attack",
          "direct_attack",
          "approached_victim",
          "direct_attack",
          "direct_attack",
          "direct_attack",
          "unknown",
          "contact_made",
          "direct_attack",
          "direct_attack",
          "contact_made",
          "direct_attack",
          "approached_victim",
          "direct_attack",
          "unknown",
          "contact_made",
          "approached_victim",
          "contact_made",
          "contact_made",
          "direct_attack",
          "direct_attack",
          "approached_victim",
          "unknown",
          "direct_attack",
          "approached_victim",
          "unknown",
          "approached_victim",
          "approached_victim",
          "contact_made",
          "contact_made",
          "direct_attack",
          "contact_made",
          "direct_attack",
          "approached_victim",
          "approached_victim",
          "contact_made",
          "direct_attack",
          "approached_victim",
          "direct_attack",
          "direct_attack",
          "approached_victim",
          "direct_attack",
          "unknown",
          "unknown",
          "contact_made",
          "direct_attack",
          "direct_attack",
          "direct_attack",
          "direct_attack",
          "approached_victim",
          "unknown",
          "direct_attack",
          "direct_attack",
          "unknown",
          "direct_attack",
          "direct_attack",
          "direct_attack",
          "direct_attack",
          "approached_victim",
          "direct_attack",
          "approached_victim",
          "direct_attack",
          "contact_made",
          "direct_attack",
          "direct_attack",
          "direct_attack",
          "direct_attack",
          "direct_attack",
          "direct_attack",
          "direct_attack",
          "direct_attack",
          "approached_victim",
          "direct_attack",
          "approached_victim",
          "approached_victim",
          "approached_victim",
          "approached_victim",
          "contact_made",
          "approached_victim",
          "contact_made",
          "direct_attack",
          "contact_made",
          "approached_victim",
          "approached_victim",
          "direct_attack",
          "approached_victim",
          "contact_made",
          "direct_attack",
          "direct_attack",
          "approached_victim",
          "direct_attack",
          "direct_attack",
          "approached_victim",
          "direct_attack",
          "direct_attack",
          "direct_attack",
          "approached_victim",
          "direct_attack",
          "direct_attack",
          "contact_made",
          "approached_victim",
          "unknown",
          "direct_attack",
          "direct_attack",
          "approached_victim",
          "direct_attack",
          "approached_victim",
          "contact_made",
          "direct_attack",
          "direct_attack",
          "contact_made",
          "direct_attack",
          "unknown",
          "direct_attack",
          "approached_victim",
          "contact_made",
          "direct_attack",
          "unknown",
          "direct_attack",
          "direct_attack",
          "direct_attack",
          "direct_attack",
          "approached_victim",
          "contact_made",
          "direct_attack",
          "direct_attack",
          "contact_made",
          "contact_made",
          "contact_made",
          "contact_made",
          "direct_attack",
          "direct_attack",
          "approached_victim",
          "direct_attack",
          "direct_attack",
          "direct_attack",
          "contact_made",
          "contact_made",
          "direct_attack",
          "contact_made",
          "direct_attack",
          "contact_made",
          "unknown",
          "direct_attack",
          "direct_attack",
          "direct_attack",
          "direct_attack",
          "direct_attack",
          "direct_attack",
          "approached_victim",
          "contact_made",
          "contact_made",
          "direct_attack",
          "direct_attack",
          "contact_made",
          "direct_attack",
          "direct_attack",
          "contact_made",
          "direct_attack",
          "direct_attack",
          "direct_attack",
          "contact_made",
          "unknown",
          "direct_attack",
          "contact_made",
          "approached_victim",
          "contact_made",
          "unknown",
          "unknown",
          "approached_victim",
          "unknown",
          "contact_made",
          "unknown",
          "contact_made",
          "direct_attack",
          "contact_made",
          "unknown",
          "unknown",
          "unknown",
          "contact_made",
          "unknown",
          "direct_attack",
          "contact_made",
          "approached_victim",
          "direct_attack",
          "unknown",
          "contact_made",
          "unknown",
          "contact_made",
          "contact_made",
          "direct_attack",
          "approached_victim",
          "unknown",
          "unknown",
          "unknown",
          "unknown",
          "unknown",
          "approached_victim",
          "approached_victim",
          "unknown",
          "direct_attack",
          "direct_attack",
          "unknown",
          "unknown",
          "unknown",
          "unknown",
          "contact_made",
          "unknown",
          "unknown",
          "direct_attack"
         ],
         "xaxis": "x",
         "y": [
          1,
          1,
          1,
          1,
          1,
          1,
          1,
          1,
          1,
          1,
          1,
          1,
          1,
          1,
          1,
          1,
          1,
          1,
          1,
          1,
          1,
          1,
          1,
          1,
          1,
          1,
          1,
          1,
          1,
          1,
          1,
          1,
          1,
          1,
          1,
          1,
          1,
          2,
          1,
          1,
          1,
          1,
          1,
          1,
          1,
          1,
          1,
          1,
          1,
          1,
          1,
          1,
          1,
          1,
          1,
          1,
          1,
          1,
          1,
          1,
          1,
          1,
          1,
          1,
          1,
          1,
          1,
          1,
          1,
          1,
          1,
          1,
          1,
          1,
          1,
          1,
          1,
          1,
          1,
          1,
          1,
          1,
          1,
          1,
          1,
          1,
          1,
          1,
          1,
          1,
          1,
          1,
          1,
          1,
          1,
          1,
          1,
          1,
          1,
          1,
          1,
          1,
          1,
          1,
          1,
          1,
          1,
          1,
          1,
          1,
          1,
          1,
          1,
          1,
          1,
          1,
          1,
          1,
          1,
          1,
          1,
          1,
          1,
          1,
          3,
          1,
          1,
          1,
          1,
          1,
          1,
          1,
          1,
          1,
          1,
          1,
          1,
          1,
          1,
          1,
          1,
          1,
          1,
          1,
          1,
          1,
          1,
          1,
          1,
          1,
          1,
          1,
          1,
          1,
          1,
          1,
          1,
          1,
          1,
          1,
          1,
          1,
          1,
          1,
          1,
          1,
          1,
          1,
          1,
          1,
          1,
          1,
          1,
          1,
          2,
          1,
          1,
          1,
          1,
          1,
          1,
          1,
          1,
          1,
          1,
          1,
          1,
          1,
          1,
          1,
          1,
          1,
          1,
          1,
          1,
          1,
          1,
          1,
          1,
          1,
          1,
          1,
          1,
          1,
          1,
          1,
          1,
          1,
          1,
          1,
          1,
          1,
          1,
          1,
          1,
          1,
          1,
          1,
          1,
          1
         ],
         "yaxis": "y"
        }
       ],
       "layout": {
        "legend": {
         "title": {
          "text": "Victim Injury"
         },
         "tracegroupgap": 0
        },
        "template": {
         "data": {
          "bar": [
           {
            "error_x": {
             "color": "#2a3f5f"
            },
            "error_y": {
             "color": "#2a3f5f"
            },
            "marker": {
             "line": {
              "color": "#E5ECF6",
              "width": 0.5
             },
             "pattern": {
              "fillmode": "overlay",
              "size": 10,
              "solidity": 0.2
             }
            },
            "type": "bar"
           }
          ],
          "barpolar": [
           {
            "marker": {
             "line": {
              "color": "#E5ECF6",
              "width": 0.5
             },
             "pattern": {
              "fillmode": "overlay",
              "size": 10,
              "solidity": 0.2
             }
            },
            "type": "barpolar"
           }
          ],
          "carpet": [
           {
            "aaxis": {
             "endlinecolor": "#2a3f5f",
             "gridcolor": "white",
             "linecolor": "white",
             "minorgridcolor": "white",
             "startlinecolor": "#2a3f5f"
            },
            "baxis": {
             "endlinecolor": "#2a3f5f",
             "gridcolor": "white",
             "linecolor": "white",
             "minorgridcolor": "white",
             "startlinecolor": "#2a3f5f"
            },
            "type": "carpet"
           }
          ],
          "choropleth": [
           {
            "colorbar": {
             "outlinewidth": 0,
             "ticks": ""
            },
            "type": "choropleth"
           }
          ],
          "contour": [
           {
            "colorbar": {
             "outlinewidth": 0,
             "ticks": ""
            },
            "colorscale": [
             [
              0,
              "#0d0887"
             ],
             [
              0.1111111111111111,
              "#46039f"
             ],
             [
              0.2222222222222222,
              "#7201a8"
             ],
             [
              0.3333333333333333,
              "#9c179e"
             ],
             [
              0.4444444444444444,
              "#bd3786"
             ],
             [
              0.5555555555555556,
              "#d8576b"
             ],
             [
              0.6666666666666666,
              "#ed7953"
             ],
             [
              0.7777777777777778,
              "#fb9f3a"
             ],
             [
              0.8888888888888888,
              "#fdca26"
             ],
             [
              1,
              "#f0f921"
             ]
            ],
            "type": "contour"
           }
          ],
          "contourcarpet": [
           {
            "colorbar": {
             "outlinewidth": 0,
             "ticks": ""
            },
            "type": "contourcarpet"
           }
          ],
          "heatmap": [
           {
            "colorbar": {
             "outlinewidth": 0,
             "ticks": ""
            },
            "colorscale": [
             [
              0,
              "#0d0887"
             ],
             [
              0.1111111111111111,
              "#46039f"
             ],
             [
              0.2222222222222222,
              "#7201a8"
             ],
             [
              0.3333333333333333,
              "#9c179e"
             ],
             [
              0.4444444444444444,
              "#bd3786"
             ],
             [
              0.5555555555555556,
              "#d8576b"
             ],
             [
              0.6666666666666666,
              "#ed7953"
             ],
             [
              0.7777777777777778,
              "#fb9f3a"
             ],
             [
              0.8888888888888888,
              "#fdca26"
             ],
             [
              1,
              "#f0f921"
             ]
            ],
            "type": "heatmap"
           }
          ],
          "heatmapgl": [
           {
            "colorbar": {
             "outlinewidth": 0,
             "ticks": ""
            },
            "colorscale": [
             [
              0,
              "#0d0887"
             ],
             [
              0.1111111111111111,
              "#46039f"
             ],
             [
              0.2222222222222222,
              "#7201a8"
             ],
             [
              0.3333333333333333,
              "#9c179e"
             ],
             [
              0.4444444444444444,
              "#bd3786"
             ],
             [
              0.5555555555555556,
              "#d8576b"
             ],
             [
              0.6666666666666666,
              "#ed7953"
             ],
             [
              0.7777777777777778,
              "#fb9f3a"
             ],
             [
              0.8888888888888888,
              "#fdca26"
             ],
             [
              1,
              "#f0f921"
             ]
            ],
            "type": "heatmapgl"
           }
          ],
          "histogram": [
           {
            "marker": {
             "pattern": {
              "fillmode": "overlay",
              "size": 10,
              "solidity": 0.2
             }
            },
            "type": "histogram"
           }
          ],
          "histogram2d": [
           {
            "colorbar": {
             "outlinewidth": 0,
             "ticks": ""
            },
            "colorscale": [
             [
              0,
              "#0d0887"
             ],
             [
              0.1111111111111111,
              "#46039f"
             ],
             [
              0.2222222222222222,
              "#7201a8"
             ],
             [
              0.3333333333333333,
              "#9c179e"
             ],
             [
              0.4444444444444444,
              "#bd3786"
             ],
             [
              0.5555555555555556,
              "#d8576b"
             ],
             [
              0.6666666666666666,
              "#ed7953"
             ],
             [
              0.7777777777777778,
              "#fb9f3a"
             ],
             [
              0.8888888888888888,
              "#fdca26"
             ],
             [
              1,
              "#f0f921"
             ]
            ],
            "type": "histogram2d"
           }
          ],
          "histogram2dcontour": [
           {
            "colorbar": {
             "outlinewidth": 0,
             "ticks": ""
            },
            "colorscale": [
             [
              0,
              "#0d0887"
             ],
             [
              0.1111111111111111,
              "#46039f"
             ],
             [
              0.2222222222222222,
              "#7201a8"
             ],
             [
              0.3333333333333333,
              "#9c179e"
             ],
             [
              0.4444444444444444,
              "#bd3786"
             ],
             [
              0.5555555555555556,
              "#d8576b"
             ],
             [
              0.6666666666666666,
              "#ed7953"
             ],
             [
              0.7777777777777778,
              "#fb9f3a"
             ],
             [
              0.8888888888888888,
              "#fdca26"
             ],
             [
              1,
              "#f0f921"
             ]
            ],
            "type": "histogram2dcontour"
           }
          ],
          "mesh3d": [
           {
            "colorbar": {
             "outlinewidth": 0,
             "ticks": ""
            },
            "type": "mesh3d"
           }
          ],
          "parcoords": [
           {
            "line": {
             "colorbar": {
              "outlinewidth": 0,
              "ticks": ""
             }
            },
            "type": "parcoords"
           }
          ],
          "pie": [
           {
            "automargin": true,
            "type": "pie"
           }
          ],
          "scatter": [
           {
            "fillpattern": {
             "fillmode": "overlay",
             "size": 10,
             "solidity": 0.2
            },
            "type": "scatter"
           }
          ],
          "scatter3d": [
           {
            "line": {
             "colorbar": {
              "outlinewidth": 0,
              "ticks": ""
             }
            },
            "marker": {
             "colorbar": {
              "outlinewidth": 0,
              "ticks": ""
             }
            },
            "type": "scatter3d"
           }
          ],
          "scattercarpet": [
           {
            "marker": {
             "colorbar": {
              "outlinewidth": 0,
              "ticks": ""
             }
            },
            "type": "scattercarpet"
           }
          ],
          "scattergeo": [
           {
            "marker": {
             "colorbar": {
              "outlinewidth": 0,
              "ticks": ""
             }
            },
            "type": "scattergeo"
           }
          ],
          "scattergl": [
           {
            "marker": {
             "colorbar": {
              "outlinewidth": 0,
              "ticks": ""
             }
            },
            "type": "scattergl"
           }
          ],
          "scattermapbox": [
           {
            "marker": {
             "colorbar": {
              "outlinewidth": 0,
              "ticks": ""
             }
            },
            "type": "scattermapbox"
           }
          ],
          "scatterpolar": [
           {
            "marker": {
             "colorbar": {
              "outlinewidth": 0,
              "ticks": ""
             }
            },
            "type": "scatterpolar"
           }
          ],
          "scatterpolargl": [
           {
            "marker": {
             "colorbar": {
              "outlinewidth": 0,
              "ticks": ""
             }
            },
            "type": "scatterpolargl"
           }
          ],
          "scatterternary": [
           {
            "marker": {
             "colorbar": {
              "outlinewidth": 0,
              "ticks": ""
             }
            },
            "type": "scatterternary"
           }
          ],
          "surface": [
           {
            "colorbar": {
             "outlinewidth": 0,
             "ticks": ""
            },
            "colorscale": [
             [
              0,
              "#0d0887"
             ],
             [
              0.1111111111111111,
              "#46039f"
             ],
             [
              0.2222222222222222,
              "#7201a8"
             ],
             [
              0.3333333333333333,
              "#9c179e"
             ],
             [
              0.4444444444444444,
              "#bd3786"
             ],
             [
              0.5555555555555556,
              "#d8576b"
             ],
             [
              0.6666666666666666,
              "#ed7953"
             ],
             [
              0.7777777777777778,
              "#fb9f3a"
             ],
             [
              0.8888888888888888,
              "#fdca26"
             ],
             [
              1,
              "#f0f921"
             ]
            ],
            "type": "surface"
           }
          ],
          "table": [
           {
            "cells": {
             "fill": {
              "color": "#EBF0F8"
             },
             "line": {
              "color": "white"
             }
            },
            "header": {
             "fill": {
              "color": "#C8D4E3"
             },
             "line": {
              "color": "white"
             }
            },
            "type": "table"
           }
          ]
         },
         "layout": {
          "annotationdefaults": {
           "arrowcolor": "#2a3f5f",
           "arrowhead": 0,
           "arrowwidth": 1
          },
          "autotypenumbers": "strict",
          "coloraxis": {
           "colorbar": {
            "outlinewidth": 0,
            "ticks": ""
           }
          },
          "colorscale": {
           "diverging": [
            [
             0,
             "#8e0152"
            ],
            [
             0.1,
             "#c51b7d"
            ],
            [
             0.2,
             "#de77ae"
            ],
            [
             0.3,
             "#f1b6da"
            ],
            [
             0.4,
             "#fde0ef"
            ],
            [
             0.5,
             "#f7f7f7"
            ],
            [
             0.6,
             "#e6f5d0"
            ],
            [
             0.7,
             "#b8e186"
            ],
            [
             0.8,
             "#7fbc41"
            ],
            [
             0.9,
             "#4d9221"
            ],
            [
             1,
             "#276419"
            ]
           ],
           "sequential": [
            [
             0,
             "#0d0887"
            ],
            [
             0.1111111111111111,
             "#46039f"
            ],
            [
             0.2222222222222222,
             "#7201a8"
            ],
            [
             0.3333333333333333,
             "#9c179e"
            ],
            [
             0.4444444444444444,
             "#bd3786"
            ],
            [
             0.5555555555555556,
             "#d8576b"
            ],
            [
             0.6666666666666666,
             "#ed7953"
            ],
            [
             0.7777777777777778,
             "#fb9f3a"
            ],
            [
             0.8888888888888888,
             "#fdca26"
            ],
            [
             1,
             "#f0f921"
            ]
           ],
           "sequentialminus": [
            [
             0,
             "#0d0887"
            ],
            [
             0.1111111111111111,
             "#46039f"
            ],
            [
             0.2222222222222222,
             "#7201a8"
            ],
            [
             0.3333333333333333,
             "#9c179e"
            ],
            [
             0.4444444444444444,
             "#bd3786"
            ],
            [
             0.5555555555555556,
             "#d8576b"
            ],
            [
             0.6666666666666666,
             "#ed7953"
            ],
            [
             0.7777777777777778,
             "#fb9f3a"
            ],
            [
             0.8888888888888888,
             "#fdca26"
            ],
            [
             1,
             "#f0f921"
            ]
           ]
          },
          "colorway": [
           "#636efa",
           "#EF553B",
           "#00cc96",
           "#ab63fa",
           "#FFA15A",
           "#19d3f3",
           "#FF6692",
           "#B6E880",
           "#FF97FF",
           "#FECB52"
          ],
          "font": {
           "color": "#2a3f5f"
          },
          "geo": {
           "bgcolor": "white",
           "lakecolor": "white",
           "landcolor": "#E5ECF6",
           "showlakes": true,
           "showland": true,
           "subunitcolor": "white"
          },
          "hoverlabel": {
           "align": "left"
          },
          "hovermode": "closest",
          "mapbox": {
           "style": "light"
          },
          "paper_bgcolor": "white",
          "plot_bgcolor": "#E5ECF6",
          "polar": {
           "angularaxis": {
            "gridcolor": "white",
            "linecolor": "white",
            "ticks": ""
           },
           "bgcolor": "#E5ECF6",
           "radialaxis": {
            "gridcolor": "white",
            "linecolor": "white",
            "ticks": ""
           }
          },
          "scene": {
           "xaxis": {
            "backgroundcolor": "#E5ECF6",
            "gridcolor": "white",
            "gridwidth": 2,
            "linecolor": "white",
            "showbackground": true,
            "ticks": "",
            "zerolinecolor": "white"
           },
           "yaxis": {
            "backgroundcolor": "#E5ECF6",
            "gridcolor": "white",
            "gridwidth": 2,
            "linecolor": "white",
            "showbackground": true,
            "ticks": "",
            "zerolinecolor": "white"
           },
           "zaxis": {
            "backgroundcolor": "#E5ECF6",
            "gridcolor": "white",
            "gridwidth": 2,
            "linecolor": "white",
            "showbackground": true,
            "ticks": "",
            "zerolinecolor": "white"
           }
          },
          "shapedefaults": {
           "line": {
            "color": "#2a3f5f"
           }
          },
          "ternary": {
           "aaxis": {
            "gridcolor": "white",
            "linecolor": "white",
            "ticks": ""
           },
           "baxis": {
            "gridcolor": "white",
            "linecolor": "white",
            "ticks": ""
           },
           "bgcolor": "#E5ECF6",
           "caxis": {
            "gridcolor": "white",
            "linecolor": "white",
            "ticks": ""
           }
          },
          "title": {
           "x": 0.05
          },
          "xaxis": {
           "automargin": true,
           "gridcolor": "white",
           "linecolor": "white",
           "ticks": "",
           "title": {
            "standoff": 15
           },
           "zerolinecolor": "white",
           "zerolinewidth": 2
          },
          "yaxis": {
           "automargin": true,
           "gridcolor": "white",
           "linecolor": "white",
           "ticks": "",
           "title": {
            "standoff": 15
           },
           "zerolinecolor": "white",
           "zerolinewidth": 2
          }
         }
        },
        "title": {
         "text": "Shark Behavior vs. Number of Sharks (Colored by Victim Injury)"
        },
        "xaxis": {
         "anchor": "y",
         "domain": [
          0,
          1
         ],
         "title": {
          "text": "Shark Behavior"
         }
        },
        "yaxis": {
         "anchor": "x",
         "domain": [
          0,
          1
         ],
         "title": {
          "text": "Number of Sharks"
         }
        }
       }
      }
     },
     "metadata": {},
     "output_type": "display_data"
    }
   ],
   "source": [
    "scatter_data = df[['shark_behaviour_generic', 'no_sharks', 'victim_injury']].dropna()\n",
    "\n",
    "# Create scatter plot\n",
    "scatter_fig = px.scatter(\n",
    "    scatter_data,\n",
    "    x='shark_behaviour_generic',\n",
    "    y='no_sharks',\n",
    "    color='victim_injury',\n",
    "    title='Shark Behavior vs. Number of Sharks (Colored by Victim Injury)',\n",
    "    labels={\n",
    "        'shark_behaviour_generic': 'Shark Behavior',\n",
    "        'no_sharks': 'Number of Sharks',\n",
    "        'victim_injury': 'Victim Injury'\n",
    "    },\n",
    "    hover_data=['shark_behaviour_generic', 'no_sharks', 'victim_injury'],\n",
    ")\n",
    "\n",
    "# Show plot\n",
    "scatter_fig.show()"
   ]
  },
  {
   "cell_type": "code",
   "execution_count": 6,
   "metadata": {},
   "outputs": [
    {
     "data": {
      "application/vnd.plotly.v1+json": {
       "config": {
        "plotlyServerURL": "https://plot.ly"
       },
       "data": [
        {
         "branchvalues": "total",
         "customdata": [
          [
           "Maj.Lacerations"
          ],
          [
           "Unknown"
          ],
          [
           "Maj.Lacerations"
          ],
          [
           "Unknown"
          ],
          [
           "Others"
          ],
          [
           "Others"
          ],
          [
           "Maj.Lacerations"
          ],
          [
           "Min.Lacerations"
          ],
          [
           "Maj.Lacerations"
          ],
          [
           "Maj.Lacerations"
          ],
          [
           "Maj.Lacerations"
          ],
          [
           "Unknown"
          ],
          [
           "Maj.Lacerations"
          ],
          [
           "Min.Lacerations"
          ],
          [
           "Maj.Lacerations"
          ],
          [
           "Others"
          ],
          [
           "Unknown"
          ],
          [
           "Others"
          ],
          [
           "Min.Lacerations"
          ],
          [
           "Unknown"
          ],
          [
           "Min.Lacerations"
          ],
          [
           "Others"
          ],
          [
           "Min.Lacerations"
          ],
          [
           "Min.Lacerations"
          ],
          [
           "Min.Lacerations"
          ],
          [
           "Min.Lacerations"
          ],
          [
           "Maj.Lacerations"
          ],
          [
           "Unknown"
          ],
          [
           "Unknown"
          ],
          [
           "Unknown"
          ],
          [
           "Others"
          ],
          [
           "Maj.Lacerations"
          ],
          [
           "Unknown"
          ],
          [
           "Min.Lacerations"
          ],
          [
           "Others"
          ],
          [
           "Unknown"
          ],
          [
           "Maj.Lacerations"
          ],
          [
           "Maj.Lacerations"
          ],
          [
           "Min.Lacerations"
          ],
          [
           "Others"
          ],
          [
           "Maj.Lacerations"
          ],
          [
           "Min.Lacerations"
          ],
          [
           "Others"
          ],
          [
           "Min.Lacerations"
          ],
          [
           "Unknown"
          ],
          [
           "Others"
          ],
          [
           "Maj.Lacerations"
          ],
          [
           "Others"
          ],
          [
           "Unknown"
          ],
          [
           "Others"
          ],
          [
           "Maj.Lacerations"
          ],
          [
           "Min.Lacerations"
          ],
          [
           "Min.Lacerations"
          ],
          [
           "Min.Lacerations"
          ],
          [
           "Others"
          ],
          [
           "Unknown"
          ],
          [
           "Unknown"
          ],
          [
           "Maj.Lacerations"
          ],
          [
           "Min.Lacerations"
          ],
          [
           "Unknown"
          ],
          [
           "Others"
          ],
          [
           "Min.Lacerations"
          ],
          [
           "Min.Lacerations"
          ],
          [
           "Others"
          ],
          [
           "Others"
          ],
          [
           "Maj.Lacerations"
          ],
          [
           "Unknown"
          ],
          [
           "Others"
          ],
          [
           "Min.Lacerations"
          ],
          [
           "Min.Lacerations"
          ],
          [
           "Others"
          ],
          [
           "Maj.Lacerations"
          ],
          [
           "Min.Lacerations"
          ],
          [
           "Unknown"
          ],
          [
           "Others"
          ],
          [
           "Unknown"
          ],
          [
           "Unknown"
          ],
          [
           "Unknown"
          ],
          [
           "Unknown"
          ],
          [
           "Others"
          ],
          [
           "Others"
          ],
          [
           "Unknown"
          ],
          [
           "Min.Lacerations"
          ],
          [
           "Unknown"
          ],
          [
           "Others"
          ],
          [
           "Unknown"
          ],
          [
           "Min.Lacerations"
          ],
          [
           "Min.Lacerations"
          ],
          [
           "Unknown"
          ]
         ],
         "domain": {
          "x": [
           0,
           1
          ],
          "y": [
           0,
           1
          ]
         },
         "hovertemplate": "labels=%{label}<br>count=%{value}<br>parent=%{parent}<br>id=%{id}<br>Injury Severity=%{customdata[0]}<extra></extra>",
         "ids": [
          "Maj.Lacerations/Coastal/approached_victim",
          "Unknown/Coastal/direct_attack",
          "Maj.Lacerations/Estuary Harbour/direct_attack",
          "Unknown/Coastal",
          "Others/Island Open Ocean/direct_attack",
          "Others/Island Open Ocean",
          "Maj.Lacerations/Others/direct_attack",
          "Min.Lacerations/Others/direct_attack",
          "Maj.Lacerations/River/direct_attack",
          "Maj.Lacerations/Island Open Ocean",
          "Maj.Lacerations/Coastal/unknown",
          "Unknown/Coastal/unknown",
          "Maj.Lacerations/Estuary Harbour/unknown",
          "Min.Lacerations/Estuary Harbour/unknown",
          "Maj.Lacerations/Island Open Ocean/unknown",
          "Others/Island Open Ocean/unknown",
          "Unknown/Island Open Ocean/unknown",
          "Others/Estuary Harbour",
          "Min.Lacerations/Others/unknown",
          "Unknown/Others/unknown",
          "Min.Lacerations/River/unknown",
          "Others/River/unknown",
          "Min.Lacerations/Coastal/unseen",
          "Min.Lacerations/Coastal",
          "Min.Lacerations/Others",
          "Min.Lacerations/Coastal/direct_attack",
          "Maj.Lacerations/Island Open Ocean/direct_attack",
          "Unknown/River/contact_made",
          "Unknown/Coastal/approached_victim",
          "Unknown/Estuary Harbour/approached_victim",
          "Others/Island Open Ocean/approached_victim",
          "Maj.Lacerations",
          "Unknown/River",
          "Min.Lacerations/River/approached_victim",
          "Others/River/approached_victim",
          "Unknown/River/approached_victim",
          "Maj.Lacerations/Coastal/direct_attack",
          "Maj.Lacerations/Coastal/contact_made",
          "Min.Lacerations/Coastal/contact_made",
          "Others/Coastal/contact_made",
          "Maj.Lacerations/Estuary Harbour",
          "Min.Lacerations/River",
          "Others/Estuary Harbour/contact_made",
          "Min.Lacerations/River/contact_made",
          "Unknown/Others/direct_attack",
          "Others/Coastal",
          "Maj.Lacerations/Coastal",
          "Others/Coastal/approached_victim",
          "Unknown/River/unknown",
          "Others/Estuary Harbour/approached_victim",
          "Maj.Lacerations/River/unknown",
          "Min.Lacerations/Island Open Ocean/approached_victim",
          "Min.Lacerations/Others/contact_made",
          "Min.Lacerations/Estuary Harbour/direct_attack",
          "Others/Coastal/unknown",
          "Unknown/Estuary Harbour/unknown",
          "Unknown/Island Open Ocean",
          "Maj.Lacerations/River",
          "Min.Lacerations/River/direct_attack",
          "Unknown/Estuary Harbour",
          "Others/Others/direct_attack",
          "Min.Lacerations/Coastal/unknown",
          "Min.Lacerations/Estuary Harbour/contact_made",
          "Others/Estuary Harbour/direct_attack",
          "Others/River",
          "Maj.Lacerations/Others",
          "Unknown/Others",
          "Others/Others",
          "Min.Lacerations/Island Open Ocean",
          "Min.Lacerations",
          "Others/River/direct_attack",
          "Maj.Lacerations/Others/unknown",
          "Min.Lacerations/Coastal/approached_victim",
          "Unknown/Island Open Ocean/approached_victim",
          "Others/Others/approached_victim",
          "Unknown/Others/approached_victim",
          "Unknown/Coastal/contact_made",
          "Unknown/Estuary Harbour/contact_made",
          "Unknown/Island Open Ocean/contact_made",
          "Others/River/contact_made",
          "Others/Coastal/direct_attack",
          "Unknown/Estuary Harbour/direct_attack",
          "Min.Lacerations/Island Open Ocean/direct_attack",
          "Unknown/Island Open Ocean/direct_attack",
          "Others",
          "Unknown/River/direct_attack",
          "Min.Lacerations/Island Open Ocean/unknown",
          "Min.Lacerations/Estuary Harbour",
          "Unknown"
         ],
         "labels": [
          "approached_victim",
          "direct_attack",
          "direct_attack",
          "Coastal",
          "direct_attack",
          "Island Open Ocean",
          "direct_attack",
          "direct_attack",
          "direct_attack",
          "Island Open Ocean",
          "unknown",
          "unknown",
          "unknown",
          "unknown",
          "unknown",
          "unknown",
          "unknown",
          "Estuary Harbour",
          "unknown",
          "unknown",
          "unknown",
          "unknown",
          "unseen",
          "Coastal",
          "Others",
          "direct_attack",
          "direct_attack",
          "contact_made",
          "approached_victim",
          "approached_victim",
          "approached_victim",
          "Maj.Lacerations",
          "River",
          "approached_victim",
          "approached_victim",
          "approached_victim",
          "direct_attack",
          "contact_made",
          "contact_made",
          "contact_made",
          "Estuary Harbour",
          "River",
          "contact_made",
          "contact_made",
          "direct_attack",
          "Coastal",
          "Coastal",
          "approached_victim",
          "unknown",
          "approached_victim",
          "unknown",
          "approached_victim",
          "contact_made",
          "direct_attack",
          "unknown",
          "unknown",
          "Island Open Ocean",
          "River",
          "direct_attack",
          "Estuary Harbour",
          "direct_attack",
          "unknown",
          "contact_made",
          "direct_attack",
          "River",
          "Others",
          "Others",
          "Others",
          "Island Open Ocean",
          "Min.Lacerations",
          "direct_attack",
          "unknown",
          "approached_victim",
          "approached_victim",
          "approached_victim",
          "approached_victim",
          "contact_made",
          "contact_made",
          "contact_made",
          "contact_made",
          "direct_attack",
          "direct_attack",
          "direct_attack",
          "direct_attack",
          "Others",
          "direct_attack",
          "unknown",
          "Estuary Harbour",
          "Unknown"
         ],
         "marker": {
          "colors": [
           "#636efa",
           "#EF553B",
           "#636efa",
           "#EF553B",
           "#00cc96",
           "#00cc96",
           "#636efa",
           "#ab63fa",
           "#636efa",
           "#636efa",
           "#636efa",
           "#EF553B",
           "#636efa",
           "#ab63fa",
           "#636efa",
           "#00cc96",
           "#EF553B",
           "#00cc96",
           "#ab63fa",
           "#EF553B",
           "#ab63fa",
           "#00cc96",
           "#ab63fa",
           "#ab63fa",
           "#ab63fa",
           "#ab63fa",
           "#636efa",
           "#EF553B",
           "#EF553B",
           "#EF553B",
           "#00cc96",
           "#636efa",
           "#EF553B",
           "#ab63fa",
           "#00cc96",
           "#EF553B",
           "#636efa",
           "#636efa",
           "#ab63fa",
           "#00cc96",
           "#636efa",
           "#ab63fa",
           "#00cc96",
           "#ab63fa",
           "#EF553B",
           "#00cc96",
           "#636efa",
           "#00cc96",
           "#EF553B",
           "#00cc96",
           "#636efa",
           "#ab63fa",
           "#ab63fa",
           "#ab63fa",
           "#00cc96",
           "#EF553B",
           "#EF553B",
           "#636efa",
           "#ab63fa",
           "#EF553B",
           "#00cc96",
           "#ab63fa",
           "#ab63fa",
           "#00cc96",
           "#00cc96",
           "#636efa",
           "#EF553B",
           "#00cc96",
           "#ab63fa",
           "#ab63fa",
           "#00cc96",
           "#636efa",
           "#ab63fa",
           "#EF553B",
           "#00cc96",
           "#EF553B",
           "#EF553B",
           "#EF553B",
           "#EF553B",
           "#00cc96",
           "#00cc96",
           "#EF553B",
           "#ab63fa",
           "#EF553B",
           "#00cc96",
           "#EF553B",
           "#ab63fa",
           "#ab63fa",
           "#EF553B"
          ]
         },
         "name": "",
         "parents": [
          "Maj.Lacerations/Coastal",
          "Unknown/Coastal",
          "Maj.Lacerations/Estuary Harbour",
          "Unknown",
          "Others/Island Open Ocean",
          "Others",
          "Maj.Lacerations/Others",
          "Min.Lacerations/Others",
          "Maj.Lacerations/River",
          "Maj.Lacerations",
          "Maj.Lacerations/Coastal",
          "Unknown/Coastal",
          "Maj.Lacerations/Estuary Harbour",
          "Min.Lacerations/Estuary Harbour",
          "Maj.Lacerations/Island Open Ocean",
          "Others/Island Open Ocean",
          "Unknown/Island Open Ocean",
          "Others",
          "Min.Lacerations/Others",
          "Unknown/Others",
          "Min.Lacerations/River",
          "Others/River",
          "Min.Lacerations/Coastal",
          "Min.Lacerations",
          "Min.Lacerations",
          "Min.Lacerations/Coastal",
          "Maj.Lacerations/Island Open Ocean",
          "Unknown/River",
          "Unknown/Coastal",
          "Unknown/Estuary Harbour",
          "Others/Island Open Ocean",
          "",
          "Unknown",
          "Min.Lacerations/River",
          "Others/River",
          "Unknown/River",
          "Maj.Lacerations/Coastal",
          "Maj.Lacerations/Coastal",
          "Min.Lacerations/Coastal",
          "Others/Coastal",
          "Maj.Lacerations",
          "Min.Lacerations",
          "Others/Estuary Harbour",
          "Min.Lacerations/River",
          "Unknown/Others",
          "Others",
          "Maj.Lacerations",
          "Others/Coastal",
          "Unknown/River",
          "Others/Estuary Harbour",
          "Maj.Lacerations/River",
          "Min.Lacerations/Island Open Ocean",
          "Min.Lacerations/Others",
          "Min.Lacerations/Estuary Harbour",
          "Others/Coastal",
          "Unknown/Estuary Harbour",
          "Unknown",
          "Maj.Lacerations",
          "Min.Lacerations/River",
          "Unknown",
          "Others/Others",
          "Min.Lacerations/Coastal",
          "Min.Lacerations/Estuary Harbour",
          "Others/Estuary Harbour",
          "Others",
          "Maj.Lacerations",
          "Unknown",
          "Others",
          "Min.Lacerations",
          "",
          "Others/River",
          "Maj.Lacerations/Others",
          "Min.Lacerations/Coastal",
          "Unknown/Island Open Ocean",
          "Others/Others",
          "Unknown/Others",
          "Unknown/Coastal",
          "Unknown/Estuary Harbour",
          "Unknown/Island Open Ocean",
          "Others/River",
          "Others/Coastal",
          "Unknown/Estuary Harbour",
          "Min.Lacerations/Island Open Ocean",
          "Unknown/Island Open Ocean",
          "",
          "Unknown/River",
          "Min.Lacerations/Island Open Ocean",
          "Min.Lacerations",
          ""
         ],
         "type": "sunburst",
         "values": [
          1,
          111,
          48,
          246,
          18,
          21,
          7,
          6,
          33,
          77,
          46,
          73,
          5,
          1,
          28,
          1,
          21,
          8,
          1,
          4,
          3,
          1,
          1,
          236,
          8,
          188,
          49,
          3,
          29,
          6,
          2,
          397,
          17,
          1,
          1,
          3,
          173,
          3,
          4,
          4,
          53,
          31,
          1,
          1,
          4,
          102,
          223,
          8,
          2,
          3,
          2,
          3,
          1,
          21,
          10,
          7,
          52,
          35,
          26,
          28,
          1,
          39,
          1,
          4,
          10,
          9,
          11,
          2,
          34,
          332,
          6,
          2,
          4,
          9,
          1,
          3,
          33,
          6,
          3,
          2,
          80,
          9,
          23,
          19,
          143,
          9,
          8,
          23,
          354
         ]
        }
       ],
       "layout": {
        "legend": {
         "tracegroupgap": 0
        },
        "template": {
         "data": {
          "bar": [
           {
            "error_x": {
             "color": "#2a3f5f"
            },
            "error_y": {
             "color": "#2a3f5f"
            },
            "marker": {
             "line": {
              "color": "#E5ECF6",
              "width": 0.5
             },
             "pattern": {
              "fillmode": "overlay",
              "size": 10,
              "solidity": 0.2
             }
            },
            "type": "bar"
           }
          ],
          "barpolar": [
           {
            "marker": {
             "line": {
              "color": "#E5ECF6",
              "width": 0.5
             },
             "pattern": {
              "fillmode": "overlay",
              "size": 10,
              "solidity": 0.2
             }
            },
            "type": "barpolar"
           }
          ],
          "carpet": [
           {
            "aaxis": {
             "endlinecolor": "#2a3f5f",
             "gridcolor": "white",
             "linecolor": "white",
             "minorgridcolor": "white",
             "startlinecolor": "#2a3f5f"
            },
            "baxis": {
             "endlinecolor": "#2a3f5f",
             "gridcolor": "white",
             "linecolor": "white",
             "minorgridcolor": "white",
             "startlinecolor": "#2a3f5f"
            },
            "type": "carpet"
           }
          ],
          "choropleth": [
           {
            "colorbar": {
             "outlinewidth": 0,
             "ticks": ""
            },
            "type": "choropleth"
           }
          ],
          "contour": [
           {
            "colorbar": {
             "outlinewidth": 0,
             "ticks": ""
            },
            "colorscale": [
             [
              0,
              "#0d0887"
             ],
             [
              0.1111111111111111,
              "#46039f"
             ],
             [
              0.2222222222222222,
              "#7201a8"
             ],
             [
              0.3333333333333333,
              "#9c179e"
             ],
             [
              0.4444444444444444,
              "#bd3786"
             ],
             [
              0.5555555555555556,
              "#d8576b"
             ],
             [
              0.6666666666666666,
              "#ed7953"
             ],
             [
              0.7777777777777778,
              "#fb9f3a"
             ],
             [
              0.8888888888888888,
              "#fdca26"
             ],
             [
              1,
              "#f0f921"
             ]
            ],
            "type": "contour"
           }
          ],
          "contourcarpet": [
           {
            "colorbar": {
             "outlinewidth": 0,
             "ticks": ""
            },
            "type": "contourcarpet"
           }
          ],
          "heatmap": [
           {
            "colorbar": {
             "outlinewidth": 0,
             "ticks": ""
            },
            "colorscale": [
             [
              0,
              "#0d0887"
             ],
             [
              0.1111111111111111,
              "#46039f"
             ],
             [
              0.2222222222222222,
              "#7201a8"
             ],
             [
              0.3333333333333333,
              "#9c179e"
             ],
             [
              0.4444444444444444,
              "#bd3786"
             ],
             [
              0.5555555555555556,
              "#d8576b"
             ],
             [
              0.6666666666666666,
              "#ed7953"
             ],
             [
              0.7777777777777778,
              "#fb9f3a"
             ],
             [
              0.8888888888888888,
              "#fdca26"
             ],
             [
              1,
              "#f0f921"
             ]
            ],
            "type": "heatmap"
           }
          ],
          "heatmapgl": [
           {
            "colorbar": {
             "outlinewidth": 0,
             "ticks": ""
            },
            "colorscale": [
             [
              0,
              "#0d0887"
             ],
             [
              0.1111111111111111,
              "#46039f"
             ],
             [
              0.2222222222222222,
              "#7201a8"
             ],
             [
              0.3333333333333333,
              "#9c179e"
             ],
             [
              0.4444444444444444,
              "#bd3786"
             ],
             [
              0.5555555555555556,
              "#d8576b"
             ],
             [
              0.6666666666666666,
              "#ed7953"
             ],
             [
              0.7777777777777778,
              "#fb9f3a"
             ],
             [
              0.8888888888888888,
              "#fdca26"
             ],
             [
              1,
              "#f0f921"
             ]
            ],
            "type": "heatmapgl"
           }
          ],
          "histogram": [
           {
            "marker": {
             "pattern": {
              "fillmode": "overlay",
              "size": 10,
              "solidity": 0.2
             }
            },
            "type": "histogram"
           }
          ],
          "histogram2d": [
           {
            "colorbar": {
             "outlinewidth": 0,
             "ticks": ""
            },
            "colorscale": [
             [
              0,
              "#0d0887"
             ],
             [
              0.1111111111111111,
              "#46039f"
             ],
             [
              0.2222222222222222,
              "#7201a8"
             ],
             [
              0.3333333333333333,
              "#9c179e"
             ],
             [
              0.4444444444444444,
              "#bd3786"
             ],
             [
              0.5555555555555556,
              "#d8576b"
             ],
             [
              0.6666666666666666,
              "#ed7953"
             ],
             [
              0.7777777777777778,
              "#fb9f3a"
             ],
             [
              0.8888888888888888,
              "#fdca26"
             ],
             [
              1,
              "#f0f921"
             ]
            ],
            "type": "histogram2d"
           }
          ],
          "histogram2dcontour": [
           {
            "colorbar": {
             "outlinewidth": 0,
             "ticks": ""
            },
            "colorscale": [
             [
              0,
              "#0d0887"
             ],
             [
              0.1111111111111111,
              "#46039f"
             ],
             [
              0.2222222222222222,
              "#7201a8"
             ],
             [
              0.3333333333333333,
              "#9c179e"
             ],
             [
              0.4444444444444444,
              "#bd3786"
             ],
             [
              0.5555555555555556,
              "#d8576b"
             ],
             [
              0.6666666666666666,
              "#ed7953"
             ],
             [
              0.7777777777777778,
              "#fb9f3a"
             ],
             [
              0.8888888888888888,
              "#fdca26"
             ],
             [
              1,
              "#f0f921"
             ]
            ],
            "type": "histogram2dcontour"
           }
          ],
          "mesh3d": [
           {
            "colorbar": {
             "outlinewidth": 0,
             "ticks": ""
            },
            "type": "mesh3d"
           }
          ],
          "parcoords": [
           {
            "line": {
             "colorbar": {
              "outlinewidth": 0,
              "ticks": ""
             }
            },
            "type": "parcoords"
           }
          ],
          "pie": [
           {
            "automargin": true,
            "type": "pie"
           }
          ],
          "scatter": [
           {
            "fillpattern": {
             "fillmode": "overlay",
             "size": 10,
             "solidity": 0.2
            },
            "type": "scatter"
           }
          ],
          "scatter3d": [
           {
            "line": {
             "colorbar": {
              "outlinewidth": 0,
              "ticks": ""
             }
            },
            "marker": {
             "colorbar": {
              "outlinewidth": 0,
              "ticks": ""
             }
            },
            "type": "scatter3d"
           }
          ],
          "scattercarpet": [
           {
            "marker": {
             "colorbar": {
              "outlinewidth": 0,
              "ticks": ""
             }
            },
            "type": "scattercarpet"
           }
          ],
          "scattergeo": [
           {
            "marker": {
             "colorbar": {
              "outlinewidth": 0,
              "ticks": ""
             }
            },
            "type": "scattergeo"
           }
          ],
          "scattergl": [
           {
            "marker": {
             "colorbar": {
              "outlinewidth": 0,
              "ticks": ""
             }
            },
            "type": "scattergl"
           }
          ],
          "scattermapbox": [
           {
            "marker": {
             "colorbar": {
              "outlinewidth": 0,
              "ticks": ""
             }
            },
            "type": "scattermapbox"
           }
          ],
          "scatterpolar": [
           {
            "marker": {
             "colorbar": {
              "outlinewidth": 0,
              "ticks": ""
             }
            },
            "type": "scatterpolar"
           }
          ],
          "scatterpolargl": [
           {
            "marker": {
             "colorbar": {
              "outlinewidth": 0,
              "ticks": ""
             }
            },
            "type": "scatterpolargl"
           }
          ],
          "scatterternary": [
           {
            "marker": {
             "colorbar": {
              "outlinewidth": 0,
              "ticks": ""
             }
            },
            "type": "scatterternary"
           }
          ],
          "surface": [
           {
            "colorbar": {
             "outlinewidth": 0,
             "ticks": ""
            },
            "colorscale": [
             [
              0,
              "#0d0887"
             ],
             [
              0.1111111111111111,
              "#46039f"
             ],
             [
              0.2222222222222222,
              "#7201a8"
             ],
             [
              0.3333333333333333,
              "#9c179e"
             ],
             [
              0.4444444444444444,
              "#bd3786"
             ],
             [
              0.5555555555555556,
              "#d8576b"
             ],
             [
              0.6666666666666666,
              "#ed7953"
             ],
             [
              0.7777777777777778,
              "#fb9f3a"
             ],
             [
              0.8888888888888888,
              "#fdca26"
             ],
             [
              1,
              "#f0f921"
             ]
            ],
            "type": "surface"
           }
          ],
          "table": [
           {
            "cells": {
             "fill": {
              "color": "#EBF0F8"
             },
             "line": {
              "color": "white"
             }
            },
            "header": {
             "fill": {
              "color": "#C8D4E3"
             },
             "line": {
              "color": "white"
             }
            },
            "type": "table"
           }
          ]
         },
         "layout": {
          "annotationdefaults": {
           "arrowcolor": "#2a3f5f",
           "arrowhead": 0,
           "arrowwidth": 1
          },
          "autotypenumbers": "strict",
          "coloraxis": {
           "colorbar": {
            "outlinewidth": 0,
            "ticks": ""
           }
          },
          "colorscale": {
           "diverging": [
            [
             0,
             "#8e0152"
            ],
            [
             0.1,
             "#c51b7d"
            ],
            [
             0.2,
             "#de77ae"
            ],
            [
             0.3,
             "#f1b6da"
            ],
            [
             0.4,
             "#fde0ef"
            ],
            [
             0.5,
             "#f7f7f7"
            ],
            [
             0.6,
             "#e6f5d0"
            ],
            [
             0.7,
             "#b8e186"
            ],
            [
             0.8,
             "#7fbc41"
            ],
            [
             0.9,
             "#4d9221"
            ],
            [
             1,
             "#276419"
            ]
           ],
           "sequential": [
            [
             0,
             "#0d0887"
            ],
            [
             0.1111111111111111,
             "#46039f"
            ],
            [
             0.2222222222222222,
             "#7201a8"
            ],
            [
             0.3333333333333333,
             "#9c179e"
            ],
            [
             0.4444444444444444,
             "#bd3786"
            ],
            [
             0.5555555555555556,
             "#d8576b"
            ],
            [
             0.6666666666666666,
             "#ed7953"
            ],
            [
             0.7777777777777778,
             "#fb9f3a"
            ],
            [
             0.8888888888888888,
             "#fdca26"
            ],
            [
             1,
             "#f0f921"
            ]
           ],
           "sequentialminus": [
            [
             0,
             "#0d0887"
            ],
            [
             0.1111111111111111,
             "#46039f"
            ],
            [
             0.2222222222222222,
             "#7201a8"
            ],
            [
             0.3333333333333333,
             "#9c179e"
            ],
            [
             0.4444444444444444,
             "#bd3786"
            ],
            [
             0.5555555555555556,
             "#d8576b"
            ],
            [
             0.6666666666666666,
             "#ed7953"
            ],
            [
             0.7777777777777778,
             "#fb9f3a"
            ],
            [
             0.8888888888888888,
             "#fdca26"
            ],
            [
             1,
             "#f0f921"
            ]
           ]
          },
          "colorway": [
           "#636efa",
           "#EF553B",
           "#00cc96",
           "#ab63fa",
           "#FFA15A",
           "#19d3f3",
           "#FF6692",
           "#B6E880",
           "#FF97FF",
           "#FECB52"
          ],
          "font": {
           "color": "#2a3f5f"
          },
          "geo": {
           "bgcolor": "white",
           "lakecolor": "white",
           "landcolor": "#E5ECF6",
           "showlakes": true,
           "showland": true,
           "subunitcolor": "white"
          },
          "hoverlabel": {
           "align": "left"
          },
          "hovermode": "closest",
          "mapbox": {
           "style": "light"
          },
          "paper_bgcolor": "white",
          "plot_bgcolor": "#E5ECF6",
          "polar": {
           "angularaxis": {
            "gridcolor": "white",
            "linecolor": "white",
            "ticks": ""
           },
           "bgcolor": "#E5ECF6",
           "radialaxis": {
            "gridcolor": "white",
            "linecolor": "white",
            "ticks": ""
           }
          },
          "scene": {
           "xaxis": {
            "backgroundcolor": "#E5ECF6",
            "gridcolor": "white",
            "gridwidth": 2,
            "linecolor": "white",
            "showbackground": true,
            "ticks": "",
            "zerolinecolor": "white"
           },
           "yaxis": {
            "backgroundcolor": "#E5ECF6",
            "gridcolor": "white",
            "gridwidth": 2,
            "linecolor": "white",
            "showbackground": true,
            "ticks": "",
            "zerolinecolor": "white"
           },
           "zaxis": {
            "backgroundcolor": "#E5ECF6",
            "gridcolor": "white",
            "gridwidth": 2,
            "linecolor": "white",
            "showbackground": true,
            "ticks": "",
            "zerolinecolor": "white"
           }
          },
          "shapedefaults": {
           "line": {
            "color": "#2a3f5f"
           }
          },
          "ternary": {
           "aaxis": {
            "gridcolor": "white",
            "linecolor": "white",
            "ticks": ""
           },
           "baxis": {
            "gridcolor": "white",
            "linecolor": "white",
            "ticks": ""
           },
           "bgcolor": "#E5ECF6",
           "caxis": {
            "gridcolor": "white",
            "linecolor": "white",
            "ticks": ""
           }
          },
          "title": {
           "x": 0.05
          },
          "xaxis": {
           "automargin": true,
           "gridcolor": "white",
           "linecolor": "white",
           "ticks": "",
           "title": {
            "standoff": 15
           },
           "zerolinecolor": "white",
           "zerolinewidth": 2
          },
          "yaxis": {
           "automargin": true,
           "gridcolor": "white",
           "linecolor": "white",
           "ticks": "",
           "title": {
            "standoff": 15
           },
           "zerolinecolor": "white",
           "zerolinewidth": 2
          }
         }
        },
        "title": {
         "text": "Injury Severity by Site Category and Shark Behavior"
        }
       }
      }
     },
     "metadata": {},
     "output_type": "display_data"
    }
   ],
   "source": [
    "sunburst_data = df[['injury_severity', 'site_category_cleaned', 'shark_behaviour_generic']].dropna()\n",
    "\n",
    "# Create Sunburst chart\n",
    "sunburst_fig = px.sunburst(\n",
    "    sunburst_data,\n",
    "    path=['injury_severity', 'site_category_cleaned', 'shark_behaviour_generic'],\n",
    "    title='Injury Severity by Site Category and Shark Behavior',\n",
    "    labels={\n",
    "        'injury_severity': 'Injury Severity',\n",
    "        'site_category_cleaned': 'Site Category',\n",
    "        'shark_behaviour_generic': 'Shark Behavior'\n",
    "    },\n",
    "    color='injury_severity'\n",
    ")\n",
    "\n",
    "# Show the chart\n",
    "sunburst_fig.show()"
   ]
  },
  {
   "cell_type": "code",
   "execution_count": 7,
   "metadata": {},
   "outputs": [
    {
     "data": {
      "application/vnd.plotly.v1+json": {
       "config": {
        "plotlyServerURL": "https://plot.ly"
       },
       "data": [
        {
         "alignmentgroup": "True",
         "box": {
          "visible": true
         },
         "hovertemplate": "Site Category=Coastal<br>Injury Severity=%{x}<br>Number of Sharks=%{y}<extra></extra>",
         "legendgroup": "Coastal",
         "marker": {
          "color": "#636efa"
         },
         "name": "Coastal",
         "offsetgroup": "Coastal",
         "orientation": "v",
         "points": "all",
         "scalegroup": "True",
         "showlegend": true,
         "type": "violin",
         "x": [
          "Unknown",
          "Maj.Lacerations",
          "Maj.Lacerations",
          "Unknown",
          "Unknown",
          "Maj.Lacerations",
          "Others",
          "Unknown",
          "Unknown",
          "Maj.Lacerations",
          "Unknown",
          "Maj.Lacerations",
          "Min.Lacerations",
          "Others",
          "Unknown",
          "Maj.Lacerations",
          "Unknown",
          "Maj.Lacerations",
          "Min.Lacerations",
          "Min.Lacerations",
          "Unknown",
          "Unknown",
          "Min.Lacerations",
          "Unknown",
          "Maj.Lacerations",
          "Unknown",
          "Maj.Lacerations",
          "Min.Lacerations",
          "Maj.Lacerations",
          "Min.Lacerations",
          "Maj.Lacerations",
          "Maj.Lacerations",
          "Min.Lacerations",
          "Maj.Lacerations",
          "Unknown",
          "Unknown",
          "Maj.Lacerations",
          "Unknown",
          "Min.Lacerations",
          "Others",
          "Unknown",
          "Maj.Lacerations",
          "Unknown",
          "Unknown",
          "Min.Lacerations",
          "Others",
          "Unknown",
          "Unknown",
          "Maj.Lacerations",
          "Maj.Lacerations",
          "Unknown",
          "Unknown",
          "Maj.Lacerations",
          "Unknown",
          "Maj.Lacerations",
          "Maj.Lacerations",
          "Maj.Lacerations",
          "Maj.Lacerations",
          "Min.Lacerations",
          "Min.Lacerations",
          "Min.Lacerations",
          "Unknown",
          "Min.Lacerations",
          "Min.Lacerations",
          "Min.Lacerations",
          "Maj.Lacerations",
          "Unknown",
          "Min.Lacerations",
          "Unknown",
          "Maj.Lacerations",
          "Maj.Lacerations",
          "Maj.Lacerations",
          "Maj.Lacerations",
          "Min.Lacerations",
          "Maj.Lacerations",
          "Maj.Lacerations",
          "Min.Lacerations",
          "Maj.Lacerations",
          "Unknown",
          "Maj.Lacerations",
          "Maj.Lacerations",
          "Min.Lacerations",
          "Maj.Lacerations",
          "Maj.Lacerations",
          "Min.Lacerations",
          "Unknown",
          "Unknown",
          "Maj.Lacerations",
          "Min.Lacerations",
          "Maj.Lacerations",
          "Maj.Lacerations",
          "Maj.Lacerations",
          "Unknown",
          "Others",
          "Unknown",
          "Min.Lacerations",
          "Maj.Lacerations",
          "Maj.Lacerations",
          "Maj.Lacerations",
          "Maj.Lacerations",
          "Maj.Lacerations",
          "Maj.Lacerations",
          "Maj.Lacerations",
          "Maj.Lacerations",
          "Unknown",
          "Min.Lacerations",
          "Maj.Lacerations",
          "Maj.Lacerations",
          "Maj.Lacerations",
          "Others",
          "Maj.Lacerations",
          "Min.Lacerations",
          "Maj.Lacerations",
          "Maj.Lacerations",
          "Unknown",
          "Unknown",
          "Unknown",
          "Maj.Lacerations",
          "Maj.Lacerations",
          "Unknown",
          "Unknown",
          "Others",
          "Min.Lacerations",
          "Maj.Lacerations",
          "Min.Lacerations",
          "Min.Lacerations",
          "Maj.Lacerations",
          "Maj.Lacerations",
          "Unknown",
          "Unknown",
          "Maj.Lacerations",
          "Min.Lacerations",
          "Maj.Lacerations",
          "Maj.Lacerations",
          "Min.Lacerations",
          "Maj.Lacerations",
          "Unknown",
          "Maj.Lacerations",
          "Min.Lacerations",
          "Maj.Lacerations",
          "Others",
          "Maj.Lacerations",
          "Maj.Lacerations",
          "Unknown",
          "Maj.Lacerations",
          "Unknown",
          "Unknown",
          "Maj.Lacerations",
          "Min.Lacerations",
          "Maj.Lacerations",
          "Min.Lacerations",
          "Others",
          "Maj.Lacerations",
          "Maj.Lacerations",
          "Unknown",
          "Min.Lacerations",
          "Others",
          "Min.Lacerations",
          "Min.Lacerations",
          "Maj.Lacerations",
          "Unknown",
          "Maj.Lacerations",
          "Maj.Lacerations",
          "Min.Lacerations",
          "Maj.Lacerations",
          "Min.Lacerations",
          "Unknown",
          "Min.Lacerations",
          "Maj.Lacerations",
          "Maj.Lacerations",
          "Maj.Lacerations",
          "Min.Lacerations",
          "Maj.Lacerations",
          "Maj.Lacerations",
          "Unknown",
          "Min.Lacerations",
          "Unknown",
          "Maj.Lacerations",
          "Unknown",
          "Maj.Lacerations",
          "Maj.Lacerations",
          "Others",
          "Maj.Lacerations",
          "Min.Lacerations",
          "Min.Lacerations",
          "Maj.Lacerations",
          "Unknown",
          "Maj.Lacerations",
          "Maj.Lacerations",
          "Min.Lacerations",
          "Maj.Lacerations",
          "Maj.Lacerations",
          "Unknown",
          "Min.Lacerations",
          "Others",
          "Others",
          "Maj.Lacerations",
          "Maj.Lacerations",
          "Others",
          "Min.Lacerations",
          "Min.Lacerations",
          "Unknown",
          "Others",
          "Others",
          "Min.Lacerations",
          "Min.Lacerations",
          "Maj.Lacerations",
          "Unknown",
          "Min.Lacerations",
          "Unknown",
          "Unknown",
          "Maj.Lacerations",
          "Others",
          "Unknown",
          "Unknown",
          "Min.Lacerations",
          "Min.Lacerations",
          "Others",
          "Min.Lacerations",
          "Unknown",
          "Min.Lacerations",
          "Maj.Lacerations",
          "Min.Lacerations",
          "Unknown",
          "Unknown",
          "Maj.Lacerations",
          "Maj.Lacerations",
          "Unknown",
          "Min.Lacerations",
          "Others",
          "Unknown",
          "Min.Lacerations",
          "Others",
          "Others",
          "Others",
          "Others",
          "Maj.Lacerations",
          "Maj.Lacerations",
          "Unknown",
          "Maj.Lacerations",
          "Maj.Lacerations",
          "Maj.Lacerations",
          "Maj.Lacerations",
          "Unknown",
          "Others",
          "Unknown",
          "Maj.Lacerations",
          "Min.Lacerations",
          "Maj.Lacerations",
          "Min.Lacerations",
          "Unknown",
          "Others",
          "Maj.Lacerations",
          "Min.Lacerations",
          "Others",
          "Maj.Lacerations",
          "Maj.Lacerations",
          "Maj.Lacerations",
          "Min.Lacerations",
          "Maj.Lacerations",
          "Min.Lacerations",
          "Maj.Lacerations",
          "Unknown",
          "Min.Lacerations",
          "Min.Lacerations",
          "Min.Lacerations",
          "Unknown",
          "Min.Lacerations",
          "Min.Lacerations",
          "Maj.Lacerations",
          "Unknown",
          "Min.Lacerations",
          "Min.Lacerations",
          "Maj.Lacerations",
          "Unknown",
          "Unknown",
          "Min.Lacerations",
          "Maj.Lacerations",
          "Min.Lacerations",
          "Maj.Lacerations",
          "Unknown",
          "Min.Lacerations",
          "Maj.Lacerations",
          "Maj.Lacerations",
          "Unknown",
          "Unknown",
          "Maj.Lacerations",
          "Min.Lacerations",
          "Unknown",
          "Unknown",
          "Others",
          "Unknown",
          "Min.Lacerations",
          "Min.Lacerations",
          "Min.Lacerations",
          "Min.Lacerations",
          "Unknown",
          "Min.Lacerations",
          "Maj.Lacerations",
          "Unknown",
          "Others",
          "Unknown",
          "Unknown",
          "Maj.Lacerations",
          "Min.Lacerations",
          "Others",
          "Unknown",
          "Min.Lacerations",
          "Unknown",
          "Unknown",
          "Maj.Lacerations",
          "Unknown",
          "Maj.Lacerations",
          "Others",
          "Others",
          "Min.Lacerations",
          "Others",
          "Unknown",
          "Unknown",
          "Min.Lacerations",
          "Min.Lacerations",
          "Others",
          "Min.Lacerations",
          "Unknown",
          "Unknown",
          "Unknown",
          "Unknown",
          "Others",
          "Others",
          "Unknown",
          "Unknown",
          "Min.Lacerations",
          "Min.Lacerations",
          "Min.Lacerations",
          "Unknown",
          "Unknown",
          "Others",
          "Min.Lacerations",
          "Min.Lacerations",
          "Unknown",
          "Unknown",
          "Min.Lacerations",
          "Maj.Lacerations",
          "Others",
          "Maj.Lacerations",
          "Unknown",
          "Min.Lacerations",
          "Min.Lacerations",
          "Maj.Lacerations",
          "Min.Lacerations",
          "Maj.Lacerations",
          "Maj.Lacerations",
          "Unknown",
          "Others",
          "Others",
          "Others",
          "Others",
          "Min.Lacerations",
          "Min.Lacerations",
          "Maj.Lacerations",
          "Min.Lacerations",
          "Min.Lacerations",
          "Others",
          "Min.Lacerations",
          "Others",
          "Others",
          "Unknown",
          "Min.Lacerations",
          "Min.Lacerations",
          "Others",
          "Min.Lacerations",
          "Min.Lacerations",
          "Others",
          "Unknown",
          "Min.Lacerations",
          "Min.Lacerations",
          "Min.Lacerations",
          "Min.Lacerations",
          "Others",
          "Maj.Lacerations",
          "Min.Lacerations",
          "Min.Lacerations",
          "Others",
          "Maj.Lacerations",
          "Min.Lacerations",
          "Unknown",
          "Unknown",
          "Maj.Lacerations",
          "Others",
          "Maj.Lacerations",
          "Min.Lacerations",
          "Unknown",
          "Unknown",
          "Others",
          "Unknown",
          "Unknown",
          "Min.Lacerations",
          "Unknown",
          "Unknown",
          "Maj.Lacerations",
          "Min.Lacerations",
          "Min.Lacerations",
          "Unknown",
          "Unknown",
          "Others",
          "Others",
          "Others",
          "Min.Lacerations",
          "Unknown",
          "Min.Lacerations",
          "Others",
          "Others",
          "Unknown",
          "Unknown",
          "Min.Lacerations",
          "Unknown",
          "Maj.Lacerations",
          "Others",
          "Unknown",
          "Min.Lacerations",
          "Others",
          "Min.Lacerations",
          "Unknown",
          "Min.Lacerations",
          "Maj.Lacerations",
          "Others",
          "Others",
          "Min.Lacerations",
          "Min.Lacerations",
          "Others",
          "Others",
          "Unknown",
          "Others",
          "Unknown",
          "Others",
          "Others",
          "Maj.Lacerations",
          "Unknown",
          "Others",
          "Others",
          "Others",
          "Others",
          "Others",
          "Others",
          "Min.Lacerations",
          "Maj.Lacerations",
          "Others",
          "Unknown",
          "Min.Lacerations",
          "Min.Lacerations",
          "Unknown",
          "Unknown",
          "Unknown",
          "Unknown",
          "Min.Lacerations",
          "Unknown",
          "Unknown",
          "Min.Lacerations",
          "Unknown",
          "Min.Lacerations",
          "Min.Lacerations",
          "Min.Lacerations",
          "Maj.Lacerations",
          "Maj.Lacerations",
          "Min.Lacerations",
          "Min.Lacerations",
          "Unknown",
          "Others",
          "Min.Lacerations",
          "Unknown",
          "Unknown",
          "Min.Lacerations",
          "Unknown",
          "Min.Lacerations",
          "Min.Lacerations",
          "Maj.Lacerations",
          "Maj.Lacerations",
          "Maj.Lacerations",
          "Others",
          "Unknown",
          "Min.Lacerations",
          "Min.Lacerations",
          "Unknown",
          "Min.Lacerations",
          "Min.Lacerations",
          "Others",
          "Others",
          "Maj.Lacerations",
          "Others",
          "Maj.Lacerations",
          "Unknown",
          "Unknown",
          "Unknown",
          "Unknown",
          "Unknown",
          "Maj.Lacerations",
          "Min.Lacerations",
          "Unknown",
          "Maj.Lacerations",
          "Unknown",
          "Maj.Lacerations",
          "Unknown",
          "Maj.Lacerations",
          "Unknown",
          "Min.Lacerations",
          "Others",
          "Unknown",
          "Min.Lacerations",
          "Others",
          "Unknown",
          "Unknown",
          "Min.Lacerations",
          "Others",
          "Unknown",
          "Min.Lacerations",
          "Unknown",
          "Unknown",
          "Min.Lacerations",
          "Others",
          "Unknown",
          "Maj.Lacerations",
          "Others",
          "Others",
          "Maj.Lacerations",
          "Min.Lacerations",
          "Maj.Lacerations",
          "Others",
          "Min.Lacerations",
          "Min.Lacerations",
          "Maj.Lacerations",
          "Maj.Lacerations",
          "Maj.Lacerations",
          "Others",
          "Maj.Lacerations",
          "Unknown",
          "Unknown",
          "Others",
          "Min.Lacerations",
          "Min.Lacerations",
          "Min.Lacerations",
          "Maj.Lacerations",
          "Min.Lacerations",
          "Unknown",
          "Unknown",
          "Min.Lacerations",
          "Unknown",
          "Maj.Lacerations",
          "Others",
          "Unknown",
          "Min.Lacerations",
          "Others",
          "Unknown",
          "Maj.Lacerations",
          "Unknown",
          "Maj.Lacerations",
          "Unknown",
          "Maj.Lacerations",
          "Unknown",
          "Min.Lacerations",
          "Min.Lacerations",
          "Others",
          "Unknown",
          "Others",
          "Unknown",
          "Min.Lacerations",
          "Min.Lacerations",
          "Min.Lacerations",
          "Maj.Lacerations",
          "Maj.Lacerations",
          "Others",
          "Min.Lacerations",
          "Unknown",
          "Unknown",
          "Min.Lacerations",
          "Unknown",
          "Unknown",
          "Min.Lacerations",
          "Min.Lacerations",
          "Min.Lacerations",
          "Min.Lacerations",
          "Maj.Lacerations",
          "Maj.Lacerations",
          "Min.Lacerations",
          "Min.Lacerations",
          "Min.Lacerations",
          "Maj.Lacerations",
          "Others",
          "Others",
          "Others",
          "Others",
          "Min.Lacerations",
          "Maj.Lacerations",
          "Unknown",
          "Min.Lacerations",
          "Unknown",
          "Min.Lacerations",
          "Maj.Lacerations",
          "Maj.Lacerations",
          "Min.Lacerations",
          "Min.Lacerations",
          "Min.Lacerations",
          "Maj.Lacerations",
          "Maj.Lacerations",
          "Others",
          "Unknown",
          "Min.Lacerations",
          "Unknown",
          "Maj.Lacerations",
          "Maj.Lacerations",
          "Unknown",
          "Maj.Lacerations",
          "Min.Lacerations",
          "Maj.Lacerations",
          "Maj.Lacerations",
          "Min.Lacerations",
          "Maj.Lacerations",
          "Min.Lacerations",
          "Min.Lacerations",
          "Maj.Lacerations",
          "Maj.Lacerations",
          "Maj.Lacerations",
          "Min.Lacerations",
          "Unknown",
          "Unknown",
          "Min.Lacerations",
          "Unknown",
          "Maj.Lacerations",
          "Min.Lacerations",
          "Maj.Lacerations",
          "Unknown",
          "Unknown",
          "Unknown",
          "Unknown",
          "Unknown",
          "Unknown",
          "Unknown",
          "Min.Lacerations",
          "Unknown",
          "Min.Lacerations",
          "Min.Lacerations",
          "Min.Lacerations",
          "Min.Lacerations",
          "Maj.Lacerations",
          "Min.Lacerations",
          "Unknown",
          "Unknown",
          "Min.Lacerations",
          "Min.Lacerations",
          "Unknown",
          "Min.Lacerations",
          "Maj.Lacerations",
          "Unknown",
          "Unknown",
          "Min.Lacerations",
          "Unknown",
          "Unknown",
          "Min.Lacerations",
          "Min.Lacerations",
          "Unknown",
          "Unknown",
          "Min.Lacerations",
          "Min.Lacerations",
          "Maj.Lacerations",
          "Unknown",
          "Min.Lacerations",
          "Min.Lacerations",
          "Maj.Lacerations",
          "Unknown",
          "Unknown",
          "Min.Lacerations",
          "Unknown",
          "Maj.Lacerations",
          "Maj.Lacerations",
          "Unknown",
          "Unknown",
          "Others",
          "Min.Lacerations",
          "Unknown",
          "Min.Lacerations",
          "Maj.Lacerations",
          "Min.Lacerations",
          "Min.Lacerations",
          "Min.Lacerations",
          "Unknown",
          "Maj.Lacerations",
          "Min.Lacerations",
          "Min.Lacerations",
          "Unknown",
          "Maj.Lacerations",
          "Maj.Lacerations",
          "Min.Lacerations",
          "Maj.Lacerations",
          "Unknown",
          "Min.Lacerations",
          "Min.Lacerations",
          "Unknown",
          "Unknown",
          "Min.Lacerations",
          "Unknown",
          "Unknown",
          "Unknown",
          "Unknown",
          "Unknown",
          "Unknown",
          "Unknown",
          "Unknown",
          "Maj.Lacerations",
          "Unknown",
          "Maj.Lacerations",
          "Maj.Lacerations",
          "Unknown",
          "Min.Lacerations",
          "Min.Lacerations",
          "Min.Lacerations",
          "Unknown",
          "Unknown",
          "Unknown",
          "Min.Lacerations",
          "Unknown",
          "Min.Lacerations",
          "Unknown",
          "Maj.Lacerations",
          "Unknown",
          "Unknown",
          "Maj.Lacerations",
          "Min.Lacerations",
          "Unknown",
          "Unknown",
          "Min.Lacerations",
          "Unknown",
          "Unknown",
          "Min.Lacerations",
          "Unknown",
          "Unknown",
          "Min.Lacerations",
          "Min.Lacerations",
          "Min.Lacerations",
          "Unknown",
          "Unknown",
          "Maj.Lacerations",
          "Unknown",
          "Min.Lacerations",
          "Maj.Lacerations",
          "Unknown",
          "Min.Lacerations",
          "Min.Lacerations",
          "Min.Lacerations",
          "Unknown",
          "Min.Lacerations",
          "Unknown",
          "Maj.Lacerations",
          "Maj.Lacerations",
          "Maj.Lacerations",
          "Others",
          "Maj.Lacerations",
          "Maj.Lacerations",
          "Others",
          "Unknown",
          "Maj.Lacerations",
          "Unknown",
          "Unknown",
          "Others",
          "Others",
          "Others",
          "Unknown",
          "Unknown"
         ],
         "x0": " ",
         "xaxis": "x",
         "y": [
          1,
          1,
          1,
          1,
          1,
          1,
          1,
          1,
          1,
          1,
          1,
          1,
          1,
          1,
          1,
          1,
          2,
          1,
          1,
          1,
          1,
          1,
          1,
          1,
          1,
          1,
          1,
          1,
          1,
          1,
          1,
          1,
          1,
          1,
          1,
          2,
          1,
          1,
          1,
          1,
          1,
          1,
          3,
          1,
          1,
          1,
          1,
          1,
          1,
          1,
          1,
          1,
          1,
          1,
          1,
          1,
          1,
          1,
          1,
          1,
          1,
          1,
          1,
          1,
          1,
          1,
          1,
          1,
          1,
          1,
          1,
          1,
          1,
          1,
          1,
          1,
          1,
          1,
          1,
          1,
          1,
          1,
          1,
          1,
          1,
          1,
          1,
          1,
          1,
          1,
          1,
          1,
          1,
          1,
          3,
          1,
          1,
          1,
          1,
          1,
          1,
          1,
          1,
          1,
          1,
          1,
          1,
          1,
          1,
          1,
          1,
          1,
          1,
          1,
          1,
          1,
          1,
          1,
          1,
          1,
          1,
          1,
          1,
          1,
          1,
          1,
          1,
          1,
          1,
          1,
          1,
          1,
          1,
          1,
          1,
          1,
          3,
          1,
          1,
          1,
          1,
          1,
          1,
          1,
          1,
          1,
          1,
          1,
          1,
          1,
          1,
          1,
          1,
          1,
          1,
          1,
          1,
          1,
          1,
          1,
          1,
          1,
          1,
          1,
          1,
          1,
          1,
          1,
          1,
          1,
          1,
          1,
          1,
          1,
          2,
          1,
          1,
          1,
          1,
          1,
          1,
          1,
          1,
          2,
          1,
          1,
          1,
          1,
          1,
          1,
          1,
          1,
          1,
          1,
          1,
          1,
          1,
          1,
          1,
          1,
          1,
          1,
          1,
          1,
          1,
          1,
          1,
          1,
          1,
          1,
          1,
          1,
          1,
          1,
          1,
          1,
          1,
          1,
          1,
          1,
          1,
          1,
          1,
          1,
          1,
          1,
          1,
          1,
          1,
          1,
          1,
          1,
          1,
          1,
          1,
          1,
          1,
          1,
          1,
          1,
          1,
          1,
          1,
          1,
          1,
          1,
          1,
          1,
          1,
          1,
          1,
          1,
          1,
          1,
          1,
          1,
          1,
          1,
          1,
          1,
          1,
          1,
          1,
          1,
          1,
          1,
          1,
          1,
          1,
          1,
          1,
          1,
          3,
          1,
          1,
          1,
          1,
          1,
          1,
          1,
          1,
          1,
          1,
          1,
          1,
          1,
          1,
          1,
          1,
          1,
          1,
          1,
          1,
          1,
          1,
          1,
          1,
          1,
          1,
          1,
          1,
          1,
          1,
          1,
          1,
          1,
          1,
          1,
          1,
          1,
          1,
          1,
          1,
          1,
          1,
          1,
          1,
          1,
          1,
          1,
          1,
          1,
          1,
          3,
          2,
          1,
          1,
          1,
          1,
          1,
          1,
          1,
          1,
          1,
          1,
          1,
          1,
          1,
          1,
          1,
          1,
          1,
          1,
          1,
          1,
          1,
          1,
          1,
          1,
          1,
          1,
          1,
          1,
          1,
          1,
          1,
          1,
          1,
          1,
          1,
          1,
          1,
          1,
          1,
          1,
          1,
          1,
          1,
          1,
          1,
          1,
          1,
          1,
          1,
          1,
          1,
          1,
          1,
          1,
          1,
          1,
          1,
          1,
          1,
          1,
          1,
          1,
          1,
          1,
          1,
          1,
          1,
          1,
          1,
          1,
          1,
          1,
          1,
          1,
          1,
          1,
          1,
          1,
          1,
          1,
          1,
          1,
          1,
          1,
          1,
          1,
          1,
          1,
          1,
          1,
          1,
          1,
          1,
          1,
          1,
          1,
          1,
          1,
          1,
          1,
          1,
          1,
          1,
          1,
          1,
          1,
          1,
          1,
          1,
          1,
          1,
          1,
          1,
          1,
          1,
          1,
          1,
          1,
          1,
          1,
          2,
          1,
          1,
          1,
          1,
          1,
          1,
          1,
          1,
          2,
          1,
          1,
          1,
          1,
          1,
          1,
          1,
          2,
          1,
          1,
          1,
          1,
          1,
          1,
          1,
          1,
          1,
          1,
          1,
          1,
          1,
          1,
          1,
          1,
          1,
          1,
          1,
          1,
          1,
          1,
          1,
          1,
          1,
          1,
          1,
          1,
          1,
          1,
          1,
          1,
          1,
          1,
          1,
          1,
          1,
          1,
          1,
          1,
          1,
          1,
          1,
          1,
          1,
          1,
          1,
          1,
          1,
          1,
          1,
          1,
          1,
          1,
          1,
          1,
          1,
          1,
          1,
          1,
          1,
          1,
          1,
          1,
          1,
          1,
          1,
          1,
          1,
          1,
          1,
          1,
          1,
          1,
          1,
          1,
          1,
          1,
          1,
          1,
          1,
          1,
          1,
          1,
          1,
          1,
          1,
          1,
          1,
          1,
          1,
          1,
          1,
          1,
          1,
          1,
          1,
          1,
          1,
          1,
          1,
          1,
          1,
          1,
          1,
          1,
          1,
          1,
          1,
          1,
          1,
          1,
          1,
          1,
          1,
          1,
          1,
          1,
          1,
          1,
          1,
          1,
          1,
          1,
          1,
          1,
          1,
          1,
          1,
          1,
          1,
          1,
          1,
          1,
          1,
          1,
          1,
          1,
          1,
          1,
          1,
          1,
          1,
          1,
          1,
          1,
          1,
          1,
          1,
          1,
          1,
          1,
          1,
          1,
          1,
          1,
          1,
          1,
          1,
          1,
          1,
          1,
          1,
          1,
          1,
          1,
          2,
          1,
          1,
          1,
          1,
          1,
          1,
          1,
          1,
          1,
          1,
          1,
          1,
          1,
          1,
          1,
          1,
          1,
          1,
          1,
          1,
          1,
          1,
          1,
          1,
          1,
          1,
          1,
          1,
          1,
          1,
          1,
          1,
          1,
          1,
          1,
          1,
          1,
          1,
          1,
          1,
          1,
          1,
          1,
          1,
          1,
          1,
          1,
          1,
          1,
          1,
          1,
          1,
          1,
          1,
          1,
          1,
          1,
          1,
          2,
          1,
          1,
          1,
          1,
          1,
          1,
          1,
          1,
          1,
          1,
          1,
          1,
          1,
          1,
          1,
          1,
          1,
          1,
          1,
          1,
          1,
          1,
          1,
          1,
          1,
          1,
          1,
          1,
          1,
          1,
          1,
          1,
          1,
          1,
          1,
          1,
          1,
          1,
          1,
          1,
          1,
          1,
          1,
          1,
          1,
          1,
          1,
          1,
          1,
          1,
          1,
          1,
          1,
          1,
          1,
          1,
          1,
          1,
          1,
          1,
          1,
          1,
          1,
          1,
          1,
          1,
          1,
          1,
          1,
          1,
          1,
          1,
          1,
          1,
          1,
          1,
          1
         ],
         "y0": " ",
         "yaxis": "y"
        },
        {
         "alignmentgroup": "True",
         "box": {
          "visible": true
         },
         "hovertemplate": "Site Category=Estuary Harbour<br>Injury Severity=%{x}<br>Number of Sharks=%{y}<extra></extra>",
         "legendgroup": "Estuary Harbour",
         "marker": {
          "color": "#EF553B"
         },
         "name": "Estuary Harbour",
         "offsetgroup": "Estuary Harbour",
         "orientation": "v",
         "points": "all",
         "scalegroup": "True",
         "showlegend": true,
         "type": "violin",
         "x": [
          "Min.Lacerations",
          "Min.Lacerations",
          "Maj.Lacerations",
          "Maj.Lacerations",
          "Maj.Lacerations",
          "Min.Lacerations",
          "Unknown",
          "Maj.Lacerations",
          "Maj.Lacerations",
          "Maj.Lacerations",
          "Maj.Lacerations",
          "Maj.Lacerations",
          "Min.Lacerations",
          "Maj.Lacerations",
          "Maj.Lacerations",
          "Maj.Lacerations",
          "Unknown",
          "Unknown",
          "Unknown",
          "Maj.Lacerations",
          "Maj.Lacerations",
          "Unknown",
          "Unknown",
          "Maj.Lacerations",
          "Maj.Lacerations",
          "Maj.Lacerations",
          "Maj.Lacerations",
          "Maj.Lacerations",
          "Min.Lacerations",
          "Min.Lacerations",
          "Min.Lacerations",
          "Maj.Lacerations",
          "Maj.Lacerations",
          "Maj.Lacerations",
          "Maj.Lacerations",
          "Unknown",
          "Maj.Lacerations",
          "Maj.Lacerations",
          "Maj.Lacerations",
          "Maj.Lacerations",
          "Unknown",
          "Maj.Lacerations",
          "Min.Lacerations",
          "Maj.Lacerations",
          "Maj.Lacerations",
          "Maj.Lacerations",
          "Maj.Lacerations",
          "Unknown",
          "Maj.Lacerations",
          "Min.Lacerations",
          "Maj.Lacerations",
          "Min.Lacerations",
          "Maj.Lacerations",
          "Others",
          "Unknown",
          "Others",
          "Maj.Lacerations",
          "Maj.Lacerations",
          "Maj.Lacerations",
          "Maj.Lacerations",
          "Maj.Lacerations",
          "Maj.Lacerations",
          "Maj.Lacerations",
          "Maj.Lacerations",
          "Maj.Lacerations",
          "Min.Lacerations",
          "Min.Lacerations",
          "Unknown",
          "Others",
          "Unknown",
          "Maj.Lacerations",
          "Maj.Lacerations",
          "Maj.Lacerations",
          "Unknown",
          "Maj.Lacerations",
          "Maj.Lacerations",
          "Others",
          "Unknown",
          "Unknown",
          "Others",
          "Others",
          "Min.Lacerations",
          "Others",
          "Min.Lacerations",
          "Others",
          "Maj.Lacerations",
          "Min.Lacerations",
          "Min.Lacerations",
          "Min.Lacerations",
          "Unknown",
          "Min.Lacerations",
          "Unknown",
          "Maj.Lacerations",
          "Unknown",
          "Min.Lacerations",
          "Min.Lacerations",
          "Unknown",
          "Unknown",
          "Unknown",
          "Unknown",
          "Min.Lacerations",
          "Unknown",
          "Unknown"
         ],
         "x0": " ",
         "xaxis": "x",
         "y": [
          1,
          1,
          1,
          1,
          1,
          1,
          1,
          1,
          1,
          1,
          1,
          1,
          1,
          1,
          1,
          1,
          1,
          1,
          1,
          1,
          1,
          1,
          1,
          1,
          1,
          1,
          1,
          1,
          1,
          1,
          1,
          1,
          1,
          1,
          1,
          1,
          1,
          1,
          1,
          1,
          1,
          1,
          1,
          1,
          1,
          1,
          1,
          1,
          4,
          1,
          1,
          1,
          1,
          1,
          1,
          1,
          1,
          1,
          1,
          1,
          1,
          1,
          1,
          1,
          1,
          1,
          1,
          1,
          1,
          1,
          1,
          1,
          1,
          1,
          1,
          1,
          1,
          1,
          1,
          1,
          1,
          1,
          1,
          1,
          1,
          1,
          1,
          1,
          1,
          1,
          1,
          1,
          1,
          1,
          1,
          1,
          1,
          1,
          1,
          1,
          1,
          1,
          1
         ],
         "y0": " ",
         "yaxis": "y"
        },
        {
         "alignmentgroup": "True",
         "box": {
          "visible": true
         },
         "hovertemplate": "Site Category=Island Open Ocean<br>Injury Severity=%{x}<br>Number of Sharks=%{y}<extra></extra>",
         "legendgroup": "Island Open Ocean",
         "marker": {
          "color": "#00cc96"
         },
         "name": "Island Open Ocean",
         "offsetgroup": "Island Open Ocean",
         "orientation": "v",
         "points": "all",
         "scalegroup": "True",
         "showlegend": true,
         "type": "violin",
         "x": [
          "Maj.Lacerations",
          "Maj.Lacerations",
          "Maj.Lacerations",
          "Maj.Lacerations",
          "Maj.Lacerations",
          "Unknown",
          "Others",
          "Min.Lacerations",
          "Unknown",
          "Unknown",
          "Maj.Lacerations",
          "Maj.Lacerations",
          "Maj.Lacerations",
          "Maj.Lacerations",
          "Maj.Lacerations",
          "Min.Lacerations",
          "Maj.Lacerations",
          "Maj.Lacerations",
          "Min.Lacerations",
          "Maj.Lacerations",
          "Min.Lacerations",
          "Maj.Lacerations",
          "Unknown",
          "Min.Lacerations",
          "Maj.Lacerations",
          "Maj.Lacerations",
          "Maj.Lacerations",
          "Maj.Lacerations",
          "Min.Lacerations",
          "Maj.Lacerations",
          "Unknown",
          "Maj.Lacerations",
          "Unknown",
          "Others",
          "Maj.Lacerations",
          "Min.Lacerations",
          "Maj.Lacerations",
          "Maj.Lacerations",
          "Min.Lacerations",
          "Maj.Lacerations",
          "Maj.Lacerations",
          "Maj.Lacerations",
          "Maj.Lacerations",
          "Maj.Lacerations",
          "Maj.Lacerations",
          "Maj.Lacerations",
          "Min.Lacerations",
          "Unknown",
          "Unknown",
          "Maj.Lacerations",
          "Maj.Lacerations",
          "Maj.Lacerations",
          "Others",
          "Maj.Lacerations",
          "Min.Lacerations",
          "Maj.Lacerations",
          "Maj.Lacerations",
          "Maj.Lacerations",
          "Min.Lacerations",
          "Min.Lacerations",
          "Maj.Lacerations",
          "Maj.Lacerations",
          "Maj.Lacerations",
          "Others",
          "Maj.Lacerations",
          "Min.Lacerations",
          "Unknown",
          "Maj.Lacerations",
          "Maj.Lacerations",
          "Others",
          "Unknown",
          "Maj.Lacerations",
          "Unknown",
          "Min.Lacerations",
          "Maj.Lacerations",
          "Maj.Lacerations",
          "Others",
          "Unknown",
          "Unknown",
          "Unknown",
          "Min.Lacerations",
          "Min.Lacerations",
          "Unknown",
          "Unknown",
          "Min.Lacerations",
          "Others",
          "Unknown",
          "Min.Lacerations",
          "Others",
          "Unknown",
          "Others",
          "Min.Lacerations",
          "Unknown",
          "Unknown",
          "Unknown",
          "Unknown",
          "Others",
          "Min.Lacerations",
          "Others",
          "Unknown",
          "Min.Lacerations",
          "Unknown",
          "Unknown",
          "Others",
          "Unknown",
          "Others",
          "Maj.Lacerations",
          "Unknown",
          "Others",
          "Maj.Lacerations",
          "Min.Lacerations",
          "Others",
          "Min.Lacerations",
          "Min.Lacerations",
          "Unknown",
          "Others",
          "Min.Lacerations",
          "Min.Lacerations",
          "Maj.Lacerations",
          "Unknown",
          "Maj.Lacerations",
          "Others",
          "Others",
          "Min.Lacerations",
          "Unknown",
          "Maj.Lacerations",
          "Min.Lacerations",
          "Unknown",
          "Maj.Lacerations",
          "Maj.Lacerations",
          "Unknown",
          "Others",
          "Maj.Lacerations",
          "Unknown",
          "Maj.Lacerations",
          "Unknown",
          "Unknown",
          "Min.Lacerations",
          "Unknown",
          "Maj.Lacerations",
          "Maj.Lacerations",
          "Unknown",
          "Unknown",
          "Min.Lacerations",
          "Min.Lacerations",
          "Maj.Lacerations",
          "Min.Lacerations",
          "Maj.Lacerations",
          "Maj.Lacerations"
         ],
         "x0": " ",
         "xaxis": "x",
         "y": [
          1,
          1,
          1,
          1,
          1,
          1,
          1,
          1,
          4,
          1,
          1,
          1,
          1,
          1,
          1,
          1,
          1,
          1,
          1,
          1,
          1,
          1,
          1,
          1,
          1,
          1,
          1,
          1,
          1,
          1,
          1,
          1,
          1,
          2,
          1,
          1,
          1,
          1,
          1,
          1,
          1,
          1,
          1,
          1,
          1,
          1,
          1,
          1,
          1,
          1,
          1,
          1,
          1,
          1,
          1,
          1,
          1,
          1,
          1,
          1,
          1,
          1,
          1,
          1,
          1,
          1,
          1,
          1,
          1,
          1,
          1,
          1,
          1,
          1,
          1,
          1,
          1,
          1,
          1,
          1,
          1,
          1,
          1,
          1,
          1,
          1,
          1,
          1,
          1,
          1,
          1,
          1,
          1,
          1,
          1,
          1,
          1,
          1,
          1,
          1,
          1,
          1,
          1,
          1,
          1,
          1,
          1,
          1,
          1,
          1,
          1,
          1,
          10,
          1,
          1,
          1,
          1,
          1,
          1,
          2,
          1,
          1,
          1,
          1,
          1,
          1,
          1,
          1,
          1,
          1,
          1,
          1,
          1,
          1,
          1,
          1,
          1,
          1,
          1,
          1,
          1,
          1,
          1,
          1,
          1,
          1,
          1,
          1,
          1
         ],
         "y0": " ",
         "yaxis": "y"
        },
        {
         "alignmentgroup": "True",
         "box": {
          "visible": true
         },
         "hovertemplate": "Site Category=River<br>Injury Severity=%{x}<br>Number of Sharks=%{y}<extra></extra>",
         "legendgroup": "River",
         "marker": {
          "color": "#ab63fa"
         },
         "name": "River",
         "offsetgroup": "River",
         "orientation": "v",
         "points": "all",
         "scalegroup": "True",
         "showlegend": true,
         "type": "violin",
         "x": [
          "Maj.Lacerations",
          "Maj.Lacerations",
          "Maj.Lacerations",
          "Unknown",
          "Maj.Lacerations",
          "Others",
          "Maj.Lacerations",
          "Others",
          "Maj.Lacerations",
          "Min.Lacerations",
          "Min.Lacerations",
          "Min.Lacerations",
          "Maj.Lacerations",
          "Maj.Lacerations",
          "Unknown",
          "Min.Lacerations",
          "Maj.Lacerations",
          "Maj.Lacerations",
          "Maj.Lacerations",
          "Others",
          "Unknown",
          "Min.Lacerations",
          "Maj.Lacerations",
          "Min.Lacerations",
          "Maj.Lacerations",
          "Maj.Lacerations",
          "Maj.Lacerations",
          "Min.Lacerations",
          "Min.Lacerations",
          "Maj.Lacerations",
          "Maj.Lacerations",
          "Min.Lacerations",
          "Others",
          "Min.Lacerations",
          "Unknown",
          "Maj.Lacerations",
          "Min.Lacerations",
          "Unknown",
          "Min.Lacerations",
          "Min.Lacerations",
          "Maj.Lacerations",
          "Min.Lacerations",
          "Maj.Lacerations",
          "Unknown",
          "Maj.Lacerations",
          "Unknown",
          "Min.Lacerations",
          "Others",
          "Min.Lacerations",
          "Min.Lacerations",
          "Unknown",
          "Min.Lacerations",
          "Maj.Lacerations",
          "Maj.Lacerations",
          "Unknown",
          "Others",
          "Unknown",
          "Others",
          "Min.Lacerations",
          "Maj.Lacerations",
          "Maj.Lacerations",
          "Min.Lacerations",
          "Maj.Lacerations",
          "Maj.Lacerations",
          "Others",
          "Maj.Lacerations",
          "Min.Lacerations",
          "Min.Lacerations",
          "Min.Lacerations",
          "Min.Lacerations",
          "Min.Lacerations",
          "Maj.Lacerations",
          "Min.Lacerations",
          "Min.Lacerations",
          "Unknown",
          "Min.Lacerations",
          "Min.Lacerations",
          "Maj.Lacerations",
          "Unknown",
          "Unknown",
          "Unknown",
          "Maj.Lacerations",
          "Others",
          "Min.Lacerations",
          "Maj.Lacerations",
          "Maj.Lacerations",
          "Unknown",
          "Unknown",
          "Maj.Lacerations",
          "Others"
         ],
         "x0": " ",
         "xaxis": "x",
         "y": [
          1,
          1,
          1,
          1,
          1,
          1,
          1,
          1,
          1,
          1,
          1,
          1,
          1,
          1,
          1,
          1,
          1,
          1,
          1,
          1,
          1,
          1,
          1,
          1,
          1,
          1,
          1,
          1,
          1,
          1,
          1,
          1,
          1,
          1,
          1,
          1,
          1,
          1,
          1,
          1,
          1,
          1,
          1,
          1,
          1,
          1,
          1,
          1,
          1,
          1,
          1,
          1,
          1,
          1,
          1,
          1,
          1,
          1,
          1,
          1,
          1,
          1,
          1,
          1,
          1,
          1,
          1,
          1,
          1,
          1,
          1,
          1,
          1,
          1,
          1,
          1,
          1,
          1,
          1,
          1,
          1,
          1,
          1,
          1,
          1,
          1,
          1,
          1,
          1,
          1
         ],
         "y0": " ",
         "yaxis": "y"
        },
        {
         "alignmentgroup": "True",
         "box": {
          "visible": true
         },
         "hovertemplate": "Site Category=Others<br>Injury Severity=%{x}<br>Number of Sharks=%{y}<extra></extra>",
         "legendgroup": "Others",
         "marker": {
          "color": "#FFA15A"
         },
         "name": "Others",
         "offsetgroup": "Others",
         "orientation": "v",
         "points": "all",
         "scalegroup": "True",
         "showlegend": true,
         "type": "violin",
         "x": [
          "Unknown",
          "Min.Lacerations",
          "Unknown",
          "Unknown",
          "Maj.Lacerations",
          "Maj.Lacerations",
          "Maj.Lacerations",
          "Maj.Lacerations",
          "Maj.Lacerations",
          "Min.Lacerations",
          "Min.Lacerations",
          "Min.Lacerations",
          "Unknown",
          "Others",
          "Others",
          "Min.Lacerations",
          "Unknown",
          "Unknown",
          "Unknown",
          "Unknown",
          "Maj.Lacerations",
          "Min.Lacerations",
          "Maj.Lacerations",
          "Min.Lacerations",
          "Maj.Lacerations",
          "Unknown",
          "Unknown",
          "Unknown",
          "Maj.Lacerations",
          "Min.Lacerations"
         ],
         "x0": " ",
         "xaxis": "x",
         "y": [
          1,
          1,
          1,
          1,
          1,
          1,
          1,
          1,
          1,
          1,
          1,
          1,
          1,
          1,
          1,
          1,
          1,
          1,
          1,
          3,
          1,
          1,
          1,
          1,
          1,
          1,
          1,
          1,
          1,
          1
         ],
         "y0": " ",
         "yaxis": "y"
        }
       ],
       "layout": {
        "legend": {
         "title": {
          "text": "Site Category"
         },
         "tracegroupgap": 0
        },
        "template": {
         "data": {
          "bar": [
           {
            "error_x": {
             "color": "#2a3f5f"
            },
            "error_y": {
             "color": "#2a3f5f"
            },
            "marker": {
             "line": {
              "color": "#E5ECF6",
              "width": 0.5
             },
             "pattern": {
              "fillmode": "overlay",
              "size": 10,
              "solidity": 0.2
             }
            },
            "type": "bar"
           }
          ],
          "barpolar": [
           {
            "marker": {
             "line": {
              "color": "#E5ECF6",
              "width": 0.5
             },
             "pattern": {
              "fillmode": "overlay",
              "size": 10,
              "solidity": 0.2
             }
            },
            "type": "barpolar"
           }
          ],
          "carpet": [
           {
            "aaxis": {
             "endlinecolor": "#2a3f5f",
             "gridcolor": "white",
             "linecolor": "white",
             "minorgridcolor": "white",
             "startlinecolor": "#2a3f5f"
            },
            "baxis": {
             "endlinecolor": "#2a3f5f",
             "gridcolor": "white",
             "linecolor": "white",
             "minorgridcolor": "white",
             "startlinecolor": "#2a3f5f"
            },
            "type": "carpet"
           }
          ],
          "choropleth": [
           {
            "colorbar": {
             "outlinewidth": 0,
             "ticks": ""
            },
            "type": "choropleth"
           }
          ],
          "contour": [
           {
            "colorbar": {
             "outlinewidth": 0,
             "ticks": ""
            },
            "colorscale": [
             [
              0,
              "#0d0887"
             ],
             [
              0.1111111111111111,
              "#46039f"
             ],
             [
              0.2222222222222222,
              "#7201a8"
             ],
             [
              0.3333333333333333,
              "#9c179e"
             ],
             [
              0.4444444444444444,
              "#bd3786"
             ],
             [
              0.5555555555555556,
              "#d8576b"
             ],
             [
              0.6666666666666666,
              "#ed7953"
             ],
             [
              0.7777777777777778,
              "#fb9f3a"
             ],
             [
              0.8888888888888888,
              "#fdca26"
             ],
             [
              1,
              "#f0f921"
             ]
            ],
            "type": "contour"
           }
          ],
          "contourcarpet": [
           {
            "colorbar": {
             "outlinewidth": 0,
             "ticks": ""
            },
            "type": "contourcarpet"
           }
          ],
          "heatmap": [
           {
            "colorbar": {
             "outlinewidth": 0,
             "ticks": ""
            },
            "colorscale": [
             [
              0,
              "#0d0887"
             ],
             [
              0.1111111111111111,
              "#46039f"
             ],
             [
              0.2222222222222222,
              "#7201a8"
             ],
             [
              0.3333333333333333,
              "#9c179e"
             ],
             [
              0.4444444444444444,
              "#bd3786"
             ],
             [
              0.5555555555555556,
              "#d8576b"
             ],
             [
              0.6666666666666666,
              "#ed7953"
             ],
             [
              0.7777777777777778,
              "#fb9f3a"
             ],
             [
              0.8888888888888888,
              "#fdca26"
             ],
             [
              1,
              "#f0f921"
             ]
            ],
            "type": "heatmap"
           }
          ],
          "heatmapgl": [
           {
            "colorbar": {
             "outlinewidth": 0,
             "ticks": ""
            },
            "colorscale": [
             [
              0,
              "#0d0887"
             ],
             [
              0.1111111111111111,
              "#46039f"
             ],
             [
              0.2222222222222222,
              "#7201a8"
             ],
             [
              0.3333333333333333,
              "#9c179e"
             ],
             [
              0.4444444444444444,
              "#bd3786"
             ],
             [
              0.5555555555555556,
              "#d8576b"
             ],
             [
              0.6666666666666666,
              "#ed7953"
             ],
             [
              0.7777777777777778,
              "#fb9f3a"
             ],
             [
              0.8888888888888888,
              "#fdca26"
             ],
             [
              1,
              "#f0f921"
             ]
            ],
            "type": "heatmapgl"
           }
          ],
          "histogram": [
           {
            "marker": {
             "pattern": {
              "fillmode": "overlay",
              "size": 10,
              "solidity": 0.2
             }
            },
            "type": "histogram"
           }
          ],
          "histogram2d": [
           {
            "colorbar": {
             "outlinewidth": 0,
             "ticks": ""
            },
            "colorscale": [
             [
              0,
              "#0d0887"
             ],
             [
              0.1111111111111111,
              "#46039f"
             ],
             [
              0.2222222222222222,
              "#7201a8"
             ],
             [
              0.3333333333333333,
              "#9c179e"
             ],
             [
              0.4444444444444444,
              "#bd3786"
             ],
             [
              0.5555555555555556,
              "#d8576b"
             ],
             [
              0.6666666666666666,
              "#ed7953"
             ],
             [
              0.7777777777777778,
              "#fb9f3a"
             ],
             [
              0.8888888888888888,
              "#fdca26"
             ],
             [
              1,
              "#f0f921"
             ]
            ],
            "type": "histogram2d"
           }
          ],
          "histogram2dcontour": [
           {
            "colorbar": {
             "outlinewidth": 0,
             "ticks": ""
            },
            "colorscale": [
             [
              0,
              "#0d0887"
             ],
             [
              0.1111111111111111,
              "#46039f"
             ],
             [
              0.2222222222222222,
              "#7201a8"
             ],
             [
              0.3333333333333333,
              "#9c179e"
             ],
             [
              0.4444444444444444,
              "#bd3786"
             ],
             [
              0.5555555555555556,
              "#d8576b"
             ],
             [
              0.6666666666666666,
              "#ed7953"
             ],
             [
              0.7777777777777778,
              "#fb9f3a"
             ],
             [
              0.8888888888888888,
              "#fdca26"
             ],
             [
              1,
              "#f0f921"
             ]
            ],
            "type": "histogram2dcontour"
           }
          ],
          "mesh3d": [
           {
            "colorbar": {
             "outlinewidth": 0,
             "ticks": ""
            },
            "type": "mesh3d"
           }
          ],
          "parcoords": [
           {
            "line": {
             "colorbar": {
              "outlinewidth": 0,
              "ticks": ""
             }
            },
            "type": "parcoords"
           }
          ],
          "pie": [
           {
            "automargin": true,
            "type": "pie"
           }
          ],
          "scatter": [
           {
            "fillpattern": {
             "fillmode": "overlay",
             "size": 10,
             "solidity": 0.2
            },
            "type": "scatter"
           }
          ],
          "scatter3d": [
           {
            "line": {
             "colorbar": {
              "outlinewidth": 0,
              "ticks": ""
             }
            },
            "marker": {
             "colorbar": {
              "outlinewidth": 0,
              "ticks": ""
             }
            },
            "type": "scatter3d"
           }
          ],
          "scattercarpet": [
           {
            "marker": {
             "colorbar": {
              "outlinewidth": 0,
              "ticks": ""
             }
            },
            "type": "scattercarpet"
           }
          ],
          "scattergeo": [
           {
            "marker": {
             "colorbar": {
              "outlinewidth": 0,
              "ticks": ""
             }
            },
            "type": "scattergeo"
           }
          ],
          "scattergl": [
           {
            "marker": {
             "colorbar": {
              "outlinewidth": 0,
              "ticks": ""
             }
            },
            "type": "scattergl"
           }
          ],
          "scattermapbox": [
           {
            "marker": {
             "colorbar": {
              "outlinewidth": 0,
              "ticks": ""
             }
            },
            "type": "scattermapbox"
           }
          ],
          "scatterpolar": [
           {
            "marker": {
             "colorbar": {
              "outlinewidth": 0,
              "ticks": ""
             }
            },
            "type": "scatterpolar"
           }
          ],
          "scatterpolargl": [
           {
            "marker": {
             "colorbar": {
              "outlinewidth": 0,
              "ticks": ""
             }
            },
            "type": "scatterpolargl"
           }
          ],
          "scatterternary": [
           {
            "marker": {
             "colorbar": {
              "outlinewidth": 0,
              "ticks": ""
             }
            },
            "type": "scatterternary"
           }
          ],
          "surface": [
           {
            "colorbar": {
             "outlinewidth": 0,
             "ticks": ""
            },
            "colorscale": [
             [
              0,
              "#0d0887"
             ],
             [
              0.1111111111111111,
              "#46039f"
             ],
             [
              0.2222222222222222,
              "#7201a8"
             ],
             [
              0.3333333333333333,
              "#9c179e"
             ],
             [
              0.4444444444444444,
              "#bd3786"
             ],
             [
              0.5555555555555556,
              "#d8576b"
             ],
             [
              0.6666666666666666,
              "#ed7953"
             ],
             [
              0.7777777777777778,
              "#fb9f3a"
             ],
             [
              0.8888888888888888,
              "#fdca26"
             ],
             [
              1,
              "#f0f921"
             ]
            ],
            "type": "surface"
           }
          ],
          "table": [
           {
            "cells": {
             "fill": {
              "color": "#EBF0F8"
             },
             "line": {
              "color": "white"
             }
            },
            "header": {
             "fill": {
              "color": "#C8D4E3"
             },
             "line": {
              "color": "white"
             }
            },
            "type": "table"
           }
          ]
         },
         "layout": {
          "annotationdefaults": {
           "arrowcolor": "#2a3f5f",
           "arrowhead": 0,
           "arrowwidth": 1
          },
          "autotypenumbers": "strict",
          "coloraxis": {
           "colorbar": {
            "outlinewidth": 0,
            "ticks": ""
           }
          },
          "colorscale": {
           "diverging": [
            [
             0,
             "#8e0152"
            ],
            [
             0.1,
             "#c51b7d"
            ],
            [
             0.2,
             "#de77ae"
            ],
            [
             0.3,
             "#f1b6da"
            ],
            [
             0.4,
             "#fde0ef"
            ],
            [
             0.5,
             "#f7f7f7"
            ],
            [
             0.6,
             "#e6f5d0"
            ],
            [
             0.7,
             "#b8e186"
            ],
            [
             0.8,
             "#7fbc41"
            ],
            [
             0.9,
             "#4d9221"
            ],
            [
             1,
             "#276419"
            ]
           ],
           "sequential": [
            [
             0,
             "#0d0887"
            ],
            [
             0.1111111111111111,
             "#46039f"
            ],
            [
             0.2222222222222222,
             "#7201a8"
            ],
            [
             0.3333333333333333,
             "#9c179e"
            ],
            [
             0.4444444444444444,
             "#bd3786"
            ],
            [
             0.5555555555555556,
             "#d8576b"
            ],
            [
             0.6666666666666666,
             "#ed7953"
            ],
            [
             0.7777777777777778,
             "#fb9f3a"
            ],
            [
             0.8888888888888888,
             "#fdca26"
            ],
            [
             1,
             "#f0f921"
            ]
           ],
           "sequentialminus": [
            [
             0,
             "#0d0887"
            ],
            [
             0.1111111111111111,
             "#46039f"
            ],
            [
             0.2222222222222222,
             "#7201a8"
            ],
            [
             0.3333333333333333,
             "#9c179e"
            ],
            [
             0.4444444444444444,
             "#bd3786"
            ],
            [
             0.5555555555555556,
             "#d8576b"
            ],
            [
             0.6666666666666666,
             "#ed7953"
            ],
            [
             0.7777777777777778,
             "#fb9f3a"
            ],
            [
             0.8888888888888888,
             "#fdca26"
            ],
            [
             1,
             "#f0f921"
            ]
           ]
          },
          "colorway": [
           "#636efa",
           "#EF553B",
           "#00cc96",
           "#ab63fa",
           "#FFA15A",
           "#19d3f3",
           "#FF6692",
           "#B6E880",
           "#FF97FF",
           "#FECB52"
          ],
          "font": {
           "color": "#2a3f5f"
          },
          "geo": {
           "bgcolor": "white",
           "lakecolor": "white",
           "landcolor": "#E5ECF6",
           "showlakes": true,
           "showland": true,
           "subunitcolor": "white"
          },
          "hoverlabel": {
           "align": "left"
          },
          "hovermode": "closest",
          "mapbox": {
           "style": "light"
          },
          "paper_bgcolor": "white",
          "plot_bgcolor": "#E5ECF6",
          "polar": {
           "angularaxis": {
            "gridcolor": "white",
            "linecolor": "white",
            "ticks": ""
           },
           "bgcolor": "#E5ECF6",
           "radialaxis": {
            "gridcolor": "white",
            "linecolor": "white",
            "ticks": ""
           }
          },
          "scene": {
           "xaxis": {
            "backgroundcolor": "#E5ECF6",
            "gridcolor": "white",
            "gridwidth": 2,
            "linecolor": "white",
            "showbackground": true,
            "ticks": "",
            "zerolinecolor": "white"
           },
           "yaxis": {
            "backgroundcolor": "#E5ECF6",
            "gridcolor": "white",
            "gridwidth": 2,
            "linecolor": "white",
            "showbackground": true,
            "ticks": "",
            "zerolinecolor": "white"
           },
           "zaxis": {
            "backgroundcolor": "#E5ECF6",
            "gridcolor": "white",
            "gridwidth": 2,
            "linecolor": "white",
            "showbackground": true,
            "ticks": "",
            "zerolinecolor": "white"
           }
          },
          "shapedefaults": {
           "line": {
            "color": "#2a3f5f"
           }
          },
          "ternary": {
           "aaxis": {
            "gridcolor": "white",
            "linecolor": "white",
            "ticks": ""
           },
           "baxis": {
            "gridcolor": "white",
            "linecolor": "white",
            "ticks": ""
           },
           "bgcolor": "#E5ECF6",
           "caxis": {
            "gridcolor": "white",
            "linecolor": "white",
            "ticks": ""
           }
          },
          "title": {
           "x": 0.05
          },
          "xaxis": {
           "automargin": true,
           "gridcolor": "white",
           "linecolor": "white",
           "ticks": "",
           "title": {
            "standoff": 15
           },
           "zerolinecolor": "white",
           "zerolinewidth": 2
          },
          "yaxis": {
           "automargin": true,
           "gridcolor": "white",
           "linecolor": "white",
           "ticks": "",
           "title": {
            "standoff": 15
           },
           "zerolinecolor": "white",
           "zerolinewidth": 2
          }
         }
        },
        "title": {
         "text": "Number of Sharks by Injury Severity and Site Category"
        },
        "violinmode": "group",
        "xaxis": {
         "anchor": "y",
         "domain": [
          0,
          1
         ],
         "title": {
          "text": "Injury Severity"
         }
        },
        "yaxis": {
         "anchor": "x",
         "domain": [
          0,
          1
         ],
         "title": {
          "text": "Number of Sharks"
         }
        }
       }
      }
     },
     "metadata": {},
     "output_type": "display_data"
    }
   ],
   "source": [
    "violin_data = df[['no_sharks', 'injury_severity', 'site_category_cleaned']].dropna()\n",
    "\n",
    "# Create violin plot\n",
    "violin_fig = px.violin(\n",
    "    violin_data,\n",
    "    y='no_sharks',\n",
    "    x='injury_severity',\n",
    "    color='site_category_cleaned',\n",
    "    box=True,\n",
    "    points='all',\n",
    "    title='Number of Sharks by Injury Severity and Site Category',\n",
    "    labels={\n",
    "        'no_sharks': 'Number of Sharks',\n",
    "        'injury_severity': 'Injury Severity',\n",
    "        'site_category_cleaned': 'Site Category'\n",
    "    }\n",
    ")\n",
    "\n",
    "# Show plot\n",
    "violin_fig.show()\n"
   ]
  },
  {
   "cell_type": "code",
   "execution_count": 8,
   "metadata": {},
   "outputs": [
    {
     "data": {
      "application/vnd.plotly.v1+json": {
       "config": {
        "plotlyServerURL": "https://plot.ly"
       },
       "data": [
        {
         "hovertemplate": "Injury Severity=Unknown<br>Shark Behavior=%{x}<br>Number of Sharks=%{y}<extra></extra>",
         "legendgroup": "Unknown",
         "marker": {
          "color": "#636efa",
          "symbol": "circle"
         },
         "mode": "markers",
         "name": "Unknown",
         "showlegend": true,
         "type": "scattergl",
         "x": [
          "approached_victim",
          "direct_attack",
          "direct_attack",
          "unknown",
          "direct_attack",
          "unknown",
          "approached_victim",
          "unknown",
          "direct_attack",
          "direct_attack",
          "direct_attack",
          "direct_attack",
          "direct_attack",
          "unknown",
          "approached_victim",
          "direct_attack",
          "approached_victim",
          "direct_attack",
          "direct_attack",
          "unknown",
          "approached_victim",
          "direct_attack",
          "direct_attack",
          "unknown",
          "direct_attack",
          "direct_attack",
          "direct_attack",
          "unknown",
          "direct_attack",
          "direct_attack",
          "direct_attack",
          "direct_attack",
          "direct_attack",
          "direct_attack",
          "approached_victim",
          "direct_attack",
          "direct_attack",
          "direct_attack",
          "unknown",
          "contact_made",
          "direct_attack",
          "direct_attack",
          "unknown",
          "direct_attack",
          "contact_made",
          "direct_attack",
          "direct_attack",
          "direct_attack",
          "direct_attack",
          "approached_victim",
          "direct_attack",
          "direct_attack",
          "unknown",
          "direct_attack",
          "unknown",
          "contact_made",
          "direct_attack",
          "direct_attack",
          "approached_victim",
          "direct_attack",
          "unknown",
          "contact_made",
          "contact_made",
          "direct_attack",
          "direct_attack",
          "direct_attack",
          "direct_attack",
          "approached_victim",
          "direct_attack",
          "unknown",
          "unknown",
          "direct_attack",
          "approached_victim",
          "direct_attack",
          "direct_attack",
          "unknown",
          "direct_attack",
          "approached_victim",
          "approached_victim",
          "contact_made",
          "contact_made",
          "direct_attack",
          "contact_made",
          "direct_attack",
          "approached_victim",
          "direct_attack",
          "approached_victim",
          "contact_made",
          "direct_attack",
          "unknown",
          "approached_victim",
          "direct_attack",
          "direct_attack",
          "direct_attack",
          "approached_victim",
          "direct_attack",
          "unknown",
          "unknown",
          "contact_made",
          "direct_attack",
          "direct_attack",
          "direct_attack",
          "direct_attack",
          "approached_victim",
          "direct_attack",
          "unknown",
          "direct_attack",
          "unknown",
          "direct_attack",
          "direct_attack",
          "direct_attack",
          "direct_attack",
          "direct_attack",
          "direct_attack",
          "unknown",
          "direct_attack",
          "direct_attack",
          "direct_attack",
          "direct_attack",
          "direct_attack",
          "direct_attack",
          "approached_victim",
          "approached_victim",
          "direct_attack",
          "approached_victim",
          "direct_attack",
          "unknown",
          "contact_made",
          "direct_attack",
          "unknown",
          "direct_attack",
          "approached_victim",
          "unknown",
          "direct_attack",
          "direct_attack",
          "direct_attack",
          "direct_attack",
          "direct_attack",
          "direct_attack",
          "direct_attack",
          "direct_attack",
          "direct_attack",
          "approached_victim",
          "direct_attack",
          "approached_victim",
          "approached_victim",
          "direct_attack",
          "approached_victim",
          "approached_victim",
          "contact_made",
          "approached_victim",
          "contact_made",
          "direct_attack",
          "contact_made",
          "approached_victim",
          "approached_victim",
          "direct_attack",
          "approached_victim",
          "contact_made",
          "direct_attack",
          "direct_attack",
          "approached_victim",
          "direct_attack",
          "direct_attack",
          "direct_attack",
          "direct_attack",
          "approached_victim",
          "direct_attack",
          "direct_attack",
          "direct_attack",
          "approached_victim",
          "direct_attack",
          "direct_attack",
          "contact_made",
          "approached_victim",
          "unknown",
          "direct_attack",
          "direct_attack",
          "approached_victim",
          "direct_attack",
          "approached_victim",
          "contact_made",
          "direct_attack",
          "direct_attack",
          "direct_attack",
          "contact_made",
          "direct_attack",
          "direct_attack",
          "direct_attack",
          "unknown",
          "direct_attack",
          "approached_victim",
          "contact_made",
          "direct_attack",
          "unknown",
          "direct_attack",
          "direct_attack",
          "direct_attack",
          "direct_attack",
          "approached_victim",
          "contact_made",
          "direct_attack",
          "direct_attack",
          "direct_attack",
          "contact_made",
          "contact_made",
          "contact_made",
          "contact_made",
          "direct_attack",
          "direct_attack",
          "approached_victim",
          "direct_attack",
          "direct_attack",
          "direct_attack",
          "direct_attack",
          "contact_made",
          "contact_made",
          "direct_attack",
          "direct_attack",
          "unknown",
          "contact_made",
          "direct_attack",
          "contact_made",
          "unknown",
          "direct_attack",
          "direct_attack",
          "direct_attack",
          "direct_attack",
          "direct_attack",
          "direct_attack",
          "direct_attack",
          "direct_attack",
          "approached_victim",
          "contact_made",
          "direct_attack",
          "contact_made",
          "direct_attack",
          "direct_attack",
          "contact_made",
          "direct_attack",
          "direct_attack",
          "contact_made",
          "direct_attack",
          "direct_attack",
          "direct_attack",
          "contact_made",
          "unknown",
          "direct_attack",
          "contact_made",
          "approached_victim",
          "approached_victim",
          "contact_made",
          "unknown",
          "unknown",
          "approached_victim",
          "unknown",
          "contact_made",
          "unknown",
          "contact_made",
          "direct_attack",
          "contact_made",
          "unknown",
          "unknown",
          "unknown",
          "unknown",
          "contact_made",
          "unknown",
          "unknown",
          "direct_attack",
          "contact_made",
          "approached_victim",
          "direct_attack",
          "unknown",
          "unknown",
          "unknown",
          "unknown",
          "contact_made",
          "unknown",
          "unknown",
          "contact_made",
          "unknown",
          "contact_made",
          "direct_attack",
          "approached_victim",
          "unknown",
          "unknown",
          "unknown",
          "direct_attack",
          "unknown",
          "unknown",
          "unknown",
          "unknown",
          "approached_victim",
          "unknown",
          "unknown",
          "approached_victim",
          "unknown",
          "direct_attack",
          "unknown",
          "unknown",
          "unknown",
          "contact_made",
          "unknown",
          "unknown",
          "unknown",
          "unknown",
          "unknown",
          "unknown",
          "unknown",
          "unknown",
          "unknown",
          "unknown",
          "unknown",
          "unknown",
          "unknown",
          "unknown",
          "contact_made",
          "unknown",
          "unknown",
          "direct_attack",
          "unknown",
          "unknown",
          "unknown",
          "unknown",
          "unknown",
          "unknown"
         ],
         "xaxis": "x",
         "y": [
          1,
          1,
          1,
          1,
          1,
          1,
          1,
          1,
          1,
          1,
          2,
          1,
          1,
          1,
          1,
          1,
          1,
          1,
          1,
          1,
          1,
          2,
          1,
          1,
          1,
          1,
          1,
          1,
          1,
          4,
          3,
          1,
          1,
          1,
          1,
          1,
          1,
          1,
          1,
          1,
          1,
          1,
          1,
          1,
          1,
          1,
          1,
          1,
          1,
          1,
          3,
          1,
          1,
          1,
          1,
          1,
          1,
          1,
          1,
          1,
          1,
          1,
          1,
          1,
          1,
          3,
          1,
          1,
          1,
          1,
          1,
          1,
          1,
          1,
          1,
          1,
          1,
          1,
          2,
          1,
          1,
          1,
          1,
          1,
          1,
          1,
          1,
          1,
          1,
          1,
          1,
          1,
          1,
          1,
          1,
          1,
          1,
          1,
          1,
          1,
          1,
          1,
          1,
          1,
          1,
          1,
          1,
          1,
          1,
          1,
          1,
          1,
          1,
          1,
          1,
          1,
          1,
          1,
          1,
          1,
          1,
          1,
          1,
          1,
          1,
          1,
          1,
          1,
          1,
          1,
          1,
          3,
          2,
          1,
          1,
          1,
          1,
          1,
          1,
          1,
          1,
          1,
          1,
          1,
          1,
          1,
          1,
          1,
          1,
          1,
          1,
          1,
          1,
          1,
          1,
          1,
          1,
          1,
          1,
          1,
          1,
          1,
          1,
          1,
          1,
          1,
          1,
          1,
          1,
          1,
          1,
          1,
          1,
          1,
          1,
          1,
          1,
          1,
          1,
          1,
          1,
          1,
          1,
          1,
          1,
          1,
          1,
          1,
          1,
          1,
          1,
          3,
          1,
          1,
          1,
          1,
          1,
          1,
          1,
          1,
          1,
          1,
          1,
          1,
          1,
          1,
          1,
          1,
          1,
          1,
          1,
          1,
          1,
          1,
          1,
          1,
          1,
          2,
          1,
          1,
          1,
          1,
          1,
          1,
          1,
          1,
          1,
          1,
          1,
          1,
          1,
          1,
          1,
          1,
          1,
          1,
          1,
          1,
          1,
          1,
          1,
          1,
          1,
          1,
          1,
          1,
          1,
          1,
          2,
          1,
          1,
          1,
          1,
          1,
          1,
          1,
          1,
          1,
          1,
          1,
          1,
          1,
          1,
          1,
          1,
          1,
          1,
          1,
          1,
          1,
          1,
          1,
          1,
          1,
          1,
          1,
          1,
          1,
          1,
          1,
          1,
          1,
          1,
          1,
          1,
          1,
          1,
          1,
          1,
          1,
          1,
          1,
          1,
          1,
          1,
          1,
          1,
          1,
          1,
          1,
          1,
          1,
          1,
          1,
          1,
          1,
          1,
          1,
          1,
          1,
          1,
          1,
          1,
          1,
          1,
          1,
          1,
          1,
          1,
          1,
          1,
          1,
          1,
          1,
          1,
          1
         ],
         "yaxis": "y"
        },
        {
         "hovertemplate": "Injury Severity=Min.Lacerations<br>Shark Behavior=%{x}<br>Number of Sharks=%{y}<extra></extra>",
         "legendgroup": "Min.Lacerations",
         "marker": {
          "color": "#EF553B",
          "symbol": "circle"
         },
         "mode": "markers",
         "name": "Min.Lacerations",
         "showlegend": true,
         "type": "scattergl",
         "x": [
          "direct_attack",
          "direct_attack",
          "direct_attack",
          "direct_attack",
          "direct_attack",
          "direct_attack",
          "direct_attack",
          "direct_attack",
          "direct_attack",
          "direct_attack",
          "direct_attack",
          "direct_attack",
          "direct_attack",
          "direct_attack",
          "direct_attack",
          "direct_attack",
          "approached_victim",
          "direct_attack",
          "direct_attack",
          "direct_attack",
          "direct_attack",
          "direct_attack",
          "direct_attack",
          "direct_attack",
          "direct_attack",
          "direct_attack",
          "direct_attack",
          "direct_attack",
          "direct_attack",
          "direct_attack",
          "direct_attack",
          "direct_attack",
          "direct_attack",
          "direct_attack",
          "direct_attack",
          "direct_attack",
          "direct_attack",
          "direct_attack",
          "direct_attack",
          "direct_attack",
          "direct_attack",
          "direct_attack",
          "direct_attack",
          "direct_attack",
          "direct_attack",
          "direct_attack",
          "direct_attack",
          "direct_attack",
          "direct_attack",
          "direct_attack",
          "direct_attack",
          "direct_attack",
          "direct_attack",
          "direct_attack",
          "direct_attack",
          "direct_attack",
          "direct_attack",
          "direct_attack",
          "direct_attack",
          "direct_attack",
          "direct_attack",
          "direct_attack",
          "direct_attack",
          "direct_attack",
          "unknown",
          "direct_attack",
          "direct_attack",
          "direct_attack",
          "direct_attack",
          "direct_attack",
          "direct_attack",
          "direct_attack",
          "direct_attack",
          "direct_attack",
          "direct_attack",
          "direct_attack",
          "direct_attack",
          "direct_attack",
          "direct_attack",
          "direct_attack",
          "direct_attack",
          "direct_attack",
          "direct_attack",
          "direct_attack",
          "direct_attack",
          "unknown",
          "direct_attack",
          "direct_attack",
          "direct_attack",
          "direct_attack",
          "direct_attack",
          "approached_victim",
          "direct_attack",
          "approached_victim",
          "direct_attack",
          "direct_attack",
          "direct_attack",
          "direct_attack",
          "unknown",
          "direct_attack",
          "direct_attack",
          "direct_attack",
          "direct_attack",
          "direct_attack",
          "direct_attack",
          "direct_attack",
          "direct_attack",
          "direct_attack",
          "direct_attack",
          "direct_attack",
          "unknown",
          "direct_attack",
          "direct_attack",
          "direct_attack",
          "direct_attack",
          "direct_attack",
          "unknown",
          "direct_attack",
          "direct_attack",
          "unknown",
          "direct_attack",
          "unknown",
          "direct_attack",
          "direct_attack",
          "direct_attack",
          "direct_attack",
          "direct_attack",
          "direct_attack",
          "direct_attack",
          "direct_attack",
          "direct_attack",
          "approached_victim",
          "unknown",
          "direct_attack",
          "approached_victim",
          "direct_attack",
          "unknown",
          "direct_attack",
          "direct_attack",
          "direct_attack",
          "direct_attack",
          "direct_attack",
          "direct_attack",
          "approached_victim",
          "direct_attack",
          "direct_attack",
          "direct_attack",
          "unknown",
          "contact_made",
          "direct_attack",
          "direct_attack",
          "direct_attack",
          "direct_attack",
          "direct_attack",
          "direct_attack",
          "direct_attack",
          "direct_attack",
          "direct_attack",
          "direct_attack",
          "direct_attack",
          "direct_attack",
          "direct_attack",
          "direct_attack",
          "direct_attack",
          "direct_attack",
          "direct_attack",
          "direct_attack",
          "direct_attack",
          "unknown",
          "direct_attack",
          "direct_attack",
          "direct_attack",
          "unknown",
          "direct_attack",
          "direct_attack",
          "contact_made",
          "direct_attack",
          "direct_attack",
          "direct_attack",
          "direct_attack",
          "unknown",
          "direct_attack",
          "direct_attack",
          "direct_attack",
          "direct_attack",
          "direct_attack",
          "direct_attack",
          "direct_attack",
          "direct_attack",
          "direct_attack",
          "contact_made",
          "approached_victim",
          "direct_attack",
          "direct_attack",
          "direct_attack",
          "direct_attack",
          "direct_attack",
          "direct_attack",
          "contact_made",
          "direct_attack",
          "direct_attack",
          "direct_attack",
          "direct_attack",
          "direct_attack",
          "direct_attack",
          "direct_attack",
          "unknown",
          "direct_attack",
          "direct_attack",
          "direct_attack",
          "direct_attack",
          "direct_attack",
          "direct_attack",
          "direct_attack",
          "direct_attack",
          "direct_attack",
          "direct_attack",
          "direct_attack",
          "direct_attack",
          "direct_attack",
          "direct_attack",
          "contact_made",
          "direct_attack",
          "direct_attack",
          "direct_attack",
          "direct_attack",
          "direct_attack",
          "direct_attack",
          "direct_attack",
          "direct_attack",
          "direct_attack",
          "direct_attack",
          "direct_attack",
          "contact_made",
          "direct_attack",
          "direct_attack",
          "direct_attack",
          "direct_attack",
          "direct_attack",
          "direct_attack",
          "direct_attack",
          "direct_attack",
          "direct_attack",
          "direct_attack",
          "direct_attack",
          "direct_attack",
          "direct_attack",
          "direct_attack",
          "direct_attack",
          "direct_attack",
          "direct_attack",
          "direct_attack",
          "direct_attack",
          "direct_attack",
          "direct_attack",
          "direct_attack",
          "direct_attack",
          "direct_attack",
          "direct_attack",
          "direct_attack",
          "direct_attack",
          "direct_attack",
          "direct_attack",
          "direct_attack",
          "approached_victim",
          "direct_attack",
          "direct_attack",
          "unknown",
          "direct_attack",
          "direct_attack",
          "direct_attack",
          "direct_attack",
          "direct_attack",
          "direct_attack",
          "direct_attack",
          "direct_attack",
          "unknown",
          "contact_made",
          "unknown",
          "direct_attack",
          "unknown",
          "direct_attack",
          "unknown",
          "direct_attack",
          "unknown",
          "direct_attack",
          "unknown",
          "unknown",
          "direct_attack",
          "direct_attack",
          "direct_attack",
          "unknown",
          "unknown",
          "direct_attack",
          "unknown",
          "unknown",
          "direct_attack",
          "direct_attack",
          "direct_attack",
          "unknown",
          "unseen",
          "unknown",
          "unknown",
          "direct_attack",
          "unknown",
          "unknown",
          "unknown",
          "unknown",
          "unknown",
          "unknown",
          "unknown",
          "unknown",
          "unknown",
          "unknown",
          "unknown",
          "unknown"
         ],
         "xaxis": "x2",
         "y": [
          1,
          1,
          1,
          1,
          1,
          1,
          1,
          1,
          1,
          1,
          1,
          1,
          1,
          1,
          1,
          1,
          1,
          1,
          1,
          1,
          1,
          1,
          1,
          1,
          1,
          1,
          1,
          1,
          1,
          1,
          1,
          1,
          1,
          1,
          1,
          1,
          1,
          1,
          1,
          1,
          1,
          1,
          1,
          1,
          1,
          1,
          1,
          1,
          1,
          1,
          1,
          1,
          1,
          1,
          1,
          1,
          1,
          1,
          1,
          1,
          1,
          1,
          1,
          1,
          1,
          1,
          1,
          1,
          1,
          1,
          1,
          1,
          1,
          1,
          1,
          1,
          1,
          1,
          1,
          1,
          1,
          1,
          1,
          1,
          2,
          1,
          1,
          1,
          1,
          1,
          1,
          1,
          1,
          1,
          1,
          1,
          1,
          1,
          1,
          1,
          1,
          1,
          1,
          1,
          1,
          1,
          1,
          1,
          1,
          1,
          1,
          1,
          1,
          1,
          1,
          1,
          1,
          1,
          1,
          1,
          3,
          1,
          1,
          1,
          1,
          1,
          1,
          1,
          1,
          1,
          1,
          1,
          1,
          1,
          1,
          1,
          1,
          1,
          1,
          1,
          1,
          1,
          1,
          1,
          1,
          1,
          1,
          1,
          1,
          1,
          1,
          1,
          1,
          1,
          1,
          1,
          1,
          1,
          1,
          1,
          1,
          1,
          1,
          1,
          1,
          1,
          1,
          1,
          1,
          1,
          1,
          1,
          1,
          1,
          1,
          1,
          1,
          1,
          1,
          1,
          1,
          1,
          1,
          1,
          1,
          1,
          1,
          1,
          1,
          1,
          1,
          1,
          1,
          1,
          2,
          1,
          1,
          1,
          1,
          1,
          1,
          1,
          1,
          1,
          1,
          1,
          1,
          1,
          1,
          1,
          1,
          1,
          1,
          10,
          1,
          1,
          1,
          1,
          1,
          1,
          1,
          1,
          1,
          1,
          1,
          1,
          1,
          1,
          1,
          1,
          1,
          1,
          1,
          1,
          1,
          1,
          1,
          1,
          1,
          1,
          1,
          1,
          1,
          1,
          1,
          1,
          1,
          1,
          1,
          1,
          1,
          1,
          1,
          1,
          1,
          1,
          1,
          1,
          1,
          1,
          1,
          1,
          1,
          1,
          1,
          1,
          1,
          1,
          1,
          1,
          1,
          1,
          1,
          1,
          1,
          1,
          1,
          1,
          1,
          1,
          1,
          1,
          1,
          1,
          1,
          1,
          1,
          1,
          1,
          1,
          1,
          1,
          1,
          1,
          1,
          1,
          1,
          1,
          1,
          1,
          1,
          1,
          1,
          1,
          1,
          1,
          1,
          1,
          1,
          1,
          1,
          1,
          1,
          1,
          1,
          1
         ],
         "yaxis": "y2"
        },
        {
         "hovertemplate": "Injury Severity=Maj.Lacerations<br>Shark Behavior=%{x}<br>Number of Sharks=%{y}<extra></extra>",
         "legendgroup": "Maj.Lacerations",
         "marker": {
          "color": "#00cc96",
          "symbol": "circle"
         },
         "mode": "markers",
         "name": "Maj.Lacerations",
         "showlegend": true,
         "type": "scattergl",
         "x": [
          "direct_attack",
          "direct_attack",
          "direct_attack",
          "direct_attack",
          "direct_attack",
          "unknown",
          "direct_attack",
          "direct_attack",
          "direct_attack",
          "direct_attack",
          "direct_attack",
          "direct_attack",
          "direct_attack",
          "direct_attack",
          "direct_attack",
          "direct_attack",
          "direct_attack",
          "direct_attack",
          "direct_attack",
          "direct_attack",
          "direct_attack",
          "direct_attack",
          "direct_attack",
          "direct_attack",
          "direct_attack",
          "unknown",
          "direct_attack",
          "direct_attack",
          "unknown",
          "direct_attack",
          "direct_attack",
          "direct_attack",
          "direct_attack",
          "direct_attack",
          "direct_attack",
          "direct_attack",
          "direct_attack",
          "direct_attack",
          "direct_attack",
          "direct_attack",
          "direct_attack",
          "direct_attack",
          "direct_attack",
          "direct_attack",
          "direct_attack",
          "direct_attack",
          "direct_attack",
          "direct_attack",
          "direct_attack",
          "unknown",
          "direct_attack",
          "direct_attack",
          "direct_attack",
          "direct_attack",
          "direct_attack",
          "direct_attack",
          "direct_attack",
          "direct_attack",
          "direct_attack",
          "direct_attack",
          "direct_attack",
          "direct_attack",
          "direct_attack",
          "direct_attack",
          "direct_attack",
          "direct_attack",
          "direct_attack",
          "direct_attack",
          "direct_attack",
          "direct_attack",
          "direct_attack",
          "direct_attack",
          "direct_attack",
          "direct_attack",
          "direct_attack",
          "direct_attack",
          "direct_attack",
          "direct_attack",
          "direct_attack",
          "direct_attack",
          "direct_attack",
          "direct_attack",
          "direct_attack",
          "direct_attack",
          "direct_attack",
          "direct_attack",
          "direct_attack",
          "direct_attack",
          "direct_attack",
          "direct_attack",
          "direct_attack",
          "direct_attack",
          "direct_attack",
          "direct_attack",
          "direct_attack",
          "direct_attack",
          "direct_attack",
          "direct_attack",
          "direct_attack",
          "direct_attack",
          "contact_made",
          "direct_attack",
          "direct_attack",
          "direct_attack",
          "direct_attack",
          "unknown",
          "direct_attack",
          "direct_attack",
          "direct_attack",
          "direct_attack",
          "direct_attack",
          "direct_attack",
          "direct_attack",
          "direct_attack",
          "direct_attack",
          "direct_attack",
          "direct_attack",
          "direct_attack",
          "direct_attack",
          "direct_attack",
          "direct_attack",
          "direct_attack",
          "direct_attack",
          "unknown",
          "direct_attack",
          "direct_attack",
          "direct_attack",
          "unknown",
          "direct_attack",
          "direct_attack",
          "direct_attack",
          "unknown",
          "direct_attack",
          "direct_attack",
          "direct_attack",
          "direct_attack",
          "unknown",
          "direct_attack",
          "direct_attack",
          "direct_attack",
          "direct_attack",
          "direct_attack",
          "direct_attack",
          "direct_attack",
          "direct_attack",
          "direct_attack",
          "unknown",
          "direct_attack",
          "direct_attack",
          "direct_attack",
          "direct_attack",
          "direct_attack",
          "direct_attack",
          "direct_attack",
          "direct_attack",
          "direct_attack",
          "direct_attack",
          "direct_attack",
          "direct_attack",
          "direct_attack",
          "direct_attack",
          "direct_attack",
          "direct_attack",
          "direct_attack",
          "direct_attack",
          "direct_attack",
          "direct_attack",
          "direct_attack",
          "unknown",
          "direct_attack",
          "direct_attack",
          "direct_attack",
          "direct_attack",
          "direct_attack",
          "direct_attack",
          "direct_attack",
          "direct_attack",
          "direct_attack",
          "direct_attack",
          "direct_attack",
          "direct_attack",
          "unknown",
          "direct_attack",
          "direct_attack",
          "direct_attack",
          "direct_attack",
          "direct_attack",
          "direct_attack",
          "direct_attack",
          "direct_attack",
          "direct_attack",
          "direct_attack",
          "direct_attack",
          "direct_attack",
          "direct_attack",
          "direct_attack",
          "direct_attack",
          "direct_attack",
          "direct_attack",
          "direct_attack",
          "direct_attack",
          "direct_attack",
          "direct_attack",
          "direct_attack",
          "direct_attack",
          "direct_attack",
          "unknown",
          "direct_attack",
          "direct_attack",
          "direct_attack",
          "unknown",
          "direct_attack",
          "direct_attack",
          "direct_attack",
          "direct_attack",
          "direct_attack",
          "direct_attack",
          "direct_attack",
          "direct_attack",
          "direct_attack",
          "direct_attack",
          "direct_attack",
          "direct_attack",
          "direct_attack",
          "direct_attack",
          "contact_made",
          "direct_attack",
          "direct_attack",
          "direct_attack",
          "unknown",
          "direct_attack",
          "direct_attack",
          "direct_attack",
          "direct_attack",
          "direct_attack",
          "direct_attack",
          "direct_attack",
          "unknown",
          "direct_attack",
          "direct_attack",
          "direct_attack",
          "unknown",
          "unknown",
          "direct_attack",
          "unknown",
          "direct_attack",
          "direct_attack",
          "direct_attack",
          "direct_attack",
          "contact_made",
          "direct_attack",
          "direct_attack",
          "direct_attack",
          "unknown",
          "direct_attack",
          "direct_attack",
          "unknown",
          "direct_attack",
          "direct_attack",
          "direct_attack",
          "direct_attack",
          "direct_attack",
          "unknown",
          "direct_attack",
          "direct_attack",
          "direct_attack",
          "unknown",
          "approached_victim",
          "unknown",
          "unknown",
          "direct_attack",
          "direct_attack",
          "direct_attack",
          "direct_attack",
          "direct_attack",
          "direct_attack",
          "direct_attack",
          "direct_attack",
          "direct_attack",
          "direct_attack",
          "direct_attack",
          "direct_attack",
          "direct_attack",
          "direct_attack",
          "direct_attack",
          "direct_attack",
          "direct_attack",
          "direct_attack",
          "direct_attack",
          "direct_attack",
          "unknown",
          "direct_attack",
          "direct_attack",
          "direct_attack",
          "direct_attack",
          "direct_attack",
          "direct_attack",
          "direct_attack",
          "direct_attack",
          "direct_attack",
          "direct_attack",
          "direct_attack",
          "direct_attack",
          "direct_attack",
          "direct_attack",
          "direct_attack",
          "direct_attack",
          "direct_attack",
          "direct_attack",
          "direct_attack",
          "direct_attack",
          "direct_attack",
          "direct_attack",
          "direct_attack",
          "direct_attack",
          "direct_attack",
          "direct_attack",
          "direct_attack",
          "direct_attack",
          "direct_attack",
          "direct_attack",
          "direct_attack",
          "unknown",
          "direct_attack",
          "direct_attack",
          "unknown",
          "unknown",
          "unknown",
          "unknown",
          "unknown",
          "unknown",
          "unknown",
          "direct_attack",
          "unknown",
          "unknown",
          "unknown",
          "direct_attack",
          "direct_attack",
          "unknown",
          "unknown",
          "unknown",
          "unknown",
          "unknown",
          "unknown",
          "unknown",
          "unknown",
          "unknown",
          "unknown",
          "unknown",
          "unknown",
          "unknown",
          "unknown",
          "unknown",
          "unknown",
          "unknown",
          "unknown"
         ],
         "xaxis": "x3",
         "y": [
          1,
          1,
          1,
          1,
          1,
          1,
          1,
          1,
          1,
          1,
          1,
          1,
          1,
          1,
          1,
          1,
          1,
          1,
          1,
          1,
          1,
          1,
          1,
          1,
          1,
          1,
          1,
          1,
          1,
          1,
          1,
          1,
          1,
          1,
          1,
          1,
          1,
          1,
          1,
          1,
          1,
          1,
          1,
          1,
          1,
          1,
          1,
          1,
          1,
          1,
          1,
          1,
          1,
          1,
          1,
          1,
          1,
          1,
          1,
          1,
          1,
          1,
          1,
          1,
          1,
          1,
          1,
          1,
          1,
          1,
          1,
          1,
          1,
          1,
          1,
          1,
          1,
          1,
          1,
          1,
          1,
          1,
          1,
          1,
          1,
          1,
          1,
          1,
          1,
          1,
          1,
          1,
          1,
          1,
          1,
          1,
          1,
          1,
          1,
          4,
          1,
          1,
          1,
          1,
          1,
          1,
          1,
          1,
          1,
          1,
          1,
          1,
          1,
          1,
          1,
          1,
          1,
          1,
          1,
          1,
          1,
          1,
          1,
          1,
          1,
          1,
          1,
          1,
          1,
          1,
          1,
          1,
          1,
          1,
          1,
          1,
          1,
          1,
          1,
          1,
          1,
          1,
          1,
          1,
          1,
          1,
          1,
          1,
          1,
          1,
          1,
          1,
          1,
          1,
          1,
          1,
          1,
          1,
          1,
          1,
          1,
          1,
          1,
          1,
          1,
          1,
          1,
          1,
          1,
          1,
          1,
          1,
          1,
          1,
          1,
          1,
          1,
          1,
          1,
          1,
          1,
          1,
          1,
          1,
          1,
          1,
          1,
          1,
          1,
          1,
          1,
          1,
          1,
          1,
          1,
          1,
          1,
          1,
          1,
          1,
          1,
          1,
          1,
          1,
          1,
          1,
          1,
          1,
          1,
          1,
          1,
          1,
          1,
          1,
          1,
          1,
          1,
          1,
          1,
          1,
          1,
          1,
          1,
          1,
          1,
          1,
          1,
          1,
          1,
          1,
          1,
          1,
          1,
          1,
          1,
          1,
          1,
          1,
          1,
          1,
          1,
          1,
          1,
          1,
          1,
          1,
          1,
          1,
          1,
          1,
          1,
          1,
          1,
          1,
          1,
          1,
          1,
          1,
          1,
          1,
          1,
          1,
          1,
          1,
          1,
          2,
          1,
          2,
          1,
          1,
          1,
          1,
          1,
          1,
          1,
          1,
          1,
          1,
          1,
          1,
          1,
          1,
          1,
          1,
          1,
          1,
          1,
          1,
          1,
          1,
          1,
          1,
          1,
          1,
          1,
          1,
          1,
          1,
          1,
          1,
          1,
          1,
          1,
          1,
          1,
          1,
          1,
          1,
          1,
          1,
          1,
          1,
          1,
          1,
          1,
          1,
          1,
          1,
          1,
          1,
          1,
          1,
          1,
          1,
          1,
          1,
          1,
          1,
          1,
          1,
          1,
          1,
          1,
          2,
          1,
          1,
          1,
          1,
          1,
          1,
          1,
          1,
          1,
          1,
          1,
          1,
          1,
          1,
          1,
          1,
          1,
          1,
          1,
          1,
          1,
          1
         ],
         "yaxis": "y3"
        },
        {
         "hovertemplate": "Injury Severity=Others<br>Shark Behavior=%{x}<br>Number of Sharks=%{y}<extra></extra>",
         "legendgroup": "Others",
         "marker": {
          "color": "#ab63fa",
          "symbol": "circle"
         },
         "mode": "markers",
         "name": "Others",
         "showlegend": true,
         "type": "scattergl",
         "x": [
          "direct_attack",
          "approached_victim",
          "direct_attack",
          "direct_attack",
          "direct_attack",
          "direct_attack",
          "approached_victim",
          "approached_victim",
          "direct_attack",
          "direct_attack",
          "direct_attack",
          "direct_attack",
          "contact_made",
          "approached_victim",
          "direct_attack",
          "approached_victim",
          "direct_attack",
          "direct_attack",
          "approached_victim",
          "direct_attack",
          "contact_made",
          "direct_attack",
          "approached_victim",
          "approached_victim",
          "unknown",
          "approached_victim",
          "direct_attack",
          "approached_victim",
          "contact_made",
          "direct_attack",
          "direct_attack",
          "direct_attack",
          "approached_victim",
          "direct_attack",
          "direct_attack",
          "approached_victim",
          "unknown",
          "direct_attack",
          "direct_attack",
          "direct_attack",
          "direct_attack",
          "direct_attack",
          "unknown",
          "direct_attack",
          "direct_attack",
          "direct_attack",
          "direct_attack",
          "direct_attack",
          "unknown",
          "direct_attack",
          "direct_attack",
          "direct_attack",
          "unknown",
          "direct_attack",
          "direct_attack",
          "direct_attack",
          "approached_victim",
          "direct_attack",
          "direct_attack",
          "direct_attack",
          "direct_attack",
          "direct_attack",
          "direct_attack",
          "direct_attack",
          "direct_attack",
          "contact_made",
          "direct_attack",
          "direct_attack",
          "direct_attack",
          "direct_attack",
          "direct_attack",
          "direct_attack",
          "direct_attack",
          "direct_attack",
          "direct_attack",
          "direct_attack",
          "direct_attack",
          "direct_attack",
          "direct_attack",
          "direct_attack",
          "direct_attack",
          "direct_attack",
          "direct_attack",
          "direct_attack",
          "direct_attack",
          "direct_attack",
          "direct_attack",
          "direct_attack",
          "direct_attack",
          "direct_attack",
          "approached_victim",
          "direct_attack",
          "direct_attack",
          "direct_attack",
          "direct_attack",
          "direct_attack",
          "direct_attack",
          "direct_attack",
          "direct_attack",
          "direct_attack",
          "direct_attack",
          "direct_attack",
          "direct_attack",
          "direct_attack",
          "direct_attack",
          "direct_attack",
          "direct_attack",
          "direct_attack",
          "direct_attack",
          "direct_attack",
          "direct_attack",
          "direct_attack",
          "direct_attack",
          "direct_attack",
          "direct_attack",
          "direct_attack",
          "direct_attack",
          "direct_attack",
          "direct_attack",
          "direct_attack",
          "contact_made",
          "direct_attack",
          "direct_attack",
          "contact_made",
          "direct_attack",
          "direct_attack",
          "direct_attack",
          "direct_attack",
          "direct_attack",
          "direct_attack",
          "contact_made",
          "direct_attack",
          "direct_attack",
          "direct_attack",
          "unknown",
          "unknown",
          "approached_victim",
          "unknown",
          "unknown",
          "unknown"
         ],
         "xaxis": "x4",
         "y": [
          1,
          1,
          1,
          1,
          1,
          1,
          1,
          1,
          1,
          1,
          1,
          1,
          1,
          1,
          2,
          1,
          1,
          1,
          1,
          1,
          1,
          1,
          1,
          1,
          1,
          1,
          1,
          1,
          1,
          1,
          1,
          1,
          1,
          1,
          1,
          1,
          1,
          1,
          1,
          1,
          1,
          1,
          1,
          1,
          1,
          1,
          1,
          1,
          1,
          1,
          1,
          1,
          1,
          1,
          1,
          1,
          1,
          1,
          1,
          1,
          1,
          1,
          1,
          1,
          1,
          1,
          1,
          1,
          1,
          1,
          1,
          1,
          1,
          1,
          1,
          1,
          1,
          1,
          1,
          1,
          1,
          1,
          1,
          1,
          1,
          1,
          1,
          1,
          1,
          1,
          1,
          1,
          1,
          1,
          1,
          1,
          1,
          1,
          1,
          1,
          1,
          1,
          1,
          1,
          1,
          1,
          1,
          1,
          1,
          1,
          1,
          1,
          1,
          1,
          1,
          1,
          1,
          1,
          1,
          1,
          1,
          1,
          1,
          1,
          1,
          1,
          1,
          1,
          1,
          1,
          1,
          1,
          1,
          1,
          1,
          1,
          1,
          1,
          1,
          1
         ],
         "yaxis": "y4"
        }
       ],
       "layout": {
        "annotations": [
         {
          "font": {},
          "showarrow": false,
          "text": "Injury Severity=Unknown",
          "x": 0.1175,
          "xanchor": "center",
          "xref": "paper",
          "y": 1,
          "yanchor": "bottom",
          "yref": "paper"
         },
         {
          "font": {},
          "showarrow": false,
          "text": "Injury Severity=Min.Lacerations",
          "x": 0.3725,
          "xanchor": "center",
          "xref": "paper",
          "y": 1,
          "yanchor": "bottom",
          "yref": "paper"
         },
         {
          "font": {},
          "showarrow": false,
          "text": "Injury Severity=Maj.Lacerations",
          "x": 0.6275,
          "xanchor": "center",
          "xref": "paper",
          "y": 1,
          "yanchor": "bottom",
          "yref": "paper"
         },
         {
          "font": {},
          "showarrow": false,
          "text": "Injury Severity=Others",
          "x": 0.8824999999999998,
          "xanchor": "center",
          "xref": "paper",
          "y": 1,
          "yanchor": "bottom",
          "yref": "paper"
         }
        ],
        "legend": {
         "title": {
          "text": "Injury Severity"
         },
         "tracegroupgap": 0
        },
        "template": {
         "data": {
          "bar": [
           {
            "error_x": {
             "color": "#2a3f5f"
            },
            "error_y": {
             "color": "#2a3f5f"
            },
            "marker": {
             "line": {
              "color": "#E5ECF6",
              "width": 0.5
             },
             "pattern": {
              "fillmode": "overlay",
              "size": 10,
              "solidity": 0.2
             }
            },
            "type": "bar"
           }
          ],
          "barpolar": [
           {
            "marker": {
             "line": {
              "color": "#E5ECF6",
              "width": 0.5
             },
             "pattern": {
              "fillmode": "overlay",
              "size": 10,
              "solidity": 0.2
             }
            },
            "type": "barpolar"
           }
          ],
          "carpet": [
           {
            "aaxis": {
             "endlinecolor": "#2a3f5f",
             "gridcolor": "white",
             "linecolor": "white",
             "minorgridcolor": "white",
             "startlinecolor": "#2a3f5f"
            },
            "baxis": {
             "endlinecolor": "#2a3f5f",
             "gridcolor": "white",
             "linecolor": "white",
             "minorgridcolor": "white",
             "startlinecolor": "#2a3f5f"
            },
            "type": "carpet"
           }
          ],
          "choropleth": [
           {
            "colorbar": {
             "outlinewidth": 0,
             "ticks": ""
            },
            "type": "choropleth"
           }
          ],
          "contour": [
           {
            "colorbar": {
             "outlinewidth": 0,
             "ticks": ""
            },
            "colorscale": [
             [
              0,
              "#0d0887"
             ],
             [
              0.1111111111111111,
              "#46039f"
             ],
             [
              0.2222222222222222,
              "#7201a8"
             ],
             [
              0.3333333333333333,
              "#9c179e"
             ],
             [
              0.4444444444444444,
              "#bd3786"
             ],
             [
              0.5555555555555556,
              "#d8576b"
             ],
             [
              0.6666666666666666,
              "#ed7953"
             ],
             [
              0.7777777777777778,
              "#fb9f3a"
             ],
             [
              0.8888888888888888,
              "#fdca26"
             ],
             [
              1,
              "#f0f921"
             ]
            ],
            "type": "contour"
           }
          ],
          "contourcarpet": [
           {
            "colorbar": {
             "outlinewidth": 0,
             "ticks": ""
            },
            "type": "contourcarpet"
           }
          ],
          "heatmap": [
           {
            "colorbar": {
             "outlinewidth": 0,
             "ticks": ""
            },
            "colorscale": [
             [
              0,
              "#0d0887"
             ],
             [
              0.1111111111111111,
              "#46039f"
             ],
             [
              0.2222222222222222,
              "#7201a8"
             ],
             [
              0.3333333333333333,
              "#9c179e"
             ],
             [
              0.4444444444444444,
              "#bd3786"
             ],
             [
              0.5555555555555556,
              "#d8576b"
             ],
             [
              0.6666666666666666,
              "#ed7953"
             ],
             [
              0.7777777777777778,
              "#fb9f3a"
             ],
             [
              0.8888888888888888,
              "#fdca26"
             ],
             [
              1,
              "#f0f921"
             ]
            ],
            "type": "heatmap"
           }
          ],
          "heatmapgl": [
           {
            "colorbar": {
             "outlinewidth": 0,
             "ticks": ""
            },
            "colorscale": [
             [
              0,
              "#0d0887"
             ],
             [
              0.1111111111111111,
              "#46039f"
             ],
             [
              0.2222222222222222,
              "#7201a8"
             ],
             [
              0.3333333333333333,
              "#9c179e"
             ],
             [
              0.4444444444444444,
              "#bd3786"
             ],
             [
              0.5555555555555556,
              "#d8576b"
             ],
             [
              0.6666666666666666,
              "#ed7953"
             ],
             [
              0.7777777777777778,
              "#fb9f3a"
             ],
             [
              0.8888888888888888,
              "#fdca26"
             ],
             [
              1,
              "#f0f921"
             ]
            ],
            "type": "heatmapgl"
           }
          ],
          "histogram": [
           {
            "marker": {
             "pattern": {
              "fillmode": "overlay",
              "size": 10,
              "solidity": 0.2
             }
            },
            "type": "histogram"
           }
          ],
          "histogram2d": [
           {
            "colorbar": {
             "outlinewidth": 0,
             "ticks": ""
            },
            "colorscale": [
             [
              0,
              "#0d0887"
             ],
             [
              0.1111111111111111,
              "#46039f"
             ],
             [
              0.2222222222222222,
              "#7201a8"
             ],
             [
              0.3333333333333333,
              "#9c179e"
             ],
             [
              0.4444444444444444,
              "#bd3786"
             ],
             [
              0.5555555555555556,
              "#d8576b"
             ],
             [
              0.6666666666666666,
              "#ed7953"
             ],
             [
              0.7777777777777778,
              "#fb9f3a"
             ],
             [
              0.8888888888888888,
              "#fdca26"
             ],
             [
              1,
              "#f0f921"
             ]
            ],
            "type": "histogram2d"
           }
          ],
          "histogram2dcontour": [
           {
            "colorbar": {
             "outlinewidth": 0,
             "ticks": ""
            },
            "colorscale": [
             [
              0,
              "#0d0887"
             ],
             [
              0.1111111111111111,
              "#46039f"
             ],
             [
              0.2222222222222222,
              "#7201a8"
             ],
             [
              0.3333333333333333,
              "#9c179e"
             ],
             [
              0.4444444444444444,
              "#bd3786"
             ],
             [
              0.5555555555555556,
              "#d8576b"
             ],
             [
              0.6666666666666666,
              "#ed7953"
             ],
             [
              0.7777777777777778,
              "#fb9f3a"
             ],
             [
              0.8888888888888888,
              "#fdca26"
             ],
             [
              1,
              "#f0f921"
             ]
            ],
            "type": "histogram2dcontour"
           }
          ],
          "mesh3d": [
           {
            "colorbar": {
             "outlinewidth": 0,
             "ticks": ""
            },
            "type": "mesh3d"
           }
          ],
          "parcoords": [
           {
            "line": {
             "colorbar": {
              "outlinewidth": 0,
              "ticks": ""
             }
            },
            "type": "parcoords"
           }
          ],
          "pie": [
           {
            "automargin": true,
            "type": "pie"
           }
          ],
          "scatter": [
           {
            "fillpattern": {
             "fillmode": "overlay",
             "size": 10,
             "solidity": 0.2
            },
            "type": "scatter"
           }
          ],
          "scatter3d": [
           {
            "line": {
             "colorbar": {
              "outlinewidth": 0,
              "ticks": ""
             }
            },
            "marker": {
             "colorbar": {
              "outlinewidth": 0,
              "ticks": ""
             }
            },
            "type": "scatter3d"
           }
          ],
          "scattercarpet": [
           {
            "marker": {
             "colorbar": {
              "outlinewidth": 0,
              "ticks": ""
             }
            },
            "type": "scattercarpet"
           }
          ],
          "scattergeo": [
           {
            "marker": {
             "colorbar": {
              "outlinewidth": 0,
              "ticks": ""
             }
            },
            "type": "scattergeo"
           }
          ],
          "scattergl": [
           {
            "marker": {
             "colorbar": {
              "outlinewidth": 0,
              "ticks": ""
             }
            },
            "type": "scattergl"
           }
          ],
          "scattermapbox": [
           {
            "marker": {
             "colorbar": {
              "outlinewidth": 0,
              "ticks": ""
             }
            },
            "type": "scattermapbox"
           }
          ],
          "scatterpolar": [
           {
            "marker": {
             "colorbar": {
              "outlinewidth": 0,
              "ticks": ""
             }
            },
            "type": "scatterpolar"
           }
          ],
          "scatterpolargl": [
           {
            "marker": {
             "colorbar": {
              "outlinewidth": 0,
              "ticks": ""
             }
            },
            "type": "scatterpolargl"
           }
          ],
          "scatterternary": [
           {
            "marker": {
             "colorbar": {
              "outlinewidth": 0,
              "ticks": ""
             }
            },
            "type": "scatterternary"
           }
          ],
          "surface": [
           {
            "colorbar": {
             "outlinewidth": 0,
             "ticks": ""
            },
            "colorscale": [
             [
              0,
              "#0d0887"
             ],
             [
              0.1111111111111111,
              "#46039f"
             ],
             [
              0.2222222222222222,
              "#7201a8"
             ],
             [
              0.3333333333333333,
              "#9c179e"
             ],
             [
              0.4444444444444444,
              "#bd3786"
             ],
             [
              0.5555555555555556,
              "#d8576b"
             ],
             [
              0.6666666666666666,
              "#ed7953"
             ],
             [
              0.7777777777777778,
              "#fb9f3a"
             ],
             [
              0.8888888888888888,
              "#fdca26"
             ],
             [
              1,
              "#f0f921"
             ]
            ],
            "type": "surface"
           }
          ],
          "table": [
           {
            "cells": {
             "fill": {
              "color": "#EBF0F8"
             },
             "line": {
              "color": "white"
             }
            },
            "header": {
             "fill": {
              "color": "#C8D4E3"
             },
             "line": {
              "color": "white"
             }
            },
            "type": "table"
           }
          ]
         },
         "layout": {
          "annotationdefaults": {
           "arrowcolor": "#2a3f5f",
           "arrowhead": 0,
           "arrowwidth": 1
          },
          "autotypenumbers": "strict",
          "coloraxis": {
           "colorbar": {
            "outlinewidth": 0,
            "ticks": ""
           }
          },
          "colorscale": {
           "diverging": [
            [
             0,
             "#8e0152"
            ],
            [
             0.1,
             "#c51b7d"
            ],
            [
             0.2,
             "#de77ae"
            ],
            [
             0.3,
             "#f1b6da"
            ],
            [
             0.4,
             "#fde0ef"
            ],
            [
             0.5,
             "#f7f7f7"
            ],
            [
             0.6,
             "#e6f5d0"
            ],
            [
             0.7,
             "#b8e186"
            ],
            [
             0.8,
             "#7fbc41"
            ],
            [
             0.9,
             "#4d9221"
            ],
            [
             1,
             "#276419"
            ]
           ],
           "sequential": [
            [
             0,
             "#0d0887"
            ],
            [
             0.1111111111111111,
             "#46039f"
            ],
            [
             0.2222222222222222,
             "#7201a8"
            ],
            [
             0.3333333333333333,
             "#9c179e"
            ],
            [
             0.4444444444444444,
             "#bd3786"
            ],
            [
             0.5555555555555556,
             "#d8576b"
            ],
            [
             0.6666666666666666,
             "#ed7953"
            ],
            [
             0.7777777777777778,
             "#fb9f3a"
            ],
            [
             0.8888888888888888,
             "#fdca26"
            ],
            [
             1,
             "#f0f921"
            ]
           ],
           "sequentialminus": [
            [
             0,
             "#0d0887"
            ],
            [
             0.1111111111111111,
             "#46039f"
            ],
            [
             0.2222222222222222,
             "#7201a8"
            ],
            [
             0.3333333333333333,
             "#9c179e"
            ],
            [
             0.4444444444444444,
             "#bd3786"
            ],
            [
             0.5555555555555556,
             "#d8576b"
            ],
            [
             0.6666666666666666,
             "#ed7953"
            ],
            [
             0.7777777777777778,
             "#fb9f3a"
            ],
            [
             0.8888888888888888,
             "#fdca26"
            ],
            [
             1,
             "#f0f921"
            ]
           ]
          },
          "colorway": [
           "#636efa",
           "#EF553B",
           "#00cc96",
           "#ab63fa",
           "#FFA15A",
           "#19d3f3",
           "#FF6692",
           "#B6E880",
           "#FF97FF",
           "#FECB52"
          ],
          "font": {
           "color": "#2a3f5f"
          },
          "geo": {
           "bgcolor": "white",
           "lakecolor": "white",
           "landcolor": "#E5ECF6",
           "showlakes": true,
           "showland": true,
           "subunitcolor": "white"
          },
          "hoverlabel": {
           "align": "left"
          },
          "hovermode": "closest",
          "mapbox": {
           "style": "light"
          },
          "paper_bgcolor": "white",
          "plot_bgcolor": "#E5ECF6",
          "polar": {
           "angularaxis": {
            "gridcolor": "white",
            "linecolor": "white",
            "ticks": ""
           },
           "bgcolor": "#E5ECF6",
           "radialaxis": {
            "gridcolor": "white",
            "linecolor": "white",
            "ticks": ""
           }
          },
          "scene": {
           "xaxis": {
            "backgroundcolor": "#E5ECF6",
            "gridcolor": "white",
            "gridwidth": 2,
            "linecolor": "white",
            "showbackground": true,
            "ticks": "",
            "zerolinecolor": "white"
           },
           "yaxis": {
            "backgroundcolor": "#E5ECF6",
            "gridcolor": "white",
            "gridwidth": 2,
            "linecolor": "white",
            "showbackground": true,
            "ticks": "",
            "zerolinecolor": "white"
           },
           "zaxis": {
            "backgroundcolor": "#E5ECF6",
            "gridcolor": "white",
            "gridwidth": 2,
            "linecolor": "white",
            "showbackground": true,
            "ticks": "",
            "zerolinecolor": "white"
           }
          },
          "shapedefaults": {
           "line": {
            "color": "#2a3f5f"
           }
          },
          "ternary": {
           "aaxis": {
            "gridcolor": "white",
            "linecolor": "white",
            "ticks": ""
           },
           "baxis": {
            "gridcolor": "white",
            "linecolor": "white",
            "ticks": ""
           },
           "bgcolor": "#E5ECF6",
           "caxis": {
            "gridcolor": "white",
            "linecolor": "white",
            "ticks": ""
           }
          },
          "title": {
           "x": 0.05
          },
          "xaxis": {
           "automargin": true,
           "gridcolor": "white",
           "linecolor": "white",
           "ticks": "",
           "title": {
            "standoff": 15
           },
           "zerolinecolor": "white",
           "zerolinewidth": 2
          },
          "yaxis": {
           "automargin": true,
           "gridcolor": "white",
           "linecolor": "white",
           "ticks": "",
           "title": {
            "standoff": 15
           },
           "zerolinecolor": "white",
           "zerolinewidth": 2
          }
         }
        },
        "title": {
         "text": "Shark Behavior vs. Number of Sharks (Faceted by Injury Severity)"
        },
        "xaxis": {
         "anchor": "y",
         "domain": [
          0,
          0.235
         ],
         "title": {
          "text": "Shark Behavior"
         }
        },
        "xaxis2": {
         "anchor": "y2",
         "domain": [
          0.255,
          0.49
         ],
         "matches": "x",
         "title": {
          "text": "Shark Behavior"
         }
        },
        "xaxis3": {
         "anchor": "y3",
         "domain": [
          0.51,
          0.745
         ],
         "matches": "x",
         "title": {
          "text": "Shark Behavior"
         }
        },
        "xaxis4": {
         "anchor": "y4",
         "domain": [
          0.7649999999999999,
          0.9999999999999999
         ],
         "matches": "x",
         "title": {
          "text": "Shark Behavior"
         }
        },
        "yaxis": {
         "anchor": "x",
         "domain": [
          0,
          1
         ],
         "title": {
          "text": "Number of Sharks"
         }
        },
        "yaxis2": {
         "anchor": "x2",
         "domain": [
          0,
          1
         ],
         "matches": "y",
         "showticklabels": false
        },
        "yaxis3": {
         "anchor": "x3",
         "domain": [
          0,
          1
         ],
         "matches": "y",
         "showticklabels": false
        },
        "yaxis4": {
         "anchor": "x4",
         "domain": [
          0,
          1
         ],
         "matches": "y",
         "showticklabels": false
        }
       }
      }
     },
     "metadata": {},
     "output_type": "display_data"
    }
   ],
   "source": [
    "# Prepare data\n",
    "facet_scatter_data = df[['shark_behaviour_generic', 'no_sharks', 'injury_severity']].dropna()\n",
    "\n",
    "# Create facet scatter plot\n",
    "facet_scatter_fig = px.scatter(\n",
    "    facet_scatter_data,\n",
    "    x='shark_behaviour_generic',\n",
    "    y='no_sharks',\n",
    "    color='injury_severity',\n",
    "    facet_col='injury_severity',\n",
    "    title='Shark Behavior vs. Number of Sharks (Faceted by Injury Severity)',\n",
    "    labels={\n",
    "        'shark_behaviour_generic': 'Shark Behavior',\n",
    "        'no_sharks': 'Number of Sharks',\n",
    "        'injury_severity': 'Injury Severity'\n",
    "    }\n",
    ")\n",
    "\n",
    "# Show plot\n",
    "facet_scatter_fig.show()\n"
   ]
  },
  {
   "cell_type": "code",
   "execution_count": 12,
   "metadata": {},
   "outputs": [
    {
     "data": {
      "application/vnd.plotly.v1+json": {
       "config": {
        "plotlyServerURL": "https://plot.ly"
       },
       "data": [
        {
         "branchvalues": "total",
         "customdata": [
          [
           "(?)"
          ],
          [
           "injured"
          ],
          [
           "(?)"
          ],
          [
           "(?)"
          ],
          [
           "(?)"
          ],
          [
           "(?)"
          ],
          [
           "(?)"
          ],
          [
           "(?)"
          ],
          [
           "(?)"
          ],
          [
           "(?)"
          ],
          [
           "(?)"
          ],
          [
           "(?)"
          ],
          [
           "uninjured"
          ],
          [
           "(?)"
          ],
          [
           "(?)"
          ],
          [
           "(?)"
          ],
          [
           "(?)"
          ],
          [
           "(?)"
          ],
          [
           "(?)"
          ],
          [
           "(?)"
          ],
          [
           "(?)"
          ],
          [
           "(?)"
          ],
          [
           "(?)"
          ],
          [
           "(?)"
          ],
          [
           "injured"
          ],
          [
           "(?)"
          ]
         ],
         "domain": {
          "x": [
           0,
           1
          ],
          "y": [
           0,
           1
          ]
         },
         "hovertemplate": "labels=%{label}<br>count=%{value}<br>parent=%{parent}<br>id=%{id}<br>Victim Injury=%{customdata[0]}<extra></extra>",
         "ids": [
          "Coastal/approached_victim",
          "Coastal/unseen",
          "River/unknown",
          "Island Open Ocean/unknown",
          "River/direct_attack",
          "Others/direct_attack",
          "Estuary Harbour/direct_attack",
          "Coastal/direct_attack",
          "River/contact_made",
          "Island Open Ocean/direct_attack",
          "Others/approached_victim",
          "River",
          "Island Open Ocean/contact_made",
          "Estuary Harbour/contact_made",
          "Coastal/contact_made",
          "River/approached_victim",
          "Coastal/unknown",
          "Estuary Harbour/unknown",
          "Others/unknown",
          "Island Open Ocean/approached_victim",
          "Estuary Harbour/approached_victim",
          "Coastal",
          "Estuary Harbour",
          "Island Open Ocean",
          "Others/contact_made",
          "Others"
         ],
         "labels": [
          "approached_victim",
          "unseen",
          "unknown",
          "unknown",
          "direct_attack",
          "direct_attack",
          "direct_attack",
          "direct_attack",
          "contact_made",
          "direct_attack",
          "approached_victim",
          "River",
          "contact_made",
          "contact_made",
          "contact_made",
          "approached_victim",
          "unknown",
          "unknown",
          "unknown",
          "approached_victim",
          "approached_victim",
          "Coastal",
          "Estuary Harbour",
          "Island Open Ocean",
          "contact_made",
          "Others"
         ],
         "marker": {
          "colors": [
           "#636efa",
           "#EF553B",
           "#636efa",
           "#636efa",
           "#636efa",
           "#636efa",
           "#636efa",
           "#636efa",
           "#636efa",
           "#636efa",
           "#636efa",
           "#636efa",
           "#00cc96",
           "#636efa",
           "#636efa",
           "#636efa",
           "#636efa",
           "#636efa",
           "#636efa",
           "#636efa",
           "#636efa",
           "#636efa",
           "#636efa",
           "#636efa",
           "#EF553B",
           "#636efa"
          ]
         },
         "name": "",
         "parents": [
          "Coastal",
          "Coastal",
          "River",
          "Island Open Ocean",
          "River",
          "Others",
          "Estuary Harbour",
          "Coastal",
          "River",
          "Island Open Ocean",
          "Others",
          "",
          "Island Open Ocean",
          "Estuary Harbour",
          "Coastal",
          "River",
          "Coastal",
          "Estuary Harbour",
          "Others",
          "Island Open Ocean",
          "Estuary Harbour",
          "",
          "",
          "",
          "Others",
          ""
         ],
         "type": "treemap",
         "values": [
          42,
          1,
          8,
          58,
          74,
          18,
          82,
          552,
          6,
          109,
          4,
          93,
          3,
          8,
          44,
          5,
          168,
          13,
          7,
          14,
          9,
          807,
          112,
          184,
          1,
          30
         ]
        }
       ],
       "layout": {
        "legend": {
         "tracegroupgap": 0
        },
        "template": {
         "data": {
          "bar": [
           {
            "error_x": {
             "color": "#2a3f5f"
            },
            "error_y": {
             "color": "#2a3f5f"
            },
            "marker": {
             "line": {
              "color": "#E5ECF6",
              "width": 0.5
             },
             "pattern": {
              "fillmode": "overlay",
              "size": 10,
              "solidity": 0.2
             }
            },
            "type": "bar"
           }
          ],
          "barpolar": [
           {
            "marker": {
             "line": {
              "color": "#E5ECF6",
              "width": 0.5
             },
             "pattern": {
              "fillmode": "overlay",
              "size": 10,
              "solidity": 0.2
             }
            },
            "type": "barpolar"
           }
          ],
          "carpet": [
           {
            "aaxis": {
             "endlinecolor": "#2a3f5f",
             "gridcolor": "white",
             "linecolor": "white",
             "minorgridcolor": "white",
             "startlinecolor": "#2a3f5f"
            },
            "baxis": {
             "endlinecolor": "#2a3f5f",
             "gridcolor": "white",
             "linecolor": "white",
             "minorgridcolor": "white",
             "startlinecolor": "#2a3f5f"
            },
            "type": "carpet"
           }
          ],
          "choropleth": [
           {
            "colorbar": {
             "outlinewidth": 0,
             "ticks": ""
            },
            "type": "choropleth"
           }
          ],
          "contour": [
           {
            "colorbar": {
             "outlinewidth": 0,
             "ticks": ""
            },
            "colorscale": [
             [
              0,
              "#0d0887"
             ],
             [
              0.1111111111111111,
              "#46039f"
             ],
             [
              0.2222222222222222,
              "#7201a8"
             ],
             [
              0.3333333333333333,
              "#9c179e"
             ],
             [
              0.4444444444444444,
              "#bd3786"
             ],
             [
              0.5555555555555556,
              "#d8576b"
             ],
             [
              0.6666666666666666,
              "#ed7953"
             ],
             [
              0.7777777777777778,
              "#fb9f3a"
             ],
             [
              0.8888888888888888,
              "#fdca26"
             ],
             [
              1,
              "#f0f921"
             ]
            ],
            "type": "contour"
           }
          ],
          "contourcarpet": [
           {
            "colorbar": {
             "outlinewidth": 0,
             "ticks": ""
            },
            "type": "contourcarpet"
           }
          ],
          "heatmap": [
           {
            "colorbar": {
             "outlinewidth": 0,
             "ticks": ""
            },
            "colorscale": [
             [
              0,
              "#0d0887"
             ],
             [
              0.1111111111111111,
              "#46039f"
             ],
             [
              0.2222222222222222,
              "#7201a8"
             ],
             [
              0.3333333333333333,
              "#9c179e"
             ],
             [
              0.4444444444444444,
              "#bd3786"
             ],
             [
              0.5555555555555556,
              "#d8576b"
             ],
             [
              0.6666666666666666,
              "#ed7953"
             ],
             [
              0.7777777777777778,
              "#fb9f3a"
             ],
             [
              0.8888888888888888,
              "#fdca26"
             ],
             [
              1,
              "#f0f921"
             ]
            ],
            "type": "heatmap"
           }
          ],
          "heatmapgl": [
           {
            "colorbar": {
             "outlinewidth": 0,
             "ticks": ""
            },
            "colorscale": [
             [
              0,
              "#0d0887"
             ],
             [
              0.1111111111111111,
              "#46039f"
             ],
             [
              0.2222222222222222,
              "#7201a8"
             ],
             [
              0.3333333333333333,
              "#9c179e"
             ],
             [
              0.4444444444444444,
              "#bd3786"
             ],
             [
              0.5555555555555556,
              "#d8576b"
             ],
             [
              0.6666666666666666,
              "#ed7953"
             ],
             [
              0.7777777777777778,
              "#fb9f3a"
             ],
             [
              0.8888888888888888,
              "#fdca26"
             ],
             [
              1,
              "#f0f921"
             ]
            ],
            "type": "heatmapgl"
           }
          ],
          "histogram": [
           {
            "marker": {
             "pattern": {
              "fillmode": "overlay",
              "size": 10,
              "solidity": 0.2
             }
            },
            "type": "histogram"
           }
          ],
          "histogram2d": [
           {
            "colorbar": {
             "outlinewidth": 0,
             "ticks": ""
            },
            "colorscale": [
             [
              0,
              "#0d0887"
             ],
             [
              0.1111111111111111,
              "#46039f"
             ],
             [
              0.2222222222222222,
              "#7201a8"
             ],
             [
              0.3333333333333333,
              "#9c179e"
             ],
             [
              0.4444444444444444,
              "#bd3786"
             ],
             [
              0.5555555555555556,
              "#d8576b"
             ],
             [
              0.6666666666666666,
              "#ed7953"
             ],
             [
              0.7777777777777778,
              "#fb9f3a"
             ],
             [
              0.8888888888888888,
              "#fdca26"
             ],
             [
              1,
              "#f0f921"
             ]
            ],
            "type": "histogram2d"
           }
          ],
          "histogram2dcontour": [
           {
            "colorbar": {
             "outlinewidth": 0,
             "ticks": ""
            },
            "colorscale": [
             [
              0,
              "#0d0887"
             ],
             [
              0.1111111111111111,
              "#46039f"
             ],
             [
              0.2222222222222222,
              "#7201a8"
             ],
             [
              0.3333333333333333,
              "#9c179e"
             ],
             [
              0.4444444444444444,
              "#bd3786"
             ],
             [
              0.5555555555555556,
              "#d8576b"
             ],
             [
              0.6666666666666666,
              "#ed7953"
             ],
             [
              0.7777777777777778,
              "#fb9f3a"
             ],
             [
              0.8888888888888888,
              "#fdca26"
             ],
             [
              1,
              "#f0f921"
             ]
            ],
            "type": "histogram2dcontour"
           }
          ],
          "mesh3d": [
           {
            "colorbar": {
             "outlinewidth": 0,
             "ticks": ""
            },
            "type": "mesh3d"
           }
          ],
          "parcoords": [
           {
            "line": {
             "colorbar": {
              "outlinewidth": 0,
              "ticks": ""
             }
            },
            "type": "parcoords"
           }
          ],
          "pie": [
           {
            "automargin": true,
            "type": "pie"
           }
          ],
          "scatter": [
           {
            "fillpattern": {
             "fillmode": "overlay",
             "size": 10,
             "solidity": 0.2
            },
            "type": "scatter"
           }
          ],
          "scatter3d": [
           {
            "line": {
             "colorbar": {
              "outlinewidth": 0,
              "ticks": ""
             }
            },
            "marker": {
             "colorbar": {
              "outlinewidth": 0,
              "ticks": ""
             }
            },
            "type": "scatter3d"
           }
          ],
          "scattercarpet": [
           {
            "marker": {
             "colorbar": {
              "outlinewidth": 0,
              "ticks": ""
             }
            },
            "type": "scattercarpet"
           }
          ],
          "scattergeo": [
           {
            "marker": {
             "colorbar": {
              "outlinewidth": 0,
              "ticks": ""
             }
            },
            "type": "scattergeo"
           }
          ],
          "scattergl": [
           {
            "marker": {
             "colorbar": {
              "outlinewidth": 0,
              "ticks": ""
             }
            },
            "type": "scattergl"
           }
          ],
          "scattermapbox": [
           {
            "marker": {
             "colorbar": {
              "outlinewidth": 0,
              "ticks": ""
             }
            },
            "type": "scattermapbox"
           }
          ],
          "scatterpolar": [
           {
            "marker": {
             "colorbar": {
              "outlinewidth": 0,
              "ticks": ""
             }
            },
            "type": "scatterpolar"
           }
          ],
          "scatterpolargl": [
           {
            "marker": {
             "colorbar": {
              "outlinewidth": 0,
              "ticks": ""
             }
            },
            "type": "scatterpolargl"
           }
          ],
          "scatterternary": [
           {
            "marker": {
             "colorbar": {
              "outlinewidth": 0,
              "ticks": ""
             }
            },
            "type": "scatterternary"
           }
          ],
          "surface": [
           {
            "colorbar": {
             "outlinewidth": 0,
             "ticks": ""
            },
            "colorscale": [
             [
              0,
              "#0d0887"
             ],
             [
              0.1111111111111111,
              "#46039f"
             ],
             [
              0.2222222222222222,
              "#7201a8"
             ],
             [
              0.3333333333333333,
              "#9c179e"
             ],
             [
              0.4444444444444444,
              "#bd3786"
             ],
             [
              0.5555555555555556,
              "#d8576b"
             ],
             [
              0.6666666666666666,
              "#ed7953"
             ],
             [
              0.7777777777777778,
              "#fb9f3a"
             ],
             [
              0.8888888888888888,
              "#fdca26"
             ],
             [
              1,
              "#f0f921"
             ]
            ],
            "type": "surface"
           }
          ],
          "table": [
           {
            "cells": {
             "fill": {
              "color": "#EBF0F8"
             },
             "line": {
              "color": "white"
             }
            },
            "header": {
             "fill": {
              "color": "#C8D4E3"
             },
             "line": {
              "color": "white"
             }
            },
            "type": "table"
           }
          ]
         },
         "layout": {
          "annotationdefaults": {
           "arrowcolor": "#2a3f5f",
           "arrowhead": 0,
           "arrowwidth": 1
          },
          "autotypenumbers": "strict",
          "coloraxis": {
           "colorbar": {
            "outlinewidth": 0,
            "ticks": ""
           }
          },
          "colorscale": {
           "diverging": [
            [
             0,
             "#8e0152"
            ],
            [
             0.1,
             "#c51b7d"
            ],
            [
             0.2,
             "#de77ae"
            ],
            [
             0.3,
             "#f1b6da"
            ],
            [
             0.4,
             "#fde0ef"
            ],
            [
             0.5,
             "#f7f7f7"
            ],
            [
             0.6,
             "#e6f5d0"
            ],
            [
             0.7,
             "#b8e186"
            ],
            [
             0.8,
             "#7fbc41"
            ],
            [
             0.9,
             "#4d9221"
            ],
            [
             1,
             "#276419"
            ]
           ],
           "sequential": [
            [
             0,
             "#0d0887"
            ],
            [
             0.1111111111111111,
             "#46039f"
            ],
            [
             0.2222222222222222,
             "#7201a8"
            ],
            [
             0.3333333333333333,
             "#9c179e"
            ],
            [
             0.4444444444444444,
             "#bd3786"
            ],
            [
             0.5555555555555556,
             "#d8576b"
            ],
            [
             0.6666666666666666,
             "#ed7953"
            ],
            [
             0.7777777777777778,
             "#fb9f3a"
            ],
            [
             0.8888888888888888,
             "#fdca26"
            ],
            [
             1,
             "#f0f921"
            ]
           ],
           "sequentialminus": [
            [
             0,
             "#0d0887"
            ],
            [
             0.1111111111111111,
             "#46039f"
            ],
            [
             0.2222222222222222,
             "#7201a8"
            ],
            [
             0.3333333333333333,
             "#9c179e"
            ],
            [
             0.4444444444444444,
             "#bd3786"
            ],
            [
             0.5555555555555556,
             "#d8576b"
            ],
            [
             0.6666666666666666,
             "#ed7953"
            ],
            [
             0.7777777777777778,
             "#fb9f3a"
            ],
            [
             0.8888888888888888,
             "#fdca26"
            ],
            [
             1,
             "#f0f921"
            ]
           ]
          },
          "colorway": [
           "#636efa",
           "#EF553B",
           "#00cc96",
           "#ab63fa",
           "#FFA15A",
           "#19d3f3",
           "#FF6692",
           "#B6E880",
           "#FF97FF",
           "#FECB52"
          ],
          "font": {
           "color": "#2a3f5f"
          },
          "geo": {
           "bgcolor": "white",
           "lakecolor": "white",
           "landcolor": "#E5ECF6",
           "showlakes": true,
           "showland": true,
           "subunitcolor": "white"
          },
          "hoverlabel": {
           "align": "left"
          },
          "hovermode": "closest",
          "mapbox": {
           "style": "light"
          },
          "paper_bgcolor": "white",
          "plot_bgcolor": "#E5ECF6",
          "polar": {
           "angularaxis": {
            "gridcolor": "white",
            "linecolor": "white",
            "ticks": ""
           },
           "bgcolor": "#E5ECF6",
           "radialaxis": {
            "gridcolor": "white",
            "linecolor": "white",
            "ticks": ""
           }
          },
          "scene": {
           "xaxis": {
            "backgroundcolor": "#E5ECF6",
            "gridcolor": "white",
            "gridwidth": 2,
            "linecolor": "white",
            "showbackground": true,
            "ticks": "",
            "zerolinecolor": "white"
           },
           "yaxis": {
            "backgroundcolor": "#E5ECF6",
            "gridcolor": "white",
            "gridwidth": 2,
            "linecolor": "white",
            "showbackground": true,
            "ticks": "",
            "zerolinecolor": "white"
           },
           "zaxis": {
            "backgroundcolor": "#E5ECF6",
            "gridcolor": "white",
            "gridwidth": 2,
            "linecolor": "white",
            "showbackground": true,
            "ticks": "",
            "zerolinecolor": "white"
           }
          },
          "shapedefaults": {
           "line": {
            "color": "#2a3f5f"
           }
          },
          "ternary": {
           "aaxis": {
            "gridcolor": "white",
            "linecolor": "white",
            "ticks": ""
           },
           "baxis": {
            "gridcolor": "white",
            "linecolor": "white",
            "ticks": ""
           },
           "bgcolor": "#E5ECF6",
           "caxis": {
            "gridcolor": "white",
            "linecolor": "white",
            "ticks": ""
           }
          },
          "title": {
           "x": 0.05
          },
          "xaxis": {
           "automargin": true,
           "gridcolor": "white",
           "linecolor": "white",
           "ticks": "",
           "title": {
            "standoff": 15
           },
           "zerolinecolor": "white",
           "zerolinewidth": 2
          },
          "yaxis": {
           "automargin": true,
           "gridcolor": "white",
           "linecolor": "white",
           "ticks": "",
           "title": {
            "standoff": 15
           },
           "zerolinecolor": "white",
           "zerolinewidth": 2
          }
         }
        },
        "title": {
         "text": "Site Category and Shark Behavior by Victim Injury"
        }
       }
      }
     },
     "metadata": {},
     "output_type": "display_data"
    }
   ],
   "source": [
    "# Prepare data\n",
    "treemap_data = df[['site_category_cleaned', 'shark_behaviour_generic', 'victim_injury']].dropna()\n",
    "\n",
    "# Create treemap\n",
    "treemap_fig = px.treemap(\n",
    "    treemap_data,\n",
    "    path=['site_category_cleaned', 'shark_behaviour_generic'],\n",
    "    color='victim_injury',\n",
    "    title='Site Category and Shark Behavior by Victim Injury',\n",
    "    labels={\n",
    "        'site_category_cleaned': 'Site Category',\n",
    "        'shark_behaviour_generic': 'Shark Behavior',\n",
    "        'victim_injury': 'Victim Injury'\n",
    "    }\n",
    ")\n",
    "\n",
    "# Show plot\n",
    "treemap_fig.show()\n"
   ]
  },
  {
   "cell_type": "code",
   "execution_count": 23,
   "metadata": {},
   "outputs": [
    {
     "data": {
      "application/vnd.plotly.v1+json": {
       "config": {
        "plotlyServerURL": "https://plot.ly"
       },
       "data": [
        {
         "branchvalues": "total",
         "customdata": [
          [
           "(?)"
          ],
          [
           "injured"
          ],
          [
           "(?)"
          ],
          [
           "(?)"
          ],
          [
           "(?)"
          ],
          [
           "(?)"
          ],
          [
           "(?)"
          ],
          [
           "(?)"
          ],
          [
           "(?)"
          ],
          [
           "(?)"
          ],
          [
           "(?)"
          ],
          [
           "(?)"
          ],
          [
           "uninjured"
          ],
          [
           "(?)"
          ],
          [
           "(?)"
          ],
          [
           "(?)"
          ],
          [
           "(?)"
          ],
          [
           "(?)"
          ],
          [
           "(?)"
          ],
          [
           "(?)"
          ],
          [
           "(?)"
          ],
          [
           "(?)"
          ],
          [
           "(?)"
          ],
          [
           "(?)"
          ],
          [
           "injured"
          ],
          [
           "(?)"
          ]
         ],
         "domain": {
          "x": [
           0,
           1
          ],
          "y": [
           0,
           1
          ]
         },
         "hovertemplate": "labels=%{label}<br>count=%{value}<br>parent=%{parent}<br>id=%{id}<br>Victim Injury=%{customdata[0]}<extra></extra>",
         "ids": [
          "Coastal/approached_victim",
          "Coastal/unseen",
          "River/unknown",
          "Island Open Ocean/unknown",
          "River/direct_attack",
          "Others/direct_attack",
          "Estuary Harbour/direct_attack",
          "Coastal/direct_attack",
          "River/contact_made",
          "Island Open Ocean/direct_attack",
          "Others/approached_victim",
          "River",
          "Island Open Ocean/contact_made",
          "Estuary Harbour/contact_made",
          "Coastal/contact_made",
          "River/approached_victim",
          "Coastal/unknown",
          "Estuary Harbour/unknown",
          "Others/unknown",
          "Island Open Ocean/approached_victim",
          "Estuary Harbour/approached_victim",
          "Coastal",
          "Estuary Harbour",
          "Island Open Ocean",
          "Others/contact_made",
          "Others"
         ],
         "labels": [
          "approached_victim",
          "unseen",
          "unknown",
          "unknown",
          "direct_attack",
          "direct_attack",
          "direct_attack",
          "direct_attack",
          "contact_made",
          "direct_attack",
          "approached_victim",
          "River",
          "contact_made",
          "contact_made",
          "contact_made",
          "approached_victim",
          "unknown",
          "unknown",
          "unknown",
          "approached_victim",
          "approached_victim",
          "Coastal",
          "Estuary Harbour",
          "Island Open Ocean",
          "contact_made",
          "Others"
         ],
         "marker": {
          "colors": [
           "#636efa",
           "#EF553B",
           "#636efa",
           "#636efa",
           "#636efa",
           "#636efa",
           "#636efa",
           "#636efa",
           "#636efa",
           "#636efa",
           "#636efa",
           "#636efa",
           "#00cc96",
           "#636efa",
           "#636efa",
           "#636efa",
           "#636efa",
           "#636efa",
           "#636efa",
           "#636efa",
           "#636efa",
           "#636efa",
           "#636efa",
           "#636efa",
           "#EF553B",
           "#636efa"
          ],
          "line": {
           "color": "black",
           "width": 1
          }
         },
         "name": "",
         "parents": [
          "Coastal",
          "Coastal",
          "River",
          "Island Open Ocean",
          "River",
          "Others",
          "Estuary Harbour",
          "Coastal",
          "River",
          "Island Open Ocean",
          "Others",
          "",
          "Island Open Ocean",
          "Estuary Harbour",
          "Coastal",
          "River",
          "Coastal",
          "Estuary Harbour",
          "Others",
          "Island Open Ocean",
          "Estuary Harbour",
          "",
          "",
          "",
          "Others",
          ""
         ],
         "type": "treemap",
         "values": [
          42,
          1,
          8,
          58,
          74,
          18,
          82,
          552,
          6,
          109,
          4,
          93,
          3,
          8,
          44,
          5,
          168,
          13,
          7,
          14,
          9,
          807,
          112,
          184,
          1,
          30
         ]
        }
       ],
       "layout": {
        "legend": {
         "tracegroupgap": 0
        },
        "margin": {
         "b": 10,
         "l": 30,
         "r": 30,
         "t": 50
        },
        "paper_bgcolor": "rgba(0,0,0,0)",
        "plot_bgcolor": "rgba(0,0,0,0)",
        "template": {
         "data": {
          "bar": [
           {
            "error_x": {
             "color": "#2a3f5f"
            },
            "error_y": {
             "color": "#2a3f5f"
            },
            "marker": {
             "line": {
              "color": "#E5ECF6",
              "width": 0.5
             },
             "pattern": {
              "fillmode": "overlay",
              "size": 10,
              "solidity": 0.2
             }
            },
            "type": "bar"
           }
          ],
          "barpolar": [
           {
            "marker": {
             "line": {
              "color": "#E5ECF6",
              "width": 0.5
             },
             "pattern": {
              "fillmode": "overlay",
              "size": 10,
              "solidity": 0.2
             }
            },
            "type": "barpolar"
           }
          ],
          "carpet": [
           {
            "aaxis": {
             "endlinecolor": "#2a3f5f",
             "gridcolor": "white",
             "linecolor": "white",
             "minorgridcolor": "white",
             "startlinecolor": "#2a3f5f"
            },
            "baxis": {
             "endlinecolor": "#2a3f5f",
             "gridcolor": "white",
             "linecolor": "white",
             "minorgridcolor": "white",
             "startlinecolor": "#2a3f5f"
            },
            "type": "carpet"
           }
          ],
          "choropleth": [
           {
            "colorbar": {
             "outlinewidth": 0,
             "ticks": ""
            },
            "type": "choropleth"
           }
          ],
          "contour": [
           {
            "colorbar": {
             "outlinewidth": 0,
             "ticks": ""
            },
            "colorscale": [
             [
              0,
              "#0d0887"
             ],
             [
              0.1111111111111111,
              "#46039f"
             ],
             [
              0.2222222222222222,
              "#7201a8"
             ],
             [
              0.3333333333333333,
              "#9c179e"
             ],
             [
              0.4444444444444444,
              "#bd3786"
             ],
             [
              0.5555555555555556,
              "#d8576b"
             ],
             [
              0.6666666666666666,
              "#ed7953"
             ],
             [
              0.7777777777777778,
              "#fb9f3a"
             ],
             [
              0.8888888888888888,
              "#fdca26"
             ],
             [
              1,
              "#f0f921"
             ]
            ],
            "type": "contour"
           }
          ],
          "contourcarpet": [
           {
            "colorbar": {
             "outlinewidth": 0,
             "ticks": ""
            },
            "type": "contourcarpet"
           }
          ],
          "heatmap": [
           {
            "colorbar": {
             "outlinewidth": 0,
             "ticks": ""
            },
            "colorscale": [
             [
              0,
              "#0d0887"
             ],
             [
              0.1111111111111111,
              "#46039f"
             ],
             [
              0.2222222222222222,
              "#7201a8"
             ],
             [
              0.3333333333333333,
              "#9c179e"
             ],
             [
              0.4444444444444444,
              "#bd3786"
             ],
             [
              0.5555555555555556,
              "#d8576b"
             ],
             [
              0.6666666666666666,
              "#ed7953"
             ],
             [
              0.7777777777777778,
              "#fb9f3a"
             ],
             [
              0.8888888888888888,
              "#fdca26"
             ],
             [
              1,
              "#f0f921"
             ]
            ],
            "type": "heatmap"
           }
          ],
          "heatmapgl": [
           {
            "colorbar": {
             "outlinewidth": 0,
             "ticks": ""
            },
            "colorscale": [
             [
              0,
              "#0d0887"
             ],
             [
              0.1111111111111111,
              "#46039f"
             ],
             [
              0.2222222222222222,
              "#7201a8"
             ],
             [
              0.3333333333333333,
              "#9c179e"
             ],
             [
              0.4444444444444444,
              "#bd3786"
             ],
             [
              0.5555555555555556,
              "#d8576b"
             ],
             [
              0.6666666666666666,
              "#ed7953"
             ],
             [
              0.7777777777777778,
              "#fb9f3a"
             ],
             [
              0.8888888888888888,
              "#fdca26"
             ],
             [
              1,
              "#f0f921"
             ]
            ],
            "type": "heatmapgl"
           }
          ],
          "histogram": [
           {
            "marker": {
             "pattern": {
              "fillmode": "overlay",
              "size": 10,
              "solidity": 0.2
             }
            },
            "type": "histogram"
           }
          ],
          "histogram2d": [
           {
            "colorbar": {
             "outlinewidth": 0,
             "ticks": ""
            },
            "colorscale": [
             [
              0,
              "#0d0887"
             ],
             [
              0.1111111111111111,
              "#46039f"
             ],
             [
              0.2222222222222222,
              "#7201a8"
             ],
             [
              0.3333333333333333,
              "#9c179e"
             ],
             [
              0.4444444444444444,
              "#bd3786"
             ],
             [
              0.5555555555555556,
              "#d8576b"
             ],
             [
              0.6666666666666666,
              "#ed7953"
             ],
             [
              0.7777777777777778,
              "#fb9f3a"
             ],
             [
              0.8888888888888888,
              "#fdca26"
             ],
             [
              1,
              "#f0f921"
             ]
            ],
            "type": "histogram2d"
           }
          ],
          "histogram2dcontour": [
           {
            "colorbar": {
             "outlinewidth": 0,
             "ticks": ""
            },
            "colorscale": [
             [
              0,
              "#0d0887"
             ],
             [
              0.1111111111111111,
              "#46039f"
             ],
             [
              0.2222222222222222,
              "#7201a8"
             ],
             [
              0.3333333333333333,
              "#9c179e"
             ],
             [
              0.4444444444444444,
              "#bd3786"
             ],
             [
              0.5555555555555556,
              "#d8576b"
             ],
             [
              0.6666666666666666,
              "#ed7953"
             ],
             [
              0.7777777777777778,
              "#fb9f3a"
             ],
             [
              0.8888888888888888,
              "#fdca26"
             ],
             [
              1,
              "#f0f921"
             ]
            ],
            "type": "histogram2dcontour"
           }
          ],
          "mesh3d": [
           {
            "colorbar": {
             "outlinewidth": 0,
             "ticks": ""
            },
            "type": "mesh3d"
           }
          ],
          "parcoords": [
           {
            "line": {
             "colorbar": {
              "outlinewidth": 0,
              "ticks": ""
             }
            },
            "type": "parcoords"
           }
          ],
          "pie": [
           {
            "automargin": true,
            "type": "pie"
           }
          ],
          "scatter": [
           {
            "fillpattern": {
             "fillmode": "overlay",
             "size": 10,
             "solidity": 0.2
            },
            "type": "scatter"
           }
          ],
          "scatter3d": [
           {
            "line": {
             "colorbar": {
              "outlinewidth": 0,
              "ticks": ""
             }
            },
            "marker": {
             "colorbar": {
              "outlinewidth": 0,
              "ticks": ""
             }
            },
            "type": "scatter3d"
           }
          ],
          "scattercarpet": [
           {
            "marker": {
             "colorbar": {
              "outlinewidth": 0,
              "ticks": ""
             }
            },
            "type": "scattercarpet"
           }
          ],
          "scattergeo": [
           {
            "marker": {
             "colorbar": {
              "outlinewidth": 0,
              "ticks": ""
             }
            },
            "type": "scattergeo"
           }
          ],
          "scattergl": [
           {
            "marker": {
             "colorbar": {
              "outlinewidth": 0,
              "ticks": ""
             }
            },
            "type": "scattergl"
           }
          ],
          "scattermapbox": [
           {
            "marker": {
             "colorbar": {
              "outlinewidth": 0,
              "ticks": ""
             }
            },
            "type": "scattermapbox"
           }
          ],
          "scatterpolar": [
           {
            "marker": {
             "colorbar": {
              "outlinewidth": 0,
              "ticks": ""
             }
            },
            "type": "scatterpolar"
           }
          ],
          "scatterpolargl": [
           {
            "marker": {
             "colorbar": {
              "outlinewidth": 0,
              "ticks": ""
             }
            },
            "type": "scatterpolargl"
           }
          ],
          "scatterternary": [
           {
            "marker": {
             "colorbar": {
              "outlinewidth": 0,
              "ticks": ""
             }
            },
            "type": "scatterternary"
           }
          ],
          "surface": [
           {
            "colorbar": {
             "outlinewidth": 0,
             "ticks": ""
            },
            "colorscale": [
             [
              0,
              "#0d0887"
             ],
             [
              0.1111111111111111,
              "#46039f"
             ],
             [
              0.2222222222222222,
              "#7201a8"
             ],
             [
              0.3333333333333333,
              "#9c179e"
             ],
             [
              0.4444444444444444,
              "#bd3786"
             ],
             [
              0.5555555555555556,
              "#d8576b"
             ],
             [
              0.6666666666666666,
              "#ed7953"
             ],
             [
              0.7777777777777778,
              "#fb9f3a"
             ],
             [
              0.8888888888888888,
              "#fdca26"
             ],
             [
              1,
              "#f0f921"
             ]
            ],
            "type": "surface"
           }
          ],
          "table": [
           {
            "cells": {
             "fill": {
              "color": "#EBF0F8"
             },
             "line": {
              "color": "white"
             }
            },
            "header": {
             "fill": {
              "color": "#C8D4E3"
             },
             "line": {
              "color": "white"
             }
            },
            "type": "table"
           }
          ]
         },
         "layout": {
          "annotationdefaults": {
           "arrowcolor": "#2a3f5f",
           "arrowhead": 0,
           "arrowwidth": 1
          },
          "autotypenumbers": "strict",
          "coloraxis": {
           "colorbar": {
            "outlinewidth": 0,
            "ticks": ""
           }
          },
          "colorscale": {
           "diverging": [
            [
             0,
             "#8e0152"
            ],
            [
             0.1,
             "#c51b7d"
            ],
            [
             0.2,
             "#de77ae"
            ],
            [
             0.3,
             "#f1b6da"
            ],
            [
             0.4,
             "#fde0ef"
            ],
            [
             0.5,
             "#f7f7f7"
            ],
            [
             0.6,
             "#e6f5d0"
            ],
            [
             0.7,
             "#b8e186"
            ],
            [
             0.8,
             "#7fbc41"
            ],
            [
             0.9,
             "#4d9221"
            ],
            [
             1,
             "#276419"
            ]
           ],
           "sequential": [
            [
             0,
             "#0d0887"
            ],
            [
             0.1111111111111111,
             "#46039f"
            ],
            [
             0.2222222222222222,
             "#7201a8"
            ],
            [
             0.3333333333333333,
             "#9c179e"
            ],
            [
             0.4444444444444444,
             "#bd3786"
            ],
            [
             0.5555555555555556,
             "#d8576b"
            ],
            [
             0.6666666666666666,
             "#ed7953"
            ],
            [
             0.7777777777777778,
             "#fb9f3a"
            ],
            [
             0.8888888888888888,
             "#fdca26"
            ],
            [
             1,
             "#f0f921"
            ]
           ],
           "sequentialminus": [
            [
             0,
             "#0d0887"
            ],
            [
             0.1111111111111111,
             "#46039f"
            ],
            [
             0.2222222222222222,
             "#7201a8"
            ],
            [
             0.3333333333333333,
             "#9c179e"
            ],
            [
             0.4444444444444444,
             "#bd3786"
            ],
            [
             0.5555555555555556,
             "#d8576b"
            ],
            [
             0.6666666666666666,
             "#ed7953"
            ],
            [
             0.7777777777777778,
             "#fb9f3a"
            ],
            [
             0.8888888888888888,
             "#fdca26"
            ],
            [
             1,
             "#f0f921"
            ]
           ]
          },
          "colorway": [
           "#636efa",
           "#EF553B",
           "#00cc96",
           "#ab63fa",
           "#FFA15A",
           "#19d3f3",
           "#FF6692",
           "#B6E880",
           "#FF97FF",
           "#FECB52"
          ],
          "font": {
           "color": "#2a3f5f"
          },
          "geo": {
           "bgcolor": "white",
           "lakecolor": "white",
           "landcolor": "#E5ECF6",
           "showlakes": true,
           "showland": true,
           "subunitcolor": "white"
          },
          "hoverlabel": {
           "align": "left"
          },
          "hovermode": "closest",
          "mapbox": {
           "style": "light"
          },
          "paper_bgcolor": "white",
          "plot_bgcolor": "#E5ECF6",
          "polar": {
           "angularaxis": {
            "gridcolor": "white",
            "linecolor": "white",
            "ticks": ""
           },
           "bgcolor": "#E5ECF6",
           "radialaxis": {
            "gridcolor": "white",
            "linecolor": "white",
            "ticks": ""
           }
          },
          "scene": {
           "xaxis": {
            "backgroundcolor": "#E5ECF6",
            "gridcolor": "white",
            "gridwidth": 2,
            "linecolor": "white",
            "showbackground": true,
            "ticks": "",
            "zerolinecolor": "white"
           },
           "yaxis": {
            "backgroundcolor": "#E5ECF6",
            "gridcolor": "white",
            "gridwidth": 2,
            "linecolor": "white",
            "showbackground": true,
            "ticks": "",
            "zerolinecolor": "white"
           },
           "zaxis": {
            "backgroundcolor": "#E5ECF6",
            "gridcolor": "white",
            "gridwidth": 2,
            "linecolor": "white",
            "showbackground": true,
            "ticks": "",
            "zerolinecolor": "white"
           }
          },
          "shapedefaults": {
           "line": {
            "color": "#2a3f5f"
           }
          },
          "ternary": {
           "aaxis": {
            "gridcolor": "white",
            "linecolor": "white",
            "ticks": ""
           },
           "baxis": {
            "gridcolor": "white",
            "linecolor": "white",
            "ticks": ""
           },
           "bgcolor": "#E5ECF6",
           "caxis": {
            "gridcolor": "white",
            "linecolor": "white",
            "ticks": ""
           }
          },
          "title": {
           "x": 0.05
          },
          "xaxis": {
           "automargin": true,
           "gridcolor": "white",
           "linecolor": "white",
           "ticks": "",
           "title": {
            "standoff": 15
           },
           "zerolinecolor": "white",
           "zerolinewidth": 2
          },
          "yaxis": {
           "automargin": true,
           "gridcolor": "white",
           "linecolor": "white",
           "ticks": "",
           "title": {
            "standoff": 15
           },
           "zerolinecolor": "white",
           "zerolinewidth": 2
          }
         }
        },
        "title": {
         "text": "Site Category and Shark Behavior by Victim Injury"
        }
       }
      }
     },
     "metadata": {},
     "output_type": "display_data"
    }
   ],
   "source": [
    "# Prepare data\n",
    "treemap_data = df[['site_category_cleaned', 'shark_behaviour_generic', 'victim_injury']].dropna()\n",
    "\n",
    "# Create treemap\n",
    "treemap_fig = px.treemap(\n",
    "    treemap_data,\n",
    "    path=['site_category_cleaned', 'shark_behaviour_generic'],\n",
    "    color='victim_injury',\n",
    "    title='Site Category and Shark Behavior by Victim Injury',\n",
    "    labels={\n",
    "        'site_category_cleaned': 'Site Category',\n",
    "        'shark_behaviour_generic': 'Shark Behavior',\n",
    "        'victim_injury': 'Victim Injury'\n",
    "    }\n",
    ")\n",
    "\n",
    "# Customize layout for full area, no background, and visible separators\n",
    "treemap_fig.update_traces(\n",
    "    marker=dict(line=dict(width=1, color='black'))  # Add black lines between sections\n",
    ")\n",
    "\n",
    "treemap_fig.update_layout(\n",
    "    margin=dict(t=50, l=30, r=30, b=10),  # Reduce margins to maximize area\n",
    "    paper_bgcolor='rgba(0,0,0,0)',  # Transparent background\n",
    "    plot_bgcolor='rgba(0,0,0,0)'  # Transparent plot area\n",
    ")\n",
    "\n",
    "# Show plot\n",
    "treemap_fig.show()\n"
   ]
  },
  {
   "cell_type": "code",
   "execution_count": 25,
   "metadata": {},
   "outputs": [
    {
     "data": {
      "application/vnd.plotly.v1+json": {
       "config": {
        "plotlyServerURL": "https://plot.ly"
       },
       "data": [
        {
         "branchvalues": "total",
         "customdata": [
          [
           "(?)"
          ],
          [
           "(?)"
          ],
          [
           "(?)"
          ],
          [
           "(?)"
          ],
          [
           "(?)"
          ],
          [
           "(?)"
          ],
          [
           "(?)"
          ],
          [
           "(?)"
          ],
          [
           "unprovoked"
          ],
          [
           "unprovoked"
          ],
          [
           "(?)"
          ],
          [
           "(?)"
          ],
          [
           "(?)"
          ],
          [
           "(?)"
          ],
          [
           "(?)"
          ],
          [
           "(?)"
          ],
          [
           "(?)"
          ],
          [
           "(?)"
          ],
          [
           "(?)"
          ],
          [
           "unprovoked"
          ],
          [
           "(?)"
          ],
          [
           "(?)"
          ],
          [
           "(?)"
          ],
          [
           "(?)"
          ],
          [
           "(?)"
          ],
          [
           "(?)"
          ]
         ],
         "domain": {
          "x": [
           0,
           1
          ],
          "y": [
           0,
           1
          ]
         },
         "hovertemplate": "labels=%{label}<br>count=%{value}<br>parent=%{parent}<br>id=%{id}<br>Provoked/Unprovoked=%{customdata[0]}<extra></extra>",
         "ids": [
          "Island Open Ocean/direct_attack",
          "Estuary Harbour",
          "Others/approached_victim",
          "Estuary Harbour/contact_made",
          "Island Open Ocean/contact_made",
          "Island Open Ocean/unknown",
          "Island Open Ocean",
          "Coastal",
          "Coastal/unseen",
          "River/unknown",
          "Others/unknown",
          "Estuary Harbour/unknown",
          "Coastal/unknown",
          "River/direct_attack",
          "Coastal/approached_victim",
          "Others",
          "Estuary Harbour/direct_attack",
          "Coastal/direct_attack",
          "River/contact_made",
          "Others/contact_made",
          "Coastal/contact_made",
          "River/approached_victim",
          "Island Open Ocean/approached_victim",
          "Estuary Harbour/approached_victim",
          "Others/direct_attack",
          "River"
         ],
         "labels": [
          "direct_attack",
          "Estuary Harbour",
          "approached_victim",
          "contact_made",
          "contact_made",
          "unknown",
          "Island Open Ocean",
          "Coastal",
          "unseen",
          "unknown",
          "unknown",
          "unknown",
          "unknown",
          "direct_attack",
          "approached_victim",
          "Others",
          "direct_attack",
          "direct_attack",
          "contact_made",
          "contact_made",
          "contact_made",
          "approached_victim",
          "approached_victim",
          "approached_victim",
          "direct_attack",
          "River"
         ],
         "marker": {
          "colors": [
           "#00cc96",
           "#00cc96",
           "#00cc96",
           "#00cc96",
           "#00cc96",
           "#00cc96",
           "#00cc96",
           "#00cc96",
           "#ab63fa",
           "#ab63fa",
           "#00cc96",
           "#00cc96",
           "#00cc96",
           "#00cc96",
           "#00cc96",
           "#00cc96",
           "#00cc96",
           "#00cc96",
           "#00cc96",
           "#ab63fa",
           "#00cc96",
           "#00cc96",
           "#00cc96",
           "#00cc96",
           "#00cc96",
           "#00cc96"
          ],
          "line": {
           "color": "black",
           "width": 1
          }
         },
         "name": "",
         "parents": [
          "Island Open Ocean",
          "",
          "Others",
          "Estuary Harbour",
          "Island Open Ocean",
          "Island Open Ocean",
          "",
          "",
          "Coastal",
          "River",
          "Others",
          "Estuary Harbour",
          "Coastal",
          "River",
          "Coastal",
          "",
          "Estuary Harbour",
          "Coastal",
          "River",
          "Others",
          "Coastal",
          "River",
          "Island Open Ocean",
          "Estuary Harbour",
          "Others",
          ""
         ],
         "type": "treemap",
         "values": [
          109,
          112,
          4,
          8,
          3,
          58,
          184,
          807,
          1,
          8,
          7,
          13,
          168,
          74,
          42,
          30,
          82,
          552,
          6,
          1,
          44,
          5,
          14,
          9,
          18,
          93
         ]
        }
       ],
       "layout": {
        "legend": {
         "tracegroupgap": 0
        },
        "margin": {
         "b": 10,
         "l": 30,
         "r": 30,
         "t": 50
        },
        "paper_bgcolor": "rgba(0,0,0,0)",
        "plot_bgcolor": "rgba(0,0,0,0)",
        "template": {
         "data": {
          "bar": [
           {
            "error_x": {
             "color": "#2a3f5f"
            },
            "error_y": {
             "color": "#2a3f5f"
            },
            "marker": {
             "line": {
              "color": "#E5ECF6",
              "width": 0.5
             },
             "pattern": {
              "fillmode": "overlay",
              "size": 10,
              "solidity": 0.2
             }
            },
            "type": "bar"
           }
          ],
          "barpolar": [
           {
            "marker": {
             "line": {
              "color": "#E5ECF6",
              "width": 0.5
             },
             "pattern": {
              "fillmode": "overlay",
              "size": 10,
              "solidity": 0.2
             }
            },
            "type": "barpolar"
           }
          ],
          "carpet": [
           {
            "aaxis": {
             "endlinecolor": "#2a3f5f",
             "gridcolor": "white",
             "linecolor": "white",
             "minorgridcolor": "white",
             "startlinecolor": "#2a3f5f"
            },
            "baxis": {
             "endlinecolor": "#2a3f5f",
             "gridcolor": "white",
             "linecolor": "white",
             "minorgridcolor": "white",
             "startlinecolor": "#2a3f5f"
            },
            "type": "carpet"
           }
          ],
          "choropleth": [
           {
            "colorbar": {
             "outlinewidth": 0,
             "ticks": ""
            },
            "type": "choropleth"
           }
          ],
          "contour": [
           {
            "colorbar": {
             "outlinewidth": 0,
             "ticks": ""
            },
            "colorscale": [
             [
              0,
              "#0d0887"
             ],
             [
              0.1111111111111111,
              "#46039f"
             ],
             [
              0.2222222222222222,
              "#7201a8"
             ],
             [
              0.3333333333333333,
              "#9c179e"
             ],
             [
              0.4444444444444444,
              "#bd3786"
             ],
             [
              0.5555555555555556,
              "#d8576b"
             ],
             [
              0.6666666666666666,
              "#ed7953"
             ],
             [
              0.7777777777777778,
              "#fb9f3a"
             ],
             [
              0.8888888888888888,
              "#fdca26"
             ],
             [
              1,
              "#f0f921"
             ]
            ],
            "type": "contour"
           }
          ],
          "contourcarpet": [
           {
            "colorbar": {
             "outlinewidth": 0,
             "ticks": ""
            },
            "type": "contourcarpet"
           }
          ],
          "heatmap": [
           {
            "colorbar": {
             "outlinewidth": 0,
             "ticks": ""
            },
            "colorscale": [
             [
              0,
              "#0d0887"
             ],
             [
              0.1111111111111111,
              "#46039f"
             ],
             [
              0.2222222222222222,
              "#7201a8"
             ],
             [
              0.3333333333333333,
              "#9c179e"
             ],
             [
              0.4444444444444444,
              "#bd3786"
             ],
             [
              0.5555555555555556,
              "#d8576b"
             ],
             [
              0.6666666666666666,
              "#ed7953"
             ],
             [
              0.7777777777777778,
              "#fb9f3a"
             ],
             [
              0.8888888888888888,
              "#fdca26"
             ],
             [
              1,
              "#f0f921"
             ]
            ],
            "type": "heatmap"
           }
          ],
          "heatmapgl": [
           {
            "colorbar": {
             "outlinewidth": 0,
             "ticks": ""
            },
            "colorscale": [
             [
              0,
              "#0d0887"
             ],
             [
              0.1111111111111111,
              "#46039f"
             ],
             [
              0.2222222222222222,
              "#7201a8"
             ],
             [
              0.3333333333333333,
              "#9c179e"
             ],
             [
              0.4444444444444444,
              "#bd3786"
             ],
             [
              0.5555555555555556,
              "#d8576b"
             ],
             [
              0.6666666666666666,
              "#ed7953"
             ],
             [
              0.7777777777777778,
              "#fb9f3a"
             ],
             [
              0.8888888888888888,
              "#fdca26"
             ],
             [
              1,
              "#f0f921"
             ]
            ],
            "type": "heatmapgl"
           }
          ],
          "histogram": [
           {
            "marker": {
             "pattern": {
              "fillmode": "overlay",
              "size": 10,
              "solidity": 0.2
             }
            },
            "type": "histogram"
           }
          ],
          "histogram2d": [
           {
            "colorbar": {
             "outlinewidth": 0,
             "ticks": ""
            },
            "colorscale": [
             [
              0,
              "#0d0887"
             ],
             [
              0.1111111111111111,
              "#46039f"
             ],
             [
              0.2222222222222222,
              "#7201a8"
             ],
             [
              0.3333333333333333,
              "#9c179e"
             ],
             [
              0.4444444444444444,
              "#bd3786"
             ],
             [
              0.5555555555555556,
              "#d8576b"
             ],
             [
              0.6666666666666666,
              "#ed7953"
             ],
             [
              0.7777777777777778,
              "#fb9f3a"
             ],
             [
              0.8888888888888888,
              "#fdca26"
             ],
             [
              1,
              "#f0f921"
             ]
            ],
            "type": "histogram2d"
           }
          ],
          "histogram2dcontour": [
           {
            "colorbar": {
             "outlinewidth": 0,
             "ticks": ""
            },
            "colorscale": [
             [
              0,
              "#0d0887"
             ],
             [
              0.1111111111111111,
              "#46039f"
             ],
             [
              0.2222222222222222,
              "#7201a8"
             ],
             [
              0.3333333333333333,
              "#9c179e"
             ],
             [
              0.4444444444444444,
              "#bd3786"
             ],
             [
              0.5555555555555556,
              "#d8576b"
             ],
             [
              0.6666666666666666,
              "#ed7953"
             ],
             [
              0.7777777777777778,
              "#fb9f3a"
             ],
             [
              0.8888888888888888,
              "#fdca26"
             ],
             [
              1,
              "#f0f921"
             ]
            ],
            "type": "histogram2dcontour"
           }
          ],
          "mesh3d": [
           {
            "colorbar": {
             "outlinewidth": 0,
             "ticks": ""
            },
            "type": "mesh3d"
           }
          ],
          "parcoords": [
           {
            "line": {
             "colorbar": {
              "outlinewidth": 0,
              "ticks": ""
             }
            },
            "type": "parcoords"
           }
          ],
          "pie": [
           {
            "automargin": true,
            "type": "pie"
           }
          ],
          "scatter": [
           {
            "fillpattern": {
             "fillmode": "overlay",
             "size": 10,
             "solidity": 0.2
            },
            "type": "scatter"
           }
          ],
          "scatter3d": [
           {
            "line": {
             "colorbar": {
              "outlinewidth": 0,
              "ticks": ""
             }
            },
            "marker": {
             "colorbar": {
              "outlinewidth": 0,
              "ticks": ""
             }
            },
            "type": "scatter3d"
           }
          ],
          "scattercarpet": [
           {
            "marker": {
             "colorbar": {
              "outlinewidth": 0,
              "ticks": ""
             }
            },
            "type": "scattercarpet"
           }
          ],
          "scattergeo": [
           {
            "marker": {
             "colorbar": {
              "outlinewidth": 0,
              "ticks": ""
             }
            },
            "type": "scattergeo"
           }
          ],
          "scattergl": [
           {
            "marker": {
             "colorbar": {
              "outlinewidth": 0,
              "ticks": ""
             }
            },
            "type": "scattergl"
           }
          ],
          "scattermapbox": [
           {
            "marker": {
             "colorbar": {
              "outlinewidth": 0,
              "ticks": ""
             }
            },
            "type": "scattermapbox"
           }
          ],
          "scatterpolar": [
           {
            "marker": {
             "colorbar": {
              "outlinewidth": 0,
              "ticks": ""
             }
            },
            "type": "scatterpolar"
           }
          ],
          "scatterpolargl": [
           {
            "marker": {
             "colorbar": {
              "outlinewidth": 0,
              "ticks": ""
             }
            },
            "type": "scatterpolargl"
           }
          ],
          "scatterternary": [
           {
            "marker": {
             "colorbar": {
              "outlinewidth": 0,
              "ticks": ""
             }
            },
            "type": "scatterternary"
           }
          ],
          "surface": [
           {
            "colorbar": {
             "outlinewidth": 0,
             "ticks": ""
            },
            "colorscale": [
             [
              0,
              "#0d0887"
             ],
             [
              0.1111111111111111,
              "#46039f"
             ],
             [
              0.2222222222222222,
              "#7201a8"
             ],
             [
              0.3333333333333333,
              "#9c179e"
             ],
             [
              0.4444444444444444,
              "#bd3786"
             ],
             [
              0.5555555555555556,
              "#d8576b"
             ],
             [
              0.6666666666666666,
              "#ed7953"
             ],
             [
              0.7777777777777778,
              "#fb9f3a"
             ],
             [
              0.8888888888888888,
              "#fdca26"
             ],
             [
              1,
              "#f0f921"
             ]
            ],
            "type": "surface"
           }
          ],
          "table": [
           {
            "cells": {
             "fill": {
              "color": "#EBF0F8"
             },
             "line": {
              "color": "white"
             }
            },
            "header": {
             "fill": {
              "color": "#C8D4E3"
             },
             "line": {
              "color": "white"
             }
            },
            "type": "table"
           }
          ]
         },
         "layout": {
          "annotationdefaults": {
           "arrowcolor": "#2a3f5f",
           "arrowhead": 0,
           "arrowwidth": 1
          },
          "autotypenumbers": "strict",
          "coloraxis": {
           "colorbar": {
            "outlinewidth": 0,
            "ticks": ""
           }
          },
          "colorscale": {
           "diverging": [
            [
             0,
             "#8e0152"
            ],
            [
             0.1,
             "#c51b7d"
            ],
            [
             0.2,
             "#de77ae"
            ],
            [
             0.3,
             "#f1b6da"
            ],
            [
             0.4,
             "#fde0ef"
            ],
            [
             0.5,
             "#f7f7f7"
            ],
            [
             0.6,
             "#e6f5d0"
            ],
            [
             0.7,
             "#b8e186"
            ],
            [
             0.8,
             "#7fbc41"
            ],
            [
             0.9,
             "#4d9221"
            ],
            [
             1,
             "#276419"
            ]
           ],
           "sequential": [
            [
             0,
             "#0d0887"
            ],
            [
             0.1111111111111111,
             "#46039f"
            ],
            [
             0.2222222222222222,
             "#7201a8"
            ],
            [
             0.3333333333333333,
             "#9c179e"
            ],
            [
             0.4444444444444444,
             "#bd3786"
            ],
            [
             0.5555555555555556,
             "#d8576b"
            ],
            [
             0.6666666666666666,
             "#ed7953"
            ],
            [
             0.7777777777777778,
             "#fb9f3a"
            ],
            [
             0.8888888888888888,
             "#fdca26"
            ],
            [
             1,
             "#f0f921"
            ]
           ],
           "sequentialminus": [
            [
             0,
             "#0d0887"
            ],
            [
             0.1111111111111111,
             "#46039f"
            ],
            [
             0.2222222222222222,
             "#7201a8"
            ],
            [
             0.3333333333333333,
             "#9c179e"
            ],
            [
             0.4444444444444444,
             "#bd3786"
            ],
            [
             0.5555555555555556,
             "#d8576b"
            ],
            [
             0.6666666666666666,
             "#ed7953"
            ],
            [
             0.7777777777777778,
             "#fb9f3a"
            ],
            [
             0.8888888888888888,
             "#fdca26"
            ],
            [
             1,
             "#f0f921"
            ]
           ]
          },
          "colorway": [
           "#636efa",
           "#EF553B",
           "#00cc96",
           "#ab63fa",
           "#FFA15A",
           "#19d3f3",
           "#FF6692",
           "#B6E880",
           "#FF97FF",
           "#FECB52"
          ],
          "font": {
           "color": "#2a3f5f"
          },
          "geo": {
           "bgcolor": "white",
           "lakecolor": "white",
           "landcolor": "#E5ECF6",
           "showlakes": true,
           "showland": true,
           "subunitcolor": "white"
          },
          "hoverlabel": {
           "align": "left"
          },
          "hovermode": "closest",
          "mapbox": {
           "style": "light"
          },
          "paper_bgcolor": "white",
          "plot_bgcolor": "#E5ECF6",
          "polar": {
           "angularaxis": {
            "gridcolor": "white",
            "linecolor": "white",
            "ticks": ""
           },
           "bgcolor": "#E5ECF6",
           "radialaxis": {
            "gridcolor": "white",
            "linecolor": "white",
            "ticks": ""
           }
          },
          "scene": {
           "xaxis": {
            "backgroundcolor": "#E5ECF6",
            "gridcolor": "white",
            "gridwidth": 2,
            "linecolor": "white",
            "showbackground": true,
            "ticks": "",
            "zerolinecolor": "white"
           },
           "yaxis": {
            "backgroundcolor": "#E5ECF6",
            "gridcolor": "white",
            "gridwidth": 2,
            "linecolor": "white",
            "showbackground": true,
            "ticks": "",
            "zerolinecolor": "white"
           },
           "zaxis": {
            "backgroundcolor": "#E5ECF6",
            "gridcolor": "white",
            "gridwidth": 2,
            "linecolor": "white",
            "showbackground": true,
            "ticks": "",
            "zerolinecolor": "white"
           }
          },
          "shapedefaults": {
           "line": {
            "color": "#2a3f5f"
           }
          },
          "ternary": {
           "aaxis": {
            "gridcolor": "white",
            "linecolor": "white",
            "ticks": ""
           },
           "baxis": {
            "gridcolor": "white",
            "linecolor": "white",
            "ticks": ""
           },
           "bgcolor": "#E5ECF6",
           "caxis": {
            "gridcolor": "white",
            "linecolor": "white",
            "ticks": ""
           }
          },
          "title": {
           "x": 0.05
          },
          "xaxis": {
           "automargin": true,
           "gridcolor": "white",
           "linecolor": "white",
           "ticks": "",
           "title": {
            "standoff": 15
           },
           "zerolinecolor": "white",
           "zerolinewidth": 2
          },
          "yaxis": {
           "automargin": true,
           "gridcolor": "white",
           "linecolor": "white",
           "ticks": "",
           "title": {
            "standoff": 15
           },
           "zerolinecolor": "white",
           "zerolinewidth": 2
          }
         }
        },
        "title": {
         "text": "Site Category and Shark Behavior by Victim Injury (Provoked/Unprovoked)"
        }
       }
      }
     },
     "metadata": {},
     "output_type": "display_data"
    }
   ],
   "source": [
    "# Prepare data\n",
    "treemap_data = df[['site_category_cleaned', 'shark_behaviour_generic', 'victim_injury', 'provoked_unprovoked']].dropna()\n",
    "\n",
    "# Create treemap with hue for \"provoked\" and \"unprovoked\"\n",
    "treemap_fig = px.treemap(\n",
    "    treemap_data,\n",
    "    path=['site_category_cleaned', 'shark_behaviour_generic'],\n",
    "    color='provoked_unprovoked',  # Hue for provoked/unprovoked\n",
    "    title='Site Category and Shark Behavior by Victim Injury (Provoked/Unprovoked)',\n",
    "    labels={\n",
    "        'site_category_cleaned': 'Site Category',\n",
    "        'shark_behaviour_generic': 'Shark Behavior',\n",
    "        'victim_injury': 'Victim Injury',\n",
    "        'provoked_unprovoked': 'Provoked/Unprovoked'\n",
    "    },\n",
    "    color_discrete_map={\n",
    "        'Provoked': '#1f77b4',  # Assign color for 'Provoked'\n",
    "        'Unprovoked': '#ff7f0e'  # Assign color for 'Unprovoked'\n",
    "    }\n",
    ")\n",
    "\n",
    "# Customize layout for full area, no background, and visible separators\n",
    "treemap_fig.update_traces(\n",
    "    marker=dict(line=dict(width=1, color='black'))  # Add black lines between sections\n",
    ")\n",
    "\n",
    "treemap_fig.update_layout(\n",
    "    margin=dict(t=50, l=30, r=30, b=10),  # Reduce margins to maximize area\n",
    "    paper_bgcolor='rgba(0,0,0,0)',  # Transparent background\n",
    "    plot_bgcolor='rgba(0,0,0,0)'  # Transparent plot area\n",
    ")\n",
    "\n",
    "# Show plot\n",
    "treemap_fig.show()\n"
   ]
  },
  {
   "cell_type": "code",
   "execution_count": null,
   "metadata": {},
   "outputs": [],
   "source": []
  }
 ],
 "metadata": {
  "kernelspec": {
   "display_name": "tue_uvenv_311",
   "language": "python",
   "name": "python3"
  },
  "language_info": {
   "codemirror_mode": {
    "name": "ipython",
    "version": 3
   },
   "file_extension": ".py",
   "mimetype": "text/x-python",
   "name": "python",
   "nbconvert_exporter": "python",
   "pygments_lexer": "ipython3",
   "version": "3.11.11"
  }
 },
 "nbformat": 4,
 "nbformat_minor": 2
}
