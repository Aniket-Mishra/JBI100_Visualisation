{
 "cells": [
  {
   "cell_type": "code",
   "execution_count": 1,
   "metadata": {},
   "outputs": [],
   "source": [
    "import numpy as np\n",
    "import pandas as pd\n",
    "import matplotlib.pyplot as plt\n",
    "import plotly.express as px\n",
    "import plotly.graph_objects as go\n",
    "\n",
    "from plotly.subplots import make_subplots\n",
    "import re"
   ]
  },
  {
   "cell_type": "code",
   "execution_count": 2,
   "metadata": {},
   "outputs": [
    {
     "data": {
      "text/html": [
       "<div>\n",
       "<style scoped>\n",
       "    .dataframe tbody tr th:only-of-type {\n",
       "        vertical-align: middle;\n",
       "    }\n",
       "\n",
       "    .dataframe tbody tr th {\n",
       "        vertical-align: top;\n",
       "    }\n",
       "\n",
       "    .dataframe thead th {\n",
       "        text-align: right;\n",
       "    }\n",
       "</style>\n",
       "<table border=\"1\" class=\"dataframe\">\n",
       "  <thead>\n",
       "    <tr style=\"text-align: right;\">\n",
       "      <th></th>\n",
       "      <th>incident_month</th>\n",
       "      <th>incident_year</th>\n",
       "      <th>injury_severity</th>\n",
       "      <th>latitude</th>\n",
       "      <th>longitude</th>\n",
       "      <th>month_year</th>\n",
       "      <th>shark_behaviour_generic</th>\n",
       "      <th>shark_behaviour_specific</th>\n",
       "      <th>site_category_cleaned</th>\n",
       "      <th>state_names</th>\n",
       "      <th>...</th>\n",
       "      <th>victim_activity</th>\n",
       "      <th>shark_common_name</th>\n",
       "      <th>shark_scientific_name</th>\n",
       "      <th>no_sharks</th>\n",
       "      <th>reference</th>\n",
       "      <th>injury_location</th>\n",
       "      <th>data_source</th>\n",
       "      <th>shark_identification_method</th>\n",
       "      <th>shark_behaviour</th>\n",
       "      <th>victim_age</th>\n",
       "    </tr>\n",
       "  </thead>\n",
       "  <tbody>\n",
       "    <tr>\n",
       "      <th>0</th>\n",
       "      <td>1</td>\n",
       "      <td>1791</td>\n",
       "      <td>major_lacerations</td>\n",
       "      <td>-33.86666666666667</td>\n",
       "      <td>151.2</td>\n",
       "      <td>1791-01-01</td>\n",
       "      <td>unknown</td>\n",
       "      <td>unknown</td>\n",
       "      <td>coastal</td>\n",
       "      <td>New South Wales</td>\n",
       "      <td>...</td>\n",
       "      <td>swimming</td>\n",
       "      <td>white shark</td>\n",
       "      <td>Carcharodon carcharias</td>\n",
       "      <td>NaN</td>\n",
       "      <td>shark&amp;survl, whitley 1958, book ref 1793</td>\n",
       "      <td>torso</td>\n",
       "      <td>book</td>\n",
       "      <td>bite analysis, shark behaviour, geographical l...</td>\n",
       "      <td>unknown</td>\n",
       "      <td>NaN</td>\n",
       "    </tr>\n",
       "    <tr>\n",
       "      <th>1</th>\n",
       "      <td>3</td>\n",
       "      <td>1803</td>\n",
       "      <td>NaN</td>\n",
       "      <td>-25.833333333333332</td>\n",
       "      <td>113.88333333333334</td>\n",
       "      <td>1803-03-01</td>\n",
       "      <td>swam_at_victim</td>\n",
       "      <td>swam_at_victim</td>\n",
       "      <td>coastal</td>\n",
       "      <td>Western Australia</td>\n",
       "      <td>...</td>\n",
       "      <td>swimming</td>\n",
       "      <td>tiger shark</td>\n",
       "      <td>Galeocerdo cuvier</td>\n",
       "      <td>1.0</td>\n",
       "      <td>balgridge,green,taylor,whitley 1940</td>\n",
       "      <td>unknown</td>\n",
       "      <td>book</td>\n",
       "      <td>bite analysis, shark behaviour, geographical l...</td>\n",
       "      <td>swam at victim</td>\n",
       "      <td>NaN</td>\n",
       "    </tr>\n",
       "  </tbody>\n",
       "</table>\n",
       "<p>2 rows × 24 columns</p>\n",
       "</div>"
      ],
      "text/plain": [
       "   incident_month  incident_year    injury_severity             latitude  \\\n",
       "0               1           1791  major_lacerations   -33.86666666666667   \n",
       "1               3           1803                NaN  -25.833333333333332   \n",
       "\n",
       "            longitude  month_year shark_behaviour_generic  \\\n",
       "0               151.2  1791-01-01                 unknown   \n",
       "1  113.88333333333334  1803-03-01          swam_at_victim   \n",
       "\n",
       "  shark_behaviour_specific site_category_cleaned        state_names  ...  \\\n",
       "0                  unknown               coastal    New South Wales  ...   \n",
       "1           swam_at_victim               coastal  Western Australia  ...   \n",
       "\n",
       "  victim_activity shark_common_name    shark_scientific_name no_sharks  \\\n",
       "0        swimming       white shark  Carcharodon carcharias        NaN   \n",
       "1        swimming       tiger shark       Galeocerdo cuvier        1.0   \n",
       "\n",
       "                                  reference injury_location data_source  \\\n",
       "0  shark&survl, whitley 1958, book ref 1793           torso        book   \n",
       "1       balgridge,green,taylor,whitley 1940         unknown        book   \n",
       "\n",
       "                         shark_identification_method shark_behaviour  \\\n",
       "0  bite analysis, shark behaviour, geographical l...         unknown   \n",
       "1  bite analysis, shark behaviour, geographical l...  swam at victim   \n",
       "\n",
       "  victim_age  \n",
       "0        NaN  \n",
       "1        NaN  \n",
       "\n",
       "[2 rows x 24 columns]"
      ]
     },
     "execution_count": 2,
     "metadata": {},
     "output_type": "execute_result"
    }
   ],
   "source": [
    "df = pd.read_csv(\n",
    "    \"/Users/paniket/TU_Eindhoven/2_Study/Q2_JBI100_Visualisation_4/4_Code/JBI100_Visualisation/data/filtered_cleaned_shark_data.csv\"\n",
    ")\n",
    "df.head(2)"
   ]
  },
  {
   "cell_type": "code",
   "execution_count": 3,
   "metadata": {},
   "outputs": [],
   "source": [
    "shark_data = df.copy()"
   ]
  },
  {
   "cell_type": "code",
   "execution_count": 4,
   "metadata": {},
   "outputs": [],
   "source": [
    "# def get_incidents_over_time(df: pd.DataFrame) -> px.line:\n",
    "#     line_graph = px.line(\n",
    "#         df.groupby(\"incident_year\").size().reset_index(name=\"Count\"),\n",
    "#         x=\"incident_year\",\n",
    "#         y=\"Count\",\n",
    "#         title=\"Shark Attacks Over Time\",\n",
    "#         labels={\"incident_year\": \"Year\", \"Count\": \"Number of Incidents\"},\n",
    "#     )\n",
    "\n",
    "#     line_graph.update_traces(line_color=\"#00796b\")\n",
    "\n",
    "#     line_graph.update_layout(\n",
    "#         plot_bgcolor=\"rgba(0,0,0,0)\",\n",
    "#         paper_bgcolor=\"rgba(0,0,0,0)\",\n",
    "#         xaxis=dict(showgrid=False),\n",
    "#         yaxis=dict(showgrid=False),\n",
    "#     )\n",
    "#     return line_graph"
   ]
  },
  {
   "cell_type": "code",
   "execution_count": 5,
   "metadata": {},
   "outputs": [],
   "source": [
    "def get_incidents_over_time(df: pd.DataFrame) -> go.Figure:\n",
    "    shark_attacks_over_time = (\n",
    "        df.groupby(\"incident_year\").size().reset_index(name=\"attack_count\")\n",
    "    )\n",
    "\n",
    "    line_graph = go.Figure()\n",
    "\n",
    "    line_graph.add_trace(\n",
    "        go.Scatter(\n",
    "            x=shark_attacks_over_time[\"incident_year\"],\n",
    "            y=shark_attacks_over_time[\"attack_count\"],\n",
    "            mode=\"lines\",\n",
    "            line=dict(color=\"#00796b\", width=2),\n",
    "            name=\"Shark Attacks\",\n",
    "        )\n",
    "    )\n",
    "\n",
    "    line_graph.update_layout(\n",
    "        title=\"Shark Attacks Over Time (Years)\",\n",
    "        xaxis_title=\"Year\",\n",
    "        yaxis_title=\"Number of Attacks\",\n",
    "        font=dict(color=\"#00796b\", size=12),\n",
    "        plot_bgcolor=\"rgba(0,0,0,0)\",\n",
    "        paper_bgcolor=\"rgba(0,0,0,0)\",\n",
    "        xaxis=dict(showgrid=False),\n",
    "        yaxis=dict(showgrid=False),\n",
    "    )\n",
    "\n",
    "    return line_graph"
   ]
  },
  {
   "cell_type": "code",
   "execution_count": 6,
   "metadata": {},
   "outputs": [],
   "source": [
    "def get_incidents_over_time_by_injury(df: pd.DataFrame) -> go.Figure:\n",
    "    shark_attacks_by_injury = (\n",
    "        df.groupby([\"incident_year\", \"victim_injury\"])\n",
    "        .size()\n",
    "        .reset_index(name=\"attack_count\")\n",
    "    )\n",
    "\n",
    "    line_graph = go.Figure()\n",
    "\n",
    "    injury_colors = {\n",
    "        \"fatal\": \"#8d6e63\",\n",
    "        \"injured\": \"#5c6bc0\",\n",
    "        \"uninjured\": \"#26a69a\",\n",
    "        \"unknown\": \"#455a64\",\n",
    "    }\n",
    "\n",
    "    for injury_type, color in injury_colors.items():\n",
    "        filtered_data = shark_attacks_by_injury[\n",
    "            shark_attacks_by_injury[\"victim_injury\"] == injury_type\n",
    "        ]\n",
    "        line_graph.add_trace(\n",
    "            go.Scatter(\n",
    "                x=filtered_data[\"incident_year\"],\n",
    "                y=filtered_data[\"attack_count\"],\n",
    "                mode=\"lines\",\n",
    "                line=dict(color=color, width=2),\n",
    "                name=injury_type.capitalize(),\n",
    "            )\n",
    "        )\n",
    "\n",
    "    line_graph.update_layout(\n",
    "        title=\"Shark Attacks Over Time by Type of Injury\",\n",
    "        xaxis_title=\"Year\",\n",
    "        yaxis_title=\"Number of Attacks\",\n",
    "        font=dict(color=\"#00796b\", size=12),\n",
    "        plot_bgcolor=\"rgba(0,0,0,0)\",\n",
    "        paper_bgcolor=\"rgba(0,0,0,0)\",\n",
    "        xaxis=dict(showgrid=False),\n",
    "        yaxis=dict(showgrid=False),\n",
    "        legend_title=\"Type of Injury\",\n",
    "    )\n",
    "\n",
    "    return line_graph"
   ]
  },
  {
   "cell_type": "code",
   "execution_count": 7,
   "metadata": {},
   "outputs": [],
   "source": [
    "def get_incidents_over_time_by_provoked(df: pd.DataFrame) -> go.Figure:\n",
    "    \"\"\"\n",
    "    Generate a line graph showing shark attacks over time by provoked/unprovoked status.\n",
    "\n",
    "    Parameters:\n",
    "        df (pd.DataFrame): The input DataFrame containing shark incident data.\n",
    "\n",
    "    Returns:\n",
    "        go.Figure: A Plotly figure object representing the line graph.\n",
    "    \"\"\"\n",
    "    shark_attacks_by_provoked = (\n",
    "        df.groupby([\"incident_year\", \"provoked_unprovoked\"])\n",
    "        .size()\n",
    "        .reset_index(name=\"attack_count\")\n",
    "    )\n",
    "\n",
    "    line_graph = go.Figure()\n",
    "\n",
    "    provoked_colors = {\n",
    "        \"provoked\": \"#8d6e63\",\n",
    "        \"unprovoked\": \"#5c6bc0\",\n",
    "        \"unknown\": \"#26a69a\",\n",
    "    }\n",
    "\n",
    "    for provoked_type, color in provoked_colors.items():\n",
    "        filtered_data = shark_attacks_by_provoked[\n",
    "            shark_attacks_by_provoked[\"provoked_unprovoked\"] == provoked_type\n",
    "        ]\n",
    "        line_graph.add_trace(\n",
    "            go.Scatter(\n",
    "                x=filtered_data[\"incident_year\"],\n",
    "                y=filtered_data[\"attack_count\"],\n",
    "                mode=\"lines\",\n",
    "                line=dict(color=color, width=2),\n",
    "                name=provoked_type.capitalize(),\n",
    "            )\n",
    "        )\n",
    "\n",
    "    line_graph.update_layout(\n",
    "        title=\"Shark Attacks Over Time by Provoked/Unprovoked\",\n",
    "        xaxis_title=\"Year\",\n",
    "        yaxis_title=\"Number of Attacks\",\n",
    "        font=dict(color=\"#00796b\", size=12),\n",
    "        plot_bgcolor=\"rgba(0,0,0,0)\",\n",
    "        paper_bgcolor=\"rgba(0,0,0,0)\",\n",
    "        xaxis=dict(showgrid=False),\n",
    "        yaxis=dict(showgrid=False),\n",
    "        legend_title=\"Provoked/Unprovoked\",\n",
    "    )\n",
    "\n",
    "    return line_graph\n",
    "\n",
    "\n",
    "# get_incidents_over_time_by_provoked(shark_data)"
   ]
  },
  {
   "cell_type": "code",
   "execution_count": 8,
   "metadata": {},
   "outputs": [
    {
     "data": {
      "application/vnd.plotly.v1+json": {
       "config": {
        "plotlyServerURL": "https://plot.ly"
       },
       "data": [
        {
         "line": {
          "color": "#ab47bc",
          "width": 2
         },
         "mode": "lines",
         "name": "Fatal (Unprovoked)",
         "type": "scatter",
         "x": [
          1791,
          1836,
          1837,
          1840,
          1841,
          1849,
          1850,
          1855,
          1858,
          1862,
          1863,
          1865,
          1876,
          1877,
          1879,
          1880,
          1881,
          1882,
          1883,
          1884,
          1887,
          1888,
          1889,
          1893,
          1895,
          1896,
          1900,
          1901,
          1903,
          1906,
          1907,
          1910,
          1911,
          1912,
          1914,
          1915,
          1916,
          1918,
          1919,
          1920,
          1921,
          1922,
          1923,
          1924,
          1925,
          1926,
          1927,
          1928,
          1929,
          1930,
          1932,
          1933,
          1934,
          1935,
          1936,
          1937,
          1939,
          1940,
          1941,
          1942,
          1945,
          1946,
          1947,
          1948,
          1949,
          1950,
          1951,
          1954,
          1955,
          1956,
          1957,
          1958,
          1959,
          1960,
          1961,
          1963,
          1966,
          1971,
          1974,
          1975,
          1977,
          1982,
          1983,
          1984,
          1985,
          1987,
          1988,
          1989,
          1991,
          1992,
          1993,
          1995,
          1998,
          1999,
          2000,
          2002,
          2003,
          2004,
          2005,
          2006,
          2008,
          2010,
          2011,
          2012,
          2013,
          2014,
          2015,
          2016,
          2017,
          2018,
          2020,
          2021,
          2022,
          2023
         ],
         "y": [
          1,
          2,
          1,
          1,
          1,
          1,
          1,
          2,
          1,
          1,
          2,
          1,
          1,
          1,
          1,
          2,
          1,
          1,
          2,
          1,
          1,
          1,
          1,
          1,
          2,
          2,
          1,
          1,
          2,
          2,
          2,
          1,
          1,
          2,
          1,
          1,
          4,
          1,
          3,
          1,
          2,
          4,
          2,
          2,
          2,
          1,
          2,
          1,
          9,
          2,
          1,
          1,
          6,
          3,
          3,
          4,
          1,
          3,
          1,
          2,
          1,
          3,
          1,
          2,
          3,
          2,
          3,
          1,
          2,
          2,
          1,
          1,
          2,
          1,
          2,
          1,
          1,
          1,
          1,
          1,
          3,
          1,
          2,
          1,
          1,
          2,
          2,
          1,
          1,
          1,
          2,
          1,
          1,
          1,
          3,
          1,
          1,
          2,
          2,
          1,
          1,
          1,
          4,
          2,
          2,
          2,
          1,
          2,
          1,
          1,
          7,
          4,
          1,
          4
         ]
        },
        {
         "line": {
          "color": "#ab47bc",
          "width": 2
         },
         "mode": "lines",
         "name": "Fatal (Provoked)",
         "type": "scatter",
         "x": [
          1820,
          1839,
          1849,
          1863,
          1875,
          1876,
          1882,
          1892,
          1895,
          1900,
          1905,
          1906,
          1916,
          1918,
          1923,
          1926,
          1928,
          1930,
          1931,
          1933,
          1934,
          1935,
          1936,
          1938,
          1946,
          1954,
          1955,
          1958,
          1962,
          1967,
          1974,
          1975,
          1982,
          1986,
          1990,
          1993,
          2002,
          2004,
          2008,
          2011,
          2014,
          2015,
          2020
         ],
         "y": [
          1,
          1,
          1,
          1,
          1,
          1,
          2,
          1,
          2,
          1,
          1,
          1,
          1,
          1,
          3,
          1,
          2,
          1,
          1,
          1,
          1,
          1,
          1,
          2,
          1,
          1,
          1,
          1,
          1,
          1,
          1,
          2,
          1,
          1,
          1,
          1,
          1,
          1,
          1,
          1,
          3,
          1,
          1
         ]
        },
        {
         "line": {
          "color": "#7e57c2",
          "width": 2
         },
         "mode": "lines",
         "name": "Injured (Unprovoked)",
         "type": "scatter",
         "x": [
          1803,
          1807,
          1825,
          1830,
          1836,
          1847,
          1849,
          1850,
          1855,
          1856,
          1860,
          1861,
          1862,
          1863,
          1868,
          1869,
          1870,
          1872,
          1874,
          1875,
          1876,
          1877,
          1878,
          1879,
          1880,
          1881,
          1882,
          1885,
          1886,
          1890,
          1892,
          1893,
          1894,
          1895,
          1897,
          1899,
          1900,
          1901,
          1902,
          1904,
          1905,
          1907,
          1909,
          1910,
          1912,
          1913,
          1914,
          1915,
          1916,
          1917,
          1918,
          1919,
          1920,
          1921,
          1922,
          1923,
          1924,
          1925,
          1926,
          1927,
          1928,
          1929,
          1930,
          1931,
          1932,
          1933,
          1934,
          1935,
          1936,
          1937,
          1938,
          1939,
          1940,
          1941,
          1942,
          1943,
          1944,
          1946,
          1947,
          1949,
          1950,
          1951,
          1952,
          1953,
          1954,
          1956,
          1957,
          1958,
          1959,
          1960,
          1961,
          1962,
          1963,
          1964,
          1965,
          1966,
          1968,
          1969,
          1971,
          1972,
          1973,
          1974,
          1975,
          1977,
          1978,
          1979,
          1980,
          1981,
          1983,
          1984,
          1986,
          1987,
          1988,
          1989,
          1990,
          1991,
          1992,
          1994,
          1995,
          1996,
          1997,
          1998,
          1999,
          2000,
          2001,
          2002,
          2003,
          2004,
          2005,
          2006,
          2007,
          2008,
          2009,
          2010,
          2011,
          2012,
          2013,
          2014,
          2015,
          2016,
          2017,
          2018,
          2019,
          2020,
          2021,
          2022,
          2023,
          2024
         ],
         "y": [
          1,
          1,
          1,
          1,
          1,
          2,
          1,
          1,
          1,
          2,
          1,
          1,
          1,
          1,
          1,
          1,
          1,
          1,
          2,
          2,
          2,
          3,
          2,
          1,
          2,
          2,
          1,
          1,
          1,
          1,
          3,
          1,
          1,
          1,
          2,
          2,
          3,
          2,
          1,
          1,
          1,
          1,
          1,
          2,
          3,
          2,
          3,
          3,
          1,
          1,
          2,
          1,
          4,
          2,
          1,
          2,
          3,
          1,
          1,
          1,
          3,
          5,
          2,
          1,
          4,
          1,
          5,
          2,
          2,
          4,
          1,
          2,
          3,
          3,
          1,
          1,
          1,
          4,
          2,
          3,
          1,
          1,
          2,
          2,
          1,
          1,
          1,
          1,
          3,
          4,
          4,
          1,
          1,
          1,
          1,
          1,
          1,
          1,
          1,
          3,
          4,
          1,
          3,
          3,
          1,
          1,
          2,
          3,
          1,
          4,
          2,
          4,
          3,
          6,
          4,
          3,
          3,
          3,
          6,
          8,
          10,
          3,
          1,
          7,
          6,
          5,
          5,
          11,
          5,
          4,
          10,
          5,
          13,
          11,
          5,
          9,
          5,
          9,
          15,
          9,
          9,
          17,
          12,
          14,
          13,
          13,
          9,
          4
         ]
        },
        {
         "line": {
          "color": "#7e57c2",
          "width": 2
         },
         "mode": "lines",
         "name": "Injured (Provoked)",
         "type": "scatter",
         "x": [
          1832,
          1853,
          1869,
          1870,
          1874,
          1875,
          1876,
          1877,
          1878,
          1881,
          1882,
          1888,
          1891,
          1898,
          1901,
          1902,
          1907,
          1911,
          1912,
          1913,
          1914,
          1916,
          1917,
          1918,
          1919,
          1920,
          1921,
          1923,
          1926,
          1927,
          1928,
          1929,
          1930,
          1931,
          1932,
          1933,
          1934,
          1935,
          1936,
          1937,
          1938,
          1939,
          1940,
          1942,
          1945,
          1947,
          1948,
          1949,
          1950,
          1951,
          1952,
          1953,
          1954,
          1955,
          1956,
          1957,
          1958,
          1959,
          1960,
          1961,
          1962,
          1963,
          1964,
          1965,
          1966,
          1967,
          1969,
          1971,
          1972,
          1975,
          1976,
          1980,
          1983,
          1985,
          1986,
          1987,
          1989,
          1990,
          1991,
          1993,
          1994,
          1995,
          1996,
          1998,
          1999,
          2000,
          2001,
          2002,
          2003,
          2004,
          2005,
          2006,
          2007,
          2008,
          2009,
          2011,
          2012,
          2013,
          2014,
          2015,
          2016,
          2017,
          2018,
          2019,
          2020,
          2021,
          2022,
          2023
         ],
         "y": [
          2,
          1,
          1,
          1,
          1,
          1,
          1,
          1,
          2,
          1,
          1,
          1,
          1,
          2,
          3,
          1,
          1,
          1,
          1,
          3,
          3,
          1,
          1,
          2,
          1,
          3,
          1,
          3,
          1,
          3,
          2,
          7,
          2,
          4,
          3,
          4,
          1,
          3,
          7,
          2,
          4,
          2,
          2,
          2,
          1,
          1,
          2,
          2,
          1,
          2,
          2,
          4,
          3,
          1,
          3,
          3,
          2,
          3,
          3,
          3,
          1,
          2,
          3,
          2,
          4,
          1,
          2,
          1,
          2,
          2,
          1,
          3,
          1,
          3,
          1,
          2,
          3,
          2,
          1,
          2,
          2,
          1,
          2,
          3,
          1,
          2,
          2,
          1,
          4,
          4,
          3,
          2,
          4,
          1,
          6,
          4,
          4,
          6,
          8,
          8,
          7,
          3,
          6,
          3,
          2,
          5,
          3,
          2
         ]
        },
        {
         "line": {
          "color": "#7e57c2",
          "width": 2
         },
         "mode": "lines",
         "name": "Injured (Unknown)",
         "type": "scatter",
         "x": [
          2019,
          2023
         ],
         "y": [
          3,
          1
         ]
        },
        {
         "line": {
          "color": "#2e7d32",
          "width": 2
         },
         "mode": "lines",
         "name": "Uninjured (Unprovoked)",
         "type": "scatter",
         "x": [
          1855,
          1873,
          1881,
          1885,
          1886,
          1887,
          1895,
          1906,
          1910,
          1911,
          1914,
          1918,
          1927,
          1929,
          1936,
          1938,
          1949,
          1950,
          1951,
          1953,
          1956,
          1957,
          1962,
          1978,
          1980,
          1981,
          1983,
          1984,
          1985,
          1986,
          1989,
          1990,
          1991,
          1992,
          1993,
          1995,
          1996,
          1997,
          1998,
          1999,
          2000,
          2001,
          2002,
          2003,
          2004,
          2005,
          2006,
          2007,
          2008,
          2009,
          2010,
          2012,
          2013,
          2014,
          2015,
          2016,
          2017,
          2018,
          2019,
          2020,
          2021,
          2022,
          2023
         ],
         "y": [
          1,
          1,
          1,
          1,
          1,
          1,
          1,
          1,
          1,
          1,
          1,
          1,
          1,
          2,
          1,
          1,
          2,
          1,
          1,
          1,
          1,
          1,
          1,
          1,
          1,
          1,
          1,
          1,
          1,
          1,
          3,
          2,
          1,
          1,
          1,
          2,
          1,
          3,
          1,
          1,
          5,
          4,
          2,
          3,
          2,
          5,
          1,
          3,
          5,
          8,
          2,
          7,
          2,
          2,
          7,
          9,
          7,
          4,
          2,
          7,
          2,
          3,
          2
         ]
        },
        {
         "line": {
          "color": "#2e7d32",
          "width": 2
         },
         "mode": "lines",
         "name": "Uninjured (Provoked)",
         "type": "scatter",
         "x": [
          1876,
          1883,
          1891,
          1893,
          1895,
          1903,
          1912,
          1916,
          1918,
          1920,
          1923,
          1927,
          1933,
          1934,
          1936,
          1939,
          1942,
          1947,
          1948,
          1949,
          1952,
          1956,
          1958,
          1959,
          1960,
          1961,
          1962,
          1964,
          1966,
          1968,
          1972,
          1978,
          1979,
          1982,
          1984,
          1987,
          1988,
          1989,
          1991,
          1992,
          1993,
          1995,
          1999,
          2000,
          2001,
          2002,
          2004,
          2005,
          2006,
          2008,
          2009,
          2011,
          2012,
          2014,
          2015,
          2016,
          2017,
          2018,
          2019,
          2020,
          2021,
          2022
         ],
         "y": [
          1,
          1,
          1,
          1,
          1,
          2,
          1,
          1,
          1,
          1,
          1,
          1,
          3,
          1,
          1,
          1,
          1,
          1,
          1,
          1,
          1,
          1,
          2,
          2,
          1,
          2,
          1,
          1,
          1,
          2,
          1,
          1,
          1,
          1,
          2,
          1,
          1,
          1,
          1,
          1,
          1,
          1,
          1,
          2,
          1,
          1,
          3,
          1,
          2,
          1,
          1,
          1,
          1,
          1,
          1,
          4,
          1,
          2,
          3,
          6,
          1,
          1
         ]
        },
        {
         "line": {
          "color": "#2e7d32",
          "width": 2
         },
         "mode": "lines",
         "name": "Uninjured (Unknown)",
         "type": "scatter",
         "x": [
          2019,
          2022
         ],
         "y": [
          1,
          1
         ]
        },
        {
         "line": {
          "color": "#455a64",
          "width": 2
         },
         "mode": "lines",
         "name": "Unknown (Unknown)",
         "type": "scatter",
         "x": [
          1959
         ],
         "y": [
          1
         ]
        }
       ],
       "layout": {
        "font": {
         "color": "#00796b",
         "size": 12
        },
        "legend": {
         "title": {
          "text": "Injury Type and Provoked/Unprovoked"
         }
        },
        "paper_bgcolor": "rgba(0,0,0,0)",
        "plot_bgcolor": "rgba(0,0,0,0)",
        "template": {
         "data": {
          "bar": [
           {
            "error_x": {
             "color": "#2a3f5f"
            },
            "error_y": {
             "color": "#2a3f5f"
            },
            "marker": {
             "line": {
              "color": "#E5ECF6",
              "width": 0.5
             },
             "pattern": {
              "fillmode": "overlay",
              "size": 10,
              "solidity": 0.2
             }
            },
            "type": "bar"
           }
          ],
          "barpolar": [
           {
            "marker": {
             "line": {
              "color": "#E5ECF6",
              "width": 0.5
             },
             "pattern": {
              "fillmode": "overlay",
              "size": 10,
              "solidity": 0.2
             }
            },
            "type": "barpolar"
           }
          ],
          "carpet": [
           {
            "aaxis": {
             "endlinecolor": "#2a3f5f",
             "gridcolor": "white",
             "linecolor": "white",
             "minorgridcolor": "white",
             "startlinecolor": "#2a3f5f"
            },
            "baxis": {
             "endlinecolor": "#2a3f5f",
             "gridcolor": "white",
             "linecolor": "white",
             "minorgridcolor": "white",
             "startlinecolor": "#2a3f5f"
            },
            "type": "carpet"
           }
          ],
          "choropleth": [
           {
            "colorbar": {
             "outlinewidth": 0,
             "ticks": ""
            },
            "type": "choropleth"
           }
          ],
          "contour": [
           {
            "colorbar": {
             "outlinewidth": 0,
             "ticks": ""
            },
            "colorscale": [
             [
              0,
              "#0d0887"
             ],
             [
              0.1111111111111111,
              "#46039f"
             ],
             [
              0.2222222222222222,
              "#7201a8"
             ],
             [
              0.3333333333333333,
              "#9c179e"
             ],
             [
              0.4444444444444444,
              "#bd3786"
             ],
             [
              0.5555555555555556,
              "#d8576b"
             ],
             [
              0.6666666666666666,
              "#ed7953"
             ],
             [
              0.7777777777777778,
              "#fb9f3a"
             ],
             [
              0.8888888888888888,
              "#fdca26"
             ],
             [
              1,
              "#f0f921"
             ]
            ],
            "type": "contour"
           }
          ],
          "contourcarpet": [
           {
            "colorbar": {
             "outlinewidth": 0,
             "ticks": ""
            },
            "type": "contourcarpet"
           }
          ],
          "heatmap": [
           {
            "colorbar": {
             "outlinewidth": 0,
             "ticks": ""
            },
            "colorscale": [
             [
              0,
              "#0d0887"
             ],
             [
              0.1111111111111111,
              "#46039f"
             ],
             [
              0.2222222222222222,
              "#7201a8"
             ],
             [
              0.3333333333333333,
              "#9c179e"
             ],
             [
              0.4444444444444444,
              "#bd3786"
             ],
             [
              0.5555555555555556,
              "#d8576b"
             ],
             [
              0.6666666666666666,
              "#ed7953"
             ],
             [
              0.7777777777777778,
              "#fb9f3a"
             ],
             [
              0.8888888888888888,
              "#fdca26"
             ],
             [
              1,
              "#f0f921"
             ]
            ],
            "type": "heatmap"
           }
          ],
          "heatmapgl": [
           {
            "colorbar": {
             "outlinewidth": 0,
             "ticks": ""
            },
            "colorscale": [
             [
              0,
              "#0d0887"
             ],
             [
              0.1111111111111111,
              "#46039f"
             ],
             [
              0.2222222222222222,
              "#7201a8"
             ],
             [
              0.3333333333333333,
              "#9c179e"
             ],
             [
              0.4444444444444444,
              "#bd3786"
             ],
             [
              0.5555555555555556,
              "#d8576b"
             ],
             [
              0.6666666666666666,
              "#ed7953"
             ],
             [
              0.7777777777777778,
              "#fb9f3a"
             ],
             [
              0.8888888888888888,
              "#fdca26"
             ],
             [
              1,
              "#f0f921"
             ]
            ],
            "type": "heatmapgl"
           }
          ],
          "histogram": [
           {
            "marker": {
             "pattern": {
              "fillmode": "overlay",
              "size": 10,
              "solidity": 0.2
             }
            },
            "type": "histogram"
           }
          ],
          "histogram2d": [
           {
            "colorbar": {
             "outlinewidth": 0,
             "ticks": ""
            },
            "colorscale": [
             [
              0,
              "#0d0887"
             ],
             [
              0.1111111111111111,
              "#46039f"
             ],
             [
              0.2222222222222222,
              "#7201a8"
             ],
             [
              0.3333333333333333,
              "#9c179e"
             ],
             [
              0.4444444444444444,
              "#bd3786"
             ],
             [
              0.5555555555555556,
              "#d8576b"
             ],
             [
              0.6666666666666666,
              "#ed7953"
             ],
             [
              0.7777777777777778,
              "#fb9f3a"
             ],
             [
              0.8888888888888888,
              "#fdca26"
             ],
             [
              1,
              "#f0f921"
             ]
            ],
            "type": "histogram2d"
           }
          ],
          "histogram2dcontour": [
           {
            "colorbar": {
             "outlinewidth": 0,
             "ticks": ""
            },
            "colorscale": [
             [
              0,
              "#0d0887"
             ],
             [
              0.1111111111111111,
              "#46039f"
             ],
             [
              0.2222222222222222,
              "#7201a8"
             ],
             [
              0.3333333333333333,
              "#9c179e"
             ],
             [
              0.4444444444444444,
              "#bd3786"
             ],
             [
              0.5555555555555556,
              "#d8576b"
             ],
             [
              0.6666666666666666,
              "#ed7953"
             ],
             [
              0.7777777777777778,
              "#fb9f3a"
             ],
             [
              0.8888888888888888,
              "#fdca26"
             ],
             [
              1,
              "#f0f921"
             ]
            ],
            "type": "histogram2dcontour"
           }
          ],
          "mesh3d": [
           {
            "colorbar": {
             "outlinewidth": 0,
             "ticks": ""
            },
            "type": "mesh3d"
           }
          ],
          "parcoords": [
           {
            "line": {
             "colorbar": {
              "outlinewidth": 0,
              "ticks": ""
             }
            },
            "type": "parcoords"
           }
          ],
          "pie": [
           {
            "automargin": true,
            "type": "pie"
           }
          ],
          "scatter": [
           {
            "fillpattern": {
             "fillmode": "overlay",
             "size": 10,
             "solidity": 0.2
            },
            "type": "scatter"
           }
          ],
          "scatter3d": [
           {
            "line": {
             "colorbar": {
              "outlinewidth": 0,
              "ticks": ""
             }
            },
            "marker": {
             "colorbar": {
              "outlinewidth": 0,
              "ticks": ""
             }
            },
            "type": "scatter3d"
           }
          ],
          "scattercarpet": [
           {
            "marker": {
             "colorbar": {
              "outlinewidth": 0,
              "ticks": ""
             }
            },
            "type": "scattercarpet"
           }
          ],
          "scattergeo": [
           {
            "marker": {
             "colorbar": {
              "outlinewidth": 0,
              "ticks": ""
             }
            },
            "type": "scattergeo"
           }
          ],
          "scattergl": [
           {
            "marker": {
             "colorbar": {
              "outlinewidth": 0,
              "ticks": ""
             }
            },
            "type": "scattergl"
           }
          ],
          "scattermapbox": [
           {
            "marker": {
             "colorbar": {
              "outlinewidth": 0,
              "ticks": ""
             }
            },
            "type": "scattermapbox"
           }
          ],
          "scatterpolar": [
           {
            "marker": {
             "colorbar": {
              "outlinewidth": 0,
              "ticks": ""
             }
            },
            "type": "scatterpolar"
           }
          ],
          "scatterpolargl": [
           {
            "marker": {
             "colorbar": {
              "outlinewidth": 0,
              "ticks": ""
             }
            },
            "type": "scatterpolargl"
           }
          ],
          "scatterternary": [
           {
            "marker": {
             "colorbar": {
              "outlinewidth": 0,
              "ticks": ""
             }
            },
            "type": "scatterternary"
           }
          ],
          "surface": [
           {
            "colorbar": {
             "outlinewidth": 0,
             "ticks": ""
            },
            "colorscale": [
             [
              0,
              "#0d0887"
             ],
             [
              0.1111111111111111,
              "#46039f"
             ],
             [
              0.2222222222222222,
              "#7201a8"
             ],
             [
              0.3333333333333333,
              "#9c179e"
             ],
             [
              0.4444444444444444,
              "#bd3786"
             ],
             [
              0.5555555555555556,
              "#d8576b"
             ],
             [
              0.6666666666666666,
              "#ed7953"
             ],
             [
              0.7777777777777778,
              "#fb9f3a"
             ],
             [
              0.8888888888888888,
              "#fdca26"
             ],
             [
              1,
              "#f0f921"
             ]
            ],
            "type": "surface"
           }
          ],
          "table": [
           {
            "cells": {
             "fill": {
              "color": "#EBF0F8"
             },
             "line": {
              "color": "white"
             }
            },
            "header": {
             "fill": {
              "color": "#C8D4E3"
             },
             "line": {
              "color": "white"
             }
            },
            "type": "table"
           }
          ]
         },
         "layout": {
          "annotationdefaults": {
           "arrowcolor": "#2a3f5f",
           "arrowhead": 0,
           "arrowwidth": 1
          },
          "autotypenumbers": "strict",
          "coloraxis": {
           "colorbar": {
            "outlinewidth": 0,
            "ticks": ""
           }
          },
          "colorscale": {
           "diverging": [
            [
             0,
             "#8e0152"
            ],
            [
             0.1,
             "#c51b7d"
            ],
            [
             0.2,
             "#de77ae"
            ],
            [
             0.3,
             "#f1b6da"
            ],
            [
             0.4,
             "#fde0ef"
            ],
            [
             0.5,
             "#f7f7f7"
            ],
            [
             0.6,
             "#e6f5d0"
            ],
            [
             0.7,
             "#b8e186"
            ],
            [
             0.8,
             "#7fbc41"
            ],
            [
             0.9,
             "#4d9221"
            ],
            [
             1,
             "#276419"
            ]
           ],
           "sequential": [
            [
             0,
             "#0d0887"
            ],
            [
             0.1111111111111111,
             "#46039f"
            ],
            [
             0.2222222222222222,
             "#7201a8"
            ],
            [
             0.3333333333333333,
             "#9c179e"
            ],
            [
             0.4444444444444444,
             "#bd3786"
            ],
            [
             0.5555555555555556,
             "#d8576b"
            ],
            [
             0.6666666666666666,
             "#ed7953"
            ],
            [
             0.7777777777777778,
             "#fb9f3a"
            ],
            [
             0.8888888888888888,
             "#fdca26"
            ],
            [
             1,
             "#f0f921"
            ]
           ],
           "sequentialminus": [
            [
             0,
             "#0d0887"
            ],
            [
             0.1111111111111111,
             "#46039f"
            ],
            [
             0.2222222222222222,
             "#7201a8"
            ],
            [
             0.3333333333333333,
             "#9c179e"
            ],
            [
             0.4444444444444444,
             "#bd3786"
            ],
            [
             0.5555555555555556,
             "#d8576b"
            ],
            [
             0.6666666666666666,
             "#ed7953"
            ],
            [
             0.7777777777777778,
             "#fb9f3a"
            ],
            [
             0.8888888888888888,
             "#fdca26"
            ],
            [
             1,
             "#f0f921"
            ]
           ]
          },
          "colorway": [
           "#636efa",
           "#EF553B",
           "#00cc96",
           "#ab63fa",
           "#FFA15A",
           "#19d3f3",
           "#FF6692",
           "#B6E880",
           "#FF97FF",
           "#FECB52"
          ],
          "font": {
           "color": "#2a3f5f"
          },
          "geo": {
           "bgcolor": "white",
           "lakecolor": "white",
           "landcolor": "#E5ECF6",
           "showlakes": true,
           "showland": true,
           "subunitcolor": "white"
          },
          "hoverlabel": {
           "align": "left"
          },
          "hovermode": "closest",
          "mapbox": {
           "style": "light"
          },
          "paper_bgcolor": "white",
          "plot_bgcolor": "#E5ECF6",
          "polar": {
           "angularaxis": {
            "gridcolor": "white",
            "linecolor": "white",
            "ticks": ""
           },
           "bgcolor": "#E5ECF6",
           "radialaxis": {
            "gridcolor": "white",
            "linecolor": "white",
            "ticks": ""
           }
          },
          "scene": {
           "xaxis": {
            "backgroundcolor": "#E5ECF6",
            "gridcolor": "white",
            "gridwidth": 2,
            "linecolor": "white",
            "showbackground": true,
            "ticks": "",
            "zerolinecolor": "white"
           },
           "yaxis": {
            "backgroundcolor": "#E5ECF6",
            "gridcolor": "white",
            "gridwidth": 2,
            "linecolor": "white",
            "showbackground": true,
            "ticks": "",
            "zerolinecolor": "white"
           },
           "zaxis": {
            "backgroundcolor": "#E5ECF6",
            "gridcolor": "white",
            "gridwidth": 2,
            "linecolor": "white",
            "showbackground": true,
            "ticks": "",
            "zerolinecolor": "white"
           }
          },
          "shapedefaults": {
           "line": {
            "color": "#2a3f5f"
           }
          },
          "ternary": {
           "aaxis": {
            "gridcolor": "white",
            "linecolor": "white",
            "ticks": ""
           },
           "baxis": {
            "gridcolor": "white",
            "linecolor": "white",
            "ticks": ""
           },
           "bgcolor": "#E5ECF6",
           "caxis": {
            "gridcolor": "white",
            "linecolor": "white",
            "ticks": ""
           }
          },
          "title": {
           "x": 0.05
          },
          "xaxis": {
           "automargin": true,
           "gridcolor": "white",
           "linecolor": "white",
           "ticks": "",
           "title": {
            "standoff": 15
           },
           "zerolinecolor": "white",
           "zerolinewidth": 2
          },
          "yaxis": {
           "automargin": true,
           "gridcolor": "white",
           "linecolor": "white",
           "ticks": "",
           "title": {
            "standoff": 15
           },
           "zerolinecolor": "white",
           "zerolinewidth": 2
          }
         }
        },
        "title": {
         "text": "Shark Attacks Over Time by Injury Type and Provoked/Unprovoked"
        },
        "xaxis": {
         "showgrid": false,
         "title": {
          "text": "Year"
         }
        },
        "yaxis": {
         "showgrid": false,
         "title": {
          "text": "Number of Attacks"
         }
        }
       }
      }
     },
     "metadata": {},
     "output_type": "display_data"
    }
   ],
   "source": [
    "def get_injury_provoked_over_time(df: pd.DataFrame) -> go.Figure:\n",
    "    \"\"\"\n",
    "    Generate a line graph showing shark attacks over time, categorized by injury type and provoked/unprovoked status.\n",
    "\n",
    "    Parameters:\n",
    "        df (pd.DataFrame): The input DataFrame containing shark incident data.\n",
    "\n",
    "    Returns:\n",
    "        go.Figure: A Plotly figure object representing the line graph.\n",
    "    \"\"\"\n",
    "    shark_attacks_by_injury_provoked = (\n",
    "        df.groupby([\"incident_year\", \"victim_injury\", \"provoked_unprovoked\"])\n",
    "        .size()\n",
    "        .reset_index(name=\"attack_count\")\n",
    "    )\n",
    "\n",
    "    line_graph = go.Figure()\n",
    "\n",
    "    injury_colors = {\n",
    "        \"fatal\": \"#ab47bc\",\n",
    "        \"injured\": \"#7e57c2\",\n",
    "        \"uninjured\": \"#2e7d32\",\n",
    "        \"unknown\": \"#455a64\",\n",
    "    }\n",
    "\n",
    "    for injury_type, color in injury_colors.items():\n",
    "        filtered_data = shark_attacks_by_injury_provoked[\n",
    "            shark_attacks_by_injury_provoked[\"victim_injury\"] == injury_type\n",
    "        ]\n",
    "        for provoked_type in filtered_data[\"provoked_unprovoked\"].unique():\n",
    "            provoked_filtered_data = filtered_data[\n",
    "                filtered_data[\"provoked_unprovoked\"] == provoked_type\n",
    "            ]\n",
    "            line_graph.add_trace(\n",
    "                go.Scatter(\n",
    "                    x=provoked_filtered_data[\"incident_year\"],\n",
    "                    y=provoked_filtered_data[\"attack_count\"],\n",
    "                    mode=\"lines\",\n",
    "                    line=dict(color=color, width=2),\n",
    "                    name=f\"{injury_type.capitalize()} ({provoked_type.capitalize()})\",\n",
    "                )\n",
    "            )\n",
    "\n",
    "    line_graph.update_layout(\n",
    "        title=\"Shark Attacks Over Time by Injury Type and Provoked/Unprovoked\",\n",
    "        xaxis_title=\"Year\",\n",
    "        yaxis_title=\"Number of Attacks\",\n",
    "        font=dict(color=\"#00796b\", size=12),\n",
    "        plot_bgcolor=\"rgba(0,0,0,0)\",\n",
    "        paper_bgcolor=\"rgba(0,0,0,0)\",\n",
    "        xaxis=dict(showgrid=False),\n",
    "        yaxis=dict(showgrid=False),\n",
    "        legend_title=\"Injury Type and Provoked/Unprovoked\",\n",
    "    )\n",
    "\n",
    "    return line_graph\n",
    "\n",
    "\n",
    "get_injury_provoked_over_time(shark_data)"
   ]
  },
  {
   "cell_type": "code",
   "execution_count": 9,
   "metadata": {},
   "outputs": [],
   "source": [
    "# def compare_victim_activity_vs_provoked(df: pd.DataFrame) -> go.Figure:\n",
    "#     \"\"\"\n",
    "#     Compare shark attacks against victim activity and provoked/unprovoked status.\n",
    "#     Considers the top 8 victim activities, combining the rest into 'unknown'.\n",
    "\n",
    "#     Parameters:\n",
    "#         df (pd.DataFrame): The input DataFrame containing shark incident data.\n",
    "\n",
    "#     Returns:\n",
    "#         go.Figure: A Plotly figure object representing the grouped bar chart.\n",
    "#     \"\"\"\n",
    "#     # Get the top 8 victim activities\n",
    "#     top_activities = df[\"victim_activity\"].value_counts().index[:8]\n",
    "\n",
    "#     # Replace all other activities with 'unknown'\n",
    "#     df[\"victim_activity\"] = df[\"victim_activity\"].apply(\n",
    "#         lambda x: x if x in top_activities else \"unknown\"\n",
    "#     )\n",
    "\n",
    "#     # Group data by victim_activity and provoked_unprovoked\n",
    "#     activity_data = (\n",
    "#         df.groupby([\"victim_activity\", \"provoked_unprovoked\"]).size().reset_index(name=\"count\")\n",
    "#     )\n",
    "\n",
    "#     # Initialize a Plotly figure\n",
    "#     fig = go.Figure()\n",
    "\n",
    "#     # Define colors for provoked/unprovoked\n",
    "#     provoked_colors = {\n",
    "#         \"provoked\": \"#8d6e63\",\n",
    "#         \"unprovoked\": \"#5c6bc0\",\n",
    "#         \"unknown\": \"#26a69a\",\n",
    "#     }\n",
    "\n",
    "#     # Add bars for each provoked/unprovoked type\n",
    "#     for provoked_type, color in provoked_colors.items():\n",
    "#         filtered_data = activity_data[activity_data[\"provoked_unprovoked\"] == provoked_type]\n",
    "#         fig.add_trace(\n",
    "#             go.Bar(\n",
    "#                 x=filtered_data[\"victim_activity\"],\n",
    "#                 y=filtered_data[\"count\"],\n",
    "#                 name=provoked_type.capitalize(),\n",
    "#                 marker=dict(color=color),\n",
    "#             )\n",
    "#         )\n",
    "\n",
    "#     # Update layout for aesthetics\n",
    "#     fig.update_layout(\n",
    "#         title=\"Shark Attacks by Victim Activity and Provoked/Unprovoked\",\n",
    "#         xaxis_title=\"Victim Activity\",\n",
    "#         yaxis_title=\"Number of Attacks\",\n",
    "#         font=dict(color=\"#00796b\", size=12),\n",
    "#         plot_bgcolor=\"rgba(0,0,0,0)\",\n",
    "#         paper_bgcolor=\"rgba(0,0,0,0)\",\n",
    "#         barmode=\"group\",\n",
    "#         legend_title=\"Provoked/Unprovoked\",\n",
    "#     )\n",
    "\n",
    "#     return fig\n",
    "\n",
    "# compare_victim_activity_vs_provoked(shark_data)"
   ]
  },
  {
   "cell_type": "code",
   "execution_count": 10,
   "metadata": {},
   "outputs": [
    {
     "data": {
      "text/plain": [
       "victim_activity\n",
       "swimming                      456\n",
       "boarding                      284\n",
       "snorkelling                   130\n",
       "spearfishing                  122\n",
       "diving                         93\n",
       "fishing                        37\n",
       "unknown                        33\n",
       "unmotorised boating            33\n",
       "other: standing in water       25\n",
       "surfing                        10\n",
       "motorised boating               2\n",
       "other:floating                  2\n",
       "snorkeling                      1\n",
       "other: hull scraping            1\n",
       "other: jetskiing; swimming      1\n",
       "paddleboarding                  1\n",
       "diving, collecting              1\n",
       "wing foiler                     1\n",
       "Name: count, dtype: int64"
      ]
     },
     "execution_count": 10,
     "metadata": {},
     "output_type": "execute_result"
    }
   ],
   "source": [
    "shark_data[\"victim_activity\"].value_counts()"
   ]
  },
  {
   "cell_type": "code",
   "execution_count": 11,
   "metadata": {},
   "outputs": [],
   "source": [
    "def get_top_victim_activities(df, top_index) -> pd.DataFrame:\n",
    "    local_df = df.copy()\n",
    "    top_activities = list(\n",
    "        local_df[\"victim_activity\"].value_counts().index[:top_index]\n",
    "    )\n",
    "    print(top_activities)\n",
    "    # # Replace all other activities with 'unknown'\n",
    "    # local_df[\"victim_activity\"] = local_df[\"victim_activity\"].apply(\n",
    "    #     lambda x: x if x in top_activities else \"unknown\"\n",
    "    # )\n",
    "    local_df[\"victim_activity_updated\"] = np.nan\n",
    "    local_df[\"victim_activity_updated\"] = local_df[\"victim_activity\"].apply(\n",
    "        lambda x: x if x in top_activities else \"other_activities\"\n",
    "    )\n",
    "    print(local_df[\"victim_activity_updated\"].unique())\n",
    "    return local_df"
   ]
  },
  {
   "cell_type": "code",
   "execution_count": 12,
   "metadata": {},
   "outputs": [
    {
     "name": "stdout",
     "output_type": "stream",
     "text": [
      "['swimming', 'boarding', 'snorkelling', 'spearfishing', 'diving', 'fishing', 'unknown', 'unmotorised boating', 'other: standing in water', 'surfing']\n",
      "['swimming' 'fishing' 'unknown' 'spearfishing' 'unmotorised boating'\n",
      " 'snorkelling' 'diving' 'other_activities' 'other: standing in water'\n",
      " 'boarding' 'surfing']\n"
     ]
    }
   ],
   "source": [
    "new_df = get_top_victim_activities(df, 10)"
   ]
  },
  {
   "cell_type": "code",
   "execution_count": 14,
   "metadata": {},
   "outputs": [
    {
     "name": "stdout",
     "output_type": "stream",
     "text": [
      "['swimming', 'boarding', 'snorkelling', 'spearfishing', 'diving', 'fishing', 'unknown', 'unmotorised boating']\n",
      "['swimming' 'fishing' 'unknown' 'spearfishing' 'unmotorised boating'\n",
      " 'snorkelling' 'diving' 'other_activities' 'boarding']\n"
     ]
    },
    {
     "data": {
      "application/vnd.plotly.v1+json": {
       "config": {
        "plotlyServerURL": "https://plot.ly"
       },
       "data": [
        {
         "alignmentgroup": "True",
         "hovertemplate": "Provoked/Unprovoked=provoked<br>Victim Activity=%{x}<br>Number of Incidents=%{y}<extra></extra>",
         "legendgroup": "provoked",
         "marker": {
          "color": "#636efa",
          "pattern": {
           "shape": ""
          }
         },
         "name": "provoked",
         "offsetgroup": "provoked",
         "orientation": "v",
         "showlegend": true,
         "textposition": "none",
         "type": "bar",
         "x": [
          "swimming",
          "boarding",
          "snorkelling",
          "spearfishing",
          "diving",
          "other_activities",
          "fishing",
          "unknown"
         ],
         "xaxis": "x",
         "y": [
          54,
          16,
          93,
          122,
          59,
          8,
          37,
          12
         ],
         "yaxis": "y"
        },
        {
         "alignmentgroup": "True",
         "hovertemplate": "Provoked/Unprovoked=unknown<br>Victim Activity=%{x}<br>Number of Incidents=%{y}<extra></extra>",
         "legendgroup": "unknown",
         "marker": {
          "color": "#EF553B",
          "pattern": {
           "shape": ""
          }
         },
         "name": "unknown",
         "offsetgroup": "unknown",
         "orientation": "v",
         "showlegend": true,
         "textposition": "none",
         "type": "bar",
         "x": [
          "swimming",
          "boarding",
          "snorkelling",
          "unknown"
         ],
         "xaxis": "x",
         "y": [
          1,
          1,
          1,
          4
         ],
         "yaxis": "y"
        },
        {
         "alignmentgroup": "True",
         "hovertemplate": "Provoked/Unprovoked=unprovoked<br>Victim Activity=%{x}<br>Number of Incidents=%{y}<extra></extra>",
         "legendgroup": "unprovoked",
         "marker": {
          "color": "#00cc96",
          "pattern": {
           "shape": ""
          }
         },
         "name": "unprovoked",
         "offsetgroup": "unprovoked",
         "orientation": "v",
         "showlegend": true,
         "textposition": "none",
         "type": "bar",
         "x": [
          "swimming",
          "boarding",
          "snorkelling",
          "diving",
          "other_activities",
          "unknown"
         ],
         "xaxis": "x",
         "y": [
          401,
          267,
          36,
          34,
          37,
          17
         ],
         "yaxis": "y"
        }
       ],
       "layout": {
        "barmode": "group",
        "font": {
         "color": "#00796b",
         "size": 14
        },
        "height": 750,
        "legend": {
         "title": {
          "text": "Provoked/Unprovoked"
         },
         "tracegroupgap": 0
        },
        "paper_bgcolor": "rgba(0,0,0,0)",
        "plot_bgcolor": "rgba(0,0,0,0)",
        "showlegend": true,
        "template": {
         "data": {
          "bar": [
           {
            "error_x": {
             "color": "#2a3f5f"
            },
            "error_y": {
             "color": "#2a3f5f"
            },
            "marker": {
             "line": {
              "color": "#E5ECF6",
              "width": 0.5
             },
             "pattern": {
              "fillmode": "overlay",
              "size": 10,
              "solidity": 0.2
             }
            },
            "type": "bar"
           }
          ],
          "barpolar": [
           {
            "marker": {
             "line": {
              "color": "#E5ECF6",
              "width": 0.5
             },
             "pattern": {
              "fillmode": "overlay",
              "size": 10,
              "solidity": 0.2
             }
            },
            "type": "barpolar"
           }
          ],
          "carpet": [
           {
            "aaxis": {
             "endlinecolor": "#2a3f5f",
             "gridcolor": "white",
             "linecolor": "white",
             "minorgridcolor": "white",
             "startlinecolor": "#2a3f5f"
            },
            "baxis": {
             "endlinecolor": "#2a3f5f",
             "gridcolor": "white",
             "linecolor": "white",
             "minorgridcolor": "white",
             "startlinecolor": "#2a3f5f"
            },
            "type": "carpet"
           }
          ],
          "choropleth": [
           {
            "colorbar": {
             "outlinewidth": 0,
             "ticks": ""
            },
            "type": "choropleth"
           }
          ],
          "contour": [
           {
            "colorbar": {
             "outlinewidth": 0,
             "ticks": ""
            },
            "colorscale": [
             [
              0,
              "#0d0887"
             ],
             [
              0.1111111111111111,
              "#46039f"
             ],
             [
              0.2222222222222222,
              "#7201a8"
             ],
             [
              0.3333333333333333,
              "#9c179e"
             ],
             [
              0.4444444444444444,
              "#bd3786"
             ],
             [
              0.5555555555555556,
              "#d8576b"
             ],
             [
              0.6666666666666666,
              "#ed7953"
             ],
             [
              0.7777777777777778,
              "#fb9f3a"
             ],
             [
              0.8888888888888888,
              "#fdca26"
             ],
             [
              1,
              "#f0f921"
             ]
            ],
            "type": "contour"
           }
          ],
          "contourcarpet": [
           {
            "colorbar": {
             "outlinewidth": 0,
             "ticks": ""
            },
            "type": "contourcarpet"
           }
          ],
          "heatmap": [
           {
            "colorbar": {
             "outlinewidth": 0,
             "ticks": ""
            },
            "colorscale": [
             [
              0,
              "#0d0887"
             ],
             [
              0.1111111111111111,
              "#46039f"
             ],
             [
              0.2222222222222222,
              "#7201a8"
             ],
             [
              0.3333333333333333,
              "#9c179e"
             ],
             [
              0.4444444444444444,
              "#bd3786"
             ],
             [
              0.5555555555555556,
              "#d8576b"
             ],
             [
              0.6666666666666666,
              "#ed7953"
             ],
             [
              0.7777777777777778,
              "#fb9f3a"
             ],
             [
              0.8888888888888888,
              "#fdca26"
             ],
             [
              1,
              "#f0f921"
             ]
            ],
            "type": "heatmap"
           }
          ],
          "heatmapgl": [
           {
            "colorbar": {
             "outlinewidth": 0,
             "ticks": ""
            },
            "colorscale": [
             [
              0,
              "#0d0887"
             ],
             [
              0.1111111111111111,
              "#46039f"
             ],
             [
              0.2222222222222222,
              "#7201a8"
             ],
             [
              0.3333333333333333,
              "#9c179e"
             ],
             [
              0.4444444444444444,
              "#bd3786"
             ],
             [
              0.5555555555555556,
              "#d8576b"
             ],
             [
              0.6666666666666666,
              "#ed7953"
             ],
             [
              0.7777777777777778,
              "#fb9f3a"
             ],
             [
              0.8888888888888888,
              "#fdca26"
             ],
             [
              1,
              "#f0f921"
             ]
            ],
            "type": "heatmapgl"
           }
          ],
          "histogram": [
           {
            "marker": {
             "pattern": {
              "fillmode": "overlay",
              "size": 10,
              "solidity": 0.2
             }
            },
            "type": "histogram"
           }
          ],
          "histogram2d": [
           {
            "colorbar": {
             "outlinewidth": 0,
             "ticks": ""
            },
            "colorscale": [
             [
              0,
              "#0d0887"
             ],
             [
              0.1111111111111111,
              "#46039f"
             ],
             [
              0.2222222222222222,
              "#7201a8"
             ],
             [
              0.3333333333333333,
              "#9c179e"
             ],
             [
              0.4444444444444444,
              "#bd3786"
             ],
             [
              0.5555555555555556,
              "#d8576b"
             ],
             [
              0.6666666666666666,
              "#ed7953"
             ],
             [
              0.7777777777777778,
              "#fb9f3a"
             ],
             [
              0.8888888888888888,
              "#fdca26"
             ],
             [
              1,
              "#f0f921"
             ]
            ],
            "type": "histogram2d"
           }
          ],
          "histogram2dcontour": [
           {
            "colorbar": {
             "outlinewidth": 0,
             "ticks": ""
            },
            "colorscale": [
             [
              0,
              "#0d0887"
             ],
             [
              0.1111111111111111,
              "#46039f"
             ],
             [
              0.2222222222222222,
              "#7201a8"
             ],
             [
              0.3333333333333333,
              "#9c179e"
             ],
             [
              0.4444444444444444,
              "#bd3786"
             ],
             [
              0.5555555555555556,
              "#d8576b"
             ],
             [
              0.6666666666666666,
              "#ed7953"
             ],
             [
              0.7777777777777778,
              "#fb9f3a"
             ],
             [
              0.8888888888888888,
              "#fdca26"
             ],
             [
              1,
              "#f0f921"
             ]
            ],
            "type": "histogram2dcontour"
           }
          ],
          "mesh3d": [
           {
            "colorbar": {
             "outlinewidth": 0,
             "ticks": ""
            },
            "type": "mesh3d"
           }
          ],
          "parcoords": [
           {
            "line": {
             "colorbar": {
              "outlinewidth": 0,
              "ticks": ""
             }
            },
            "type": "parcoords"
           }
          ],
          "pie": [
           {
            "automargin": true,
            "type": "pie"
           }
          ],
          "scatter": [
           {
            "fillpattern": {
             "fillmode": "overlay",
             "size": 10,
             "solidity": 0.2
            },
            "type": "scatter"
           }
          ],
          "scatter3d": [
           {
            "line": {
             "colorbar": {
              "outlinewidth": 0,
              "ticks": ""
             }
            },
            "marker": {
             "colorbar": {
              "outlinewidth": 0,
              "ticks": ""
             }
            },
            "type": "scatter3d"
           }
          ],
          "scattercarpet": [
           {
            "marker": {
             "colorbar": {
              "outlinewidth": 0,
              "ticks": ""
             }
            },
            "type": "scattercarpet"
           }
          ],
          "scattergeo": [
           {
            "marker": {
             "colorbar": {
              "outlinewidth": 0,
              "ticks": ""
             }
            },
            "type": "scattergeo"
           }
          ],
          "scattergl": [
           {
            "marker": {
             "colorbar": {
              "outlinewidth": 0,
              "ticks": ""
             }
            },
            "type": "scattergl"
           }
          ],
          "scattermapbox": [
           {
            "marker": {
             "colorbar": {
              "outlinewidth": 0,
              "ticks": ""
             }
            },
            "type": "scattermapbox"
           }
          ],
          "scatterpolar": [
           {
            "marker": {
             "colorbar": {
              "outlinewidth": 0,
              "ticks": ""
             }
            },
            "type": "scatterpolar"
           }
          ],
          "scatterpolargl": [
           {
            "marker": {
             "colorbar": {
              "outlinewidth": 0,
              "ticks": ""
             }
            },
            "type": "scatterpolargl"
           }
          ],
          "scatterternary": [
           {
            "marker": {
             "colorbar": {
              "outlinewidth": 0,
              "ticks": ""
             }
            },
            "type": "scatterternary"
           }
          ],
          "surface": [
           {
            "colorbar": {
             "outlinewidth": 0,
             "ticks": ""
            },
            "colorscale": [
             [
              0,
              "#0d0887"
             ],
             [
              0.1111111111111111,
              "#46039f"
             ],
             [
              0.2222222222222222,
              "#7201a8"
             ],
             [
              0.3333333333333333,
              "#9c179e"
             ],
             [
              0.4444444444444444,
              "#bd3786"
             ],
             [
              0.5555555555555556,
              "#d8576b"
             ],
             [
              0.6666666666666666,
              "#ed7953"
             ],
             [
              0.7777777777777778,
              "#fb9f3a"
             ],
             [
              0.8888888888888888,
              "#fdca26"
             ],
             [
              1,
              "#f0f921"
             ]
            ],
            "type": "surface"
           }
          ],
          "table": [
           {
            "cells": {
             "fill": {
              "color": "#EBF0F8"
             },
             "line": {
              "color": "white"
             }
            },
            "header": {
             "fill": {
              "color": "#C8D4E3"
             },
             "line": {
              "color": "white"
             }
            },
            "type": "table"
           }
          ]
         },
         "layout": {
          "annotationdefaults": {
           "arrowcolor": "#2a3f5f",
           "arrowhead": 0,
           "arrowwidth": 1
          },
          "autotypenumbers": "strict",
          "coloraxis": {
           "colorbar": {
            "outlinewidth": 0,
            "ticks": ""
           }
          },
          "colorscale": {
           "diverging": [
            [
             0,
             "#8e0152"
            ],
            [
             0.1,
             "#c51b7d"
            ],
            [
             0.2,
             "#de77ae"
            ],
            [
             0.3,
             "#f1b6da"
            ],
            [
             0.4,
             "#fde0ef"
            ],
            [
             0.5,
             "#f7f7f7"
            ],
            [
             0.6,
             "#e6f5d0"
            ],
            [
             0.7,
             "#b8e186"
            ],
            [
             0.8,
             "#7fbc41"
            ],
            [
             0.9,
             "#4d9221"
            ],
            [
             1,
             "#276419"
            ]
           ],
           "sequential": [
            [
             0,
             "#0d0887"
            ],
            [
             0.1111111111111111,
             "#46039f"
            ],
            [
             0.2222222222222222,
             "#7201a8"
            ],
            [
             0.3333333333333333,
             "#9c179e"
            ],
            [
             0.4444444444444444,
             "#bd3786"
            ],
            [
             0.5555555555555556,
             "#d8576b"
            ],
            [
             0.6666666666666666,
             "#ed7953"
            ],
            [
             0.7777777777777778,
             "#fb9f3a"
            ],
            [
             0.8888888888888888,
             "#fdca26"
            ],
            [
             1,
             "#f0f921"
            ]
           ],
           "sequentialminus": [
            [
             0,
             "#0d0887"
            ],
            [
             0.1111111111111111,
             "#46039f"
            ],
            [
             0.2222222222222222,
             "#7201a8"
            ],
            [
             0.3333333333333333,
             "#9c179e"
            ],
            [
             0.4444444444444444,
             "#bd3786"
            ],
            [
             0.5555555555555556,
             "#d8576b"
            ],
            [
             0.6666666666666666,
             "#ed7953"
            ],
            [
             0.7777777777777778,
             "#fb9f3a"
            ],
            [
             0.8888888888888888,
             "#fdca26"
            ],
            [
             1,
             "#f0f921"
            ]
           ]
          },
          "colorway": [
           "#636efa",
           "#EF553B",
           "#00cc96",
           "#ab63fa",
           "#FFA15A",
           "#19d3f3",
           "#FF6692",
           "#B6E880",
           "#FF97FF",
           "#FECB52"
          ],
          "font": {
           "color": "#2a3f5f"
          },
          "geo": {
           "bgcolor": "white",
           "lakecolor": "white",
           "landcolor": "#E5ECF6",
           "showlakes": true,
           "showland": true,
           "subunitcolor": "white"
          },
          "hoverlabel": {
           "align": "left"
          },
          "hovermode": "closest",
          "mapbox": {
           "style": "light"
          },
          "paper_bgcolor": "white",
          "plot_bgcolor": "#E5ECF6",
          "polar": {
           "angularaxis": {
            "gridcolor": "white",
            "linecolor": "white",
            "ticks": ""
           },
           "bgcolor": "#E5ECF6",
           "radialaxis": {
            "gridcolor": "white",
            "linecolor": "white",
            "ticks": ""
           }
          },
          "scene": {
           "xaxis": {
            "backgroundcolor": "#E5ECF6",
            "gridcolor": "white",
            "gridwidth": 2,
            "linecolor": "white",
            "showbackground": true,
            "ticks": "",
            "zerolinecolor": "white"
           },
           "yaxis": {
            "backgroundcolor": "#E5ECF6",
            "gridcolor": "white",
            "gridwidth": 2,
            "linecolor": "white",
            "showbackground": true,
            "ticks": "",
            "zerolinecolor": "white"
           },
           "zaxis": {
            "backgroundcolor": "#E5ECF6",
            "gridcolor": "white",
            "gridwidth": 2,
            "linecolor": "white",
            "showbackground": true,
            "ticks": "",
            "zerolinecolor": "white"
           }
          },
          "shapedefaults": {
           "line": {
            "color": "#2a3f5f"
           }
          },
          "ternary": {
           "aaxis": {
            "gridcolor": "white",
            "linecolor": "white",
            "ticks": ""
           },
           "baxis": {
            "gridcolor": "white",
            "linecolor": "white",
            "ticks": ""
           },
           "bgcolor": "#E5ECF6",
           "caxis": {
            "gridcolor": "white",
            "linecolor": "white",
            "ticks": ""
           }
          },
          "title": {
           "x": 0.05
          },
          "xaxis": {
           "automargin": true,
           "gridcolor": "white",
           "linecolor": "white",
           "ticks": "",
           "title": {
            "standoff": 15
           },
           "zerolinecolor": "white",
           "zerolinewidth": 2
          },
          "yaxis": {
           "automargin": true,
           "gridcolor": "white",
           "linecolor": "white",
           "ticks": "",
           "title": {
            "standoff": 15
           },
           "zerolinecolor": "white",
           "zerolinewidth": 2
          }
         }
        },
        "title": {
         "text": "Shark Attacks by Top Victim Activities and Provoked/Unprovoked"
        },
        "width": 1000,
        "xaxis": {
         "anchor": "y",
         "domain": [
          0,
          1
         ],
         "title": {
          "text": "Victim Activity"
         }
        },
        "yaxis": {
         "anchor": "x",
         "domain": [
          0,
          1
         ],
         "title": {
          "text": "Number of Incidents"
         }
        }
       }
      }
     },
     "metadata": {},
     "output_type": "display_data"
    }
   ],
   "source": [
    "def compare_victim_activity_vs_provoked(\n",
    "    df: pd.DataFrame, num_activities: int\n",
    ") -> go.Figure:\n",
    "    \"\"\"\n",
    "    Compare shark attacks against victim activity and provoked/unprovoked status.\n",
    "    Considers the top 10 victim activities, separating the bars by provoked/unprovoked.\n",
    "\n",
    "    Parameters:\n",
    "        df (pd.DataFrame): The input DataFrame containing shark incident data.\n",
    "\n",
    "    Returns:\n",
    "        go.Figure: A Plotly figure object representing the grouped bar chart.\n",
    "    \"\"\"\n",
    "    local_df = df.copy()\n",
    "    local_df = get_top_victim_activities(local_df, num_activities)\n",
    "\n",
    "    # Get the top 10 victim activities\n",
    "    top_activities = (\n",
    "        local_df[\"victim_activity_updated\"]\n",
    "        .value_counts()\n",
    "        .index[:num_activities]\n",
    "    )\n",
    "\n",
    "    # Filter data for the top 10 victim activities\n",
    "    df_top_activities = local_df[\n",
    "        local_df[\"victim_activity_updated\"].isin(top_activities)\n",
    "    ]\n",
    "\n",
    "    # Group data by victim_activity and provoked_unprovoked\n",
    "    victim_activity_counts = (\n",
    "        df_top_activities.groupby(\n",
    "            [\"victim_activity_updated\", \"provoked_unprovoked\"]\n",
    "        )\n",
    "        .size()\n",
    "        .reset_index(name=\"count\")\n",
    "    )\n",
    "\n",
    "    # Add total incidents for sorting\n",
    "    victim_activity_counts[\"total_sum\"] = victim_activity_counts.groupby(\n",
    "        \"victim_activity_updated\"\n",
    "    )[\"count\"].transform(\"sum\")\n",
    "\n",
    "    # Sort by total_sum (descending) and victim_activity alphabetically\n",
    "    victim_activity_counts = victim_activity_counts.sort_values(\n",
    "        by=[\"total_sum\", \"victim_activity_updated\"], ascending=[False, True]\n",
    "    )\n",
    "\n",
    "    # Create bar chart\n",
    "    var_graph = px.bar(\n",
    "        victim_activity_counts,\n",
    "        x=\"victim_activity_updated\",\n",
    "        y=\"count\",\n",
    "        color=\"provoked_unprovoked\",\n",
    "        title=\"Shark Attacks by Top Victim Activities and Provoked/Unprovoked\",\n",
    "        labels={\n",
    "            \"victim_activity_updated\": \"Victim Activity\",\n",
    "            \"count\": \"Number of Incidents\",\n",
    "            \"provoked_unprovoked\": \"Provoked/Unprovoked\",\n",
    "        },\n",
    "        barmode=\"group\",\n",
    "    )\n",
    "\n",
    "    var_graph.update_traces(textposition=\"none\")\n",
    "    var_graph.update_layout(\n",
    "        font=dict(color=\"#00796b\", size=14),\n",
    "        plot_bgcolor=\"rgba(0,0,0,0)\",\n",
    "        paper_bgcolor=\"rgba(0,0,0,0)\",\n",
    "        xaxis_title=\"Victim Activity\",\n",
    "        yaxis_title=\"Number of Incidents\",\n",
    "        showlegend=True,\n",
    "        height=750,\n",
    "        width=1000,\n",
    "    )\n",
    "\n",
    "    return var_graph\n",
    "\n",
    "\n",
    "compare_victim_activity_vs_provoked(shark_data, 8)"
   ]
  },
  {
   "cell_type": "code",
   "execution_count": 15,
   "metadata": {},
   "outputs": [
    {
     "ename": "KeyError",
     "evalue": "'victim_activity_updated'",
     "output_type": "error",
     "traceback": [
      "\u001b[0;31m---------------------------------------------------------------------------\u001b[0m",
      "\u001b[0;31mKeyError\u001b[0m                                  Traceback (most recent call last)",
      "File \u001b[0;32m~/Environments/tue_uvenv_311/lib/python3.11/site-packages/pandas/core/indexes/base.py:3805\u001b[0m, in \u001b[0;36mIndex.get_loc\u001b[0;34m(self, key)\u001b[0m\n\u001b[1;32m   3804\u001b[0m \u001b[38;5;28;01mtry\u001b[39;00m:\n\u001b[0;32m-> 3805\u001b[0m     \u001b[38;5;28;01mreturn\u001b[39;00m \u001b[38;5;28;43mself\u001b[39;49m\u001b[38;5;241;43m.\u001b[39;49m\u001b[43m_engine\u001b[49m\u001b[38;5;241;43m.\u001b[39;49m\u001b[43mget_loc\u001b[49m\u001b[43m(\u001b[49m\u001b[43mcasted_key\u001b[49m\u001b[43m)\u001b[49m\n\u001b[1;32m   3806\u001b[0m \u001b[38;5;28;01mexcept\u001b[39;00m \u001b[38;5;167;01mKeyError\u001b[39;00m \u001b[38;5;28;01mas\u001b[39;00m err:\n",
      "File \u001b[0;32mindex.pyx:167\u001b[0m, in \u001b[0;36mpandas._libs.index.IndexEngine.get_loc\u001b[0;34m()\u001b[0m\n",
      "File \u001b[0;32mindex.pyx:196\u001b[0m, in \u001b[0;36mpandas._libs.index.IndexEngine.get_loc\u001b[0;34m()\u001b[0m\n",
      "File \u001b[0;32mpandas/_libs/hashtable_class_helper.pxi:7081\u001b[0m, in \u001b[0;36mpandas._libs.hashtable.PyObjectHashTable.get_item\u001b[0;34m()\u001b[0m\n",
      "File \u001b[0;32mpandas/_libs/hashtable_class_helper.pxi:7089\u001b[0m, in \u001b[0;36mpandas._libs.hashtable.PyObjectHashTable.get_item\u001b[0;34m()\u001b[0m\n",
      "\u001b[0;31mKeyError\u001b[0m: 'victim_activity_updated'",
      "\nThe above exception was the direct cause of the following exception:\n",
      "\u001b[0;31mKeyError\u001b[0m                                  Traceback (most recent call last)",
      "Cell \u001b[0;32mIn[15], line 1\u001b[0m\n\u001b[0;32m----> 1\u001b[0m \u001b[43mshark_data\u001b[49m\u001b[43m[\u001b[49m\u001b[38;5;124;43m\"\u001b[39;49m\u001b[38;5;124;43mvictim_activity_updated\u001b[39;49m\u001b[38;5;124;43m\"\u001b[39;49m\u001b[43m]\u001b[49m\u001b[38;5;241m.\u001b[39mvalue_counts()\n",
      "File \u001b[0;32m~/Environments/tue_uvenv_311/lib/python3.11/site-packages/pandas/core/frame.py:4102\u001b[0m, in \u001b[0;36mDataFrame.__getitem__\u001b[0;34m(self, key)\u001b[0m\n\u001b[1;32m   4100\u001b[0m \u001b[38;5;28;01mif\u001b[39;00m \u001b[38;5;28mself\u001b[39m\u001b[38;5;241m.\u001b[39mcolumns\u001b[38;5;241m.\u001b[39mnlevels \u001b[38;5;241m>\u001b[39m \u001b[38;5;241m1\u001b[39m:\n\u001b[1;32m   4101\u001b[0m     \u001b[38;5;28;01mreturn\u001b[39;00m \u001b[38;5;28mself\u001b[39m\u001b[38;5;241m.\u001b[39m_getitem_multilevel(key)\n\u001b[0;32m-> 4102\u001b[0m indexer \u001b[38;5;241m=\u001b[39m \u001b[38;5;28;43mself\u001b[39;49m\u001b[38;5;241;43m.\u001b[39;49m\u001b[43mcolumns\u001b[49m\u001b[38;5;241;43m.\u001b[39;49m\u001b[43mget_loc\u001b[49m\u001b[43m(\u001b[49m\u001b[43mkey\u001b[49m\u001b[43m)\u001b[49m\n\u001b[1;32m   4103\u001b[0m \u001b[38;5;28;01mif\u001b[39;00m is_integer(indexer):\n\u001b[1;32m   4104\u001b[0m     indexer \u001b[38;5;241m=\u001b[39m [indexer]\n",
      "File \u001b[0;32m~/Environments/tue_uvenv_311/lib/python3.11/site-packages/pandas/core/indexes/base.py:3812\u001b[0m, in \u001b[0;36mIndex.get_loc\u001b[0;34m(self, key)\u001b[0m\n\u001b[1;32m   3807\u001b[0m     \u001b[38;5;28;01mif\u001b[39;00m \u001b[38;5;28misinstance\u001b[39m(casted_key, \u001b[38;5;28mslice\u001b[39m) \u001b[38;5;129;01mor\u001b[39;00m (\n\u001b[1;32m   3808\u001b[0m         \u001b[38;5;28misinstance\u001b[39m(casted_key, abc\u001b[38;5;241m.\u001b[39mIterable)\n\u001b[1;32m   3809\u001b[0m         \u001b[38;5;129;01mand\u001b[39;00m \u001b[38;5;28many\u001b[39m(\u001b[38;5;28misinstance\u001b[39m(x, \u001b[38;5;28mslice\u001b[39m) \u001b[38;5;28;01mfor\u001b[39;00m x \u001b[38;5;129;01min\u001b[39;00m casted_key)\n\u001b[1;32m   3810\u001b[0m     ):\n\u001b[1;32m   3811\u001b[0m         \u001b[38;5;28;01mraise\u001b[39;00m InvalidIndexError(key)\n\u001b[0;32m-> 3812\u001b[0m     \u001b[38;5;28;01mraise\u001b[39;00m \u001b[38;5;167;01mKeyError\u001b[39;00m(key) \u001b[38;5;28;01mfrom\u001b[39;00m \u001b[38;5;21;01merr\u001b[39;00m\n\u001b[1;32m   3813\u001b[0m \u001b[38;5;28;01mexcept\u001b[39;00m \u001b[38;5;167;01mTypeError\u001b[39;00m:\n\u001b[1;32m   3814\u001b[0m     \u001b[38;5;66;03m# If we have a listlike key, _check_indexing_error will raise\u001b[39;00m\n\u001b[1;32m   3815\u001b[0m     \u001b[38;5;66;03m#  InvalidIndexError. Otherwise we fall through and re-raise\u001b[39;00m\n\u001b[1;32m   3816\u001b[0m     \u001b[38;5;66;03m#  the TypeError.\u001b[39;00m\n\u001b[1;32m   3817\u001b[0m     \u001b[38;5;28mself\u001b[39m\u001b[38;5;241m.\u001b[39m_check_indexing_error(key)\n",
      "\u001b[0;31mKeyError\u001b[0m: 'victim_activity_updated'"
     ]
    }
   ],
   "source": []
  },
  {
   "cell_type": "code",
   "execution_count": 130,
   "metadata": {},
   "outputs": [
    {
     "data": {
      "application/vnd.plotly.v1+json": {
       "config": {
        "plotlyServerURL": "https://plot.ly"
       },
       "data": [
        {
         "marker": {
          "color": "#ab47bc"
         },
         "name": "Fatal",
         "type": "bar",
         "x": [
          "January",
          "February",
          "March",
          "April",
          "May",
          "June",
          "July",
          "August",
          "September",
          "October",
          "November",
          "December"
         ],
         "xaxis": "x",
         "y": [
          49,
          25,
          21,
          17,
          10,
          13,
          12,
          13,
          15,
          13,
          28,
          39
         ],
         "yaxis": "y"
        },
        {
         "marker": {
          "color": "#7e57c2"
         },
         "name": "Injured",
         "type": "bar",
         "x": [
          "January",
          "February",
          "March",
          "April",
          "May",
          "June",
          "July",
          "August",
          "September",
          "October",
          "November",
          "December"
         ],
         "xaxis": "x2",
         "y": [
          140,
          84,
          79,
          57,
          32,
          28,
          29,
          25,
          32,
          64,
          79,
          99
         ],
         "yaxis": "y2"
        },
        {
         "marker": {
          "color": "#26a69a"
         },
         "name": "Uninjured",
         "type": "bar",
         "x": [
          "January",
          "February",
          "March",
          "April",
          "May",
          "June",
          "July",
          "August",
          "September",
          "October",
          "November",
          "December"
         ],
         "xaxis": "x3",
         "y": [
          39,
          38,
          22,
          17,
          9,
          17,
          15,
          9,
          14,
          16,
          11,
          22
         ],
         "yaxis": "y3"
        },
        {
         "marker": {
          "color": "#8d6e63"
         },
         "name": "Unknown",
         "type": "bar",
         "x": [
          "January",
          "February",
          "March",
          "April",
          "May",
          "June",
          "July",
          "August",
          "September",
          "October",
          "November",
          "December"
         ],
         "xaxis": "x4",
         "y": [
          0,
          0,
          0,
          1,
          0,
          0,
          0,
          0,
          0,
          0,
          0,
          0
         ],
         "yaxis": "y4"
        }
       ],
       "layout": {
        "annotations": [
         {
          "font": {
           "size": 16
          },
          "showarrow": false,
          "text": "Fatal Incidents",
          "x": 0.225,
          "xanchor": "center",
          "xref": "paper",
          "y": 1,
          "yanchor": "bottom",
          "yref": "paper"
         },
         {
          "font": {
           "size": 16
          },
          "showarrow": false,
          "text": "Injured Incidents",
          "x": 0.775,
          "xanchor": "center",
          "xref": "paper",
          "y": 1,
          "yanchor": "bottom",
          "yref": "paper"
         },
         {
          "font": {
           "size": 16
          },
          "showarrow": false,
          "text": "Uninjured Incidents",
          "x": 0.225,
          "xanchor": "center",
          "xref": "paper",
          "y": 0.375,
          "yanchor": "bottom",
          "yref": "paper"
         },
         {
          "font": {
           "size": 16
          },
          "showarrow": false,
          "text": "Unknown Incidents",
          "x": 0.775,
          "xanchor": "center",
          "xref": "paper",
          "y": 0.375,
          "yanchor": "bottom",
          "yref": "paper"
         }
        ],
        "font": {
         "color": "#00796b",
         "size": 14
        },
        "height": 900,
        "paper_bgcolor": "rgba(0,0,0,0)",
        "plot_bgcolor": "rgba(0,0,0,0)",
        "showlegend": false,
        "template": {
         "data": {
          "bar": [
           {
            "error_x": {
             "color": "#2a3f5f"
            },
            "error_y": {
             "color": "#2a3f5f"
            },
            "marker": {
             "line": {
              "color": "#E5ECF6",
              "width": 0.5
             },
             "pattern": {
              "fillmode": "overlay",
              "size": 10,
              "solidity": 0.2
             }
            },
            "type": "bar"
           }
          ],
          "barpolar": [
           {
            "marker": {
             "line": {
              "color": "#E5ECF6",
              "width": 0.5
             },
             "pattern": {
              "fillmode": "overlay",
              "size": 10,
              "solidity": 0.2
             }
            },
            "type": "barpolar"
           }
          ],
          "carpet": [
           {
            "aaxis": {
             "endlinecolor": "#2a3f5f",
             "gridcolor": "white",
             "linecolor": "white",
             "minorgridcolor": "white",
             "startlinecolor": "#2a3f5f"
            },
            "baxis": {
             "endlinecolor": "#2a3f5f",
             "gridcolor": "white",
             "linecolor": "white",
             "minorgridcolor": "white",
             "startlinecolor": "#2a3f5f"
            },
            "type": "carpet"
           }
          ],
          "choropleth": [
           {
            "colorbar": {
             "outlinewidth": 0,
             "ticks": ""
            },
            "type": "choropleth"
           }
          ],
          "contour": [
           {
            "colorbar": {
             "outlinewidth": 0,
             "ticks": ""
            },
            "colorscale": [
             [
              0,
              "#0d0887"
             ],
             [
              0.1111111111111111,
              "#46039f"
             ],
             [
              0.2222222222222222,
              "#7201a8"
             ],
             [
              0.3333333333333333,
              "#9c179e"
             ],
             [
              0.4444444444444444,
              "#bd3786"
             ],
             [
              0.5555555555555556,
              "#d8576b"
             ],
             [
              0.6666666666666666,
              "#ed7953"
             ],
             [
              0.7777777777777778,
              "#fb9f3a"
             ],
             [
              0.8888888888888888,
              "#fdca26"
             ],
             [
              1,
              "#f0f921"
             ]
            ],
            "type": "contour"
           }
          ],
          "contourcarpet": [
           {
            "colorbar": {
             "outlinewidth": 0,
             "ticks": ""
            },
            "type": "contourcarpet"
           }
          ],
          "heatmap": [
           {
            "colorbar": {
             "outlinewidth": 0,
             "ticks": ""
            },
            "colorscale": [
             [
              0,
              "#0d0887"
             ],
             [
              0.1111111111111111,
              "#46039f"
             ],
             [
              0.2222222222222222,
              "#7201a8"
             ],
             [
              0.3333333333333333,
              "#9c179e"
             ],
             [
              0.4444444444444444,
              "#bd3786"
             ],
             [
              0.5555555555555556,
              "#d8576b"
             ],
             [
              0.6666666666666666,
              "#ed7953"
             ],
             [
              0.7777777777777778,
              "#fb9f3a"
             ],
             [
              0.8888888888888888,
              "#fdca26"
             ],
             [
              1,
              "#f0f921"
             ]
            ],
            "type": "heatmap"
           }
          ],
          "heatmapgl": [
           {
            "colorbar": {
             "outlinewidth": 0,
             "ticks": ""
            },
            "colorscale": [
             [
              0,
              "#0d0887"
             ],
             [
              0.1111111111111111,
              "#46039f"
             ],
             [
              0.2222222222222222,
              "#7201a8"
             ],
             [
              0.3333333333333333,
              "#9c179e"
             ],
             [
              0.4444444444444444,
              "#bd3786"
             ],
             [
              0.5555555555555556,
              "#d8576b"
             ],
             [
              0.6666666666666666,
              "#ed7953"
             ],
             [
              0.7777777777777778,
              "#fb9f3a"
             ],
             [
              0.8888888888888888,
              "#fdca26"
             ],
             [
              1,
              "#f0f921"
             ]
            ],
            "type": "heatmapgl"
           }
          ],
          "histogram": [
           {
            "marker": {
             "pattern": {
              "fillmode": "overlay",
              "size": 10,
              "solidity": 0.2
             }
            },
            "type": "histogram"
           }
          ],
          "histogram2d": [
           {
            "colorbar": {
             "outlinewidth": 0,
             "ticks": ""
            },
            "colorscale": [
             [
              0,
              "#0d0887"
             ],
             [
              0.1111111111111111,
              "#46039f"
             ],
             [
              0.2222222222222222,
              "#7201a8"
             ],
             [
              0.3333333333333333,
              "#9c179e"
             ],
             [
              0.4444444444444444,
              "#bd3786"
             ],
             [
              0.5555555555555556,
              "#d8576b"
             ],
             [
              0.6666666666666666,
              "#ed7953"
             ],
             [
              0.7777777777777778,
              "#fb9f3a"
             ],
             [
              0.8888888888888888,
              "#fdca26"
             ],
             [
              1,
              "#f0f921"
             ]
            ],
            "type": "histogram2d"
           }
          ],
          "histogram2dcontour": [
           {
            "colorbar": {
             "outlinewidth": 0,
             "ticks": ""
            },
            "colorscale": [
             [
              0,
              "#0d0887"
             ],
             [
              0.1111111111111111,
              "#46039f"
             ],
             [
              0.2222222222222222,
              "#7201a8"
             ],
             [
              0.3333333333333333,
              "#9c179e"
             ],
             [
              0.4444444444444444,
              "#bd3786"
             ],
             [
              0.5555555555555556,
              "#d8576b"
             ],
             [
              0.6666666666666666,
              "#ed7953"
             ],
             [
              0.7777777777777778,
              "#fb9f3a"
             ],
             [
              0.8888888888888888,
              "#fdca26"
             ],
             [
              1,
              "#f0f921"
             ]
            ],
            "type": "histogram2dcontour"
           }
          ],
          "mesh3d": [
           {
            "colorbar": {
             "outlinewidth": 0,
             "ticks": ""
            },
            "type": "mesh3d"
           }
          ],
          "parcoords": [
           {
            "line": {
             "colorbar": {
              "outlinewidth": 0,
              "ticks": ""
             }
            },
            "type": "parcoords"
           }
          ],
          "pie": [
           {
            "automargin": true,
            "type": "pie"
           }
          ],
          "scatter": [
           {
            "fillpattern": {
             "fillmode": "overlay",
             "size": 10,
             "solidity": 0.2
            },
            "type": "scatter"
           }
          ],
          "scatter3d": [
           {
            "line": {
             "colorbar": {
              "outlinewidth": 0,
              "ticks": ""
             }
            },
            "marker": {
             "colorbar": {
              "outlinewidth": 0,
              "ticks": ""
             }
            },
            "type": "scatter3d"
           }
          ],
          "scattercarpet": [
           {
            "marker": {
             "colorbar": {
              "outlinewidth": 0,
              "ticks": ""
             }
            },
            "type": "scattercarpet"
           }
          ],
          "scattergeo": [
           {
            "marker": {
             "colorbar": {
              "outlinewidth": 0,
              "ticks": ""
             }
            },
            "type": "scattergeo"
           }
          ],
          "scattergl": [
           {
            "marker": {
             "colorbar": {
              "outlinewidth": 0,
              "ticks": ""
             }
            },
            "type": "scattergl"
           }
          ],
          "scattermapbox": [
           {
            "marker": {
             "colorbar": {
              "outlinewidth": 0,
              "ticks": ""
             }
            },
            "type": "scattermapbox"
           }
          ],
          "scatterpolar": [
           {
            "marker": {
             "colorbar": {
              "outlinewidth": 0,
              "ticks": ""
             }
            },
            "type": "scatterpolar"
           }
          ],
          "scatterpolargl": [
           {
            "marker": {
             "colorbar": {
              "outlinewidth": 0,
              "ticks": ""
             }
            },
            "type": "scatterpolargl"
           }
          ],
          "scatterternary": [
           {
            "marker": {
             "colorbar": {
              "outlinewidth": 0,
              "ticks": ""
             }
            },
            "type": "scatterternary"
           }
          ],
          "surface": [
           {
            "colorbar": {
             "outlinewidth": 0,
             "ticks": ""
            },
            "colorscale": [
             [
              0,
              "#0d0887"
             ],
             [
              0.1111111111111111,
              "#46039f"
             ],
             [
              0.2222222222222222,
              "#7201a8"
             ],
             [
              0.3333333333333333,
              "#9c179e"
             ],
             [
              0.4444444444444444,
              "#bd3786"
             ],
             [
              0.5555555555555556,
              "#d8576b"
             ],
             [
              0.6666666666666666,
              "#ed7953"
             ],
             [
              0.7777777777777778,
              "#fb9f3a"
             ],
             [
              0.8888888888888888,
              "#fdca26"
             ],
             [
              1,
              "#f0f921"
             ]
            ],
            "type": "surface"
           }
          ],
          "table": [
           {
            "cells": {
             "fill": {
              "color": "#EBF0F8"
             },
             "line": {
              "color": "white"
             }
            },
            "header": {
             "fill": {
              "color": "#C8D4E3"
             },
             "line": {
              "color": "white"
             }
            },
            "type": "table"
           }
          ]
         },
         "layout": {
          "annotationdefaults": {
           "arrowcolor": "#2a3f5f",
           "arrowhead": 0,
           "arrowwidth": 1
          },
          "autotypenumbers": "strict",
          "coloraxis": {
           "colorbar": {
            "outlinewidth": 0,
            "ticks": ""
           }
          },
          "colorscale": {
           "diverging": [
            [
             0,
             "#8e0152"
            ],
            [
             0.1,
             "#c51b7d"
            ],
            [
             0.2,
             "#de77ae"
            ],
            [
             0.3,
             "#f1b6da"
            ],
            [
             0.4,
             "#fde0ef"
            ],
            [
             0.5,
             "#f7f7f7"
            ],
            [
             0.6,
             "#e6f5d0"
            ],
            [
             0.7,
             "#b8e186"
            ],
            [
             0.8,
             "#7fbc41"
            ],
            [
             0.9,
             "#4d9221"
            ],
            [
             1,
             "#276419"
            ]
           ],
           "sequential": [
            [
             0,
             "#0d0887"
            ],
            [
             0.1111111111111111,
             "#46039f"
            ],
            [
             0.2222222222222222,
             "#7201a8"
            ],
            [
             0.3333333333333333,
             "#9c179e"
            ],
            [
             0.4444444444444444,
             "#bd3786"
            ],
            [
             0.5555555555555556,
             "#d8576b"
            ],
            [
             0.6666666666666666,
             "#ed7953"
            ],
            [
             0.7777777777777778,
             "#fb9f3a"
            ],
            [
             0.8888888888888888,
             "#fdca26"
            ],
            [
             1,
             "#f0f921"
            ]
           ],
           "sequentialminus": [
            [
             0,
             "#0d0887"
            ],
            [
             0.1111111111111111,
             "#46039f"
            ],
            [
             0.2222222222222222,
             "#7201a8"
            ],
            [
             0.3333333333333333,
             "#9c179e"
            ],
            [
             0.4444444444444444,
             "#bd3786"
            ],
            [
             0.5555555555555556,
             "#d8576b"
            ],
            [
             0.6666666666666666,
             "#ed7953"
            ],
            [
             0.7777777777777778,
             "#fb9f3a"
            ],
            [
             0.8888888888888888,
             "#fdca26"
            ],
            [
             1,
             "#f0f921"
            ]
           ]
          },
          "colorway": [
           "#636efa",
           "#EF553B",
           "#00cc96",
           "#ab63fa",
           "#FFA15A",
           "#19d3f3",
           "#FF6692",
           "#B6E880",
           "#FF97FF",
           "#FECB52"
          ],
          "font": {
           "color": "#2a3f5f"
          },
          "geo": {
           "bgcolor": "white",
           "lakecolor": "white",
           "landcolor": "#E5ECF6",
           "showlakes": true,
           "showland": true,
           "subunitcolor": "white"
          },
          "hoverlabel": {
           "align": "left"
          },
          "hovermode": "closest",
          "mapbox": {
           "style": "light"
          },
          "paper_bgcolor": "white",
          "plot_bgcolor": "#E5ECF6",
          "polar": {
           "angularaxis": {
            "gridcolor": "white",
            "linecolor": "white",
            "ticks": ""
           },
           "bgcolor": "#E5ECF6",
           "radialaxis": {
            "gridcolor": "white",
            "linecolor": "white",
            "ticks": ""
           }
          },
          "scene": {
           "xaxis": {
            "backgroundcolor": "#E5ECF6",
            "gridcolor": "white",
            "gridwidth": 2,
            "linecolor": "white",
            "showbackground": true,
            "ticks": "",
            "zerolinecolor": "white"
           },
           "yaxis": {
            "backgroundcolor": "#E5ECF6",
            "gridcolor": "white",
            "gridwidth": 2,
            "linecolor": "white",
            "showbackground": true,
            "ticks": "",
            "zerolinecolor": "white"
           },
           "zaxis": {
            "backgroundcolor": "#E5ECF6",
            "gridcolor": "white",
            "gridwidth": 2,
            "linecolor": "white",
            "showbackground": true,
            "ticks": "",
            "zerolinecolor": "white"
           }
          },
          "shapedefaults": {
           "line": {
            "color": "#2a3f5f"
           }
          },
          "ternary": {
           "aaxis": {
            "gridcolor": "white",
            "linecolor": "white",
            "ticks": ""
           },
           "baxis": {
            "gridcolor": "white",
            "linecolor": "white",
            "ticks": ""
           },
           "bgcolor": "#E5ECF6",
           "caxis": {
            "gridcolor": "white",
            "linecolor": "white",
            "ticks": ""
           }
          },
          "title": {
           "x": 0.05
          },
          "xaxis": {
           "automargin": true,
           "gridcolor": "white",
           "linecolor": "white",
           "ticks": "",
           "title": {
            "standoff": 15
           },
           "zerolinecolor": "white",
           "zerolinewidth": 2
          },
          "yaxis": {
           "automargin": true,
           "gridcolor": "white",
           "linecolor": "white",
           "ticks": "",
           "title": {
            "standoff": 15
           },
           "zerolinecolor": "white",
           "zerolinewidth": 2
          }
         }
        },
        "title": {
         "text": "Shark Incidents Per Month by Injury Type"
        },
        "width": 1000,
        "xaxis": {
         "anchor": "y",
         "domain": [
          0,
          0.45
         ],
         "tickangle": -45,
         "title": {
          "text": "Month"
         }
        },
        "xaxis2": {
         "anchor": "y2",
         "domain": [
          0.55,
          1
         ],
         "tickangle": -45,
         "title": {
          "text": "Month"
         }
        },
        "xaxis3": {
         "anchor": "y3",
         "domain": [
          0,
          0.45
         ],
         "tickangle": -45,
         "title": {
          "text": "Month"
         }
        },
        "xaxis4": {
         "anchor": "y4",
         "domain": [
          0.55,
          1
         ],
         "tickangle": -45,
         "title": {
          "text": "Month"
         }
        },
        "yaxis": {
         "anchor": "x",
         "domain": [
          0.625,
          1
         ],
         "title": {
          "text": "Number of Incidents"
         }
        },
        "yaxis2": {
         "anchor": "x2",
         "domain": [
          0.625,
          1
         ]
        },
        "yaxis3": {
         "anchor": "x3",
         "domain": [
          0,
          0.375
         ],
         "title": {
          "text": "Number of Incidents"
         }
        },
        "yaxis4": {
         "anchor": "x4",
         "domain": [
          0,
          0.375
         ]
        }
       }
      }
     },
     "metadata": {},
     "output_type": "display_data"
    }
   ],
   "source": [
    "incidents_per_month = (\n",
    "    shark_data.groupby([\"incident_month\", \"victim_injury\"])\n",
    "    .size()\n",
    "    .reset_index(name=\"count\")\n",
    ")\n",
    "\n",
    "months = list(range(1, 13))  # 1 to 12 for all months\n",
    "month_names = [\n",
    "    \"January\",\n",
    "    \"February\",\n",
    "    \"March\",\n",
    "    \"April\",\n",
    "    \"May\",\n",
    "    \"June\",\n",
    "    \"July\",\n",
    "    \"August\",\n",
    "    \"September\",\n",
    "    \"October\",\n",
    "    \"November\",\n",
    "    \"December\",\n",
    "]\n",
    "\n",
    "incidents_per_month[\"month_name\"] = incidents_per_month[\"incident_month\"].map(\n",
    "    dict(zip(months, month_names))\n",
    ")\n",
    "\n",
    "injury_types = [\"fatal\", \"injured\", \"uninjured\", \"unknown\"]\n",
    "color_map = {\n",
    "    \"fatal\": \"#ab47bc\",\n",
    "    \"injured\": \"#7e57c2\",\n",
    "    \"uninjured\": \"#26a69a\",\n",
    "    \"unknown\": \"#8d6e63\",\n",
    "}\n",
    "\n",
    "fig = make_subplots(\n",
    "    rows=2,\n",
    "    cols=2,\n",
    "    subplot_titles=[\n",
    "        \"Fatal Incidents\",\n",
    "        \"Injured Incidents\",\n",
    "        \"Uninjured Incidents\",\n",
    "        \"Unknown Incidents\",\n",
    "    ],\n",
    "    horizontal_spacing=0.1,\n",
    "    vertical_spacing=0.25,\n",
    ")\n",
    "\n",
    "subplot_positions = {\n",
    "    \"fatal\": (1, 1),\n",
    "    \"injured\": (1, 2),\n",
    "    \"uninjured\": (2, 1),\n",
    "    \"unknown\": (2, 2),\n",
    "}\n",
    "\n",
    "for injury_type in injury_types:\n",
    "    filtered_data = incidents_per_month[\n",
    "        incidents_per_month[\"victim_injury\"] == injury_type\n",
    "    ]\n",
    "    filtered_data = (\n",
    "        filtered_data.set_index(\"month_name\")\n",
    "        .reindex(month_names, fill_value=0)\n",
    "        .reset_index()\n",
    "    )\n",
    "\n",
    "    row, col = subplot_positions[injury_type]\n",
    "    fig.add_trace(\n",
    "        go.Bar(\n",
    "            x=filtered_data[\"month_name\"],\n",
    "            y=filtered_data[\"count\"],\n",
    "            name=injury_type.capitalize(),\n",
    "            marker_color=color_map[injury_type],\n",
    "        ),\n",
    "        row=row,\n",
    "        col=col,\n",
    "    )\n",
    "\n",
    "fig.update_layout(\n",
    "    title=\"Shark Incidents Per Month by Injury Type\",\n",
    "    font=dict(color=\"#00796b\", size=14),\n",
    "    plot_bgcolor=\"rgba(0,0,0,0)\",\n",
    "    paper_bgcolor=\"rgba(0,0,0,0)\",\n",
    "    showlegend=False,\n",
    "    height=900,\n",
    "    width=1000,\n",
    ")\n",
    "\n",
    "fig.update_xaxes(title_text=\"Month\", tickangle=-45, row=1, col=1)\n",
    "fig.update_xaxes(title_text=\"Month\", tickangle=-45, row=1, col=2)\n",
    "\n",
    "fig.update_xaxes(title_text=\"Month\", tickangle=-45, row=2, col=1)\n",
    "fig.update_xaxes(title_text=\"Month\", tickangle=-45, row=2, col=2)\n",
    "\n",
    "fig.update_yaxes(title_text=\"Number of Incidents\", row=1, col=1)\n",
    "fig.update_yaxes(title_text=\"Number of Incidents\", row=2, col=1)\n",
    "\n",
    "# fig.update_xaxes(showgrid=False)\n",
    "# fig.update_yaxes(showgrid=False)\n",
    "\n",
    "# Show the graph\n",
    "fig.show()"
   ]
  },
  {
   "cell_type": "code",
   "execution_count": 116,
   "metadata": {},
   "outputs": [],
   "source": [
    "# def prepare_incident_data(df):\n",
    "#     \"\"\"\n",
    "#     Prepares the incident data grouped by month and victim injury.\n",
    "\n",
    "#     Parameters:\n",
    "#         df (pd.DataFrame): The input DataFrame containing shark incident data.\n",
    "\n",
    "#     Returns:\n",
    "#         pd.DataFrame: DataFrame grouped by month and victim injury with counts.\n",
    "#     \"\"\"\n",
    "#     incidents_per_month = (\n",
    "#         df.groupby([\"incident_month\", \"victim_injury\"])\n",
    "#         .size()\n",
    "#         .reset_index(name=\"count\")\n",
    "#     )\n",
    "\n",
    "#     months = list(range(1, 13))  # 1 to 12 for all months\n",
    "#     month_names = [\n",
    "#         \"January\",\n",
    "#         \"February\",\n",
    "#         \"March\",\n",
    "#         \"April\",\n",
    "#         \"May\",\n",
    "#         \"June\",\n",
    "#         \"July\",\n",
    "#         \"August\",\n",
    "#         \"September\",\n",
    "#         \"October\",\n",
    "#         \"November\",\n",
    "#         \"December\",\n",
    "#     ]\n",
    "\n",
    "#     incidents_per_month[\"month_name\"] = incidents_per_month[\n",
    "#         \"incident_month\"\n",
    "#     ].map(dict(zip(months, month_names)))\n",
    "\n",
    "#     return incidents_per_month, month_names\n",
    "\n",
    "\n",
    "# def create_subplots_monthly_incident(\n",
    "#     incidents_per_month, month_names, scale_y=False\n",
    "# ):\n",
    "#     \"\"\"\n",
    "#     Creates subplots for incidents per month by injury type.\n",
    "\n",
    "#     Parameters:\n",
    "#         incidents_per_month (pd.DataFrame): Grouped incident data.\n",
    "#         month_names (list): List of month names.\n",
    "#         scale_y (bool): Whether to scale the y-axis to a fixed range.\n",
    "\n",
    "#     Returns:\n",
    "#         go.Figure: The Plotly subplots figure.\n",
    "#     \"\"\"\n",
    "#     injury_types = [\"fatal\", \"injured\", \"uninjured\", \"unknown\"]\n",
    "#     color_map = {\n",
    "#         \"fatal\": \"#ab47bc\",\n",
    "#         \"injured\": \"#7e57c2\",\n",
    "#         \"uninjured\": \"#26a69a\",\n",
    "#         \"unknown\": \"#8d6e63\",\n",
    "#     }\n",
    "\n",
    "#     bar_graph = make_subplots(\n",
    "#         rows=2,\n",
    "#         cols=2,\n",
    "#         subplot_titles=[\n",
    "#             \"Fatal Incidents\",\n",
    "#             \"Injured Incidents\",\n",
    "#             \"Uninjured Incidents\",\n",
    "#             \"Unknown Incidents\",\n",
    "#         ],\n",
    "#         horizontal_spacing=0.1,\n",
    "#         vertical_spacing=0.25,\n",
    "#     )\n",
    "\n",
    "#     subplot_positions = {\n",
    "#         \"fatal\": (1, 1),\n",
    "#         \"injured\": (1, 2),\n",
    "#         \"uninjured\": (2, 1),\n",
    "#         \"unknown\": (2, 2),\n",
    "#     }\n",
    "\n",
    "#     for injury_type in injury_types:\n",
    "#         filtered_data = incidents_per_month[\n",
    "#             incidents_per_month[\"victim_injury\"] == injury_type\n",
    "#         ]\n",
    "#         filtered_data = (\n",
    "#             filtered_data.set_index(\"month_name\")\n",
    "#             .reindex(month_names, fill_value=0)\n",
    "#             .reset_index()\n",
    "#         )\n",
    "\n",
    "#         row, col = subplot_positions[injury_type]\n",
    "#         bar_graph.add_trace(\n",
    "#             go.Bar(\n",
    "#                 x=filtered_data[\"month_name\"],\n",
    "#                 y=filtered_data[\"count\"],\n",
    "#                 name=injury_type.capitalize(),\n",
    "#                 marker_color=color_map[injury_type],\n",
    "#             ),\n",
    "#             row=row,\n",
    "#             col=col,\n",
    "#         )\n",
    "\n",
    "#     bar_graph.update_layout(\n",
    "#         title=\"Shark Incidents Per Month by Injury Type\",\n",
    "#         font=dict(color=\"#00796b\", size=14),\n",
    "#         plot_bgcolor=\"rgba(0,0,0,0)\",\n",
    "#         paper_bgcolor=\"rgba(0,0,0,0)\",\n",
    "#         showlegend=False,\n",
    "#         height=900,\n",
    "#         width=1000,\n",
    "#     )\n",
    "\n",
    "#     if scale_y:\n",
    "#         bar_graph.update_yaxes(range=[0, 150])\n",
    "\n",
    "#     bar_graph.update_xaxes(title_text=\"Month\", tickangle=-45, row=1, col=1)\n",
    "#     bar_graph.update_xaxes(title_text=\"Month\", tickangle=-45, row=1, col=2)\n",
    "#     bar_graph.update_xaxes(title_text=\"Month\", tickangle=-45, row=2, col=1)\n",
    "#     bar_graph.update_xaxes(title_text=\"Month\", tickangle=-45, row=2, col=2)\n",
    "\n",
    "#     bar_graph.update_yaxes(title_text=\"Number of Incidents\", row=1, col=1)\n",
    "#     bar_graph.update_yaxes(title_text=\"Number of Incidents\", row=2, col=1)\n",
    "\n",
    "#     return bar_graph\n",
    "\n",
    "\n",
    "# def create_multi_bar_monthly_incident(incidents_per_month, month_names):\n",
    "#     \"\"\"\n",
    "#     Creates a multibar chart for incidents per month by injury type.\n",
    "\n",
    "#     Parameters:\n",
    "#         incidents_per_month (pd.DataFrame): Grouped incident data.\n",
    "#         month_names (list): List of month names.\n",
    "\n",
    "#     Returns:\n",
    "#         go.Figure: The Plotly multibar chart figure.\n",
    "#     \"\"\"\n",
    "#     monthly_injury_data = (\n",
    "#         incidents_per_month.groupby([\"month_name\", \"victim_injury\"])[\"count\"]\n",
    "#         .sum()\n",
    "#         .reset_index()\n",
    "#     )\n",
    "\n",
    "#     multi_bar_graph = px.bar(\n",
    "#         monthly_injury_data,\n",
    "#         x=\"month_name\",\n",
    "#         y=\"count\",\n",
    "#         color=\"victim_injury\",\n",
    "#         barmode=\"group\",\n",
    "#         color_discrete_map={\n",
    "#             \"fatal\": \"#ab47bc\",\n",
    "#             \"injured\": \"#7e57c2\",\n",
    "#             \"uninjured\": \"#26a69a\",\n",
    "#             \"unknown\": \"#8d6e63\",\n",
    "#         },\n",
    "#         title=\"Shark Incidents Per Month by Injury Type\",\n",
    "#         labels={\n",
    "#             \"month_name\": \"Month\",\n",
    "#             \"count\": \"Number of Incidents\",\n",
    "#             \"victim_injury\": \"Injury Type\",\n",
    "#         },\n",
    "#         category_orders={\"month_name\": month_names},\n",
    "#     )\n",
    "\n",
    "#     multi_bar_graph.update_layout(\n",
    "#         font=dict(color=\"#00796b\", size=14),\n",
    "#         plot_bgcolor=\"rgba(0,0,0,0)\",\n",
    "#         paper_bgcolor=\"rgba(0,0,0,0)\",\n",
    "#         xaxis_title=\"Month\",\n",
    "#         yaxis_title=\"Number of Incidents\",\n",
    "#         legend_title=\"Injury Type\",\n",
    "#         height=700,\n",
    "#         width=1050,\n",
    "#     )\n",
    "\n",
    "#     return multi_bar_graph"
   ]
  },
  {
   "cell_type": "code",
   "execution_count": 48,
   "metadata": {},
   "outputs": [],
   "source": [
    "# incidents_per_month, month_names = prepare_incident_data(shark_data)\n",
    "# create_subplots_monthly_incident(\n",
    "#     incidents_per_month, month_names, scale_y=True\n",
    "# )"
   ]
  },
  {
   "cell_type": "code",
   "execution_count": 117,
   "metadata": {},
   "outputs": [],
   "source": [
    "# create_multi_bar_monthly_incident(incidents_per_month, month_names)"
   ]
  },
  {
   "cell_type": "code",
   "execution_count": 15,
   "metadata": {},
   "outputs": [],
   "source": [
    "def create_top_sharks_chart(df) -> px.bar:\n",
    "    \"\"\"\n",
    "    Creates a bar chart for the top 7 shark types and combines the remaining types into 'others'.\n",
    "\n",
    "    Parameters:\n",
    "        df (pd.DataFrame): The input DataFrame containing shark data.\n",
    "\n",
    "    Returns:\n",
    "        px.bar: The Plotly bar chart figure.\n",
    "    \"\"\"\n",
    "    shark_counts = df[\"shark_common_name\"].value_counts().reset_index()\n",
    "    shark_counts.columns = [\"shark_common_name\", \"count\"]\n",
    "\n",
    "    top_5_sharks = shark_counts.head(7)\n",
    "    others = shark_counts.iloc[7:]\n",
    "    num_others = others[\"shark_common_name\"].nunique()\n",
    "    others_count = others[\"count\"].sum()\n",
    "    others_row = pd.DataFrame(\n",
    "        [\n",
    "            {\n",
    "                \"shark_common_name\": f\"others: {num_others} types\",\n",
    "                \"count\": others_count,\n",
    "            }\n",
    "        ]\n",
    "    )\n",
    "    top_5_sharks = pd.concat([top_5_sharks, others_row], ignore_index=True)\n",
    "\n",
    "    others_text = \"<br>\".join(\n",
    "        [\n",
    "            f\"{row['shark_common_name']}: {row['count']} incidents\"\n",
    "            for _, row in others.iterrows()\n",
    "        ]\n",
    "    )\n",
    "\n",
    "    top_5_sharks.loc[\n",
    "        top_5_sharks[\"shark_common_name\"] == f\"others: {num_others} types\",\n",
    "        \"hover_text\",\n",
    "    ] = others_text\n",
    "\n",
    "    top_5_sharks[\"hover_text\"] = top_5_sharks[\"hover_text\"].fillna(\n",
    "        top_5_sharks[\"shark_common_name\"]\n",
    "        + \": \"\n",
    "        + top_5_sharks[\"count\"].astype(str)\n",
    "        + \" incidents\"\n",
    "    )\n",
    "\n",
    "    colors = [\n",
    "        \"#ab47bc\",\n",
    "        \"#7e57c2\",\n",
    "        \"#2e7d32\",\n",
    "        \"#455a64\",\n",
    "        \"#795548\",\n",
    "        \"#303f9f\",\n",
    "        \"#5e35b1\",\n",
    "        \"#4e342e\",\n",
    "    ]\n",
    "\n",
    "    bar_graph = px.bar(\n",
    "        top_5_sharks,\n",
    "        x=\"shark_common_name\",\n",
    "        y=\"count\",\n",
    "        title=\"Most Dangerous Sharks\",\n",
    "        labels={\n",
    "            \"shark_common_name\": \"Shark Type\",\n",
    "            \"count\": \"Number of Incidents\",\n",
    "        },\n",
    "        color=\"shark_common_name\",\n",
    "        color_discrete_sequence=colors,\n",
    "        text=\"hover_text\",\n",
    "    )\n",
    "\n",
    "    bar_graph.update_traces(\n",
    "        hovertemplate=\"%{text}\",\n",
    "        textposition=\"none\",\n",
    "    )\n",
    "\n",
    "    bar_graph.update_layout(\n",
    "        font=dict(color=\"#00796b\", size=14),\n",
    "        plot_bgcolor=\"rgba(0,0,0,0)\",\n",
    "        paper_bgcolor=\"rgba(0,0,0,0)\",\n",
    "        xaxis_title=\"Shark Type\",\n",
    "        yaxis_title=\"Number of Incidents\",\n",
    "        showlegend=False,\n",
    "    )\n",
    "\n",
    "    return bar_graph"
   ]
  },
  {
   "cell_type": "code",
   "execution_count": null,
   "metadata": {},
   "outputs": [],
   "source": [
    "# create_top_sharks_chart(shark_data)"
   ]
  },
  {
   "cell_type": "code",
   "execution_count": 108,
   "metadata": {},
   "outputs": [],
   "source": [
    "def get_shark_victim_injuries(df: pd.DataFrame) -> pd.DataFrame:\n",
    "    shark_victim_injury_counts = (\n",
    "        df.groupby([\"shark_common_name\", \"victim_injury\"])\n",
    "        .size()\n",
    "        .reset_index(name=\"count\")\n",
    "    )\n",
    "    shark_victim_injury_counts[\"total_sum\"] = 0\n",
    "    unique_sharks = shark_victim_injury_counts[\"shark_common_name\"].unique()\n",
    "\n",
    "    for shark in unique_sharks:\n",
    "        dfx = shark_victim_injury_counts.loc[\n",
    "            shark_victim_injury_counts[\"shark_common_name\"] == shark\n",
    "        ]\n",
    "        sum_incident = dfx[\"count\"].sum()\n",
    "        shark_victim_injury_counts.loc[\n",
    "            shark_victim_injury_counts[\"shark_common_name\"] == shark,\n",
    "            \"total_sum\",\n",
    "        ] = sum_incident\n",
    "\n",
    "    shark_victim_injury_counts = shark_victim_injury_counts.sort_values(\n",
    "        \"total_sum\", ascending=False\n",
    "    )\n",
    "\n",
    "    shark_victim_injury_counts_top = shark_victim_injury_counts.loc[\n",
    "        shark_victim_injury_counts[\"shark_common_name\"].isin(\n",
    "            shark_victim_injury_counts[\"shark_common_name\"].unique()[:7]\n",
    "        )\n",
    "    ]\n",
    "    shark_victim_injury_counts_others = shark_victim_injury_counts.loc[\n",
    "        ~shark_victim_injury_counts[\"shark_common_name\"].isin(\n",
    "            shark_victim_injury_counts[\"shark_common_name\"].unique()[:7]\n",
    "        )\n",
    "    ]\n",
    "\n",
    "    others_fatal_count = shark_victim_injury_counts_others.loc[\n",
    "        shark_victim_injury_counts_others[\"victim_injury\"] == \"fatal\"\n",
    "    ][\"count\"].sum()\n",
    "    others_injured_count = shark_victim_injury_counts_others.loc[\n",
    "        shark_victim_injury_counts_others[\"victim_injury\"] == \"injured\"\n",
    "    ][\"count\"].sum()\n",
    "    others_uninjured_count = shark_victim_injury_counts_others.loc[\n",
    "        shark_victim_injury_counts_others[\"victim_injury\"] == \"uninjured\"\n",
    "    ][\"count\"].sum()\n",
    "    others_unknown_count = shark_victim_injury_counts_others.loc[\n",
    "        shark_victim_injury_counts_others[\"victim_injury\"] == \"unknown\"\n",
    "    ][\"count\"].sum()\n",
    "    total_sum = shark_victim_injury_counts_others[\"count\"].sum()\n",
    "\n",
    "    num_others = shark_victim_injury_counts_others[\n",
    "        \"shark_common_name\"\n",
    "    ].nunique()\n",
    "\n",
    "    shark_victim_injury_counts_others = pd.DataFrame(\n",
    "        {\n",
    "            \"shark_common_name\": [\n",
    "                f\"others: {num_others} types\",\n",
    "                f\"others: {num_others} types\",\n",
    "                f\"others: {num_others} types\",\n",
    "            ],\n",
    "            \"victim_injury\": [\"injured\", \"uninjured\", \"unknown\"],\n",
    "            \"count\": [\n",
    "                others_injured_count,\n",
    "                others_uninjured_count,\n",
    "                others_unknown_count,\n",
    "            ],\n",
    "            \"total_sum\": [total_sum, total_sum, total_sum],\n",
    "        }\n",
    "    )\n",
    "\n",
    "    shark_victim_injury_counts = pd.concat(\n",
    "        [shark_victim_injury_counts_top, shark_victim_injury_counts_others]\n",
    "    ).reset_index(drop=True)\n",
    "\n",
    "    shark_victim_injury_counts[\"total_sum_text\"] = shark_victim_injury_counts[\n",
    "        \"total_sum\"\n",
    "    ].astype(str)\n",
    "\n",
    "    return shark_victim_injury_counts"
   ]
  },
  {
   "cell_type": "code",
   "execution_count": 109,
   "metadata": {},
   "outputs": [],
   "source": [
    "def create_incident_by_shark_chart(df):\n",
    "    \"\"\"\n",
    "    Creates a bar chart showing shark incidents by type of injury, grouping less common sharks into 'others'.\n",
    "\n",
    "    Parameters:\n",
    "        df (pd.DataFrame): The input DataFrame containing shark data.\n",
    "\n",
    "    Returns:\n",
    "        px.bar: The Plotly bar chart figure.\n",
    "    \"\"\"\n",
    "    shark_victim_injury_counts = get_shark_victim_injuries(df)\n",
    "    bar_graph = px.bar(\n",
    "        shark_victim_injury_counts,\n",
    "        x=\"shark_common_name\",\n",
    "        y=\"count\",\n",
    "        color=\"victim_injury\",\n",
    "        title=\"Shark Incidents by Type of Injury\",\n",
    "        labels={\n",
    "            \"shark_common_name\": \"Shark Type\",\n",
    "            \"count\": \"Number of Incidents\",\n",
    "            \"victim_injury\": \"Type of Injury\",\n",
    "        },\n",
    "        barmode=\"group\",\n",
    "        color_discrete_sequence=[\"#ab47bc\", \"#7e57c2\", \"#26a69a\", \"#8d6e63\"],\n",
    "    )\n",
    "\n",
    "    bar_graph.update_traces(textposition=\"none\")\n",
    "    bar_graph.update_layout(\n",
    "        font=dict(color=\"#00796b\", size=14),\n",
    "        plot_bgcolor=\"rgba(0,0,0,0)\",\n",
    "        paper_bgcolor=\"rgba(0,0,0,0)\",\n",
    "        xaxis_title=\"Shark Type\",\n",
    "        yaxis_title=\"Number of Incidents\",\n",
    "        showlegend=True,\n",
    "        height=750,\n",
    "        width=1000,\n",
    "    )\n",
    "\n",
    "    annotations = []\n",
    "    for _, row in (\n",
    "        shark_victim_injury_counts.groupby(\"shark_common_name\")\n",
    "        .first()\n",
    "        .iterrows()\n",
    "    ):\n",
    "        annotations.append(\n",
    "            dict(\n",
    "                x=row.name,\n",
    "                y=-5,\n",
    "                text=f\"Total: {row['total_sum']}\",\n",
    "                showarrow=False,\n",
    "                font=dict(color=\"#00796b\", size=12),\n",
    "                xanchor=\"center\",\n",
    "                yanchor=\"top\",\n",
    "            )\n",
    "        )\n",
    "\n",
    "    bar_graph.update_layout(annotations=annotations)\n",
    "\n",
    "    return bar_graph"
   ]
  },
  {
   "cell_type": "code",
   "execution_count": 110,
   "metadata": {},
   "outputs": [
    {
     "data": {
      "application/vnd.plotly.v1+json": {
       "config": {
        "plotlyServerURL": "https://plot.ly"
       },
       "data": [
        {
         "alignmentgroup": "True",
         "hovertemplate": "Type of Injury=uninjured<br>Shark Type=%{x}<br>Number of Incidents=%{y}<extra></extra>",
         "legendgroup": "uninjured",
         "marker": {
          "color": "#ab47bc",
          "pattern": {
           "shape": ""
          }
         },
         "name": "uninjured",
         "offsetgroup": "uninjured",
         "orientation": "v",
         "showlegend": true,
         "textposition": "none",
         "type": "bar",
         "x": [
          "white shark",
          "tiger shark",
          "wobbegong",
          "bull shark",
          "whaler shark",
          "shark_not_known",
          "bronze whaler shark",
          "others: 18 types"
         ],
         "xaxis": "x",
         "y": [
          106,
          28,
          10,
          28,
          21,
          11,
          13,
          12
         ],
         "yaxis": "y"
        },
        {
         "alignmentgroup": "True",
         "hovertemplate": "Type of Injury=fatal<br>Shark Type=%{x}<br>Number of Incidents=%{y}<extra></extra>",
         "legendgroup": "fatal",
         "marker": {
          "color": "#7e57c2",
          "pattern": {
           "shape": ""
          }
         },
         "name": "fatal",
         "offsetgroup": "fatal",
         "orientation": "v",
         "showlegend": true,
         "textposition": "none",
         "type": "bar",
         "x": [
          "white shark",
          "tiger shark",
          "bull shark",
          "whaler shark",
          "shark_not_known"
         ],
         "xaxis": "x",
         "y": [
          94,
          86,
          64,
          6,
          5
         ],
         "yaxis": "y"
        },
        {
         "alignmentgroup": "True",
         "hovertemplate": "Type of Injury=injured<br>Shark Type=%{x}<br>Number of Incidents=%{y}<extra></extra>",
         "legendgroup": "injured",
         "marker": {
          "color": "#26a69a",
          "pattern": {
           "shape": ""
          }
         },
         "name": "injured",
         "offsetgroup": "injured",
         "orientation": "v",
         "showlegend": true,
         "textposition": "none",
         "type": "bar",
         "x": [
          "white shark",
          "tiger shark",
          "wobbegong",
          "bull shark",
          "whaler shark",
          "shark_not_known",
          "bronze whaler shark",
          "others: 18 types"
         ],
         "xaxis": "x",
         "y": [
          171,
          116,
          193,
          110,
          49,
          41,
          16,
          52
         ],
         "yaxis": "y"
        },
        {
         "alignmentgroup": "True",
         "hovertemplate": "Type of Injury=unknown<br>Shark Type=%{x}<br>Number of Incidents=%{y}<extra></extra>",
         "legendgroup": "unknown",
         "marker": {
          "color": "#8d6e63",
          "pattern": {
           "shape": ""
          }
         },
         "name": "unknown",
         "offsetgroup": "unknown",
         "orientation": "v",
         "showlegend": true,
         "textposition": "none",
         "type": "bar",
         "x": [
          "others: 18 types"
         ],
         "xaxis": "x",
         "y": [
          1
         ],
         "yaxis": "y"
        }
       ],
       "layout": {
        "annotations": [
         {
          "font": {
           "color": "#00796b",
           "size": 12
          },
          "showarrow": false,
          "text": "Total: 29",
          "x": "bronze whaler shark",
          "xanchor": "center",
          "y": -5,
          "yanchor": "top"
         },
         {
          "font": {
           "color": "#00796b",
           "size": 12
          },
          "showarrow": false,
          "text": "Total: 202",
          "x": "bull shark",
          "xanchor": "center",
          "y": -5,
          "yanchor": "top"
         },
         {
          "font": {
           "color": "#00796b",
           "size": 12
          },
          "showarrow": false,
          "text": "Total: 65",
          "x": "others: 18 types",
          "xanchor": "center",
          "y": -5,
          "yanchor": "top"
         },
         {
          "font": {
           "color": "#00796b",
           "size": 12
          },
          "showarrow": false,
          "text": "Total: 57",
          "x": "shark_not_known",
          "xanchor": "center",
          "y": -5,
          "yanchor": "top"
         },
         {
          "font": {
           "color": "#00796b",
           "size": 12
          },
          "showarrow": false,
          "text": "Total: 230",
          "x": "tiger shark",
          "xanchor": "center",
          "y": -5,
          "yanchor": "top"
         },
         {
          "font": {
           "color": "#00796b",
           "size": 12
          },
          "showarrow": false,
          "text": "Total: 76",
          "x": "whaler shark",
          "xanchor": "center",
          "y": -5,
          "yanchor": "top"
         },
         {
          "font": {
           "color": "#00796b",
           "size": 12
          },
          "showarrow": false,
          "text": "Total: 371",
          "x": "white shark",
          "xanchor": "center",
          "y": -5,
          "yanchor": "top"
         },
         {
          "font": {
           "color": "#00796b",
           "size": 12
          },
          "showarrow": false,
          "text": "Total: 203",
          "x": "wobbegong",
          "xanchor": "center",
          "y": -5,
          "yanchor": "top"
         }
        ],
        "barmode": "group",
        "font": {
         "color": "#00796b",
         "size": 14
        },
        "height": 750,
        "legend": {
         "title": {
          "text": "Type of Injury"
         },
         "tracegroupgap": 0
        },
        "paper_bgcolor": "rgba(0,0,0,0)",
        "plot_bgcolor": "rgba(0,0,0,0)",
        "showlegend": true,
        "template": {
         "data": {
          "bar": [
           {
            "error_x": {
             "color": "#2a3f5f"
            },
            "error_y": {
             "color": "#2a3f5f"
            },
            "marker": {
             "line": {
              "color": "#E5ECF6",
              "width": 0.5
             },
             "pattern": {
              "fillmode": "overlay",
              "size": 10,
              "solidity": 0.2
             }
            },
            "type": "bar"
           }
          ],
          "barpolar": [
           {
            "marker": {
             "line": {
              "color": "#E5ECF6",
              "width": 0.5
             },
             "pattern": {
              "fillmode": "overlay",
              "size": 10,
              "solidity": 0.2
             }
            },
            "type": "barpolar"
           }
          ],
          "carpet": [
           {
            "aaxis": {
             "endlinecolor": "#2a3f5f",
             "gridcolor": "white",
             "linecolor": "white",
             "minorgridcolor": "white",
             "startlinecolor": "#2a3f5f"
            },
            "baxis": {
             "endlinecolor": "#2a3f5f",
             "gridcolor": "white",
             "linecolor": "white",
             "minorgridcolor": "white",
             "startlinecolor": "#2a3f5f"
            },
            "type": "carpet"
           }
          ],
          "choropleth": [
           {
            "colorbar": {
             "outlinewidth": 0,
             "ticks": ""
            },
            "type": "choropleth"
           }
          ],
          "contour": [
           {
            "colorbar": {
             "outlinewidth": 0,
             "ticks": ""
            },
            "colorscale": [
             [
              0,
              "#0d0887"
             ],
             [
              0.1111111111111111,
              "#46039f"
             ],
             [
              0.2222222222222222,
              "#7201a8"
             ],
             [
              0.3333333333333333,
              "#9c179e"
             ],
             [
              0.4444444444444444,
              "#bd3786"
             ],
             [
              0.5555555555555556,
              "#d8576b"
             ],
             [
              0.6666666666666666,
              "#ed7953"
             ],
             [
              0.7777777777777778,
              "#fb9f3a"
             ],
             [
              0.8888888888888888,
              "#fdca26"
             ],
             [
              1,
              "#f0f921"
             ]
            ],
            "type": "contour"
           }
          ],
          "contourcarpet": [
           {
            "colorbar": {
             "outlinewidth": 0,
             "ticks": ""
            },
            "type": "contourcarpet"
           }
          ],
          "heatmap": [
           {
            "colorbar": {
             "outlinewidth": 0,
             "ticks": ""
            },
            "colorscale": [
             [
              0,
              "#0d0887"
             ],
             [
              0.1111111111111111,
              "#46039f"
             ],
             [
              0.2222222222222222,
              "#7201a8"
             ],
             [
              0.3333333333333333,
              "#9c179e"
             ],
             [
              0.4444444444444444,
              "#bd3786"
             ],
             [
              0.5555555555555556,
              "#d8576b"
             ],
             [
              0.6666666666666666,
              "#ed7953"
             ],
             [
              0.7777777777777778,
              "#fb9f3a"
             ],
             [
              0.8888888888888888,
              "#fdca26"
             ],
             [
              1,
              "#f0f921"
             ]
            ],
            "type": "heatmap"
           }
          ],
          "heatmapgl": [
           {
            "colorbar": {
             "outlinewidth": 0,
             "ticks": ""
            },
            "colorscale": [
             [
              0,
              "#0d0887"
             ],
             [
              0.1111111111111111,
              "#46039f"
             ],
             [
              0.2222222222222222,
              "#7201a8"
             ],
             [
              0.3333333333333333,
              "#9c179e"
             ],
             [
              0.4444444444444444,
              "#bd3786"
             ],
             [
              0.5555555555555556,
              "#d8576b"
             ],
             [
              0.6666666666666666,
              "#ed7953"
             ],
             [
              0.7777777777777778,
              "#fb9f3a"
             ],
             [
              0.8888888888888888,
              "#fdca26"
             ],
             [
              1,
              "#f0f921"
             ]
            ],
            "type": "heatmapgl"
           }
          ],
          "histogram": [
           {
            "marker": {
             "pattern": {
              "fillmode": "overlay",
              "size": 10,
              "solidity": 0.2
             }
            },
            "type": "histogram"
           }
          ],
          "histogram2d": [
           {
            "colorbar": {
             "outlinewidth": 0,
             "ticks": ""
            },
            "colorscale": [
             [
              0,
              "#0d0887"
             ],
             [
              0.1111111111111111,
              "#46039f"
             ],
             [
              0.2222222222222222,
              "#7201a8"
             ],
             [
              0.3333333333333333,
              "#9c179e"
             ],
             [
              0.4444444444444444,
              "#bd3786"
             ],
             [
              0.5555555555555556,
              "#d8576b"
             ],
             [
              0.6666666666666666,
              "#ed7953"
             ],
             [
              0.7777777777777778,
              "#fb9f3a"
             ],
             [
              0.8888888888888888,
              "#fdca26"
             ],
             [
              1,
              "#f0f921"
             ]
            ],
            "type": "histogram2d"
           }
          ],
          "histogram2dcontour": [
           {
            "colorbar": {
             "outlinewidth": 0,
             "ticks": ""
            },
            "colorscale": [
             [
              0,
              "#0d0887"
             ],
             [
              0.1111111111111111,
              "#46039f"
             ],
             [
              0.2222222222222222,
              "#7201a8"
             ],
             [
              0.3333333333333333,
              "#9c179e"
             ],
             [
              0.4444444444444444,
              "#bd3786"
             ],
             [
              0.5555555555555556,
              "#d8576b"
             ],
             [
              0.6666666666666666,
              "#ed7953"
             ],
             [
              0.7777777777777778,
              "#fb9f3a"
             ],
             [
              0.8888888888888888,
              "#fdca26"
             ],
             [
              1,
              "#f0f921"
             ]
            ],
            "type": "histogram2dcontour"
           }
          ],
          "mesh3d": [
           {
            "colorbar": {
             "outlinewidth": 0,
             "ticks": ""
            },
            "type": "mesh3d"
           }
          ],
          "parcoords": [
           {
            "line": {
             "colorbar": {
              "outlinewidth": 0,
              "ticks": ""
             }
            },
            "type": "parcoords"
           }
          ],
          "pie": [
           {
            "automargin": true,
            "type": "pie"
           }
          ],
          "scatter": [
           {
            "fillpattern": {
             "fillmode": "overlay",
             "size": 10,
             "solidity": 0.2
            },
            "type": "scatter"
           }
          ],
          "scatter3d": [
           {
            "line": {
             "colorbar": {
              "outlinewidth": 0,
              "ticks": ""
             }
            },
            "marker": {
             "colorbar": {
              "outlinewidth": 0,
              "ticks": ""
             }
            },
            "type": "scatter3d"
           }
          ],
          "scattercarpet": [
           {
            "marker": {
             "colorbar": {
              "outlinewidth": 0,
              "ticks": ""
             }
            },
            "type": "scattercarpet"
           }
          ],
          "scattergeo": [
           {
            "marker": {
             "colorbar": {
              "outlinewidth": 0,
              "ticks": ""
             }
            },
            "type": "scattergeo"
           }
          ],
          "scattergl": [
           {
            "marker": {
             "colorbar": {
              "outlinewidth": 0,
              "ticks": ""
             }
            },
            "type": "scattergl"
           }
          ],
          "scattermapbox": [
           {
            "marker": {
             "colorbar": {
              "outlinewidth": 0,
              "ticks": ""
             }
            },
            "type": "scattermapbox"
           }
          ],
          "scatterpolar": [
           {
            "marker": {
             "colorbar": {
              "outlinewidth": 0,
              "ticks": ""
             }
            },
            "type": "scatterpolar"
           }
          ],
          "scatterpolargl": [
           {
            "marker": {
             "colorbar": {
              "outlinewidth": 0,
              "ticks": ""
             }
            },
            "type": "scatterpolargl"
           }
          ],
          "scatterternary": [
           {
            "marker": {
             "colorbar": {
              "outlinewidth": 0,
              "ticks": ""
             }
            },
            "type": "scatterternary"
           }
          ],
          "surface": [
           {
            "colorbar": {
             "outlinewidth": 0,
             "ticks": ""
            },
            "colorscale": [
             [
              0,
              "#0d0887"
             ],
             [
              0.1111111111111111,
              "#46039f"
             ],
             [
              0.2222222222222222,
              "#7201a8"
             ],
             [
              0.3333333333333333,
              "#9c179e"
             ],
             [
              0.4444444444444444,
              "#bd3786"
             ],
             [
              0.5555555555555556,
              "#d8576b"
             ],
             [
              0.6666666666666666,
              "#ed7953"
             ],
             [
              0.7777777777777778,
              "#fb9f3a"
             ],
             [
              0.8888888888888888,
              "#fdca26"
             ],
             [
              1,
              "#f0f921"
             ]
            ],
            "type": "surface"
           }
          ],
          "table": [
           {
            "cells": {
             "fill": {
              "color": "#EBF0F8"
             },
             "line": {
              "color": "white"
             }
            },
            "header": {
             "fill": {
              "color": "#C8D4E3"
             },
             "line": {
              "color": "white"
             }
            },
            "type": "table"
           }
          ]
         },
         "layout": {
          "annotationdefaults": {
           "arrowcolor": "#2a3f5f",
           "arrowhead": 0,
           "arrowwidth": 1
          },
          "autotypenumbers": "strict",
          "coloraxis": {
           "colorbar": {
            "outlinewidth": 0,
            "ticks": ""
           }
          },
          "colorscale": {
           "diverging": [
            [
             0,
             "#8e0152"
            ],
            [
             0.1,
             "#c51b7d"
            ],
            [
             0.2,
             "#de77ae"
            ],
            [
             0.3,
             "#f1b6da"
            ],
            [
             0.4,
             "#fde0ef"
            ],
            [
             0.5,
             "#f7f7f7"
            ],
            [
             0.6,
             "#e6f5d0"
            ],
            [
             0.7,
             "#b8e186"
            ],
            [
             0.8,
             "#7fbc41"
            ],
            [
             0.9,
             "#4d9221"
            ],
            [
             1,
             "#276419"
            ]
           ],
           "sequential": [
            [
             0,
             "#0d0887"
            ],
            [
             0.1111111111111111,
             "#46039f"
            ],
            [
             0.2222222222222222,
             "#7201a8"
            ],
            [
             0.3333333333333333,
             "#9c179e"
            ],
            [
             0.4444444444444444,
             "#bd3786"
            ],
            [
             0.5555555555555556,
             "#d8576b"
            ],
            [
             0.6666666666666666,
             "#ed7953"
            ],
            [
             0.7777777777777778,
             "#fb9f3a"
            ],
            [
             0.8888888888888888,
             "#fdca26"
            ],
            [
             1,
             "#f0f921"
            ]
           ],
           "sequentialminus": [
            [
             0,
             "#0d0887"
            ],
            [
             0.1111111111111111,
             "#46039f"
            ],
            [
             0.2222222222222222,
             "#7201a8"
            ],
            [
             0.3333333333333333,
             "#9c179e"
            ],
            [
             0.4444444444444444,
             "#bd3786"
            ],
            [
             0.5555555555555556,
             "#d8576b"
            ],
            [
             0.6666666666666666,
             "#ed7953"
            ],
            [
             0.7777777777777778,
             "#fb9f3a"
            ],
            [
             0.8888888888888888,
             "#fdca26"
            ],
            [
             1,
             "#f0f921"
            ]
           ]
          },
          "colorway": [
           "#636efa",
           "#EF553B",
           "#00cc96",
           "#ab63fa",
           "#FFA15A",
           "#19d3f3",
           "#FF6692",
           "#B6E880",
           "#FF97FF",
           "#FECB52"
          ],
          "font": {
           "color": "#2a3f5f"
          },
          "geo": {
           "bgcolor": "white",
           "lakecolor": "white",
           "landcolor": "#E5ECF6",
           "showlakes": true,
           "showland": true,
           "subunitcolor": "white"
          },
          "hoverlabel": {
           "align": "left"
          },
          "hovermode": "closest",
          "mapbox": {
           "style": "light"
          },
          "paper_bgcolor": "white",
          "plot_bgcolor": "#E5ECF6",
          "polar": {
           "angularaxis": {
            "gridcolor": "white",
            "linecolor": "white",
            "ticks": ""
           },
           "bgcolor": "#E5ECF6",
           "radialaxis": {
            "gridcolor": "white",
            "linecolor": "white",
            "ticks": ""
           }
          },
          "scene": {
           "xaxis": {
            "backgroundcolor": "#E5ECF6",
            "gridcolor": "white",
            "gridwidth": 2,
            "linecolor": "white",
            "showbackground": true,
            "ticks": "",
            "zerolinecolor": "white"
           },
           "yaxis": {
            "backgroundcolor": "#E5ECF6",
            "gridcolor": "white",
            "gridwidth": 2,
            "linecolor": "white",
            "showbackground": true,
            "ticks": "",
            "zerolinecolor": "white"
           },
           "zaxis": {
            "backgroundcolor": "#E5ECF6",
            "gridcolor": "white",
            "gridwidth": 2,
            "linecolor": "white",
            "showbackground": true,
            "ticks": "",
            "zerolinecolor": "white"
           }
          },
          "shapedefaults": {
           "line": {
            "color": "#2a3f5f"
           }
          },
          "ternary": {
           "aaxis": {
            "gridcolor": "white",
            "linecolor": "white",
            "ticks": ""
           },
           "baxis": {
            "gridcolor": "white",
            "linecolor": "white",
            "ticks": ""
           },
           "bgcolor": "#E5ECF6",
           "caxis": {
            "gridcolor": "white",
            "linecolor": "white",
            "ticks": ""
           }
          },
          "title": {
           "x": 0.05
          },
          "xaxis": {
           "automargin": true,
           "gridcolor": "white",
           "linecolor": "white",
           "ticks": "",
           "title": {
            "standoff": 15
           },
           "zerolinecolor": "white",
           "zerolinewidth": 2
          },
          "yaxis": {
           "automargin": true,
           "gridcolor": "white",
           "linecolor": "white",
           "ticks": "",
           "title": {
            "standoff": 15
           },
           "zerolinecolor": "white",
           "zerolinewidth": 2
          }
         }
        },
        "title": {
         "text": "Shark Incidents by Type of Injury"
        },
        "width": 1000,
        "xaxis": {
         "anchor": "y",
         "domain": [
          0,
          1
         ],
         "title": {
          "text": "Shark Type"
         }
        },
        "yaxis": {
         "anchor": "x",
         "domain": [
          0,
          1
         ],
         "title": {
          "text": "Number of Incidents"
         }
        }
       }
      }
     },
     "metadata": {},
     "output_type": "display_data"
    }
   ],
   "source": [
    "create_incident_by_shark_chart(shark_data)"
   ]
  },
  {
   "cell_type": "code",
   "execution_count": 118,
   "metadata": {},
   "outputs": [],
   "source": [
    "def create_grouped_bar_chart(\n",
    "    df, x_col, color_col, title, x_label, color_label\n",
    "):\n",
    "    \"\"\"\n",
    "    Creates a generic grouped bar chart.\n",
    "\n",
    "    Parameters:\n",
    "        df (pd.DataFrame): The input DataFrame containing data.\n",
    "        x_col (str): The column to use for the x-axis.\n",
    "        color_col (str): The column to use for bar colors.\n",
    "        title (str): The title of the chart.\n",
    "        x_label (str): The label for the x-axis.\n",
    "        color_label (str): The label for the bar colors.\n",
    "\n",
    "    Returns:\n",
    "        go.Figure: The Plotly bar chart figure.\n",
    "    \"\"\"\n",
    "    count_data = (\n",
    "        df.groupby([x_col, color_col]).size().reset_index(name=\"count\")\n",
    "    )\n",
    "\n",
    "    bar_graph = px.bar(\n",
    "        count_data,\n",
    "        x=x_col,\n",
    "        y=\"count\",\n",
    "        color=color_col,\n",
    "        barmode=\"group\",\n",
    "        title=title,\n",
    "        labels={\n",
    "            x_col: x_label,\n",
    "            \"count\": \"Number of Incidents\",\n",
    "            color_col: color_label,\n",
    "        },\n",
    "        color_discrete_sequence=px.colors.qualitative.Safe,\n",
    "        width=1200,\n",
    "        height=800,\n",
    "    )\n",
    "\n",
    "    bar_graph.update_layout(\n",
    "        paper_bgcolor=\"rgba(0,0,0,0)\",\n",
    "        plot_bgcolor=\"rgba(0,0,0,0)\",\n",
    "        font_color=\"white\",\n",
    "        title_font=dict(size=20),\n",
    "        bargap=0.2,\n",
    "        bargroupgap=0.1,\n",
    "        legend=dict(\n",
    "            font=dict(size=12),\n",
    "            bgcolor=\"rgba(0,0,0,0)\",\n",
    "            borderwidth=0,\n",
    "        ),\n",
    "    )\n",
    "\n",
    "    bar_graph.update_traces(\n",
    "        width=None,\n",
    "        texttemplate=\"%{y}\",\n",
    "        textposition=\"outside\",\n",
    "        textfont_size=12,\n",
    "    )\n",
    "\n",
    "    return bar_graph"
   ]
  },
  {
   "cell_type": "code",
   "execution_count": 120,
   "metadata": {},
   "outputs": [
    {
     "data": {
      "application/vnd.plotly.v1+json": {
       "config": {
        "plotlyServerURL": "https://plot.ly"
       },
       "data": [
        {
         "alignmentgroup": "True",
         "hovertemplate": "Severity=abrasion<br>Site Category=%{x}<br>Number of Incidents=%{y}<extra></extra>",
         "legendgroup": "abrasion",
         "marker": {
          "color": "rgb(136, 204, 238)",
          "pattern": {
           "shape": ""
          }
         },
         "name": "abrasion",
         "offsetgroup": "abrasion",
         "orientation": "v",
         "showlegend": true,
         "textfont": {
          "size": 12
         },
         "textposition": "outside",
         "texttemplate": "%{y}",
         "type": "bar",
         "x": [
          "coastal",
          "estuary_harbour",
          "island_open_ocean",
          "ocean_pelagic",
          "river"
         ],
         "xaxis": "x",
         "y": [
          20,
          4,
          6,
          1,
          4
         ],
         "yaxis": "y"
        },
        {
         "alignmentgroup": "True",
         "hovertemplate": "Severity=fatality<br>Site Category=%{x}<br>Number of Incidents=%{y}<extra></extra>",
         "legendgroup": "fatality",
         "marker": {
          "color": "rgb(204, 102, 119)",
          "pattern": {
           "shape": ""
          }
         },
         "name": "fatality",
         "offsetgroup": "fatality",
         "orientation": "v",
         "showlegend": true,
         "textfont": {
          "size": 12
         },
         "textposition": "outside",
         "texttemplate": "%{y}",
         "type": "bar",
         "x": [
          "coastal",
          "river"
         ],
         "xaxis": "x",
         "y": [
          3,
          1
         ],
         "yaxis": "y"
        },
        {
         "alignmentgroup": "True",
         "hovertemplate": "Severity=lacerations<br>Site Category=%{x}<br>Number of Incidents=%{y}<extra></extra>",
         "legendgroup": "lacerations",
         "marker": {
          "color": "rgb(221, 204, 119)",
          "pattern": {
           "shape": ""
          }
         },
         "name": "lacerations",
         "offsetgroup": "lacerations",
         "orientation": "v",
         "showlegend": true,
         "textfont": {
          "size": 12
         },
         "textposition": "outside",
         "texttemplate": "%{y}",
         "type": "bar",
         "x": [
          "coastal"
         ],
         "xaxis": "x",
         "y": [
          2
         ],
         "yaxis": "y"
        },
        {
         "alignmentgroup": "True",
         "hovertemplate": "Severity=major_lacerations<br>Site Category=%{x}<br>Number of Incidents=%{y}<extra></extra>",
         "legendgroup": "major_lacerations",
         "marker": {
          "color": "rgb(17, 119, 51)",
          "pattern": {
           "shape": ""
          }
         },
         "name": "major_lacerations",
         "offsetgroup": "major_lacerations",
         "orientation": "v",
         "showlegend": true,
         "textfont": {
          "size": 12
         },
         "textposition": "outside",
         "texttemplate": "%{y}",
         "type": "bar",
         "x": [
          "coastal",
          "estuary_harbour",
          "island_open_ocean",
          "ocean_pelagic",
          "river"
         ],
         "xaxis": "x",
         "y": [
          223,
          53,
          77,
          9,
          35
         ],
         "yaxis": "y"
        },
        {
         "alignmentgroup": "True",
         "hovertemplate": "Severity=minor_lacerations<br>Site Category=%{x}<br>Number of Incidents=%{y}<extra></extra>",
         "legendgroup": "minor_lacerations",
         "marker": {
          "color": "rgb(51, 34, 136)",
          "pattern": {
           "shape": ""
          }
         },
         "name": "minor_lacerations",
         "offsetgroup": "minor_lacerations",
         "orientation": "v",
         "showlegend": true,
         "textfont": {
          "size": 12
         },
         "textposition": "outside",
         "texttemplate": "%{y}",
         "type": "bar",
         "x": [
          "coastal",
          "estuary_harbour",
          "island_open_ocean",
          "ocean_pelagic",
          "river"
         ],
         "xaxis": "x",
         "y": [
          236,
          23,
          34,
          8,
          31
         ],
         "yaxis": "y"
        },
        {
         "alignmentgroup": "True",
         "hovertemplate": "Severity=other_teeth_marks<br>Site Category=%{x}<br>Number of Incidents=%{y}<extra></extra>",
         "legendgroup": "other_teeth_marks",
         "marker": {
          "color": "rgb(170, 68, 153)",
          "pattern": {
           "shape": ""
          }
         },
         "name": "other_teeth_marks",
         "offsetgroup": "other_teeth_marks",
         "orientation": "v",
         "showlegend": true,
         "textfont": {
          "size": 12
         },
         "textposition": "outside",
         "texttemplate": "%{y}",
         "type": "bar",
         "x": [
          "coastal",
          "estuary_harbour",
          "island_open_ocean",
          "ocean_pelagic",
          "river"
         ],
         "xaxis": "x",
         "y": [
          67,
          4,
          13,
          1,
          4
         ],
         "yaxis": "y"
        },
        {
         "alignmentgroup": "True",
         "hovertemplate": "Severity=punctures<br>Site Category=%{x}<br>Number of Incidents=%{y}<extra></extra>",
         "legendgroup": "punctures",
         "marker": {
          "color": "rgb(68, 170, 153)",
          "pattern": {
           "shape": ""
          }
         },
         "name": "punctures",
         "offsetgroup": "punctures",
         "orientation": "v",
         "showlegend": true,
         "textfont": {
          "size": 12
         },
         "textposition": "outside",
         "texttemplate": "%{y}",
         "type": "bar",
         "x": [
          "coastal"
         ],
         "xaxis": "x",
         "y": [
          3
         ],
         "yaxis": "y"
        },
        {
         "alignmentgroup": "True",
         "hovertemplate": "Severity=surface_wound<br>Site Category=%{x}<br>Number of Incidents=%{y}<extra></extra>",
         "legendgroup": "surface_wound",
         "marker": {
          "color": "rgb(153, 153, 51)",
          "pattern": {
           "shape": ""
          }
         },
         "name": "surface_wound",
         "offsetgroup": "surface_wound",
         "orientation": "v",
         "showlegend": true,
         "textfont": {
          "size": 12
         },
         "textposition": "outside",
         "texttemplate": "%{y}",
         "type": "bar",
         "x": [
          "coastal",
          "island_open_ocean",
          "river"
         ],
         "xaxis": "x",
         "y": [
          7,
          2,
          1
         ],
         "yaxis": "y"
        }
       ],
       "layout": {
        "bargap": 0.2,
        "bargroupgap": 0.1,
        "barmode": "group",
        "font": {
         "color": "white"
        },
        "height": 800,
        "legend": {
         "bgcolor": "rgba(0,0,0,0)",
         "borderwidth": 0,
         "font": {
          "size": 12
         },
         "title": {
          "text": "Severity"
         },
         "tracegroupgap": 0
        },
        "paper_bgcolor": "rgba(0,0,0,0)",
        "plot_bgcolor": "rgba(0,0,0,0)",
        "template": {
         "data": {
          "bar": [
           {
            "error_x": {
             "color": "#2a3f5f"
            },
            "error_y": {
             "color": "#2a3f5f"
            },
            "marker": {
             "line": {
              "color": "#E5ECF6",
              "width": 0.5
             },
             "pattern": {
              "fillmode": "overlay",
              "size": 10,
              "solidity": 0.2
             }
            },
            "type": "bar"
           }
          ],
          "barpolar": [
           {
            "marker": {
             "line": {
              "color": "#E5ECF6",
              "width": 0.5
             },
             "pattern": {
              "fillmode": "overlay",
              "size": 10,
              "solidity": 0.2
             }
            },
            "type": "barpolar"
           }
          ],
          "carpet": [
           {
            "aaxis": {
             "endlinecolor": "#2a3f5f",
             "gridcolor": "white",
             "linecolor": "white",
             "minorgridcolor": "white",
             "startlinecolor": "#2a3f5f"
            },
            "baxis": {
             "endlinecolor": "#2a3f5f",
             "gridcolor": "white",
             "linecolor": "white",
             "minorgridcolor": "white",
             "startlinecolor": "#2a3f5f"
            },
            "type": "carpet"
           }
          ],
          "choropleth": [
           {
            "colorbar": {
             "outlinewidth": 0,
             "ticks": ""
            },
            "type": "choropleth"
           }
          ],
          "contour": [
           {
            "colorbar": {
             "outlinewidth": 0,
             "ticks": ""
            },
            "colorscale": [
             [
              0,
              "#0d0887"
             ],
             [
              0.1111111111111111,
              "#46039f"
             ],
             [
              0.2222222222222222,
              "#7201a8"
             ],
             [
              0.3333333333333333,
              "#9c179e"
             ],
             [
              0.4444444444444444,
              "#bd3786"
             ],
             [
              0.5555555555555556,
              "#d8576b"
             ],
             [
              0.6666666666666666,
              "#ed7953"
             ],
             [
              0.7777777777777778,
              "#fb9f3a"
             ],
             [
              0.8888888888888888,
              "#fdca26"
             ],
             [
              1,
              "#f0f921"
             ]
            ],
            "type": "contour"
           }
          ],
          "contourcarpet": [
           {
            "colorbar": {
             "outlinewidth": 0,
             "ticks": ""
            },
            "type": "contourcarpet"
           }
          ],
          "heatmap": [
           {
            "colorbar": {
             "outlinewidth": 0,
             "ticks": ""
            },
            "colorscale": [
             [
              0,
              "#0d0887"
             ],
             [
              0.1111111111111111,
              "#46039f"
             ],
             [
              0.2222222222222222,
              "#7201a8"
             ],
             [
              0.3333333333333333,
              "#9c179e"
             ],
             [
              0.4444444444444444,
              "#bd3786"
             ],
             [
              0.5555555555555556,
              "#d8576b"
             ],
             [
              0.6666666666666666,
              "#ed7953"
             ],
             [
              0.7777777777777778,
              "#fb9f3a"
             ],
             [
              0.8888888888888888,
              "#fdca26"
             ],
             [
              1,
              "#f0f921"
             ]
            ],
            "type": "heatmap"
           }
          ],
          "heatmapgl": [
           {
            "colorbar": {
             "outlinewidth": 0,
             "ticks": ""
            },
            "colorscale": [
             [
              0,
              "#0d0887"
             ],
             [
              0.1111111111111111,
              "#46039f"
             ],
             [
              0.2222222222222222,
              "#7201a8"
             ],
             [
              0.3333333333333333,
              "#9c179e"
             ],
             [
              0.4444444444444444,
              "#bd3786"
             ],
             [
              0.5555555555555556,
              "#d8576b"
             ],
             [
              0.6666666666666666,
              "#ed7953"
             ],
             [
              0.7777777777777778,
              "#fb9f3a"
             ],
             [
              0.8888888888888888,
              "#fdca26"
             ],
             [
              1,
              "#f0f921"
             ]
            ],
            "type": "heatmapgl"
           }
          ],
          "histogram": [
           {
            "marker": {
             "pattern": {
              "fillmode": "overlay",
              "size": 10,
              "solidity": 0.2
             }
            },
            "type": "histogram"
           }
          ],
          "histogram2d": [
           {
            "colorbar": {
             "outlinewidth": 0,
             "ticks": ""
            },
            "colorscale": [
             [
              0,
              "#0d0887"
             ],
             [
              0.1111111111111111,
              "#46039f"
             ],
             [
              0.2222222222222222,
              "#7201a8"
             ],
             [
              0.3333333333333333,
              "#9c179e"
             ],
             [
              0.4444444444444444,
              "#bd3786"
             ],
             [
              0.5555555555555556,
              "#d8576b"
             ],
             [
              0.6666666666666666,
              "#ed7953"
             ],
             [
              0.7777777777777778,
              "#fb9f3a"
             ],
             [
              0.8888888888888888,
              "#fdca26"
             ],
             [
              1,
              "#f0f921"
             ]
            ],
            "type": "histogram2d"
           }
          ],
          "histogram2dcontour": [
           {
            "colorbar": {
             "outlinewidth": 0,
             "ticks": ""
            },
            "colorscale": [
             [
              0,
              "#0d0887"
             ],
             [
              0.1111111111111111,
              "#46039f"
             ],
             [
              0.2222222222222222,
              "#7201a8"
             ],
             [
              0.3333333333333333,
              "#9c179e"
             ],
             [
              0.4444444444444444,
              "#bd3786"
             ],
             [
              0.5555555555555556,
              "#d8576b"
             ],
             [
              0.6666666666666666,
              "#ed7953"
             ],
             [
              0.7777777777777778,
              "#fb9f3a"
             ],
             [
              0.8888888888888888,
              "#fdca26"
             ],
             [
              1,
              "#f0f921"
             ]
            ],
            "type": "histogram2dcontour"
           }
          ],
          "mesh3d": [
           {
            "colorbar": {
             "outlinewidth": 0,
             "ticks": ""
            },
            "type": "mesh3d"
           }
          ],
          "parcoords": [
           {
            "line": {
             "colorbar": {
              "outlinewidth": 0,
              "ticks": ""
             }
            },
            "type": "parcoords"
           }
          ],
          "pie": [
           {
            "automargin": true,
            "type": "pie"
           }
          ],
          "scatter": [
           {
            "fillpattern": {
             "fillmode": "overlay",
             "size": 10,
             "solidity": 0.2
            },
            "type": "scatter"
           }
          ],
          "scatter3d": [
           {
            "line": {
             "colorbar": {
              "outlinewidth": 0,
              "ticks": ""
             }
            },
            "marker": {
             "colorbar": {
              "outlinewidth": 0,
              "ticks": ""
             }
            },
            "type": "scatter3d"
           }
          ],
          "scattercarpet": [
           {
            "marker": {
             "colorbar": {
              "outlinewidth": 0,
              "ticks": ""
             }
            },
            "type": "scattercarpet"
           }
          ],
          "scattergeo": [
           {
            "marker": {
             "colorbar": {
              "outlinewidth": 0,
              "ticks": ""
             }
            },
            "type": "scattergeo"
           }
          ],
          "scattergl": [
           {
            "marker": {
             "colorbar": {
              "outlinewidth": 0,
              "ticks": ""
             }
            },
            "type": "scattergl"
           }
          ],
          "scattermapbox": [
           {
            "marker": {
             "colorbar": {
              "outlinewidth": 0,
              "ticks": ""
             }
            },
            "type": "scattermapbox"
           }
          ],
          "scatterpolar": [
           {
            "marker": {
             "colorbar": {
              "outlinewidth": 0,
              "ticks": ""
             }
            },
            "type": "scatterpolar"
           }
          ],
          "scatterpolargl": [
           {
            "marker": {
             "colorbar": {
              "outlinewidth": 0,
              "ticks": ""
             }
            },
            "type": "scatterpolargl"
           }
          ],
          "scatterternary": [
           {
            "marker": {
             "colorbar": {
              "outlinewidth": 0,
              "ticks": ""
             }
            },
            "type": "scatterternary"
           }
          ],
          "surface": [
           {
            "colorbar": {
             "outlinewidth": 0,
             "ticks": ""
            },
            "colorscale": [
             [
              0,
              "#0d0887"
             ],
             [
              0.1111111111111111,
              "#46039f"
             ],
             [
              0.2222222222222222,
              "#7201a8"
             ],
             [
              0.3333333333333333,
              "#9c179e"
             ],
             [
              0.4444444444444444,
              "#bd3786"
             ],
             [
              0.5555555555555556,
              "#d8576b"
             ],
             [
              0.6666666666666666,
              "#ed7953"
             ],
             [
              0.7777777777777778,
              "#fb9f3a"
             ],
             [
              0.8888888888888888,
              "#fdca26"
             ],
             [
              1,
              "#f0f921"
             ]
            ],
            "type": "surface"
           }
          ],
          "table": [
           {
            "cells": {
             "fill": {
              "color": "#EBF0F8"
             },
             "line": {
              "color": "white"
             }
            },
            "header": {
             "fill": {
              "color": "#C8D4E3"
             },
             "line": {
              "color": "white"
             }
            },
            "type": "table"
           }
          ]
         },
         "layout": {
          "annotationdefaults": {
           "arrowcolor": "#2a3f5f",
           "arrowhead": 0,
           "arrowwidth": 1
          },
          "autotypenumbers": "strict",
          "coloraxis": {
           "colorbar": {
            "outlinewidth": 0,
            "ticks": ""
           }
          },
          "colorscale": {
           "diverging": [
            [
             0,
             "#8e0152"
            ],
            [
             0.1,
             "#c51b7d"
            ],
            [
             0.2,
             "#de77ae"
            ],
            [
             0.3,
             "#f1b6da"
            ],
            [
             0.4,
             "#fde0ef"
            ],
            [
             0.5,
             "#f7f7f7"
            ],
            [
             0.6,
             "#e6f5d0"
            ],
            [
             0.7,
             "#b8e186"
            ],
            [
             0.8,
             "#7fbc41"
            ],
            [
             0.9,
             "#4d9221"
            ],
            [
             1,
             "#276419"
            ]
           ],
           "sequential": [
            [
             0,
             "#0d0887"
            ],
            [
             0.1111111111111111,
             "#46039f"
            ],
            [
             0.2222222222222222,
             "#7201a8"
            ],
            [
             0.3333333333333333,
             "#9c179e"
            ],
            [
             0.4444444444444444,
             "#bd3786"
            ],
            [
             0.5555555555555556,
             "#d8576b"
            ],
            [
             0.6666666666666666,
             "#ed7953"
            ],
            [
             0.7777777777777778,
             "#fb9f3a"
            ],
            [
             0.8888888888888888,
             "#fdca26"
            ],
            [
             1,
             "#f0f921"
            ]
           ],
           "sequentialminus": [
            [
             0,
             "#0d0887"
            ],
            [
             0.1111111111111111,
             "#46039f"
            ],
            [
             0.2222222222222222,
             "#7201a8"
            ],
            [
             0.3333333333333333,
             "#9c179e"
            ],
            [
             0.4444444444444444,
             "#bd3786"
            ],
            [
             0.5555555555555556,
             "#d8576b"
            ],
            [
             0.6666666666666666,
             "#ed7953"
            ],
            [
             0.7777777777777778,
             "#fb9f3a"
            ],
            [
             0.8888888888888888,
             "#fdca26"
            ],
            [
             1,
             "#f0f921"
            ]
           ]
          },
          "colorway": [
           "#636efa",
           "#EF553B",
           "#00cc96",
           "#ab63fa",
           "#FFA15A",
           "#19d3f3",
           "#FF6692",
           "#B6E880",
           "#FF97FF",
           "#FECB52"
          ],
          "font": {
           "color": "#2a3f5f"
          },
          "geo": {
           "bgcolor": "white",
           "lakecolor": "white",
           "landcolor": "#E5ECF6",
           "showlakes": true,
           "showland": true,
           "subunitcolor": "white"
          },
          "hoverlabel": {
           "align": "left"
          },
          "hovermode": "closest",
          "mapbox": {
           "style": "light"
          },
          "paper_bgcolor": "white",
          "plot_bgcolor": "#E5ECF6",
          "polar": {
           "angularaxis": {
            "gridcolor": "white",
            "linecolor": "white",
            "ticks": ""
           },
           "bgcolor": "#E5ECF6",
           "radialaxis": {
            "gridcolor": "white",
            "linecolor": "white",
            "ticks": ""
           }
          },
          "scene": {
           "xaxis": {
            "backgroundcolor": "#E5ECF6",
            "gridcolor": "white",
            "gridwidth": 2,
            "linecolor": "white",
            "showbackground": true,
            "ticks": "",
            "zerolinecolor": "white"
           },
           "yaxis": {
            "backgroundcolor": "#E5ECF6",
            "gridcolor": "white",
            "gridwidth": 2,
            "linecolor": "white",
            "showbackground": true,
            "ticks": "",
            "zerolinecolor": "white"
           },
           "zaxis": {
            "backgroundcolor": "#E5ECF6",
            "gridcolor": "white",
            "gridwidth": 2,
            "linecolor": "white",
            "showbackground": true,
            "ticks": "",
            "zerolinecolor": "white"
           }
          },
          "shapedefaults": {
           "line": {
            "color": "#2a3f5f"
           }
          },
          "ternary": {
           "aaxis": {
            "gridcolor": "white",
            "linecolor": "white",
            "ticks": ""
           },
           "baxis": {
            "gridcolor": "white",
            "linecolor": "white",
            "ticks": ""
           },
           "bgcolor": "#E5ECF6",
           "caxis": {
            "gridcolor": "white",
            "linecolor": "white",
            "ticks": ""
           }
          },
          "title": {
           "x": 0.05
          },
          "xaxis": {
           "automargin": true,
           "gridcolor": "white",
           "linecolor": "white",
           "ticks": "",
           "title": {
            "standoff": 15
           },
           "zerolinecolor": "white",
           "zerolinewidth": 2
          },
          "yaxis": {
           "automargin": true,
           "gridcolor": "white",
           "linecolor": "white",
           "ticks": "",
           "title": {
            "standoff": 15
           },
           "zerolinecolor": "white",
           "zerolinewidth": 2
          }
         }
        },
        "title": {
         "font": {
          "size": 20
         },
         "text": "Attack Severity by Site Category"
        },
        "width": 1200,
        "xaxis": {
         "anchor": "y",
         "domain": [
          0,
          1
         ],
         "title": {
          "text": "Site Category"
         }
        },
        "yaxis": {
         "anchor": "x",
         "domain": [
          0,
          1
         ],
         "title": {
          "text": "Number of Incidents"
         }
        }
       }
      }
     },
     "metadata": {},
     "output_type": "display_data"
    }
   ],
   "source": [
    "create_grouped_bar_chart(\n",
    "    df=shark_data,\n",
    "    x_col=\"site_category_cleaned\",\n",
    "    color_col=\"injury_severity\",\n",
    "    title=\"Attack Severity by Site Category\",\n",
    "    x_label=\"Site Category\",\n",
    "    color_label=\"Severity\",\n",
    ")"
   ]
  },
  {
   "cell_type": "code",
   "execution_count": 121,
   "metadata": {},
   "outputs": [
    {
     "data": {
      "application/vnd.plotly.v1+json": {
       "config": {
        "plotlyServerURL": "https://plot.ly"
       },
       "data": [
        {
         "alignmentgroup": "True",
         "hovertemplate": "Severity=abrasion<br>Site Category=%{x}<br>Number of Incidents=%{y}<extra></extra>",
         "legendgroup": "abrasion",
         "marker": {
          "color": "rgb(136, 204, 238)",
          "pattern": {
           "shape": ""
          }
         },
         "name": "abrasion",
         "offsetgroup": "abrasion",
         "orientation": "v",
         "showlegend": true,
         "textfont": {
          "size": 12
         },
         "textposition": "outside",
         "texttemplate": "%{y}",
         "type": "bar",
         "x": [
          "coastal",
          "estuary_harbour",
          "island_open_ocean",
          "ocean_pelagic",
          "river"
         ],
         "xaxis": "x",
         "y": [
          20,
          4,
          6,
          1,
          4
         ],
         "yaxis": "y"
        },
        {
         "alignmentgroup": "True",
         "hovertemplate": "Severity=fatality<br>Site Category=%{x}<br>Number of Incidents=%{y}<extra></extra>",
         "legendgroup": "fatality",
         "marker": {
          "color": "rgb(204, 102, 119)",
          "pattern": {
           "shape": ""
          }
         },
         "name": "fatality",
         "offsetgroup": "fatality",
         "orientation": "v",
         "showlegend": true,
         "textfont": {
          "size": 12
         },
         "textposition": "outside",
         "texttemplate": "%{y}",
         "type": "bar",
         "x": [
          "coastal",
          "river"
         ],
         "xaxis": "x",
         "y": [
          3,
          1
         ],
         "yaxis": "y"
        },
        {
         "alignmentgroup": "True",
         "hovertemplate": "Severity=lacerations<br>Site Category=%{x}<br>Number of Incidents=%{y}<extra></extra>",
         "legendgroup": "lacerations",
         "marker": {
          "color": "rgb(221, 204, 119)",
          "pattern": {
           "shape": ""
          }
         },
         "name": "lacerations",
         "offsetgroup": "lacerations",
         "orientation": "v",
         "showlegend": true,
         "textfont": {
          "size": 12
         },
         "textposition": "outside",
         "texttemplate": "%{y}",
         "type": "bar",
         "x": [
          "coastal"
         ],
         "xaxis": "x",
         "y": [
          2
         ],
         "yaxis": "y"
        },
        {
         "alignmentgroup": "True",
         "hovertemplate": "Severity=major_lacerations<br>Site Category=%{x}<br>Number of Incidents=%{y}<extra></extra>",
         "legendgroup": "major_lacerations",
         "marker": {
          "color": "rgb(17, 119, 51)",
          "pattern": {
           "shape": ""
          }
         },
         "name": "major_lacerations",
         "offsetgroup": "major_lacerations",
         "orientation": "v",
         "showlegend": true,
         "textfont": {
          "size": 12
         },
         "textposition": "outside",
         "texttemplate": "%{y}",
         "type": "bar",
         "x": [
          "coastal",
          "estuary_harbour",
          "island_open_ocean",
          "ocean_pelagic",
          "river"
         ],
         "xaxis": "x",
         "y": [
          223,
          53,
          77,
          9,
          35
         ],
         "yaxis": "y"
        },
        {
         "alignmentgroup": "True",
         "hovertemplate": "Severity=minor_lacerations<br>Site Category=%{x}<br>Number of Incidents=%{y}<extra></extra>",
         "legendgroup": "minor_lacerations",
         "marker": {
          "color": "rgb(51, 34, 136)",
          "pattern": {
           "shape": ""
          }
         },
         "name": "minor_lacerations",
         "offsetgroup": "minor_lacerations",
         "orientation": "v",
         "showlegend": true,
         "textfont": {
          "size": 12
         },
         "textposition": "outside",
         "texttemplate": "%{y}",
         "type": "bar",
         "x": [
          "coastal",
          "estuary_harbour",
          "island_open_ocean",
          "ocean_pelagic",
          "river"
         ],
         "xaxis": "x",
         "y": [
          236,
          23,
          34,
          8,
          31
         ],
         "yaxis": "y"
        },
        {
         "alignmentgroup": "True",
         "hovertemplate": "Severity=other_teeth_marks<br>Site Category=%{x}<br>Number of Incidents=%{y}<extra></extra>",
         "legendgroup": "other_teeth_marks",
         "marker": {
          "color": "rgb(170, 68, 153)",
          "pattern": {
           "shape": ""
          }
         },
         "name": "other_teeth_marks",
         "offsetgroup": "other_teeth_marks",
         "orientation": "v",
         "showlegend": true,
         "textfont": {
          "size": 12
         },
         "textposition": "outside",
         "texttemplate": "%{y}",
         "type": "bar",
         "x": [
          "coastal",
          "estuary_harbour",
          "island_open_ocean",
          "ocean_pelagic",
          "river"
         ],
         "xaxis": "x",
         "y": [
          67,
          4,
          13,
          1,
          4
         ],
         "yaxis": "y"
        },
        {
         "alignmentgroup": "True",
         "hovertemplate": "Severity=punctures<br>Site Category=%{x}<br>Number of Incidents=%{y}<extra></extra>",
         "legendgroup": "punctures",
         "marker": {
          "color": "rgb(68, 170, 153)",
          "pattern": {
           "shape": ""
          }
         },
         "name": "punctures",
         "offsetgroup": "punctures",
         "orientation": "v",
         "showlegend": true,
         "textfont": {
          "size": 12
         },
         "textposition": "outside",
         "texttemplate": "%{y}",
         "type": "bar",
         "x": [
          "coastal"
         ],
         "xaxis": "x",
         "y": [
          3
         ],
         "yaxis": "y"
        },
        {
         "alignmentgroup": "True",
         "hovertemplate": "Severity=surface_wound<br>Site Category=%{x}<br>Number of Incidents=%{y}<extra></extra>",
         "legendgroup": "surface_wound",
         "marker": {
          "color": "rgb(153, 153, 51)",
          "pattern": {
           "shape": ""
          }
         },
         "name": "surface_wound",
         "offsetgroup": "surface_wound",
         "orientation": "v",
         "showlegend": true,
         "textfont": {
          "size": 12
         },
         "textposition": "outside",
         "texttemplate": "%{y}",
         "type": "bar",
         "x": [
          "coastal",
          "island_open_ocean",
          "river"
         ],
         "xaxis": "x",
         "y": [
          7,
          2,
          1
         ],
         "yaxis": "y"
        }
       ],
       "layout": {
        "bargap": 0.2,
        "bargroupgap": 0.1,
        "barmode": "group",
        "font": {
         "color": "white"
        },
        "height": 800,
        "legend": {
         "bgcolor": "rgba(0,0,0,0)",
         "borderwidth": 0,
         "font": {
          "size": 12
         },
         "title": {
          "text": "Severity"
         },
         "tracegroupgap": 0
        },
        "paper_bgcolor": "rgba(0,0,0,0)",
        "plot_bgcolor": "rgba(0,0,0,0)",
        "template": {
         "data": {
          "bar": [
           {
            "error_x": {
             "color": "#2a3f5f"
            },
            "error_y": {
             "color": "#2a3f5f"
            },
            "marker": {
             "line": {
              "color": "#E5ECF6",
              "width": 0.5
             },
             "pattern": {
              "fillmode": "overlay",
              "size": 10,
              "solidity": 0.2
             }
            },
            "type": "bar"
           }
          ],
          "barpolar": [
           {
            "marker": {
             "line": {
              "color": "#E5ECF6",
              "width": 0.5
             },
             "pattern": {
              "fillmode": "overlay",
              "size": 10,
              "solidity": 0.2
             }
            },
            "type": "barpolar"
           }
          ],
          "carpet": [
           {
            "aaxis": {
             "endlinecolor": "#2a3f5f",
             "gridcolor": "white",
             "linecolor": "white",
             "minorgridcolor": "white",
             "startlinecolor": "#2a3f5f"
            },
            "baxis": {
             "endlinecolor": "#2a3f5f",
             "gridcolor": "white",
             "linecolor": "white",
             "minorgridcolor": "white",
             "startlinecolor": "#2a3f5f"
            },
            "type": "carpet"
           }
          ],
          "choropleth": [
           {
            "colorbar": {
             "outlinewidth": 0,
             "ticks": ""
            },
            "type": "choropleth"
           }
          ],
          "contour": [
           {
            "colorbar": {
             "outlinewidth": 0,
             "ticks": ""
            },
            "colorscale": [
             [
              0,
              "#0d0887"
             ],
             [
              0.1111111111111111,
              "#46039f"
             ],
             [
              0.2222222222222222,
              "#7201a8"
             ],
             [
              0.3333333333333333,
              "#9c179e"
             ],
             [
              0.4444444444444444,
              "#bd3786"
             ],
             [
              0.5555555555555556,
              "#d8576b"
             ],
             [
              0.6666666666666666,
              "#ed7953"
             ],
             [
              0.7777777777777778,
              "#fb9f3a"
             ],
             [
              0.8888888888888888,
              "#fdca26"
             ],
             [
              1,
              "#f0f921"
             ]
            ],
            "type": "contour"
           }
          ],
          "contourcarpet": [
           {
            "colorbar": {
             "outlinewidth": 0,
             "ticks": ""
            },
            "type": "contourcarpet"
           }
          ],
          "heatmap": [
           {
            "colorbar": {
             "outlinewidth": 0,
             "ticks": ""
            },
            "colorscale": [
             [
              0,
              "#0d0887"
             ],
             [
              0.1111111111111111,
              "#46039f"
             ],
             [
              0.2222222222222222,
              "#7201a8"
             ],
             [
              0.3333333333333333,
              "#9c179e"
             ],
             [
              0.4444444444444444,
              "#bd3786"
             ],
             [
              0.5555555555555556,
              "#d8576b"
             ],
             [
              0.6666666666666666,
              "#ed7953"
             ],
             [
              0.7777777777777778,
              "#fb9f3a"
             ],
             [
              0.8888888888888888,
              "#fdca26"
             ],
             [
              1,
              "#f0f921"
             ]
            ],
            "type": "heatmap"
           }
          ],
          "heatmapgl": [
           {
            "colorbar": {
             "outlinewidth": 0,
             "ticks": ""
            },
            "colorscale": [
             [
              0,
              "#0d0887"
             ],
             [
              0.1111111111111111,
              "#46039f"
             ],
             [
              0.2222222222222222,
              "#7201a8"
             ],
             [
              0.3333333333333333,
              "#9c179e"
             ],
             [
              0.4444444444444444,
              "#bd3786"
             ],
             [
              0.5555555555555556,
              "#d8576b"
             ],
             [
              0.6666666666666666,
              "#ed7953"
             ],
             [
              0.7777777777777778,
              "#fb9f3a"
             ],
             [
              0.8888888888888888,
              "#fdca26"
             ],
             [
              1,
              "#f0f921"
             ]
            ],
            "type": "heatmapgl"
           }
          ],
          "histogram": [
           {
            "marker": {
             "pattern": {
              "fillmode": "overlay",
              "size": 10,
              "solidity": 0.2
             }
            },
            "type": "histogram"
           }
          ],
          "histogram2d": [
           {
            "colorbar": {
             "outlinewidth": 0,
             "ticks": ""
            },
            "colorscale": [
             [
              0,
              "#0d0887"
             ],
             [
              0.1111111111111111,
              "#46039f"
             ],
             [
              0.2222222222222222,
              "#7201a8"
             ],
             [
              0.3333333333333333,
              "#9c179e"
             ],
             [
              0.4444444444444444,
              "#bd3786"
             ],
             [
              0.5555555555555556,
              "#d8576b"
             ],
             [
              0.6666666666666666,
              "#ed7953"
             ],
             [
              0.7777777777777778,
              "#fb9f3a"
             ],
             [
              0.8888888888888888,
              "#fdca26"
             ],
             [
              1,
              "#f0f921"
             ]
            ],
            "type": "histogram2d"
           }
          ],
          "histogram2dcontour": [
           {
            "colorbar": {
             "outlinewidth": 0,
             "ticks": ""
            },
            "colorscale": [
             [
              0,
              "#0d0887"
             ],
             [
              0.1111111111111111,
              "#46039f"
             ],
             [
              0.2222222222222222,
              "#7201a8"
             ],
             [
              0.3333333333333333,
              "#9c179e"
             ],
             [
              0.4444444444444444,
              "#bd3786"
             ],
             [
              0.5555555555555556,
              "#d8576b"
             ],
             [
              0.6666666666666666,
              "#ed7953"
             ],
             [
              0.7777777777777778,
              "#fb9f3a"
             ],
             [
              0.8888888888888888,
              "#fdca26"
             ],
             [
              1,
              "#f0f921"
             ]
            ],
            "type": "histogram2dcontour"
           }
          ],
          "mesh3d": [
           {
            "colorbar": {
             "outlinewidth": 0,
             "ticks": ""
            },
            "type": "mesh3d"
           }
          ],
          "parcoords": [
           {
            "line": {
             "colorbar": {
              "outlinewidth": 0,
              "ticks": ""
             }
            },
            "type": "parcoords"
           }
          ],
          "pie": [
           {
            "automargin": true,
            "type": "pie"
           }
          ],
          "scatter": [
           {
            "fillpattern": {
             "fillmode": "overlay",
             "size": 10,
             "solidity": 0.2
            },
            "type": "scatter"
           }
          ],
          "scatter3d": [
           {
            "line": {
             "colorbar": {
              "outlinewidth": 0,
              "ticks": ""
             }
            },
            "marker": {
             "colorbar": {
              "outlinewidth": 0,
              "ticks": ""
             }
            },
            "type": "scatter3d"
           }
          ],
          "scattercarpet": [
           {
            "marker": {
             "colorbar": {
              "outlinewidth": 0,
              "ticks": ""
             }
            },
            "type": "scattercarpet"
           }
          ],
          "scattergeo": [
           {
            "marker": {
             "colorbar": {
              "outlinewidth": 0,
              "ticks": ""
             }
            },
            "type": "scattergeo"
           }
          ],
          "scattergl": [
           {
            "marker": {
             "colorbar": {
              "outlinewidth": 0,
              "ticks": ""
             }
            },
            "type": "scattergl"
           }
          ],
          "scattermapbox": [
           {
            "marker": {
             "colorbar": {
              "outlinewidth": 0,
              "ticks": ""
             }
            },
            "type": "scattermapbox"
           }
          ],
          "scatterpolar": [
           {
            "marker": {
             "colorbar": {
              "outlinewidth": 0,
              "ticks": ""
             }
            },
            "type": "scatterpolar"
           }
          ],
          "scatterpolargl": [
           {
            "marker": {
             "colorbar": {
              "outlinewidth": 0,
              "ticks": ""
             }
            },
            "type": "scatterpolargl"
           }
          ],
          "scatterternary": [
           {
            "marker": {
             "colorbar": {
              "outlinewidth": 0,
              "ticks": ""
             }
            },
            "type": "scatterternary"
           }
          ],
          "surface": [
           {
            "colorbar": {
             "outlinewidth": 0,
             "ticks": ""
            },
            "colorscale": [
             [
              0,
              "#0d0887"
             ],
             [
              0.1111111111111111,
              "#46039f"
             ],
             [
              0.2222222222222222,
              "#7201a8"
             ],
             [
              0.3333333333333333,
              "#9c179e"
             ],
             [
              0.4444444444444444,
              "#bd3786"
             ],
             [
              0.5555555555555556,
              "#d8576b"
             ],
             [
              0.6666666666666666,
              "#ed7953"
             ],
             [
              0.7777777777777778,
              "#fb9f3a"
             ],
             [
              0.8888888888888888,
              "#fdca26"
             ],
             [
              1,
              "#f0f921"
             ]
            ],
            "type": "surface"
           }
          ],
          "table": [
           {
            "cells": {
             "fill": {
              "color": "#EBF0F8"
             },
             "line": {
              "color": "white"
             }
            },
            "header": {
             "fill": {
              "color": "#C8D4E3"
             },
             "line": {
              "color": "white"
             }
            },
            "type": "table"
           }
          ]
         },
         "layout": {
          "annotationdefaults": {
           "arrowcolor": "#2a3f5f",
           "arrowhead": 0,
           "arrowwidth": 1
          },
          "autotypenumbers": "strict",
          "coloraxis": {
           "colorbar": {
            "outlinewidth": 0,
            "ticks": ""
           }
          },
          "colorscale": {
           "diverging": [
            [
             0,
             "#8e0152"
            ],
            [
             0.1,
             "#c51b7d"
            ],
            [
             0.2,
             "#de77ae"
            ],
            [
             0.3,
             "#f1b6da"
            ],
            [
             0.4,
             "#fde0ef"
            ],
            [
             0.5,
             "#f7f7f7"
            ],
            [
             0.6,
             "#e6f5d0"
            ],
            [
             0.7,
             "#b8e186"
            ],
            [
             0.8,
             "#7fbc41"
            ],
            [
             0.9,
             "#4d9221"
            ],
            [
             1,
             "#276419"
            ]
           ],
           "sequential": [
            [
             0,
             "#0d0887"
            ],
            [
             0.1111111111111111,
             "#46039f"
            ],
            [
             0.2222222222222222,
             "#7201a8"
            ],
            [
             0.3333333333333333,
             "#9c179e"
            ],
            [
             0.4444444444444444,
             "#bd3786"
            ],
            [
             0.5555555555555556,
             "#d8576b"
            ],
            [
             0.6666666666666666,
             "#ed7953"
            ],
            [
             0.7777777777777778,
             "#fb9f3a"
            ],
            [
             0.8888888888888888,
             "#fdca26"
            ],
            [
             1,
             "#f0f921"
            ]
           ],
           "sequentialminus": [
            [
             0,
             "#0d0887"
            ],
            [
             0.1111111111111111,
             "#46039f"
            ],
            [
             0.2222222222222222,
             "#7201a8"
            ],
            [
             0.3333333333333333,
             "#9c179e"
            ],
            [
             0.4444444444444444,
             "#bd3786"
            ],
            [
             0.5555555555555556,
             "#d8576b"
            ],
            [
             0.6666666666666666,
             "#ed7953"
            ],
            [
             0.7777777777777778,
             "#fb9f3a"
            ],
            [
             0.8888888888888888,
             "#fdca26"
            ],
            [
             1,
             "#f0f921"
            ]
           ]
          },
          "colorway": [
           "#636efa",
           "#EF553B",
           "#00cc96",
           "#ab63fa",
           "#FFA15A",
           "#19d3f3",
           "#FF6692",
           "#B6E880",
           "#FF97FF",
           "#FECB52"
          ],
          "font": {
           "color": "#2a3f5f"
          },
          "geo": {
           "bgcolor": "white",
           "lakecolor": "white",
           "landcolor": "#E5ECF6",
           "showlakes": true,
           "showland": true,
           "subunitcolor": "white"
          },
          "hoverlabel": {
           "align": "left"
          },
          "hovermode": "closest",
          "mapbox": {
           "style": "light"
          },
          "paper_bgcolor": "white",
          "plot_bgcolor": "#E5ECF6",
          "polar": {
           "angularaxis": {
            "gridcolor": "white",
            "linecolor": "white",
            "ticks": ""
           },
           "bgcolor": "#E5ECF6",
           "radialaxis": {
            "gridcolor": "white",
            "linecolor": "white",
            "ticks": ""
           }
          },
          "scene": {
           "xaxis": {
            "backgroundcolor": "#E5ECF6",
            "gridcolor": "white",
            "gridwidth": 2,
            "linecolor": "white",
            "showbackground": true,
            "ticks": "",
            "zerolinecolor": "white"
           },
           "yaxis": {
            "backgroundcolor": "#E5ECF6",
            "gridcolor": "white",
            "gridwidth": 2,
            "linecolor": "white",
            "showbackground": true,
            "ticks": "",
            "zerolinecolor": "white"
           },
           "zaxis": {
            "backgroundcolor": "#E5ECF6",
            "gridcolor": "white",
            "gridwidth": 2,
            "linecolor": "white",
            "showbackground": true,
            "ticks": "",
            "zerolinecolor": "white"
           }
          },
          "shapedefaults": {
           "line": {
            "color": "#2a3f5f"
           }
          },
          "ternary": {
           "aaxis": {
            "gridcolor": "white",
            "linecolor": "white",
            "ticks": ""
           },
           "baxis": {
            "gridcolor": "white",
            "linecolor": "white",
            "ticks": ""
           },
           "bgcolor": "#E5ECF6",
           "caxis": {
            "gridcolor": "white",
            "linecolor": "white",
            "ticks": ""
           }
          },
          "title": {
           "x": 0.05
          },
          "xaxis": {
           "automargin": true,
           "gridcolor": "white",
           "linecolor": "white",
           "ticks": "",
           "title": {
            "standoff": 15
           },
           "zerolinecolor": "white",
           "zerolinewidth": 2
          },
          "yaxis": {
           "automargin": true,
           "gridcolor": "white",
           "linecolor": "white",
           "ticks": "",
           "title": {
            "standoff": 15
           },
           "zerolinecolor": "white",
           "zerolinewidth": 2
          }
         }
        },
        "title": {
         "font": {
          "size": 20
         },
         "text": "Attack Severity by Site Category"
        },
        "width": 1200,
        "xaxis": {
         "anchor": "y",
         "domain": [
          0,
          1
         ],
         "title": {
          "text": "Site Category"
         }
        },
        "yaxis": {
         "anchor": "x",
         "domain": [
          0,
          1
         ],
         "title": {
          "text": "Number of Incidents"
         }
        }
       }
      }
     },
     "metadata": {},
     "output_type": "display_data"
    }
   ],
   "source": [
    "# Example usage for victim_injury vs victim_gender\n",
    "create_grouped_bar_chart(\n",
    "    df=shark_data,\n",
    "    x_col=\"site_category_cleaned\",\n",
    "    color_col=\"victim_injury\",\n",
    "    title=\"Injury Type by Victim Gender\",\n",
    "    x_label=\"Injury Type\",\n",
    "    color_label=\"Gender\",\n",
    ")\n",
    "\n",
    "create_grouped_bar_chart(\n",
    "    df=shark_data,\n",
    "    x_col=\"site_category_cleaned\",\n",
    "    color_col=\"injury_severity\",\n",
    "    title=\"Attack Severity by Site Category\",\n",
    "    x_label=\"Site Category\",\n",
    "    color_label=\"Severity\",\n",
    ")"
   ]
  },
  {
   "cell_type": "code",
   "execution_count": 55,
   "metadata": {},
   "outputs": [],
   "source": [
    "# df[\"site_category_cleaned\"].value_counts()"
   ]
  },
  {
   "cell_type": "code",
   "execution_count": null,
   "metadata": {},
   "outputs": [],
   "source": [
    "# df[\"site_category_cleaned\"].value_counts()\n",
    "# df[\"injury_severity\"].value_counts()"
   ]
  },
  {
   "cell_type": "code",
   "execution_count": null,
   "metadata": {},
   "outputs": [],
   "source": [
    "# df[\"injury_severity\"].value_counts().sum()"
   ]
  },
  {
   "cell_type": "code",
   "execution_count": 35,
   "metadata": {},
   "outputs": [
    {
     "data": {
      "text/plain": [
       "np.int64(1233)"
      ]
     },
     "execution_count": 35,
     "metadata": {},
     "output_type": "execute_result"
    }
   ],
   "source": [
    "# df[\"victim_injury\"].value_counts().sum()"
   ]
  },
  {
   "cell_type": "code",
   "execution_count": 36,
   "metadata": {},
   "outputs": [
    {
     "data": {
      "text/plain": [
       "np.int64(1233)"
      ]
     },
     "execution_count": 36,
     "metadata": {},
     "output_type": "execute_result"
    }
   ],
   "source": [
    "# df[\"victim_gender\"].value_counts().sum()"
   ]
  },
  {
   "cell_type": "code",
   "execution_count": 59,
   "metadata": {},
   "outputs": [],
   "source": [
    "def create_attack_severity_chart(df):\n",
    "    \"\"\"\n",
    "    Creates a grouped bar chart for attack severity by site category.\n",
    "\n",
    "    Parameters:\n",
    "        df (pd.DataFrame): The input DataFrame containing filtered data.\n",
    "\n",
    "    Returns:\n",
    "        go.Figure: The Plotly bar chart figure.\n",
    "    \"\"\"\n",
    "    count_data = (\n",
    "        df.groupby([\"site_category_cleaned\", \"injury_severity\"])\n",
    "        .size()\n",
    "        .reset_index(name=\"count\")\n",
    "    )\n",
    "\n",
    "    bar_graph = px.bar(\n",
    "        count_data,\n",
    "        x=\"site_category_cleaned\",\n",
    "        y=\"count\",\n",
    "        color=\"injury_severity\",\n",
    "        barmode=\"group\",\n",
    "        title=\"Attack Severity by Site Category\",\n",
    "        labels={\n",
    "            \"site_category_cleaned\": \"Site Category\",\n",
    "            \"count\": \"Number of Incidents\",\n",
    "            \"injury_severity\": \"Severity\",\n",
    "        },\n",
    "        color_discrete_sequence=px.colors.qualitative.Safe,\n",
    "        width=1200,\n",
    "        height=800,\n",
    "    )\n",
    "\n",
    "    bar_graph.update_layout(\n",
    "        paper_bgcolor=\"rgba(0,0,0,0)\",\n",
    "        plot_bgcolor=\"rgba(0,0,0,0)\",\n",
    "        font_color=\"white\",\n",
    "        title_font=dict(size=20),\n",
    "        bargap=0.2,\n",
    "        bargroupgap=0.1,\n",
    "        legend=dict(\n",
    "            font=dict(size=12),\n",
    "            bgcolor=\"rgba(0,0,0,0)\",\n",
    "            borderwidth=0,\n",
    "        ),\n",
    "    )\n",
    "\n",
    "    bar_graph.update_traces(\n",
    "        width=None,\n",
    "        texttemplate=\"%{y}\",\n",
    "        textposition=\"outside\",\n",
    "        textfont_size=12,\n",
    "    )\n",
    "\n",
    "    return bar_graph\n",
    "\n",
    "\n",
    "# create_attack_severity_chart(shark_data)"
   ]
  },
  {
   "cell_type": "code",
   "execution_count": 60,
   "metadata": {},
   "outputs": [],
   "source": [
    "# def create_geographic_map(df, lat_col, lon_col, size_col, color_col, title, labels):\n",
    "#     \"\"\"\n",
    "#     Creates an interactive geographic map for data points.\n",
    "\n",
    "#     Parameters:\n",
    "#         df (pd.DataFrame): The input DataFrame containing data.\n",
    "#         lat_col (str): The column for latitude.\n",
    "#         lon_col (str): The column for longitude.\n",
    "#         size_col (str): The column determining the size of the points.\n",
    "#         color_col (str): The column determining the color of the points.\n",
    "#         title (str): The title of the map.\n",
    "#         labels (dict): A dictionary for labeling the axes and legend.\n",
    "\n",
    "#     Returns:\n",
    "#         go.Figure: The Plotly geographic map.\n",
    "#     \"\"\"\n",
    "#     geographic_map = px.scatter_geo(\n",
    "#         df,\n",
    "#         lat=lat_col,\n",
    "#         lon=lon_col,\n",
    "#         size=size_col,\n",
    "#         color=color_col,\n",
    "#         title=title,\n",
    "#         labels=labels,\n",
    "#         projection=\"natural earth\",\n",
    "#         color_continuous_scale=px.colors.sequential.Viridis,\n",
    "#     )\n",
    "\n",
    "#     geographic_map.update_layout(\n",
    "#         geo=dict(\n",
    "#             showland=True,\n",
    "#             landcolor=\"rgb(217, 217, 217)\",\n",
    "#             showcountries=True,\n",
    "#             countrycolor=\"rgb(204, 204, 204)\",\n",
    "#         ),\n",
    "#         title_font=dict(size=20),\n",
    "#     )\n",
    "\n",
    "#     return geographic_map"
   ]
  },
  {
   "cell_type": "code",
   "execution_count": 64,
   "metadata": {},
   "outputs": [],
   "source": [
    "# # Example usage for lat lon injury severity\n",
    "# injury_severity_data = df.groupby([\"latitude\", \"longitude\", \"injury_severity\"]).size().reset_index(name=\"count\")\n",
    "# create_geographic_map(\n",
    "#     df=injury_severity_data,\n",
    "#     lat_col=\"latitude\",\n",
    "#     lon_col=\"longitude\",\n",
    "#     size_col=\"count\",\n",
    "#     color_col=\"injury_severity\",\n",
    "#     title=\"Geographic Distribution of Injuries by Severity\",\n",
    "#     labels={\"count\": \"Incident Count\", \"injury_severity\": \"Severity\"}\n",
    "# )"
   ]
  },
  {
   "cell_type": "code",
   "execution_count": null,
   "metadata": {},
   "outputs": [],
   "source": [
    "# Example usage for shark_common_name\n",
    "# shark_data_grouped = df.groupby([\"latitude\", \"longitude\", \"shark_common_name\"]).size().reset_index(name=\"count\")\n",
    "# create_geographic_map(\n",
    "#     df=shark_data_grouped,\n",
    "#     lat_col=\"latitude\",\n",
    "#     lon_col=\"longitude\",\n",
    "#     size_col=\"count\",\n",
    "#     color_col=\"shark_common_name\",\n",
    "#     title=\"Geographic Distribution of Shark Types\",\n",
    "#     labels={\"count\": \"Incident Count\", \"shark_common_name\": \"Shark Type\"}\n",
    "# )"
   ]
  },
  {
   "cell_type": "code",
   "execution_count": 101,
   "metadata": {},
   "outputs": [],
   "source": [
    "def create_geographic_map(\n",
    "    df, lat_col, lon_col, size_col, color_col, title, labels\n",
    "):\n",
    "    \"\"\"\n",
    "    Creates an interactive geographic map for data points focused on Australia.\n",
    "\n",
    "    Parameters:\n",
    "        df (pd.DataFrame): The input DataFrame containing data.\n",
    "        lat_col (str): The column for latitude.\n",
    "        lon_col (str): The column for longitude.\n",
    "        size_col (str): The column determining the size of the points.\n",
    "        color_col (str): The column determining the color of the points.\n",
    "        title (str): The title of the map.\n",
    "        labels (dict): A dictionary for labeling the axes and legend.\n",
    "\n",
    "    Returns:\n",
    "        go.Figure: The Plotly geographic map.\n",
    "    \"\"\"\n",
    "    geographic_map = px.scatter_geo(\n",
    "        df,\n",
    "        lat=lat_col,\n",
    "        lon=lon_col,\n",
    "        size=size_col,\n",
    "        color=color_col,\n",
    "        title=title,\n",
    "        labels=labels,\n",
    "        projection=\"natural earth\",\n",
    "        color_continuous_scale=px.colors.sequential.Viridis,\n",
    "    )\n",
    "\n",
    "    geographic_map.update_layout(\n",
    "        geo=dict(\n",
    "            showland=True,\n",
    "            landcolor=\"rgb(217, 217, 217)\",\n",
    "            showcountries=True,\n",
    "            countrycolor=\"rgb(204, 204, 204)\",\n",
    "            lataxis=dict(range=[-55, -5]),  # Latitude range for Australia\n",
    "            lonaxis=dict(range=[100, 165]),  # Longitude range for Australia\n",
    "        ),\n",
    "        title_font=dict(size=20),\n",
    "        margin={\"r\": 5, \"t\": 40, \"l\": 5, \"b\": 10},\n",
    "    )\n",
    "\n",
    "    geographic_map.update_geos(\n",
    "        visible=False,\n",
    "        resolution=110,  # scope=\"australia\" - plotly hates me,\n",
    "        showcoastlines=True,\n",
    "        showcountries=True,\n",
    "        countrycolor=\"Black\",\n",
    "        showsubunits=True,\n",
    "        subunitcolor=\"Blue\",\n",
    "        showocean=True,\n",
    "        oceancolor=\"#1e88e5\",\n",
    "    )\n",
    "\n",
    "    return geographic_map"
   ]
  },
  {
   "cell_type": "code",
   "execution_count": 104,
   "metadata": {},
   "outputs": [
    {
     "data": {
      "application/vnd.plotly.v1+json": {
       "config": {
        "plotlyServerURL": "https://plot.ly"
       },
       "data": [
        {
         "geo": "geo",
         "hovertemplate": "Shark Type=tiger shark<br>Incident Count=%{marker.size}<br>latitude=%{lat}<br>longitude=%{lon}<extra></extra>",
         "lat": [
          "-10.05",
          "-10.116666666666667",
          "-10.15",
          "-10.2",
          "-10.233333333333333",
          "-10.25",
          "-10.25",
          "-10.383333333333333",
          "-10.566666666666666",
          "-10.566666666666666",
          "-10.583333333333334",
          "-10.6",
          "-10.6",
          "-10.666666666666666",
          "-11.6",
          "-11.666666666666666",
          "-11.933333333333334",
          "-11.9667",
          "-12.15",
          "-12.183333333333334",
          "-12.283333333333333",
          "-12.45",
          "-12.466666666666667",
          "-12.616666666666667",
          "-12.783333333333333",
          "-13.933333333333334",
          "-14.116666666666667",
          "-14.15",
          "-14.666666666666666",
          "-15.483333333333333",
          "-15.883333333333333",
          "-16.2",
          "-16.216666666666665",
          "-16.383333333333333",
          "-16.4",
          "-16.55",
          "-16.7",
          "-16.716666666666665",
          "-16.716666666666665",
          "-16.75",
          "-16.783333333333335",
          "-16.816666666666666",
          "-16.85",
          "-16.9",
          "-16.9",
          "-16.9",
          "-16.916666666666668",
          "-16.916666666666668",
          "-17.216666666666665",
          "-17.533333333333335",
          "-17.5804",
          "-17.7",
          "-17.716666666666665",
          "-17.966666666666665",
          "-17.966666666666665",
          "-17.983333333333334",
          "-18.133333333333333",
          "-18.233333333333334",
          "-18.233333333333334",
          "-18.249483333333334",
          "-18.516666666666666",
          "-18.533333333333335",
          "-18.666666666666668",
          "-18.683333333333334",
          "-18.7",
          "-18.716666666666665",
          "-18.833333333333332",
          "-18.9",
          "-19.133333333333333",
          "-19.166666666666668",
          "-19.233333333333334",
          "-19.233333333333334",
          "-19.25",
          "-19.8",
          "-19.85",
          "-20",
          "-20",
          "-20",
          "-20",
          "-20",
          "-20.25",
          "-20.25",
          "-20.3",
          "-20.383333333333333",
          "-20.666666666666668",
          "-20.783333333333335",
          "-20.816666666666666",
          "-20.9",
          "-20.966666666666665",
          "-21",
          "-21.05",
          "-21.066666666666666",
          "-21.133333333333333",
          "-21.4",
          "-23.083333333333332",
          "-23.116666666666667",
          "-23.116666666666667",
          "-23.133333333333333",
          "-23.1423",
          "-23.15",
          "-23.166666666666668",
          "-23.483333333333334",
          "-23.9",
          "-24.383333333333333",
          "-24.833333333333332",
          "-24.866666666666667",
          "-25",
          "-25.25",
          "-25.533333333333335",
          "-25.833333333333332",
          "-26.366666666666667",
          "-26.383333333333333",
          "-26.65",
          "-26.683333333333334",
          "-26.791",
          "-26.8",
          "-27.2333",
          "-27.233333333333334",
          "-27.25",
          "-27.283333333333335",
          "-27.283333333333335",
          "-27.316666666666666",
          "-27.433333333333334",
          "-27.583333333333332",
          "-27.733333333333334",
          "-28",
          "-28.016666666666666",
          "-28.1",
          "-28.15",
          "-28.15",
          "-28.15",
          "-28.166666666666668",
          "-28.166666666666668",
          "-28.166666666666668",
          "-28.233333333333334",
          "-28.633333333333333",
          "-28.85",
          "-29.416666666666668",
          "-29.6",
          "-30.266666666666666",
          "-30.30591",
          "-30.883333333333333",
          "-31.983333333333334",
          "-32.85",
          "-33.733333333333334",
          "-33.85",
          "-33.95",
          "-34.05",
          "-34.2256",
          "-35.65",
          "-9.4",
          "-9.416666666666666",
          "-9.516666666666667",
          "-9.583333333333334",
          "-9.633333333333333",
          "-9.75",
          "-9.816666666666666",
          "-9.95",
          "-9.95",
          "-9.966666666666667"
         ],
         "legendgroup": "tiger shark",
         "lon": [
          "143.06666666666666",
          "142.13333333333333",
          "142.18333333333334",
          "142.15",
          "142.48333333333332",
          "142.1",
          "142.11666666666667",
          "142.28333333333333",
          "142.2",
          "142.21666666666667",
          "142.21666666666667",
          "142.21666666666667",
          "142.61666666666667",
          "142.18333333333334",
          "130.95",
          "132.51666666666668",
          "132.61666666666667",
          "143.2333",
          "96.81666666666666",
          "136.76666666666668",
          "136.81666666666666",
          "130.78333333333333",
          "130.83333333333334",
          "143.45",
          "143.6",
          "143.73333333333332",
          "129.53333333333333",
          "144.5",
          "145.45",
          "145.4",
          "122",
          "145.75",
          "145.88333333333333",
          "122.91666666666667",
          "145.76666666666668",
          "139.4",
          "146.05",
          "145.63333333333333",
          "145.66666666666666",
          "145.96666666666667",
          "145.7",
          "145.76666666666668",
          "146.15",
          "145.85",
          "145.98333333333332",
          "146.23333333333332",
          "145.76666666666668",
          "145.99445",
          "145.96666666666667",
          "146.01666666666668",
          "122.1571",
          "146.51666666666668",
          "146.4",
          "122.16666666666667",
          "122.23333333333333",
          "122.23333333333333",
          "146.25",
          "146.31666666666666",
          "146.65",
          "146.18393333333333",
          "146.35",
          "146.23333333333332",
          "146.5",
          "147.1",
          "147.76666666666668",
          "146.56666666666666",
          "147.63333333333333",
          "147.73333333333332",
          "146.83333333333334",
          "148.38333333333333",
          "146.8",
          "146.81666666666666",
          "146.81666666666666",
          "149.05",
          "145.4",
          "119.33333333333333",
          "119.35",
          "119.36666666666666",
          "148.45",
          "148.8",
          "148.9333",
          "148.96666666666667",
          "118.58333333333333",
          "116.86666666666666",
          "117.18333333333334",
          "115.53333333333333",
          "149.48333333333332",
          "151.71666666666667",
          "149.75",
          "149.88333333333333",
          "149.18333333333334",
          "149.21666666666667",
          "149.18333333333334",
          "150.53333333333333",
          "150.73333333333332",
          "150.73333333333332",
          "150.75",
          "113.76666666666667",
          "113.7723",
          "150.9",
          "150.95",
          "151.2",
          "152.38333333333333",
          "113.38333333333334",
          "113.13333333333334",
          "152.35",
          "152.83333333333334",
          "152.85",
          "152.7",
          "113.88333333333334",
          "153.08333333333334",
          "153.08333333333334",
          "153.1",
          "153.13333333333333",
          "153.139",
          "153.13333333333333",
          "153.266663",
          "153.1",
          "153.25",
          "153.21666666666667",
          "153.41666666666666",
          "153.05",
          "153.16666666666666",
          "153.31666666666666",
          "153.68333333333334",
          "153.41666666666666",
          "153.43333333333334",
          "153.46666666666667",
          "153.1",
          "153.48333333333332",
          "153.53333333333333",
          "153.51666666666668",
          "153.53333333333333",
          "153.55",
          "153.56666666666666",
          "153.61666666666667",
          "113.9",
          "153.33333333333334",
          "153.33333333333334",
          "153.13333333333333",
          "115.03825",
          "153.08333333333334",
          "115.75",
          "151.83333333333334",
          "151.3",
          "151.25",
          "151.15",
          "151.08333333333334",
          "115.0609",
          "150.28333333333333",
          "142.66666666666666",
          "142.53333333333333",
          "141.56666666666666",
          "143.76666666666668",
          "142.68333333333334",
          "143.4",
          "142.7",
          "142.16666666666666",
          "142.18333333333334",
          "143.26666666666668"
         ],
         "marker": {
          "color": "#636efa",
          "size": [
           1,
           4,
           1,
           1,
           1,
           1,
           2,
           1,
           1,
           21,
           7,
           1,
           1,
           1,
           2,
           1,
           1,
           1,
           1,
           1,
           1,
           1,
           1,
           1,
           1,
           1,
           1,
           3,
           3,
           1,
           1,
           1,
           1,
           1,
           1,
           2,
           2,
           2,
           1,
           1,
           2,
           2,
           1,
           1,
           1,
           1,
           2,
           1,
           1,
           2,
           1,
           1,
           1,
           1,
           2,
           3,
           1,
           1,
           1,
           1,
           1,
           1,
           2,
           2,
           1,
           2,
           1,
           1,
           1,
           1,
           2,
           1,
           4,
           1,
           1,
           1,
           2,
           1,
           1,
           1,
           2,
           1,
           1,
           1,
           1,
           1,
           1,
           1,
           1,
           1,
           1,
           2,
           1,
           1,
           1,
           4,
           1,
           1,
           1,
           1,
           1,
           1,
           1,
           1,
           1,
           1,
           1,
           1,
           1,
           1,
           1,
           1,
           1,
           1,
           1,
           2,
           1,
           1,
           2,
           1,
           1,
           2,
           2,
           1,
           1,
           2,
           1,
           1,
           1,
           1,
           1,
           2,
           1,
           1,
           1,
           1,
           1,
           1,
           1,
           1,
           1,
           1,
           1,
           2,
           1,
           1,
           1,
           1,
           1,
           1,
           2,
           1,
           1,
           1,
           2,
           1,
           1,
           2,
           3,
           1
          ],
          "sizemode": "area",
          "sizeref": 0.0525,
          "symbol": "circle"
         },
         "mode": "markers",
         "name": "tiger shark",
         "showlegend": true,
         "type": "scattergeo"
        },
        {
         "geo": "geo",
         "hovertemplate": "Shark Type=whaler shark<br>Incident Count=%{marker.size}<br>latitude=%{lat}<br>longitude=%{lon}<extra></extra>",
         "lat": [
          "-10.116666666666667",
          "-10.654066666666667",
          "-11.4",
          "-12.033333333333333",
          "-12.116666666666667",
          "-12.15",
          "-12.166666666666666",
          "-12.1825",
          "-16.916666666666668",
          "-16.9337",
          "-17.1",
          "-20.35",
          "-20.61367",
          "-21.133333333333333",
          "-21.157416666666666",
          "-21.166666666666668",
          "-21.95",
          "-23.13333333",
          "-23.133333333333333",
          "-23.366666666666667",
          "-23.433333333333334",
          "-23.783333333333335",
          "-24.483333333333334",
          "-25.2398",
          "-25.483333333333334",
          "-26.366666666666667",
          "-26.75",
          "-27.083333333333332",
          "-27.233333333333334",
          "-27.416666666666668",
          "-27.433333333333334",
          "-27.45",
          "-27.466666666666665",
          "-27.933333333333334",
          "-28.633333333333333",
          "-28.7999",
          "-29.416666666666668",
          "-29.416666666666668",
          "-31.95",
          "-32.13333333333333",
          "-32.43333333333333",
          "-32.5361",
          "-32.7876 ",
          "-33.45",
          "-33.4566",
          "-33.55622",
          "-33.6463583",
          "-33.733333333333334",
          "-33.78333333333333",
          "-33.790172",
          "-33.8",
          "-33.85",
          "-33.85",
          "-33.88333333333333",
          "-33.93333333333333",
          "-33.95",
          "-34.3",
          "-34.56666666666667",
          "-34.666666666666664",
          "-34.67",
          "-35.1011",
          "-35.13333333333333",
          "-35.85",
          "-38.266666666666666",
          "-38.3669",
          "-38.38333333333333",
          "-9.4",
          "-9.863916666666666",
          "-9.95"
         ],
         "legendgroup": "whaler shark",
         "lon": [
          "142.13333333333333",
          "142.50723333333335",
          "130.4",
          "134.2",
          "136.8",
          "96.81666666666666",
          "143.38333333333333",
          "136.7819",
          "145.76666666666668",
          "145.9943",
          "146.4",
          "116.81666666666666",
          "117.1863",
          "149.2",
          "114.02188333333334",
          "149.23333333333332",
          "114.11666666666666",
          "113.7666667",
          "113.75",
          "150.5",
          "151.9",
          "113.5",
          "113.4",
          "153.1325",
          "152.98333333333332",
          "153.08333333333334",
          "153.13333333333333",
          "153.4",
          "153.21666666666667",
          "153.53333333333333",
          "153.16666666666666",
          "153.21666666666667",
          "153.21666666666667",
          "153.41666666666666",
          "153.61666666666667",
          "153.58",
          "153.33333333333334",
          "153.35",
          "115.85",
          "115.73333333333333",
          "152.51666666666668",
          "115.7424",
          "152.08002",
          "151.43333333333334",
          "151.4383",
          "134.85406",
          "115.0339741",
          "151.31666666666666",
          "151.28333333333333",
          "151.288598",
          "151.28333333333333",
          "121.88333333333334",
          "151.2",
          "151.26666666666668",
          "151.25",
          "151.15",
          "150.91666666666666",
          "150.86666666666667",
          "150.85",
          "150.84",
          "150.6892",
          "150.75",
          "150.16666666666666",
          "144.53333333333333",
          "144.2847",
          "142.5",
          "142.66666666666666",
          "144.79081666666667",
          "142.18333333333334"
         ],
         "marker": {
          "color": "#EF553B",
          "size": [
           1,
           1,
           1,
           1,
           1,
           1,
           1,
           1,
           1,
           1,
           1,
           1,
           1,
           1,
           1,
           1,
           1,
           1,
           1,
           1,
           3,
           1,
           1,
           1,
           2,
           1,
           1,
           1,
           1,
           1,
           1,
           1,
           1,
           2,
           2,
           1,
           1,
           1,
           1,
           1,
           1,
           1,
           1,
           1,
           1,
           1,
           1,
           1,
           2,
           1,
           1,
           1,
           1,
           2,
           1,
           1,
           1,
           1,
           1,
           1,
           1,
           1,
           1,
           1,
           1,
           1,
           1,
           1,
           1
          ],
          "sizemode": "area",
          "sizeref": 0.0525,
          "symbol": "circle"
         },
         "mode": "markers",
         "name": "whaler shark",
         "showlegend": true,
         "type": "scattergeo"
        },
        {
         "geo": "geo",
         "hovertemplate": "Shark Type=shark_not_known<br>Incident Count=%{marker.size}<br>latitude=%{lat}<br>longitude=%{lon}<extra></extra>",
         "lat": [
          "-10.2",
          "-10.55",
          "-10.566666666666666",
          "-12.45",
          "-14.5",
          "-16.55",
          "-16.716666666666665",
          "-17.216666666666665",
          "-19.166666666666668",
          "-19.25",
          "-19.516666666666666",
          "-20.083333333333332",
          "-20.25",
          "-20.2665",
          "-20.3441",
          "-20.3441",
          "-20.816666666666666",
          "-21.166666666666668",
          "-21.933",
          "-21.957",
          "-21.96676666666667",
          "-22.6799",
          "-23.2951",
          "-23.833333333333332",
          "-24.7293",
          "-24.8312",
          "-24.8333",
          "-25.8",
          "-26.466666666666665",
          "-27.052066666666665",
          "-27.0609",
          "-27.466666666666665",
          "-28.166666666666668",
          "-30.452",
          "-30.643181",
          "-31.145316666666666",
          "-32.516666666666666",
          "-32.567",
          "-32.717",
          "-33.55",
          "-33.6397",
          "-34.3333",
          "-34.36666666666667",
          "-34.5343",
          "-34.60465",
          "-34.6215",
          "-34.6817",
          "-34.733333333333334",
          "-35.1338",
          "-35.76",
          "-35.8333",
          "-36.8875",
          "-37.824429",
          "-38.2676",
          "-38.338",
          "-42.8"
         ],
         "legendgroup": "shark_not_known",
         "lon": [
          "142.15",
          "142.38333333333333",
          "142.16666666666666",
          "130.83333333333334",
          "144.91666666666666",
          "139.4",
          "154.68333333333334",
          "146.08333333333334",
          "146.83333333333334",
          "146.81666666666666",
          "148.83333333333334",
          "148.88333333333333",
          "148.9333",
          "148.8819",
          "114.143",
          "148.1893",
          "149.48333333333332",
          "149.23333333333332",
          "114.128",
          "148.1893",
          "149.48438333333334",
          "113.698",
          "151.7079",
          "151.25",
          "152.101",
          "152.4592",
          "152.4167",
          "153.01666666666668",
          "110.26666666666667",
          "153.05745",
          "153.2006",
          "153.23333333333332",
          "153.53333333333333",
          "152.8979",
          "153.008839",
          "115.1265",
          "115.68333333333334",
          "115.65",
          "152.1049",
          "151.31666666666666",
          "115.0263",
          "135.7500.",
          "115.11666666666666",
          "150.8746",
          "150.86778333333334",
          "150.8568",
          "150.8511",
          "138.03333333333333",
          "150.686",
          "150.2053",
          "150.1667",
          "149.9059",
          "140.783783",
          "144.5067",
          "141.6041",
          "147.53333333333333"
         ],
         "marker": {
          "color": "#00cc96",
          "size": [
           1,
           1,
           1,
           1,
           1,
           1,
           1,
           1,
           1,
           1,
           1,
           1,
           1,
           1,
           1,
           1,
           1,
           1,
           1,
           1,
           1,
           1,
           1,
           1,
           1,
           1,
           1,
           1,
           1,
           1,
           1,
           1,
           1,
           1,
           1,
           1,
           1,
           1,
           1,
           1,
           1,
           1,
           1,
           1,
           1,
           1,
           1,
           1,
           1,
           1,
           1,
           1,
           1,
           2,
           1,
           1
          ],
          "sizemode": "area",
          "sizeref": 0.0525,
          "symbol": "circle"
         },
         "mode": "markers",
         "name": "shark_not_known",
         "showlegend": true,
         "type": "scattergeo"
        },
        {
         "geo": "geo",
         "hovertemplate": "Shark Type=whitetip reef shark<br>Incident Count=%{marker.size}<br>latitude=%{lat}<br>longitude=%{lon}<extra></extra>",
         "lat": [
          "-10.566666666666666",
          "-13.8611",
          "-13.916666666666666",
          "-16.483333333333334",
          "-20.05",
          "-23.133333333333333"
         ],
         "legendgroup": "whitetip reef shark",
         "lon": [
          "142.21666666666667",
          "136.8116",
          "146.61666666666667",
          "145.45",
          "148.88333333333333",
          "113.76666666666667"
         ],
         "marker": {
          "color": "#ab63fa",
          "size": [
           1,
           1,
           2,
           1,
           1,
           1
          ],
          "sizemode": "area",
          "sizeref": 0.0525,
          "symbol": "circle"
         },
         "mode": "markers",
         "name": "whitetip reef shark",
         "showlegend": true,
         "type": "scattergeo"
        },
        {
         "geo": "geo",
         "hovertemplate": "Shark Type=wobbegong<br>Incident Count=%{marker.size}<br>latitude=%{lat}<br>longitude=%{lon}<extra></extra>",
         "lat": [
          "-12.15",
          "-12.366666666666667",
          "-16.383333333333333",
          "-16.85",
          "-17.933333333333334",
          "-19.25",
          "-23.566666666666666",
          "-25.9",
          "-26.416666666666668",
          "-26.466666666666665",
          "-26.5",
          "-26.666666666666668",
          "-26.683333333333334",
          "-26.8",
          "-27.083333333333332",
          "-27.266666666666666",
          "-27.316666666666666",
          "-27.35",
          "-27.383333333333333",
          "-27.516666666666666",
          "-28",
          "-28.1",
          "-28.15",
          "-28.15",
          "-28.183333333333334",
          "-28.533333333333335",
          "-28.633333333333333",
          "-28.766666666666666",
          "-28.816666666666666",
          "-29.1",
          "-29.433333333333334",
          "-29.466666666666665",
          "-29.916666666666668",
          "-30.066666666666666",
          "-30.2",
          "-30.20418",
          "-30.283333333333335",
          "-30.286024",
          "-30.296",
          "-30.3",
          "-30.566666666666666",
          "-30.633333333333333",
          "-30.883333333333333",
          "-30.916666666666668",
          "-31.034",
          "-31.19",
          "-31.416666666666668",
          "-31.4295",
          "-31.45",
          "-31.466666666666665",
          "-31.7789",
          "-31.816666666666666",
          "-31.833333333333332",
          "-31.85",
          "-31.983333333333334",
          "-31.983333333333334",
          "-31.983333333333334",
          "-31.983333333333334",
          "-31.989",
          "-32",
          "-32",
          "-32.016666666666666",
          "-32.016666666666666",
          "-32.11666666666667",
          "-32.166666666666664",
          "-32.16666667",
          "-32.2",
          "-32.21666666666667",
          "-32.43333333333333",
          "-32.45",
          "-32.53333333333333",
          "-32.6",
          "-32.666666666666664",
          "-32.68333333333333",
          "-32.71666666666667",
          "-32.7667",
          "-32.7876 ",
          "-32.798333",
          "-32.916666666666664",
          "-32.93333333333333",
          "-32.95",
          "-33",
          "-33.31666666666667",
          "-33.333333333333336",
          "-33.37",
          "-33.425018",
          "-33.45",
          "-33.5638",
          "-33.63333333333333",
          "-33.63333333333333",
          "-33.63333333333333",
          "-33.63333333333333",
          "-33.666666666666664",
          "-33.69999",
          "-33.71666666666667",
          "-33.75",
          "-33.78333333333333",
          "-33.8",
          "-33.8006",
          "-33.81666666666667",
          "-33.8416",
          "-33.85",
          "-33.85",
          "-33.85",
          "-33.8640",
          "-33.86666666666667",
          "-33.9",
          "-33.916666666666664",
          "-33.92622",
          "-33.93333333333333",
          "-33.9495",
          "-33.95",
          "-33.95",
          "-33.96666666666667",
          "-33.983333333333334",
          "-34",
          "-34.0557",
          "-34.21666666666667",
          "-34.2763",
          "-34.36666666666667",
          "-34.416666666666664",
          "-34.56666666666667",
          "-34.6038",
          "-34.666666666666664",
          "-34.733333333333334",
          "-34.830278",
          "-34.833333333333336",
          "-35.0031",
          "-35.016666666666666",
          "-35.03333333333333",
          "-35.05",
          "-35.06666666666667",
          "-35.233333333333334",
          "-35.5",
          "-35.516666666666666",
          "-35.53333333333333",
          "-35.53333333333333",
          "-35.6288",
          "-35.7",
          "-35.733333333333334",
          "-35.8",
          "-35.8139",
          "-36.71666666666667",
          "-36.88666666666667",
          "-37.05",
          "-37.31666666666667",
          "-37.833333333333336",
          "-37.96666666666667",
          "-38.05",
          "-38.266666666666666",
          "-38.333333333333336",
          "-38.4",
          "-38.416666666666664",
          "-38.43333333333333",
          "-38.46666666666667",
          "-38.833333333333336",
          "-41.05"
         ],
         "legendgroup": "wobbegong",
         "lon": [
          "96.81666666666666",
          "130.83333333333334",
          "122.91666666666667",
          "145.75",
          "145.93333333333334",
          "146.81666666666666",
          "151.31666666666666",
          "153.08333333333334",
          "150.06666666666666",
          "153.08333333333334",
          "153",
          "153.11666666666667",
          "153.13333333333333",
          "153.13333333333333",
          "153.45",
          "153.21666666666667",
          "153.05",
          "153.11666666666667",
          "153.43333333333334",
          "153.26666666666668",
          "153.41666666666666",
          "153.46666666666667",
          "153.51666666666668",
          "153.53333333333333",
          "153.56666666666666",
          "153.55",
          "153.6",
          "114.6",
          "114.61666666666666",
          "153.43333333333334",
          "153.35",
          "153.35",
          "153.38333333333333",
          "153.2",
          "159.15",
          "153.14904",
          "153.13333333333333",
          "153.1364",
          "153.11",
          "153.13333333333333",
          "152.98333333333332",
          "153.01666666666668",
          "153.05",
          "153.08333333333334",
          "115.3356",
          "152.98",
          "152.91666666666666",
          "152.9193",
          "152.91666666666666",
          "152.91666666666666",
          "115.7326",
          "115.73333333333333",
          "115.75",
          "115.75",
          "115.53333333333333",
          "115.73333333333333",
          "115.75",
          "152.56666666666666",
          "115.7526",
          "115.51666666666667",
          "152.7512",
          "115.73333333333333",
          "152.53333333333333",
          "115.65",
          "152.51666666666668",
          "115.65",
          "152.55",
          "152.6",
          "152.51666666666668",
          "152.53333333333333",
          "115.71666666666667",
          "152.31666666666666",
          "152.15",
          "152.03333333333333",
          "152.16666666666666",
          "152.0833",
          "153.08002",
          "152.079167",
          "151.78333333333333",
          "151.75",
          "151.75",
          "151.71666666666667",
          "115.63333333333334",
          "151.5",
          "151.4859",
          "151.342224",
          "151.43333333333334",
          "115.0629",
          "114.98333333333333",
          "115",
          "115.35",
          "151.31666666666666",
          "151.3",
          "151.2999",
          "151.3",
          "151.3",
          "151.28333333333333",
          "151.23333333333332",
          "151.2982",
          "151.3",
          "115.0221",
          "151.15",
          "151.2",
          "151.21666666666667",
          "114.9864",
          "151.2",
          "151.26666666666668",
          "151.25",
          "148.73561",
          "151.25",
          "151.2437",
          "151.15",
          "151.25",
          "114.98333333333333",
          "114.98333333333333",
          "151.2",
          "151.1551",
          "115.01666666666667",
          "115.052",
          "150.91666666666666",
          "137.91666666666666",
          "150.86666666666667",
          "150.8676",
          "150.85",
          "150.83333333333334",
          "150.7561",
          "150.75",
          "117.86595",
          "117.33333333333333",
          "150.71666666666667",
          "117.68333333333334",
          "117.05",
          "136.96666666666667",
          "138.7",
          "138.76666666666668",
          "138.66666666666666",
          "138.68333333333334",
          "150.323",
          "150.18333333333334",
          "150.2",
          "150.21666666666667",
          "150.2258",
          "149.98333333333332",
          "149.91318333333334",
          "149.9",
          "139.83333333333334",
          "144.93333333333334",
          "144.7",
          "140.7",
          "145.01666666666668",
          "144.31666666666666",
          "144.18333333333334",
          "144.18333333333334",
          "145.23333333333332",
          "144.88333333333333",
          "146.16666666666666",
          "145.75"
         ],
         "marker": {
          "color": "#FFA15A",
          "size": [
           1,
           1,
           1,
           1,
           1,
           1,
           1,
           1,
           1,
           1,
           2,
           1,
           1,
           2,
           1,
           1,
           1,
           1,
           1,
           1,
           1,
           1,
           1,
           2,
           1,
           1,
           2,
           2,
           1,
           4,
           1,
           1,
           1,
           1,
           1,
           1,
           1,
           1,
           1,
           1,
           1,
           2,
           1,
           1,
           1,
           1,
           1,
           1,
           1,
           1,
           1,
           1,
           1,
           3,
           7,
           2,
           1,
           1,
           1,
           3,
           1,
           1,
           1,
           1,
           1,
           1,
           2,
           1,
           2,
           1,
           1,
           1,
           1,
           1,
           1,
           1,
           1,
           1,
           1,
           2,
           1,
           1,
           2,
           1,
           1,
           1,
           2,
           1,
           1,
           1,
           1,
           1,
           3,
           1,
           3,
           1,
           3,
           1,
           1,
           2,
           1,
           1,
           1,
           1,
           1,
           2,
           1,
           2,
           1,
           2,
           1,
           1,
           1,
           4,
           2,
           1,
           1,
           3,
           1,
           1,
           3,
           1,
           1,
           2,
           1,
           1,
           1,
           1,
           1,
           2,
           1,
           1,
           1,
           2,
           1,
           1,
           1,
           1,
           1,
           1,
           1,
           1,
           1,
           1,
           1,
           1,
           1,
           1,
           1,
           1,
           1,
           1,
           1,
           1,
           1,
           1,
           1
          ],
          "sizemode": "area",
          "sizeref": 0.0525,
          "symbol": "circle"
         },
         "mode": "markers",
         "name": "wobbegong",
         "showlegend": true,
         "type": "scattergeo"
        },
        {
         "geo": "geo",
         "hovertemplate": "Shark Type=bull shark<br>Incident Count=%{marker.size}<br>latitude=%{lat}<br>longitude=%{lon}<extra></extra>",
         "lat": [
          "-12.451833333333333",
          "-13.97",
          "-14.166666666666666",
          "-16.4683",
          "-16.90621",
          "-17.683333333333334",
          "-17.9319",
          "-17.966666666666665",
          "-18.25",
          "-19.233333333333334",
          "-19.25",
          "-19.45",
          "-20.116666666666667",
          "-20.3124",
          "-20.35",
          "-20.7",
          "-21.116666666666667",
          "-21.166666666666668",
          "-21.932778",
          "-23.2411667",
          "-23.325",
          "-23.366666666666667",
          "-23.383333333333333",
          "-23.383333333333333",
          "-23.383333333333333",
          "-23.833333333333332",
          "-24.716666666666665",
          "-24.833333333333332",
          "-24.883333333333333",
          "-24.9",
          "-25.5",
          "-25.533333333333335",
          "-25.8",
          "-26.366666666666667",
          "-26.7994",
          "-26.8",
          "-26.983333333333334",
          "-27.25",
          "-27.316666666666666",
          "-27.366666666666667",
          "-27.4",
          "-27.416666666666668",
          "-27.433333333333334",
          "-27.433333333333334",
          "-27.466666666666665",
          "-27.466666666666665",
          "-27.466666666666665",
          "-27.483333333333334",
          "-27.483333333333334",
          "-27.516666666666666",
          "-27.516666666666666",
          "-27.533333333333335",
          "-27.55",
          "-27.55",
          "-27.6",
          "-27.633333333333333",
          "-27.7",
          "-27.85",
          "-27.983333333333334",
          "-27.983333333333334",
          "-28",
          "-28.033333333333335",
          "-28.05",
          "-28.05",
          "-28.083333333333332",
          "-28.1",
          "-28.133333333333333",
          "-28.15",
          "-28.316666666666666",
          "-28.8",
          "-28.866666666666667",
          "-28.866666666666667",
          "-29.4",
          "-29.416666666666668",
          "-29.433333333333334",
          "-29.45",
          "-29.533333333333335",
          "-30.283333333333335",
          "-30.3119",
          "-30.916666666666668",
          "-30.933333333333334",
          "-31.066666666666666",
          "-31.066666666666666",
          "-31.183333333333334",
          "-31.3",
          "-31.333333333333332",
          "-31.7",
          "-31.733333333333334",
          "-31.8464",
          "-31.883333333333333",
          "-31.9417",
          "-31.95",
          "-31.966666666666665",
          "-31.966666666666665",
          "-31.97889",
          "-32.0117",
          "-32.333",
          "-32.71666666666667",
          "-32.733333333333334",
          "-32.766666666666666",
          "-32.9",
          "-32.9",
          "-33.05",
          "-33.0833",
          "-33.083333333333336",
          "-33.483333333333334",
          "-33.55",
          "-33.766666666666666",
          "-33.766666666666666",
          "-33.78333333333333",
          "-33.78333333333333",
          "-33.8",
          "-33.8",
          "-33.81666666666667",
          "-33.81666666666667",
          "-33.81666666666667",
          "-33.81666666666667",
          "-33.81666666666667",
          "-33.833333333333336",
          "-33.833333333333336",
          "-33.833333333333336",
          "-33.85",
          "-33.85",
          "-33.85",
          "-33.85",
          "-33.85",
          "-33.86666666666667",
          "-33.86666666666667",
          "-33.86666666666667",
          "-33.93333333333333",
          "-33.93333333333333",
          "-33.95",
          "-33.95",
          "-33.983333333333334",
          "-33.983333333333334",
          "-34.53333333333333",
          "-34.6817",
          "-36.63333333333333",
          " -28.45602 "
         ],
         "legendgroup": "bull shark",
         "lon": [
          "143.34441666666666",
          "136.5933",
          "132.18333333333334",
          "123.5353",
          "145.86623",
          "139.36666666666667",
          "122.2081",
          "122.16666666666667",
          "146.666944",
          "146.81666666666666",
          "146.81666666666666",
          "146.6",
          "148.91666666666666",
          "118.6094",
          "148.93333333333334",
          "117.25",
          "149.15",
          "149.23333333333332",
          "114.117778",
          "113.1294",
          "113.791",
          "150.5",
          "150.51666666666668",
          "150.55",
          "150.63333333333333",
          "151.21666666666667",
          "152.26666666666668",
          "152.11666666666667",
          "113.65",
          "152.23333333333332",
          "152.71666666666667",
          "152.7",
          "153.05",
          "153.08333333333334",
          "153.0611",
          "153.11666666666667",
          "153.06666666666666",
          "153.25",
          "153.06666666666666",
          "153.15",
          "153.43333333333334",
          "153.11666666666667",
          "153.08333333333334",
          "153.15",
          "153",
          "153.01666666666668",
          "153.03333333333333",
          "153",
          "153.01666666666668",
          "152.9",
          "152.98333333333332",
          "153.83333333333334",
          "152.81666666666666",
          "153.18333333333334",
          "152.76666666666668",
          "153.45",
          "153.28333333333333",
          "153.4",
          "153.33333333333334",
          "153.41666666666666",
          "153.41666666666666",
          "153.4",
          "153.41666666666666",
          "153.43333333333334",
          "153.45",
          "153.1",
          "153.46666666666667",
          "153.53333333333333",
          "153.4",
          "153.26666666666668",
          "153.56666666666666",
          "153.58333333333334",
          "153.33333333333334",
          "152.33333333333334",
          "153.18333333333334",
          "153.18333333333334",
          "153.33333333333334",
          "153.13333333333333",
          "153.1427",
          "153.01666666666668",
          "153.01666666666668",
          "152.63333333333333",
          "152.83333333333334",
          "152.96666666666667",
          "152.96666666666667",
          "152.83333333333334",
          "152.75",
          "152.78333333333333",
          "152.7489",
          "151.46666666666667",
          "115.9097",
          "115.85",
          "115.76666666666667",
          "115.85",
          "115.8247",
          "115.7866",
          "152.533",
          "152.11666666666667",
          "152.18333333333334",
          "151.7",
          "151.75",
          "151.76666666666668",
          "151.63333333333333",
          "151.5833",
          "151.5",
          "151.3",
          "151.26666666666668",
          "151.2",
          "151.21666666666667",
          "151.21666666666667",
          "151.23333333333332",
          "151.01666666666668",
          "151.28333333333333",
          "151.05",
          "151.08333333333334",
          "151.15",
          "151.2",
          "151.25",
          "151.06666666666666",
          "151.16666666666666",
          "151.23333333333332",
          "151.15",
          "151.18333333333334",
          "151.21666666666667",
          "151.23333333333332",
          "151.25",
          "151.18333333333334",
          "151.2",
          "151.23333333333332",
          "150.96666666666667",
          "151.25",
          "151.15",
          "151.96666666666667",
          "151.06666666666666",
          "151.08333333333334",
          "150.86666666666667",
          "150.8511",
          "150",
          "153.54457"
         ],
         "marker": {
          "color": "#19d3f3",
          "size": [
           1,
           1,
           2,
           1,
           1,
           1,
           2,
           1,
           1,
           1,
           2,
           7,
           1,
           1,
           1,
           1,
           1,
           1,
           1,
           1,
           1,
           1,
           1,
           2,
           1,
           1,
           1,
           1,
           1,
           1,
           2,
           1,
           1,
           1,
           1,
           1,
           1,
           1,
           1,
           2,
           1,
           1,
           3,
           2,
           4,
           1,
           2,
           1,
           1,
           1,
           1,
           1,
           1,
           1,
           1,
           1,
           1,
           1,
           2,
           2,
           1,
           3,
           1,
           1,
           1,
           2,
           1,
           1,
           1,
           2,
           1,
           1,
           2,
           1,
           1,
           1,
           1,
           1,
           1,
           1,
           1,
           1,
           1,
           1,
           1,
           2,
           1,
           1,
           1,
           1,
           1,
           3,
           1,
           1,
           1,
           1,
           1,
           1,
           2,
           1,
           2,
           1,
           2,
           1,
           1,
           3,
           1,
           1,
           2,
           3,
           3,
           1,
           1,
           1,
           1,
           2,
           1,
           1,
           2,
           1,
           2,
           5,
           1,
           4,
           1,
           1,
           2,
           12,
           1,
           1,
           1,
           1,
           1,
           3,
           1,
           1,
           1,
           1,
           1
          ],
          "sizemode": "area",
          "sizeref": 0.0525,
          "symbol": "circle"
         },
         "mode": "markers",
         "name": "bull shark",
         "showlegend": true,
         "type": "scattergeo"
        },
        {
         "geo": "geo",
         "hovertemplate": "Shark Type=hammerhead shark <br>Incident Count=%{marker.size}<br>latitude=%{lat}<br>longitude=%{lon}<extra></extra>",
         "lat": [
          "-13.7333",
          "-14.666666666666666",
          "-16.216666666666665",
          "-16.666666666666668"
         ],
         "legendgroup": "hammerhead shark ",
         "lon": [
          "143.8667",
          "145.45",
          "145.88333333333333",
          "145.93333333333334"
         ],
         "marker": {
          "color": "#FF6692",
          "size": [
           1,
           1,
           2,
           1
          ],
          "sizemode": "area",
          "sizeref": 0.0525,
          "symbol": "circle"
         },
         "mode": "markers",
         "name": "hammerhead shark ",
         "showlegend": true,
         "type": "scattergeo"
        },
        {
         "geo": "geo",
         "hovertemplate": "Shark Type=grey reef shark<br>Incident Count=%{marker.size}<br>latitude=%{lat}<br>longitude=%{lon}<extra></extra>",
         "lat": [
          "-13.916666666666666",
          "-14.668",
          "-16.916666666666668",
          "-18.156",
          "-20.266666666666666",
          "-20.366666666666667",
          "-21.95",
          "-23.024116666666668"
         ],
         "legendgroup": "grey reef shark",
         "lon": [
          "146.61666666666667",
          "145.4638",
          "145.76666666666668",
          "147.48",
          "148.9",
          "116.86666666666666",
          "114.11666666666666",
          "113.1294"
         ],
         "marker": {
          "color": "#B6E880",
          "size": [
           1,
           1,
           1,
           1,
           1,
           1,
           1,
           1
          ],
          "sizemode": "area",
          "sizeref": 0.0525,
          "symbol": "circle"
         },
         "mode": "markers",
         "name": "grey reef shark",
         "showlegend": true,
         "type": "scattergeo"
        },
        {
         "geo": "geo",
         "hovertemplate": "Shark Type=unknown<br>Incident Count=%{marker.size}<br>latitude=%{lat}<br>longitude=%{lon}<extra></extra>",
         "lat": [
          "-14.06549",
          "-22.1325",
          "-31.9694",
          "-33.05",
          "-33.88333333333333",
          "-33.95",
          "-33.9516"
         ],
         "legendgroup": "unknown",
         "lon": [
          "144.26335",
          "113.8769",
          "152.5863946",
          "152.53333333333333",
          "151.26666666666668",
          "151.250.",
          "151.2603"
         ],
         "marker": {
          "color": "#FF97FF",
          "size": [
           1,
           1,
           1,
           1,
           1,
           1,
           1
          ],
          "sizemode": "area",
          "sizeref": 0.0525,
          "symbol": "circle"
         },
         "mode": "markers",
         "name": "unknown",
         "showlegend": true,
         "type": "scattergeo"
        },
        {
         "geo": "geo",
         "hovertemplate": "Shark Type=lemon shark<br>Incident Count=%{marker.size}<br>latitude=%{lat}<br>longitude=%{lon}<extra></extra>",
         "lat": [
          "-14.6787",
          "-20.233333333333334",
          "-20.6517",
          "-21.60092",
          "-23.2951",
          "-23.3"
         ],
         "legendgroup": "lemon shark",
         "lon": [
          "145.4483",
          "148.95",
          "115.5785",
          "114.5091",
          "151.7079",
          "151.71"
         ],
         "marker": {
          "color": "#FECB52",
          "size": [
           1,
           1,
           1,
           1,
           1,
           1
          ],
          "sizemode": "area",
          "sizeref": 0.0525,
          "symbol": "circle"
         },
         "mode": "markers",
         "name": "lemon shark",
         "showlegend": true,
         "type": "scattergeo"
        },
        {
         "geo": "geo",
         "hovertemplate": "Shark Type=silvertip shark<br>Incident Count=%{marker.size}<br>latitude=%{lat}<br>longitude=%{lon}<extra></extra>",
         "lat": [
          "-16.916666666666668"
         ],
         "legendgroup": "silvertip shark",
         "lon": [
          "149.25"
         ],
         "marker": {
          "color": "#636efa",
          "size": [
           1
          ],
          "sizemode": "area",
          "sizeref": 0.0525,
          "symbol": "circle"
         },
         "mode": "markers",
         "name": "silvertip shark",
         "showlegend": true,
         "type": "scattergeo"
        },
        {
         "geo": "geo",
         "hovertemplate": "Shark Type=blacktip reef shark<br>Incident Count=%{marker.size}<br>latitude=%{lat}<br>longitude=%{lon}<extra></extra>",
         "lat": [
          "-19.35",
          "-20.6564",
          "-23.433333333333334",
          "-33.6397"
         ],
         "legendgroup": "blacktip reef shark",
         "lon": [
          "147.36666666666667",
          "116.7081",
          "151.9",
          "115.0263"
         ],
         "marker": {
          "color": "#EF553B",
          "size": [
           1,
           1,
           1,
           1
          ],
          "sizemode": "area",
          "sizeref": 0.0525,
          "symbol": "circle"
         },
         "mode": "markers",
         "name": "blacktip reef shark",
         "showlegend": true,
         "type": "scattergeo"
        },
        {
         "geo": "geo",
         "hovertemplate": "Shark Type=white shark<br>Incident Count=%{marker.size}<br>latitude=%{lat}<br>longitude=%{lon}<extra></extra>",
         "lat": [
          "-21.95",
          "-24.8",
          "-26.067",
          "-26.65",
          "-27.083333333333332",
          "-27.335",
          "-27.416666666666668",
          "-27.966666666666665",
          "-28.1",
          "-28.116666666666667",
          "-28.164",
          "-28.166666666666668",
          "-28.183333333333334",
          "-28.2778",
          "-28.3037",
          "-28.33362",
          "-28.533333333333335",
          "-28.633333333333333",
          "-28.633333333333333",
          "-28.6337",
          "-28.683333333333334",
          "-28.7",
          "-28.716666666666665",
          "-28.783333333333335",
          "-28.816666666666666",
          "-28.833333333333332",
          "-28.8377",
          "-28.84",
          "-28.85",
          "-28.8632",
          "-28.866666666666667",
          "-28.883333333333333",
          "-28.883333333333333",
          "-29.1",
          "-29.4",
          "-29.416666666666668",
          "-29.433333333333334",
          "-29.483333333333334",
          "-29.59387",
          "-29.766666666666666",
          "-29.853",
          "-29.9453",
          "-30.1575",
          "-30.25",
          "-30.2962",
          "-30.566666666666666",
          "-30.833333333333332",
          "-30.866666666666667",
          "-30.883",
          "-30.883333333333333",
          "-31",
          "-31.1295",
          "-31.183333333333334",
          "-31.1897014",
          "-31.4312703",
          "-31.4333",
          "-31.45",
          "-31.466666666666665",
          "-31.666666666666668",
          "-31.7247",
          "-31.766666666666666",
          "-31.783333333333335",
          "-31.883333333333333",
          "-31.916666666666668",
          "-31.933333333333334",
          "-31.95",
          "-31.966666666666665",
          "-31.983333333333334",
          "-31.983333333333334",
          "-31.9908",
          "-32",
          "-32",
          "-32.016666666666666",
          "-32.0569",
          "-32.06666666666667",
          "-32.083333333333336",
          "-32.083333333333336",
          "-32.1521",
          "-32.166666666666664",
          "-32.166666666666664",
          "-32.18333333333333",
          "-32.30595",
          "-32.35",
          "-32.38333333333333",
          "-32.3842203682647",
          "-32.4",
          "-32.4436",
          "-32.5",
          "-32.516666666666666",
          "-32.5269",
          "-32.583333333333336",
          "-32.68333333333333",
          "-32.733333333333334",
          "-32.766666666666666",
          "-32.79734",
          "-32.85",
          "-32.916666666666664",
          "-32.93333333333333",
          "-32.983333333333334",
          "-33",
          "-33",
          "-33.0775",
          "-33.083333333333336",
          "-33.08945",
          "-33.116566666666664",
          "-33.13333333333333",
          "-33.18333333333333",
          "-33.18333333333333",
          "-33.233333333333334",
          "-33.266666666666666",
          "-33.3146",
          "-33.31666666666667",
          "-33.31666666666667",
          "-33.333333333333336",
          "-33.333333333333336",
          "-33.36666666666667",
          "-33.36666666666667",
          "-33.38333333333333",
          "-33.416666666666664",
          "-33.45",
          "-33.465",
          "-33.46666666666667",
          "-33.483333333333334",
          "-33.49762",
          "-33.516666666666666",
          "-33.53333333333333",
          "-33.5427",
          "-33.61666666666667",
          "-33.63333333333333",
          "-33.63333333333333",
          "-33.63333333333333",
          "-33.65",
          "-33.666666666666664",
          "-33.6702  ",
          "-33.7",
          "-33.733333333333334",
          "-33.733333333333334",
          "-33.75",
          "-33.766666666666666",
          "-33.78333333333333",
          "-33.83250092",
          "-33.833333333333336",
          "-33.833333333333336",
          "-33.8416",
          "-33.84848 ",
          "-33.85",
          "-33.85",
          "-33.85",
          "-33.8585",
          "-33.86666666666667",
          "-33.86666666666667",
          "-33.88333333333333",
          "-33.88333333333333",
          "-33.88333333333333",
          "-33.9",
          "-33.916666666666664",
          "-33.916666666666664",
          "-33.9222",
          "-33.93333333333333",
          "-33.95",
          "-33.950",
          "-33.9825",
          "-33.99029",
          "-33.993",
          "-34",
          "-34.03333333333333",
          "-34.21666666666667",
          "-34.25",
          "-34.25",
          "-34.28333333333333",
          "-34.3",
          "-34.35",
          "-34.425072",
          "-34.46666666666667",
          "-34.63333333333333",
          "-34.65",
          "-34.666666666666664",
          "-34.679356",
          "-34.68333333333333",
          "-34.71666666666667",
          "-34.833333333333336",
          "-34.833333333333336",
          "-34.8611",
          "-34.86666666666667",
          "-34.88003124",
          "-34.88333333333333",
          "-34.9",
          "-34.916666666666664",
          "-34.95",
          "-34.96666666666667",
          "-35",
          "-35.016666666666666",
          "-35.016666666666666",
          "-35.0316",
          "-35.03333333333333",
          "-35.03333333333333",
          "-35.05",
          "-35.0627",
          "-35.06666666666667",
          "-35.083333333333336",
          "-35.13333333333333",
          "-35.13333333333333",
          "-35.15",
          "-35.18333333",
          "-35.2",
          "-35.28333333333333",
          "-35.31666666666667",
          "-35.35",
          "-35.4",
          "-35.448",
          "-35.5",
          "-35.5",
          "-35.516666666666666",
          "-35.53333333333333",
          "-35.56666666666667",
          "-35.6308708317242",
          "-35.63333333333333",
          "-35.9295",
          "-36.71666666666667",
          "-37.5",
          "-37.583333333333336",
          "-37.833333333333336",
          "-37.85",
          "-37.85",
          "-37.86666666666667",
          "-37.86666666666667",
          "-37.9",
          "-37.95",
          "-37.983333333333334",
          "-38.016666666666666",
          "-38.0522",
          "-38.06115",
          "-38.1",
          "-38.13333333333333",
          "-38.25",
          "-38.28333333333333",
          "-38.28333333333333",
          "-38.28333333333333",
          "-38.333333333333336",
          "-38.333333333333336",
          "-38.333333333333336",
          "-38.333333333333336",
          "-38.36666666666667",
          "-38.36666666666667",
          "-38.38333333333333",
          "-38.38333333333333",
          "-38.416666666666664",
          "-38.416666666666664",
          "-38.45",
          "-38.46666666666667",
          "-38.46666666666667",
          "-38.5",
          "-38.516666666666666",
          "-38.53333333333333",
          "-38.5367",
          "-38.61666666666667",
          "-38.81666666666667",
          "-38.93333333333333",
          "-38.983333333333334",
          "-39.85",
          "-40.11666666666667",
          "-40.7667",
          "-40.916666666666664",
          "-40.93333333333333",
          "-41",
          "-41.233333333333334",
          "-41.43333333333333",
          "-41.86666666666667",
          "-42.63333333333333",
          "-43.13333333333333",
          "-43.15",
          "-43.166666666666664",
          "-43.233333333333334",
          "-43.233333333333334",
          "-43.28333333333333",
          "-43.35",
          "-43.516666666666666",
          "-43.516666666666666",
          "-43.56666666666667",
          "-43.6523"
         ],
         "legendgroup": "white shark",
         "lon": [
          "114.11666666666666",
          "152.45",
          "113.567",
          "153.08333333333334",
          "153.4",
          "153.235",
          "153.53333333333333",
          "153.41666666666666",
          "153.465",
          "153.46666666666667",
          "153.5476",
          "153.53333333333333",
          "153.55",
          "153.5774",
          "153.5742",
          "153.569698",
          "153.55",
          "153.6",
          "153.61666666666667",
          "153.6003",
          "153.61666666666667",
          "153.6",
          "113.78333333333333",
          "153.58333333333334",
          "153.53333333333333",
          "153.6",
          "153.6044",
          "153.601",
          "153.58333333333334",
          "153.5944",
          "153.58333333333334",
          "153.55",
          "153.56666666666666",
          "153.43333333333334",
          "153.33333333333334",
          "153.36666666666667",
          "153.36666666666667",
          "153.35",
          "153.3322",
          "153.28333333333333",
          "153.2715",
          "114.9824",
          "153.1502",
          "115.01666666666667",
          "153.1139",
          "152.98333333333332",
          "115.26666666666667",
          "153.03333333333333",
          "153.083",
          "153.05",
          "115.3",
          "153.0011",
          "152.96666666666667",
          "138.5179",
          "152.9081313",
          "152.9",
          "152.91666666666666",
          "152.91666666666666",
          "115.66666666666667",
          "115.7249",
          "115.71666666666667",
          "115.71666666666667",
          "115.75",
          "115.75",
          "115.75",
          "115.06666666666666",
          "115.75",
          "115.75",
          "152.56666666666666",
          "115.5215",
          "115.45",
          "115.55",
          "152.53333333333333",
          "115.74389",
          "152.53333333333333",
          "132.96666666666667",
          "132.98333333333332",
          "152.5053",
          "152.5",
          "152.51666666666668",
          "115.68333333333334",
          "152.52275",
          "115.71666666666667",
          "152.51666666666668",
          "133.925580207921",
          "115.73333333333333",
          "152.5279",
          "115.7",
          "115.7",
          "115.7217",
          "115.63333333333334",
          "152.18333333333334",
          "152.18333333333334",
          "134.2",
          "134.198273",
          "151.83333333333334",
          "151.78333333333333",
          "151.75",
          "137.78333333333333",
          "151.7",
          "151.71666666666667",
          "151.0725",
          "151.65",
          "151.05876666666666",
          "114.1649",
          "115.68333333333334",
          "134.65",
          "137.98333333333332",
          "151.53333333333333",
          "151.56666666666666",
          "115.635",
          "115.61666666666666",
          "115.63333333333334",
          "115.63333333333334",
          "151.5",
          "115.28333333333333",
          "151.43333333333334",
          "151.48333333333332",
          "151.45",
          "151.43333333333334",
          "151.435",
          "115.51666666666667",
          "151.41666666666666",
          "151.420378",
          "151.31666666666666",
          "115.03333333333333",
          "115.0392",
          "134.81666666666666",
          "115",
          "134.86666666666667",
          "151.31666666666666",
          "151.31666666666666",
          "151.3",
          "114.9951",
          "151.3",
          "151.3",
          "151.31666666666666",
          "151.3",
          "151.28333333333333",
          "151.28333333333333",
          "121.9968696",
          "121.91666666666667",
          "151.26666666666668",
          "115.0221",
          "121.91836",
          "114.96666666666667",
          "114.98333333333333",
          "121.88333333333334",
          "114.9843",
          "135.16666666666666",
          "151.2",
          "120.68333333333334",
          "121.81666666666666",
          "151.26666666666668",
          "151.26666666666668",
          "122.58333333333333",
          "151.25",
          "121.9032",
          "151.25",
          "123.91666666666667",
          "151.267",
          "114.9922",
          "114.99136",
          "151.1753",
          "151.65",
          "151.15",
          "138.01666666666668",
          "115.01666666666667",
          "135.16666666666666",
          "150.93333333333334",
          "150.93333333333334",
          "150.91666666666666",
          "150.893143",
          "136.01666666666668",
          "150.38333333333333",
          "150.85",
          "150.85",
          "137.684906.",
          "135.35",
          "135.15",
          "135.68333333333334",
          "138.46666666666667",
          "121.8919",
          "135.76666666666668",
          "118.404958",
          "137.45",
          "137",
          "138.58333333333334",
          "138.5",
          "138.5",
          "136.16666666666666",
          "117.33333333333333",
          "117.91666666666667",
          "152.9774722",
          "116.83333333333333",
          "150.71666666666667",
          "138.45",
          "117.9432",
          "150.78333333333333",
          "137.53333333333333",
          "117.95",
          "137.7",
          "138.4667",
          "136.85",
          "150.55",
          "138.43333333333334",
          "136.1",
          "150.46666666666667",
          "138.31666666666666",
          "138.318",
          "138.23333333333332",
          "138.71666666666667",
          "138.76666666666668",
          "138.61666666666667",
          "138.6",
          "138.46666666666667",
          "138.48333333333332",
          "137.5966",
          "149.98333333333332",
          "149.96666666666667",
          "140.33333333333334",
          "144.93333333333334",
          "144.9",
          "144.95",
          "144.86666666666667",
          "144.96666666666667",
          "144.98333333333332",
          "145",
          "145.01666666666668",
          "140.56666666666666",
          "140.7018",
          "144.04745",
          "144.65",
          "144.41666666666666",
          "141.78333333333333",
          "144.43333333333334",
          "144.45",
          "144.6",
          "141.6",
          "144.3",
          "144.61666666666667",
          "144.7",
          "144.26666666666668",
          "144.75",
          "142.48333333333332",
          "145.15",
          "142",
          "145.06666666666666",
          "144.08333333333334",
          "144.88333333333333",
          "145.01666666666668",
          "145.26666666666668",
          "145.08333333333334",
          "145.46666666666667",
          "143.9715",
          "142.98333333333332",
          "148.08333333333334",
          "146.23333333333332",
          "146.45",
          "143.83333333333334",
          "148.93333333333334",
          "145.3",
          "144.61666666666667",
          "146.98333333333332",
          "147.13333333333333",
          "148.3",
          "148.26666666666668",
          "148.3",
          "147.98333333333332",
          "148",
          "147.85",
          "147.98333333333332",
          "147.78333333333333",
          "148",
          "147.33333333333334",
          "147.35",
          "146.23333333333332",
          "146.9",
          "146.88333333333333",
          "146.277"
         ],
         "marker": {
          "color": "#00cc96",
          "size": [
           1,
           1,
           1,
           1,
           1,
           1,
           1,
           1,
           1,
           1,
           1,
           1,
           2,
           1,
           1,
           1,
           1,
           3,
           8,
           1,
           1,
           1,
           1,
           4,
           1,
           3,
           1,
           1,
           1,
           1,
           2,
           1,
           1,
           2,
           3,
           1,
           1,
           1,
           1,
           1,
           1,
           1,
           1,
           1,
           1,
           1,
           2,
           1,
           1,
           1,
           1,
           1,
           2,
           1,
           1,
           1,
           1,
           1,
           1,
           1,
           2,
           1,
           2,
           1,
           2,
           1,
           1,
           4,
           1,
           1,
           2,
           1,
           1,
           1,
           1,
           5,
           1,
           1,
           1,
           1,
           1,
           1,
           1,
           2,
           1,
           1,
           1,
           1,
           1,
           1,
           1,
           2,
           1,
           2,
           1,
           2,
           4,
           7,
           1,
           1,
           2,
           1,
           1,
           1,
           1,
           1,
           1,
           1,
           1,
           1,
           1,
           1,
           1,
           1,
           1,
           1,
           1,
           1,
           1,
           1,
           1,
           1,
           1,
           1,
           1,
           1,
           1,
           1,
           2,
           1,
           1,
           1,
           1,
           1,
           1,
           1,
           1,
           2,
           1,
           4,
           1,
           1,
           1,
           3,
           1,
           2,
           1,
           1,
           1,
           1,
           1,
           1,
           1,
           5,
           3,
           1,
           4,
           1,
           4,
           1,
           1,
           1,
           1,
           1,
           1,
           3,
           1,
           1,
           1,
           1,
           1,
           1,
           1,
           1,
           1,
           1,
           1,
           1,
           1,
           1,
           1,
           1,
           1,
           1,
           2,
           1,
           3,
           2,
           1,
           3,
           2,
           1,
           1,
           1,
           1,
           1,
           1,
           1,
           1,
           1,
           1,
           1,
           1,
           1,
           1,
           3,
           2,
           1,
           1,
           1,
           1,
           2,
           1,
           1,
           1,
           1,
           1,
           1,
           1,
           1,
           1,
           2,
           2,
           1,
           1,
           1,
           2,
           1,
           1,
           1,
           1,
           1,
           1,
           1,
           1,
           1,
           1,
           1,
           2,
           1,
           1,
           1,
           2,
           1,
           3,
           1,
           1,
           1,
           1,
           1,
           3,
           2,
           1,
           1,
           1,
           1,
           1,
           1,
           1,
           1,
           1,
           1,
           1,
           2,
           1,
           1,
           1,
           1,
           2,
           1,
           1,
           1,
           1,
           1,
           1,
           1,
           1,
           1,
           1,
           1
          ],
          "sizemode": "area",
          "sizeref": 0.0525,
          "symbol": "circle"
         },
         "mode": "markers",
         "name": "white shark",
         "showlegend": true,
         "type": "scattergeo"
        },
        {
         "geo": "geo",
         "hovertemplate": "Shark Type=bronze whaler shark<br>Incident Count=%{marker.size}<br>latitude=%{lat}<br>longitude=%{lon}<extra></extra>",
         "lat": [
          "-23.433333333333334",
          "-26.666666666666668",
          "-27.183333333333334",
          "-28.252766666666666",
          "-28.2646",
          "-28.8",
          "-28.93019",
          "-30.25",
          "-30.81556",
          "-32.21666666666667",
          "-32.6",
          "-32.6",
          "-34.3",
          "-34.33834",
          "-34.416666666666664",
          "-34.96666666666667",
          "-35",
          "-35.333333333333336",
          "-35.6",
          "-37.03333333333333",
          "-37.96666666666667",
          "-37.983333333333334",
          "-38.166666666666664",
          "-38.21666666666667",
          "-38.266666666666666",
          "-38.37",
          "-38.416666666666664"
         ],
         "legendgroup": "bronze whaler shark",
         "lon": [
          "151.9",
          "153.11666666666667",
          "153.4",
          "153.59218333333334",
          "153.5777",
          "114.6",
          "114.7289",
          "115.01666666666667",
          "115.19234",
          "152.6",
          "115.61666666666666",
          "152.31666666666666",
          "150.93333333333334",
          "150.91347",
          "150.88333333333333",
          "138.5",
          "150.81666666666666",
          "150.46666666666667",
          "138.08333333333334",
          "139.73333333333332",
          "145",
          "145.01666666666668",
          "145.06666666666666",
          "145.01666666666668",
          "144.65",
          "144.28",
          "145.05"
         ],
         "marker": {
          "color": "#ab63fa",
          "size": [
           1,
           1,
           1,
           1,
           1,
           1,
           1,
           1,
           1,
           1,
           1,
           1,
           1,
           3,
           1,
           1,
           1,
           1,
           1,
           1,
           1,
           1,
           1,
           1,
           1,
           1,
           1
          ],
          "sizemode": "area",
          "sizeref": 0.0525,
          "symbol": "circle"
         },
         "mode": "markers",
         "name": "bronze whaler shark",
         "showlegend": true,
         "type": "scattergeo"
        },
        {
         "geo": "geo",
         "hovertemplate": "Shark Type=grey nurse shark<br>Incident Count=%{marker.size}<br>latitude=%{lat}<br>longitude=%{lon}<extra></extra>",
         "lat": [
          "-28.633333333333333",
          "-30.866666666666667",
          "-32.6",
          "-32.6036",
          "-32.7501",
          "-32.7667",
          "-32.7876",
          "-33.8005",
          "-34.56666666666667"
         ],
         "legendgroup": "grey nurse shark",
         "lon": [
          "153.61666666666667",
          "153.03333333333333",
          "115.61666666666666",
          "115.6304",
          "152.1459",
          "152.1127",
          "152.08002",
          "151.2979",
          "150.86666666666667"
         ],
         "marker": {
          "color": "#FFA15A",
          "size": [
           1,
           1,
           1,
           1,
           1,
           1,
           1,
           1,
           1
          ],
          "sizemode": "area",
          "sizeref": 0.0525,
          "symbol": "circle"
         },
         "mode": "markers",
         "name": "grey nurse shark",
         "showlegend": true,
         "type": "scattergeo"
        },
        {
         "geo": "geo",
         "hovertemplate": "Shark Type=dogfish<br>Incident Count=%{marker.size}<br>latitude=%{lat}<br>longitude=%{lon}<extra></extra>",
         "lat": [
          "-30.633333333333333"
         ],
         "legendgroup": "dogfish",
         "lon": [
          "153.18333333333334"
         ],
         "marker": {
          "color": "#19d3f3",
          "size": [
           1
          ],
          "sizemode": "area",
          "sizeref": 0.0525,
          "symbol": "circle"
         },
         "mode": "markers",
         "name": "dogfish",
         "showlegend": true,
         "type": "scattergeo"
        },
        {
         "geo": "geo",
         "hovertemplate": "Shark Type=galapagos shark<br>Incident Count=%{marker.size}<br>latitude=%{lat}<br>longitude=%{lon}<extra></extra>",
         "lat": [
          "-31.516666666666666"
         ],
         "legendgroup": "galapagos shark",
         "lon": [
          "159.05"
         ],
         "marker": {
          "color": "#FF6692",
          "size": [
           3
          ],
          "sizemode": "area",
          "sizeref": 0.0525,
          "symbol": "circle"
         },
         "mode": "markers",
         "name": "galapagos shark",
         "showlegend": true,
         "type": "scattergeo"
        },
        {
         "geo": "geo",
         "hovertemplate": "Shark Type=shortfin mako shark<br>Incident Count=%{marker.size}<br>latitude=%{lat}<br>longitude=%{lon}<extra></extra>",
         "lat": [
          "-31.983333333333334",
          "-33.3"
         ],
         "legendgroup": "shortfin mako shark",
         "lon": [
          "115.53333333333333",
          "115.68333333333334"
         ],
         "marker": {
          "color": "#B6E880",
          "size": [
           1,
           1
          ],
          "sizemode": "area",
          "sizeref": 0.0525,
          "symbol": "circle"
         },
         "mode": "markers",
         "name": "shortfin mako shark",
         "showlegend": true,
         "type": "scattergeo"
        },
        {
         "geo": "geo",
         "hovertemplate": "Shark Type=blind shark<br>Incident Count=%{marker.size}<br>latitude=%{lat}<br>longitude=%{lon}<extra></extra>",
         "lat": [
          "-33.1"
         ],
         "legendgroup": "blind shark",
         "lon": [
          "151.65"
         ],
         "marker": {
          "color": "#FF97FF",
          "size": [
           1
          ],
          "sizemode": "area",
          "sizeref": 0.0525,
          "symbol": "circle"
         },
         "mode": "markers",
         "name": "blind shark",
         "showlegend": true,
         "type": "scattergeo"
        },
        {
         "geo": "geo",
         "hovertemplate": "Shark Type=dusky shark<br>Incident Count=%{marker.size}<br>latitude=%{lat}<br>longitude=%{lon}<extra></extra>",
         "lat": [
          "-33.44815 ",
          "-33.516666666666666",
          "-33.833333333333336",
          "-34.53333333333333",
          "-38.46666666666667"
         ],
         "legendgroup": "dusky shark",
         "lon": [
          "151.44666",
          "151.36666666666667",
          "151.16666666666666",
          "150.86666666666667",
          "145.01666666666668"
         ],
         "marker": {
          "color": "#FECB52",
          "size": [
           1,
           1,
           1,
           1,
           1
          ],
          "sizemode": "area",
          "sizeref": 0.0525,
          "symbol": "circle"
         },
         "mode": "markers",
         "name": "dusky shark",
         "showlegend": true,
         "type": "scattergeo"
        },
        {
         "geo": "geo",
         "hovertemplate": "Shark Type=broadnose sevengill shark<br>Incident Count=%{marker.size}<br>latitude=%{lat}<br>longitude=%{lon}<extra></extra>",
         "lat": [
          "-34.13333333333333",
          "-42.733333333333334"
         ],
         "legendgroup": "broadnose sevengill shark",
         "lon": [
          "137.45",
          "147.23333333333332"
         ],
         "marker": {
          "color": "#636efa",
          "size": [
           1,
           1
          ],
          "sizemode": "area",
          "sizeref": 0.0525,
          "symbol": "circle"
         },
         "mode": "markers",
         "name": "broadnose sevengill shark",
         "showlegend": true,
         "type": "scattergeo"
        },
        {
         "geo": "geo",
         "hovertemplate": "Shark Type=port jackson shark<br>Incident Count=%{marker.size}<br>latitude=%{lat}<br>longitude=%{lon}<extra></extra>",
         "lat": [
          "-37.88333333333333"
         ],
         "legendgroup": "port jackson shark",
         "lon": [
          "144.98333333333332"
         ],
         "marker": {
          "color": "#EF553B",
          "size": [
           1
          ],
          "sizemode": "area",
          "sizeref": 0.0525,
          "symbol": "circle"
         },
         "mode": "markers",
         "name": "port jackson shark",
         "showlegend": true,
         "type": "scattergeo"
        },
        {
         "geo": "geo",
         "hovertemplate": "Shark Type=sevengill shark<br>Incident Count=%{marker.size}<br>latitude=%{lat}<br>longitude=%{lon}<extra></extra>",
         "lat": [
          "-38.516666666666666"
         ],
         "legendgroup": "sevengill shark",
         "lon": [
          "145.08333333333334"
         ],
         "marker": {
          "color": "#00cc96",
          "size": [
           1
          ],
          "sizemode": "area",
          "sizeref": 0.0525,
          "symbol": "circle"
         },
         "mode": "markers",
         "name": "sevengill shark",
         "showlegend": true,
         "type": "scattergeo"
        },
        {
         "geo": "geo",
         "hovertemplate": "Shark Type=school shark<br>Incident Count=%{marker.size}<br>latitude=%{lat}<br>longitude=%{lon}<extra></extra>",
         "lat": [
          "-41.15"
         ],
         "legendgroup": "school shark",
         "lon": [
          "148.35"
         ],
         "marker": {
          "color": "#ab63fa",
          "size": [
           1
          ],
          "sizemode": "area",
          "sizeref": 0.0525,
          "symbol": "circle"
         },
         "mode": "markers",
         "name": "school shark",
         "showlegend": true,
         "type": "scattergeo"
        },
        {
         "geo": "geo",
         "hovertemplate": "Shark Type=seven gill shark <br>Incident Count=%{marker.size}<br>latitude=%{lat}<br>longitude=%{lon}<extra></extra>",
         "lat": [
          "-42.1451"
         ],
         "legendgroup": "seven gill shark ",
         "lon": [
          "148.2805"
         ],
         "marker": {
          "color": "#FFA15A",
          "size": [
           1
          ],
          "sizemode": "area",
          "sizeref": 0.0525,
          "symbol": "circle"
         },
         "mode": "markers",
         "name": "seven gill shark ",
         "showlegend": true,
         "type": "scattergeo"
        }
       ],
       "layout": {
        "geo": {
         "center": {},
         "countrycolor": "Black",
         "domain": {
          "x": [
           0,
           1
          ],
          "y": [
           0,
           1
          ]
         },
         "landcolor": "rgb(217, 217, 217)",
         "lataxis": {
          "range": [
           -55,
           -5
          ]
         },
         "lonaxis": {
          "range": [
           100,
           165
          ]
         },
         "oceancolor": "#1e88e5",
         "projection": {
          "type": "natural earth"
         },
         "resolution": 110,
         "showcoastlines": true,
         "showcountries": true,
         "showland": true,
         "showocean": true,
         "showsubunits": true,
         "subunitcolor": "Blue",
         "visible": false
        },
        "legend": {
         "itemsizing": "constant",
         "title": {
          "text": "Shark Type"
         },
         "tracegroupgap": 0
        },
        "margin": {
         "b": 10,
         "l": 5,
         "r": 5,
         "t": 40
        },
        "template": {
         "data": {
          "bar": [
           {
            "error_x": {
             "color": "#2a3f5f"
            },
            "error_y": {
             "color": "#2a3f5f"
            },
            "marker": {
             "line": {
              "color": "#E5ECF6",
              "width": 0.5
             },
             "pattern": {
              "fillmode": "overlay",
              "size": 10,
              "solidity": 0.2
             }
            },
            "type": "bar"
           }
          ],
          "barpolar": [
           {
            "marker": {
             "line": {
              "color": "#E5ECF6",
              "width": 0.5
             },
             "pattern": {
              "fillmode": "overlay",
              "size": 10,
              "solidity": 0.2
             }
            },
            "type": "barpolar"
           }
          ],
          "carpet": [
           {
            "aaxis": {
             "endlinecolor": "#2a3f5f",
             "gridcolor": "white",
             "linecolor": "white",
             "minorgridcolor": "white",
             "startlinecolor": "#2a3f5f"
            },
            "baxis": {
             "endlinecolor": "#2a3f5f",
             "gridcolor": "white",
             "linecolor": "white",
             "minorgridcolor": "white",
             "startlinecolor": "#2a3f5f"
            },
            "type": "carpet"
           }
          ],
          "choropleth": [
           {
            "colorbar": {
             "outlinewidth": 0,
             "ticks": ""
            },
            "type": "choropleth"
           }
          ],
          "contour": [
           {
            "colorbar": {
             "outlinewidth": 0,
             "ticks": ""
            },
            "colorscale": [
             [
              0,
              "#0d0887"
             ],
             [
              0.1111111111111111,
              "#46039f"
             ],
             [
              0.2222222222222222,
              "#7201a8"
             ],
             [
              0.3333333333333333,
              "#9c179e"
             ],
             [
              0.4444444444444444,
              "#bd3786"
             ],
             [
              0.5555555555555556,
              "#d8576b"
             ],
             [
              0.6666666666666666,
              "#ed7953"
             ],
             [
              0.7777777777777778,
              "#fb9f3a"
             ],
             [
              0.8888888888888888,
              "#fdca26"
             ],
             [
              1,
              "#f0f921"
             ]
            ],
            "type": "contour"
           }
          ],
          "contourcarpet": [
           {
            "colorbar": {
             "outlinewidth": 0,
             "ticks": ""
            },
            "type": "contourcarpet"
           }
          ],
          "heatmap": [
           {
            "colorbar": {
             "outlinewidth": 0,
             "ticks": ""
            },
            "colorscale": [
             [
              0,
              "#0d0887"
             ],
             [
              0.1111111111111111,
              "#46039f"
             ],
             [
              0.2222222222222222,
              "#7201a8"
             ],
             [
              0.3333333333333333,
              "#9c179e"
             ],
             [
              0.4444444444444444,
              "#bd3786"
             ],
             [
              0.5555555555555556,
              "#d8576b"
             ],
             [
              0.6666666666666666,
              "#ed7953"
             ],
             [
              0.7777777777777778,
              "#fb9f3a"
             ],
             [
              0.8888888888888888,
              "#fdca26"
             ],
             [
              1,
              "#f0f921"
             ]
            ],
            "type": "heatmap"
           }
          ],
          "heatmapgl": [
           {
            "colorbar": {
             "outlinewidth": 0,
             "ticks": ""
            },
            "colorscale": [
             [
              0,
              "#0d0887"
             ],
             [
              0.1111111111111111,
              "#46039f"
             ],
             [
              0.2222222222222222,
              "#7201a8"
             ],
             [
              0.3333333333333333,
              "#9c179e"
             ],
             [
              0.4444444444444444,
              "#bd3786"
             ],
             [
              0.5555555555555556,
              "#d8576b"
             ],
             [
              0.6666666666666666,
              "#ed7953"
             ],
             [
              0.7777777777777778,
              "#fb9f3a"
             ],
             [
              0.8888888888888888,
              "#fdca26"
             ],
             [
              1,
              "#f0f921"
             ]
            ],
            "type": "heatmapgl"
           }
          ],
          "histogram": [
           {
            "marker": {
             "pattern": {
              "fillmode": "overlay",
              "size": 10,
              "solidity": 0.2
             }
            },
            "type": "histogram"
           }
          ],
          "histogram2d": [
           {
            "colorbar": {
             "outlinewidth": 0,
             "ticks": ""
            },
            "colorscale": [
             [
              0,
              "#0d0887"
             ],
             [
              0.1111111111111111,
              "#46039f"
             ],
             [
              0.2222222222222222,
              "#7201a8"
             ],
             [
              0.3333333333333333,
              "#9c179e"
             ],
             [
              0.4444444444444444,
              "#bd3786"
             ],
             [
              0.5555555555555556,
              "#d8576b"
             ],
             [
              0.6666666666666666,
              "#ed7953"
             ],
             [
              0.7777777777777778,
              "#fb9f3a"
             ],
             [
              0.8888888888888888,
              "#fdca26"
             ],
             [
              1,
              "#f0f921"
             ]
            ],
            "type": "histogram2d"
           }
          ],
          "histogram2dcontour": [
           {
            "colorbar": {
             "outlinewidth": 0,
             "ticks": ""
            },
            "colorscale": [
             [
              0,
              "#0d0887"
             ],
             [
              0.1111111111111111,
              "#46039f"
             ],
             [
              0.2222222222222222,
              "#7201a8"
             ],
             [
              0.3333333333333333,
              "#9c179e"
             ],
             [
              0.4444444444444444,
              "#bd3786"
             ],
             [
              0.5555555555555556,
              "#d8576b"
             ],
             [
              0.6666666666666666,
              "#ed7953"
             ],
             [
              0.7777777777777778,
              "#fb9f3a"
             ],
             [
              0.8888888888888888,
              "#fdca26"
             ],
             [
              1,
              "#f0f921"
             ]
            ],
            "type": "histogram2dcontour"
           }
          ],
          "mesh3d": [
           {
            "colorbar": {
             "outlinewidth": 0,
             "ticks": ""
            },
            "type": "mesh3d"
           }
          ],
          "parcoords": [
           {
            "line": {
             "colorbar": {
              "outlinewidth": 0,
              "ticks": ""
             }
            },
            "type": "parcoords"
           }
          ],
          "pie": [
           {
            "automargin": true,
            "type": "pie"
           }
          ],
          "scatter": [
           {
            "fillpattern": {
             "fillmode": "overlay",
             "size": 10,
             "solidity": 0.2
            },
            "type": "scatter"
           }
          ],
          "scatter3d": [
           {
            "line": {
             "colorbar": {
              "outlinewidth": 0,
              "ticks": ""
             }
            },
            "marker": {
             "colorbar": {
              "outlinewidth": 0,
              "ticks": ""
             }
            },
            "type": "scatter3d"
           }
          ],
          "scattercarpet": [
           {
            "marker": {
             "colorbar": {
              "outlinewidth": 0,
              "ticks": ""
             }
            },
            "type": "scattercarpet"
           }
          ],
          "scattergeo": [
           {
            "marker": {
             "colorbar": {
              "outlinewidth": 0,
              "ticks": ""
             }
            },
            "type": "scattergeo"
           }
          ],
          "scattergl": [
           {
            "marker": {
             "colorbar": {
              "outlinewidth": 0,
              "ticks": ""
             }
            },
            "type": "scattergl"
           }
          ],
          "scattermapbox": [
           {
            "marker": {
             "colorbar": {
              "outlinewidth": 0,
              "ticks": ""
             }
            },
            "type": "scattermapbox"
           }
          ],
          "scatterpolar": [
           {
            "marker": {
             "colorbar": {
              "outlinewidth": 0,
              "ticks": ""
             }
            },
            "type": "scatterpolar"
           }
          ],
          "scatterpolargl": [
           {
            "marker": {
             "colorbar": {
              "outlinewidth": 0,
              "ticks": ""
             }
            },
            "type": "scatterpolargl"
           }
          ],
          "scatterternary": [
           {
            "marker": {
             "colorbar": {
              "outlinewidth": 0,
              "ticks": ""
             }
            },
            "type": "scatterternary"
           }
          ],
          "surface": [
           {
            "colorbar": {
             "outlinewidth": 0,
             "ticks": ""
            },
            "colorscale": [
             [
              0,
              "#0d0887"
             ],
             [
              0.1111111111111111,
              "#46039f"
             ],
             [
              0.2222222222222222,
              "#7201a8"
             ],
             [
              0.3333333333333333,
              "#9c179e"
             ],
             [
              0.4444444444444444,
              "#bd3786"
             ],
             [
              0.5555555555555556,
              "#d8576b"
             ],
             [
              0.6666666666666666,
              "#ed7953"
             ],
             [
              0.7777777777777778,
              "#fb9f3a"
             ],
             [
              0.8888888888888888,
              "#fdca26"
             ],
             [
              1,
              "#f0f921"
             ]
            ],
            "type": "surface"
           }
          ],
          "table": [
           {
            "cells": {
             "fill": {
              "color": "#EBF0F8"
             },
             "line": {
              "color": "white"
             }
            },
            "header": {
             "fill": {
              "color": "#C8D4E3"
             },
             "line": {
              "color": "white"
             }
            },
            "type": "table"
           }
          ]
         },
         "layout": {
          "annotationdefaults": {
           "arrowcolor": "#2a3f5f",
           "arrowhead": 0,
           "arrowwidth": 1
          },
          "autotypenumbers": "strict",
          "coloraxis": {
           "colorbar": {
            "outlinewidth": 0,
            "ticks": ""
           }
          },
          "colorscale": {
           "diverging": [
            [
             0,
             "#8e0152"
            ],
            [
             0.1,
             "#c51b7d"
            ],
            [
             0.2,
             "#de77ae"
            ],
            [
             0.3,
             "#f1b6da"
            ],
            [
             0.4,
             "#fde0ef"
            ],
            [
             0.5,
             "#f7f7f7"
            ],
            [
             0.6,
             "#e6f5d0"
            ],
            [
             0.7,
             "#b8e186"
            ],
            [
             0.8,
             "#7fbc41"
            ],
            [
             0.9,
             "#4d9221"
            ],
            [
             1,
             "#276419"
            ]
           ],
           "sequential": [
            [
             0,
             "#0d0887"
            ],
            [
             0.1111111111111111,
             "#46039f"
            ],
            [
             0.2222222222222222,
             "#7201a8"
            ],
            [
             0.3333333333333333,
             "#9c179e"
            ],
            [
             0.4444444444444444,
             "#bd3786"
            ],
            [
             0.5555555555555556,
             "#d8576b"
            ],
            [
             0.6666666666666666,
             "#ed7953"
            ],
            [
             0.7777777777777778,
             "#fb9f3a"
            ],
            [
             0.8888888888888888,
             "#fdca26"
            ],
            [
             1,
             "#f0f921"
            ]
           ],
           "sequentialminus": [
            [
             0,
             "#0d0887"
            ],
            [
             0.1111111111111111,
             "#46039f"
            ],
            [
             0.2222222222222222,
             "#7201a8"
            ],
            [
             0.3333333333333333,
             "#9c179e"
            ],
            [
             0.4444444444444444,
             "#bd3786"
            ],
            [
             0.5555555555555556,
             "#d8576b"
            ],
            [
             0.6666666666666666,
             "#ed7953"
            ],
            [
             0.7777777777777778,
             "#fb9f3a"
            ],
            [
             0.8888888888888888,
             "#fdca26"
            ],
            [
             1,
             "#f0f921"
            ]
           ]
          },
          "colorway": [
           "#636efa",
           "#EF553B",
           "#00cc96",
           "#ab63fa",
           "#FFA15A",
           "#19d3f3",
           "#FF6692",
           "#B6E880",
           "#FF97FF",
           "#FECB52"
          ],
          "font": {
           "color": "#2a3f5f"
          },
          "geo": {
           "bgcolor": "white",
           "lakecolor": "white",
           "landcolor": "#E5ECF6",
           "showlakes": true,
           "showland": true,
           "subunitcolor": "white"
          },
          "hoverlabel": {
           "align": "left"
          },
          "hovermode": "closest",
          "mapbox": {
           "style": "light"
          },
          "paper_bgcolor": "white",
          "plot_bgcolor": "#E5ECF6",
          "polar": {
           "angularaxis": {
            "gridcolor": "white",
            "linecolor": "white",
            "ticks": ""
           },
           "bgcolor": "#E5ECF6",
           "radialaxis": {
            "gridcolor": "white",
            "linecolor": "white",
            "ticks": ""
           }
          },
          "scene": {
           "xaxis": {
            "backgroundcolor": "#E5ECF6",
            "gridcolor": "white",
            "gridwidth": 2,
            "linecolor": "white",
            "showbackground": true,
            "ticks": "",
            "zerolinecolor": "white"
           },
           "yaxis": {
            "backgroundcolor": "#E5ECF6",
            "gridcolor": "white",
            "gridwidth": 2,
            "linecolor": "white",
            "showbackground": true,
            "ticks": "",
            "zerolinecolor": "white"
           },
           "zaxis": {
            "backgroundcolor": "#E5ECF6",
            "gridcolor": "white",
            "gridwidth": 2,
            "linecolor": "white",
            "showbackground": true,
            "ticks": "",
            "zerolinecolor": "white"
           }
          },
          "shapedefaults": {
           "line": {
            "color": "#2a3f5f"
           }
          },
          "ternary": {
           "aaxis": {
            "gridcolor": "white",
            "linecolor": "white",
            "ticks": ""
           },
           "baxis": {
            "gridcolor": "white",
            "linecolor": "white",
            "ticks": ""
           },
           "bgcolor": "#E5ECF6",
           "caxis": {
            "gridcolor": "white",
            "linecolor": "white",
            "ticks": ""
           }
          },
          "title": {
           "x": 0.05
          },
          "xaxis": {
           "automargin": true,
           "gridcolor": "white",
           "linecolor": "white",
           "ticks": "",
           "title": {
            "standoff": 15
           },
           "zerolinecolor": "white",
           "zerolinewidth": 2
          },
          "yaxis": {
           "automargin": true,
           "gridcolor": "white",
           "linecolor": "white",
           "ticks": "",
           "title": {
            "standoff": 15
           },
           "zerolinecolor": "white",
           "zerolinewidth": 2
          }
         }
        },
        "title": {
         "font": {
          "size": 20
         },
         "text": "Geographic Distribution of Shark Types"
        }
       }
      }
     },
     "metadata": {},
     "output_type": "display_data"
    }
   ],
   "source": [
    "# Example usage for lat lon injury severity\n",
    "injury_severity_data = (\n",
    "    df.groupby([\"latitude\", \"longitude\", \"injury_severity\"])\n",
    "    .size()\n",
    "    .reset_index(name=\"count\")\n",
    ")\n",
    "# create_geographic_map(\n",
    "#     df=injury_severity_data,\n",
    "#     lat_col=\"latitude\",\n",
    "#     lon_col=\"longitude\",\n",
    "#     size_col=\"count\",\n",
    "#     color_col=\"injury_severity\",\n",
    "#     title=\"Geographic Distribution of Injuries by Severity\",\n",
    "#     labels={\"count\": \"Incident Count\", \"injury_severity\": \"Severity\"},\n",
    "# )\n",
    "\n",
    "# Example usage for shark_common_name\n",
    "shark_data_grouped = (\n",
    "    df.groupby([\"latitude\", \"longitude\", \"shark_common_name\"])\n",
    "    .size()\n",
    "    .reset_index(name=\"count\")\n",
    ")\n",
    "create_geographic_map(\n",
    "    df=shark_data_grouped,\n",
    "    lat_col=\"latitude\",\n",
    "    lon_col=\"longitude\",\n",
    "    size_col=\"count\",\n",
    "    color_col=\"shark_common_name\",\n",
    "    title=\"Geographic Distribution of Shark Types\",\n",
    "    labels={\"count\": \"Incident Count\", \"shark_common_name\": \"Shark Type\"},\n",
    ")"
   ]
  },
  {
   "cell_type": "code",
   "execution_count": null,
   "metadata": {},
   "outputs": [],
   "source": []
  }
 ],
 "metadata": {
  "kernelspec": {
   "display_name": "tue_uvenv_311",
   "language": "python",
   "name": "python3"
  },
  "language_info": {
   "codemirror_mode": {
    "name": "ipython",
    "version": 3
   },
   "file_extension": ".py",
   "mimetype": "text/x-python",
   "name": "python",
   "nbconvert_exporter": "python",
   "pygments_lexer": "ipython3",
   "version": "3.11.11"
  }
 },
 "nbformat": 4,
 "nbformat_minor": 2
}
